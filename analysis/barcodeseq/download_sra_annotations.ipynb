{
 "cells": [
  {
   "attachments": {},
   "cell_type": "markdown",
   "metadata": {},
   "source": [
    "# Download SRA annotations"
   ]
  },
  {
   "attachments": {},
   "cell_type": "markdown",
   "metadata": {},
   "source": [
    "## Load libraries"
   ]
  },
  {
   "cell_type": "code",
   "execution_count": 1,
   "metadata": {
    "vscode": {
     "languageId": "r"
    }
   },
   "outputs": [],
   "source": [
    "suppressPackageStartupMessages(library(reutils))\n",
    "suppressPackageStartupMessages(library(xml2))\n",
    "suppressPackageStartupMessages(library(glue))\n",
    "suppressPackageStartupMessages(library(tidyverse))"
   ]
  },
  {
   "attachments": {},
   "cell_type": "markdown",
   "metadata": {},
   "source": [
    "## Define analysis-specific variables"
   ]
  },
  {
   "cell_type": "code",
   "execution_count": 2,
   "metadata": {
    "vscode": {
     "languageId": "r"
    }
   },
   "outputs": [],
   "source": [
    "bioproject_number <- \"PRJNA974090\""
   ]
  },
  {
   "attachments": {},
   "cell_type": "markdown",
   "metadata": {},
   "source": [
    "## Download SRA annotations and process it into required columns"
   ]
  },
  {
   "cell_type": "code",
   "execution_count": 3,
   "metadata": {
    "vscode": {
     "languageId": "r"
    }
   },
   "outputs": [
    {
     "data": {
      "text/html": [
       "<table class=\"dataframe\">\n",
       "<caption>A tibble: 9 × 2</caption>\n",
       "<thead>\n",
       "\t<tr><th scope=col>srr</th><th scope=col>sample_id</th></tr>\n",
       "\t<tr><th scope=col>&lt;chr&gt;</th><th scope=col>&lt;chr&gt;</th></tr>\n",
       "</thead>\n",
       "<tbody>\n",
       "\t<tr><td>SRR24783016</td><td>yeast_cyto_linkage</td></tr>\n",
       "\t<tr><td>SRR24728123</td><td>47_5_lib_5        </td></tr>\n",
       "\t<tr><td>SRR24728124</td><td>47_5_lib_2        </td></tr>\n",
       "\t<tr><td>SRR24726858</td><td>47_5_lib_4        </td></tr>\n",
       "\t<tr><td>SRR24726859</td><td>47_5_lib_1        </td></tr>\n",
       "\t<tr><td>SRR24725018</td><td>67lib4-2          </td></tr>\n",
       "\t<tr><td>SRR24725020</td><td>67lib2-2          </td></tr>\n",
       "\t<tr><td>SRR24651716</td><td>51lib2            </td></tr>\n",
       "\t<tr><td>SRR24651717</td><td>51lib1            </td></tr>\n",
       "</tbody>\n",
       "</table>\n"
      ],
      "text/latex": [
       "A tibble: 9 × 2\n",
       "\\begin{tabular}{ll}\n",
       " srr & sample\\_id\\\\\n",
       " <chr> & <chr>\\\\\n",
       "\\hline\n",
       "\t SRR24783016 & yeast\\_cyto\\_linkage\\\\\n",
       "\t SRR24728123 & 47\\_5\\_lib\\_5        \\\\\n",
       "\t SRR24728124 & 47\\_5\\_lib\\_2        \\\\\n",
       "\t SRR24726858 & 47\\_5\\_lib\\_4        \\\\\n",
       "\t SRR24726859 & 47\\_5\\_lib\\_1        \\\\\n",
       "\t SRR24725018 & 67lib4-2          \\\\\n",
       "\t SRR24725020 & 67lib2-2          \\\\\n",
       "\t SRR24651716 & 51lib2            \\\\\n",
       "\t SRR24651717 & 51lib1            \\\\\n",
       "\\end{tabular}\n"
      ],
      "text/markdown": [
       "\n",
       "A tibble: 9 × 2\n",
       "\n",
       "| srr &lt;chr&gt; | sample_id &lt;chr&gt; |\n",
       "|---|---|\n",
       "| SRR24783016 | yeast_cyto_linkage |\n",
       "| SRR24728123 | 47_5_lib_5         |\n",
       "| SRR24728124 | 47_5_lib_2         |\n",
       "| SRR24726858 | 47_5_lib_4         |\n",
       "| SRR24726859 | 47_5_lib_1         |\n",
       "| SRR24725018 | 67lib4-2           |\n",
       "| SRR24725020 | 67lib2-2           |\n",
       "| SRR24651716 | 51lib2             |\n",
       "| SRR24651717 | 51lib1             |\n",
       "\n"
      ],
      "text/plain": [
       "  srr         sample_id         \n",
       "1 SRR24783016 yeast_cyto_linkage\n",
       "2 SRR24728123 47_5_lib_5        \n",
       "3 SRR24728124 47_5_lib_2        \n",
       "4 SRR24726858 47_5_lib_4        \n",
       "5 SRR24726859 47_5_lib_1        \n",
       "6 SRR24725018 67lib4-2          \n",
       "7 SRR24725020 67lib2-2          \n",
       "8 SRR24651716 51lib2            \n",
       "9 SRR24651717 51lib1            "
      ]
     },
     "metadata": {},
     "output_type": "display_data"
    }
   ],
   "source": [
    "sra_info <- bioproject_number %>% \n",
    "    esearch(db = \"sra\") %>% \n",
    "    efetch(db = \"sra\") %>% \n",
    "    content(as = \"text\") %>%  \n",
    "    read_xml()\n",
    "\n",
    "sra_annotations <- sra_info %>% \n",
    "    xml_find_all(\"//EXPERIMENT\") %>% \n",
    "    map_df(xml_attrs) %>% \n",
    "    rename(srx = accession, sample_name = alias) %>%\n",
    "    # # XPATH search below: find node called EXPERIMENT_REF with attribute accession value set to srx accession\n",
    "    # # then go to the parent node and find all attributes\n",
    "    mutate(data = map(srx, function (x) bind_rows(xml_attrs(xml_find_all(sra_info, glue('//EXPERIMENT_REF[@accession=\"{x}\"]/..')))))) %>%\n",
    "    unnest(data) %>% \n",
    "    rename(srr = accession) %>% \n",
    "    # mutate(data = str_split(sample_name, \"_\", 2)) %>% \n",
    "    select(srr, sample_name) %>%\n",
    "    rename(sample_id = sample_name) %>% \n",
    "    # unnest_wider(data, names_sep = \"_\") %>% \n",
    "    # rename(sample_id = data_1, sample_name = data_2) #%>% \n",
    "    # filter(str_detect(sample_name, '51')) %>% # try out workflow on just a subset of the submitted files\n",
    "    write_tsv(\"../../annotations/sra_annotations.tsv\")\n",
    "\n",
    "sra_annotations"
   ]
  },
  {
   "cell_type": "code",
   "execution_count": null,
   "metadata": {
    "vscode": {
     "languageId": "r"
    }
   },
   "outputs": [],
   "source": []
  }
 ],
 "metadata": {
  "kernelspec": {
   "display_name": "R",
   "language": "R",
   "name": "ir"
  },
  "language_info": {
   "codemirror_mode": "r",
   "file_extension": ".r",
   "mimetype": "text/x-r-source",
   "name": "R",
   "pygments_lexer": "r",
   "version": "4.1.3"
  },
  "orig_nbformat": 4,
  "vscode": {
   "interpreter": {
    "hash": "33ccdda4403b85622dcca6b225ea57e4a6a8ea27d62bd4ef32f6f7605d06a567"
   }
  }
 },
 "nbformat": 4,
 "nbformat_minor": 2
}
