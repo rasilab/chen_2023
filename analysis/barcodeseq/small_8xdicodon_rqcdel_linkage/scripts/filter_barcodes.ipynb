{
 "cells": [
  {
   "cell_type": "markdown",
   "metadata": {},
   "source": [
    "# Filter barcodes to remove ones aligning to multiple inserts or second barcode\n",
    "\n",
    "Arvind Rasi Subramaniam\n",
    "\n",
    "27 Oct 2021"
   ]
  },
  {
   "cell_type": "markdown",
   "metadata": {},
   "source": [
    "**Edit this Rscript only in the accompanying .ipynb file. The `snakemake` workflow will automatically export it as a .R script.**"
   ]
  },
  {
   "cell_type": "markdown",
   "metadata": {},
   "source": [
    "## Load libraries"
   ]
  },
  {
   "cell_type": "code",
   "execution_count": 66,
   "metadata": {
    "vscode": {
     "languageId": "r"
    }
   },
   "outputs": [],
   "source": [
    "library(Biostrings)\n",
    "library(GenomicAlignments)\n",
    "library(plyranges)\n",
    "library(tidyverse)"
   ]
  },
  {
   "cell_type": "markdown",
   "metadata": {},
   "source": [
    "## Define analysis-specific variables"
   ]
  },
  {
   "cell_type": "code",
   "execution_count": 67,
   "metadata": {
    "vscode": {
     "languageId": "r"
    }
   },
   "outputs": [],
   "source": [
    "args <- commandArgs(trailingOnly = T)\n",
    "barcode1_alignment_file <- args[1]\n",
    "barcode_insert_file <- args[2]\n",
    "read_count_cutoff <- args[3]\n",
    "output_file <- args[4]"
   ]
  },
  {
   "cell_type": "markdown",
   "metadata": {},
   "source": [
    "## Read insert-barcode pair counts "
   ]
  },
  {
   "cell_type": "code",
   "execution_count": 68,
   "metadata": {
    "vscode": {
     "languageId": "r"
    }
   },
   "outputs": [
    {
     "name": "stderr",
     "output_type": "stream",
     "text": [
      "\u001b[1mRows: \u001b[22m\u001b[34m75741\u001b[39m \u001b[1mColumns: \u001b[22m\u001b[34m5\u001b[39m\n",
      "\u001b[36m──\u001b[39m \u001b[1mColumn specification\u001b[22m \u001b[36m────────────────────────────────────────────────────────\u001b[39m\n",
      "\u001b[1mDelimiter:\u001b[22m \",\"\n",
      "\u001b[31mchr\u001b[39m (2): barcode, sample\n",
      "\u001b[32mdbl\u001b[39m (3): insert_num, barcode_num, count\n",
      "\n",
      "\u001b[36mℹ\u001b[39m Use `spec()` to retrieve the full column specification for this data.\n",
      "\u001b[36mℹ\u001b[39m Specify the column types or set `show_col_types = FALSE` to quiet this message.\n"
     ]
    },
    {
     "name": "stdout",
     "output_type": "stream",
     "text": [
      "\u001b[90m# A tibble: 75,741 × 5\u001b[39m\n",
      "   insert_num barcode_num barcode                  sample read_count\n",
      "        \u001b[3m\u001b[90m<dbl>\u001b[39m\u001b[23m \u001b[3m\u001b[90m<chr>\u001b[39m\u001b[23m       \u001b[3m\u001b[90m<chr>\u001b[39m\u001b[23m                    \u001b[3m\u001b[90m<chr>\u001b[39m\u001b[23m       \u001b[3m\u001b[90m<dbl>\u001b[39m\u001b[23m\n",
      "\u001b[90m 1\u001b[39m         77 10_89lib1   TGGACTGCCCACCCCGGTGGCTCT 89lib1        741\n",
      "\u001b[90m 2\u001b[39m        174 10_89lib2   AGTTATGATATGCGCTGGTATTGT 89lib2        757\n",
      "\u001b[90m 3\u001b[39m         58 10_89lib4   GCCGGTCCGTCTAGTCATGTGTGG 89lib4        545\n",
      "\u001b[90m 4\u001b[39m        222 10_89lib5   GTGGAGTCTAGCTTTGAGTGTAGG 89lib5        257\n",
      "\u001b[90m 5\u001b[39m        109 10_89lib6   AGTTTTACTTAGGCCGCGACGGTC 89lib6        587\n",
      "\u001b[90m 6\u001b[39m         99 100_89lib1  GATGGTTCGTGTCAGGCCTTCATC 89lib1        546\n",
      "\u001b[90m 7\u001b[39m        180 100_89lib2  TGGGTGATTAGGCAGGGTGGTATC 89lib2        552\n",
      "\u001b[90m 8\u001b[39m        234 100_89lib3  TATTGGTTGCACTGGCTGGGGATT 89lib3        440\n",
      "\u001b[90m 9\u001b[39m        195 100_89lib4  CTTACGTGTTGCAATTTGGAGGGC 89lib4        397\n",
      "\u001b[90m10\u001b[39m        163 100_89lib5  GTGATCAGGCATCGCAATGGGGGG 89lib5        193\n",
      "\u001b[90m# … with 75,731 more rows\u001b[39m\n"
     ]
    }
   ],
   "source": [
    "insert_barcodes <- read_csv(barcode_insert_file) %>% \n",
    "  rename(read_count = count) %>%\n",
    "  filter(read_count >= as.integer(read_count_cutoff)) %>%\n",
    "  mutate(barcode_num = str_c(barcode_num, '_', sample)) %>%\n",
    "  arrange(barcode_num) %>%\n",
    "  print()"
   ]
  },
  {
   "attachments": {},
   "cell_type": "markdown",
   "metadata": {},
   "source": [
    "## How many barcode_1 have multiple inserts?"
   ]
  },
  {
   "cell_type": "code",
   "execution_count": 69,
   "metadata": {
    "vscode": {
     "languageId": "r"
    }
   },
   "outputs": [
    {
     "name": "stdout",
     "output_type": "stream",
     "text": [
      "\u001b[90m# A tibble: 0 × 6\u001b[39m\n",
      "\u001b[90m# … with 6 variables: insert_num <dbl>, barcode_num <chr>, barcode <chr>,\u001b[39m\n",
      "\u001b[90m#   sample <chr>, read_count <dbl>, n1 <int>\u001b[39m\n"
     ]
    }
   ],
   "source": [
    "many_to_one_barcode_combinations <- insert_barcodes %>% \n",
    "  group_by(barcode) %>% \n",
    "  mutate(n1 = dplyr::n()) %>% \n",
    "  ungroup() %>% \n",
    "  filter(n1 > 1) %>% \n",
    "  print()"
   ]
  },
  {
   "cell_type": "markdown",
   "metadata": {},
   "source": [
    "## Fields to read from BAM file"
   ]
  },
  {
   "cell_type": "code",
   "execution_count": 70,
   "metadata": {
    "vscode": {
     "languageId": "r"
    }
   },
   "outputs": [],
   "source": [
    "# extract the number of mismatches and total edits\n",
    "param <- ScanBamParam(\n",
    "  # what = scanBamWhat(),\n",
    "  what = c(\"qname\", \"flag\"),\n",
    "  # extract number of mismatches\n",
    "  tag = c(\"XM\"), \n",
    "  # include only snps; exclude indels\n",
    "  simpleCigar = T\n",
    ")"
   ]
  },
  {
   "cell_type": "markdown",
   "metadata": {},
   "source": [
    "## Read barcode vs barcode alignments for barcodes 1"
   ]
  },
  {
   "cell_type": "code",
   "execution_count": 71,
   "metadata": {
    "vscode": {
     "languageId": "r"
    }
   },
   "outputs": [
    {
     "name": "stderr",
     "output_type": "stream",
     "text": [
      "\n",
      "\u001b[36m──\u001b[39m \u001b[1mColumn specification\u001b[22m \u001b[36m────────────────────────────────────────────────────────\u001b[39m\n",
      "cols(\n",
      "  rname = \u001b[31mcol_character()\u001b[39m,\n",
      "  qname = \u001b[31mcol_character()\u001b[39m\n",
      ")\n",
      "\n"
     ]
    },
    {
     "name": "stdout",
     "output_type": "stream",
     "text": [
      "\u001b[90m# A tibble: 154,225 × 4\u001b[39m\n",
      "   rname    qname         flag    XM\n",
      "   \u001b[3m\u001b[90m<chr>\u001b[39m\u001b[23m    \u001b[3m\u001b[90m<chr>\u001b[39m\u001b[23m        \u001b[3m\u001b[90m<int>\u001b[39m\u001b[23m \u001b[3m\u001b[90m<int>\u001b[39m\u001b[23m\n",
      "\u001b[90m 1\u001b[39m 2_89lib1 2_89lib1         0     0\n",
      "\u001b[90m 2\u001b[39m 2_89lib1 6691_89lib1    256     1\n",
      "\u001b[90m 3\u001b[39m 2_89lib1 12020_89lib1   256     1\n",
      "\u001b[90m 4\u001b[39m 2_89lib1 12022_89lib1   256     1\n",
      "\u001b[90m 5\u001b[39m 2_89lib1 12023_89lib1   256     1\n",
      "\u001b[90m 6\u001b[39m 3_89lib1 3_89lib1         0     0\n",
      "\u001b[90m 7\u001b[39m 3_89lib1 5921_89lib1    256     1\n",
      "\u001b[90m 8\u001b[39m 3_89lib1 5923_89lib1    256     1\n",
      "\u001b[90m 9\u001b[39m 3_89lib1 7594_89lib1    256     1\n",
      "\u001b[90m10\u001b[39m 3_89lib1 7596_89lib1    256     1\n",
      "\u001b[90m# … with 154,215 more rows\u001b[39m\n"
     ]
    }
   ],
   "source": [
    "bamfile1 <- BamFile(barcode1_alignment_file)\n",
    "alns1 <- readGAlignments(bamfile1, param = param) %>% \n",
    "  as_tibble() %>% \n",
    "  mutate(rname = as.character(seqnames)) %>% \n",
    "  select(rname, qname, flag, XM) %>% \n",
    "  type_convert() %>% \n",
    "  print()"
   ]
  },
  {
   "cell_type": "markdown",
   "metadata": {},
   "source": [
    "## Find barcode_1 that are linked to distinct insert or might be sequencing errors"
   ]
  },
  {
   "cell_type": "code",
   "execution_count": 72,
   "metadata": {
    "vscode": {
     "languageId": "r"
    }
   },
   "outputs": [
    {
     "name": "stdout",
     "output_type": "stream",
     "text": [
      "\u001b[90m# A tibble: 32,563 × 1\u001b[39m\n",
      "   qname       \n",
      "   \u001b[3m\u001b[90m<chr>\u001b[39m\u001b[23m       \n",
      "\u001b[90m 1\u001b[39m 10000_89lib1\n",
      "\u001b[90m 2\u001b[39m 10000_89lib2\n",
      "\u001b[90m 3\u001b[39m 10000_89lib3\n",
      "\u001b[90m 4\u001b[39m 10000_89lib4\n",
      "\u001b[90m 5\u001b[39m 10000_89lib5\n",
      "\u001b[90m 6\u001b[39m 10000_89lib6\n",
      "\u001b[90m 7\u001b[39m 10000_89lib7\n",
      "\u001b[90m 8\u001b[39m 10001_89lib1\n",
      "\u001b[90m 9\u001b[39m 10001_89lib2\n",
      "\u001b[90m10\u001b[39m 10001_89lib3\n",
      "\u001b[90m# … with 32,553 more rows\u001b[39m\n"
     ]
    }
   ],
   "source": [
    "exclude1 <- alns1 %>% \n",
    "  filter(rname != qname) %>%\n",
    "  left_join(select(insert_barcodes, insert_num, barcode_num, read_count), by = c(\"rname\" = \"barcode_num\")) %>%\n",
    "  rename(rinsert = insert_num, rcount = read_count) %>%\n",
    "  right_join(select(insert_barcodes, insert_num, barcode_num, read_count), by = c(\"qname\" = \"barcode_num\")) %>%\n",
    "  rename(qinsert = insert_num, qcount = read_count) %>%\n",
    "  # this exludes:\n",
    "  # 1. barcodes that map to two distinct inserts\n",
    "  # 2. barcodes that got lower count than another homologous barcode with same insert\n",
    "  filter(!(qinsert == rinsert & qcount > rcount)) %>%\n",
    "  arrange(qname) %>% \n",
    "  distinct(qname) %>%\n",
    "  print()"
   ]
  },
  {
   "cell_type": "markdown",
   "metadata": {},
   "source": [
    "## Write barcodes that do not clash to output"
   ]
  },
  {
   "cell_type": "code",
   "execution_count": 76,
   "metadata": {
    "vscode": {
     "languageId": "r"
    }
   },
   "outputs": [
    {
     "name": "stdout",
     "output_type": "stream",
     "text": [
      "\u001b[90m# A tibble: 43,178 × 5\u001b[39m\n",
      "   sample insert_num barcode_num barcode                  linkage_count\n",
      "   \u001b[3m\u001b[90m<chr>\u001b[39m\u001b[23m       \u001b[3m\u001b[90m<dbl>\u001b[39m\u001b[23m       \u001b[3m\u001b[90m<int>\u001b[39m\u001b[23m \u001b[3m\u001b[90m<chr>\u001b[39m\u001b[23m                            \u001b[3m\u001b[90m<dbl>\u001b[39m\u001b[23m\n",
      "\u001b[90m 1\u001b[39m 89lib2         99           1 GAGGGCTTTGAGGCTGACTGTGGG           843\n",
      "\u001b[90m 2\u001b[39m 89lib2        200           2 GGCGAGTACGGGGCCAGTGTTCTC           830\n",
      "\u001b[90m 3\u001b[39m 89lib1        188           3 GGTTAGGACCACGGCATGTGCAGT           821\n",
      "\u001b[90m 4\u001b[39m 89lib2        238           4 GTGGCCTGTTCCTAGCGCGCCGCT           815\n",
      "\u001b[90m 5\u001b[39m 89lib2         92           5 GACAATGAGCGGGACGGGTTTAAT           814\n",
      "\u001b[90m 6\u001b[39m 89lib2        201           6 GATGACCTGGTTGCTATGTGCGGT           792\n",
      "\u001b[90m 7\u001b[39m 89lib2        222           7 GGGCATTGTGCTAAGTATGGGATG           784\n",
      "\u001b[90m 8\u001b[39m 89lib1         43           8 TTGACGCCCTGGTGTTGTCGTGGG           778\n",
      "\u001b[90m 9\u001b[39m 89lib1         21           9 GAGTGCGTGATGAGGTGGGGGGGT           777\n",
      "\u001b[90m10\u001b[39m 89lib2         34          10 GTTTAGAAGCTGTCCTATACGGTT           762\n",
      "\u001b[90m# … with 43,168 more rows\u001b[39m\n"
     ]
    }
   ],
   "source": [
    "filtered_barcodes <- insert_barcodes %>% \n",
    "  anti_join(select(exclude1, qname), by = c(\"barcode_num\" = \"qname\")) %>%\n",
    "  anti_join(select(many_to_one_barcode_combinations, barcode_num), by = \"barcode_num\") %>%\n",
    "  select(insert_num, barcode_num, barcode, read_count, sample) %>%\n",
    "  arrange(desc(read_count)) %>%\n",
    "  rename(linkage_count = read_count) %>%\n",
    "  mutate(barcode_num = 1:dplyr::n()) %>%\n",
    "  write_csv(output_file) %>%\n",
    "  print()"
   ]
  },
  {
   "cell_type": "code",
   "execution_count": null,
   "metadata": {
    "vscode": {
     "languageId": "r"
    }
   },
   "outputs": [],
   "source": []
  }
 ],
 "metadata": {
  "kernelspec": {
   "display_name": "R",
   "language": "R",
   "name": "ir"
  },
  "language_info": {
   "codemirror_mode": "r",
   "file_extension": ".r",
   "mimetype": "text/x-r-source",
   "name": "R",
   "pygments_lexer": "r",
   "version": "4.2.2"
  },
  "orig_nbformat": 4
 },
 "nbformat": 4,
 "nbformat_minor": 2
}
