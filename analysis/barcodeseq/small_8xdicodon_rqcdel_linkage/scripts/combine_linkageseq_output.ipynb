{
 "cells": [
  {
   "cell_type": "code",
   "execution_count": 14,
   "metadata": {},
   "outputs": [],
   "source": [
    "import os\n",
    "import pandas as pd\n",
    "import re\n",
    "import argparse"
   ]
  },
  {
   "cell_type": "code",
   "execution_count": 13,
   "metadata": {},
   "outputs": [
    {
     "name": "stderr",
     "output_type": "stream",
     "text": [
      "usage: ipykernel_launcher.py [-h] [--output_file OUTPUT_FILE]\n",
      "                             [-l [LINKAGEFILES ...]]\n",
      "ipykernel_launcher.py: error: unrecognized arguments: ../data/annotated_insert_barcode_counts/89lib2.csv ../data/annotated_insert_barcode_counts/89lib3.csv\n"
     ]
    },
    {
     "ename": "SystemExit",
     "evalue": "2",
     "output_type": "error",
     "traceback": [
      "An exception has occurred, use %tb to see the full traceback.\n",
      "\u001b[0;31mSystemExit\u001b[0m\u001b[0;31m:\u001b[0m 2\n"
     ]
    },
    {
     "name": "stderr",
     "output_type": "stream",
     "text": [
      "/opt/conda/lib/python3.9/site-packages/IPython/core/interactiveshell.py:3441: UserWarning: To exit: use 'exit', 'quit', or Ctrl-D.\n",
      "  warn(\"To exit: use 'exit', 'quit', or Ctrl-D.\", stacklevel=1)\n"
     ]
    }
   ],
   "source": [
    "parser = argparse.ArgumentParser()\n",
    "parser.add_argument('--output_file')\n",
    "parser.add_argument(\"-l\", \"--list\", type=str, nargs=\"*\", dest=\"linkagefiles\")\n",
    "args = parser.parse_args()\n",
    "print(args.output_file)\n",
    "print(args.linkagefiles)"
   ]
  },
  {
   "cell_type": "code",
   "execution_count": 6,
   "metadata": {},
   "outputs": [],
   "source": [
    "all_data = pd.DataFrame(columns=['insert_num', 'barcode_num', 'barcode', 'sample'])\n",
    "for file in args.linkagefiles:\n",
    "    if file.endswith('.csv'):\n",
    "        lib = pd.read_csv(file)\n",
    "        lib = lib.iloc[1: , :]\n",
    "        sample = re.search('(?<=annotated_insert_barcode_counts/)(.+)(?=.csv)', file).group(0)\n",
    "        lib['sample'] = sample\n",
    "        all_data = pd.concat([all_data, lib])\n",
    "    else: continue"
   ]
  },
  {
   "cell_type": "code",
   "execution_count": 8,
   "metadata": {},
   "outputs": [],
   "source": [
    "all_data = all_data.drop_duplicates(subset='barcode')"
   ]
  },
  {
   "cell_type": "code",
   "execution_count": 72,
   "metadata": {},
   "outputs": [],
   "source": [
    "all_data.to_csv(args.output_file, index = False)"
   ]
  }
 ],
 "metadata": {
  "kernelspec": {
   "display_name": "base",
   "language": "python",
   "name": "python3"
  },
  "language_info": {
   "codemirror_mode": {
    "name": "ipython",
    "version": 3
   },
   "file_extension": ".py",
   "mimetype": "text/x-python",
   "name": "python",
   "nbconvert_exporter": "python",
   "pygments_lexer": "ipython3",
   "version": "3.9.15"
  }
 },
 "nbformat": 4,
 "nbformat_minor": 2
}
