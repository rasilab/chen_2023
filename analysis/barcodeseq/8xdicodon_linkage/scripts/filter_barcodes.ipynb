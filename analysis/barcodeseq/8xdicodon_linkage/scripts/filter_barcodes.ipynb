{
 "cells": [
  {
   "cell_type": "markdown",
   "metadata": {},
   "source": [
    "# Filter barcodes to remove ones aligning to multiple inserts or second barcode\n",
    "\n",
    "Arvind Rasi Subramaniam\n",
    "\n",
    "27 Oct 2021"
   ]
  },
  {
   "cell_type": "markdown",
   "metadata": {},
   "source": [
    "**Edit this Rscript only in the accompanying .ipynb file. The `snakemake` workflow will automatically export it as a .R script.**"
   ]
  },
  {
   "cell_type": "markdown",
   "metadata": {},
   "source": [
    "## Load libraries"
   ]
  },
  {
   "cell_type": "code",
   "execution_count": null,
   "metadata": {
    "vscode": {
     "languageId": "r"
    }
   },
   "outputs": [],
   "source": [
    "library(Biostrings)\n",
    "library(GenomicAlignments)\n",
    "library(plyranges)\n",
    "library(tidyverse)"
   ]
  },
  {
   "cell_type": "markdown",
   "metadata": {},
   "source": [
    "## Define analysis-specific variables"
   ]
  },
  {
   "cell_type": "code",
   "execution_count": null,
   "metadata": {
    "vscode": {
     "languageId": "r"
    }
   },
   "outputs": [],
   "source": [
    "args <- commandArgs(trailingOnly = T)\n",
    "barcode1_alignment_file <- args[1]\n",
    "barcode_insert_file <- args[2]\n",
    "read_count_cutoff <- args[3]\n",
    "output_file <- args[4]\n",
    "\n",
    "# barcode1_alignment_file <- \"../data/ref_vs_ref_alignments/70lib5/alignment_barcode1.bam\"\n",
    "# barcode_insert_file <- \"../data/annotated_insert_barcode_counts/70lib5.csv\"\n",
    "# read_count_cutoff <- 1"
   ]
  },
  {
   "cell_type": "markdown",
   "metadata": {},
   "source": [
    "## Read insert-barcode pair counts "
   ]
  },
  {
   "cell_type": "code",
   "execution_count": null,
   "metadata": {
    "vscode": {
     "languageId": "r"
    }
   },
   "outputs": [],
   "source": [
    "insert_barcodes <- read_csv(barcode_insert_file) %>% \n",
    "  rename(read_count = count) %>%\n",
    "  filter(read_count >= as.integer(read_count_cutoff)) %>%\n",
    "  print()\n",
    "\n",
    "insert_barcodes  "
   ]
  },
  {
   "attachments": {},
   "cell_type": "markdown",
   "metadata": {},
   "source": [
    "## How many barcode_1 have multiple inserts?"
   ]
  },
  {
   "cell_type": "code",
   "execution_count": null,
   "metadata": {
    "vscode": {
     "languageId": "r"
    }
   },
   "outputs": [],
   "source": [
    "many_to_one_barcode_combinations <- insert_barcodes %>% \n",
    "  group_by(barcode) %>% \n",
    "  mutate(n1 = dplyr::n()) %>% \n",
    "  ungroup() %>% \n",
    "  filter(n1 > 1) %>% \n",
    "  print()"
   ]
  },
  {
   "cell_type": "markdown",
   "metadata": {},
   "source": [
    "## Fields to read from BAM file"
   ]
  },
  {
   "cell_type": "code",
   "execution_count": null,
   "metadata": {
    "vscode": {
     "languageId": "r"
    }
   },
   "outputs": [],
   "source": [
    "# extract the number of mismatches and total edits\n",
    "param <- ScanBamParam(\n",
    "  # what = scanBamWhat(),\n",
    "  what = c(\"qname\", \"flag\"),\n",
    "  # extract number of mismatches\n",
    "  tag = c(\"XM\"), \n",
    "  # include only snps; exclude indels\n",
    "  simpleCigar = T\n",
    ")"
   ]
  },
  {
   "cell_type": "markdown",
   "metadata": {},
   "source": [
    "## Read barcode vs barcode alignments for barcodes 1"
   ]
  },
  {
   "cell_type": "code",
   "execution_count": null,
   "metadata": {
    "vscode": {
     "languageId": "r"
    }
   },
   "outputs": [],
   "source": [
    "bamfile1 <- BamFile(barcode1_alignment_file)\n",
    "alns1 <- readGAlignments(bamfile1, param = param) %>% \n",
    "  as_tibble() %>% \n",
    "  mutate(rname = as.character(seqnames)) %>% \n",
    "  select(rname, qname, flag, XM) %>% \n",
    "  type_convert() %>% \n",
    "  print()"
   ]
  },
  {
   "cell_type": "markdown",
   "metadata": {},
   "source": [
    "## Find barcode_1 that are linked to distinct insert or might be sequencing errors"
   ]
  },
  {
   "cell_type": "code",
   "execution_count": null,
   "metadata": {
    "vscode": {
     "languageId": "r"
    }
   },
   "outputs": [],
   "source": [
    "exclude1 <- alns1 %>% \n",
    "  filter(rname != qname) %>%\n",
    "  left_join(select(insert_barcodes, insert_num, barcode_num, read_count), by = c(\"rname\" = \"barcode_num\")) %>%\n",
    "  rename(rinsert = insert_num, rcount = read_count) %>%\n",
    "  right_join(select(insert_barcodes, insert_num, barcode_num, read_count), by = c(\"qname\" = \"barcode_num\")) %>%\n",
    "  rename(qinsert = insert_num, qcount = read_count) %>%\n",
    "  # this exludes:\n",
    "  # 1. barcodes that map to two distinct inserts\n",
    "  # 2. barcodes that got lower count than another homologous barcode with same insert\n",
    "  filter(!(qinsert == rinsert & qcount > rcount)) %>%\n",
    "  arrange(qname) %>% \n",
    "  distinct(qname) %>%\n",
    "  print()"
   ]
  },
  {
   "cell_type": "markdown",
   "metadata": {},
   "source": [
    "## Write barcodes that do not clash to output"
   ]
  },
  {
   "cell_type": "code",
   "execution_count": null,
   "metadata": {
    "vscode": {
     "languageId": "r"
    }
   },
   "outputs": [],
   "source": [
    "filtered_barcodes <- insert_barcodes %>% \n",
    "  anti_join(select(exclude1, qname), by = c(\"barcode_num\" = \"qname\")) %>%\n",
    "  anti_join(select(many_to_one_barcode_combinations, barcode_num), by = \"barcode_num\") %>%\n",
    "  select(insert_num, barcode_num, barcode, read_count) %>%\n",
    "  arrange(desc(read_count)) %>%\n",
    "  rename(linkage_count = read_count) %>%\n",
    "  mutate(barcode_num = 1:dplyr::n()) %>%\n",
    "  write_csv(output_file) %>%\n",
    "  print()"
   ]
  }
 ],
 "metadata": {
  "kernelspec": {
   "display_name": "R_project_repo_1.13.0",
   "language": "R",
   "name": "ir_project_repo_1.13.0"
  },
  "language_info": {
   "codemirror_mode": "r",
   "file_extension": ".r",
   "mimetype": "text/x-r-source",
   "name": "R",
   "pygments_lexer": "r",
   "version": "4.1.3"
  },
  "orig_nbformat": 4
 },
 "nbformat": 4,
 "nbformat_minor": 2
}
