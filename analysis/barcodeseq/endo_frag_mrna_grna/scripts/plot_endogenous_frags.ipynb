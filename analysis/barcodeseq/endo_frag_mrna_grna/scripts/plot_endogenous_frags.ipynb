{
 "cells": [
  {
   "cell_type": "code",
   "execution_count": 1,
   "metadata": {
    "vscode": {
     "languageId": "r"
    }
   },
   "outputs": [],
   "source": [
    "suppressPackageStartupMessages(library(Biostrings))\n",
    "suppressPackageStartupMessages(library(plyranges))\n",
    "suppressPackageStartupMessages(library(tidyverse))\n",
    "suppressPackageStartupMessages(library(rasilabRtemplates))\n",
    "suppressPackageStartupMessages(library(gridExtra))\n",
    "suppressPackageStartupMessages(library(readxl))\n",
    "suppressPackageStartupMessages(library(ggrepel))\n",
    "\n",
    "barcode_reads_cutoff <- 10\n",
    "insert_reads_cutoff <- 300\n",
    "barcodes_cutoff <- 4"
   ]
  },
  {
   "cell_type": "code",
   "execution_count": 2,
   "metadata": {
    "vscode": {
     "languageId": "r"
    }
   },
   "outputs": [
    {
     "name": "stderr",
     "output_type": "stream",
     "text": [
      "Warning message:\n",
      "“\u001b[1m\u001b[22mThe `size` argument of `element_line()` is deprecated as of ggplot2 3.4.0.\n",
      "\u001b[36mℹ\u001b[39m Please use the `linewidth` argument instead.”\n"
     ]
    }
   ],
   "source": [
    "theme <- theme(\n",
    "        title = element_text(margin = margin(t=0, r=2, b=2, l=2), size=8),\n",
    "        axis.title.x = element_text(margin = margin(t=2, r=2, b=0, l=2), size=8),\n",
    "        axis.title.y = element_text(margin = margin(t=2, r=2, b=2, l=0), size=8),\n",
    "        text = element_text(size = 8),\n",
    "        legend.text=element_text(size=8),\n",
    "        axis.line.x=element_line(size=0.2),\n",
    "        axis.line.y=element_line(size=0.2),\n",
    "        axis.ticks.y =  element_line(size=0.2),\n",
    "        axis.ticks.x = element_line(size=0.2),\n",
    "        axis.text.x = element_text(size=8),\n",
    "        axis.text.y = element_text(size=8)\n",
    "        )"
   ]
  },
  {
   "cell_type": "code",
   "execution_count": 3,
   "metadata": {
    "vscode": {
     "languageId": "r"
    }
   },
   "outputs": [],
   "source": [
    "if (!file.exists('../figures')){\n",
    "    dir.create('../figures')\n",
    "}"
   ]
  },
  {
   "attachments": {},
   "cell_type": "markdown",
   "metadata": {},
   "source": [
    "## Plot CSCs of dicodon library vs endogenous fragments library in WT\n"
   ]
  },
  {
   "cell_type": "code",
   "execution_count": 4,
   "metadata": {
    "vscode": {
     "languageId": "r"
    }
   },
   "outputs": [
    {
     "name": "stderr",
     "output_type": "stream",
     "text": [
      "\u001b[1mRows: \u001b[22m\u001b[34m6000\u001b[39m \u001b[1mColumns: \u001b[22m\u001b[34m2\u001b[39m\n",
      "\u001b[36m──\u001b[39m \u001b[1mColumn specification\u001b[22m \u001b[36m────────────────────────────────────────────────────────\u001b[39m\n",
      "\u001b[1mDelimiter:\u001b[22m \",\"\n",
      "\u001b[31mchr\u001b[39m (1): insert\n",
      "\u001b[32mdbl\u001b[39m (1): insert_num\n",
      "\n",
      "\u001b[36mℹ\u001b[39m Use `spec()` to retrieve the full column specification for this data.\n",
      "\u001b[36mℹ\u001b[39m Specify the column types or set `show_col_types = FALSE` to quiet this message.\n"
     ]
    }
   ],
   "source": [
    "insert_annotations_1 = read_csv(\"../../8xdicodon_linkage/annotations/dicodon_yeast.csv\") %>%\n",
    "    mutate(dicodon = str_extract(insert, \"([ACTG]{6})(?=\\\\1{7})\")) %>%\n",
    "    mutate(aa = as.character(translate(DNAStringSet(insert), no.init.codon = T)))"
   ]
  },
  {
   "cell_type": "code",
   "execution_count": 5,
   "metadata": {
    "vscode": {
     "languageId": "r"
    }
   },
   "outputs": [
    {
     "name": "stderr",
     "output_type": "stream",
     "text": [
      "\u001b[1mRows: \u001b[22m\u001b[34m370377\u001b[39m \u001b[1mColumns: \u001b[22m\u001b[34m7\u001b[39m\n",
      "\u001b[36m──\u001b[39m \u001b[1mColumn specification\u001b[22m \u001b[36m────────────────────────────────────────────────────────\u001b[39m\n",
      "\u001b[1mDelimiter:\u001b[22m \"\\t\"\n",
      "\u001b[31mchr\u001b[39m (3): barcode, sample_name, linkage_ref\n",
      "\u001b[32mdbl\u001b[39m (4): barcode_count, insert_num, barcode_num, linkage_count\n",
      "\n",
      "\u001b[36mℹ\u001b[39m Use `spec()` to retrieve the full column specification for this data.\n",
      "\u001b[36mℹ\u001b[39m Specify the column types or set `show_col_types = FALSE` to quiet this message.\n"
     ]
    }
   ],
   "source": [
    "barcode_counts_e51 <- read_tsv(\"../../wt_mrna_grna/tables/barcode_insert_counts.tsv.gz\")"
   ]
  },
  {
   "cell_type": "code",
   "execution_count": 6,
   "metadata": {
    "vscode": {
     "languageId": "r"
    }
   },
   "outputs": [
    {
     "name": "stderr",
     "output_type": "stream",
     "text": [
      "\u001b[1m\u001b[22mNew names:\n",
      "\u001b[36m•\u001b[39m `` -> `...1`\n",
      "\u001b[1mRows: \u001b[22m\u001b[34m6000\u001b[39m \u001b[1mColumns: \u001b[22m\u001b[34m67\u001b[39m\n",
      "\u001b[36m──\u001b[39m \u001b[1mColumn specification\u001b[22m \u001b[36m────────────────────────────────────────────────────────\u001b[39m\n",
      "\u001b[1mDelimiter:\u001b[22m \",\"\n",
      "\u001b[31mchr\u001b[39m  (1): insert\n",
      "\u001b[32mdbl\u001b[39m (66): ...1, insert_num, AAA, AAC, AAG, AAT, ACA, ACC, ACG, ACT, AGA, AGC...\n",
      "\n",
      "\u001b[36mℹ\u001b[39m Use `spec()` to retrieve the full column specification for this data.\n",
      "\u001b[36mℹ\u001b[39m Specify the column types or set `show_col_types = FALSE` to quiet this message.\n",
      "Warning message:\n",
      "“\u001b[1m\u001b[22m`funs()` was deprecated in dplyr 0.8.0.\n",
      "\u001b[36mℹ\u001b[39m Please use a list of either functions or lambdas:\n",
      "\n",
      "# Simple named list: list(mean = mean, median = median)\n",
      "\n",
      "# Auto named with `tibble::lst()`: tibble::lst(mean, median)\n",
      "\n",
      "# Using lambdas list(~ mean(., trim = .2), ~ median(., na.rm = TRUE))”\n"
     ]
    },
    {
     "data": {
      "text/html": [
       "<table class=\"dataframe\">\n",
       "<caption>A tibble: 6 × 66</caption>\n",
       "<thead>\n",
       "\t<tr><th scope=col>insert_num</th><th scope=col>insert</th><th scope=col>AAA</th><th scope=col>AAC</th><th scope=col>AAG</th><th scope=col>AAT</th><th scope=col>ACA</th><th scope=col>ACC</th><th scope=col>ACG</th><th scope=col>ACT</th><th scope=col>⋯</th><th scope=col>TCG</th><th scope=col>TCT</th><th scope=col>TGA</th><th scope=col>TGC</th><th scope=col>TGG</th><th scope=col>TGT</th><th scope=col>TTA</th><th scope=col>TTC</th><th scope=col>TTG</th><th scope=col>TTT</th></tr>\n",
       "\t<tr><th scope=col>&lt;dbl&gt;</th><th scope=col>&lt;chr&gt;</th><th scope=col>&lt;dbl&gt;</th><th scope=col>&lt;dbl&gt;</th><th scope=col>&lt;dbl&gt;</th><th scope=col>&lt;dbl&gt;</th><th scope=col>&lt;dbl&gt;</th><th scope=col>&lt;dbl&gt;</th><th scope=col>&lt;dbl&gt;</th><th scope=col>&lt;dbl&gt;</th><th scope=col>⋯</th><th scope=col>&lt;dbl&gt;</th><th scope=col>&lt;dbl&gt;</th><th scope=col>&lt;dbl&gt;</th><th scope=col>&lt;dbl&gt;</th><th scope=col>&lt;dbl&gt;</th><th scope=col>&lt;dbl&gt;</th><th scope=col>&lt;dbl&gt;</th><th scope=col>&lt;dbl&gt;</th><th scope=col>&lt;dbl&gt;</th><th scope=col>&lt;dbl&gt;</th></tr>\n",
       "</thead>\n",
       "<tbody>\n",
       "\t<tr><td>0</td><td>AAAAAAAAAAAAAAAAAAAAAAAAAAAAAAAAAAAAAAAAAAAAAAAA</td><td>1.0</td><td>0.0</td><td>0.0</td><td>0.0</td><td>0.0</td><td>0.0</td><td>0</td><td>0</td><td>⋯</td><td>0</td><td>0</td><td>0</td><td>0</td><td>0</td><td>0</td><td>0</td><td>0</td><td>0</td><td>0</td></tr>\n",
       "\t<tr><td>1</td><td>AAAAACAAAAACAAAAACAAAAACAAAAACAAAAACAAAAACAAAAAC</td><td>0.5</td><td>0.5</td><td>0.0</td><td>0.0</td><td>0.0</td><td>0.0</td><td>0</td><td>0</td><td>⋯</td><td>0</td><td>0</td><td>0</td><td>0</td><td>0</td><td>0</td><td>0</td><td>0</td><td>0</td><td>0</td></tr>\n",
       "\t<tr><td>2</td><td>AAAAAGAAAAAGAAAAAGAAAAAGAAAAAGAAAAAGAAAAAGAAAAAG</td><td>0.5</td><td>0.0</td><td>0.5</td><td>0.0</td><td>0.0</td><td>0.0</td><td>0</td><td>0</td><td>⋯</td><td>0</td><td>0</td><td>0</td><td>0</td><td>0</td><td>0</td><td>0</td><td>0</td><td>0</td><td>0</td></tr>\n",
       "\t<tr><td>3</td><td>AAAAATAAAAATAAAAATAAAAATAAAAATAAAAATAAAAATAAAAAT</td><td>0.5</td><td>0.0</td><td>0.0</td><td>0.5</td><td>0.0</td><td>0.0</td><td>0</td><td>0</td><td>⋯</td><td>0</td><td>0</td><td>0</td><td>0</td><td>0</td><td>0</td><td>0</td><td>0</td><td>0</td><td>0</td></tr>\n",
       "\t<tr><td>4</td><td>AAAACAAAAACAAAAACAAAAACAAAAACAAAAACAAAAACAAAAACA</td><td>0.5</td><td>0.0</td><td>0.0</td><td>0.0</td><td>0.5</td><td>0.0</td><td>0</td><td>0</td><td>⋯</td><td>0</td><td>0</td><td>0</td><td>0</td><td>0</td><td>0</td><td>0</td><td>0</td><td>0</td><td>0</td></tr>\n",
       "\t<tr><td>5</td><td>AAAACCAAAACCAAAACCAAAACCAAAACCAAAACCAAAACCAAAACC</td><td>0.5</td><td>0.0</td><td>0.0</td><td>0.0</td><td>0.0</td><td>0.5</td><td>0</td><td>0</td><td>⋯</td><td>0</td><td>0</td><td>0</td><td>0</td><td>0</td><td>0</td><td>0</td><td>0</td><td>0</td><td>0</td></tr>\n",
       "</tbody>\n",
       "</table>\n"
      ],
      "text/latex": [
       "A tibble: 6 × 66\n",
       "\\begin{tabular}{lllllllllllllllllllll}\n",
       " insert\\_num & insert & AAA & AAC & AAG & AAT & ACA & ACC & ACG & ACT & ⋯ & TCG & TCT & TGA & TGC & TGG & TGT & TTA & TTC & TTG & TTT\\\\\n",
       " <dbl> & <chr> & <dbl> & <dbl> & <dbl> & <dbl> & <dbl> & <dbl> & <dbl> & <dbl> & ⋯ & <dbl> & <dbl> & <dbl> & <dbl> & <dbl> & <dbl> & <dbl> & <dbl> & <dbl> & <dbl>\\\\\n",
       "\\hline\n",
       "\t 0 & AAAAAAAAAAAAAAAAAAAAAAAAAAAAAAAAAAAAAAAAAAAAAAAA & 1.0 & 0.0 & 0.0 & 0.0 & 0.0 & 0.0 & 0 & 0 & ⋯ & 0 & 0 & 0 & 0 & 0 & 0 & 0 & 0 & 0 & 0\\\\\n",
       "\t 1 & AAAAACAAAAACAAAAACAAAAACAAAAACAAAAACAAAAACAAAAAC & 0.5 & 0.5 & 0.0 & 0.0 & 0.0 & 0.0 & 0 & 0 & ⋯ & 0 & 0 & 0 & 0 & 0 & 0 & 0 & 0 & 0 & 0\\\\\n",
       "\t 2 & AAAAAGAAAAAGAAAAAGAAAAAGAAAAAGAAAAAGAAAAAGAAAAAG & 0.5 & 0.0 & 0.5 & 0.0 & 0.0 & 0.0 & 0 & 0 & ⋯ & 0 & 0 & 0 & 0 & 0 & 0 & 0 & 0 & 0 & 0\\\\\n",
       "\t 3 & AAAAATAAAAATAAAAATAAAAATAAAAATAAAAATAAAAATAAAAAT & 0.5 & 0.0 & 0.0 & 0.5 & 0.0 & 0.0 & 0 & 0 & ⋯ & 0 & 0 & 0 & 0 & 0 & 0 & 0 & 0 & 0 & 0\\\\\n",
       "\t 4 & AAAACAAAAACAAAAACAAAAACAAAAACAAAAACAAAAACAAAAACA & 0.5 & 0.0 & 0.0 & 0.0 & 0.5 & 0.0 & 0 & 0 & ⋯ & 0 & 0 & 0 & 0 & 0 & 0 & 0 & 0 & 0 & 0\\\\\n",
       "\t 5 & AAAACCAAAACCAAAACCAAAACCAAAACCAAAACCAAAACCAAAACC & 0.5 & 0.0 & 0.0 & 0.0 & 0.0 & 0.5 & 0 & 0 & ⋯ & 0 & 0 & 0 & 0 & 0 & 0 & 0 & 0 & 0 & 0\\\\\n",
       "\\end{tabular}\n"
      ],
      "text/markdown": [
       "\n",
       "A tibble: 6 × 66\n",
       "\n",
       "| insert_num &lt;dbl&gt; | insert &lt;chr&gt; | AAA &lt;dbl&gt; | AAC &lt;dbl&gt; | AAG &lt;dbl&gt; | AAT &lt;dbl&gt; | ACA &lt;dbl&gt; | ACC &lt;dbl&gt; | ACG &lt;dbl&gt; | ACT &lt;dbl&gt; | ⋯ ⋯ | TCG &lt;dbl&gt; | TCT &lt;dbl&gt; | TGA &lt;dbl&gt; | TGC &lt;dbl&gt; | TGG &lt;dbl&gt; | TGT &lt;dbl&gt; | TTA &lt;dbl&gt; | TTC &lt;dbl&gt; | TTG &lt;dbl&gt; | TTT &lt;dbl&gt; |\n",
       "|---|---|---|---|---|---|---|---|---|---|---|---|---|---|---|---|---|---|---|---|---|\n",
       "| 0 | AAAAAAAAAAAAAAAAAAAAAAAAAAAAAAAAAAAAAAAAAAAAAAAA | 1.0 | 0.0 | 0.0 | 0.0 | 0.0 | 0.0 | 0 | 0 | ⋯ | 0 | 0 | 0 | 0 | 0 | 0 | 0 | 0 | 0 | 0 |\n",
       "| 1 | AAAAACAAAAACAAAAACAAAAACAAAAACAAAAACAAAAACAAAAAC | 0.5 | 0.5 | 0.0 | 0.0 | 0.0 | 0.0 | 0 | 0 | ⋯ | 0 | 0 | 0 | 0 | 0 | 0 | 0 | 0 | 0 | 0 |\n",
       "| 2 | AAAAAGAAAAAGAAAAAGAAAAAGAAAAAGAAAAAGAAAAAGAAAAAG | 0.5 | 0.0 | 0.5 | 0.0 | 0.0 | 0.0 | 0 | 0 | ⋯ | 0 | 0 | 0 | 0 | 0 | 0 | 0 | 0 | 0 | 0 |\n",
       "| 3 | AAAAATAAAAATAAAAATAAAAATAAAAATAAAAATAAAAATAAAAAT | 0.5 | 0.0 | 0.0 | 0.5 | 0.0 | 0.0 | 0 | 0 | ⋯ | 0 | 0 | 0 | 0 | 0 | 0 | 0 | 0 | 0 | 0 |\n",
       "| 4 | AAAACAAAAACAAAAACAAAAACAAAAACAAAAACAAAAACAAAAACA | 0.5 | 0.0 | 0.0 | 0.0 | 0.5 | 0.0 | 0 | 0 | ⋯ | 0 | 0 | 0 | 0 | 0 | 0 | 0 | 0 | 0 | 0 |\n",
       "| 5 | AAAACCAAAACCAAAACCAAAACCAAAACCAAAACCAAAACCAAAACC | 0.5 | 0.0 | 0.0 | 0.0 | 0.0 | 0.5 | 0 | 0 | ⋯ | 0 | 0 | 0 | 0 | 0 | 0 | 0 | 0 | 0 | 0 |\n",
       "\n"
      ],
      "text/plain": [
       "  insert_num insert                                           AAA AAC AAG AAT\n",
       "1 0          AAAAAAAAAAAAAAAAAAAAAAAAAAAAAAAAAAAAAAAAAAAAAAAA 1.0 0.0 0.0 0.0\n",
       "2 1          AAAAACAAAAACAAAAACAAAAACAAAAACAAAAACAAAAACAAAAAC 0.5 0.5 0.0 0.0\n",
       "3 2          AAAAAGAAAAAGAAAAAGAAAAAGAAAAAGAAAAAGAAAAAGAAAAAG 0.5 0.0 0.5 0.0\n",
       "4 3          AAAAATAAAAATAAAAATAAAAATAAAAATAAAAATAAAAATAAAAAT 0.5 0.0 0.0 0.5\n",
       "5 4          AAAACAAAAACAAAAACAAAAACAAAAACAAAAACAAAAACAAAAACA 0.5 0.0 0.0 0.0\n",
       "6 5          AAAACCAAAACCAAAACCAAAACCAAAACCAAAACCAAAACCAAAACC 0.5 0.0 0.0 0.0\n",
       "  ACA ACC ACG ACT ⋯ TCG TCT TGA TGC TGG TGT TTA TTC TTG TTT\n",
       "1 0.0 0.0 0   0   ⋯ 0   0   0   0   0   0   0   0   0   0  \n",
       "2 0.0 0.0 0   0   ⋯ 0   0   0   0   0   0   0   0   0   0  \n",
       "3 0.0 0.0 0   0   ⋯ 0   0   0   0   0   0   0   0   0   0  \n",
       "4 0.0 0.0 0   0   ⋯ 0   0   0   0   0   0   0   0   0   0  \n",
       "5 0.5 0.0 0   0   ⋯ 0   0   0   0   0   0   0   0   0   0  \n",
       "6 0.0 0.5 0   0   ⋯ 0   0   0   0   0   0   0   0   0   0  "
      ]
     },
     "metadata": {},
     "output_type": "display_data"
    }
   ],
   "source": [
    "insert_annotations_codon_freq <- read_csv(\"../annotations/insert_annotations_codon_frequencies.csv\") %>%\n",
    "    select(-`...1`) %>%\n",
    "    mutate(insert_num = as.character(insert_num)) %>%\n",
    "    mutate_if(is.numeric, funs(./16)) %>%\n",
    "    mutate(insert_num = as.numeric(insert_num))\n",
    "\n",
    "head(insert_annotations_codon_freq)"
   ]
  },
  {
   "cell_type": "code",
   "execution_count": 7,
   "metadata": {
    "vscode": {
     "languageId": "r"
    }
   },
   "outputs": [
    {
     "data": {
      "text/html": [
       "<table class=\"dataframe\">\n",
       "<caption>A tibble: 6 × 73</caption>\n",
       "<thead>\n",
       "\t<tr><th scope=col>insert_num</th><th scope=col>count_wt_gdna</th><th scope=col>count_wt_mrna</th><th scope=col>n_barcodes_wt_gdna</th><th scope=col>n_barcodes_wt_mrna</th><th scope=col>lfc</th><th scope=col>insert</th><th scope=col>AAA</th><th scope=col>AAC</th><th scope=col>AAG</th><th scope=col>⋯</th><th scope=col>TGA</th><th scope=col>TGC</th><th scope=col>TGG</th><th scope=col>TGT</th><th scope=col>TTA</th><th scope=col>TTC</th><th scope=col>TTG</th><th scope=col>TTT</th><th scope=col>type</th><th scope=col>lfc_med</th></tr>\n",
       "\t<tr><th scope=col>&lt;dbl&gt;</th><th scope=col>&lt;dbl&gt;</th><th scope=col>&lt;dbl&gt;</th><th scope=col>&lt;int&gt;</th><th scope=col>&lt;int&gt;</th><th scope=col>&lt;dbl&gt;</th><th scope=col>&lt;chr&gt;</th><th scope=col>&lt;dbl&gt;</th><th scope=col>&lt;dbl&gt;</th><th scope=col>&lt;dbl&gt;</th><th scope=col>⋯</th><th scope=col>&lt;dbl&gt;</th><th scope=col>&lt;dbl&gt;</th><th scope=col>&lt;dbl&gt;</th><th scope=col>&lt;dbl&gt;</th><th scope=col>&lt;dbl&gt;</th><th scope=col>&lt;dbl&gt;</th><th scope=col>&lt;dbl&gt;</th><th scope=col>&lt;dbl&gt;</th><th scope=col>&lt;chr&gt;</th><th scope=col>&lt;dbl&gt;</th></tr>\n",
       "</thead>\n",
       "<tbody>\n",
       "\t<tr><td>1</td><td> 8382</td><td>2640</td><td>24</td><td>21</td><td>-1.666757</td><td>AAAAACAAAAACAAAAACAAAAACAAAAACAAAAACAAAAACAAAAAC</td><td>0.5</td><td>0.5</td><td>0.0</td><td>⋯</td><td>0</td><td>0</td><td>0</td><td>0</td><td>0</td><td>0</td><td>0</td><td>0</td><td>dicodon</td><td>-0.13184210</td></tr>\n",
       "\t<tr><td>2</td><td> 2630</td><td> 469</td><td>18</td><td>16</td><td>-2.487403</td><td>AAAAAGAAAAAGAAAAAGAAAAAGAAAAAGAAAAAGAAAAAGAAAAAG</td><td>0.5</td><td>0.0</td><td>0.5</td><td>⋯</td><td>0</td><td>0</td><td>0</td><td>0</td><td>0</td><td>0</td><td>0</td><td>0</td><td>dicodon</td><td>-0.95248848</td></tr>\n",
       "\t<tr><td>4</td><td> 7186</td><td>2248</td><td>22</td><td>20</td><td>-1.676547</td><td>AAAACAAAAACAAAAACAAAAACAAAAACAAAAACAAAAACAAAAACA</td><td>0.5</td><td>0.0</td><td>0.0</td><td>⋯</td><td>0</td><td>0</td><td>0</td><td>0</td><td>0</td><td>0</td><td>0</td><td>0</td><td>dicodon</td><td>-0.14163241</td></tr>\n",
       "\t<tr><td>5</td><td>23361</td><td>9241</td><td>72</td><td>68</td><td>-1.337981</td><td>AAAACCAAAACCAAAACCAAAACCAAAACCAAAACCAAAACCAAAACC</td><td>0.5</td><td>0.0</td><td>0.0</td><td>⋯</td><td>0</td><td>0</td><td>0</td><td>0</td><td>0</td><td>0</td><td>0</td><td>0</td><td>dicodon</td><td> 0.19693334</td></tr>\n",
       "\t<tr><td>6</td><td>18582</td><td>5596</td><td>51</td><td>44</td><td>-1.731438</td><td>AAAACGAAAACGAAAACGAAAACGAAAACGAAAACGAAAACGAAAACG</td><td>0.5</td><td>0.0</td><td>0.0</td><td>⋯</td><td>0</td><td>0</td><td>0</td><td>0</td><td>0</td><td>0</td><td>0</td><td>0</td><td>dicodon</td><td>-0.19652343</td></tr>\n",
       "\t<tr><td>7</td><td> 4766</td><td>1699</td><td>16</td><td>15</td><td>-1.488093</td><td>AAAACTAAAACTAAAACTAAAACTAAAACTAAAACTAAAACTAAAACT</td><td>0.5</td><td>0.0</td><td>0.0</td><td>⋯</td><td>0</td><td>0</td><td>0</td><td>0</td><td>0</td><td>0</td><td>0</td><td>0</td><td>dicodon</td><td> 0.04682139</td></tr>\n",
       "</tbody>\n",
       "</table>\n"
      ],
      "text/latex": [
       "A tibble: 6 × 73\n",
       "\\begin{tabular}{lllllllllllllllllllll}\n",
       " insert\\_num & count\\_wt\\_gdna & count\\_wt\\_mrna & n\\_barcodes\\_wt\\_gdna & n\\_barcodes\\_wt\\_mrna & lfc & insert & AAA & AAC & AAG & ⋯ & TGA & TGC & TGG & TGT & TTA & TTC & TTG & TTT & type & lfc\\_med\\\\\n",
       " <dbl> & <dbl> & <dbl> & <int> & <int> & <dbl> & <chr> & <dbl> & <dbl> & <dbl> & ⋯ & <dbl> & <dbl> & <dbl> & <dbl> & <dbl> & <dbl> & <dbl> & <dbl> & <chr> & <dbl>\\\\\n",
       "\\hline\n",
       "\t 1 &  8382 & 2640 & 24 & 21 & -1.666757 & AAAAACAAAAACAAAAACAAAAACAAAAACAAAAACAAAAACAAAAAC & 0.5 & 0.5 & 0.0 & ⋯ & 0 & 0 & 0 & 0 & 0 & 0 & 0 & 0 & dicodon & -0.13184210\\\\\n",
       "\t 2 &  2630 &  469 & 18 & 16 & -2.487403 & AAAAAGAAAAAGAAAAAGAAAAAGAAAAAGAAAAAGAAAAAGAAAAAG & 0.5 & 0.0 & 0.5 & ⋯ & 0 & 0 & 0 & 0 & 0 & 0 & 0 & 0 & dicodon & -0.95248848\\\\\n",
       "\t 4 &  7186 & 2248 & 22 & 20 & -1.676547 & AAAACAAAAACAAAAACAAAAACAAAAACAAAAACAAAAACAAAAACA & 0.5 & 0.0 & 0.0 & ⋯ & 0 & 0 & 0 & 0 & 0 & 0 & 0 & 0 & dicodon & -0.14163241\\\\\n",
       "\t 5 & 23361 & 9241 & 72 & 68 & -1.337981 & AAAACCAAAACCAAAACCAAAACCAAAACCAAAACCAAAACCAAAACC & 0.5 & 0.0 & 0.0 & ⋯ & 0 & 0 & 0 & 0 & 0 & 0 & 0 & 0 & dicodon &  0.19693334\\\\\n",
       "\t 6 & 18582 & 5596 & 51 & 44 & -1.731438 & AAAACGAAAACGAAAACGAAAACGAAAACGAAAACGAAAACGAAAACG & 0.5 & 0.0 & 0.0 & ⋯ & 0 & 0 & 0 & 0 & 0 & 0 & 0 & 0 & dicodon & -0.19652343\\\\\n",
       "\t 7 &  4766 & 1699 & 16 & 15 & -1.488093 & AAAACTAAAACTAAAACTAAAACTAAAACTAAAACTAAAACTAAAACT & 0.5 & 0.0 & 0.0 & ⋯ & 0 & 0 & 0 & 0 & 0 & 0 & 0 & 0 & dicodon &  0.04682139\\\\\n",
       "\\end{tabular}\n"
      ],
      "text/markdown": [
       "\n",
       "A tibble: 6 × 73\n",
       "\n",
       "| insert_num &lt;dbl&gt; | count_wt_gdna &lt;dbl&gt; | count_wt_mrna &lt;dbl&gt; | n_barcodes_wt_gdna &lt;int&gt; | n_barcodes_wt_mrna &lt;int&gt; | lfc &lt;dbl&gt; | insert &lt;chr&gt; | AAA &lt;dbl&gt; | AAC &lt;dbl&gt; | AAG &lt;dbl&gt; | ⋯ ⋯ | TGA &lt;dbl&gt; | TGC &lt;dbl&gt; | TGG &lt;dbl&gt; | TGT &lt;dbl&gt; | TTA &lt;dbl&gt; | TTC &lt;dbl&gt; | TTG &lt;dbl&gt; | TTT &lt;dbl&gt; | type &lt;chr&gt; | lfc_med &lt;dbl&gt; |\n",
       "|---|---|---|---|---|---|---|---|---|---|---|---|---|---|---|---|---|---|---|---|---|\n",
       "| 1 |  8382 | 2640 | 24 | 21 | -1.666757 | AAAAACAAAAACAAAAACAAAAACAAAAACAAAAACAAAAACAAAAAC | 0.5 | 0.5 | 0.0 | ⋯ | 0 | 0 | 0 | 0 | 0 | 0 | 0 | 0 | dicodon | -0.13184210 |\n",
       "| 2 |  2630 |  469 | 18 | 16 | -2.487403 | AAAAAGAAAAAGAAAAAGAAAAAGAAAAAGAAAAAGAAAAAGAAAAAG | 0.5 | 0.0 | 0.5 | ⋯ | 0 | 0 | 0 | 0 | 0 | 0 | 0 | 0 | dicodon | -0.95248848 |\n",
       "| 4 |  7186 | 2248 | 22 | 20 | -1.676547 | AAAACAAAAACAAAAACAAAAACAAAAACAAAAACAAAAACAAAAACA | 0.5 | 0.0 | 0.0 | ⋯ | 0 | 0 | 0 | 0 | 0 | 0 | 0 | 0 | dicodon | -0.14163241 |\n",
       "| 5 | 23361 | 9241 | 72 | 68 | -1.337981 | AAAACCAAAACCAAAACCAAAACCAAAACCAAAACCAAAACCAAAACC | 0.5 | 0.0 | 0.0 | ⋯ | 0 | 0 | 0 | 0 | 0 | 0 | 0 | 0 | dicodon |  0.19693334 |\n",
       "| 6 | 18582 | 5596 | 51 | 44 | -1.731438 | AAAACGAAAACGAAAACGAAAACGAAAACGAAAACGAAAACGAAAACG | 0.5 | 0.0 | 0.0 | ⋯ | 0 | 0 | 0 | 0 | 0 | 0 | 0 | 0 | dicodon | -0.19652343 |\n",
       "| 7 |  4766 | 1699 | 16 | 15 | -1.488093 | AAAACTAAAACTAAAACTAAAACTAAAACTAAAACTAAAACTAAAACT | 0.5 | 0.0 | 0.0 | ⋯ | 0 | 0 | 0 | 0 | 0 | 0 | 0 | 0 | dicodon |  0.04682139 |\n",
       "\n"
      ],
      "text/plain": [
       "  insert_num count_wt_gdna count_wt_mrna n_barcodes_wt_gdna n_barcodes_wt_mrna\n",
       "1 1           8382         2640          24                 21                \n",
       "2 2           2630          469          18                 16                \n",
       "3 4           7186         2248          22                 20                \n",
       "4 5          23361         9241          72                 68                \n",
       "5 6          18582         5596          51                 44                \n",
       "6 7           4766         1699          16                 15                \n",
       "  lfc       insert                                           AAA AAC AAG ⋯ TGA\n",
       "1 -1.666757 AAAAACAAAAACAAAAACAAAAACAAAAACAAAAACAAAAACAAAAAC 0.5 0.5 0.0 ⋯ 0  \n",
       "2 -2.487403 AAAAAGAAAAAGAAAAAGAAAAAGAAAAAGAAAAAGAAAAAGAAAAAG 0.5 0.0 0.5 ⋯ 0  \n",
       "3 -1.676547 AAAACAAAAACAAAAACAAAAACAAAAACAAAAACAAAAACAAAAACA 0.5 0.0 0.0 ⋯ 0  \n",
       "4 -1.337981 AAAACCAAAACCAAAACCAAAACCAAAACCAAAACCAAAACCAAAACC 0.5 0.0 0.0 ⋯ 0  \n",
       "5 -1.731438 AAAACGAAAACGAAAACGAAAACGAAAACGAAAACGAAAACGAAAACG 0.5 0.0 0.0 ⋯ 0  \n",
       "6 -1.488093 AAAACTAAAACTAAAACTAAAACTAAAACTAAAACTAAAACTAAAACT 0.5 0.0 0.0 ⋯ 0  \n",
       "  TGC TGG TGT TTA TTC TTG TTT type    lfc_med    \n",
       "1 0   0   0   0   0   0   0   dicodon -0.13184210\n",
       "2 0   0   0   0   0   0   0   dicodon -0.95248848\n",
       "3 0   0   0   0   0   0   0   dicodon -0.14163241\n",
       "4 0   0   0   0   0   0   0   dicodon  0.19693334\n",
       "5 0   0   0   0   0   0   0   dicodon -0.19652343\n",
       "6 0   0   0   0   0   0   0   dicodon  0.04682139"
      ]
     },
     "metadata": {},
     "output_type": "display_data"
    }
   ],
   "source": [
    "inserts_lfc <- barcode_counts_e51 %>%\n",
    "    group_by(sample_name, insert_num) %>%\n",
    "    summarize(count = sum(barcode_count), n_barcodes = n(), .groups='drop') %>%\n",
    "    filter(n_barcodes >= barcodes_cutoff) %>%\n",
    "    filter(count >= insert_reads_cutoff) %>%\n",
    "    pivot_wider(names_from = sample_name, values_from = c(count, n_barcodes)) %>%\n",
    "    mutate(lfc = log2(count_wt_mrna) - log2(count_wt_gdna)) %>%\n",
    "    drop_na(lfc) %>%\n",
    "    left_join(insert_annotations_codon_freq, by='insert_num') %>%\n",
    "    mutate(type = ifelse(insert_num >=4095, 'endo', 'dicodon')) %>%\n",
    "    group_by(type) %>%\n",
    "    mutate(lfc_med = lfc - median(lfc)) %>%\n",
    "    ungroup()\n",
    "\n",
    "head(inserts_lfc)"
   ]
  },
  {
   "cell_type": "code",
   "execution_count": 8,
   "metadata": {
    "vscode": {
     "languageId": "r"
    }
   },
   "outputs": [
    {
     "data": {
      "image/png": "[encoded data removed]",
      "text/plain": [
       "plot without title"
      ]
     },
     "metadata": {
      "image/png": {
       "height": 180,
       "width": 240
      }
     },
     "output_type": "display_data"
    }
   ],
   "source": [
    "inserts_lfc %>%\n",
    "    select(type, lfc_med) %>%\n",
    "    mutate(type = case_when(type == 'dicodon' ~ 'Codon pairs', type == 'endo' ~ 'Endogenous\\nfragments', type == 'endo_motifs' ~ 'Endogenous motifs')) %>%\n",
    "    ggplot() +\n",
    "    aes(x=lfc_med, fill=type) +\n",
    "    geom_density(alpha=0.7, linewidth=0.2) +\n",
    "    scale_y_continuous(breaks=seq(0,3,1)) +\n",
    "    theme +\n",
    "    theme(legend.box.margin=margin(-12,-12,-12,-12),) +\n",
    "    guides(fill = guide_legend(\n",
    "                 keywidth=0.1,\n",
    "                 keyheight=0.125,\n",
    "                 default.unit=\"inch\",\n",
    "                 linewidth=0.2)) +\n",
    "    labs(y='Density', x='Average mRNA level\\n(log2, arb. units)', fill='Library')\n",
    "\n",
    "ggsave(\"../figures/dist_dicodon_vs_endo_fragments.pdf\", width=3, height=1.7)"
   ]
  },
  {
   "cell_type": "code",
   "execution_count": 9,
   "metadata": {
    "vscode": {
     "languageId": "r"
    }
   },
   "outputs": [],
   "source": [
    "endo_insert_lfc <- inserts_lfc %>%\n",
    "    filter(insert_num > 4095)\n",
    "dicodon_insert_lfc <- inserts_lfc %>%\n",
    "    filter(insert_num <= 4095)"
   ]
  },
  {
   "cell_type": "code",
   "execution_count": 10,
   "metadata": {
    "vscode": {
     "languageId": "r"
    }
   },
   "outputs": [
    {
     "name": "stderr",
     "output_type": "stream",
     "text": [
      "Warning message in cor(x, endo_insert_lfc$lfc_med, method = \"pearson\"):\n",
      "“the standard deviation is zero”\n",
      "Warning message in cor(x, endo_insert_lfc$lfc_med, method = \"pearson\"):\n",
      "“the standard deviation is zero”\n",
      "Warning message in cor(x, endo_insert_lfc$lfc_med, method = \"pearson\"):\n",
      "“the standard deviation is zero”\n"
     ]
    }
   ],
   "source": [
    "endo_csc <- lapply(endo_insert_lfc[8:71], function(x) {\n",
    "    cor(x, endo_insert_lfc$lfc_med, method='pearson')\n",
    "}) %>%\n",
    "    enframe() %>%\n",
    "    rename(codon = name, corr_freq_lfc=value) %>%\n",
    "    mutate(corr_freq_lfc = as.numeric(corr_freq_lfc))"
   ]
  },
  {
   "cell_type": "code",
   "execution_count": 11,
   "metadata": {
    "vscode": {
     "languageId": "r"
    }
   },
   "outputs": [],
   "source": [
    "dicodon_csc <- lapply(dicodon_insert_lfc[8:71], function(x) {\n",
    "    cor(x, dicodon_insert_lfc$lfc_med, method='pearson')\n",
    "}) %>%\n",
    "    enframe() %>%\n",
    "    rename(codon = name, corr_freq_lfc=value) %>%\n",
    "    mutate(corr_freq_lfc = as.numeric(corr_freq_lfc))"
   ]
  },
  {
   "cell_type": "code",
   "execution_count": 12,
   "metadata": {
    "vscode": {
     "languageId": "r"
    }
   },
   "outputs": [],
   "source": [
    "dicodon_endo_csc <- dicodon_csc %>%\n",
    "    rename(dicodon_csc = corr_freq_lfc) %>%\n",
    "    inner_join(endo_csc, by='codon') %>%\n",
    "    rename(endo_csc = corr_freq_lfc) %>%\n",
    "    drop_na()"
   ]
  },
  {
   "cell_type": "code",
   "execution_count": 13,
   "metadata": {
    "vscode": {
     "languageId": "r"
    }
   },
   "outputs": [],
   "source": [
    "wt_endo_dicodon_csc <- dicodon_endo_csc %>%\n",
    "    mutate(genotype = 'wt')"
   ]
  },
  {
   "cell_type": "code",
   "execution_count": 14,
   "metadata": {
    "vscode": {
     "languageId": "r"
    }
   },
   "outputs": [
    {
     "name": "stderr",
     "output_type": "stream",
     "text": [
      "\u001b[1m\u001b[22m`geom_smooth()` using formula = 'y ~ x'\n"
     ]
    },
    {
     "name": "stderr",
     "output_type": "stream",
     "text": [
      "\u001b[1m\u001b[22m`geom_smooth()` using formula = 'y ~ x'\n"
     ]
    },
    {
     "data": {
      "image/png": "[encoded data removed]",
      "text/plain": [
       "plot without title"
      ]
     },
     "metadata": {
      "image/png": {
       "height": 120,
       "width": 120
      }
     },
     "output_type": "display_data"
    }
   ],
   "source": [
    "options(repr.plot.width = 2, repr.plot.height = 2)\n",
    "\n",
    "pearson_r = cor(dicodon_endo_csc$dicodon_csc, dicodon_endo_csc$endo_csc, method=c('pearson'))\n",
    "pearson_p = cor.test(dicodon_endo_csc$dicodon_csc, dicodon_endo_csc$endo_csc, method=c('pearson'))$p.value\n",
    "\n",
    "dicodon_endo_csc %>%\n",
    "    mutate(name = str_c(codon, \" (\", GENETIC_CODE[codon], \")\")) %>%\n",
    "    ggplot() +\n",
    "    aes(x=dicodon_csc, y=endo_csc) +\n",
    "    geom_point(size=0.2) +\n",
    "    geom_smooth(method=lm, se=FALSE, linewidth=0.2) +\n",
    "    annotate('text', x = 0.140, y = -0.20, label = str_c(\"r = \", round(pearson_r, 2)),  size=7/.pt) +\n",
    "    annotate('text', x = 0.140, y = -0.24, label = \"p < 1e-8\", size=7/.pt) +\n",
    "    theme +\n",
    "    theme(\n",
    "        plot.title = element_text(hjust = 0.5, size=8)\n",
    "    ) + \n",
    "    labs(x='Codon pair inserts CSC', y='Endogenous inserts CSC', title='wild-type')\n",
    "\n",
    "ggsave(\"../figures/endo_vs_dicodon_codon_analogous_csc.pdf\", width=2, height=1.95, units='in', dpi=300)"
   ]
  },
  {
   "cell_type": "code",
   "execution_count": 15,
   "metadata": {
    "vscode": {
     "languageId": "r"
    }
   },
   "outputs": [
    {
     "data": {
      "text/html": [
       "3.65632663813644e-09"
      ],
      "text/latex": [
       "3.65632663813644e-09"
      ],
      "text/markdown": [
       "3.65632663813644e-09"
      ],
      "text/plain": [
       "[1] 3.656327e-09"
      ]
     },
     "metadata": {},
     "output_type": "display_data"
    }
   ],
   "source": [
    "pearson_p"
   ]
  },
  {
   "cell_type": "markdown",
   "metadata": {},
   "source": [
    "## Plot CSCs of dicodon library vs endogenous fragments library in hel2-del\n"
   ]
  },
  {
   "cell_type": "code",
   "execution_count": 16,
   "metadata": {
    "vscode": {
     "languageId": "r"
    }
   },
   "outputs": [
    {
     "name": "stderr",
     "output_type": "stream",
     "text": [
      "\u001b[1mRows: \u001b[22m\u001b[34m673897\u001b[39m \u001b[1mColumns: \u001b[22m\u001b[34m5\u001b[39m\n",
      "\u001b[36m──\u001b[39m \u001b[1mColumn specification\u001b[22m \u001b[36m────────────────────────────────────────────────────────\u001b[39m\n",
      "\u001b[1mDelimiter:\u001b[22m \"\\t\"\n",
      "\u001b[31mchr\u001b[39m (2): genotype, sample_type\n",
      "\u001b[32mdbl\u001b[39m (3): barcode_num, insert_num, barcode_count\n",
      "\n",
      "\u001b[36mℹ\u001b[39m Use `spec()` to retrieve the full column specification for this data.\n",
      "\u001b[36mℹ\u001b[39m Specify the column types or set `show_col_types = FALSE` to quiet this message.\n"
     ]
    }
   ],
   "source": [
    "barcode_counts_e67 <- read_tsv(\"../../hel2_syh1_mrna_grna/tables/barcode_insert_counts.tsv.gz\")"
   ]
  },
  {
   "cell_type": "code",
   "execution_count": 17,
   "metadata": {
    "vscode": {
     "languageId": "r"
    }
   },
   "outputs": [
    {
     "data": {
      "text/html": [
       "<table class=\"dataframe\">\n",
       "<caption>A tibble: 6 × 73</caption>\n",
       "<thead>\n",
       "\t<tr><th scope=col>genotype</th><th scope=col>insert_num</th><th scope=col>count_gdna</th><th scope=col>count_mrna</th><th scope=col>n_barcodes_gdna</th><th scope=col>n_barcodes_mrna</th><th scope=col>lfc</th><th scope=col>AAA</th><th scope=col>AAC</th><th scope=col>AAG</th><th scope=col>⋯</th><th scope=col>TGA</th><th scope=col>TGC</th><th scope=col>TGG</th><th scope=col>TGT</th><th scope=col>TTA</th><th scope=col>TTC</th><th scope=col>TTG</th><th scope=col>TTT</th><th scope=col>type</th><th scope=col>lfc_med</th></tr>\n",
       "\t<tr><th scope=col>&lt;chr&gt;</th><th scope=col>&lt;dbl&gt;</th><th scope=col>&lt;dbl&gt;</th><th scope=col>&lt;dbl&gt;</th><th scope=col>&lt;int&gt;</th><th scope=col>&lt;int&gt;</th><th scope=col>&lt;dbl&gt;</th><th scope=col>&lt;dbl&gt;</th><th scope=col>&lt;dbl&gt;</th><th scope=col>&lt;dbl&gt;</th><th scope=col>⋯</th><th scope=col>&lt;dbl&gt;</th><th scope=col>&lt;dbl&gt;</th><th scope=col>&lt;dbl&gt;</th><th scope=col>&lt;dbl&gt;</th><th scope=col>&lt;dbl&gt;</th><th scope=col>&lt;dbl&gt;</th><th scope=col>&lt;dbl&gt;</th><th scope=col>&lt;dbl&gt;</th><th scope=col>&lt;chr&gt;</th><th scope=col>&lt;dbl&gt;</th></tr>\n",
       "</thead>\n",
       "<tbody>\n",
       "\t<tr><td>hel2</td><td>1</td><td> 7141</td><td> 8225</td><td>27</td><td>31</td><td> 0.20388956</td><td>0.5</td><td>0.5</td><td>0.0</td><td>⋯</td><td>0</td><td>0</td><td>0</td><td>0</td><td>0</td><td>0</td><td>0</td><td>0</td><td>dicodon</td><td> 1.564592e-01</td></tr>\n",
       "\t<tr><td>hel2</td><td>2</td><td> 7567</td><td>12250</td><td>22</td><td>24</td><td> 0.69498840</td><td>0.5</td><td>0.0</td><td>0.5</td><td>⋯</td><td>0</td><td>0</td><td>0</td><td>0</td><td>0</td><td>0</td><td>0</td><td>0</td><td>dicodon</td><td> 6.475581e-01</td></tr>\n",
       "\t<tr><td>hel2</td><td>4</td><td> 8960</td><td> 9259</td><td>25</td><td>25</td><td> 0.04735765</td><td>0.5</td><td>0.0</td><td>0.0</td><td>⋯</td><td>0</td><td>0</td><td>0</td><td>0</td><td>0</td><td>0</td><td>0</td><td>0</td><td>dicodon</td><td>-7.268978e-05</td></tr>\n",
       "\t<tr><td>hel2</td><td>5</td><td>25440</td><td>39600</td><td>62</td><td>59</td><td> 0.63840176</td><td>0.5</td><td>0.0</td><td>0.0</td><td>⋯</td><td>0</td><td>0</td><td>0</td><td>0</td><td>0</td><td>0</td><td>0</td><td>0</td><td>dicodon</td><td> 5.909714e-01</td></tr>\n",
       "\t<tr><td>hel2</td><td>6</td><td>21431</td><td>19452</td><td>43</td><td>40</td><td>-0.13978067</td><td>0.5</td><td>0.0</td><td>0.0</td><td>⋯</td><td>0</td><td>0</td><td>0</td><td>0</td><td>0</td><td>0</td><td>0</td><td>0</td><td>dicodon</td><td>-1.872110e-01</td></tr>\n",
       "\t<tr><td>hel2</td><td>7</td><td>13769</td><td>11807</td><td>14</td><td>14</td><td>-0.22178134</td><td>0.5</td><td>0.0</td><td>0.0</td><td>⋯</td><td>0</td><td>0</td><td>0</td><td>0</td><td>0</td><td>0</td><td>0</td><td>0</td><td>dicodon</td><td>-2.692117e-01</td></tr>\n",
       "</tbody>\n",
       "</table>\n"
      ],
      "text/latex": [
       "A tibble: 6 × 73\n",
       "\\begin{tabular}{lllllllllllllllllllll}\n",
       " genotype & insert\\_num & count\\_gdna & count\\_mrna & n\\_barcodes\\_gdna & n\\_barcodes\\_mrna & lfc & AAA & AAC & AAG & ⋯ & TGA & TGC & TGG & TGT & TTA & TTC & TTG & TTT & type & lfc\\_med\\\\\n",
       " <chr> & <dbl> & <dbl> & <dbl> & <int> & <int> & <dbl> & <dbl> & <dbl> & <dbl> & ⋯ & <dbl> & <dbl> & <dbl> & <dbl> & <dbl> & <dbl> & <dbl> & <dbl> & <chr> & <dbl>\\\\\n",
       "\\hline\n",
       "\t hel2 & 1 &  7141 &  8225 & 27 & 31 &  0.20388956 & 0.5 & 0.5 & 0.0 & ⋯ & 0 & 0 & 0 & 0 & 0 & 0 & 0 & 0 & dicodon &  1.564592e-01\\\\\n",
       "\t hel2 & 2 &  7567 & 12250 & 22 & 24 &  0.69498840 & 0.5 & 0.0 & 0.5 & ⋯ & 0 & 0 & 0 & 0 & 0 & 0 & 0 & 0 & dicodon &  6.475581e-01\\\\\n",
       "\t hel2 & 4 &  8960 &  9259 & 25 & 25 &  0.04735765 & 0.5 & 0.0 & 0.0 & ⋯ & 0 & 0 & 0 & 0 & 0 & 0 & 0 & 0 & dicodon & -7.268978e-05\\\\\n",
       "\t hel2 & 5 & 25440 & 39600 & 62 & 59 &  0.63840176 & 0.5 & 0.0 & 0.0 & ⋯ & 0 & 0 & 0 & 0 & 0 & 0 & 0 & 0 & dicodon &  5.909714e-01\\\\\n",
       "\t hel2 & 6 & 21431 & 19452 & 43 & 40 & -0.13978067 & 0.5 & 0.0 & 0.0 & ⋯ & 0 & 0 & 0 & 0 & 0 & 0 & 0 & 0 & dicodon & -1.872110e-01\\\\\n",
       "\t hel2 & 7 & 13769 & 11807 & 14 & 14 & -0.22178134 & 0.5 & 0.0 & 0.0 & ⋯ & 0 & 0 & 0 & 0 & 0 & 0 & 0 & 0 & dicodon & -2.692117e-01\\\\\n",
       "\\end{tabular}\n"
      ],
      "text/markdown": [
       "\n",
       "A tibble: 6 × 73\n",
       "\n",
       "| genotype &lt;chr&gt; | insert_num &lt;dbl&gt; | count_gdna &lt;dbl&gt; | count_mrna &lt;dbl&gt; | n_barcodes_gdna &lt;int&gt; | n_barcodes_mrna &lt;int&gt; | lfc &lt;dbl&gt; | AAA &lt;dbl&gt; | AAC &lt;dbl&gt; | AAG &lt;dbl&gt; | ⋯ ⋯ | TGA &lt;dbl&gt; | TGC &lt;dbl&gt; | TGG &lt;dbl&gt; | TGT &lt;dbl&gt; | TTA &lt;dbl&gt; | TTC &lt;dbl&gt; | TTG &lt;dbl&gt; | TTT &lt;dbl&gt; | type &lt;chr&gt; | lfc_med &lt;dbl&gt; |\n",
       "|---|---|---|---|---|---|---|---|---|---|---|---|---|---|---|---|---|---|---|---|---|\n",
       "| hel2 | 1 |  7141 |  8225 | 27 | 31 |  0.20388956 | 0.5 | 0.5 | 0.0 | ⋯ | 0 | 0 | 0 | 0 | 0 | 0 | 0 | 0 | dicodon |  1.564592e-01 |\n",
       "| hel2 | 2 |  7567 | 12250 | 22 | 24 |  0.69498840 | 0.5 | 0.0 | 0.5 | ⋯ | 0 | 0 | 0 | 0 | 0 | 0 | 0 | 0 | dicodon |  6.475581e-01 |\n",
       "| hel2 | 4 |  8960 |  9259 | 25 | 25 |  0.04735765 | 0.5 | 0.0 | 0.0 | ⋯ | 0 | 0 | 0 | 0 | 0 | 0 | 0 | 0 | dicodon | -7.268978e-05 |\n",
       "| hel2 | 5 | 25440 | 39600 | 62 | 59 |  0.63840176 | 0.5 | 0.0 | 0.0 | ⋯ | 0 | 0 | 0 | 0 | 0 | 0 | 0 | 0 | dicodon |  5.909714e-01 |\n",
       "| hel2 | 6 | 21431 | 19452 | 43 | 40 | -0.13978067 | 0.5 | 0.0 | 0.0 | ⋯ | 0 | 0 | 0 | 0 | 0 | 0 | 0 | 0 | dicodon | -1.872110e-01 |\n",
       "| hel2 | 7 | 13769 | 11807 | 14 | 14 | -0.22178134 | 0.5 | 0.0 | 0.0 | ⋯ | 0 | 0 | 0 | 0 | 0 | 0 | 0 | 0 | dicodon | -2.692117e-01 |\n",
       "\n"
      ],
      "text/plain": [
       "  genotype insert_num count_gdna count_mrna n_barcodes_gdna n_barcodes_mrna\n",
       "1 hel2     1           7141       8225      27              31             \n",
       "2 hel2     2           7567      12250      22              24             \n",
       "3 hel2     4           8960       9259      25              25             \n",
       "4 hel2     5          25440      39600      62              59             \n",
       "5 hel2     6          21431      19452      43              40             \n",
       "6 hel2     7          13769      11807      14              14             \n",
       "  lfc         AAA AAC AAG ⋯ TGA TGC TGG TGT TTA TTC TTG TTT type   \n",
       "1  0.20388956 0.5 0.5 0.0 ⋯ 0   0   0   0   0   0   0   0   dicodon\n",
       "2  0.69498840 0.5 0.0 0.5 ⋯ 0   0   0   0   0   0   0   0   dicodon\n",
       "3  0.04735765 0.5 0.0 0.0 ⋯ 0   0   0   0   0   0   0   0   dicodon\n",
       "4  0.63840176 0.5 0.0 0.0 ⋯ 0   0   0   0   0   0   0   0   dicodon\n",
       "5 -0.13978067 0.5 0.0 0.0 ⋯ 0   0   0   0   0   0   0   0   dicodon\n",
       "6 -0.22178134 0.5 0.0 0.0 ⋯ 0   0   0   0   0   0   0   0   dicodon\n",
       "  lfc_med      \n",
       "1  1.564592e-01\n",
       "2  6.475581e-01\n",
       "3 -7.268978e-05\n",
       "4  5.909714e-01\n",
       "5 -1.872110e-01\n",
       "6 -2.692117e-01"
      ]
     },
     "metadata": {},
     "output_type": "display_data"
    }
   ],
   "source": [
    "inserts_lfc_hel2 <- barcode_counts_e67 %>%\n",
    "    filter(genotype == 'hel2') %>%\n",
    "    group_by(genotype, sample_type, insert_num) %>%\n",
    "    summarize(count = sum(barcode_count), n_barcodes = n(), .groups='drop') %>%\n",
    "    filter(n_barcodes >= barcodes_cutoff) %>%\n",
    "    filter(count >= insert_reads_cutoff) %>%\n",
    "    pivot_wider(names_from = c(sample_type), values_from = c(count, n_barcodes)) %>%\n",
    "    mutate(lfc = log2(count_mrna) - log2(count_gdna)) %>%\n",
    "    drop_na(lfc) %>%\n",
    "    left_join(insert_annotations_codon_freq, by='insert_num') %>%\n",
    "    mutate(type = ifelse(insert_num >=4095, 'endo', 'dicodon')) %>%\n",
    "    group_by(type) %>%\n",
    "    mutate(lfc_med = lfc - median(lfc)) %>%\n",
    "    select(-insert) %>%\n",
    "    ungroup()\n",
    "\n",
    "head(inserts_lfc_hel2)"
   ]
  },
  {
   "cell_type": "code",
   "execution_count": 18,
   "metadata": {
    "vscode": {
     "languageId": "r"
    }
   },
   "outputs": [],
   "source": [
    "endo_insert_lfc <- inserts_lfc_hel2 %>%\n",
    "    filter(insert_num > 4095)\n",
    "dicodon_insert_lfc <- inserts_lfc_hel2 %>%\n",
    "    filter(insert_num <= 4095)"
   ]
  },
  {
   "cell_type": "code",
   "execution_count": 19,
   "metadata": {
    "vscode": {
     "languageId": "r"
    }
   },
   "outputs": [
    {
     "name": "stderr",
     "output_type": "stream",
     "text": [
      "Warning message in cor(x, endo_insert_lfc$lfc_med, method = \"pearson\"):\n",
      "“the standard deviation is zero”\n",
      "Warning message in cor(x, endo_insert_lfc$lfc_med, method = \"pearson\"):\n",
      "“the standard deviation is zero”\n",
      "Warning message in cor(x, endo_insert_lfc$lfc_med, method = \"pearson\"):\n",
      "“the standard deviation is zero”\n"
     ]
    }
   ],
   "source": [
    "endo_csc <- lapply(endo_insert_lfc[8:71], function(x) {\n",
    "    cor(x, endo_insert_lfc$lfc_med, method='pearson')\n",
    "}) %>%\n",
    "    enframe() %>%\n",
    "    rename(codon = name, corr_freq_lfc=value) %>%\n",
    "    mutate(corr_freq_lfc = as.numeric(corr_freq_lfc))"
   ]
  },
  {
   "cell_type": "code",
   "execution_count": 20,
   "metadata": {
    "vscode": {
     "languageId": "r"
    }
   },
   "outputs": [],
   "source": [
    "dicodon_csc <- lapply(dicodon_insert_lfc[8:71], function(x) {\n",
    "    cor(x, dicodon_insert_lfc$lfc_med, method='pearson')\n",
    "}) %>%\n",
    "    enframe() %>%\n",
    "    rename(codon = name, corr_freq_lfc=value) %>%\n",
    "    mutate(corr_freq_lfc = as.numeric(corr_freq_lfc))"
   ]
  },
  {
   "cell_type": "code",
   "execution_count": 21,
   "metadata": {
    "vscode": {
     "languageId": "r"
    }
   },
   "outputs": [],
   "source": [
    "dicodon_endo_csc <- dicodon_csc %>%\n",
    "    rename(dicodon_csc = corr_freq_lfc) %>%\n",
    "    inner_join(endo_csc, by='codon') %>%\n",
    "    rename(endo_csc = corr_freq_lfc) %>%\n",
    "    drop_na()"
   ]
  },
  {
   "cell_type": "code",
   "execution_count": 22,
   "metadata": {
    "vscode": {
     "languageId": "r"
    }
   },
   "outputs": [],
   "source": [
    "hel2_endo_dicodon_csc <- dicodon_endo_csc %>%\n",
    "    mutate(genotype = 'hel2')"
   ]
  },
  {
   "cell_type": "code",
   "execution_count": 23,
   "metadata": {
    "vscode": {
     "languageId": "r"
    }
   },
   "outputs": [
    {
     "name": "stderr",
     "output_type": "stream",
     "text": [
      "\u001b[1m\u001b[22m`geom_smooth()` using formula = 'y ~ x'\n"
     ]
    },
    {
     "name": "stderr",
     "output_type": "stream",
     "text": [
      "\u001b[1m\u001b[22m`geom_smooth()` using formula = 'y ~ x'\n"
     ]
    },
    {
     "data": {
      "image/png": "[encoded data removed]",
      "text/plain": [
       "plot without title"
      ]
     },
     "metadata": {
      "image/png": {
       "height": 120,
       "width": 120
      }
     },
     "output_type": "display_data"
    }
   ],
   "source": [
    "options(repr.plot.width = 2, repr.plot.height = 2)\n",
    "\n",
    "pearson_r = cor(dicodon_endo_csc$dicodon_csc, dicodon_endo_csc$endo_csc, method=c('pearson'))\n",
    "pearson_p = cor.test(dicodon_endo_csc$dicodon_csc, dicodon_endo_csc$endo_csc, method=c('pearson'))$p.value\n",
    "\n",
    "dicodon_endo_csc %>%\n",
    "    mutate(name = str_c(codon, \" (\", GENETIC_CODE[codon], \")\")) %>%\n",
    "    ggplot() +\n",
    "    aes(x=dicodon_csc, y=endo_csc) +\n",
    "    geom_point(size=0.2) +\n",
    "    geom_smooth(method=lm, se=FALSE, linewidth=0.2) +\n",
    "    annotate('text', x = 0.17, y = -0.075, label = str_c(\"r = \", round(pearson_r, 2)),  size=7/.pt) +\n",
    "    annotate('text', x = 0.17, y = -0.095, label = \"p < 1e-4\", size=7/.pt) +\n",
    "    theme +\n",
    "    theme(\n",
    "        plot.title = element_text(hjust = 0.5, size=8)\n",
    "        ) + \n",
    "    labs(x='Codon pair inserts CSC', y='Endogenous inserts CSC', title='hel2')\n",
    "\n",
    "ggsave(\"../figures/hel2_endo_vs_dicodon_codon_analogous_csc.pdf\", width=2.06, height=1.95, units='in', dpi=300)"
   ]
  },
  {
   "cell_type": "code",
   "execution_count": 24,
   "metadata": {
    "vscode": {
     "languageId": "r"
    }
   },
   "outputs": [
    {
     "data": {
      "text/html": [
       "4.47924923521787e-05"
      ],
      "text/latex": [
       "4.47924923521787e-05"
      ],
      "text/markdown": [
       "4.47924923521787e-05"
      ],
      "text/plain": [
       "[1] 4.479249e-05"
      ]
     },
     "metadata": {},
     "output_type": "display_data"
    }
   ],
   "source": [
    "pearson_p"
   ]
  },
  {
   "cell_type": "markdown",
   "metadata": {},
   "source": [
    "## Plot CSC dicodon vs endogenous for Syh1"
   ]
  },
  {
   "cell_type": "code",
   "execution_count": 25,
   "metadata": {
    "vscode": {
     "languageId": "r"
    }
   },
   "outputs": [
    {
     "data": {
      "text/html": [
       "<table class=\"dataframe\">\n",
       "<caption>A tibble: 6 × 73</caption>\n",
       "<thead>\n",
       "\t<tr><th scope=col>genotype</th><th scope=col>insert_num</th><th scope=col>count_gdna</th><th scope=col>count_mrna</th><th scope=col>n_barcodes_gdna</th><th scope=col>n_barcodes_mrna</th><th scope=col>lfc</th><th scope=col>AAA</th><th scope=col>AAC</th><th scope=col>AAG</th><th scope=col>⋯</th><th scope=col>TGA</th><th scope=col>TGC</th><th scope=col>TGG</th><th scope=col>TGT</th><th scope=col>TTA</th><th scope=col>TTC</th><th scope=col>TTG</th><th scope=col>TTT</th><th scope=col>type</th><th scope=col>lfc_med</th></tr>\n",
       "\t<tr><th scope=col>&lt;chr&gt;</th><th scope=col>&lt;dbl&gt;</th><th scope=col>&lt;dbl&gt;</th><th scope=col>&lt;dbl&gt;</th><th scope=col>&lt;int&gt;</th><th scope=col>&lt;int&gt;</th><th scope=col>&lt;dbl&gt;</th><th scope=col>&lt;dbl&gt;</th><th scope=col>&lt;dbl&gt;</th><th scope=col>&lt;dbl&gt;</th><th scope=col>⋯</th><th scope=col>&lt;dbl&gt;</th><th scope=col>&lt;dbl&gt;</th><th scope=col>&lt;dbl&gt;</th><th scope=col>&lt;dbl&gt;</th><th scope=col>&lt;dbl&gt;</th><th scope=col>&lt;dbl&gt;</th><th scope=col>&lt;dbl&gt;</th><th scope=col>&lt;dbl&gt;</th><th scope=col>&lt;chr&gt;</th><th scope=col>&lt;dbl&gt;</th></tr>\n",
       "</thead>\n",
       "<tbody>\n",
       "\t<tr><td>syh1</td><td>1</td><td>3095</td><td>10708</td><td>28</td><td>28</td><td>1.790678</td><td>0.5</td><td>0.5</td><td>0.0</td><td>⋯</td><td>0</td><td>0</td><td>0</td><td>0</td><td>0</td><td>0</td><td>0</td><td>0</td><td>dicodon</td><td> 0.1279837</td></tr>\n",
       "\t<tr><td>syh1</td><td>2</td><td>2350</td><td> 6921</td><td>28</td><td>29</td><td>1.558320</td><td>0.5</td><td>0.0</td><td>0.5</td><td>⋯</td><td>0</td><td>0</td><td>0</td><td>0</td><td>0</td><td>0</td><td>0</td><td>0</td><td>dicodon</td><td>-0.1043743</td></tr>\n",
       "\t<tr><td>syh1</td><td>4</td><td>3325</td><td>11318</td><td>24</td><td>26</td><td>1.767193</td><td>0.5</td><td>0.0</td><td>0.0</td><td>⋯</td><td>0</td><td>0</td><td>0</td><td>0</td><td>0</td><td>0</td><td>0</td><td>0</td><td>dicodon</td><td> 0.1044988</td></tr>\n",
       "\t<tr><td>syh1</td><td>5</td><td>5273</td><td>20131</td><td>60</td><td>62</td><td>1.932723</td><td>0.5</td><td>0.0</td><td>0.0</td><td>⋯</td><td>0</td><td>0</td><td>0</td><td>0</td><td>0</td><td>0</td><td>0</td><td>0</td><td>dicodon</td><td> 0.2700289</td></tr>\n",
       "\t<tr><td>syh1</td><td>6</td><td>4645</td><td>11636</td><td>44</td><td>51</td><td>1.324845</td><td>0.5</td><td>0.0</td><td>0.0</td><td>⋯</td><td>0</td><td>0</td><td>0</td><td>0</td><td>0</td><td>0</td><td>0</td><td>0</td><td>dicodon</td><td>-0.3378493</td></tr>\n",
       "\t<tr><td>syh1</td><td>7</td><td>1653</td><td> 4837</td><td>15</td><td>16</td><td>1.549026</td><td>0.5</td><td>0.0</td><td>0.0</td><td>⋯</td><td>0</td><td>0</td><td>0</td><td>0</td><td>0</td><td>0</td><td>0</td><td>0</td><td>dicodon</td><td>-0.1136682</td></tr>\n",
       "</tbody>\n",
       "</table>\n"
      ],
      "text/latex": [
       "A tibble: 6 × 73\n",
       "\\begin{tabular}{lllllllllllllllllllll}\n",
       " genotype & insert\\_num & count\\_gdna & count\\_mrna & n\\_barcodes\\_gdna & n\\_barcodes\\_mrna & lfc & AAA & AAC & AAG & ⋯ & TGA & TGC & TGG & TGT & TTA & TTC & TTG & TTT & type & lfc\\_med\\\\\n",
       " <chr> & <dbl> & <dbl> & <dbl> & <int> & <int> & <dbl> & <dbl> & <dbl> & <dbl> & ⋯ & <dbl> & <dbl> & <dbl> & <dbl> & <dbl> & <dbl> & <dbl> & <dbl> & <chr> & <dbl>\\\\\n",
       "\\hline\n",
       "\t syh1 & 1 & 3095 & 10708 & 28 & 28 & 1.790678 & 0.5 & 0.5 & 0.0 & ⋯ & 0 & 0 & 0 & 0 & 0 & 0 & 0 & 0 & dicodon &  0.1279837\\\\\n",
       "\t syh1 & 2 & 2350 &  6921 & 28 & 29 & 1.558320 & 0.5 & 0.0 & 0.5 & ⋯ & 0 & 0 & 0 & 0 & 0 & 0 & 0 & 0 & dicodon & -0.1043743\\\\\n",
       "\t syh1 & 4 & 3325 & 11318 & 24 & 26 & 1.767193 & 0.5 & 0.0 & 0.0 & ⋯ & 0 & 0 & 0 & 0 & 0 & 0 & 0 & 0 & dicodon &  0.1044988\\\\\n",
       "\t syh1 & 5 & 5273 & 20131 & 60 & 62 & 1.932723 & 0.5 & 0.0 & 0.0 & ⋯ & 0 & 0 & 0 & 0 & 0 & 0 & 0 & 0 & dicodon &  0.2700289\\\\\n",
       "\t syh1 & 6 & 4645 & 11636 & 44 & 51 & 1.324845 & 0.5 & 0.0 & 0.0 & ⋯ & 0 & 0 & 0 & 0 & 0 & 0 & 0 & 0 & dicodon & -0.3378493\\\\\n",
       "\t syh1 & 7 & 1653 &  4837 & 15 & 16 & 1.549026 & 0.5 & 0.0 & 0.0 & ⋯ & 0 & 0 & 0 & 0 & 0 & 0 & 0 & 0 & dicodon & -0.1136682\\\\\n",
       "\\end{tabular}\n"
      ],
      "text/markdown": [
       "\n",
       "A tibble: 6 × 73\n",
       "\n",
       "| genotype &lt;chr&gt; | insert_num &lt;dbl&gt; | count_gdna &lt;dbl&gt; | count_mrna &lt;dbl&gt; | n_barcodes_gdna &lt;int&gt; | n_barcodes_mrna &lt;int&gt; | lfc &lt;dbl&gt; | AAA &lt;dbl&gt; | AAC &lt;dbl&gt; | AAG &lt;dbl&gt; | ⋯ ⋯ | TGA &lt;dbl&gt; | TGC &lt;dbl&gt; | TGG &lt;dbl&gt; | TGT &lt;dbl&gt; | TTA &lt;dbl&gt; | TTC &lt;dbl&gt; | TTG &lt;dbl&gt; | TTT &lt;dbl&gt; | type &lt;chr&gt; | lfc_med &lt;dbl&gt; |\n",
       "|---|---|---|---|---|---|---|---|---|---|---|---|---|---|---|---|---|---|---|---|---|\n",
       "| syh1 | 1 | 3095 | 10708 | 28 | 28 | 1.790678 | 0.5 | 0.5 | 0.0 | ⋯ | 0 | 0 | 0 | 0 | 0 | 0 | 0 | 0 | dicodon |  0.1279837 |\n",
       "| syh1 | 2 | 2350 |  6921 | 28 | 29 | 1.558320 | 0.5 | 0.0 | 0.5 | ⋯ | 0 | 0 | 0 | 0 | 0 | 0 | 0 | 0 | dicodon | -0.1043743 |\n",
       "| syh1 | 4 | 3325 | 11318 | 24 | 26 | 1.767193 | 0.5 | 0.0 | 0.0 | ⋯ | 0 | 0 | 0 | 0 | 0 | 0 | 0 | 0 | dicodon |  0.1044988 |\n",
       "| syh1 | 5 | 5273 | 20131 | 60 | 62 | 1.932723 | 0.5 | 0.0 | 0.0 | ⋯ | 0 | 0 | 0 | 0 | 0 | 0 | 0 | 0 | dicodon |  0.2700289 |\n",
       "| syh1 | 6 | 4645 | 11636 | 44 | 51 | 1.324845 | 0.5 | 0.0 | 0.0 | ⋯ | 0 | 0 | 0 | 0 | 0 | 0 | 0 | 0 | dicodon | -0.3378493 |\n",
       "| syh1 | 7 | 1653 |  4837 | 15 | 16 | 1.549026 | 0.5 | 0.0 | 0.0 | ⋯ | 0 | 0 | 0 | 0 | 0 | 0 | 0 | 0 | dicodon | -0.1136682 |\n",
       "\n"
      ],
      "text/plain": [
       "  genotype insert_num count_gdna count_mrna n_barcodes_gdna n_barcodes_mrna\n",
       "1 syh1     1          3095       10708      28              28             \n",
       "2 syh1     2          2350        6921      28              29             \n",
       "3 syh1     4          3325       11318      24              26             \n",
       "4 syh1     5          5273       20131      60              62             \n",
       "5 syh1     6          4645       11636      44              51             \n",
       "6 syh1     7          1653        4837      15              16             \n",
       "  lfc      AAA AAC AAG ⋯ TGA TGC TGG TGT TTA TTC TTG TTT type    lfc_med   \n",
       "1 1.790678 0.5 0.5 0.0 ⋯ 0   0   0   0   0   0   0   0   dicodon  0.1279837\n",
       "2 1.558320 0.5 0.0 0.5 ⋯ 0   0   0   0   0   0   0   0   dicodon -0.1043743\n",
       "3 1.767193 0.5 0.0 0.0 ⋯ 0   0   0   0   0   0   0   0   dicodon  0.1044988\n",
       "4 1.932723 0.5 0.0 0.0 ⋯ 0   0   0   0   0   0   0   0   dicodon  0.2700289\n",
       "5 1.324845 0.5 0.0 0.0 ⋯ 0   0   0   0   0   0   0   0   dicodon -0.3378493\n",
       "6 1.549026 0.5 0.0 0.0 ⋯ 0   0   0   0   0   0   0   0   dicodon -0.1136682"
      ]
     },
     "metadata": {},
     "output_type": "display_data"
    }
   ],
   "source": [
    "inserts_lfc_syh1 <- barcode_counts_e67 %>%\n",
    "    filter(genotype == 'syh1') %>%\n",
    "    group_by(genotype, sample_type, insert_num) %>%\n",
    "    summarize(count = sum(barcode_count), n_barcodes = n(), .groups='drop') %>%\n",
    "    filter(n_barcodes >= barcodes_cutoff) %>%\n",
    "    filter(count >= insert_reads_cutoff) %>%\n",
    "    pivot_wider(names_from = c(sample_type), values_from = c(count, n_barcodes)) %>%\n",
    "    mutate(lfc = log2(count_mrna) - log2(count_gdna)) %>%\n",
    "    drop_na(lfc) %>%\n",
    "    left_join(insert_annotations_codon_freq, by='insert_num') %>%\n",
    "    mutate(type = ifelse(insert_num >=4095, 'endo', 'dicodon')) %>%\n",
    "    group_by(type) %>%\n",
    "    mutate(lfc_med = lfc - median(lfc)) %>%\n",
    "    select(-insert) %>%\n",
    "    ungroup()\n",
    "\n",
    "head(inserts_lfc_syh1)"
   ]
  },
  {
   "cell_type": "code",
   "execution_count": 26,
   "metadata": {
    "vscode": {
     "languageId": "r"
    }
   },
   "outputs": [],
   "source": [
    "endo_insert_lfc <- inserts_lfc_syh1 %>%\n",
    "    filter(insert_num > 4095)\n",
    "dicodon_insert_lfc <- inserts_lfc_syh1 %>%\n",
    "    filter(insert_num <= 4095)"
   ]
  },
  {
   "cell_type": "code",
   "execution_count": 27,
   "metadata": {
    "vscode": {
     "languageId": "r"
    }
   },
   "outputs": [
    {
     "name": "stderr",
     "output_type": "stream",
     "text": [
      "Warning message in cor(x, endo_insert_lfc$lfc_med, method = \"pearson\"):\n",
      "“the standard deviation is zero”\n",
      "Warning message in cor(x, endo_insert_lfc$lfc_med, method = \"pearson\"):\n",
      "“the standard deviation is zero”\n",
      "Warning message in cor(x, endo_insert_lfc$lfc_med, method = \"pearson\"):\n",
      "“the standard deviation is zero”\n"
     ]
    }
   ],
   "source": [
    "endo_csc <- lapply(endo_insert_lfc[8:71], function(x) {\n",
    "    cor(x, endo_insert_lfc$lfc_med, method='pearson')\n",
    "}) %>%\n",
    "    enframe() %>%\n",
    "    rename(codon = name, corr_freq_lfc=value) %>%\n",
    "    mutate(corr_freq_lfc = as.numeric(corr_freq_lfc))"
   ]
  },
  {
   "cell_type": "code",
   "execution_count": 28,
   "metadata": {
    "vscode": {
     "languageId": "r"
    }
   },
   "outputs": [],
   "source": [
    "dicodon_csc <- lapply(dicodon_insert_lfc[8:71], function(x) {\n",
    "    cor(x, dicodon_insert_lfc$lfc_med, method='pearson')\n",
    "}) %>%\n",
    "    enframe() %>%\n",
    "    rename(codon = name, corr_freq_lfc=value) %>%\n",
    "    mutate(corr_freq_lfc = as.numeric(corr_freq_lfc))"
   ]
  },
  {
   "cell_type": "code",
   "execution_count": 29,
   "metadata": {
    "vscode": {
     "languageId": "r"
    }
   },
   "outputs": [],
   "source": [
    "dicodon_endo_csc <- dicodon_csc %>%\n",
    "    rename(dicodon_csc = corr_freq_lfc) %>%\n",
    "    inner_join(endo_csc, by='codon') %>%\n",
    "    rename(endo_csc = corr_freq_lfc) %>%\n",
    "    drop_na()"
   ]
  },
  {
   "cell_type": "code",
   "execution_count": 30,
   "metadata": {
    "vscode": {
     "languageId": "r"
    }
   },
   "outputs": [
    {
     "name": "stderr",
     "output_type": "stream",
     "text": [
      "\u001b[1m\u001b[22m`geom_smooth()` using formula = 'y ~ x'\n"
     ]
    },
    {
     "data": {
      "image/png": "[encoded data removed]",
      "text/plain": [
       "plot without title"
      ]
     },
     "metadata": {
      "image/png": {
       "height": 120,
       "width": 120
      }
     },
     "output_type": "display_data"
    }
   ],
   "source": [
    "options(repr.plot.width = 2, repr.plot.height = 2)\n",
    "\n",
    "pearson_r = cor(dicodon_endo_csc$dicodon_csc, dicodon_endo_csc$endo_csc, method=c('pearson'))\n",
    "pearson_p = cor.test(dicodon_endo_csc$dicodon_csc, dicodon_endo_csc$endo_csc, method=c('pearson'))$p.value\n",
    "\n",
    "dicodon_endo_csc %>%\n",
    "    mutate(name = str_c(codon, \" (\", GENETIC_CODE[codon], \")\")) %>%\n",
    "    ggplot() +\n",
    "    aes(x=dicodon_csc, y=endo_csc) +\n",
    "    geom_point(size=0.2) +\n",
    "    geom_smooth(method=lm, se=FALSE, linewidth=0.2) +\n",
    "    annotate('text', x = 0.1, y = -0.07, label = str_c(\"r = \", round(pearson_r, 2)),  size=7/.pt) +\n",
    "    annotate('text', x = 0.1, y = -0.1, label = \"p < 1e-05\", size=7/.pt) +\n",
    "    theme +\n",
    "    theme(axis.text.x=element_text(angle=45, hjust=1,vjust=1)) + \n",
    "    labs(x='Codon pair inserts CSC', y='Endogenous inserts CSC')\n",
    "\n",
    "# ggsave(\"../figures/syh1_endo_vs_dicodon_codon_analogous_csc.pdf\", width=1.95, height=1.7, units='in', dpi=300)"
   ]
  }
 ],
 "metadata": {
  "kernelspec": {
   "display_name": "R_project_repo_1.13.0",
   "language": "R",
   "name": "ir_project_repo_1.13.0"
  },
  "language_info": {
   "codemirror_mode": "r",
   "file_extension": ".r",
   "mimetype": "text/x-r-source",
   "name": "R",
   "pygments_lexer": "r",
   "version": "4.1.3"
  },
  "orig_nbformat": 4,
  "vscode": {
   "interpreter": {
    "hash": "33ccdda4403b85622dcca6b225ea57e4a6a8ea27d62bd4ef32f6f7605d06a567"
   }
  }
 },
 "nbformat": 4,
 "nbformat_minor": 2
}
