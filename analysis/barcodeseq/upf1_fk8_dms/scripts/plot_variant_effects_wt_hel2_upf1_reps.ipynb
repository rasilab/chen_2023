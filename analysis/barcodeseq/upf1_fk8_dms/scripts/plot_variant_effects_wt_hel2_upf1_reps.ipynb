{
 "cells": [
  {
   "attachments": {},
   "cell_type": "markdown",
   "metadata": {},
   "source": [
    "## Analyze FK8 DMS data in WT, Hel2-del and Upf1-del cells"
   ]
  },
  {
   "cell_type": "code",
   "execution_count": 1,
   "metadata": {
    "vscode": {
     "languageId": "r"
    }
   },
   "outputs": [],
   "source": [
    "suppressPackageStartupMessages(library(Biostrings))\n",
    "suppressPackageStartupMessages(library(plyranges))\n",
    "suppressPackageStartupMessages(library(tidyverse))\n",
    "suppressPackageStartupMessages(library(rasilabRtemplates))\n",
    "suppressPackageStartupMessages(library(plotrix))"
   ]
  },
  {
   "attachments": {},
   "cell_type": "markdown",
   "metadata": {},
   "source": [
    "### Global themes"
   ]
  },
  {
   "cell_type": "code",
   "execution_count": 2,
   "metadata": {
    "vscode": {
     "languageId": "r"
    }
   },
   "outputs": [
    {
     "name": "stderr",
     "output_type": "stream",
     "text": [
      "Warning message:\n",
      "“\u001b[1m\u001b[22mThe `size` argument of `element_line()` is deprecated as of ggplot2 3.4.0.\n",
      "\u001b[36mℹ\u001b[39m Please use the `linewidth` argument instead.”\n"
     ]
    }
   ],
   "source": [
    "theme <- theme(\n",
    "        title = element_text(margin = margin(t=0, r=2, b=2, l=2), size=8),\n",
    "        axis.title.x = element_text(margin = margin(t=2, r=2, b=0, l=2), size=8),\n",
    "        axis.title.y = element_text(margin = margin(t=2, r=2, b=2, l=0), size=8),\n",
    "        text = element_text(size = 8),\n",
    "        legend.text=element_text(size=8),\n",
    "        axis.line.x=element_line(size=0.2),\n",
    "        axis.line.y=element_line(size=0.2),\n",
    "        axis.ticks.y =  element_line(size=0.2),\n",
    "        axis.ticks.x = element_line(size=0.2),\n",
    "        axis.text.x = element_text(size=8),\n",
    "        axis.text.y = element_text(size=8)\n",
    "        )"
   ]
  },
  {
   "cell_type": "code",
   "execution_count": 3,
   "metadata": {
    "vscode": {
     "languageId": "r"
    }
   },
   "outputs": [],
   "source": [
    "if (!file.exists('../figures')){\n",
    "    dir.create('../figures')\n",
    "}"
   ]
  },
  {
   "attachments": {},
   "cell_type": "markdown",
   "metadata": {},
   "source": [
    "### Load sample annotations and counts from manuscript"
   ]
  },
  {
   "cell_type": "code",
   "execution_count": 4,
   "metadata": {
    "vscode": {
     "languageId": "r"
    }
   },
   "outputs": [
    {
     "name": "stderr",
     "output_type": "stream",
     "text": [
      "\u001b[1mRows: \u001b[22m\u001b[34m8\u001b[39m \u001b[1mColumns: \u001b[22m\u001b[34m19\u001b[39m\n",
      "\u001b[36m──\u001b[39m \u001b[1mColumn specification\u001b[22m \u001b[36m────────────────────────────────────────────────────────\u001b[39m\n",
      "\u001b[1mDelimiter:\u001b[22m \",\"\n",
      "\u001b[31mchr\u001b[39m (13): owner, sample_type, sample_name, plasmid, library_type, illumina_s...\n",
      "\u001b[32mdbl\u001b[39m  (6): insert_read, insert_start, insert_length, umi_read, umi_start, umi...\n",
      "\n",
      "\u001b[36mℹ\u001b[39m Use `spec()` to retrieve the full column specification for this data.\n",
      "\u001b[36mℹ\u001b[39m Specify the column types or set `show_col_types = FALSE` to quiet this message.\n"
     ]
    }
   ],
   "source": [
    "sample_annotations_mn <- read_csv(\"../../wt_hel2_fk8_dms/annotations/sample_annotations.csv\", comment='#')"
   ]
  },
  {
   "cell_type": "code",
   "execution_count": 5,
   "metadata": {
    "vscode": {
     "languageId": "r"
    }
   },
   "outputs": [],
   "source": [
    "spikein_annotations_mn <- read_csv(\"../../wt_hel2_fk8_dms/annotations/insert_annotations.csv\", show_col_types = F) %>%\n",
    "    filter(is.na(codon)) %>%\n",
    "    select(insert_num, insert_seq, wt_motif, motif, mutstart, codon) %>%\n",
    "    mutate(aa = 'spikein', motif = 'SPIKEIN')"
   ]
  },
  {
   "cell_type": "code",
   "execution_count": 6,
   "metadata": {
    "vscode": {
     "languageId": "r"
    }
   },
   "outputs": [],
   "source": [
    "variant_annotations_mn <- read_csv(\"../../wt_hel2_fk8_dms/annotations/insert_annotations.csv\", show_col_types = F) %>%\n",
    "    drop_na() %>%\n",
    "    mutate(wt_seq = 'TTCAAGTTTAAGTTCAAGTTCAAATTCAAGTTTAAGTTCAAGTTCAAA') %>%\n",
    "    mutate(aa = as.character(translate(DNAStringSet(codon), no.init.codon = T))) %>%\n",
    "    mutate(aa_loc = (mutstart+2)/3) %>%\n",
    "    mutate(wt_codon = substr(wt_seq, mutstart, mutstart+2)) %>%\n",
    "    mutate(wt_aa = as.character(translate(DNAStringSet(wt_codon), no.init.codon = T))) %>% \n",
    "    group_by(insert_seq) %>%\n",
    "    slice(1) %>% # removes repeated WT sequences\n",
    "    ungroup() %>%\n",
    "    select(insert_num, insert_seq, wt_motif, motif, mutstart, codon, aa, aa_loc, wt_codon, wt_aa) %>%\n",
    "    bind_rows(spikein_annotations_mn)"
   ]
  },
  {
   "attachments": {},
   "cell_type": "markdown",
   "metadata": {},
   "source": [
    "### Read in raw variant counts from manuscript experiment"
   ]
  },
  {
   "cell_type": "code",
   "execution_count": 7,
   "metadata": {
    "vscode": {
     "languageId": "r"
    }
   },
   "outputs": [],
   "source": [
    "raw_counts_mn <- list.files(\"../../wt_hel2_fk8_dms/data/annotated_insert_umi_counts\", full.names = T, pattern = \"csv$\") %>%\n",
    "  as_tibble_col(\"file\") %>%\n",
    "  mutate(sample_name = str_extract(file, \"[^/]+(?=.csv)\")) %>%\n",
    "  mutate(data = map(file, . %>% read_csv(show_col_types = F))) %>%\n",
    "  select(sample_name, -file, data) %>%\n",
    "  unnest(data)"
   ]
  },
  {
   "cell_type": "code",
   "execution_count": 8,
   "metadata": {
    "vscode": {
     "languageId": "r"
    }
   },
   "outputs": [],
   "source": [
    "variant_counts_mn <- raw_counts_mn %>%\n",
    "    mutate(insert_num = as.numeric(str_extract(insert_num, \"[:digit:]+\"))) %>%\n",
    "    inner_join(variant_annotations_mn, by = c(\"insert_num\"))"
   ]
  },
  {
   "cell_type": "code",
   "execution_count": 9,
   "metadata": {
    "vscode": {
     "languageId": "r"
    }
   },
   "outputs": [],
   "source": [
    "seq_effect_mn <- variant_counts_mn %>%\n",
    "    group_by(sample_name, insert_num) %>%\n",
    "    summarize(read_count = sum(count), umi_count = n(), .groups='drop') %>%\n",
    "    left_join(select(sample_annotations_mn, sample_id, sample_name), by=c('sample_name')) %>%\n",
    "    mutate(sample_type = str_extract(sample_name, \"rna|grna\"), \n",
    "            replicate = str_extract(sample_name, \"1$|2$\")) %>%\n",
    "    mutate(replicate = ifelse(is.na(replicate), '1', replicate)) %>%\n",
    "    mutate(genotype = str_extract(sample_name, \"[^_]+\"))"
   ]
  },
  {
   "cell_type": "code",
   "execution_count": 10,
   "metadata": {
    "vscode": {
     "languageId": "r"
    }
   },
   "outputs": [],
   "source": [
    "umi_count_lfc_mn <- seq_effect_mn %>%\n",
    "  select(-sample_id, -sample_name, -read_count) %>%\n",
    "  pivot_wider(names_from = c(\"sample_type\", \"replicate\"), values_from = c(\"umi_count\")) %>%\n",
    "  filter(!is.na(grna_1), !is.na(grna_2), !is.na(rna_1), !is.na(rna_2)) %>% \n",
    "  mutate(lfc_1 = log2(rna_1/grna_1), lfc_2 = log2(rna_2/grna_2))"
   ]
  },
  {
   "cell_type": "code",
   "execution_count": 11,
   "metadata": {
    "vscode": {
     "languageId": "r"
    }
   },
   "outputs": [],
   "source": [
    "sc_umi_lfc_mn <- seq_effect_mn %>% # repeat above for spikein counts\n",
    "  select(-sample_id, -sample_name, -read_count) %>%\n",
    "  left_join(variant_annotations_mn, by='insert_num') %>%\n",
    "  filter(motif == 'SPIKEIN') %>%\n",
    "  group_by(genotype, motif, replicate, sample_type) %>%\n",
    "  summarize(umi_count = sum(umi_count), .groups='drop') %>%\n",
    "  pivot_wider(names_from = c(\"sample_type\", \"replicate\"), values_from = c(\"umi_count\")) %>%\n",
    "  mutate(lfc_1 = log2(rna_1/grna_1), lfc_2 = log2(rna_2/grna_2)) %>%\n",
    "  mutate(lfc = mean(c(lfc_1,lfc_2)), lfc_diff = abs(lfc_1 - lfc_2))"
   ]
  },
  {
   "cell_type": "code",
   "execution_count": 12,
   "metadata": {
    "vscode": {
     "languageId": "r"
    }
   },
   "outputs": [],
   "source": [
    "lfc_umi_sc_mn <- umi_count_lfc_mn %>% \n",
    "    left_join(variant_annotations_mn, by='insert_num') %>%\n",
    "    filter(motif != 'SPIKEIN') %>%\n",
    "    group_by(genotype, insert_num) %>%\n",
    "    mutate(lfc = mean(c(lfc_1,lfc_2)), lfc_diff = abs(lfc_1 - lfc_2)) %>%\n",
    "    ungroup() %>%\n",
    "    mutate(wt = (aa == wt_aa)) %>%\n",
    "    bind_rows(sc_umi_lfc_mn) %>%\n",
    "    select(insert_num, genotype, insert_seq, motif, mutstart, codon, aa, aa_loc, wt_codon, wt_aa, wt, lfc_1, lfc_2, lfc) %>%\n",
    "    group_by(genotype) %>%\n",
    "    mutate(lfc_sc_1 = lfc_1 - lfc[motif == 'SPIKEIN']) %>% # normalize inserts to spikein umi for rep1\n",
    "    mutate(lfc_sc_2 = lfc_2 - lfc[motif == 'SPIKEIN']) %>% # and rep2\n",
    "    mutate(lfc_sc = lfc - lfc[motif == 'SPIKEIN']) %>% # and for the avg of rep1 and rep2\n",
    "    ungroup() %>%\n",
    "    select(-lfc_1, -lfc_2)"
   ]
  },
  {
   "cell_type": "markdown",
   "metadata": {},
   "source": [
    "### Load annotations/counts for revision *upf1∆* data"
   ]
  },
  {
   "cell_type": "code",
   "execution_count": 13,
   "metadata": {
    "vscode": {
     "languageId": "r"
    }
   },
   "outputs": [
    {
     "name": "stderr",
     "output_type": "stream",
     "text": [
      "\u001b[1mRows: \u001b[22m\u001b[34m4\u001b[39m \u001b[1mColumns: \u001b[22m\u001b[34m14\u001b[39m\n",
      "\u001b[36m──\u001b[39m \u001b[1mColumn specification\u001b[22m \u001b[36m────────────────────────────────────────────────────────\u001b[39m\n",
      "\u001b[1mDelimiter:\u001b[22m \",\"\n",
      "\u001b[31mchr\u001b[39m (8): owner, sample_name, library_type, illumina_sample_id, sample_id, r1...\n",
      "\u001b[32mdbl\u001b[39m (6): insert_read, insert_start, insert_length, umi_read, umi_start, umi_...\n",
      "\n",
      "\u001b[36mℹ\u001b[39m Use `spec()` to retrieve the full column specification for this data.\n",
      "\u001b[36mℹ\u001b[39m Specify the column types or set `show_col_types = FALSE` to quiet this message.\n"
     ]
    }
   ],
   "source": [
    "sample_annotations <- read_csv(\"../annotations/sample_annotations.csv\", comment='#')"
   ]
  },
  {
   "cell_type": "code",
   "execution_count": 14,
   "metadata": {
    "vscode": {
     "languageId": "r"
    }
   },
   "outputs": [
    {
     "name": "stderr",
     "output_type": "stream",
     "text": [
      "\u001b[1mRows: \u001b[22m\u001b[34m1\u001b[39m \u001b[1mColumns: \u001b[22m\u001b[34m3\u001b[39m\n",
      "\u001b[36m──\u001b[39m \u001b[1mColumn specification\u001b[22m \u001b[36m────────────────────────────────────────────────────────\u001b[39m\n",
      "\u001b[1mDelimiter:\u001b[22m \",\"\n",
      "\u001b[31mchr\u001b[39m (3): name, aa, nt\n",
      "\n",
      "\u001b[36mℹ\u001b[39m Use `spec()` to retrieve the full column specification for this data.\n",
      "\u001b[36mℹ\u001b[39m Specify the column types or set `show_col_types = FALSE` to quiet this message.\n"
     ]
    }
   ],
   "source": [
    "wt_seqs <- read_csv('../annotations/motifs_for_dms.csv') %>% \n",
    "    filter(name == 'fk8')"
   ]
  },
  {
   "cell_type": "code",
   "execution_count": 15,
   "metadata": {
    "vscode": {
     "languageId": "r"
    }
   },
   "outputs": [],
   "source": [
    "variant_annotations <- read_csv(\"../annotations/insert_annotations.csv\", show_col_types = F) %>%\n",
    "    mutate(insert_seq = as.character(reverseComplement(DNAStringSet(insert_seq)))) %>%\n",
    "    mutate(aa = as.character(translate(DNAStringSet(codon), no.init.codon = T))) %>%\n",
    "    mutate(aa_loc = (mutstart+2)/3) %>%\n",
    "    left_join(wt_seqs, by=c('id'='name', 'wt_motif'='aa')) %>%\n",
    "    dplyr::rename(wt_seq=nt) %>%\n",
    "    mutate(wt_codon = substr(wt_seq, mutstart, mutstart+2)) %>%\n",
    "    mutate(wt_aa = as.character(translate(DNAStringSet(wt_codon), no.init.codon = T))) %>% \n",
    "    group_by(insert_seq) %>%\n",
    "    slice(1) %>% # removes repeated WT sequences\n",
    "    ungroup() %>%\n",
    "    select(insert_num, id, insert_seq, wt_motif, motif, mutstart, codon, aa, aa_loc, wt_codon, wt_aa, wt_seq)"
   ]
  },
  {
   "cell_type": "code",
   "execution_count": 16,
   "metadata": {
    "vscode": {
     "languageId": "r"
    }
   },
   "outputs": [
    {
     "name": "stderr",
     "output_type": "stream",
     "text": [
      "\u001b[1mRows: \u001b[22m\u001b[34m2\u001b[39m \u001b[1mColumns: \u001b[22m\u001b[34m5\u001b[39m\n"
     ]
    },
    {
     "name": "stderr",
     "output_type": "stream",
     "text": [
      "\u001b[36m──\u001b[39m \u001b[1mColumn specification\u001b[22m \u001b[36m────────────────────────────────────────────────────────\u001b[39m\n",
      "\u001b[1mDelimiter:\u001b[22m \",\"\n",
      "\u001b[31mchr\u001b[39m (4): insert_seq, id, motif, wt_motif\n",
      "\u001b[32mdbl\u001b[39m (1): insert_num\n",
      "\n",
      "\u001b[36mℹ\u001b[39m Use `spec()` to retrieve the full column specification for this data.\n",
      "\u001b[36mℹ\u001b[39m Specify the column types or set `show_col_types = FALSE` to quiet this message.\n"
     ]
    }
   ],
   "source": [
    "sc_annotations <- read_csv(\"../annotations/spikein_annotations.csv\")"
   ]
  },
  {
   "cell_type": "code",
   "execution_count": 17,
   "metadata": {
    "vscode": {
     "languageId": "r"
    }
   },
   "outputs": [
    {
     "name": "stderr",
     "output_type": "stream",
     "text": [
      "\u001b[1m\u001b[22m`summarise()` has grouped output by 'sample_name'. You can override using the\n",
      "`.groups` argument.\n"
     ]
    }
   ],
   "source": [
    "sc_counts <- list.files(\"../data/annotated_insert_umi_counts_sc\", full.names = T, pattern = \"csv$\") %>% \n",
    "  as_tibble_col(\"file\") %>%\n",
    "  mutate(sample_name = str_extract(file, \"[^/]+(?=.csv)\")) %>%\n",
    "  mutate(data = map(file, . %>% read_csv(show_col_types = F))) %>%\n",
    "  select(sample_name, -file, data) %>%\n",
    "  unnest(data) %>%\n",
    "  group_by(sample_name, insert_num) %>%\n",
    "  summarize(read_count = sum(count), umi_count = n()) %>%\n",
    "  left_join(sc_annotations, by='insert_num') %>%\n",
    "  select(sample_name, umi_count, id) %>%\n",
    "  pivot_wider(names_from=id, values_from=c(umi_count))"
   ]
  },
  {
   "cell_type": "code",
   "execution_count": 18,
   "metadata": {
    "vscode": {
     "languageId": "r"
    }
   },
   "outputs": [],
   "source": [
    "sc_umi_avg <- sc_counts %>%\n",
    "    mutate(avg = (spikein2 + spikein5)/2) %>%\n",
    "    separate(sample_name, c('genotype', 'x', 'y', 'replicate', 'type')) %>%\n",
    "    select(-spikein2, -spikein5, -x, -y) %>%\n",
    "    mutate(replicate = str_extract(replicate, \"[12]\")) %>%\n",
    "    pivot_wider(names_from=c(type, replicate), values_from=avg) %>%\n",
    "    mutate(insert_num = 1025) %>%\n",
    "    mutate(lfc_1 = log2(mrna_1/gdna_1), lfc_2 = log2(mrna_2/gdna_2))"
   ]
  },
  {
   "cell_type": "code",
   "execution_count": 19,
   "metadata": {
    "vscode": {
     "languageId": "r"
    }
   },
   "outputs": [],
   "source": [
    "raw_counts <- list.files(\"../data/annotated_insert_umi_counts\", full.names = T, pattern = \"csv$\") %>%\n",
    "  as_tibble_col(\"file\") %>%\n",
    "  mutate(sample_name = str_extract(file, \"[^/]+(?=.csv)\")) %>%\n",
    "  mutate(data = map(file, . %>% read_csv(show_col_types = F))) %>%\n",
    "  select(sample_name, -file, data) %>%\n",
    "  unnest(data)"
   ]
  },
  {
   "cell_type": "code",
   "execution_count": 20,
   "metadata": {
    "vscode": {
     "languageId": "r"
    }
   },
   "outputs": [],
   "source": [
    "variant_counts <- raw_counts %>%\n",
    "    inner_join(variant_annotations, by = c(\"insert_num\"))"
   ]
  },
  {
   "cell_type": "code",
   "execution_count": 21,
   "metadata": {
    "vscode": {
     "languageId": "r"
    }
   },
   "outputs": [],
   "source": [
    "seq_effect_2 <- variant_counts %>%\n",
    "    group_by(sample_name, insert_num) %>%\n",
    "    summarize(read_count = sum(count), umi_count = n(), .groups='drop') %>%\n",
    "    left_join(select(sample_annotations, sample_id, sample_name), by=c('sample_name')) %>%\n",
    "    mutate(sample_type = str_extract(sample_name, \"mrna|gdna\"), \n",
    "            replicate = str_extract(sample_name, \"(?<=_rep)[12](?=_)\")) %>%\n",
    "    mutate(genotype = str_extract(sample_name, \"[^_]+\"))"
   ]
  },
  {
   "cell_type": "markdown",
   "metadata": {},
   "source": [
    "## Join all replicates (manuscript + recent run) together"
   ]
  },
  {
   "cell_type": "code",
   "execution_count": 22,
   "metadata": {
    "vscode": {
     "languageId": "r"
    }
   },
   "outputs": [],
   "source": [
    "combined_sc_lfc <- seq_effect_2 %>%\n",
    "    select(-sample_id, -sample_name, -read_count) %>%\n",
    "    pivot_wider(names_from = c(\"sample_type\", \"replicate\"), values_from = c(\"umi_count\")) %>%\n",
    "    mutate(lfc_1 = log2(mrna_1/gdna_1), lfc_2 = log2(mrna_2/gdna_2)) %>%\n",
    "    bind_rows(sc_umi_avg) %>%\n",
    "    group_by(genotype) %>%\n",
    "    mutate(lfc_sc_1 = lfc_1 - lfc_1[insert_num == 1025]) %>% # normalize insert lfcs to spikein lfc for rep1\n",
    "    mutate(lfc_sc_2 = lfc_2 - lfc_2[insert_num == 1025]) %>% # and rep2\n",
    "    ungroup() %>%\n",
    "    left_join(variant_annotations, by='insert_num') %>%\n",
    "    filter(id == 'fk8') %>%\n",
    "    select(-insert_num, -insert_seq, -wt_motif, -wt_seq, -gdna_1, -mrna_1, -gdna_2, -mrna_2, -lfc_1, -lfc_2, -id) %>%\n",
    "    mutate(wt = (aa == wt_aa)) %>%\n",
    "    bind_rows(lfc_umi_sc_mn) %>% # combine with spike-in normalized manuscript data\n",
    "    select(-insert_seq, -lfc, -insert_num, -lfc_sc) %>%\n",
    "    filter(motif != 'SPIKEIN')"
   ]
  },
  {
   "cell_type": "code",
   "execution_count": 23,
   "metadata": {
    "vscode": {
     "languageId": "r"
    }
   },
   "outputs": [],
   "source": [
    "combined_sc_lfc_no_wt <- seq_effect_2 %>%\n",
    "    select(-sample_id, -sample_name, -read_count) %>%\n",
    "    pivot_wider(names_from = c(\"sample_type\", \"replicate\"), values_from = c(\"umi_count\")) %>%\n",
    "    mutate(lfc_1 = log2(mrna_1/gdna_1), lfc_2 = log2(mrna_2/gdna_2)) %>%\n",
    "    bind_rows(sc_umi_avg) %>%\n",
    "    group_by(genotype) %>%\n",
    "    mutate(lfc_sc_1 = lfc_1 - lfc_1[insert_num == 1025]) %>% # normalize insert lfcs to spikein lfc for rep1\n",
    "    mutate(lfc_sc_2 = lfc_2 - lfc_2[insert_num == 1025]) %>% # and rep2\n",
    "    ungroup() %>%\n",
    "    left_join(variant_annotations, by='insert_num') %>%\n",
    "    filter(id == 'fk8') %>%\n",
    "    select(-insert_num, -insert_seq, -wt_motif, -wt_seq, -gdna_1, -mrna_1, -gdna_2, -mrna_2, -lfc_1, -lfc_2, -id) %>%\n",
    "    mutate(wt = (aa == wt_aa)) %>%\n",
    "    bind_rows(lfc_umi_sc_mn) %>% # combine with spike-in normalized manuscript data\n",
    "    select(-insert_seq, -lfc, -insert_num, -lfc_sc) %>%\n",
    "    filter(motif != 'SPIKEIN') %>%\n",
    "    mutate(lfc_sc = case_when( !(is.na(lfc_sc_1)) & !(is.na(lfc_sc_2)) ~ (lfc_sc_1 + lfc_sc_2)/2,\n",
    "                          !(is.na(lfc_sc_1)) & is.na(lfc_sc_2) ~ lfc_sc_1,\n",
    "                          is.na(lfc_sc_1) & !(is.na(lfc_sc_2)) ~ lfc_sc_2,\n",
    "                          )) %>% # some replicates are missing, so keep whichever is available or take the average if both are available\n",
    "    select(-lfc_sc_1, -lfc_sc_2) %>%\n",
    "    drop_na(lfc_sc)"
   ]
  },
  {
   "cell_type": "code",
   "execution_count": 24,
   "metadata": {
    "vscode": {
     "languageId": "r"
    }
   },
   "outputs": [
    {
     "name": "stderr",
     "output_type": "stream",
     "text": [
      "Warning message:\n",
      "“\u001b[1m\u001b[22mUsing `size` aesthetic for lines was deprecated in ggplot2 3.4.0.\n",
      "\u001b[36mℹ\u001b[39m Please use `linewidth` instead.”\n"
     ]
    },
    {
     "data": {
      "image/png": "[encoded data removed]",
      "text/plain": [
       "plot without title"
      ]
     },
     "metadata": {
      "image/png": {
       "height": 180,
       "width": 240
      }
     },
     "output_type": "display_data"
    }
   ],
   "source": [
    "combined_sc_lfc_no_wt %>%\n",
    "    filter(genotype != 'hel2') %>%\n",
    "    select(-motif, -wt) %>%\n",
    "    pivot_wider(names_from=genotype, values_from=lfc_sc) %>%\n",
    "    mutate(diff = upf1 - wt) %>%\n",
    "    mutate(wt = (aa == wt_aa)) %>%\n",
    "    filter(wt != TRUE) %>%\n",
    "    mutate(stop = ifelse(aa == '*', 'nonsense', 'missense')) %>%\n",
    "    drop_na(diff) %>%\n",
    "    group_by(aa_loc, stop) %>%\n",
    "    summarize(avg_diff = mean(diff), se = std.error(diff), .groups='drop') %>%\n",
    "    ggplot() +\n",
    "    aes(x=as.factor(aa_loc), y=avg_diff, ymin=avg_diff-se, ymax=avg_diff+se, color=stop) +\n",
    "    geom_point(size=0.7) +\n",
    "    geom_errorbar(size=0.3, width=0.3) +\n",
    "    theme +\n",
    "    theme(legend.position = \"top\",\n",
    "        legend.key.height = unit(2.5, 'mm'),\n",
    "        legend.key.width = unit(2, 'mm'),\n",
    "        legend.text = element_text(size=8),\n",
    "        legend.title = element_text(size=8),\n",
    "        legend.box.margin=margin(-12,-12,-12,-12),\n",
    "        ) +\n",
    "    labs(y='Average mRNA level (log2, arb units)\\ndifference upf1  - wild-type', x='Variant location along (FK) ', color='')\n",
    "\n",
    "ggsave(\"../figures/upf1_wt_diff_per_loc_no_med_norm.pdf\", width=3.5, height=1.8)"
   ]
  },
  {
   "cell_type": "code",
   "execution_count": 25,
   "metadata": {
    "vscode": {
     "languageId": "r"
    }
   },
   "outputs": [
    {
     "data": {
      "image/png": "[encoded data removed]",
      "text/plain": [
       "plot without title"
      ]
     },
     "metadata": {
      "image/png": {
       "height": 180,
       "width": 240
      }
     },
     "output_type": "display_data"
    }
   ],
   "source": [
    "combined_sc_lfc_no_wt %>%\n",
    "    filter(genotype != 'wt') %>%\n",
    "    select(-motif, -wt) %>%\n",
    "    pivot_wider(names_from=genotype, values_from=lfc_sc) %>%\n",
    "    mutate(diff = upf1 - hel2) %>%\n",
    "    mutate(wt = (aa == wt_aa)) %>%\n",
    "    filter(wt != TRUE) %>%\n",
    "    mutate(stop = ifelse(aa == '*', 'nonsense', 'missense')) %>%\n",
    "    drop_na(diff) %>%\n",
    "    group_by(aa_loc, stop) %>%\n",
    "    summarize(avg_diff = mean(diff), se = std.error(diff), .groups='drop') %>%\n",
    "    ggplot() +\n",
    "    aes(x=as.factor(aa_loc), y=avg_diff, ymin=avg_diff-se, ymax=avg_diff+se, color=stop) +\n",
    "    geom_point(size=0.7) +\n",
    "    geom_errorbar(size=0.3, width=0.3) +\n",
    "    theme +\n",
    "    theme(legend.position = \"top\",\n",
    "        legend.key.height = unit(2.5, 'mm'),\n",
    "        legend.key.width = unit(2, 'mm'),\n",
    "        legend.text = element_text(size=8),\n",
    "        legend.title = element_text(size=8),\n",
    "        legend.box.margin=margin(-12,-12,-12,-12),\n",
    "        ) +\n",
    "    labs(y='Average mRNA level (log2, arb units)\\ndifference upf1  - hel2 ', x='Variant location along (FK) ', color='')\n",
    "\n",
    "ggsave(\"../figures/upf1_hel2_diff_per_loc_no_med_norm.pdf\", width=3.5, height=1.8)"
   ]
  },
  {
   "cell_type": "code",
   "execution_count": null,
   "metadata": {
    "vscode": {
     "languageId": "r"
    }
   },
   "outputs": [],
   "source": []
  }
 ],
 "metadata": {
  "kernelspec": {
   "display_name": "R_project_repo_1.13.0",
   "language": "R",
   "name": "ir_project_repo_1.13.0"
  },
  "language_info": {
   "codemirror_mode": "r",
   "file_extension": ".r",
   "mimetype": "text/x-r-source",
   "name": "R",
   "pygments_lexer": "r",
   "version": "4.1.3"
  },
  "orig_nbformat": 4,
  "vscode": {
   "interpreter": {
    "hash": "33ccdda4403b85622dcca6b225ea57e4a6a8ea27d62bd4ef32f6f7605d06a567"
   }
  }
 },
 "nbformat": 4,
 "nbformat_minor": 2
}
