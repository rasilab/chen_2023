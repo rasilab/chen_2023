{
 "cells": [
  {
   "cell_type": "markdown",
   "metadata": {},
   "source": [
    "## Plot alignment statistics for revision dicodon barcodeseq"
   ]
  },
  {
   "cell_type": "code",
   "execution_count": 41,
   "metadata": {
    "vscode": {
     "languageId": "r"
    }
   },
   "outputs": [],
   "source": [
    "suppressPackageStartupMessages(library(Biostrings))\n",
    "suppressPackageStartupMessages(library(tidyverse))\n",
    "suppressPackageStartupMessages(library(rasilabRtemplates))\n",
    "suppressPackageStartupMessages(library(boot))\n",
    "suppressPackageStartupMessages(library(readxl))\n",
    "suppressPackageStartupMessages(library(ggridges))\n",
    "suppressPackageStartupMessages(library(plotrix))\n",
    "suppressPackageStartupMessages(library(ggh4x))\n",
    "\n",
    "n_barcodes_cutoff <- 2\n",
    "barcode_reads_cutoff <- 10\n",
    "reads_per_insert_cutoff <- 100\n",
    "reads_per_diaa_cutoff <- 500\n",
    "se_cutoff <- 0.2"
   ]
  },
  {
   "cell_type": "markdown",
   "metadata": {},
   "source": [
    "### Global plotting themes"
   ]
  },
  {
   "cell_type": "code",
   "execution_count": 42,
   "metadata": {
    "vscode": {
     "languageId": "r"
    }
   },
   "outputs": [],
   "source": [
    "theme <- theme(\n",
    "        title = element_text(margin = margin(t=0, r=2, b=2, l=2), size=8),\n",
    "        axis.title.x = element_text(margin = margin(t=2, r=2, b=0, l=2), size=8),\n",
    "        axis.title.y = element_text(margin = margin(t=2, r=2, b=2, l=0), size=8),\n",
    "        text = element_text(size = 8),\n",
    "        legend.text=element_text(size=8),\n",
    "        axis.line.x=element_line(size=0.2),\n",
    "        axis.line.y=element_line(size=0.2),\n",
    "        axis.ticks.y =  element_line(size=0.2),\n",
    "        axis.ticks.x = element_line(size=0.2),\n",
    "        axis.text.x = element_text(size=8),\n",
    "        axis.text.y = element_text(size=8)\n",
    "        )"
   ]
  },
  {
   "cell_type": "code",
   "execution_count": 43,
   "metadata": {
    "vscode": {
     "languageId": "r"
    }
   },
   "outputs": [],
   "source": [
    "if (!file.exists('../figures')){\n",
    "    dir.create('../figures')\n",
    "}"
   ]
  },
  {
   "cell_type": "markdown",
   "metadata": {},
   "source": [
    "## Load annotations & counts"
   ]
  },
  {
   "cell_type": "code",
   "execution_count": 44,
   "metadata": {
    "vscode": {
     "languageId": "r"
    }
   },
   "outputs": [
    {
     "name": "stderr",
     "output_type": "stream",
     "text": [
      "\u001b[1mRows: \u001b[22m\u001b[34m2\u001b[39m \u001b[1mColumns: \u001b[22m\u001b[34m14\u001b[39m\n",
      "\u001b[36m──\u001b[39m \u001b[1mColumn specification\u001b[22m \u001b[36m────────────────────────────────────────────────────────\u001b[39m\n",
      "\u001b[1mDelimiter:\u001b[22m \",\"\n",
      "\u001b[31mchr\u001b[39m (10): owner, sample_name, library_type, plasmid_snapgene_map, amplicon_s...\n",
      "\u001b[32mdbl\u001b[39m  (3): barcode_read, barcode_start, barcode_length\n",
      "\u001b[33mlgl\u001b[39m  (1): s3_location\n",
      "\n",
      "\u001b[36mℹ\u001b[39m Use `spec()` to retrieve the full column specification for this data.\n",
      "\u001b[36mℹ\u001b[39m Specify the column types or set `show_col_types = FALSE` to quiet this message.\n"
     ]
    }
   ],
   "source": [
    "sample_annotations = read_csv(\"../annotations/sample_annotations.csv\", comment='#') %>%\n",
    "    mutate(sample_name = str_c(sample_name, '_', library_type))"
   ]
  },
  {
   "cell_type": "code",
   "execution_count": 45,
   "metadata": {
    "vscode": {
     "languageId": "r"
    }
   },
   "outputs": [
    {
     "name": "stderr",
     "output_type": "stream",
     "text": [
      "\u001b[1mRows: \u001b[22m\u001b[34m7\u001b[39m \u001b[1mColumns: \u001b[22m\u001b[34m5\u001b[39m\n",
      "\u001b[36m──\u001b[39m \u001b[1mColumn specification\u001b[22m \u001b[36m────────────────────────────────────────────────────────\u001b[39m\n",
      "\u001b[1mDelimiter:\u001b[22m \",\"\n",
      "\u001b[31mchr\u001b[39m (5): ID, strain, plasmid, genotype, library\n"
     ]
    },
    {
     "name": "stderr",
     "output_type": "stream",
     "text": [
      "\n",
      "\u001b[36mℹ\u001b[39m Use `spec()` to retrieve the full column specification for this data.\n",
      "\u001b[36mℹ\u001b[39m Specify the column types or set `show_col_types = FALSE` to quiet this message.\n"
     ]
    }
   ],
   "source": [
    "strain_annotations <- read_csv(\"../annotations/strain_annotations.csv\", comment='#') %>%\n",
    "    mutate(`ID` = str_trim(`ID`)) %>%\n",
    "    mutate(strain = str_trim(strain)) %>%\n",
    "    mutate(plasmid = str_trim(plasmid)) %>%\n",
    "    mutate(genotype = str_trim(genotype))"
   ]
  },
  {
   "cell_type": "code",
   "execution_count": 46,
   "metadata": {
    "vscode": {
     "languageId": "r"
    }
   },
   "outputs": [
    {
     "name": "stderr",
     "output_type": "stream",
     "text": [
      "\u001b[1mRows: \u001b[22m\u001b[34m229\u001b[39m \u001b[1mColumns: \u001b[22m\u001b[34m2\u001b[39m\n",
      "\u001b[36m──\u001b[39m \u001b[1mColumn specification\u001b[22m \u001b[36m────────────────────────────────────────────────────────\u001b[39m\n",
      "\u001b[1mDelimiter:\u001b[22m \",\"\n",
      "\u001b[31mchr\u001b[39m (1): insert\n",
      "\u001b[32mdbl\u001b[39m (1): insert_num\n",
      "\n",
      "\u001b[36mℹ\u001b[39m Use `spec()` to retrieve the full column specification for this data.\n",
      "\u001b[36mℹ\u001b[39m Specify the column types or set `show_col_types = FALSE` to quiet this message.\n"
     ]
    },
    {
     "name": "stdout",
     "output_type": "stream",
     "text": [
      "\u001b[90m# A tibble: 227 × 8\u001b[39m\n",
      "   insert_num insert                     dicodon diaa  codon1 codon2 aa1   aa2  \n",
      "        \u001b[3m\u001b[90m<dbl>\u001b[39m\u001b[23m \u001b[3m\u001b[90m<chr>\u001b[39m\u001b[23m                      \u001b[3m\u001b[90m<chr>\u001b[39m\u001b[23m   \u001b[3m\u001b[90m<chr>\u001b[39m\u001b[23m \u001b[3m\u001b[90m<chr>\u001b[39m\u001b[23m  \u001b[3m\u001b[90m<chr>\u001b[39m\u001b[23m  \u001b[3m\u001b[90m<chr>\u001b[39m\u001b[23m \u001b[3m\u001b[90m<chr>\u001b[39m\u001b[23m\n",
      "\u001b[90m 1\u001b[39m          1 AAAAAAAAAAAAAAAAAAAAAAAAA… AAAAAA  KK    AAA    AAA    K     K    \n",
      "\u001b[90m 2\u001b[39m          2 AAAAAGAAAAAGAAAAAGAAAAAGA… AAAAAG  KK    AAA    AAG    K     K    \n",
      "\u001b[90m 3\u001b[39m          3 AAAAGAAAAAGAAAAAGAAAAAGAA… AAAAGA  KR    AAA    AGA    K     R    \n",
      "\u001b[90m 4\u001b[39m          4 AAAAGGAAAAGGAAAAGGAAAAGGA… AAAAGG  KR    AAA    AGG    K     R    \n",
      "\u001b[90m 5\u001b[39m          5 AAAATAAAAATAAAAATAAAAATAA… AAAATA  KI    AAA    ATA    K     I    \n",
      "\u001b[90m 6\u001b[39m          6 AAAATCAAAATCAAAATCAAAATCA… AAAATC  KI    AAA    ATC    K     I    \n",
      "\u001b[90m 7\u001b[39m          7 AAAATTAAAATTAAAATTAAAATTA… AAAATT  KI    AAA    ATT    K     I    \n",
      "\u001b[90m 8\u001b[39m          8 AAACGAAAACGAAAACGAAAACGAA… AAACGA  KR    AAA    CGA    K     R    \n",
      "\u001b[90m 9\u001b[39m          9 AAACGCAAACGCAAACGCAAACGCA… AAACGC  KR    AAA    CGC    K     R    \n",
      "\u001b[90m10\u001b[39m         10 AAACGGAAACGGAAACGGAAACGGA… AAACGG  KR    AAA    CGG    K     R    \n",
      "\u001b[90m# … with 217 more rows\u001b[39m\n"
     ]
    }
   ],
   "source": [
    "insert_annotations = read_csv(\"../../small_8xdicodon_rqcdel_linkage/annotations/insert_annotations.csv\") %>%\n",
    "    mutate(dicodon = str_extract(insert, \"([ACTG]{6})(?=\\\\1{7})\")) %>%\n",
    "    drop_na() %>%\n",
    "    mutate(diaa = as.character(translate(DNAStringSet(dicodon), no.init.codon = T))) %>%\n",
    "    mutate(codon1 = substr(dicodon, 1, 3), codon2 = substr(dicodon, 4, 6),\n",
    "         aa1 = substr(diaa, 1, 1), aa2 = substr(diaa, 2, 2)) %>%\n",
    "#     select(-insert) %>%\n",
    "    print()"
   ]
  },
  {
   "cell_type": "code",
   "execution_count": 47,
   "metadata": {
    "vscode": {
     "languageId": "r"
    }
   },
   "outputs": [
    {
     "name": "stderr",
     "output_type": "stream",
     "text": [
      "\u001b[1mRows: \u001b[22m\u001b[34m18209\u001b[39m \u001b[1mColumns: \u001b[22m\u001b[34m6\u001b[39m\n",
      "\u001b[36m──\u001b[39m \u001b[1mColumn specification\u001b[22m \u001b[36m────────────────────────────────────────────────────────\u001b[39m\n",
      "\u001b[1mDelimiter:\u001b[22m \",\"\n",
      "\u001b[31mchr\u001b[39m (2): barcode, sample\n",
      "\u001b[32mdbl\u001b[39m (4): barcode_count, insert_num, barcode_num, linkage_count\n",
      "\n",
      "\u001b[36mℹ\u001b[39m Use `spec()` to retrieve the full column specification for this data.\n",
      "\u001b[36mℹ\u001b[39m Specify the column types or set `show_col_types = FALSE` to quiet this message.\n",
      "\u001b[1mRows: \u001b[22m\u001b[34m19629\u001b[39m \u001b[1mColumns: \u001b[22m\u001b[34m6\u001b[39m\n",
      "\u001b[36m──\u001b[39m \u001b[1mColumn specification\u001b[22m \u001b[36m────────────────────────────────────────────────────────\u001b[39m\n",
      "\u001b[1mDelimiter:\u001b[22m \",\"\n",
      "\u001b[31mchr\u001b[39m (2): barcode, sample\n",
      "\u001b[32mdbl\u001b[39m (4): barcode_count, insert_num, barcode_num, linkage_count\n",
      "\n",
      "\u001b[36mℹ\u001b[39m Use `spec()` to retrieve the full column specification for this data.\n",
      "\u001b[36mℹ\u001b[39m Specify the column types or set `show_col_types = FALSE` to quiet this message.\n",
      "Warning message:\n",
      "“`cols` is now required when using unnest().\n",
      "Please use `cols = c(counts)`”\n"
     ]
    }
   ],
   "source": [
    "barcode_counts <- list.files(\"../data/linked_barcode_counts/\", pattern = \".csv$\", full.names = T) %>% \n",
    "  enframe(\"sno\", \"file\") %>% \n",
    "  mutate(counts = map(file, read_csv)) %>% \n",
    "  mutate(sample_id = str_extract(file, \"[^/]+(?=.csv)\")) %>% \n",
    "  select(-sno, -file) %>% \n",
    "  unnest() %>% \n",
    "  mutate(insert_num = as.numeric(str_extract(insert_num, \"[:digit:]+\"))) %>%\n",
    "  mutate(barcode_count = as.numeric(barcode_count)) %>%\n",
    "  mutate(linkage_count = as.numeric(linkage_count))"
   ]
  },
  {
   "cell_type": "code",
   "execution_count": 48,
   "metadata": {
    "vscode": {
     "languageId": "r"
    }
   },
   "outputs": [
    {
     "name": "stderr",
     "output_type": "stream",
     "text": [
      "\u001b[1mRows: \u001b[22m\u001b[34m43178\u001b[39m \u001b[1mColumns: \u001b[22m\u001b[34m5\u001b[39m\n",
      "\u001b[36m──\u001b[39m \u001b[1mColumn specification\u001b[22m \u001b[36m────────────────────────────────────────────────────────\u001b[39m\n",
      "\u001b[1mDelimiter:\u001b[22m \",\"\n",
      "\u001b[31mchr\u001b[39m (2): barcode, sample\n",
      "\u001b[32mdbl\u001b[39m (3): insert_num, barcode_num, linkage_count\n",
      "\n",
      "\u001b[36mℹ\u001b[39m Use `spec()` to retrieve the full column specification for this data.\n",
      "\u001b[36mℹ\u001b[39m Specify the column types or set `show_col_types = FALSE` to quiet this message.\n"
     ]
    },
    {
     "data": {
      "text/html": [
       "<table class=\"dataframe\">\n",
       "<caption>A tibble: 6 × 5</caption>\n",
       "<thead>\n",
       "\t<tr><th scope=col>insert_num</th><th scope=col>barcode_num</th><th scope=col>barcode</th><th scope=col>linkage_count</th><th scope=col>sample</th></tr>\n",
       "\t<tr><th scope=col>&lt;dbl&gt;</th><th scope=col>&lt;dbl&gt;</th><th scope=col>&lt;chr&gt;</th><th scope=col>&lt;dbl&gt;</th><th scope=col>&lt;chr&gt;</th></tr>\n",
       "</thead>\n",
       "<tbody>\n",
       "\t<tr><td>111</td><td>1</td><td>GAGGGCTTTGAGGCTGACTGTGGG</td><td>843</td><td>89lib2</td></tr>\n",
       "\t<tr><td>146</td><td>2</td><td>GGCGAGTACGGGGCCAGTGTTCTC</td><td>830</td><td>89lib2</td></tr>\n",
       "\t<tr><td>218</td><td>3</td><td>GGTTAGGACCACGGCATGTGCAGT</td><td>821</td><td>89lib1</td></tr>\n",
       "\t<tr><td>197</td><td>4</td><td>GTGGCCTGTTCCTAGCGCGCCGCT</td><td>815</td><td>89lib2</td></tr>\n",
       "\t<tr><td>104</td><td>5</td><td>GACAATGAGCGGGACGGGTTTAAT</td><td>814</td><td>89lib2</td></tr>\n",
       "\t<tr><td>154</td><td>6</td><td>GATGACCTGGTTGCTATGTGCGGT</td><td>792</td><td>89lib2</td></tr>\n",
       "</tbody>\n",
       "</table>\n"
      ],
      "text/latex": [
       "A tibble: 6 × 5\n",
       "\\begin{tabular}{lllll}\n",
       " insert\\_num & barcode\\_num & barcode & linkage\\_count & sample\\\\\n",
       " <dbl> & <dbl> & <chr> & <dbl> & <chr>\\\\\n",
       "\\hline\n",
       "\t 111 & 1 & GAGGGCTTTGAGGCTGACTGTGGG & 843 & 89lib2\\\\\n",
       "\t 146 & 2 & GGCGAGTACGGGGCCAGTGTTCTC & 830 & 89lib2\\\\\n",
       "\t 218 & 3 & GGTTAGGACCACGGCATGTGCAGT & 821 & 89lib1\\\\\n",
       "\t 197 & 4 & GTGGCCTGTTCCTAGCGCGCCGCT & 815 & 89lib2\\\\\n",
       "\t 104 & 5 & GACAATGAGCGGGACGGGTTTAAT & 814 & 89lib2\\\\\n",
       "\t 154 & 6 & GATGACCTGGTTGCTATGTGCGGT & 792 & 89lib2\\\\\n",
       "\\end{tabular}\n"
      ],
      "text/markdown": [
       "\n",
       "A tibble: 6 × 5\n",
       "\n",
       "| insert_num &lt;dbl&gt; | barcode_num &lt;dbl&gt; | barcode &lt;chr&gt; | linkage_count &lt;dbl&gt; | sample &lt;chr&gt; |\n",
       "|---|---|---|---|---|\n",
       "| 111 | 1 | GAGGGCTTTGAGGCTGACTGTGGG | 843 | 89lib2 |\n",
       "| 146 | 2 | GGCGAGTACGGGGCCAGTGTTCTC | 830 | 89lib2 |\n",
       "| 218 | 3 | GGTTAGGACCACGGCATGTGCAGT | 821 | 89lib1 |\n",
       "| 197 | 4 | GTGGCCTGTTCCTAGCGCGCCGCT | 815 | 89lib2 |\n",
       "| 104 | 5 | GACAATGAGCGGGACGGGTTTAAT | 814 | 89lib2 |\n",
       "| 154 | 6 | GATGACCTGGTTGCTATGTGCGGT | 792 | 89lib2 |\n",
       "\n"
      ],
      "text/plain": [
       "  insert_num barcode_num barcode                  linkage_count sample\n",
       "1 111        1           GAGGGCTTTGAGGCTGACTGTGGG 843           89lib2\n",
       "2 146        2           GGCGAGTACGGGGCCAGTGTTCTC 830           89lib2\n",
       "3 218        3           GGTTAGGACCACGGCATGTGCAGT 821           89lib1\n",
       "4 197        4           GTGGCCTGTTCCTAGCGCGCCGCT 815           89lib2\n",
       "5 104        5           GACAATGAGCGGGACGGGTTTAAT 814           89lib2\n",
       "6 154        6           GATGACCTGGTTGCTATGTGCGGT 792           89lib2"
      ]
     },
     "metadata": {},
     "output_type": "display_data"
    }
   ],
   "source": [
    "insert_barcode_linkages <- read_csv(\"../../small_8xdicodon_rqcdel_linkage/data/filtered_barcodes/filtered_barcodes_all_linkage.csv\") %>%\n",
    "  mutate(insert_num = as.numeric(str_extract(insert_num, \"[:digit:]+\"))) %>%\n",
    "  mutate(linkage_count = as.numeric(linkage_count)) \n",
    "\n",
    "head(insert_barcode_linkages)"
   ]
  },
  {
   "cell_type": "code",
   "execution_count": 49,
   "metadata": {
    "vscode": {
     "languageId": "r"
    }
   },
   "outputs": [],
   "source": [
    "barcode_insert_counts <- barcode_counts %>% \n",
    "  left_join(select(sample_annotations, c(sample_id, sample_name)), by = \"sample_id\") %>%\n",
    "  left_join(insert_barcode_linkages, by = c(\"barcode_num\", \"barcode\", \"insert_num\", \"linkage_count\", 'sample')) %>%\n",
    "  drop_na(barcode_count) %>%\n",
    "  left_join(strain_annotations, by=c('sample'='library')) %>%\n",
    "  mutate(library_type = str_extract(sample_name, '(?<=_dicodon_)(.+)$')) %>%\n",
    "  select(-sample_id, -`ID`, -strain, -plasmid, -sample_name, -sample)"
   ]
  },
  {
   "cell_type": "code",
   "execution_count": 50,
   "metadata": {
    "vscode": {
     "languageId": "r"
    }
   },
   "outputs": [],
   "source": [
    "barcode_mrna_grna_counts <- barcode_insert_counts %>%\n",
    "    filter(barcode_count >= barcode_reads_cutoff) %>%\n",
    "    select(-linkage_count) %>%\n",
    "    pivot_wider(names_from=library_type, values_from=barcode_count) %>%\n",
    "    drop_na() %>%\n",
    "    left_join(insert_annotations, by='insert_num')"
   ]
  },
  {
   "cell_type": "markdown",
   "metadata": {},
   "source": [
    "### Note\n",
    "\n",
    "- Not5-del cells had low read/barcode counts compared to other strains, the data is low quality likely due to growth defects as cited by other groups"
   ]
  },
  {
   "cell_type": "code",
   "execution_count": 78,
   "metadata": {
    "vscode": {
     "languageId": "r"
    }
   },
   "outputs": [],
   "source": [
    "lowest_mrna_level_diaa_fig3 <- c('KK', 'WW', 'PG', 'RR', 'KR', 'WK', 'KW', 'PD', 'RK', 'DP', 'FK', 'KF', 'RW', 'WR', 'RI', 'RL', 'IR', 'LR', 'GP', 'AL')\n",
    "controls <- c('Stop', 'GD', 'KA', 'KG', 'PP', 'KD', 'FG')"
   ]
  },
  {
   "cell_type": "code",
   "execution_count": 79,
   "metadata": {
    "vscode": {
     "languageId": "r"
    }
   },
   "outputs": [],
   "source": [
    "order <- barcode_mrna_grna_counts %>% # already filtered for >=10 reads per barcode\n",
    "    drop_na(dicodon) %>% # drops skvf/svkf\n",
    "    group_by(genotype, insert_num) %>%\n",
    "    mutate(n_barc = n(), n_mrna=sum(mrna), n_grna=sum(grna)) %>%\n",
    "    ungroup() %>%\n",
    "    filter(n_barc >= n_barcodes_cutoff, n_mrna >= reads_per_insert_cutoff, n_grna >= reads_per_insert_cutoff) %>%\n",
    "    mutate(lfc = log2(mrna/grna)) %>%\n",
    "    group_by(genotype, diaa) %>%\n",
    "    summarize(avg_lfc = mean(lfc), sum_mrna = sum(n_mrna), sum_grna = sum(n_grna), se = std.error(lfc), s=sd(lfc), .groups='drop') %>%\n",
    "    filter(sum_mrna >= 500, sum_grna >= 500) %>%\n",
    "    filter(se <= 0.2) %>%\n",
    "    filter(genotype != 'Not5') %>%\n",
    "    mutate(diaa = ifelse(diaa == '**', 'Stop', diaa)) %>%\n",
    "    group_by(diaa) %>%\n",
    "    mutate(n_strains = n()) %>%\n",
    "    ungroup() %>%\n",
    "    filter(n_strains > 1) %>%\n",
    "    mutate(type = case_when(diaa %in% lowest_mrna_level_diaa_fig3 ~ 'Diaa with lowest\\nmRNA levels',\n",
    "                            diaa %in% other_interesting_diaa ~ 'Other destabilized\\ncandidates',\n",
    "                            diaa %in% controls ~ 'Control diaa')) %>%\n",
    "    arrange(genotype, type) %>%\n",
    "    mutate(diaa = str_c(diaa, ',', type)) %>%\n",
    "    dplyr::pull(diaa) %>%\n",
    "    unique()"
   ]
  },
  {
   "cell_type": "code",
   "execution_count": 98,
   "metadata": {
    "vscode": {
     "languageId": "r"
    }
   },
   "outputs": [
    {
     "data": {
      "image/png": "[encoded data removed]",
      "text/plain": [
       "plot without title"
      ]
     },
     "metadata": {
      "image/png": {
       "height": 180,
       "width": 480
      }
     },
     "output_type": "display_data"
    }
   ],
   "source": [
    "barcode_mrna_grna_counts %>% # already filtered for >=10 reads per barcode\n",
    "    mutate(total_mrna = sum(mrna), total_grna = sum(grna)) %>%\n",
    "    mutate(norm_mrna = mrna/total_mrna, norm_grna = grna/total_grna) %>%\n",
    "    drop_na(dicodon) %>% # drops skvf/svkf\n",
    "    group_by(genotype, insert_num) %>%\n",
    "    mutate(n_barc = n(), mrna_per_insert=sum(mrna), grna_per_insert=sum(grna)) %>%\n",
    "    ungroup() %>%\n",
    "    filter(n_barc >= n_barcodes_cutoff, mrna_per_insert >= reads_per_insert_cutoff, grna_per_insert >= reads_per_insert_cutoff) %>%\n",
    "    mutate(lfc = log2(norm_mrna/norm_grna)) %>%\n",
    "    group_by(genotype, diaa) %>%\n",
    "    summarize(avg_lfc = mean(lfc), mrna_per_diaa = sum(mrna_per_insert), grna_per_diaa = sum(grna_per_insert), se = std.error(lfc), s=sd(lfc), .groups='drop') %>%\n",
    "    filter(mrna_per_diaa >= reads_per_diaa_cutoff, grna_per_diaa >= reads_per_diaa_cutoff) %>%\n",
    "    filter(se <= se_cutoff) %>%\n",
    "    filter(genotype != 'Not5') %>%\n",
    "    mutate(diaa = ifelse(diaa == '**', 'Stop', diaa)) %>%\n",
    "    group_by(diaa) %>%\n",
    "    mutate(n_strains = n()) %>%\n",
    "    ungroup() %>%\n",
    "    filter(n_strains > 1) %>%\n",
    "    mutate(type = case_when(diaa %in% lowest_mrna_level_diaa_fig3 ~ 'Diaa with lowest\\nmRNA levels',\n",
    "                            diaa %in% other_interesting_diaa ~ 'Other destabilized\\ncandidates',\n",
    "                            diaa %in% controls ~ 'Control diaa')) %>%\n",
    "    mutate(diaa1 = str_c(diaa, ',' ,type)) %>%\n",
    "    mutate(diaa = factor(diaa1, levels=rev(order))) %>%\n",
    "    drop_na(diaa) %>%\n",
    "    ggplot() +\n",
    "    aes(y=diaa, x=avg_lfc, xmin=avg_lfc-se, xmax=avg_lfc+se, color=genotype) +\n",
    "    geom_point(size=0.7) +\n",
    "    geom_errorbar(width=0.3, size=0.3) +\n",
    "    scale_y_discrete(guide = guide_axis_nested(delim = \",\")) +\n",
    "    theme + \n",
    "    theme(legend.position = \"top\",\n",
    "        axis.line.x = element_blank(),\n",
    "        axis.line.y = element_blank(),\n",
    "        axis.ticks.y = element_blank(),\n",
    "        panel.grid.major.y = element_line(color='grey', size=0.2),\n",
    "        legend.key.height = unit(2.5, 'mm'),\n",
    "        legend.key.width = unit(2, 'mm'),\n",
    "        legend.text = element_text(size=8),\n",
    "        legend.title = element_text(size=8),\n",
    "        legend.box.margin=margin(-12,-12,-12,-12),\n",
    "        ggh4x.axis.nestline = element_line(linewidth = 0.2),\n",
    "        ggh4x.axis.nesttext.y = element_text(),\n",
    "        ) +\n",
    "    scale_color_manual(values=c('WT'='black', 'Hel2'='#E69F00', 'Syh1' = '#1A85FF', 'Hel2/Syh1'='#CC6677', 'Cue2'='#888888', 'Xrn1'='#44AA99')) +\n",
    "    labs(y='', x='mRNA level (log2, arb. units)', color='')\n",
    "\n",
    "ggsave(\"../figures/diaa_pass_filters_norm.pdf\", height=4.2, width=3)"
   ]
  },
  {
   "cell_type": "code",
   "execution_count": null,
   "metadata": {
    "vscode": {
     "languageId": "r"
    }
   },
   "outputs": [],
   "source": []
  }
 ],
 "metadata": {
  "kernelspec": {
   "display_name": "R",
   "language": "R",
   "name": "ir"
  },
  "language_info": {
   "codemirror_mode": "r",
   "file_extension": ".r",
   "mimetype": "text/x-r-source",
   "name": "R",
   "pygments_lexer": "r",
   "version": "4.2.2"
  }
 },
 "nbformat": 4,
 "nbformat_minor": 2
}
