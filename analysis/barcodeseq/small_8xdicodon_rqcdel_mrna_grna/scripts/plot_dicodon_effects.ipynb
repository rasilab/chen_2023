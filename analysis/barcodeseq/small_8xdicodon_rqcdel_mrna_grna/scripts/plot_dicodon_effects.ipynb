{
 "cells": [
  {
   "cell_type": "markdown",
   "metadata": {},
   "source": [
    "## Plot alignment statistics for revision dicodon barcodeseq"
   ]
  },
  {
   "cell_type": "code",
   "execution_count": 1,
   "metadata": {
    "vscode": {
     "languageId": "r"
    }
   },
   "outputs": [
    {
     "name": "stderr",
     "output_type": "stream",
     "text": [
      "Warning message in system(\"timedatectl\", intern = TRUE):\n",
      "“running command 'timedatectl' had status 1”\n"
     ]
    }
   ],
   "source": [
    "suppressPackageStartupMessages(library(Biostrings))\n",
    "suppressPackageStartupMessages(library(tidyverse))\n",
    "suppressPackageStartupMessages(library(rasilabRtemplates))\n",
    "suppressPackageStartupMessages(library(readxl))\n",
    "suppressPackageStartupMessages(library(ggridges))\n",
    "suppressPackageStartupMessages(library(plotrix))\n",
    "suppressPackageStartupMessages(library(ggh4x))\n",
    "\n",
    "n_barcodes_cutoff <- 2\n",
    "barcode_reads_cutoff <- 10\n",
    "reads_per_insert_cutoff <- 100\n",
    "reads_per_diaa_cutoff <- 500\n",
    "se_cutoff <- 0.2"
   ]
  },
  {
   "cell_type": "markdown",
   "metadata": {},
   "source": [
    "### Global plotting themes"
   ]
  },
  {
   "cell_type": "code",
   "execution_count": 2,
   "metadata": {
    "vscode": {
     "languageId": "r"
    }
   },
   "outputs": [
    {
     "name": "stderr",
     "output_type": "stream",
     "text": [
      "Warning message:\n",
      "“\u001b[1m\u001b[22mThe `size` argument of `element_line()` is deprecated as of ggplot2 3.4.0.\n",
      "\u001b[36mℹ\u001b[39m Please use the `linewidth` argument instead.”\n"
     ]
    }
   ],
   "source": [
    "theme <- theme(\n",
    "        title = element_text(margin = margin(t=0, r=2, b=2, l=2), size=8),\n",
    "        axis.title.x = element_text(margin = margin(t=2, r=2, b=0, l=2), size=8),\n",
    "        axis.title.y = element_text(margin = margin(t=2, r=2, b=2, l=0), size=8),\n",
    "        text = element_text(size = 8),\n",
    "        legend.text=element_text(size=8),\n",
    "        axis.line.x=element_line(size=0.2),\n",
    "        axis.line.y=element_line(size=0.2),\n",
    "        axis.ticks.y =  element_line(size=0.2),\n",
    "        axis.ticks.x = element_line(size=0.2),\n",
    "        axis.text.x = element_text(size=8),\n",
    "        axis.text.y = element_text(size=8)\n",
    "        )"
   ]
  },
  {
   "cell_type": "code",
   "execution_count": 3,
   "metadata": {
    "vscode": {
     "languageId": "r"
    }
   },
   "outputs": [],
   "source": [
    "if (!file.exists('../figures')){\n",
    "    dir.create('../figures')\n",
    "}"
   ]
  },
  {
   "cell_type": "markdown",
   "metadata": {},
   "source": [
    "## Load annotations & counts"
   ]
  },
  {
   "cell_type": "code",
   "execution_count": 4,
   "metadata": {
    "vscode": {
     "languageId": "r"
    }
   },
   "outputs": [
    {
     "name": "stderr",
     "output_type": "stream",
     "text": [
      "\u001b[1mRows: \u001b[22m\u001b[34m2\u001b[39m \u001b[1mColumns: \u001b[22m\u001b[34m14\u001b[39m\n",
      "\u001b[36m──\u001b[39m \u001b[1mColumn specification\u001b[22m \u001b[36m────────────────────────────────────────────────────────\u001b[39m\n",
      "\u001b[1mDelimiter:\u001b[22m \",\"\n",
      "\u001b[31mchr\u001b[39m (11): owner, sample_name, library_type, plasmid_snapgene_map, amplicon_s...\n",
      "\u001b[32mdbl\u001b[39m  (3): barcode_read, barcode_start, barcode_length\n",
      "\n",
      "\u001b[36mℹ\u001b[39m Use `spec()` to retrieve the full column specification for this data.\n",
      "\u001b[36mℹ\u001b[39m Specify the column types or set `show_col_types = FALSE` to quiet this message.\n"
     ]
    }
   ],
   "source": [
    "sample_annotations = read_csv(\"../annotations/sample_annotations.csv\", comment='#')"
   ]
  },
  {
   "cell_type": "code",
   "execution_count": 5,
   "metadata": {
    "vscode": {
     "languageId": "r"
    }
   },
   "outputs": [
    {
     "name": "stderr",
     "output_type": "stream",
     "text": [
      "\u001b[1mRows: \u001b[22m\u001b[34m7\u001b[39m \u001b[1mColumns: \u001b[22m\u001b[34m5\u001b[39m\n",
      "\u001b[36m──\u001b[39m \u001b[1mColumn specification\u001b[22m \u001b[36m────────────────────────────────────────────────────────\u001b[39m\n",
      "\u001b[1mDelimiter:\u001b[22m \",\"\n",
      "\u001b[31mchr\u001b[39m (5): ID, strain, plasmid, genotype, library\n",
      "\n",
      "\u001b[36mℹ\u001b[39m Use `spec()` to retrieve the full column specification for this data.\n",
      "\u001b[36mℹ\u001b[39m Specify the column types or set `show_col_types = FALSE` to quiet this message.\n"
     ]
    }
   ],
   "source": [
    "strain_annotations <- read_csv(\"../annotations/strain_annotations.csv\", comment='#') %>%\n",
    "    mutate(`ID` = str_trim(`ID`)) %>%\n",
    "    mutate(strain = str_trim(strain)) %>%\n",
    "    mutate(plasmid = str_trim(plasmid)) %>%\n",
    "    mutate(genotype = str_trim(genotype))"
   ]
  },
  {
   "cell_type": "code",
   "execution_count": 6,
   "metadata": {
    "vscode": {
     "languageId": "r"
    }
   },
   "outputs": [
    {
     "name": "stderr",
     "output_type": "stream",
     "text": [
      "\u001b[1mRows: \u001b[22m\u001b[34m130\u001b[39m \u001b[1mColumns: \u001b[22m\u001b[34m2\u001b[39m\n",
      "\u001b[36m──\u001b[39m \u001b[1mColumn specification\u001b[22m \u001b[36m────────────────────────────────────────────────────────\u001b[39m\n",
      "\u001b[1mDelimiter:\u001b[22m \",\"\n",
      "\u001b[31mchr\u001b[39m (1): insert\n",
      "\u001b[32mdbl\u001b[39m (1): insert_num\n",
      "\n",
      "\u001b[36mℹ\u001b[39m Use `spec()` to retrieve the full column specification for this data.\n",
      "\u001b[36mℹ\u001b[39m Specify the column types or set `show_col_types = FALSE` to quiet this message.\n"
     ]
    },
    {
     "name": "stdout",
     "output_type": "stream",
     "text": [
      "\u001b[90m# A tibble: 130 × 8\u001b[39m\n",
      "   insert_num insert                     dicodon diaa  codon1 codon2 aa1   aa2  \n",
      "        \u001b[3m\u001b[90m<dbl>\u001b[39m\u001b[23m \u001b[3m\u001b[90m<chr>\u001b[39m\u001b[23m                      \u001b[3m\u001b[90m<chr>\u001b[39m\u001b[23m   \u001b[3m\u001b[90m<chr>\u001b[39m\u001b[23m \u001b[3m\u001b[90m<chr>\u001b[39m\u001b[23m  \u001b[3m\u001b[90m<chr>\u001b[39m\u001b[23m  \u001b[3m\u001b[90m<chr>\u001b[39m\u001b[23m \u001b[3m\u001b[90m<chr>\u001b[39m\u001b[23m\n",
      "\u001b[90m 1\u001b[39m          1 AAAAAAAAAAAAAAAAAAAAAAAAA… AAAAAA  KK    AAA    AAA    K     K    \n",
      "\u001b[90m 2\u001b[39m          2 AAAAAGAAAAAGAAAAAGAAAAAGA… AAAAAG  KK    AAA    AAG    K     K    \n",
      "\u001b[90m 3\u001b[39m          3 AAAAGAAAAAGAAAAAGAAAAAGAA… AAAAGA  KR    AAA    AGA    K     R    \n",
      "\u001b[90m 4\u001b[39m          4 AAAAGGAAAAGGAAAAGGAAAAGGA… AAAAGG  KR    AAA    AGG    K     R    \n",
      "\u001b[90m 5\u001b[39m          5 AAACGAAAACGAAAACGAAAACGAA… AAACGA  KR    AAA    CGA    K     R    \n",
      "\u001b[90m 6\u001b[39m          6 AAACGCAAACGCAAACGCAAACGCA… AAACGC  KR    AAA    CGC    K     R    \n",
      "\u001b[90m 7\u001b[39m          7 AAACGGAAACGGAAACGGAAACGGA… AAACGG  KR    AAA    CGG    K     R    \n",
      "\u001b[90m 8\u001b[39m          8 AAACGTAAACGTAAACGTAAACGTA… AAACGT  KR    AAA    CGT    K     R    \n",
      "\u001b[90m 9\u001b[39m          9 AAAGCCAAAGCCAAAGCCAAAGCCA… AAAGCC  KA    AAA    GCC    K     A    \n",
      "\u001b[90m10\u001b[39m         10 AAATTCAAATTCAAATTCAAATTCA… AAATTC  KF    AAA    TTC    K     F    \n",
      "\u001b[90m# … with 120 more rows\u001b[39m\n"
     ]
    }
   ],
   "source": [
    "insert_annotations = read_csv(\"../../small_8xdicodon_rqcdel_linkage/annotations/insert_annotations.csv\") %>%\n",
    "    mutate(dicodon = str_extract(insert, \"([ACTG]{6})(?=\\\\1{7})\")) %>%\n",
    "    drop_na() %>%\n",
    "    mutate(diaa = as.character(translate(DNAStringSet(dicodon), no.init.codon = T))) %>%\n",
    "    mutate(codon1 = substr(dicodon, 1, 3), codon2 = substr(dicodon, 4, 6),\n",
    "         aa1 = substr(diaa, 1, 1), aa2 = substr(diaa, 2, 2)) %>%\n",
    "    print()"
   ]
  },
  {
   "cell_type": "code",
   "execution_count": 7,
   "metadata": {
    "vscode": {
     "languageId": "r"
    }
   },
   "outputs": [
    {
     "name": "stderr",
     "output_type": "stream",
     "text": [
      "\u001b[1mRows: \u001b[22m\u001b[34m10979\u001b[39m \u001b[1mColumns: \u001b[22m\u001b[34m6\u001b[39m\n",
      "\u001b[36m──\u001b[39m \u001b[1mColumn specification\u001b[22m \u001b[36m────────────────────────────────────────────────────────\u001b[39m\n",
      "\u001b[1mDelimiter:\u001b[22m \",\"\n",
      "\u001b[31mchr\u001b[39m (2): barcode, sample\n",
      "\u001b[32mdbl\u001b[39m (4): barcode_count, insert_num, barcode_num, linkage_count\n",
      "\n",
      "\u001b[36mℹ\u001b[39m Use `spec()` to retrieve the full column specification for this data.\n",
      "\u001b[36mℹ\u001b[39m Specify the column types or set `show_col_types = FALSE` to quiet this message.\n",
      "\u001b[1mRows: \u001b[22m\u001b[34m9232\u001b[39m \u001b[1mColumns: \u001b[22m\u001b[34m6\u001b[39m\n",
      "\u001b[36m──\u001b[39m \u001b[1mColumn specification\u001b[22m \u001b[36m────────────────────────────────────────────────────────\u001b[39m\n",
      "\u001b[1mDelimiter:\u001b[22m \",\"\n",
      "\u001b[31mchr\u001b[39m (2): barcode, sample\n",
      "\u001b[32mdbl\u001b[39m (4): barcode_count, insert_num, barcode_num, linkage_count\n",
      "\n",
      "\u001b[36mℹ\u001b[39m Use `spec()` to retrieve the full column specification for this data.\n",
      "\u001b[36mℹ\u001b[39m Specify the column types or set `show_col_types = FALSE` to quiet this message.\n",
      "Warning message:\n",
      "“`cols` is now required when using unnest().\n",
      "Please use `cols = c(counts)`”\n"
     ]
    }
   ],
   "source": [
    "barcode_counts <- list.files(\"../data/linked_barcode_counts/\", pattern = \".csv$\", full.names = T) %>% \n",
    "  enframe(\"sno\", \"file\") %>% \n",
    "  mutate(counts = map(file, read_csv)) %>% \n",
    "  mutate(sample_id = str_extract(file, \"[^/]+(?=.csv)\")) %>% \n",
    "  select(-sno, -file) %>% \n",
    "  unnest() %>% \n",
    "  mutate(insert_num = as.numeric(str_extract(insert_num, \"[:digit:]+\"))) %>%\n",
    "  mutate(barcode_count = as.numeric(barcode_count)) %>%\n",
    "  mutate(linkage_count = as.numeric(linkage_count))"
   ]
  },
  {
   "cell_type": "code",
   "execution_count": 8,
   "metadata": {
    "vscode": {
     "languageId": "r"
    }
   },
   "outputs": [
    {
     "name": "stderr",
     "output_type": "stream",
     "text": [
      "\u001b[1mRows: \u001b[22m\u001b[34m21862\u001b[39m \u001b[1mColumns: \u001b[22m\u001b[34m5\u001b[39m\n",
      "\u001b[36m──\u001b[39m \u001b[1mColumn specification\u001b[22m \u001b[36m────────────────────────────────────────────────────────\u001b[39m\n",
      "\u001b[1mDelimiter:\u001b[22m \",\"\n",
      "\u001b[31mchr\u001b[39m (2): barcode, sample\n",
      "\u001b[32mdbl\u001b[39m (3): insert_num, barcode_num, linkage_count\n",
      "\n",
      "\u001b[36mℹ\u001b[39m Use `spec()` to retrieve the full column specification for this data.\n",
      "\u001b[36mℹ\u001b[39m Specify the column types or set `show_col_types = FALSE` to quiet this message.\n"
     ]
    },
    {
     "data": {
      "text/html": [
       "<table class=\"dataframe\">\n",
       "<caption>A tibble: 6 × 5</caption>\n",
       "<thead>\n",
       "\t<tr><th scope=col>insert_num</th><th scope=col>barcode_num</th><th scope=col>barcode</th><th scope=col>linkage_count</th><th scope=col>sample</th></tr>\n",
       "\t<tr><th scope=col>&lt;dbl&gt;</th><th scope=col>&lt;dbl&gt;</th><th scope=col>&lt;chr&gt;</th><th scope=col>&lt;dbl&gt;</th><th scope=col>&lt;chr&gt;</th></tr>\n",
       "</thead>\n",
       "<tbody>\n",
       "\t<tr><td> 83</td><td>1</td><td>GAGGGCTTTGAGGCTGACTGTGGG</td><td>846</td><td>89lib2</td></tr>\n",
       "\t<tr><td> 76</td><td>2</td><td>GACAATGAGCGGGACGGGTTTAAT</td><td>819</td><td>89lib2</td></tr>\n",
       "\t<tr><td> 16</td><td>3</td><td>GAGTGCGTGATGAGGTGGGGGGGT</td><td>784</td><td>89lib1</td></tr>\n",
       "\t<tr><td>109</td><td>4</td><td>TTGTGCGAGTGCGCTGATTGTGTG</td><td>757</td><td>89lib1</td></tr>\n",
       "\t<tr><td>104</td><td>5</td><td>TGTGCGGGGGGTTGCCCGTGCGTG</td><td>751</td><td>89lib2</td></tr>\n",
       "\t<tr><td>103</td><td>6</td><td>GCTGTGGCTTTTTTGATGTGGGGT</td><td>748</td><td>89lib1</td></tr>\n",
       "</tbody>\n",
       "</table>\n"
      ],
      "text/latex": [
       "A tibble: 6 × 5\n",
       "\\begin{tabular}{lllll}\n",
       " insert\\_num & barcode\\_num & barcode & linkage\\_count & sample\\\\\n",
       " <dbl> & <dbl> & <chr> & <dbl> & <chr>\\\\\n",
       "\\hline\n",
       "\t  83 & 1 & GAGGGCTTTGAGGCTGACTGTGGG & 846 & 89lib2\\\\\n",
       "\t  76 & 2 & GACAATGAGCGGGACGGGTTTAAT & 819 & 89lib2\\\\\n",
       "\t  16 & 3 & GAGTGCGTGATGAGGTGGGGGGGT & 784 & 89lib1\\\\\n",
       "\t 109 & 4 & TTGTGCGAGTGCGCTGATTGTGTG & 757 & 89lib1\\\\\n",
       "\t 104 & 5 & TGTGCGGGGGGTTGCCCGTGCGTG & 751 & 89lib2\\\\\n",
       "\t 103 & 6 & GCTGTGGCTTTTTTGATGTGGGGT & 748 & 89lib1\\\\\n",
       "\\end{tabular}\n"
      ],
      "text/markdown": [
       "\n",
       "A tibble: 6 × 5\n",
       "\n",
       "| insert_num &lt;dbl&gt; | barcode_num &lt;dbl&gt; | barcode &lt;chr&gt; | linkage_count &lt;dbl&gt; | sample &lt;chr&gt; |\n",
       "|---|---|---|---|---|\n",
       "|  83 | 1 | GAGGGCTTTGAGGCTGACTGTGGG | 846 | 89lib2 |\n",
       "|  76 | 2 | GACAATGAGCGGGACGGGTTTAAT | 819 | 89lib2 |\n",
       "|  16 | 3 | GAGTGCGTGATGAGGTGGGGGGGT | 784 | 89lib1 |\n",
       "| 109 | 4 | TTGTGCGAGTGCGCTGATTGTGTG | 757 | 89lib1 |\n",
       "| 104 | 5 | TGTGCGGGGGGTTGCCCGTGCGTG | 751 | 89lib2 |\n",
       "| 103 | 6 | GCTGTGGCTTTTTTGATGTGGGGT | 748 | 89lib1 |\n",
       "\n"
      ],
      "text/plain": [
       "  insert_num barcode_num barcode                  linkage_count sample\n",
       "1  83        1           GAGGGCTTTGAGGCTGACTGTGGG 846           89lib2\n",
       "2  76        2           GACAATGAGCGGGACGGGTTTAAT 819           89lib2\n",
       "3  16        3           GAGTGCGTGATGAGGTGGGGGGGT 784           89lib1\n",
       "4 109        4           TTGTGCGAGTGCGCTGATTGTGTG 757           89lib1\n",
       "5 104        5           TGTGCGGGGGGTTGCCCGTGCGTG 751           89lib2\n",
       "6 103        6           GCTGTGGCTTTTTTGATGTGGGGT 748           89lib1"
      ]
     },
     "metadata": {},
     "output_type": "display_data"
    }
   ],
   "source": [
    "insert_barcode_linkages <- read_csv(\"../../small_8xdicodon_rqcdel_linkage/data/filtered_barcodes/filtered_barcodes_all_linkage.csv\") %>%\n",
    "  mutate(insert_num = as.numeric(str_extract(insert_num, \"[:digit:]+\"))) %>%\n",
    "  mutate(linkage_count = as.numeric(linkage_count)) \n",
    "\n",
    "head(insert_barcode_linkages)"
   ]
  },
  {
   "cell_type": "code",
   "execution_count": 9,
   "metadata": {
    "vscode": {
     "languageId": "r"
    }
   },
   "outputs": [
    {
     "data": {
      "text/html": [
       "<table class=\"dataframe\">\n",
       "<caption>A spec_tbl_df: 2 × 14</caption>\n",
       "<thead>\n",
       "\t<tr><th scope=col>owner</th><th scope=col>sample_name</th><th scope=col>library_type</th><th scope=col>plasmid_snapgene_map</th><th scope=col>amplicon_snapgene_map</th><th scope=col>illumina_sample_id</th><th scope=col>sample_id</th><th scope=col>barcode_read</th><th scope=col>barcode_start</th><th scope=col>barcode_length</th><th scope=col>r1_file</th><th scope=col>r2_file</th><th scope=col>run_id</th><th scope=col>s3_location</th></tr>\n",
       "\t<tr><th scope=col>&lt;chr&gt;</th><th scope=col>&lt;chr&gt;</th><th scope=col>&lt;chr&gt;</th><th scope=col>&lt;chr&gt;</th><th scope=col>&lt;chr&gt;</th><th scope=col>&lt;chr&gt;</th><th scope=col>&lt;chr&gt;</th><th scope=col>&lt;dbl&gt;</th><th scope=col>&lt;dbl&gt;</th><th scope=col>&lt;dbl&gt;</th><th scope=col>&lt;chr&gt;</th><th scope=col>&lt;chr&gt;</th><th scope=col>&lt;chr&gt;</th><th scope=col>&lt;chr&gt;</th></tr>\n",
       "</thead>\n",
       "<tbody>\n",
       "\t<tr><td>kc</td><td>revision_dicodon_mrna</td><td>mrna</td><td>pHPSC1165-71</td><td>lKCSC05</td><td>kc_89lib8</td><td>89lib8</td><td>1</td><td>1</td><td>24</td><td>kc_89lib8_S8_R1_001</td><td>kc_89lib8_S8_R2_001</td><td>231207_VH00699_402_AAFFN3WM5</td><td>fh-pi-subramaniam-a-eco/git_repos/rqc_aggregation_aging/analysis/deepseq/20231208_revision_dicodon_linkageseq/data/fastq</td></tr>\n",
       "\t<tr><td>kc</td><td>revision_dicodon_grna</td><td>grna</td><td>pHPSC1165-71</td><td>lKCSC05</td><td>kc_89lib9</td><td>89lib9</td><td>1</td><td>1</td><td>24</td><td>kc_89lib9_S9_R1_001</td><td>kc_89lib9_S9_R2_001</td><td>231207_VH00699_402_AAFFN3WM5</td><td>fh-pi-subramaniam-a-eco/git_repos/rqc_aggregation_aging/analysis/deepseq/20231208_revision_dicodon_linkageseq/data/fastq</td></tr>\n",
       "</tbody>\n",
       "</table>\n"
      ],
      "text/latex": [
       "A spec\\_tbl\\_df: 2 × 14\n",
       "\\begin{tabular}{llllllllllllll}\n",
       " owner & sample\\_name & library\\_type & plasmid\\_snapgene\\_map & amplicon\\_snapgene\\_map & illumina\\_sample\\_id & sample\\_id & barcode\\_read & barcode\\_start & barcode\\_length & r1\\_file & r2\\_file & run\\_id & s3\\_location\\\\\n",
       " <chr> & <chr> & <chr> & <chr> & <chr> & <chr> & <chr> & <dbl> & <dbl> & <dbl> & <chr> & <chr> & <chr> & <chr>\\\\\n",
       "\\hline\n",
       "\t kc & revision\\_dicodon\\_mrna & mrna & pHPSC1165-71 & lKCSC05 & kc\\_89lib8 & 89lib8 & 1 & 1 & 24 & kc\\_89lib8\\_S8\\_R1\\_001 & kc\\_89lib8\\_S8\\_R2\\_001 & 231207\\_VH00699\\_402\\_AAFFN3WM5 & fh-pi-subramaniam-a-eco/git\\_repos/rqc\\_aggregation\\_aging/analysis/deepseq/20231208\\_revision\\_dicodon\\_linkageseq/data/fastq\\\\\n",
       "\t kc & revision\\_dicodon\\_grna & grna & pHPSC1165-71 & lKCSC05 & kc\\_89lib9 & 89lib9 & 1 & 1 & 24 & kc\\_89lib9\\_S9\\_R1\\_001 & kc\\_89lib9\\_S9\\_R2\\_001 & 231207\\_VH00699\\_402\\_AAFFN3WM5 & fh-pi-subramaniam-a-eco/git\\_repos/rqc\\_aggregation\\_aging/analysis/deepseq/20231208\\_revision\\_dicodon\\_linkageseq/data/fastq\\\\\n",
       "\\end{tabular}\n"
      ],
      "text/markdown": [
       "\n",
       "A spec_tbl_df: 2 × 14\n",
       "\n",
       "| owner &lt;chr&gt; | sample_name &lt;chr&gt; | library_type &lt;chr&gt; | plasmid_snapgene_map &lt;chr&gt; | amplicon_snapgene_map &lt;chr&gt; | illumina_sample_id &lt;chr&gt; | sample_id &lt;chr&gt; | barcode_read &lt;dbl&gt; | barcode_start &lt;dbl&gt; | barcode_length &lt;dbl&gt; | r1_file &lt;chr&gt; | r2_file &lt;chr&gt; | run_id &lt;chr&gt; | s3_location &lt;chr&gt; |\n",
       "|---|---|---|---|---|---|---|---|---|---|---|---|---|---|\n",
       "| kc | revision_dicodon_mrna | mrna | pHPSC1165-71 | lKCSC05 | kc_89lib8 | 89lib8 | 1 | 1 | 24 | kc_89lib8_S8_R1_001 | kc_89lib8_S8_R2_001 | 231207_VH00699_402_AAFFN3WM5 | fh-pi-subramaniam-a-eco/git_repos/rqc_aggregation_aging/analysis/deepseq/20231208_revision_dicodon_linkageseq/data/fastq |\n",
       "| kc | revision_dicodon_grna | grna | pHPSC1165-71 | lKCSC05 | kc_89lib9 | 89lib9 | 1 | 1 | 24 | kc_89lib9_S9_R1_001 | kc_89lib9_S9_R2_001 | 231207_VH00699_402_AAFFN3WM5 | fh-pi-subramaniam-a-eco/git_repos/rqc_aggregation_aging/analysis/deepseq/20231208_revision_dicodon_linkageseq/data/fastq |\n",
       "\n"
      ],
      "text/plain": [
       "  owner sample_name           library_type plasmid_snapgene_map\n",
       "1 kc    revision_dicodon_mrna mrna         pHPSC1165-71        \n",
       "2 kc    revision_dicodon_grna grna         pHPSC1165-71        \n",
       "  amplicon_snapgene_map illumina_sample_id sample_id barcode_read barcode_start\n",
       "1 lKCSC05               kc_89lib8          89lib8    1            1            \n",
       "2 lKCSC05               kc_89lib9          89lib9    1            1            \n",
       "  barcode_length r1_file             r2_file            \n",
       "1 24             kc_89lib8_S8_R1_001 kc_89lib8_S8_R2_001\n",
       "2 24             kc_89lib9_S9_R1_001 kc_89lib9_S9_R2_001\n",
       "  run_id                      \n",
       "1 231207_VH00699_402_AAFFN3WM5\n",
       "2 231207_VH00699_402_AAFFN3WM5\n",
       "  s3_location                                                                                                             \n",
       "1 fh-pi-subramaniam-a-eco/git_repos/rqc_aggregation_aging/analysis/deepseq/20231208_revision_dicodon_linkageseq/data/fastq\n",
       "2 fh-pi-subramaniam-a-eco/git_repos/rqc_aggregation_aging/analysis/deepseq/20231208_revision_dicodon_linkageseq/data/fastq"
      ]
     },
     "metadata": {},
     "output_type": "display_data"
    }
   ],
   "source": [
    "sample_annotations"
   ]
  },
  {
   "cell_type": "code",
   "execution_count": 10,
   "metadata": {
    "vscode": {
     "languageId": "r"
    }
   },
   "outputs": [],
   "source": [
    "barcode_insert_counts <- barcode_counts %>% \n",
    "  left_join(select(sample_annotations, c(sample_name)), by = c(\"sample_id\"=\"sample_name\")) %>%\n",
    "  left_join(insert_barcode_linkages, by = c(\"barcode_num\", \"barcode\", \"insert_num\", \"linkage_count\", 'sample')) %>%\n",
    "  drop_na(barcode_count) %>%\n",
    "  left_join(strain_annotations, by=c('sample'='library')) %>%\n",
    "  mutate(library_type = str_extract(sample_id, '(?<=_dicodon_)(.+)$')) %>%\n",
    "  select(-sample_id, -`ID`, -strain, -plasmid, -sample)"
   ]
  },
  {
   "cell_type": "code",
   "execution_count": 11,
   "metadata": {
    "vscode": {
     "languageId": "r"
    }
   },
   "outputs": [],
   "source": [
    "barcode_mrna_grna_counts <- barcode_insert_counts %>%\n",
    "    filter(barcode_count >= barcode_reads_cutoff) %>%\n",
    "    select(-linkage_count) %>%\n",
    "    pivot_wider(names_from=library_type, values_from=barcode_count) %>%\n",
    "    drop_na() %>%\n",
    "    left_join(insert_annotations, by='insert_num')"
   ]
  },
  {
   "cell_type": "markdown",
   "metadata": {},
   "source": [
    "### Note\n",
    "\n",
    "- Not5-del cells had low read/barcode counts compared to other strains, the data is low quality likely due to growth defects as cited by other groups"
   ]
  },
  {
   "cell_type": "code",
   "execution_count": 12,
   "metadata": {
    "vscode": {
     "languageId": "r"
    }
   },
   "outputs": [],
   "source": [
    "lowest_mrna_level_diaa_fig3 <- c('KK', 'WW', 'PG', 'RR', 'KR', 'WK', 'KW', 'PD', 'RK', 'DP', 'FK', 'KF', 'RW', 'WR', 'RI', 'RL', 'IR', 'LR', 'GP', 'AL')\n",
    "controls <- c('Stop', 'GD', 'KA', 'KG', 'PP', 'KD', 'FG')"
   ]
  },
  {
   "cell_type": "code",
   "execution_count": 14,
   "metadata": {
    "vscode": {
     "languageId": "r"
    }
   },
   "outputs": [],
   "source": [
    "order <- barcode_mrna_grna_counts %>% # already filtered for >=10 reads per barcode\n",
    "    drop_na(dicodon) %>% # drops skvf/svkf\n",
    "    group_by(genotype, insert_num) %>%\n",
    "    mutate(n_barc = n(), n_mrna=sum(mrna), n_grna=sum(grna)) %>%\n",
    "    ungroup() %>%\n",
    "    filter(n_barc >= n_barcodes_cutoff, n_mrna >= reads_per_insert_cutoff, n_grna >= reads_per_insert_cutoff) %>%\n",
    "    mutate(lfc = log2(mrna/grna)) %>%\n",
    "    group_by(genotype, diaa) %>%\n",
    "    summarize(avg_lfc = mean(lfc), sum_mrna = sum(n_mrna), sum_grna = sum(n_grna), se = std.error(lfc), s=sd(lfc), .groups='drop') %>%\n",
    "    filter(sum_mrna >= 500, sum_grna >= 500) %>%\n",
    "    filter(se <= 0.2) %>%\n",
    "    filter(genotype != 'Not5') %>%\n",
    "    mutate(diaa = ifelse(diaa == '**', 'Stop', diaa)) %>%\n",
    "    group_by(diaa) %>%\n",
    "    mutate(n_strains = n()) %>%\n",
    "    ungroup() %>%\n",
    "    filter(n_strains > 1) %>%\n",
    "    mutate(type = case_when(diaa %in% lowest_mrna_level_diaa_fig3 ~ 'Diaa with lowest\\nmRNA levels',\n",
    "                            diaa %in% controls ~ 'Control diaa')) %>%\n",
    "    arrange(genotype, type) %>%\n",
    "    mutate(diaa = str_c(diaa, ',', type)) %>%\n",
    "    dplyr::pull(diaa) %>%\n",
    "    unique()"
   ]
  },
  {
   "cell_type": "code",
   "execution_count": 15,
   "metadata": {
    "vscode": {
     "languageId": "r"
    }
   },
   "outputs": [
    {
     "name": "stderr",
     "output_type": "stream",
     "text": [
      "Warning message:\n",
      "“\u001b[1m\u001b[22mUsing `size` aesthetic for lines was deprecated in ggplot2 3.4.0.\n",
      "\u001b[36mℹ\u001b[39m Please use `linewidth` instead.”\n"
     ]
    },
    {
     "data": {
      "image/png": "[encoded data removed]",
      "text/plain": [
       "plot without title"
      ]
     },
     "metadata": {
      "image/png": {
       "height": 180,
       "width": 240
      }
     },
     "output_type": "display_data"
    }
   ],
   "source": [
    "barcode_mrna_grna_counts %>% # already filtered for >=10 reads per barcode\n",
    "    mutate(total_mrna = sum(mrna), total_grna = sum(grna)) %>%\n",
    "    mutate(norm_mrna = mrna/total_mrna, norm_grna = grna/total_grna) %>%\n",
    "    drop_na(dicodon) %>% # drops skvf/svkf\n",
    "    group_by(genotype, insert_num) %>%\n",
    "    mutate(n_barc = n(), mrna_per_insert=sum(mrna), grna_per_insert=sum(grna)) %>%\n",
    "    ungroup() %>%\n",
    "    filter(n_barc >= n_barcodes_cutoff, mrna_per_insert >= reads_per_insert_cutoff, grna_per_insert >= reads_per_insert_cutoff) %>%\n",
    "    mutate(lfc = log2(norm_mrna/norm_grna)) %>%\n",
    "    group_by(genotype, diaa) %>%\n",
    "    summarize(avg_lfc = mean(lfc), mrna_per_diaa = sum(mrna_per_insert), grna_per_diaa = sum(grna_per_insert), se = std.error(lfc), s=sd(lfc), .groups='drop') %>%\n",
    "    filter(mrna_per_diaa >= reads_per_diaa_cutoff, grna_per_diaa >= reads_per_diaa_cutoff) %>%\n",
    "    filter(se <= se_cutoff) %>%\n",
    "    filter(genotype != 'Not5') %>%\n",
    "    mutate(diaa = ifelse(diaa == '**', 'Stop', diaa)) %>%\n",
    "    group_by(diaa) %>%\n",
    "    mutate(n_strains = n()) %>%\n",
    "    ungroup() %>%\n",
    "    filter(n_strains > 1) %>%\n",
    "    mutate(type = case_when(diaa %in% lowest_mrna_level_diaa_fig3 ~ 'Diaa with lowest\\nmRNA levels',\n",
    "                            diaa %in% controls ~ 'Control diaa')) %>%\n",
    "    mutate(diaa1 = str_c(diaa, ',' ,type)) %>%\n",
    "    mutate(diaa = factor(diaa1, levels=rev(order))) %>%\n",
    "    drop_na(diaa) %>%\n",
    "    ggplot() +\n",
    "    aes(y=diaa, x=avg_lfc, xmin=avg_lfc-se, xmax=avg_lfc+se, color=genotype) +\n",
    "    geom_point(size=0.7) +\n",
    "    geom_errorbar(width=0.3, size=0.3) +\n",
    "    scale_y_discrete(guide = guide_axis_nested(delim = \",\")) +\n",
    "    theme + \n",
    "    theme(legend.position = \"top\",\n",
    "        axis.line.x = element_blank(),\n",
    "        axis.line.y = element_blank(),\n",
    "        axis.ticks.y = element_blank(),\n",
    "        panel.grid.major.y = element_line(color='grey', size=0.2),\n",
    "        legend.key.height = unit(2.5, 'mm'),\n",
    "        legend.key.width = unit(2, 'mm'),\n",
    "        legend.text = element_text(size=8),\n",
    "        legend.title = element_text(size=8),\n",
    "        legend.box.margin=margin(-12,-12,-12,-12),\n",
    "        ggh4x.axis.nestline = element_line(linewidth = 0.2),\n",
    "        ggh4x.axis.nesttext.y = element_text(),\n",
    "        ) +\n",
    "    scale_color_manual(values=c('WT'='black', 'Hel2'='#E69F00', 'Syh1' = '#1A85FF', 'Hel2/Syh1'='#CC6677', 'Cue2'='#888888', 'Xrn1'='#44AA99')) +\n",
    "    labs(y='', x='mRNA level (log2, arb. units)', color='')\n",
    "\n",
    "ggsave(\"../figures/diaa_pass_filters_norm.pdf\", height=4.2, width=3)"
   ]
  },
  {
   "cell_type": "code",
   "execution_count": null,
   "metadata": {
    "vscode": {
     "languageId": "r"
    }
   },
   "outputs": [],
   "source": []
  }
 ],
 "metadata": {
  "kernelspec": {
   "display_name": "R_project_repo_1.13.0",
   "language": "R",
   "name": "ir_project_repo_1.13.0"
  },
  "language_info": {
   "codemirror_mode": "r",
   "file_extension": ".r",
   "mimetype": "text/x-r-source",
   "name": "R",
   "pygments_lexer": "r",
   "version": "4.1.3"
  }
 },
 "nbformat": 4,
 "nbformat_minor": 2
}
