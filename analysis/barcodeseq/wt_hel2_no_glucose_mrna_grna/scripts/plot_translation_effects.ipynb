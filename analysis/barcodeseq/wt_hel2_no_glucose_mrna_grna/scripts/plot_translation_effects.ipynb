{
 "cells": [
  {
   "attachments": {},
   "cell_type": "markdown",
   "metadata": {},
   "source": [
    "## Minimum code for plotting translation-dependency of codon/amino acid effects"
   ]
  },
  {
   "attachments": {},
   "cell_type": "markdown",
   "metadata": {},
   "source": [
    "### Load libraries"
   ]
  },
  {
   "cell_type": "code",
   "execution_count": 52,
   "metadata": {
    "vscode": {
     "languageId": "r"
    }
   },
   "outputs": [],
   "source": [
    "suppressPackageStartupMessages(library(tidyverse))\n",
    "suppressPackageStartupMessages(library(Biostrings))\n",
    "suppressPackageStartupMessages(library(rasilabRtemplates))\n",
    "suppressPackageStartupMessages(library(ggrepel))\n",
    "suppressPackageStartupMessages(library(ggh4x))\n",
    "suppressPackageStartupMessages(library(plotrix))\n",
    "\n",
    "n_barcodes_cutoff <- 4\n",
    "barcode_reads_cutoff <- 10 \n",
    "umi_count_cutoff <- 10\n",
    "set.seed(1234)"
   ]
  },
  {
   "attachments": {},
   "cell_type": "markdown",
   "metadata": {},
   "source": [
    "### Global plotting themes"
   ]
  },
  {
   "cell_type": "code",
   "execution_count": 53,
   "metadata": {
    "vscode": {
     "languageId": "r"
    }
   },
   "outputs": [],
   "source": [
    "theme <- theme(\n",
    "        title = element_text(margin = margin(t=0, r=2, b=2, l=2), size=8),\n",
    "        axis.title.x = element_text(margin = margin(t=2, r=2, b=0, l=2), size=8),\n",
    "        axis.title.y = element_text(margin = margin(t=2, r=2, b=2, l=0), size=8),\n",
    "        text = element_text(size = 8),\n",
    "        legend.text=element_text(size=8),\n",
    "        axis.line.x=element_line(size=0.2),\n",
    "        axis.line.y=element_line(size=0.2),\n",
    "        axis.ticks.y =  element_line(size=0.2),\n",
    "        axis.ticks.x = element_line(size=0.2),\n",
    "        axis.text.x = element_text(size=8),\n",
    "        axis.text.y = element_text(size=8)\n",
    "        )"
   ]
  },
  {
   "cell_type": "code",
   "execution_count": 54,
   "metadata": {
    "vscode": {
     "languageId": "r"
    }
   },
   "outputs": [],
   "source": [
    "if (!file.exists('../figures')){\n",
    "    dir.create('../figures')\n",
    "}"
   ]
  },
  {
   "attachments": {},
   "cell_type": "markdown",
   "metadata": {},
   "source": [
    "### Read insert annotations & insert-barcode linkages"
   ]
  },
  {
   "cell_type": "code",
   "execution_count": 55,
   "metadata": {
    "vscode": {
     "languageId": "r"
    }
   },
   "outputs": [
    {
     "data": {
      "text/html": [
       "<table class=\"dataframe\">\n",
       "<caption>A tibble: 6 × 7</caption>\n",
       "<thead>\n",
       "\t<tr><th scope=col>insert_num</th><th scope=col>dicodon</th><th scope=col>diaa</th><th scope=col>codon1</th><th scope=col>codon2</th><th scope=col>aa1</th><th scope=col>aa2</th></tr>\n",
       "\t<tr><th scope=col>&lt;dbl&gt;</th><th scope=col>&lt;chr&gt;</th><th scope=col>&lt;chr&gt;</th><th scope=col>&lt;chr&gt;</th><th scope=col>&lt;chr&gt;</th><th scope=col>&lt;chr&gt;</th><th scope=col>&lt;chr&gt;</th></tr>\n",
       "</thead>\n",
       "<tbody>\n",
       "\t<tr><td>0</td><td>AAAAAA</td><td>KK</td><td>AAA</td><td>AAA</td><td>K</td><td>K</td></tr>\n",
       "\t<tr><td>1</td><td>AAAAAC</td><td>KN</td><td>AAA</td><td>AAC</td><td>K</td><td>N</td></tr>\n",
       "\t<tr><td>2</td><td>AAAAAG</td><td>KK</td><td>AAA</td><td>AAG</td><td>K</td><td>K</td></tr>\n",
       "\t<tr><td>3</td><td>AAAAAT</td><td>KN</td><td>AAA</td><td>AAT</td><td>K</td><td>N</td></tr>\n",
       "\t<tr><td>4</td><td>AAAACA</td><td>KT</td><td>AAA</td><td>ACA</td><td>K</td><td>T</td></tr>\n",
       "\t<tr><td>5</td><td>AAAACC</td><td>KT</td><td>AAA</td><td>ACC</td><td>K</td><td>T</td></tr>\n",
       "</tbody>\n",
       "</table>\n"
      ],
      "text/latex": [
       "A tibble: 6 × 7\n",
       "\\begin{tabular}{lllllll}\n",
       " insert\\_num & dicodon & diaa & codon1 & codon2 & aa1 & aa2\\\\\n",
       " <dbl> & <chr> & <chr> & <chr> & <chr> & <chr> & <chr>\\\\\n",
       "\\hline\n",
       "\t 0 & AAAAAA & KK & AAA & AAA & K & K\\\\\n",
       "\t 1 & AAAAAC & KN & AAA & AAC & K & N\\\\\n",
       "\t 2 & AAAAAG & KK & AAA & AAG & K & K\\\\\n",
       "\t 3 & AAAAAT & KN & AAA & AAT & K & N\\\\\n",
       "\t 4 & AAAACA & KT & AAA & ACA & K & T\\\\\n",
       "\t 5 & AAAACC & KT & AAA & ACC & K & T\\\\\n",
       "\\end{tabular}\n"
      ],
      "text/markdown": [
       "\n",
       "A tibble: 6 × 7\n",
       "\n",
       "| insert_num &lt;dbl&gt; | dicodon &lt;chr&gt; | diaa &lt;chr&gt; | codon1 &lt;chr&gt; | codon2 &lt;chr&gt; | aa1 &lt;chr&gt; | aa2 &lt;chr&gt; |\n",
       "|---|---|---|---|---|---|---|\n",
       "| 0 | AAAAAA | KK | AAA | AAA | K | K |\n",
       "| 1 | AAAAAC | KN | AAA | AAC | K | N |\n",
       "| 2 | AAAAAG | KK | AAA | AAG | K | K |\n",
       "| 3 | AAAAAT | KN | AAA | AAT | K | N |\n",
       "| 4 | AAAACA | KT | AAA | ACA | K | T |\n",
       "| 5 | AAAACC | KT | AAA | ACC | K | T |\n",
       "\n"
      ],
      "text/plain": [
       "  insert_num dicodon diaa codon1 codon2 aa1 aa2\n",
       "1 0          AAAAAA  KK   AAA    AAA    K   K  \n",
       "2 1          AAAAAC  KN   AAA    AAC    K   N  \n",
       "3 2          AAAAAG  KK   AAA    AAG    K   K  \n",
       "4 3          AAAAAT  KN   AAA    AAT    K   N  \n",
       "5 4          AAAACA  KT   AAA    ACA    K   T  \n",
       "6 5          AAAACC  KT   AAA    ACC    K   T  "
      ]
     },
     "metadata": {},
     "output_type": "display_data"
    }
   ],
   "source": [
    "insert_annotations <- read_csv(\"../../8xdicodon_linkage/annotations/dicodon_yeast.csv\", show_col_types = F) %>%\n",
    "    mutate(dicodon = str_extract(insert, \"([ACTG]{6})(?=\\\\1{7})\")) %>%\n",
    "    drop_na(dicodon) %>% # drops the inserts that aren't dicodons in this case\n",
    "    mutate(diaa = as.character(translate(DNAStringSet(dicodon), no.init.codon = T))) %>%\n",
    "    mutate(codon1 = substr(dicodon, 1, 3), codon2 = substr(dicodon, 4, 6),\n",
    "         aa1 = substr(diaa, 1, 1), aa2 = substr(diaa, 2, 2)) %>%\n",
    "    select(-insert)\n",
    "\n",
    "head(insert_annotations)"
   ]
  },
  {
   "cell_type": "code",
   "execution_count": 56,
   "metadata": {
    "vscode": {
     "languageId": "r"
    }
   },
   "outputs": [
    {
     "name": "stderr",
     "output_type": "stream",
     "text": [
      "\u001b[1mRows: \u001b[22m\u001b[34m2455063\u001b[39m \u001b[1mColumns: \u001b[22m\u001b[34m4\u001b[39m\n",
      "\u001b[36m──\u001b[39m \u001b[1mColumn specification\u001b[22m \u001b[36m────────────────────────────────────────────────────────\u001b[39m\n",
      "\u001b[1mDelimiter:\u001b[22m \",\"\n",
      "\u001b[31mchr\u001b[39m (3): insert_num, barcode, linkage_count\n",
      "\u001b[32mdbl\u001b[39m (1): barcode_num\n",
      "\n",
      "\u001b[36mℹ\u001b[39m Use `spec()` to retrieve the full column specification for this data.\n",
      "\u001b[36mℹ\u001b[39m Specify the column types or set `show_col_types = FALSE` to quiet this message.\n"
     ]
    }
   ],
   "source": [
    "insert_barcode_linkages <- read_csv(\"../../8xdicodon_linkage/data/filtered_barcodes/yeast_cyto_linkage.csv\") %>%\n",
    "  mutate(insert_num = as.numeric(str_extract(insert_num, \"[:digit:]+\"))) %>%\n",
    "  mutate(linkage_count = as.numeric(linkage_count)) %>%\n",
    "  mutate(linkage_ref = 'yeast_cyto_linkage')\n",
    "\n",
    "head(insert_barcode_linkages)"
   ]
  },
  {
   "attachments": {},
   "cell_type": "markdown",
   "metadata": {},
   "source": [
    "## Plot frame effects for WT and Hel2-del (no-tx) data"
   ]
  },
  {
   "attachments": {},
   "cell_type": "markdown",
   "metadata": {},
   "source": [
    "### Read annotations & barcode counts for WT no-tx mRNA/gRNA"
   ]
  },
  {
   "cell_type": "code",
   "execution_count": null,
   "metadata": {
    "vscode": {
     "languageId": "r"
    }
   },
   "outputs": [
    {
     "name": "stderr",
     "output_type": "stream",
     "text": [
      "\u001b[1mRows: \u001b[22m\u001b[34m2\u001b[39m \u001b[1mColumns: \u001b[22m\u001b[34m15\u001b[39m\n",
      "\u001b[36m──\u001b[39m \u001b[1mColumn specification\u001b[22m \u001b[36m────────────────────────────────────────────────────────\u001b[39m\n",
      "\u001b[1mDelimiter:\u001b[22m \",\"\n",
      "\u001b[31mchr\u001b[39m (12): owner, sample_type, sample_name, plasmid, library_type, illumina_s...\n",
      "\u001b[32mdbl\u001b[39m  (3): barcode_read, barcode_start, barcode_length\n",
      "\n",
      "\u001b[36mℹ\u001b[39m Use `spec()` to retrieve the full column specification for this data.\n",
      "\u001b[36mℹ\u001b[39m Specify the column types or set `show_col_types = FALSE` to quiet this message.\n"
     ]
    },
    {
     "data": {
      "text/html": [
       "<table class=\"dataframe\">\n",
       "<caption>A spec_tbl_df: 2 × 15</caption>\n",
       "<thead>\n",
       "\t<tr><th scope=col>owner</th><th scope=col>sample_type</th><th scope=col>sample_name</th><th scope=col>plasmid</th><th scope=col>library_type</th><th scope=col>illumina_sample_id</th><th scope=col>sample_id</th><th scope=col>barcode_read</th><th scope=col>barcode_start</th><th scope=col>barcode_length</th><th scope=col>linkage_ref</th><th scope=col>r1_file</th><th scope=col>r2_file</th><th scope=col>s3</th><th scope=col>shared</th></tr>\n",
       "\t<tr><th scope=col>&lt;chr&gt;</th><th scope=col>&lt;chr&gt;</th><th scope=col>&lt;chr&gt;</th><th scope=col>&lt;chr&gt;</th><th scope=col>&lt;chr&gt;</th><th scope=col>&lt;chr&gt;</th><th scope=col>&lt;chr&gt;</th><th scope=col>&lt;dbl&gt;</th><th scope=col>&lt;dbl&gt;</th><th scope=col>&lt;dbl&gt;</th><th scope=col>&lt;chr&gt;</th><th scope=col>&lt;chr&gt;</th><th scope=col>&lt;chr&gt;</th><th scope=col>&lt;chr&gt;</th><th scope=col>&lt;chr&gt;</th></tr>\n",
       "</thead>\n",
       "<tbody>\n",
       "\t<tr><td>kc</td><td>dicodon_yeast</td><td>wt_gdna</td><td>pHPSC1142</td><td>grna</td><td>51lib2</td><td>51lib2</td><td>1</td><td>1</td><td>24</td><td>yeast_cyto_linkage</td><td>kc_51lib2_S13_R1_001</td><td>kc_51lib2_S13_R2_001</td><td>fh-pi-subramaniam-a-eco/data/kchen/illumina/20220328_exp51_wt_8xdicodon/</td><td>/shared/ngs/illumina/subramaniam_lab/220328_VH00319_178_AAAYF3FM5/Unaligned/Project_subramaniam_lab/</td></tr>\n",
       "\t<tr><td>kc</td><td>dicodon_yeast</td><td>wt_mrna</td><td>pHPSC1142</td><td>mrna</td><td>51lib1</td><td>51lib1</td><td>1</td><td>1</td><td>24</td><td>yeast_cyto_linkage</td><td>kc_51lib1_S12_R1_001</td><td>kc_51lib1_S12_R2_001</td><td>fh-pi-subramaniam-a-eco/data/kchen/illumina/20220328_exp51_wt_8xdicodon/</td><td>/shared/ngs/illumina/subramaniam_lab/220328_VH00319_178_AAAYF3FM5/Unaligned/Project_subramaniam_lab/</td></tr>\n",
       "</tbody>\n",
       "</table>\n"
      ],
      "text/latex": [
       "A spec\\_tbl\\_df: 2 × 15\n",
       "\\begin{tabular}{lllllllllllllll}\n",
       " owner & sample\\_type & sample\\_name & plasmid & library\\_type & illumina\\_sample\\_id & sample\\_id & barcode\\_read & barcode\\_start & barcode\\_length & linkage\\_ref & r1\\_file & r2\\_file & s3 & shared\\\\\n",
       " <chr> & <chr> & <chr> & <chr> & <chr> & <chr> & <chr> & <dbl> & <dbl> & <dbl> & <chr> & <chr> & <chr> & <chr> & <chr>\\\\\n",
       "\\hline\n",
       "\t kc & dicodon\\_yeast & wt\\_gdna & pHPSC1142 & grna & 51lib2 & 51lib2 & 1 & 1 & 24 & yeast\\_cyto\\_linkage & kc\\_51lib2\\_S13\\_R1\\_001 & kc\\_51lib2\\_S13\\_R2\\_001 & fh-pi-subramaniam-a-eco/data/kchen/illumina/20220328\\_exp51\\_wt\\_8xdicodon/ & /shared/ngs/illumina/subramaniam\\_lab/220328\\_VH00319\\_178\\_AAAYF3FM5/Unaligned/Project\\_subramaniam\\_lab/\\\\\n",
       "\t kc & dicodon\\_yeast & wt\\_mrna & pHPSC1142 & mrna & 51lib1 & 51lib1 & 1 & 1 & 24 & yeast\\_cyto\\_linkage & kc\\_51lib1\\_S12\\_R1\\_001 & kc\\_51lib1\\_S12\\_R2\\_001 & fh-pi-subramaniam-a-eco/data/kchen/illumina/20220328\\_exp51\\_wt\\_8xdicodon/ & /shared/ngs/illumina/subramaniam\\_lab/220328\\_VH00319\\_178\\_AAAYF3FM5/Unaligned/Project\\_subramaniam\\_lab/\\\\\n",
       "\\end{tabular}\n"
      ],
      "text/markdown": [
       "\n",
       "A spec_tbl_df: 2 × 15\n",
       "\n",
       "| owner &lt;chr&gt; | sample_type &lt;chr&gt; | sample_name &lt;chr&gt; | plasmid &lt;chr&gt; | library_type &lt;chr&gt; | illumina_sample_id &lt;chr&gt; | sample_id &lt;chr&gt; | barcode_read &lt;dbl&gt; | barcode_start &lt;dbl&gt; | barcode_length &lt;dbl&gt; | linkage_ref &lt;chr&gt; | r1_file &lt;chr&gt; | r2_file &lt;chr&gt; | s3 &lt;chr&gt; | shared &lt;chr&gt; |\n",
       "|---|---|---|---|---|---|---|---|---|---|---|---|---|---|---|\n",
       "| kc | dicodon_yeast | wt_gdna | pHPSC1142 | grna | 51lib2 | 51lib2 | 1 | 1 | 24 | yeast_cyto_linkage | kc_51lib2_S13_R1_001 | kc_51lib2_S13_R2_001 | fh-pi-subramaniam-a-eco/data/kchen/illumina/20220328_exp51_wt_8xdicodon/ | /shared/ngs/illumina/subramaniam_lab/220328_VH00319_178_AAAYF3FM5/Unaligned/Project_subramaniam_lab/ |\n",
       "| kc | dicodon_yeast | wt_mrna | pHPSC1142 | mrna | 51lib1 | 51lib1 | 1 | 1 | 24 | yeast_cyto_linkage | kc_51lib1_S12_R1_001 | kc_51lib1_S12_R2_001 | fh-pi-subramaniam-a-eco/data/kchen/illumina/20220328_exp51_wt_8xdicodon/ | /shared/ngs/illumina/subramaniam_lab/220328_VH00319_178_AAAYF3FM5/Unaligned/Project_subramaniam_lab/ |\n",
       "\n"
      ],
      "text/plain": [
       "  owner sample_type   sample_name plasmid   library_type illumina_sample_id\n",
       "1 kc    dicodon_yeast wt_gdna     pHPSC1142 grna         51lib2            \n",
       "2 kc    dicodon_yeast wt_mrna     pHPSC1142 mrna         51lib1            \n",
       "  sample_id barcode_read barcode_start barcode_length linkage_ref       \n",
       "1 51lib2    1            1             24             yeast_cyto_linkage\n",
       "2 51lib1    1            1             24             yeast_cyto_linkage\n",
       "  r1_file              r2_file             \n",
       "1 kc_51lib2_S13_R1_001 kc_51lib2_S13_R2_001\n",
       "2 kc_51lib1_S12_R1_001 kc_51lib1_S12_R2_001\n",
       "  s3                                                                      \n",
       "1 fh-pi-subramaniam-a-eco/data/kchen/illumina/20220328_exp51_wt_8xdicodon/\n",
       "2 fh-pi-subramaniam-a-eco/data/kchen/illumina/20220328_exp51_wt_8xdicodon/\n",
       "  shared                                                                                              \n",
       "1 /shared/ngs/illumina/subramaniam_lab/220328_VH00319_178_AAAYF3FM5/Unaligned/Project_subramaniam_lab/\n",
       "2 /shared/ngs/illumina/subramaniam_lab/220328_VH00319_178_AAAYF3FM5/Unaligned/Project_subramaniam_lab/"
      ]
     },
     "metadata": {},
     "output_type": "display_data"
    }
   ],
   "source": [
    "sample_annotations_51 = read_csv(\"../../wt_mrna_grna/annotations/sample_annotations.csv\", comment='#')\n",
    "sample_annotations_51"
   ]
  },
  {
   "cell_type": "code",
   "execution_count": null,
   "metadata": {
    "vscode": {
     "languageId": "r"
    }
   },
   "outputs": [
    {
     "name": "stderr",
     "output_type": "stream",
     "text": [
      "\u001b[1mRows: \u001b[22m\u001b[34m197785\u001b[39m \u001b[1mColumns: \u001b[22m\u001b[34m5\u001b[39m\n",
      "\u001b[36m──\u001b[39m \u001b[1mColumn specification\u001b[22m \u001b[36m────────────────────────────────────────────────────────\u001b[39m\n",
      "\u001b[1mDelimiter:\u001b[22m \",\"\n",
      "\u001b[31mchr\u001b[39m (4): barcode_count, insert_num, barcode, linkage_count\n",
      "\u001b[32mdbl\u001b[39m (1): barcode_num\n",
      "\n",
      "\u001b[36mℹ\u001b[39m Use `spec()` to retrieve the full column specification for this data.\n",
      "\u001b[36mℹ\u001b[39m Specify the column types or set `show_col_types = FALSE` to quiet this message.\n",
      "\u001b[1mRows: \u001b[22m\u001b[34m172594\u001b[39m \u001b[1mColumns: \u001b[22m\u001b[34m5\u001b[39m\n",
      "\u001b[36m──\u001b[39m \u001b[1mColumn specification\u001b[22m \u001b[36m────────────────────────────────────────────────────────\u001b[39m\n",
      "\u001b[1mDelimiter:\u001b[22m \",\"\n",
      "\u001b[31mchr\u001b[39m (4): barcode_count, insert_num, barcode, linkage_count\n",
      "\u001b[32mdbl\u001b[39m (1): barcode_num\n",
      "\n",
      "\u001b[36mℹ\u001b[39m Use `spec()` to retrieve the full column specification for this data.\n",
      "\u001b[36mℹ\u001b[39m Specify the column types or set `show_col_types = FALSE` to quiet this message.\n",
      "Warning message:\n",
      "“`cols` is now required when using unnest().\n",
      "Please use `cols = c(counts)`”\n",
      "Warning message in mask$eval_all_mutate(quo):\n",
      "“NAs introduced by coercion”\n",
      "Warning message in mask$eval_all_mutate(quo):\n",
      "“NAs introduced by coercion”\n"
     ]
    }
   ],
   "source": [
    "barcode_counts_51 <- list.files(\"../../wt_mrna_grna/data/linked_barcode_counts/\", pattern = \".csv$\", full.names = T) %>% \n",
    "  enframe(\"sno\", \"file\") %>% \n",
    "  mutate(counts = map(file, read_csv)) %>% \n",
    "  mutate(sample_name = str_extract(file, \"[^/]+(?=.csv)\")) %>% \n",
    "  select(-sno, -file) %>% \n",
    "  unnest() %>% \n",
    "  mutate(insert_num = as.numeric(str_extract(insert_num, \"[:digit:]+\"))) %>%\n",
    "  mutate(barcode_count = as.numeric(barcode_count)) %>%\n",
    "  mutate(linkage_count = as.numeric(linkage_count))"
   ]
  },
  {
   "cell_type": "code",
   "execution_count": null,
   "metadata": {
    "vscode": {
     "languageId": "r"
    }
   },
   "outputs": [
    {
     "data": {
      "text/html": [
       "<table class=\"dataframe\">\n",
       "<caption>A tibble: 6 × 7</caption>\n",
       "<thead>\n",
       "\t<tr><th scope=col>barcode_count</th><th scope=col>insert_num</th><th scope=col>barcode_num</th><th scope=col>barcode</th><th scope=col>linkage_count</th><th scope=col>sample_name</th><th scope=col>linkage_ref</th></tr>\n",
       "\t<tr><th scope=col>&lt;dbl&gt;</th><th scope=col>&lt;dbl&gt;</th><th scope=col>&lt;dbl&gt;</th><th scope=col>&lt;chr&gt;</th><th scope=col>&lt;dbl&gt;</th><th scope=col>&lt;chr&gt;</th><th scope=col>&lt;chr&gt;</th></tr>\n",
       "</thead>\n",
       "<tbody>\n",
       "\t<tr><td>4871</td><td> 186</td><td>1643847</td><td>AGTCGTTGTAGCAACTCGATGTTT</td><td>16</td><td>wt_gdna</td><td>yeast_cyto_linkage</td></tr>\n",
       "\t<tr><td>4653</td><td>5658</td><td>1596380</td><td>CTGGATGTCGCGAGCAACAACAGC</td><td>17</td><td>wt_gdna</td><td>yeast_cyto_linkage</td></tr>\n",
       "\t<tr><td>3823</td><td>5810</td><td> 764917</td><td>TGTATTCGGGCCAGCATGAGGTGC</td><td> 4</td><td>wt_gdna</td><td>yeast_cyto_linkage</td></tr>\n",
       "\t<tr><td>3656</td><td>2787</td><td>1040412</td><td>AGCGATTAGAGCATTTCTGGCCAC</td><td> 3</td><td>wt_gdna</td><td>yeast_cyto_linkage</td></tr>\n",
       "\t<tr><td>3577</td><td> 203</td><td>1644177</td><td>TGGGATCTTTTCGCGTATTCGGTT</td><td>16</td><td>wt_gdna</td><td>yeast_cyto_linkage</td></tr>\n",
       "\t<tr><td>3497</td><td>4868</td><td> 692986</td><td>TCGCTCCGTGTCGTGTCTCCTATG</td><td> 4</td><td>wt_gdna</td><td>yeast_cyto_linkage</td></tr>\n",
       "</tbody>\n",
       "</table>\n"
      ],
      "text/latex": [
       "A tibble: 6 × 7\n",
       "\\begin{tabular}{lllllll}\n",
       " barcode\\_count & insert\\_num & barcode\\_num & barcode & linkage\\_count & sample\\_name & linkage\\_ref\\\\\n",
       " <dbl> & <dbl> & <dbl> & <chr> & <dbl> & <chr> & <chr>\\\\\n",
       "\\hline\n",
       "\t 4871 &  186 & 1643847 & AGTCGTTGTAGCAACTCGATGTTT & 16 & wt\\_gdna & yeast\\_cyto\\_linkage\\\\\n",
       "\t 4653 & 5658 & 1596380 & CTGGATGTCGCGAGCAACAACAGC & 17 & wt\\_gdna & yeast\\_cyto\\_linkage\\\\\n",
       "\t 3823 & 5810 &  764917 & TGTATTCGGGCCAGCATGAGGTGC &  4 & wt\\_gdna & yeast\\_cyto\\_linkage\\\\\n",
       "\t 3656 & 2787 & 1040412 & AGCGATTAGAGCATTTCTGGCCAC &  3 & wt\\_gdna & yeast\\_cyto\\_linkage\\\\\n",
       "\t 3577 &  203 & 1644177 & TGGGATCTTTTCGCGTATTCGGTT & 16 & wt\\_gdna & yeast\\_cyto\\_linkage\\\\\n",
       "\t 3497 & 4868 &  692986 & TCGCTCCGTGTCGTGTCTCCTATG &  4 & wt\\_gdna & yeast\\_cyto\\_linkage\\\\\n",
       "\\end{tabular}\n"
      ],
      "text/markdown": [
       "\n",
       "A tibble: 6 × 7\n",
       "\n",
       "| barcode_count &lt;dbl&gt; | insert_num &lt;dbl&gt; | barcode_num &lt;dbl&gt; | barcode &lt;chr&gt; | linkage_count &lt;dbl&gt; | sample_name &lt;chr&gt; | linkage_ref &lt;chr&gt; |\n",
       "|---|---|---|---|---|---|---|\n",
       "| 4871 |  186 | 1643847 | AGTCGTTGTAGCAACTCGATGTTT | 16 | wt_gdna | yeast_cyto_linkage |\n",
       "| 4653 | 5658 | 1596380 | CTGGATGTCGCGAGCAACAACAGC | 17 | wt_gdna | yeast_cyto_linkage |\n",
       "| 3823 | 5810 |  764917 | TGTATTCGGGCCAGCATGAGGTGC |  4 | wt_gdna | yeast_cyto_linkage |\n",
       "| 3656 | 2787 | 1040412 | AGCGATTAGAGCATTTCTGGCCAC |  3 | wt_gdna | yeast_cyto_linkage |\n",
       "| 3577 |  203 | 1644177 | TGGGATCTTTTCGCGTATTCGGTT | 16 | wt_gdna | yeast_cyto_linkage |\n",
       "| 3497 | 4868 |  692986 | TCGCTCCGTGTCGTGTCTCCTATG |  4 | wt_gdna | yeast_cyto_linkage |\n",
       "\n"
      ],
      "text/plain": [
       "  barcode_count insert_num barcode_num barcode                  linkage_count\n",
       "1 4871           186       1643847     AGTCGTTGTAGCAACTCGATGTTT 16           \n",
       "2 4653          5658       1596380     CTGGATGTCGCGAGCAACAACAGC 17           \n",
       "3 3823          5810        764917     TGTATTCGGGCCAGCATGAGGTGC  4           \n",
       "4 3656          2787       1040412     AGCGATTAGAGCATTTCTGGCCAC  3           \n",
       "5 3577           203       1644177     TGGGATCTTTTCGCGTATTCGGTT 16           \n",
       "6 3497          4868        692986     TCGCTCCGTGTCGTGTCTCCTATG  4           \n",
       "  sample_name linkage_ref       \n",
       "1 wt_gdna     yeast_cyto_linkage\n",
       "2 wt_gdna     yeast_cyto_linkage\n",
       "3 wt_gdna     yeast_cyto_linkage\n",
       "4 wt_gdna     yeast_cyto_linkage\n",
       "5 wt_gdna     yeast_cyto_linkage\n",
       "6 wt_gdna     yeast_cyto_linkage"
      ]
     },
     "metadata": {},
     "output_type": "display_data"
    }
   ],
   "source": [
    "barcode_insert_counts_51 <- barcode_counts_51 %>% \n",
    "  left_join(select(sample_annotations_51, c(sample_id, sample_name)), by = \"sample_name\") %>%\n",
    "  left_join(insert_barcode_linkages, by = c(\"barcode_num\", \"barcode\", \"insert_num\", \"linkage_count\")) %>%\n",
    "  drop_na(barcode_count) %>%\n",
    "  select(-sample_id)\n",
    "\n",
    "head(barcode_insert_counts_51)"
   ]
  },
  {
   "attachments": {},
   "cell_type": "markdown",
   "metadata": {},
   "source": [
    "### Read annotations & barcode counts for Hel2-del no-tx mRNA/gRNA"
   ]
  },
  {
   "cell_type": "code",
   "execution_count": null,
   "metadata": {
    "vscode": {
     "languageId": "r"
    }
   },
   "outputs": [
    {
     "name": "stderr",
     "output_type": "stream",
     "text": [
      "\u001b[1mRows: \u001b[22m\u001b[34m6\u001b[39m \u001b[1mColumns: \u001b[22m\u001b[34m16\u001b[39m\n",
      "\u001b[36m──\u001b[39m \u001b[1mColumn specification\u001b[22m \u001b[36m────────────────────────────────────────────────────────\u001b[39m\n",
      "\u001b[1mDelimiter:\u001b[22m \",\"\n",
      "\u001b[31mchr\u001b[39m (13): owner, sample_type, sample_name, plasmid, library_type, illumina_s...\n",
      "\u001b[32mdbl\u001b[39m  (3): barcode_read, barcode_start, barcode_length\n"
     ]
    },
    {
     "name": "stderr",
     "output_type": "stream",
     "text": [
      "\n",
      "\u001b[36mℹ\u001b[39m Use `spec()` to retrieve the full column specification for this data.\n",
      "\u001b[36mℹ\u001b[39m Specify the column types or set `show_col_types = FALSE` to quiet this message.\n"
     ]
    },
    {
     "data": {
      "text/html": [
       "<table class=\"dataframe\">\n",
       "<caption>A spec_tbl_df: 6 × 16</caption>\n",
       "<thead>\n",
       "\t<tr><th scope=col>owner</th><th scope=col>sample_type</th><th scope=col>sample_name</th><th scope=col>plasmid</th><th scope=col>library_type</th><th scope=col>illumina_sample_id</th><th scope=col>sample_id</th><th scope=col>srr</th><th scope=col>barcode_read</th><th scope=col>barcode_start</th><th scope=col>barcode_length</th><th scope=col>linkage_ref</th><th scope=col>r1_file</th><th scope=col>r2_file</th><th scope=col>r3_file</th><th scope=col>i1_file</th></tr>\n",
       "\t<tr><th scope=col>&lt;chr&gt;</th><th scope=col>&lt;chr&gt;</th><th scope=col>&lt;chr&gt;</th><th scope=col>&lt;chr&gt;</th><th scope=col>&lt;chr&gt;</th><th scope=col>&lt;chr&gt;</th><th scope=col>&lt;chr&gt;</th><th scope=col>&lt;chr&gt;</th><th scope=col>&lt;dbl&gt;</th><th scope=col>&lt;dbl&gt;</th><th scope=col>&lt;dbl&gt;</th><th scope=col>&lt;chr&gt;</th><th scope=col>&lt;chr&gt;</th><th scope=col>&lt;chr&gt;</th><th scope=col>&lt;chr&gt;</th><th scope=col>&lt;chr&gt;</th></tr>\n",
       "</thead>\n",
       "<tbody>\n",
       "\t<tr><td>kc</td><td>dicodon_yeast</td><td>hel2_mrna      </td><td>pHPSC1142</td><td>mrna</td><td>67lib1-2</td><td>67lib1</td><td>SRR24831409</td><td>1</td><td>1</td><td>24</td><td>yeast_cyto_linkage</td><td>kc_67lib1-2_S1_R1_001</td><td>kc_67lib1-2_S1_R2_001</td><td>NA                   </td><td>NA                   </td></tr>\n",
       "\t<tr><td>kc</td><td>dicodon_yeast</td><td>hel2_gdna      </td><td>pHPSC1142</td><td>grna</td><td>67lib3-2</td><td>67lib3</td><td>SRR24831408</td><td>1</td><td>1</td><td>24</td><td>yeast_cyto_linkage</td><td>kc_67lib3-2_S3_R1_001</td><td>kc_67lib3-2_S3_R2_001</td><td>NA                   </td><td>NA                   </td></tr>\n",
       "\t<tr><td>kc</td><td>dicodon_yeast</td><td>hel2_mrna_reseq</td><td>pHPSC1142</td><td>mrna</td><td>67lib1-2</td><td>67lib1</td><td>SRR24725021</td><td>1</td><td>7</td><td>24</td><td>yeast_cyto_linkage</td><td>kc_67lib1_2_S6_R1_001</td><td>kc_67lib1_2_S6_R2_001</td><td>kc_67lib1_2_S6_R3_001</td><td>kc_67lib1_2_S6_I1_001</td></tr>\n",
       "\t<tr><td>kc</td><td>dicodon_yeast</td><td>hel2_gdna_reseq</td><td>pHPSC1142</td><td>grna</td><td>67lib3-2</td><td>67lib3</td><td>SRR24725019</td><td>1</td><td>7</td><td>24</td><td>yeast_cyto_linkage</td><td>kc_67lib3_2_S7_R1_001</td><td>kc_67lib3_2_S7_R2_001</td><td>kc_67lib3_2_S7_R3_001</td><td>kc_67lib3_2_S7_I1_001</td></tr>\n",
       "\t<tr><td>kc</td><td>dicodon_yeast</td><td>syh1_mrna      </td><td>pHPSC1142</td><td>mrna</td><td>67lib2-2</td><td>67lib2</td><td>SRR24725020</td><td>1</td><td>1</td><td>24</td><td>yeast_cyto_linkage</td><td>kc_67lib2-2_S2_R1_001</td><td>kc_67lib2-2_S2_R2_001</td><td>NA                   </td><td>NA                   </td></tr>\n",
       "\t<tr><td>kc</td><td>dicodon_yeast</td><td>syh1_gdna      </td><td>pHPSC1142</td><td>grna</td><td>67lib4-2</td><td>67lib4</td><td>SRR24725018</td><td>1</td><td>1</td><td>24</td><td>yeast_cyto_linkage</td><td>kc_67lib4-2_S4_R1_001</td><td>kc_67lib4-2_S4_R2_001</td><td>NA                   </td><td>NA                   </td></tr>\n",
       "</tbody>\n",
       "</table>\n"
      ],
      "text/latex": [
       "A spec\\_tbl\\_df: 6 × 16\n",
       "\\begin{tabular}{llllllllllllllll}\n",
       " owner & sample\\_type & sample\\_name & plasmid & library\\_type & illumina\\_sample\\_id & sample\\_id & srr & barcode\\_read & barcode\\_start & barcode\\_length & linkage\\_ref & r1\\_file & r2\\_file & r3\\_file & i1\\_file\\\\\n",
       " <chr> & <chr> & <chr> & <chr> & <chr> & <chr> & <chr> & <chr> & <dbl> & <dbl> & <dbl> & <chr> & <chr> & <chr> & <chr> & <chr>\\\\\n",
       "\\hline\n",
       "\t kc & dicodon\\_yeast & hel2\\_mrna       & pHPSC1142 & mrna & 67lib1-2 & 67lib1 & SRR24831409 & 1 & 1 & 24 & yeast\\_cyto\\_linkage & kc\\_67lib1-2\\_S1\\_R1\\_001 & kc\\_67lib1-2\\_S1\\_R2\\_001 & NA                    & NA                   \\\\\n",
       "\t kc & dicodon\\_yeast & hel2\\_gdna       & pHPSC1142 & grna & 67lib3-2 & 67lib3 & SRR24831408 & 1 & 1 & 24 & yeast\\_cyto\\_linkage & kc\\_67lib3-2\\_S3\\_R1\\_001 & kc\\_67lib3-2\\_S3\\_R2\\_001 & NA                    & NA                   \\\\\n",
       "\t kc & dicodon\\_yeast & hel2\\_mrna\\_reseq & pHPSC1142 & mrna & 67lib1-2 & 67lib1 & SRR24725021 & 1 & 7 & 24 & yeast\\_cyto\\_linkage & kc\\_67lib1\\_2\\_S6\\_R1\\_001 & kc\\_67lib1\\_2\\_S6\\_R2\\_001 & kc\\_67lib1\\_2\\_S6\\_R3\\_001 & kc\\_67lib1\\_2\\_S6\\_I1\\_001\\\\\n",
       "\t kc & dicodon\\_yeast & hel2\\_gdna\\_reseq & pHPSC1142 & grna & 67lib3-2 & 67lib3 & SRR24725019 & 1 & 7 & 24 & yeast\\_cyto\\_linkage & kc\\_67lib3\\_2\\_S7\\_R1\\_001 & kc\\_67lib3\\_2\\_S7\\_R2\\_001 & kc\\_67lib3\\_2\\_S7\\_R3\\_001 & kc\\_67lib3\\_2\\_S7\\_I1\\_001\\\\\n",
       "\t kc & dicodon\\_yeast & syh1\\_mrna       & pHPSC1142 & mrna & 67lib2-2 & 67lib2 & SRR24725020 & 1 & 1 & 24 & yeast\\_cyto\\_linkage & kc\\_67lib2-2\\_S2\\_R1\\_001 & kc\\_67lib2-2\\_S2\\_R2\\_001 & NA                    & NA                   \\\\\n",
       "\t kc & dicodon\\_yeast & syh1\\_gdna       & pHPSC1142 & grna & 67lib4-2 & 67lib4 & SRR24725018 & 1 & 1 & 24 & yeast\\_cyto\\_linkage & kc\\_67lib4-2\\_S4\\_R1\\_001 & kc\\_67lib4-2\\_S4\\_R2\\_001 & NA                    & NA                   \\\\\n",
       "\\end{tabular}\n"
      ],
      "text/markdown": [
       "\n",
       "A spec_tbl_df: 6 × 16\n",
       "\n",
       "| owner &lt;chr&gt; | sample_type &lt;chr&gt; | sample_name &lt;chr&gt; | plasmid &lt;chr&gt; | library_type &lt;chr&gt; | illumina_sample_id &lt;chr&gt; | sample_id &lt;chr&gt; | srr &lt;chr&gt; | barcode_read &lt;dbl&gt; | barcode_start &lt;dbl&gt; | barcode_length &lt;dbl&gt; | linkage_ref &lt;chr&gt; | r1_file &lt;chr&gt; | r2_file &lt;chr&gt; | r3_file &lt;chr&gt; | i1_file &lt;chr&gt; |\n",
       "|---|---|---|---|---|---|---|---|---|---|---|---|---|---|---|---|\n",
       "| kc | dicodon_yeast | hel2_mrna       | pHPSC1142 | mrna | 67lib1-2 | 67lib1 | SRR24831409 | 1 | 1 | 24 | yeast_cyto_linkage | kc_67lib1-2_S1_R1_001 | kc_67lib1-2_S1_R2_001 | NA                    | NA                    |\n",
       "| kc | dicodon_yeast | hel2_gdna       | pHPSC1142 | grna | 67lib3-2 | 67lib3 | SRR24831408 | 1 | 1 | 24 | yeast_cyto_linkage | kc_67lib3-2_S3_R1_001 | kc_67lib3-2_S3_R2_001 | NA                    | NA                    |\n",
       "| kc | dicodon_yeast | hel2_mrna_reseq | pHPSC1142 | mrna | 67lib1-2 | 67lib1 | SRR24725021 | 1 | 7 | 24 | yeast_cyto_linkage | kc_67lib1_2_S6_R1_001 | kc_67lib1_2_S6_R2_001 | kc_67lib1_2_S6_R3_001 | kc_67lib1_2_S6_I1_001 |\n",
       "| kc | dicodon_yeast | hel2_gdna_reseq | pHPSC1142 | grna | 67lib3-2 | 67lib3 | SRR24725019 | 1 | 7 | 24 | yeast_cyto_linkage | kc_67lib3_2_S7_R1_001 | kc_67lib3_2_S7_R2_001 | kc_67lib3_2_S7_R3_001 | kc_67lib3_2_S7_I1_001 |\n",
       "| kc | dicodon_yeast | syh1_mrna       | pHPSC1142 | mrna | 67lib2-2 | 67lib2 | SRR24725020 | 1 | 1 | 24 | yeast_cyto_linkage | kc_67lib2-2_S2_R1_001 | kc_67lib2-2_S2_R2_001 | NA                    | NA                    |\n",
       "| kc | dicodon_yeast | syh1_gdna       | pHPSC1142 | grna | 67lib4-2 | 67lib4 | SRR24725018 | 1 | 1 | 24 | yeast_cyto_linkage | kc_67lib4-2_S4_R1_001 | kc_67lib4-2_S4_R2_001 | NA                    | NA                    |\n",
       "\n"
      ],
      "text/plain": [
       "  owner sample_type   sample_name     plasmid   library_type illumina_sample_id\n",
       "1 kc    dicodon_yeast hel2_mrna       pHPSC1142 mrna         67lib1-2          \n",
       "2 kc    dicodon_yeast hel2_gdna       pHPSC1142 grna         67lib3-2          \n",
       "3 kc    dicodon_yeast hel2_mrna_reseq pHPSC1142 mrna         67lib1-2          \n",
       "4 kc    dicodon_yeast hel2_gdna_reseq pHPSC1142 grna         67lib3-2          \n",
       "5 kc    dicodon_yeast syh1_mrna       pHPSC1142 mrna         67lib2-2          \n",
       "6 kc    dicodon_yeast syh1_gdna       pHPSC1142 grna         67lib4-2          \n",
       "  sample_id srr         barcode_read barcode_start barcode_length\n",
       "1 67lib1    SRR24831409 1            1             24            \n",
       "2 67lib3    SRR24831408 1            1             24            \n",
       "3 67lib1    SRR24725021 1            7             24            \n",
       "4 67lib3    SRR24725019 1            7             24            \n",
       "5 67lib2    SRR24725020 1            1             24            \n",
       "6 67lib4    SRR24725018 1            1             24            \n",
       "  linkage_ref        r1_file               r2_file              \n",
       "1 yeast_cyto_linkage kc_67lib1-2_S1_R1_001 kc_67lib1-2_S1_R2_001\n",
       "2 yeast_cyto_linkage kc_67lib3-2_S3_R1_001 kc_67lib3-2_S3_R2_001\n",
       "3 yeast_cyto_linkage kc_67lib1_2_S6_R1_001 kc_67lib1_2_S6_R2_001\n",
       "4 yeast_cyto_linkage kc_67lib3_2_S7_R1_001 kc_67lib3_2_S7_R2_001\n",
       "5 yeast_cyto_linkage kc_67lib2-2_S2_R1_001 kc_67lib2-2_S2_R2_001\n",
       "6 yeast_cyto_linkage kc_67lib4-2_S4_R1_001 kc_67lib4-2_S4_R2_001\n",
       "  r3_file               i1_file              \n",
       "1 NA                    NA                   \n",
       "2 NA                    NA                   \n",
       "3 kc_67lib1_2_S6_R3_001 kc_67lib1_2_S6_I1_001\n",
       "4 kc_67lib3_2_S7_R3_001 kc_67lib3_2_S7_I1_001\n",
       "5 NA                    NA                   \n",
       "6 NA                    NA                   "
      ]
     },
     "metadata": {},
     "output_type": "display_data"
    }
   ],
   "source": [
    "sample_annotations_67 = read_csv(\"../../hel2_syh1_mrna_grna/annotations/sample_annotations.csv\", comment='#')\n",
    "sample_annotations_67"
   ]
  },
  {
   "cell_type": "code",
   "execution_count": null,
   "metadata": {
    "vscode": {
     "languageId": "r"
    }
   },
   "outputs": [
    {
     "name": "stderr",
     "output_type": "stream",
     "text": [
      "\u001b[1mRows: \u001b[22m\u001b[34m99948\u001b[39m \u001b[1mColumns: \u001b[22m\u001b[34m5\u001b[39m\n",
      "\u001b[36m──\u001b[39m \u001b[1mColumn specification\u001b[22m \u001b[36m────────────────────────────────────────────────────────\u001b[39m\n",
      "\u001b[1mDelimiter:\u001b[22m \",\"\n",
      "\u001b[31mchr\u001b[39m (4): barcode_count, insert_num, barcode, linkage_count\n",
      "\u001b[32mdbl\u001b[39m (1): barcode_num\n",
      "\n",
      "\u001b[36mℹ\u001b[39m Use `spec()` to retrieve the full column specification for this data.\n",
      "\u001b[36mℹ\u001b[39m Specify the column types or set `show_col_types = FALSE` to quiet this message.\n",
      "\u001b[1mRows: \u001b[22m\u001b[34m163535\u001b[39m \u001b[1mColumns: \u001b[22m\u001b[34m5\u001b[39m\n",
      "\u001b[36m──\u001b[39m \u001b[1mColumn specification\u001b[22m \u001b[36m────────────────────────────────────────────────────────\u001b[39m\n",
      "\u001b[1mDelimiter:\u001b[22m \",\"\n",
      "\u001b[31mchr\u001b[39m (4): barcode_count, insert_num, barcode, linkage_count\n",
      "\u001b[32mdbl\u001b[39m (1): barcode_num\n",
      "\n",
      "\u001b[36mℹ\u001b[39m Use `spec()` to retrieve the full column specification for this data.\n",
      "\u001b[36mℹ\u001b[39m Specify the column types or set `show_col_types = FALSE` to quiet this message.\n",
      "\u001b[1mRows: \u001b[22m\u001b[34m110997\u001b[39m \u001b[1mColumns: \u001b[22m\u001b[34m5\u001b[39m\n",
      "\u001b[36m──\u001b[39m \u001b[1mColumn specification\u001b[22m \u001b[36m────────────────────────────────────────────────────────\u001b[39m\n",
      "\u001b[1mDelimiter:\u001b[22m \",\"\n",
      "\u001b[31mchr\u001b[39m (4): barcode_count, insert_num, barcode, linkage_count\n",
      "\u001b[32mdbl\u001b[39m (1): barcode_num\n",
      "\n",
      "\u001b[36mℹ\u001b[39m Use `spec()` to retrieve the full column specification for this data.\n",
      "\u001b[36mℹ\u001b[39m Specify the column types or set `show_col_types = FALSE` to quiet this message.\n",
      "\u001b[1mRows: \u001b[22m\u001b[34m154870\u001b[39m \u001b[1mColumns: \u001b[22m\u001b[34m5\u001b[39m\n",
      "\u001b[36m──\u001b[39m \u001b[1mColumn specification\u001b[22m \u001b[36m────────────────────────────────────────────────────────\u001b[39m\n",
      "\u001b[1mDelimiter:\u001b[22m \",\"\n",
      "\u001b[31mchr\u001b[39m (4): barcode_count, insert_num, barcode, linkage_count\n",
      "\u001b[32mdbl\u001b[39m (1): barcode_num\n",
      "\n",
      "\u001b[36mℹ\u001b[39m Use `spec()` to retrieve the full column specification for this data.\n",
      "\u001b[36mℹ\u001b[39m Specify the column types or set `show_col_types = FALSE` to quiet this message.\n",
      "\u001b[1mRows: \u001b[22m\u001b[34m169432\u001b[39m \u001b[1mColumns: \u001b[22m\u001b[34m5\u001b[39m\n",
      "\u001b[36m──\u001b[39m \u001b[1mColumn specification\u001b[22m \u001b[36m────────────────────────────────────────────────────────\u001b[39m\n",
      "\u001b[1mDelimiter:\u001b[22m \",\"\n",
      "\u001b[31mchr\u001b[39m (4): barcode_count, insert_num, barcode, linkage_count\n",
      "\u001b[32mdbl\u001b[39m (1): barcode_num\n",
      "\n",
      "\u001b[36mℹ\u001b[39m Use `spec()` to retrieve the full column specification for this data.\n",
      "\u001b[36mℹ\u001b[39m Specify the column types or set `show_col_types = FALSE` to quiet this message.\n",
      "\u001b[1mRows: \u001b[22m\u001b[34m181686\u001b[39m \u001b[1mColumns: \u001b[22m\u001b[34m5\u001b[39m\n",
      "\u001b[36m──\u001b[39m \u001b[1mColumn specification\u001b[22m \u001b[36m────────────────────────────────────────────────────────\u001b[39m\n",
      "\u001b[1mDelimiter:\u001b[22m \",\"\n",
      "\u001b[31mchr\u001b[39m (4): barcode_count, insert_num, barcode, linkage_count\n",
      "\u001b[32mdbl\u001b[39m (1): barcode_num\n",
      "\n",
      "\u001b[36mℹ\u001b[39m Use `spec()` to retrieve the full column specification for this data.\n",
      "\u001b[36mℹ\u001b[39m Specify the column types or set `show_col_types = FALSE` to quiet this message.\n",
      "Warning message:\n",
      "“`cols` is now required when using unnest().\n",
      "Please use `cols = c(counts)`”\n",
      "Warning message in mask$eval_all_mutate(quo):\n",
      "“NAs introduced by coercion”\n",
      "Warning message in mask$eval_all_mutate(quo):\n",
      "“NAs introduced by coercion”\n"
     ]
    }
   ],
   "source": [
    "barcode_counts_67 <- list.files(\"../../hel2_syh1_mrna_grna/data/linked_barcode_counts/\", pattern = \".csv$\", full.names = T) %>% \n",
    "  enframe(\"sno\", \"file\") %>% \n",
    "  mutate(counts = map(file, read_csv)) %>% \n",
    "  mutate(sample_name = str_extract(file, \"[^/]+(?=.csv)\")) %>% \n",
    "  select(-sno, -file) %>% \n",
    "  unnest() %>% \n",
    "  mutate(insert_num = as.numeric(str_extract(insert_num, \"[:digit:]+\"))) %>%\n",
    "  mutate(barcode_count = as.numeric(barcode_count)) %>%\n",
    "  mutate(linkage_count = as.numeric(linkage_count)) %>%\n",
    "  mutate(genotype = str_extract(sample_name, '[^_]+')) %>%\n",
    "  mutate(library_type = str_extract(sample_name, '(?<=_).+')) %>%\n",
    "  mutate(library_type = ifelse(str_detect(library_type, 'reseq'), str_extract(sample_name, '(?<=_).+(?=_)'), library_type)) %>%\n",
    "  select(genotype, library_type, barcode_num, insert_num, barcode_count) %>%\n",
    "  group_by(genotype, library_type, barcode_num, insert_num) %>% # combine resequenced counts together\n",
    "  summarize(barcode_count = sum(barcode_count), .groups='drop')"
   ]
  },
  {
   "attachments": {},
   "cell_type": "markdown",
   "metadata": {},
   "source": [
    "### Plot WT frame effects"
   ]
  },
  {
   "cell_type": "code",
   "execution_count": null,
   "metadata": {
    "vscode": {
     "languageId": "r"
    }
   },
   "outputs": [],
   "source": [
    "insert_reads_cutoff <- 500\n",
    "n_barcodes_cutoff <- 4\n",
    "barcode_reads_cutoff <- 10\n",
    "AMINO_ACID_CODE[\"*\"] = \"*\"\n",
    "\n",
    "dicodon_lfc_51 <- barcode_insert_counts_51 %>% \n",
    "  filter(barcode_count >= barcode_reads_cutoff) %>%\n",
    "  group_by(insert_num, sample_name) %>%\n",
    "  summarize(count = sum(barcode_count), n_barcodes = dplyr::n(), .groups='drop') %>%\n",
    "  ungroup() %>% \n",
    "  inner_join(insert_annotations, by = \"insert_num\") %>%\n",
    "  group_by(dicodon, diaa, aa1, aa2, sample_name) %>%\n",
    "  summarize(count = sum(count), n_barcodes = sum(n_barcodes), .groups='drop') %>%\n",
    "  ungroup() %>%\n",
    "  pivot_wider(names_from = sample_name, values_from = c(\"count\", \"n_barcodes\")) %>%\n",
    "  filter((count_wt_gdna >= insert_reads_cutoff) & (count_wt_mrna >= insert_reads_cutoff)) %>%\n",
    "  filter((n_barcodes_wt_gdna >= n_barcodes_cutoff) & (n_barcodes_wt_mrna >= n_barcodes_cutoff)) %>%\n",
    "  mutate(lfc = log2(count_wt_mrna) - log2(count_wt_gdna)) %>%\n",
    "  drop_na(lfc) %>%\n",
    "  mutate(lfc = lfc - median(lfc)) %>%\n",
    "  arrange(lfc)"
   ]
  },
  {
   "cell_type": "code",
   "execution_count": null,
   "metadata": {
    "vscode": {
     "languageId": "r"
    }
   },
   "outputs": [],
   "source": [
    "diaa_allframe_lfc_51 <- dicodon_lfc_51 %>% \n",
    "  crossing(frame = c(\"frame\" = seq(0,5))) %>%\n",
    "  select(-lfc, -diaa, -aa1, -aa2) %>%\n",
    "  mutate(dicodon = substr(paste0(dicodon, dicodon), frame + 1, 6 + frame)) %>%\n",
    "  mutate(diaa = as.character(translate(DNAStringSet(dicodon), no.init.codon = T))) %>%\n",
    "  select(-dicodon) %>%\n",
    "  group_by(diaa, frame) %>%\n",
    "  summarize_all(sum) %>%\n",
    "  ungroup() %>%\n",
    "  mutate(lfc = log2(count_wt_mrna / count_wt_gdna)) %>%\n",
    "  mutate(lfc_2 = lfc - median(lfc)) %>%\n",
    "  select(diaa, frame, lfc, lfc_2) %>%\n",
    "  complete(diaa, frame)"
   ]
  },
  {
   "cell_type": "code",
   "execution_count": null,
   "metadata": {
    "vscode": {
     "languageId": "r"
    }
   },
   "outputs": [
    {
     "name": "stderr",
     "output_type": "stream",
     "text": [
      "Warning message:\n",
      "“unnest() has a new interface. See ?unnest for details.\n",
      "Try `df %>% unnest(c(fit, n))`, with `mutate()` if needed”\n"
     ]
    },
    {
     "data": {
      "image/png": "[encoded data removed]",
      "text/plain": [
       "plot without title"
      ]
     },
     "metadata": {
      "image/png": {
       "height": 180,
       "width": 600
      }
     },
     "output_type": "display_data"
    }
   ],
   "source": [
    "options(repr.plot.width = 10, repr.plot.height = 3)\n",
    "\n",
    "plot_data <- diaa_allframe_lfc_51 %>% \n",
    "  group_by(diaa) %>% \n",
    "  mutate(frame0_lfc = lfc_2[frame == 0]) %>% \n",
    "  ungroup() %>% \n",
    "  filter(length(frame0_lfc) != 0) %>%\n",
    "  filter(frame %in% c(1,2,3)) %>% \n",
    "  mutate(frame = paste0(\"+\", frame)) %>% \n",
    "  filter(!str_detect(diaa, \"\\\\*\")) %>% \n",
    "  mutate(aa1 = substr(diaa, 1, 1), aa2 = substr(diaa, 2, 2)) %>%\n",
    "  drop_na()\n",
    "\n",
    "label_data <- plot_data %>% \n",
    "  group_by(frame) %>% \n",
    "  nest() %>% \n",
    "  mutate(n = map_int(data, nrow), fit = map(data, function(df) cor.test(~frame0_lfc + lfc_2, data = df))) %>% \n",
    "  mutate(fit = map(fit, broom::tidy)) %>% \n",
    "  unnest(fit, n) %>% \n",
    "  select(-data) %>%\n",
    "  mutate(estimate = paste0(\"r = \", format(round(estimate, digits=2), nsmall = 2) ))\n",
    "\n",
    "plot_data %>% \n",
    "  ggplot(aes(x = lfc_2, y = frame0_lfc)) +\n",
    "  facet_wrap(~ frame, ncol = 5, labeller = as_labeller(. %>% paste(\"frame\", .))) +\n",
    "  geom_point(size = 0.2) +\n",
    "  geom_text(aes(label = estimate), x = 1.25, y = -2.7, data = label_data, size=7/.pt) +\n",
    "  theme + \n",
    "  theme(strip.background = element_blank(),\n",
    "        strip.text.x = element_text(size = 8)) + \n",
    "  labs(x = \"mRNA level (log2, arb. units)\", y = \"mRNA level\\nframe 0 (log2, arb. units)\")\n",
    "\n",
    "ggsave(\"../figures/wt_frame_effects_rm_missing.pdf\", width=3.5, height=1.6)"
   ]
  },
  {
   "cell_type": "code",
   "execution_count": null,
   "metadata": {
    "vscode": {
     "languageId": "r"
    }
   },
   "outputs": [
    {
     "data": {
      "text/html": [
       "320"
      ],
      "text/latex": [
       "320"
      ],
      "text/markdown": [
       "320"
      ],
      "text/plain": [
       "[1] 320"
      ]
     },
     "metadata": {},
     "output_type": "display_data"
    }
   ],
   "source": [
    "plot_data %>%\n",
    "    group_by(diaa) %>%\n",
    "    summarize(n()) %>%\n",
    "    nrow()"
   ]
  },
  {
   "attachments": {},
   "cell_type": "markdown",
   "metadata": {},
   "source": [
    "## Plot glucose deprivation data"
   ]
  },
  {
   "attachments": {},
   "cell_type": "markdown",
   "metadata": {},
   "source": [
    "### Read sample annotations for glucose deprivation experiment"
   ]
  },
  {
   "cell_type": "code",
   "execution_count": null,
   "metadata": {
    "vscode": {
     "languageId": "r"
    }
   },
   "outputs": [
    {
     "data": {
      "text/html": [
       "<table class=\"dataframe\">\n",
       "<caption>A tibble: 4 × 5</caption>\n",
       "<thead>\n",
       "\t<tr><th scope=col>sample_name</th><th scope=col>library_type</th><th scope=col>sample_id</th><th scope=col>genotype</th><th scope=col>treatment</th></tr>\n",
       "\t<tr><th scope=col>&lt;chr&gt;</th><th scope=col>&lt;chr&gt;</th><th scope=col>&lt;chr&gt;</th><th scope=col>&lt;chr&gt;</th><th scope=col>&lt;chr&gt;</th></tr>\n",
       "</thead>\n",
       "<tbody>\n",
       "\t<tr><td>hel2_8xdicodon_noglucose_rna</td><td>mrna</td><td>78lib6</td><td>hel2</td><td>noglucose</td></tr>\n",
       "\t<tr><td>wt_8xdicodon_noglucose_rna  </td><td>mrna</td><td>78lib7</td><td>wt  </td><td>noglucose</td></tr>\n",
       "\t<tr><td>wt_8xdicodon_notx_grna      </td><td>grna</td><td>78lib8</td><td>wt  </td><td>notx     </td></tr>\n",
       "\t<tr><td>hel2_8xdicodon_notx_grna    </td><td>grna</td><td>78lib9</td><td>hel2</td><td>notx     </td></tr>\n",
       "</tbody>\n",
       "</table>\n"
      ],
      "text/latex": [
       "A tibble: 4 × 5\n",
       "\\begin{tabular}{lllll}\n",
       " sample\\_name & library\\_type & sample\\_id & genotype & treatment\\\\\n",
       " <chr> & <chr> & <chr> & <chr> & <chr>\\\\\n",
       "\\hline\n",
       "\t hel2\\_8xdicodon\\_noglucose\\_rna & mrna & 78lib6 & hel2 & noglucose\\\\\n",
       "\t wt\\_8xdicodon\\_noglucose\\_rna   & mrna & 78lib7 & wt   & noglucose\\\\\n",
       "\t wt\\_8xdicodon\\_notx\\_grna       & grna & 78lib8 & wt   & notx     \\\\\n",
       "\t hel2\\_8xdicodon\\_notx\\_grna     & grna & 78lib9 & hel2 & notx     \\\\\n",
       "\\end{tabular}\n"
      ],
      "text/markdown": [
       "\n",
       "A tibble: 4 × 5\n",
       "\n",
       "| sample_name &lt;chr&gt; | library_type &lt;chr&gt; | sample_id &lt;chr&gt; | genotype &lt;chr&gt; | treatment &lt;chr&gt; |\n",
       "|---|---|---|---|---|\n",
       "| hel2_8xdicodon_noglucose_rna | mrna | 78lib6 | hel2 | noglucose |\n",
       "| wt_8xdicodon_noglucose_rna   | mrna | 78lib7 | wt   | noglucose |\n",
       "| wt_8xdicodon_notx_grna       | grna | 78lib8 | wt   | notx      |\n",
       "| hel2_8xdicodon_notx_grna     | grna | 78lib9 | hel2 | notx      |\n",
       "\n"
      ],
      "text/plain": [
       "  sample_name                  library_type sample_id genotype treatment\n",
       "1 hel2_8xdicodon_noglucose_rna mrna         78lib6    hel2     noglucose\n",
       "2 wt_8xdicodon_noglucose_rna   mrna         78lib7    wt       noglucose\n",
       "3 wt_8xdicodon_notx_grna       grna         78lib8    wt       notx     \n",
       "4 hel2_8xdicodon_notx_grna     grna         78lib9    hel2     notx     "
      ]
     },
     "metadata": {},
     "output_type": "display_data"
    }
   ],
   "source": [
    "sample_annotations <- read_csv(\"../annotations/sample_annotations.csv\", comment='#', show_col_types = F) %>%\n",
    "    select(sample_name, library_type, sample_id) %>%\n",
    "    mutate(genotype = str_extract(sample_name, \"^wt|hel2\")) %>%\n",
    "    mutate(treatment = str_extract(sample_name, \"(?<=8xdicodon_).+(?=_g?rna)\"))\n",
    "\n",
    "sample_annotations"
   ]
  },
  {
   "attachments": {},
   "cell_type": "markdown",
   "metadata": {},
   "source": [
    "### Load barcode-UMI counts & get insert-UMI counts"
   ]
  },
  {
   "cell_type": "code",
   "execution_count": null,
   "metadata": {
    "vscode": {
     "languageId": "r"
    }
   },
   "outputs": [],
   "source": [
    "counts <- list.files(\"../data/linked_barcode_umi_counts\", full.names = T, pattern = \".csv$\") %>%\n",
    "  as_tibble_col(\"file\") %>%\n",
    "  mutate(sample_name = str_extract(file, \"[^/]+(?=.csv)\")) %>%\n",
    "  mutate(data = map(file, . %>% read_csv(show_col_types = F))) %>%\n",
    "  select(-file) %>%\n",
    "  unnest(data)"
   ]
  },
  {
   "cell_type": "code",
   "execution_count": null,
   "metadata": {
    "vscode": {
     "languageId": "r"
    }
   },
   "outputs": [],
   "source": [
    "barcode_umi_counts <- counts %>%\n",
    "  left_join(insert_barcode_linkages, by='barcode_num') %>%\n",
    "  left_join(insert_annotations, by='insert_num') %>%\n",
    "  drop_na(insert_num) %>%\n",
    "  left_join(sample_annotations, by =c('sample_name'))"
   ]
  },
  {
   "attachments": {},
   "cell_type": "markdown",
   "metadata": {},
   "source": [
    "### Normalize no-gluc mRNA counts to no-tx gRNA counts"
   ]
  },
  {
   "cell_type": "code",
   "execution_count": null,
   "metadata": {
    "vscode": {
     "languageId": "r"
    }
   },
   "outputs": [],
   "source": [
    "barcode_reads_cutoff <- 10\n",
    "n_barcodes_cutoff <- 4\n",
    "\n",
    "wt_e51 <- barcode_insert_counts_51 %>% # apply minor cutoffs as in exp51 analysis\n",
    "    filter(barcode_count >= barcode_reads_cutoff) %>%\n",
    "    mutate(genotype = str_extract(sample_name, '[^_]+')) %>%\n",
    "    mutate(library_type = str_extract(sample_name, '(?<=_).+')) %>%\n",
    "    filter(genotype == 'wt') %>%\n",
    "    group_by(genotype, library_type, insert_num) %>%\n",
    "    mutate(n_barcodes = n()) %>%\n",
    "    filter(n_barcodes >= n_barcodes_cutoff) %>% # filter out inserts that don't reach barcode rep cutoff while maintaining data as individual barcodes\n",
    "    ungroup() %>%\n",
    "    select(genotype, library_type, barcode_num, insert_num, barcode_count) %>%\n",
    "    pivot_wider(names_from=c(library_type), values_from=barcode_count) %>%\n",
    "    drop_na() %>%\n",
    "    inner_join(insert_annotations, by='insert_num')"
   ]
  },
  {
   "cell_type": "code",
   "execution_count": null,
   "metadata": {
    "vscode": {
     "languageId": "r"
    }
   },
   "outputs": [],
   "source": [
    "hel2_e67 <- barcode_counts_67 %>%\n",
    "    filter(barcode_count >= barcode_reads_cutoff) %>%\n",
    "    filter(genotype == 'hel2') %>%\n",
    "    group_by(genotype, library_type, insert_num) %>%\n",
    "    mutate(n_barcodes = n()) %>%\n",
    "    filter(n_barcodes >= n_barcodes_cutoff) %>% # filter out inserts that don't reach barcode rep cutoff while maintaining data as individual barcodes\n",
    "    ungroup() %>%\n",
    "    select(genotype, library_type, barcode_num, insert_num, barcode_count) %>%\n",
    "    pivot_wider(names_from=c(library_type), values_from=barcode_count) %>%\n",
    "    drop_na() %>%\n",
    "    inner_join(insert_annotations, by='insert_num')"
   ]
  },
  {
   "cell_type": "code",
   "execution_count": null,
   "metadata": {
    "vscode": {
     "languageId": "r"
    }
   },
   "outputs": [],
   "source": [
    "grna_nogluc <- barcode_umi_counts %>%\n",
    "    filter(umi_count >= umi_count_cutoff) %>%\n",
    "    filter(library_type == 'grna') %>%\n",
    "    mutate(treatment = 'noglucose') %>% # this grna was actually no-tx, but label it this way to make normalizing easier\n",
    "    select(genotype, treatment, library_type, barcode_num, insert_num, umi_count)\n",
    "\n",
    "wt_hel2_e78 <- barcode_umi_counts %>%\n",
    "    filter(umi_count >= umi_count_cutoff) %>%\n",
    "    select(genotype, treatment, library_type, barcode_num, insert_num, umi_count) %>%\n",
    "    bind_rows(grna_nogluc) %>%\n",
    "    pivot_wider(names_from=c(library_type), values_from=umi_count) %>%\n",
    "    drop_na() %>%\n",
    "    inner_join(insert_annotations, by='insert_num')"
   ]
  },
  {
   "attachments": {},
   "cell_type": "markdown",
   "metadata": {},
   "source": [
    "### Bootstrap the aggregate effects using individual barcodes, compare with exp51 (WT no-tx)\n",
    "- Treat each barcode as an individual value to get error bars"
   ]
  },
  {
   "cell_type": "code",
   "execution_count": null,
   "metadata": {
    "vscode": {
     "languageId": "r"
    }
   },
   "outputs": [],
   "source": [
    "codons <- insert_annotations %>%\n",
    "    dplyr::pull(codon1) %>%\n",
    "    unique()"
   ]
  },
  {
   "cell_type": "code",
   "execution_count": null,
   "metadata": {
    "vscode": {
     "languageId": "r"
    }
   },
   "outputs": [],
   "source": [
    "barcode_insert_counts_pivot_51 <- barcode_insert_counts_51 %>%   \n",
    "  filter(barcode_count >= barcode_reads_cutoff) %>%\n",
    "  pivot_wider(names_from = sample_name, values_from = barcode_count) %>% \n",
    "  drop_na() %>% \n",
    "  inner_join(insert_annotations, by = \"insert_num\")"
   ]
  },
  {
   "cell_type": "code",
   "execution_count": null,
   "metadata": {
    "vscode": {
     "languageId": "r"
    }
   },
   "outputs": [],
   "source": [
    "grouped_barc_counts_51 <- tibble()\n",
    "for (codon in codons) {\n",
    "    barc_per_grp <- barcode_insert_counts_pivot_51 %>%\n",
    "        filter((codon1 == codon) | (codon2 == codon)) %>%\n",
    "        mutate(group = codon)\n",
    "    \n",
    "    grouped_barc_counts_51 <- grouped_barc_counts_51 %>% bind_rows(barc_per_grp)\n",
    "}"
   ]
  },
  {
   "cell_type": "code",
   "execution_count": null,
   "metadata": {
    "vscode": {
     "languageId": "r"
    }
   },
   "outputs": [],
   "source": [
    "calc_lfc_bootstrap <- function(data, indices) {\n",
    "  d <- data[indices,]\n",
    "  log2(sum(d$wt_mrna)) - log2(sum(d$wt_gdna))\n",
    "}\n",
    "\n",
    "codon_lfc_51 <- grouped_barc_counts_51 %>%\n",
    "    group_by(group) %>%\n",
    "    nest() %>%\n",
    "    mutate(lfc_boot = map(data, function(df) boot::boot(data=df, statistic=calc_lfc_bootstrap, R=100)$t)) %>%\n",
    "    select(-data) %>%\n",
    "    mutate(lfc = map_dbl(lfc_boot, mean)) %>%\n",
    "    mutate(lfc_sd = map_dbl(lfc_boot, sd)) %>%\n",
    "    select(-lfc_boot) %>%\n",
    "    ungroup() %>%\n",
    "    mutate(lfc_2 = lfc - median(lfc)) %>%\n",
    "    mutate(treatment = \"No Treatment\") %>%\n",
    "    mutate(genotype = 'wild-type')\n"
   ]
  },
  {
   "cell_type": "code",
   "execution_count": null,
   "metadata": {
    "vscode": {
     "languageId": "r"
    }
   },
   "outputs": [],
   "source": [
    "grouped_barc_counts_78 <- tibble()\n",
    "for (codon in codons) {\n",
    "    barc_per_grp <- wt_hel2_e78 %>% \n",
    "        filter(genotype == 'wt') %>%\n",
    "        filter((codon1 == codon) | (codon2 == codon)) %>%\n",
    "        mutate(group = codon)\n",
    "    \n",
    "    grouped_barc_counts_78 <- grouped_barc_counts_78 %>% bind_rows(barc_per_grp)\n",
    "}"
   ]
  },
  {
   "cell_type": "code",
   "execution_count": null,
   "metadata": {
    "vscode": {
     "languageId": "r"
    }
   },
   "outputs": [],
   "source": [
    "calc_lfc_bootstrap <- function(data, indices) {\n",
    "  d <- data[indices,]\n",
    "  log2(sum(d$mrna)) - log2(sum(d$grna)) }\n",
    "\n",
    "codon_lfc_78 <- grouped_barc_counts_78 %>% \n",
    "  group_by(group) %>%\n",
    "  nest() %>%\n",
    "  mutate(lfc_boot = map(data, function(df) boot::boot(data=df, statistic=calc_lfc_bootstrap, R=100)$t)) %>%\n",
    "  select(-data) %>%\n",
    "  mutate(lfc = map_dbl(lfc_boot, mean)) %>%\n",
    "  mutate(lfc_sd = map_dbl(lfc_boot, sd)) %>%\n",
    "  select(-lfc_boot) %>%\n",
    "  ungroup() %>%\n",
    "  mutate(lfc_2 = lfc - median(lfc)) %>%\n",
    "  mutate(treatment = \"Glucose Deprivation\") %>%\n",
    "  mutate(genotype = 'wild-type')"
   ]
  },
  {
   "cell_type": "code",
   "execution_count": null,
   "metadata": {
    "vscode": {
     "languageId": "r"
    }
   },
   "outputs": [
    {
     "data": {
      "image/png": "[encoded data removed]",
      "text/plain": [
       "plot without title"
      ]
     },
     "metadata": {
      "image/png": {
       "height": 480,
       "width": 300
      }
     },
     "output_type": "display_data"
    }
   ],
   "source": [
    "options(repr.plot.width = 5, repr.plot.height = 8)\n",
    "\n",
    "aa_order <- c('Arg', 'Stop', 'Trp', 'Lys', 'Gly', 'Cys', 'Val', 'Glu', 'Gln', 'Asp', 'Ser', 'Met', 'Ala', 'Leu', 'Ile', 'Asn', 'Tyr', 'His', 'Thr', 'Phe', 'Pro')\n",
    "AMINO_ACID_CODE[\"*\"] = \"Stop\"\n",
    "\n",
    "dicodon_plot_data <- bind_rows(codon_lfc_51, codon_lfc_78) %>%\n",
    "  mutate(aa = AMINO_ACID_CODE[GENETIC_CODE[as.character(group)]]) %>%\n",
    "  mutate(codon = str_c(group, ',', AMINO_ACID_CODE[GENETIC_CODE[as.character(group)]])) %>%\n",
    "  arrange(factor(aa, levels = aa_order), lfc_2) %>%\n",
    "  mutate(order_grp = 1:dplyr::n()) %>% \n",
    "  mutate(codon2 = fct_reorder(codon, -order_grp))\n",
    "  \n",
    "dicodon_plot_data %>%\n",
    "  mutate(treatment = ifelse(treatment == 'No Treatment', 'No\\nTreatment', 'Glucose\\nDeprivation')) %>%\n",
    "  filter(genotype == 'wild-type') %>%\n",
    "  ggplot(aes(x = lfc_2, y = codon2,\n",
    "             xmin = lfc_2 - lfc_sd, xmax = lfc_2 + lfc_sd,\n",
    "             color=treatment\n",
    "             )) +\n",
    "  geom_errorbar(width=0.3) +\n",
    "  geom_point(size=0.8) +\n",
    "  scale_color_manual(values=c('No\\nTreatment'='black', \n",
    "                              'Glucose\\nDeprivation'='#009e73')) +\n",
    "  scale_y_discrete(guide = guide_axis_nested(delim = \",\")) +\n",
    "  theme +\n",
    "  theme(legend.position = \"top\",\n",
    "        legend.justification='left',\n",
    "        legend.margin=margin(0,0,0,0),\n",
    "        legend.box.margin=margin(-10,-10,-10,-10),\n",
    "        panel.grid.major.y = element_line(color='grey', linewidth=0.2),\n",
    "        axis.line.x = element_blank(),\n",
    "        axis.line.y = element_blank(),\n",
    "        axis.ticks.y = element_blank(),\n",
    "        axis.text.y = element_text(size=7),\n",
    "        ggh4x.axis.nestline = element_line(linewidth = 0.2),\n",
    "        ggh4x.axis.nesttext.y = element_text(size=8),\n",
    "        # strip.placement = \"outside\",\n",
    "        # panel.spacing = unit(0.06, \"lines\"),\n",
    "        # strip.background = element_rect(size = 0.1),\n",
    "        # strip.text.y.left=element_text(angle=0)\n",
    "        ) +\n",
    "  labs(x = \"Average mRNA level\\n(log2, arb. units)\", y = \"\",\n",
    "       color='')\n",
    "\n",
    "ggsave(\"../figures/fig3_bootstrapped_codon_effects_avg.pdf\", width=2.6, height=7.5)"
   ]
  },
  {
   "attachments": {},
   "cell_type": "markdown",
   "metadata": {},
   "source": [
    "## Bootstrap by dipeptide"
   ]
  },
  {
   "cell_type": "code",
   "execution_count": null,
   "metadata": {
    "vscode": {
     "languageId": "r"
    }
   },
   "outputs": [],
   "source": [
    "calc_lfc_bootstrap <- function(data, indices) {\n",
    "  d <- data[indices,]\n",
    "  log2(sum(d$mrna)) - log2(sum(d$gdna)) }\n",
    "\n",
    "wt_diaa_lfc <- wt_e51 %>% \n",
    "  group_by(diaa) %>%\n",
    "  nest() %>%\n",
    "  mutate(lfc_boot = map(data, function(df) boot::boot(data=df, statistic=calc_lfc_bootstrap, R=100)$t)) %>%\n",
    "  select(-data) %>%\n",
    "  mutate(lfc = map_dbl(lfc_boot, mean)) %>%\n",
    "  mutate(lfc_sd = map_dbl(lfc_boot, sd)) %>%\n",
    "  select(-lfc_boot) %>%\n",
    "  ungroup() %>%\n",
    "  mutate(lfc_2 = lfc - median(lfc)) %>%\n",
    "  mutate(treatment = \"No Treatment\") %>%\n",
    "  mutate(genotype = 'WT')\n",
    "\n",
    "hel2_diaa_lfc <- hel2_e67 %>% \n",
    "  group_by(diaa) %>%\n",
    "  nest() %>%\n",
    "  mutate(lfc_boot = map(data, function(df) boot::boot(data=df, statistic=calc_lfc_bootstrap, R=100)$t)) %>%\n",
    "  select(-data) %>%\n",
    "  mutate(lfc = map_dbl(lfc_boot, mean)) %>%\n",
    "  mutate(lfc_sd = map_dbl(lfc_boot, sd)) %>%\n",
    "  select(-lfc_boot) %>%\n",
    "  ungroup() %>%\n",
    "  mutate(lfc_2 = lfc - median(lfc)) %>%\n",
    "  mutate(treatment = \"No Treatment\") %>%\n",
    "  mutate(genotype = 'Hel2-del')"
   ]
  },
  {
   "cell_type": "code",
   "execution_count": null,
   "metadata": {
    "vscode": {
     "languageId": "r"
    }
   },
   "outputs": [],
   "source": [
    "calc_lfc_bootstrap <- function(data, indices) {\n",
    "  d <- data[indices,]\n",
    "  log2(sum(d$mrna)) - log2(sum(d$grna)) }\n",
    "\n",
    "wt_nogluc_diaa_lfc <- wt_hel2_e78 %>% \n",
    "  filter(genotype == 'wt') %>%\n",
    "  group_by(diaa) %>%\n",
    "  nest() %>%\n",
    "  mutate(lfc_boot = map(data, function(df) boot::boot(data=df, statistic=calc_lfc_bootstrap, R=100)$t)) %>%\n",
    "  select(-data) %>%\n",
    "  mutate(lfc = map_dbl(lfc_boot, mean)) %>%\n",
    "  mutate(lfc_sd = map_dbl(lfc_boot, sd)) %>%\n",
    "  select(-lfc_boot) %>%\n",
    "  ungroup() %>%\n",
    "  mutate(lfc_2 = lfc - median(lfc)) %>%\n",
    "  mutate(treatment = \"Glucose Deprivation\") %>%\n",
    "  mutate(genotype = 'WT')\n",
    "\n",
    "hel2_nogluc_diaa_lfc <- wt_hel2_e78 %>% \n",
    "  filter(genotype == 'hel2') %>%\n",
    "  group_by(diaa) %>%\n",
    "  nest() %>%\n",
    "  mutate(lfc_boot = map(data, function(df) boot::boot(data=df, statistic=calc_lfc_bootstrap, R=100)$t)) %>%\n",
    "  select(-data) %>%\n",
    "  mutate(lfc = map_dbl(lfc_boot, mean)) %>%\n",
    "  mutate(lfc_sd = map_dbl(lfc_boot, sd)) %>%\n",
    "  select(-lfc_boot) %>%\n",
    "  ungroup() %>%\n",
    "  mutate(lfc_2 = lfc - median(lfc)) %>%\n",
    "  mutate(treatment = \"Glucose Deprivation\") %>%\n",
    "  mutate(genotype = 'Hel2-del')"
   ]
  },
  {
   "cell_type": "code",
   "execution_count": null,
   "metadata": {
    "vscode": {
     "languageId": "r"
    }
   },
   "outputs": [],
   "source": [
    "diaa_boot <- bind_rows(wt_diaa_lfc, hel2_diaa_lfc, wt_nogluc_diaa_lfc, hel2_nogluc_diaa_lfc)"
   ]
  },
  {
   "cell_type": "code",
   "execution_count": null,
   "metadata": {
    "vscode": {
     "languageId": "r"
    }
   },
   "outputs": [
    {
     "data": {
      "text/html": [
       "<table class=\"dataframe\">\n",
       "<caption>A tibble: 1 × 1</caption>\n",
       "<thead>\n",
       "\t<tr><th scope=col>med</th></tr>\n",
       "\t<tr><th scope=col>&lt;int&gt;</th></tr>\n",
       "</thead>\n",
       "<tbody>\n",
       "\t<tr><td>84</td></tr>\n",
       "</tbody>\n",
       "</table>\n"
      ],
      "text/latex": [
       "A tibble: 1 × 1\n",
       "\\begin{tabular}{l}\n",
       " med\\\\\n",
       " <int>\\\\\n",
       "\\hline\n",
       "\t 84\\\\\n",
       "\\end{tabular}\n"
      ],
      "text/markdown": [
       "\n",
       "A tibble: 1 × 1\n",
       "\n",
       "| med &lt;int&gt; |\n",
       "|---|\n",
       "| 84 |\n",
       "\n"
      ],
      "text/plain": [
       "  med\n",
       "1 84 "
      ]
     },
     "metadata": {},
     "output_type": "display_data"
    }
   ],
   "source": [
    "wt_hel2_e78 %>%\n",
    "    filter(genotype == 'wt') %>%\n",
    "    group_by(diaa) %>%\n",
    "    summarize(n=n()) %>%\n",
    "    mutate(med = median(n)) %>%\n",
    "    dplyr::slice(1) %>%\n",
    "    select(-diaa, -n)"
   ]
  },
  {
   "attachments": {},
   "cell_type": "markdown",
   "metadata": {},
   "source": [
    "## Plot specific sets of dipeptides during glucose deprivation vs no-tx"
   ]
  },
  {
   "cell_type": "code",
   "execution_count": null,
   "metadata": {
    "vscode": {
     "languageId": "r"
    }
   },
   "outputs": [],
   "source": [
    "sd_outliers <- diaa_boot %>%\n",
    "    group_by(genotype, treatment) %>%\n",
    "    mutate(iqr = IQR(lfc_sd)) %>%\n",
    "    mutate(q3 = quantile(lfc_sd, c(0.75))) %>%\n",
    "    dplyr::slice(1) %>%\n",
    "    ungroup() %>%\n",
    "    mutate(outlier = q3 + (iqr*1.5)) %>%\n",
    "    select(genotype, treatment, iqr, outlier)\n",
    "\n",
    "hel2_noglc_out_sd <- sd_outliers$outlier[[1]] + 0.05 # relax the sd filter a bit\n",
    "hel2_notx_out_sd <- sd_outliers$outlier[[2]] + 0.05\n",
    "wt_noglc_out_sd <- sd_outliers$outlier[[3]] + 0.05\n",
    "wt_notx_out_sd <- sd_outliers$outlier[[4]] + 0.05"
   ]
  },
  {
   "attachments": {},
   "cell_type": "markdown",
   "metadata": {},
   "source": [
    "### Plot marking the dipeptides that are pulled out in WT data"
   ]
  },
  {
   "cell_type": "code",
   "execution_count": null,
   "metadata": {
    "vscode": {
     "languageId": "r"
    }
   },
   "outputs": [
    {
     "name": "stderr",
     "output_type": "stream",
     "text": [
      "\u001b[1mRows: \u001b[22m\u001b[34m38\u001b[39m \u001b[1mColumns: \u001b[22m\u001b[34m6\u001b[39m\n",
      "\u001b[36m──\u001b[39m \u001b[1mColumn specification\u001b[22m \u001b[36m────────────────────────────────────────────────────────\u001b[39m\n",
      "\u001b[1mDelimiter:\u001b[22m \",\"\n",
      "\u001b[31mchr\u001b[39m (2): Frame, match_diaa\n",
      "\u001b[32mdbl\u001b[39m (4): lfc, lfc_sd, var, lfc_med\n",
      "\n",
      "\u001b[36mℹ\u001b[39m Use `spec()` to retrieve the full column specification for this data.\n",
      "\u001b[36mℹ\u001b[39m Specify the column types or set `show_col_types = FALSE` to quiet this message.\n"
     ]
    }
   ],
   "source": [
    "select_diaa <- read_csv(\"../../wt_mrna_grna/tables/destabilized_wt.csv\") %>%\n",
    "    filter(Frame == \"In-frame\") %>%\n",
    "    dplyr::pull(match_diaa)"
   ]
  },
  {
   "cell_type": "code",
   "execution_count": null,
   "metadata": {
    "vscode": {
     "languageId": "r"
    }
   },
   "outputs": [
    {
     "name": "stderr",
     "output_type": "stream",
     "text": [
      "Warning message:\n",
      "“\u001b[1m\u001b[22mRemoved 1 rows containing missing values (`geom_point()`).”\n"
     ]
    },
    {
     "name": "stderr",
     "output_type": "stream",
     "text": [
      "Warning message:\n",
      "“\u001b[1m\u001b[22mRemoved 1 rows containing missing values (`geom_point()`).”\n"
     ]
    },
    {
     "data": {
      "image/png": "[encoded data removed]",
      "text/plain": [
       "plot without title"
      ]
     },
     "metadata": {
      "image/png": {
       "height": 480,
       "width": 300
      }
     },
     "output_type": "display_data"
    }
   ],
   "source": [
    "diaa_boot %>%\n",
    "      filter(genotype == 'WT') %>%\n",
    "      filter(diaa %in% select_diaa) %>% \n",
    "      complete(treatment, diaa) %>%\n",
    "      mutate(missing = ifelse(is.na(lfc_2), 'missing', 'not_missing')) %>%\n",
    "      mutate(lfc_2 = ifelse(is.na(lfc_2), 0, lfc_2)) %>%\n",
    "      group_by(diaa) %>%\n",
    "      mutate(order = rep(lfc_2[treatment == 'Glucose Deprivation'] - lfc_2[treatment == 'No Treatment'], 2)) %>%\n",
    "      ungroup() %>%\n",
    "      mutate(lfc_2 = ifelse(missing == 'missing', NA, lfc_2)) %>%\n",
    "      mutate(diaa = fct_reorder(diaa, order)) %>%\n",
    "      mutate(treatment = ifelse(treatment == 'No Treatment', 'No Treatment', 'Glucose Deprivation')) %>%\n",
    "      ggplot(aes(x = lfc_2, y = diaa,\n",
    "                  xmin = lfc_2 - lfc_sd, xmax = lfc_2 + lfc_sd,\n",
    "                  color=treatment\n",
    "                  )) +\n",
    "      geom_errorbar(width=0.3) +\n",
    "      geom_point(size=0.8) +\n",
    "      scale_color_manual(values=c('No Treatment'='black', \n",
    "                              'Glucose Deprivation'='#009e73')) +\n",
    "      theme +\n",
    "      theme(legend.position = \"top\",\n",
    "            legend.justification='left',\n",
    "            legend.margin=margin(0,0,0,0),\n",
    "            legend.box.margin=margin(-10,-5,-10,-8),\n",
    "            legend.spacing.x = unit(0.25, 'mm'),\n",
    "            panel.grid.major.y = element_line(color='grey', size=0.2),\n",
    "            axis.line.x = element_blank(),\n",
    "            axis.line.y = element_blank(),\n",
    "            axis.ticks.y = element_blank(),\n",
    "            # axis.text.x = element_text(angle=45, hjust=1, vjust=1)\n",
    "            ) +\n",
    "      labs(x = \"mRNA level (log2, arb. units)\", y = \"Amino Acid\",\n",
    "            color='')\n",
    "\n",
    "ggsave(\"../figures/wt_destabilized_diaa.pdf\", width=3, height=2.85)"
   ]
  },
  {
   "cell_type": "code",
   "execution_count": null,
   "metadata": {
    "vscode": {
     "languageId": "r"
    }
   },
   "outputs": [
    {
     "data": {
      "image/png": "[encoded data removed]",
      "text/plain": [
       "plot without title"
      ]
     },
     "metadata": {
      "image/png": {
       "height": 480,
       "width": 300
      }
     },
     "output_type": "display_data"
    }
   ],
   "source": [
    "diaa_boot %>%\n",
    "      filter(genotype == 'WT') %>%\n",
    "      filter(diaa %in% c('GP', 'LA')) %>% \n",
    "      complete(treatment, diaa) %>%\n",
    "      mutate(missing = ifelse(is.na(lfc_2), 'missing', 'not_missing')) %>%\n",
    "      mutate(lfc_2 = ifelse(is.na(lfc_2), 0, lfc_2)) %>%\n",
    "      group_by(diaa) %>%\n",
    "      mutate(order = rep(lfc_2[treatment == 'Glucose Deprivation'] - lfc_2[treatment == 'No Treatment'], 2)) %>%\n",
    "      ungroup() %>%\n",
    "      mutate(lfc_2 = ifelse(missing == 'missing', NA, lfc_2)) %>%\n",
    "      mutate(diaa = fct_reorder(diaa, order)) %>%\n",
    "      mutate(treatment = ifelse(treatment == 'No Treatment', 'No Treatment', 'Glucose Deprivation')) %>%\n",
    "      ggplot(aes(x = lfc_2, y = diaa,\n",
    "                  xmin = lfc_2 - lfc_sd, xmax = lfc_2 + lfc_sd,\n",
    "                  color=treatment\n",
    "                  )) +\n",
    "      geom_errorbar(width=0.3, linewidth=0.2) +\n",
    "      geom_point(size=0.8) +\n",
    "      scale_color_manual(values=c('No Treatment'='black', \n",
    "                              'Glucose Deprivation'='#009e73')) +\n",
    "      theme +\n",
    "      theme(legend.position = \"top\",\n",
    "            legend.justification='left',\n",
    "            legend.margin=margin(0,0,0,0),\n",
    "            legend.box.margin=margin(-10,-5,-10,-8),\n",
    "            legend.spacing.x = unit(0.25, 'mm'),\n",
    "            panel.grid.major.y = element_line(color='grey', size=0.2),\n",
    "            axis.line.x = element_blank(),\n",
    "            axis.line.y = element_blank(),\n",
    "            axis.ticks.y = element_blank(),\n",
    "            # axis.text.x = element_text(angle=45, hjust=1, vjust=1)\n",
    "            ) +\n",
    "      labs(x = \"mRNA level\\n(log2, arb. units)\", y = \"Amino Acid\",\n",
    "            color='')\n",
    "\n",
    "ggsave(\"../figures/wt_destabilized_diaa_gp.pdf\", width=2.2, height=1.3)"
   ]
  },
  {
   "cell_type": "markdown",
   "metadata": {},
   "source": [
    "## Plot frameshifted library vs CSC correlation"
   ]
  },
  {
   "cell_type": "markdown",
   "metadata": {},
   "source": [
    "### Load sample annotations and barcode counts of frameshifted library"
   ]
  },
  {
   "cell_type": "code",
   "execution_count": null,
   "metadata": {
    "vscode": {
     "languageId": "r"
    }
   },
   "outputs": [
    {
     "name": "stderr",
     "output_type": "stream",
     "text": [
      "\u001b[1mRows: \u001b[22m\u001b[34m2\u001b[39m \u001b[1mColumns: \u001b[22m\u001b[34m10\u001b[39m\n",
      "\u001b[36m──\u001b[39m \u001b[1mColumn specification\u001b[22m \u001b[36m────────────────────────────────────────────────────────\u001b[39m\n",
      "\u001b[1mDelimiter:\u001b[22m \",\"\n",
      "\u001b[31mchr\u001b[39m (6): sample_id, index_primer, sample_name, sample_type, localization, li...\n",
      "\u001b[32mdbl\u001b[39m (4): sample_num, barcode_read, barcode_start, barcode_length\n",
      "\n",
      "\u001b[36mℹ\u001b[39m Use `spec()` to retrieve the full column specification for this data.\n",
      "\u001b[36mℹ\u001b[39m Specify the column types or set `show_col_types = FALSE` to quiet this message.\n"
     ]
    }
   ],
   "source": [
    "sample_annotations <- read_csv(\"../../wt_frameshifted_mrna_grna/annotations/sample_annotations.csv\")"
   ]
  },
  {
   "cell_type": "code",
   "execution_count": null,
   "metadata": {
    "vscode": {
     "languageId": "r"
    }
   },
   "outputs": [
    {
     "name": "stderr",
     "output_type": "stream",
     "text": [
      "\u001b[1mRows: \u001b[22m\u001b[34m234451\u001b[39m \u001b[1mColumns: \u001b[22m\u001b[34m5\u001b[39m\n",
      "\u001b[36m──\u001b[39m \u001b[1mColumn specification\u001b[22m \u001b[36m────────────────────────────────────────────────────────\u001b[39m\n",
      "\u001b[1mDelimiter:\u001b[22m \",\"\n",
      "\u001b[31mchr\u001b[39m (4): barcode_count, insert_num, barcode, linkage_count\n",
      "\u001b[32mdbl\u001b[39m (1): barcode_num\n",
      "\n",
      "\u001b[36mℹ\u001b[39m Use `spec()` to retrieve the full column specification for this data.\n",
      "\u001b[36mℹ\u001b[39m Specify the column types or set `show_col_types = FALSE` to quiet this message.\n",
      "\u001b[1mRows: \u001b[22m\u001b[34m212239\u001b[39m \u001b[1mColumns: \u001b[22m\u001b[34m5\u001b[39m\n",
      "\u001b[36m──\u001b[39m \u001b[1mColumn specification\u001b[22m \u001b[36m────────────────────────────────────────────────────────\u001b[39m\n",
      "\u001b[1mDelimiter:\u001b[22m \",\"\n",
      "\u001b[31mchr\u001b[39m (4): barcode_count, insert_num, barcode, linkage_count\n",
      "\u001b[32mdbl\u001b[39m (1): barcode_num\n",
      "\n",
      "\u001b[36mℹ\u001b[39m Use `spec()` to retrieve the full column specification for this data.\n",
      "\u001b[36mℹ\u001b[39m Specify the column types or set `show_col_types = FALSE` to quiet this message.\n",
      "Warning message:\n",
      "“`cols` is now required when using unnest().\n",
      "Please use `cols = c(counts)`”\n",
      "Warning message in mask$eval_all_mutate(quo):\n",
      "“NAs introduced by coercion”\n",
      "Warning message in mask$eval_all_mutate(quo):\n",
      "“NAs introduced by coercion”\n"
     ]
    }
   ],
   "source": [
    "barcode_counts_frm <- list.files(\"../../wt_frameshifted_mrna_grna/data/linked_barcode_counts/\", pattern = \".csv$\", full.names = T) %>% \n",
    "  enframe(\"sno\", \"file\") %>% \n",
    "  mutate(counts = map(file, read_csv)) %>% \n",
    "  mutate(sample_name = str_extract(file, \"[^/]+(?=.csv)\")) %>% \n",
    "  select(-sno, -file) %>% \n",
    "  unnest() %>% \n",
    "  mutate(insert_num = as.numeric(str_extract(insert_num, \"[:digit:]+\"))) %>%\n",
    "  mutate(barcode_count = as.numeric(barcode_count)) %>%\n",
    "  mutate(linkage_count = as.numeric(linkage_count))"
   ]
  },
  {
   "cell_type": "code",
   "execution_count": null,
   "metadata": {
    "vscode": {
     "languageId": "r"
    }
   },
   "outputs": [
    {
     "name": "stderr",
     "output_type": "stream",
     "text": [
      "\u001b[1m\u001b[22m`summarise()` has grouped output by 'sample_name'. You can override using the\n",
      "`.groups` argument.\n"
     ]
    },
    {
     "data": {
      "text/html": [
       "<table class=\"dataframe\">\n",
       "<caption>A grouped_df: 2 × 3</caption>\n",
       "<thead>\n",
       "\t<tr><th scope=col>sample_name</th><th scope=col>avg</th><th scope=col>med</th></tr>\n",
       "\t<tr><th scope=col>&lt;chr&gt;</th><th scope=col>&lt;dbl&gt;</th><th scope=col>&lt;dbl&gt;</th></tr>\n",
       "</thead>\n",
       "<tbody>\n",
       "\t<tr><td>grna_cyto</td><td>40.15259</td><td>39</td></tr>\n",
       "\t<tr><td>mrna_cyto</td><td>36.37967</td><td>36</td></tr>\n",
       "</tbody>\n",
       "</table>\n"
      ],
      "text/latex": [
       "A grouped\\_df: 2 × 3\n",
       "\\begin{tabular}{lll}\n",
       " sample\\_name & avg & med\\\\\n",
       " <chr> & <dbl> & <dbl>\\\\\n",
       "\\hline\n",
       "\t grna\\_cyto & 40.15259 & 39\\\\\n",
       "\t mrna\\_cyto & 36.37967 & 36\\\\\n",
       "\\end{tabular}\n"
      ],
      "text/markdown": [
       "\n",
       "A grouped_df: 2 × 3\n",
       "\n",
       "| sample_name &lt;chr&gt; | avg &lt;dbl&gt; | med &lt;dbl&gt; |\n",
       "|---|---|---|\n",
       "| grna_cyto | 40.15259 | 39 |\n",
       "| mrna_cyto | 36.37967 | 36 |\n",
       "\n"
      ],
      "text/plain": [
       "  sample_name avg      med\n",
       "1 grna_cyto   40.15259 39 \n",
       "2 mrna_cyto   36.37967 36 "
      ]
     },
     "metadata": {},
     "output_type": "display_data"
    }
   ],
   "source": [
    "barcode_counts_frm %>%\n",
    "    group_by(sample_name, insert_num) %>%\n",
    "    summarize(n = n()) %>%\n",
    "    mutate(avg = mean(n), med = median(n)) %>%\n",
    "    dplyr::slice(1) %>%\n",
    "    select(-insert_num, -n)"
   ]
  },
  {
   "cell_type": "code",
   "execution_count": null,
   "metadata": {
    "vscode": {
     "languageId": "r"
    }
   },
   "outputs": [
    {
     "data": {
      "text/html": [
       "<table class=\"dataframe\">\n",
       "<caption>A tibble: 1 × 4</caption>\n",
       "<thead>\n",
       "\t<tr><th scope=col>codon1</th><th scope=col>n</th><th scope=col>avg</th><th scope=col>med</th></tr>\n",
       "\t<tr><th scope=col>&lt;chr&gt;</th><th scope=col>&lt;int&gt;</th><th scope=col>&lt;dbl&gt;</th><th scope=col>&lt;dbl&gt;</th></tr>\n",
       "</thead>\n",
       "<tbody>\n",
       "\t<tr><td>AAA</td><td>2755</td><td>1855.625</td><td>1829.5</td></tr>\n",
       "</tbody>\n",
       "</table>\n"
      ],
      "text/latex": [
       "A tibble: 1 × 4\n",
       "\\begin{tabular}{llll}\n",
       " codon1 & n & avg & med\\\\\n",
       " <chr> & <int> & <dbl> & <dbl>\\\\\n",
       "\\hline\n",
       "\t AAA & 2755 & 1855.625 & 1829.5\\\\\n",
       "\\end{tabular}\n"
      ],
      "text/markdown": [
       "\n",
       "A tibble: 1 × 4\n",
       "\n",
       "| codon1 &lt;chr&gt; | n &lt;int&gt; | avg &lt;dbl&gt; | med &lt;dbl&gt; |\n",
       "|---|---|---|---|\n",
       "| AAA | 2755 | 1855.625 | 1829.5 |\n",
       "\n"
      ],
      "text/plain": [
       "  codon1 n    avg      med   \n",
       "1 AAA    2755 1855.625 1829.5"
      ]
     },
     "metadata": {},
     "output_type": "display_data"
    },
    {
     "data": {
      "text/html": [
       "<table class=\"dataframe\">\n",
       "<caption>A tibble: 1 × 4</caption>\n",
       "<thead>\n",
       "\t<tr><th scope=col>codon2</th><th scope=col>n</th><th scope=col>avg</th><th scope=col>med</th></tr>\n",
       "\t<tr><th scope=col>&lt;chr&gt;</th><th scope=col>&lt;int&gt;</th><th scope=col>&lt;dbl&gt;</th><th scope=col>&lt;dbl&gt;</th></tr>\n",
       "</thead>\n",
       "<tbody>\n",
       "\t<tr><td>AAA</td><td>1823</td><td>1855.625</td><td>1840</td></tr>\n",
       "</tbody>\n",
       "</table>\n"
      ],
      "text/latex": [
       "A tibble: 1 × 4\n",
       "\\begin{tabular}{llll}\n",
       " codon2 & n & avg & med\\\\\n",
       " <chr> & <int> & <dbl> & <dbl>\\\\\n",
       "\\hline\n",
       "\t AAA & 1823 & 1855.625 & 1840\\\\\n",
       "\\end{tabular}\n"
      ],
      "text/markdown": [
       "\n",
       "A tibble: 1 × 4\n",
       "\n",
       "| codon2 &lt;chr&gt; | n &lt;int&gt; | avg &lt;dbl&gt; | med &lt;dbl&gt; |\n",
       "|---|---|---|---|\n",
       "| AAA | 1823 | 1855.625 | 1840 |\n",
       "\n"
      ],
      "text/plain": [
       "  codon2 n    avg      med \n",
       "1 AAA    1823 1855.625 1840"
      ]
     },
     "metadata": {},
     "output_type": "display_data"
    }
   ],
   "source": [
    "barcode_counts_frm %>% \n",
    "  filter(barcode_count >= barcode_reads_cutoff) %>%\n",
    "  pivot_wider(names_from = sample_name, values_from = barcode_count) %>% \n",
    "  drop_na() %>%\n",
    "  inner_join(insert_annotations, by='insert_num') %>%\n",
    "  group_by(codon1) %>%\n",
    "  summarize(n=n()) %>%\n",
    "  mutate(avg = mean(n), med= median(n)) %>%\n",
    "  dplyr::slice(1)\n",
    "\n",
    "barcode_counts_frm %>% \n",
    "  filter(barcode_count >= barcode_reads_cutoff) %>%\n",
    "  pivot_wider(names_from = sample_name, values_from = barcode_count) %>% \n",
    "  drop_na() %>%\n",
    "  inner_join(insert_annotations, by='insert_num') %>%\n",
    "  group_by(codon2) %>%\n",
    "  summarize(n=n()) %>%\n",
    "  mutate(avg = mean(n), med= median(n)) %>%\n",
    "  dplyr::slice(1)"
   ]
  },
  {
   "cell_type": "markdown",
   "metadata": {},
   "source": [
    "### Bootstrap average codon level"
   ]
  },
  {
   "cell_type": "code",
   "execution_count": null,
   "metadata": {
    "vscode": {
     "languageId": "r"
    }
   },
   "outputs": [],
   "source": [
    "calc_lfc_bootstrap <- function(data, indices) {\n",
    "  d <- data[indices,]\n",
    "  log2(sum(d$mrna_cyto)) - log2(sum(d$grna_cyto))\n",
    "}\n",
    "\n",
    "codon1_lfc <- barcode_counts_frm %>% \n",
    "  filter(barcode_count >= barcode_reads_cutoff) %>%\n",
    "  pivot_wider(names_from = sample_name, values_from = barcode_count) %>% \n",
    "  drop_na() %>%\n",
    "  inner_join(insert_annotations, by='insert_num') %>%\n",
    "  group_by(codon1) %>%\n",
    "  nest() %>%\n",
    "  mutate(lfc_boot = map(data, function(df) boot::boot(data=df, statistic=calc_lfc_bootstrap, R=100)$t)) %>%\n",
    "  select(-data) %>%\n",
    "  mutate(lfc = map_dbl(lfc_boot, mean)) %>%\n",
    "  mutate(lfc_sd = map_dbl(lfc_boot, sd)) %>%\n",
    "  select(-lfc_boot) %>%\n",
    "  ungroup() %>%\n",
    "  mutate(pos = 1) %>%\n",
    "  dplyr::rename(codon = codon1) %>%\n",
    "  mutate(lfc_2 = lfc - median(lfc))\n",
    "\n",
    "codon2_lfc <- barcode_counts_frm %>% \n",
    "  filter(barcode_count >= barcode_reads_cutoff) %>%\n",
    "  pivot_wider(names_from = sample_name, values_from = barcode_count) %>% \n",
    "  drop_na() %>%\n",
    "  inner_join(insert_annotations, by='insert_num') %>%\n",
    "  group_by(codon2) %>%\n",
    "  nest() %>%\n",
    "  mutate(lfc_boot = map(data, function(df) boot::boot(data=df, statistic=calc_lfc_bootstrap, R=100)$t)) %>%\n",
    "  select(-data) %>%\n",
    "  mutate(lfc = map_dbl(lfc_boot, mean)) %>%\n",
    "  mutate(lfc_sd = map_dbl(lfc_boot, sd)) %>%\n",
    "  select(-lfc_boot) %>%\n",
    "  ungroup() %>%\n",
    "  mutate(pos = 2) %>%\n",
    "  dplyr::rename(codon = codon2) %>%\n",
    "  mutate(lfc_2 = lfc - median(lfc))"
   ]
  },
  {
   "cell_type": "code",
   "execution_count": null,
   "metadata": {
    "vscode": {
     "languageId": "r"
    }
   },
   "outputs": [],
   "source": [
    "dicodon_plot_data <- bind_rows(codon1_lfc, codon2_lfc) %>%\n",
    "  mutate(aa = AMINO_ACID_CODE[GENETIC_CODE[as.character(codon)]])"
   ]
  },
  {
   "cell_type": "code",
   "execution_count": null,
   "metadata": {
    "vscode": {
     "languageId": "r"
    }
   },
   "outputs": [
    {
     "name": "stderr",
     "output_type": "stream",
     "text": [
      "\u001b[1mRows: \u001b[22m\u001b[34m61\u001b[39m \u001b[1mColumns: \u001b[22m\u001b[34m30\u001b[39m\n",
      "\u001b[36m──\u001b[39m \u001b[1mColumn specification\u001b[22m \u001b[36m────────────────────────────────────────────────────────\u001b[39m\n",
      "\u001b[1mDelimiter:\u001b[22m \",\"\n",
      "\u001b[31mchr\u001b[39m  (4): Codon, Amino_Acid, HEK293_IsOpt, HeLa_IsOpt\n",
      "\u001b[32mdbl\u001b[39m (26): HEK293_tAI, HeLa_tAI_1, HeLa_tAI_2, HeLa_tAI_3, HeLa_Avg_tAI, HeLa...\n",
      "\n",
      "\u001b[36mℹ\u001b[39m Use `spec()` to retrieve the full column specification for this data.\n",
      "\u001b[36mℹ\u001b[39m Specify the column types or set `show_col_types = FALSE` to quiet this message.\n"
     ]
    }
   ],
   "source": [
    "sc_coller <- read_csv(\"../../../../data/literature/forrest_2020/table_s2_data.csv\", skip=3) %>% \n",
    "    select('Codon', 'Amino_Acid', 'SC_CSC', 'SC_AASC')\n",
    "\n",
    "csc_aasc_lfc <- sc_coller %>%\n",
    "    inner_join(dicodon_plot_data, by=c('Codon' = 'codon'))"
   ]
  },
  {
   "cell_type": "code",
   "execution_count": null,
   "metadata": {
    "vscode": {
     "languageId": "r"
    }
   },
   "outputs": [
    {
     "name": "stderr",
     "output_type": "stream",
     "text": [
      "Warning message:\n",
      "“\u001b[1m\u001b[22mUsing `size` aesthetic for lines was deprecated in ggplot2 3.4.0.\n",
      "\u001b[36mℹ\u001b[39m Please use `linewidth` instead.”\n",
      "\u001b[1m\u001b[22m`geom_smooth()` using formula = 'y ~ x'\n",
      "\u001b[1m\u001b[22m`geom_smooth()` using formula = 'y ~ x'\n"
     ]
    },
    {
     "data": {
      "image/png": "[encoded data removed]",
      "text/plain": [
       "plot without title"
      ]
     },
     "metadata": {
      "image/png": {
       "height": 240,
       "width": 240
      }
     },
     "output_type": "display_data"
    }
   ],
   "source": [
    "options(repr.plot.width=4, repr.plot.height=4)\n",
    "\n",
    "plot_data <- csc_aasc_lfc %>%\n",
    "    group_by(Codon) %>%\n",
    "    mutate(avg_pos_lfc = mean(lfc_2)) %>%\n",
    "    dplyr::slice(1) %>%\n",
    "    mutate(name = str_c(Codon, \" (\", GENETIC_CODE[Codon], \")\"))\n",
    "\n",
    "pearson_r = cor(plot_data$SC_CSC, plot_data$avg_pos_lfc, method=c('pearson'))\n",
    "p = cor.test(plot_data$SC_CSC, plot_data$avg_pos_lfc, method=c('pearson'))$p.value\n",
    "\n",
    "plot_data %>%\n",
    "    ggplot() +\n",
    "    aes(x=SC_CSC, y=avg_pos_lfc) +\n",
    "    geom_point(size=0.2) + \n",
    "    geom_smooth(method=lm, size=0.2, se=FALSE) +\n",
    "    annotate('text',x=0.18, y=-0.30, size=7/.pt, label=str_c(\"r = \", round(pearson_r,2))) +\n",
    "    annotate('text',x=0.18, y=-0.36, size=7/.pt, label=str_c('p = ', round(p, 2))) +\n",
    "    theme +\n",
    "    theme(\n",
    "        axis.text.x=element_text(size=7),\n",
    "        axis.text.y=element_text(size=7)\n",
    "    ) +\n",
    "    labs(x='Codon Stability\\nCoefficient (CSC)', y='Average mRNA level\\n(log2, arb. units)')\n",
    "\n",
    "ggsave(\"../figures/fig3c_avg_lfc_coller_csc_correlation_lm_dicodons.pdf\", width=1.8, height=1.75, units='in')"
   ]
  },
  {
   "cell_type": "markdown",
   "metadata": {},
   "source": [
    "### Plot destabilized dipeptides in normal library vs frameshifted library"
   ]
  },
  {
   "cell_type": "code",
   "execution_count": null,
   "metadata": {
    "vscode": {
     "languageId": "r"
    }
   },
   "outputs": [],
   "source": [
    "barcode_reads_cutoff <- 10\n",
    "n_barcodes_cutoff <- 4\n",
    "\n",
    "wt_frme <- barcode_counts_frm %>% # apply minor cutoffs as in exp51 analysis\n",
    "    filter(barcode_count >= barcode_reads_cutoff) %>%\n",
    "    mutate(genotype = 'WT') %>%\n",
    "    mutate(library_type = str_extract(sample_name, '^[^_]+')) %>%\n",
    "    group_by(genotype, library_type, insert_num) %>%\n",
    "    mutate(n_barcodes = n()) %>%\n",
    "    filter(n_barcodes >= n_barcodes_cutoff) %>% # filter out inserts that don't reach barcode rep cutoff while maintaining data as individual barcodes\n",
    "    ungroup() %>%\n",
    "    select(genotype, library_type, barcode_num, insert_num, barcode_count) %>%\n",
    "    pivot_wider(names_from=c(library_type), values_from=barcode_count) %>%\n",
    "    drop_na() %>%\n",
    "    inner_join(insert_annotations, by='insert_num')"
   ]
  },
  {
   "cell_type": "code",
   "execution_count": null,
   "metadata": {
    "vscode": {
     "languageId": "r"
    }
   },
   "outputs": [
    {
     "data": {
      "text/html": [
       "<table class=\"dataframe\">\n",
       "<caption>A tibble: 1 × 3</caption>\n",
       "<thead>\n",
       "\t<tr><th scope=col>diaa</th><th scope=col>n</th><th scope=col>med</th></tr>\n",
       "\t<tr><th scope=col>&lt;chr&gt;</th><th scope=col>&lt;int&gt;</th><th scope=col>&lt;dbl&gt;</th></tr>\n",
       "</thead>\n",
       "<tbody>\n",
       "\t<tr><td>**</td><td>154</td><td>196.5</td></tr>\n",
       "</tbody>\n",
       "</table>\n"
      ],
      "text/latex": [
       "A tibble: 1 × 3\n",
       "\\begin{tabular}{lll}\n",
       " diaa & n & med\\\\\n",
       " <chr> & <int> & <dbl>\\\\\n",
       "\\hline\n",
       "\t ** & 154 & 196.5\\\\\n",
       "\\end{tabular}\n"
      ],
      "text/markdown": [
       "\n",
       "A tibble: 1 × 3\n",
       "\n",
       "| diaa &lt;chr&gt; | n &lt;int&gt; | med &lt;dbl&gt; |\n",
       "|---|---|---|\n",
       "| ** | 154 | 196.5 |\n",
       "\n"
      ],
      "text/plain": [
       "  diaa n   med  \n",
       "1 **   154 196.5"
      ]
     },
     "metadata": {},
     "output_type": "display_data"
    }
   ],
   "source": [
    "wt_frme %>%\n",
    "    group_by(diaa) %>%\n",
    "    summarize(n=n()) %>%\n",
    "    mutate(med = median(n)) %>%\n",
    "    dplyr::slice(1)"
   ]
  },
  {
   "cell_type": "code",
   "execution_count": null,
   "metadata": {
    "vscode": {
     "languageId": "r"
    }
   },
   "outputs": [],
   "source": [
    "calc_lfc_bootstrap <- function(data, indices) {\n",
    "  d <- data[indices,]\n",
    "  log2(sum(d$mrna)) - log2(sum(d$grna)) }\n",
    "\n",
    "wt_diaa_lfc_frm <- wt_frme %>% \n",
    "  group_by(diaa) %>%\n",
    "  nest() %>%\n",
    "  mutate(lfc_boot = map(data, function(df) boot::boot(data=df, statistic=calc_lfc_bootstrap, R=100)$t)) %>%\n",
    "  select(-data) %>%\n",
    "  mutate(lfc = map_dbl(lfc_boot, mean)) %>%\n",
    "  mutate(lfc_sd = map_dbl(lfc_boot, sd)) %>%\n",
    "  select(-lfc_boot) %>%\n",
    "  ungroup() %>%\n",
    "  mutate(lfc_2 = lfc - median(lfc)) %>%\n",
    "  mutate(treatment = \"Frameshifted\") %>%\n",
    "  mutate(genotype = 'WT')"
   ]
  },
  {
   "cell_type": "code",
   "execution_count": null,
   "metadata": {
    "vscode": {
     "languageId": "r"
    }
   },
   "outputs": [],
   "source": [
    "diaa_boot_2 <- bind_rows(wt_diaa_lfc, wt_diaa_lfc_frm)"
   ]
  },
  {
   "cell_type": "code",
   "execution_count": null,
   "metadata": {
    "vscode": {
     "languageId": "r"
    }
   },
   "outputs": [
    {
     "name": "stderr",
     "output_type": "stream",
     "text": [
      "Warning message:\n",
      "“\u001b[1m\u001b[22mRemoved 1 rows containing missing values (`geom_point()`).”\n"
     ]
    },
    {
     "name": "stderr",
     "output_type": "stream",
     "text": [
      "Warning message:\n",
      "“\u001b[1m\u001b[22mRemoved 1 rows containing missing values (`geom_point()`).”\n"
     ]
    },
    {
     "data": {
      "image/png": "[encoded data removed]",
      "text/plain": [
       "plot without title"
      ]
     },
     "metadata": {
      "image/png": {
       "height": 240,
       "width": 240
      }
     },
     "output_type": "display_data"
    }
   ],
   "source": [
    "diaa_boot_2 %>%\n",
    "    filter(genotype == 'WT') %>%\n",
    "    filter(diaa %in% select_diaa) %>% \n",
    "    complete(treatment, diaa) %>%\n",
    "    mutate(treatment = ifelse(treatment == 'No Treatment', 'Original\\nlibrary', '-1 frame-\\nshifted')) %>%\n",
    "    mutate(treatment = factor(treatment, levels=c('Original\\nlibrary', '-1 frame-\\nshifted'))) %>%\n",
    "    ggplot(aes(x = lfc_2, y = diaa,\n",
    "                xmin = lfc_2 - lfc_sd, xmax = lfc_2 + lfc_sd,\n",
    "                color=treatment\n",
    "                )) +\n",
    "    geom_errorbar(width=0.3) +\n",
    "    geom_point(size=0.8) +\n",
    "    scale_color_manual(values=c('Original\\nlibrary'='black', \n",
    "                            '-1 frame-\\nshifted'='grey50')) +\n",
    "    theme +\n",
    "    theme(legend.position = \"top\",\n",
    "        legend.justification='left',\n",
    "        legend.margin=margin(0,0,0,0),\n",
    "        legend.box.margin=margin(-10,-5,-10,-8),\n",
    "        legend.spacing.x = unit(0.75, 'mm'),\n",
    "        panel.grid.major.y = element_line(color='grey', size=0.2),\n",
    "        axis.line.x = element_blank(),\n",
    "        axis.line.y = element_blank(),\n",
    "        axis.ticks.y = element_blank(),\n",
    "        # axis.text.x = element_text(angle=45, hjust=1, vjust=1)\n",
    "        ) +\n",
    "    labs(x = \"mRNA level (log2, arb. units)\", y = \"Amino Acid\",\n",
    "        color='')\n",
    "\n",
    "ggsave(\"../figures/fig3_wt_destabilized_frme_diaa.pdf\", width=1.85, height=2.7)"
   ]
  },
  {
   "cell_type": "code",
   "execution_count": null,
   "metadata": {
    "vscode": {
     "languageId": "r"
    }
   },
   "outputs": [
    {
     "data": {
      "image/png": "[encoded data removed]",
      "text/plain": [
       "plot without title"
      ]
     },
     "metadata": {
      "image/png": {
       "height": 240,
       "width": 240
      }
     },
     "output_type": "display_data"
    }
   ],
   "source": [
    "diaa_boot_2 %>%\n",
    "    filter(genotype == 'WT') %>%\n",
    "    filter(diaa %in% c('GP', 'LA')) %>% \n",
    "    complete(treatment, diaa) %>%\n",
    "    mutate(treatment = ifelse(treatment == 'No Treatment', 'Original\\nlibrary', '-1 frame-\\nshifted')) %>%\n",
    "    mutate(treatment = factor(treatment, levels=c('Original\\nlibrary', '-1 frame-\\nshifted'))) %>%\n",
    "    mutate(diaa = fct_reorder(diaa, lfc_2)) %>%\n",
    "    ggplot(aes(x = lfc_2, y = diaa,\n",
    "                xmin = lfc_2 - lfc_sd, xmax = lfc_2 + lfc_sd,\n",
    "                color=treatment\n",
    "                )) +\n",
    "    geom_errorbar(width=0.3, linewidth=0.2) +\n",
    "    geom_point(size=0.8) +\n",
    "    scale_color_manual(values=c('Original\\nlibrary'='black', \n",
    "                            '-1 frame-\\nshifted'='grey50')) +\n",
    "    theme +\n",
    "    theme(legend.position = \"top\",\n",
    "        legend.justification='left',\n",
    "        legend.margin=margin(0,0,0,0),\n",
    "        legend.box.margin=margin(-10,-5,-10,-8),\n",
    "        legend.spacing.x = unit(0.75, 'mm'),\n",
    "        panel.grid.major.y = element_line(color='grey', size=0.2),\n",
    "        axis.line.x = element_blank(),\n",
    "        axis.line.y = element_blank(),\n",
    "        axis.ticks.y = element_blank(),\n",
    "        # axis.text.x = element_text(angle=45, hjust=1, vjust=1)\n",
    "        ) +\n",
    "    labs(x = \"mRNA level\\n(log2, arb. units)\", y = \"Amino Acid\",\n",
    "        color='')\n",
    "\n",
    "ggsave(\"../figures/sfig_wt_destabilized_frme_diaa_gp.pdf\", width=1.9, height=1.3)"
   ]
  },
  {
   "cell_type": "markdown",
   "metadata": {
    "vscode": {
     "languageId": "r"
    }
   },
   "source": [
    "### Plot distributions of glucose depleted vs dipeptides with low mRNA levels vs other"
   ]
  },
  {
   "cell_type": "code",
   "execution_count": null,
   "metadata": {
    "vscode": {
     "languageId": "plaintext"
    }
   },
   "outputs": [],
   "source": [
    "destabilized <- diaa_boot %>%\n",
    "    filter(genotype == 'WT') %>%\n",
    "    filter(diaa %in% select_diaa) %>% \n",
    "    complete(treatment, diaa) %>%\n",
    "    mutate(missing = ifelse(is.na(lfc_2), 'missing', 'not_missing')) %>%\n",
    "    mutate(lfc_2 = ifelse(is.na(lfc_2), 0, lfc_2)) %>%\n",
    "    group_by(diaa) %>%\n",
    "    mutate(order = rep(lfc_2[treatment == 'Glucose Deprivation'] - lfc_2[treatment == 'No Treatment'], 2)) %>%\n",
    "    ungroup() %>%\n",
    "    mutate(lfc_2 = ifelse(missing == 'missing', NA, lfc_2)) %>%\n",
    "    filter(order > 0.7) %>%\n",
    "    dplyr::pull(diaa) %>%\n",
    "    unique()"
   ]
  },
  {
   "cell_type": "code",
   "execution_count": null,
   "metadata": {
    "vscode": {
     "languageId": "plaintext"
    }
   },
   "outputs": [],
   "source": [
    "diaa_boot %>%\n",
    "    filter(genotype == 'WT') %>%\n",
    "    select(diaa, lfc_2, treatment) %>%\n",
    "    mutate(type = ifelse(diaa %in% destabilized, 'Destabilized\\ndiaa', ifelse(str_detect(diaa, '\\\\*'), 'Stop-containing\\ndiaa', 'All other\\ndiaa'))) %>%\n",
    "    mutate(type = factor(type, levels=c('Stop-containing\\ndiaa', 'Destabilized\\ndiaa', 'All other\\ndiaa'))) %>%\n",
    "    mutate(treatment = factor(treatment, levels=c('No Treatment', 'Glucose Deprivation'))) %>%\n",
    "    ggplot() +\n",
    "    aes(y=lfc_2, x=type) +\n",
    "    geom_boxplot(size=0.3, outlier.size=0.3) +\n",
    "    scale_y_continuous(breaks=seq(-3,2,0.5), limits=c(-3,1)) +\n",
    "    facet_wrap(~treatment, ncol=2) +\n",
    "    labs(y='mRNA levels (log2, arb. units)', x='') +\n",
    "    theme(strip.text.x = element_text(size=8)) +\n",
    "    theme +\n",
    "    theme(axis.text.x = element_text(angle=60, hjust=1, vjust=1))\n",
    "\n",
    "ggsave(\"../figures/stop_destabilized_other_diaa_distr.pdf\", width=3, height=2.5)"
   ]
  },
  {
   "cell_type": "markdown",
   "metadata": {},
   "source": [
    "### Plot summary figure of all conditions for dipeptides with low mRNA levels"
   ]
  },
  {
   "cell_type": "code",
   "execution_count": null,
   "metadata": {
    "vscode": {
     "languageId": "plaintext"
    }
   },
   "outputs": [],
   "source": [
    "calc_lfc_bootstrap <- function(data, indices) {\n",
    "  d <- data[indices,]\n",
    "  log2(sum(d$mrna)) - log2(sum(d$gdna))}"
   ]
  },
  {
   "cell_type": "code",
   "execution_count": null,
   "metadata": {
    "vscode": {
     "languageId": "plaintext"
    }
   },
   "outputs": [],
   "source": [
    "diaa_allframe_lfc_51_boot <- barcode_insert_counts_51 %>% \n",
    "  filter(barcode_count >= barcode_reads_cutoff) %>%\n",
    "  inner_join(insert_annotations, by = \"insert_num\") %>%\n",
    "  separate(sample_name, c('genotype', 'sample_type')) %>%\n",
    "  select(-linkage_count, -linkage_ref, -barcode) %>%\n",
    "  pivot_wider(names_from = sample_type, values_from = barcode_count) %>%\n",
    "  crossing(frame = c(\"frame\" = seq(0,5))) %>%\n",
    "  select(-diaa, -aa1, -aa2, -codon1, -codon2) %>%\n",
    "  mutate(dicodon = substr(paste0(dicodon, dicodon), frame + 1, 6 + frame)) %>%\n",
    "  mutate(diaa = as.character(translate(DNAStringSet(dicodon), no.init.codon = T))) %>%\n",
    "  select(-dicodon) %>%\n",
    "  drop_na(mrna) %>%\n",
    "  drop_na(gdna) %>%\n",
    "  group_by(diaa, frame) %>%\n",
    "  nest() %>%\n",
    "  mutate(lfc_boot = map(data, function(df) boot::boot(data=df, statistic=calc_lfc_bootstrap, R=100)$t)) %>%\n",
    "  select(-data) %>%\n",
    "  mutate(lfc = map_dbl(lfc_boot, mean)) %>%\n",
    "  mutate(lfc_sd = map_dbl(lfc_boot, sd)) %>%\n",
    "  select(-lfc_boot) %>%\n",
    "  ungroup() %>%\n",
    "  mutate(lfc_2 = lfc - median(lfc))"
   ]
  },
  {
   "cell_type": "code",
   "execution_count": null,
   "metadata": {
    "vscode": {
     "languageId": "plaintext"
    }
   },
   "outputs": [],
   "source": [
    "frames <- diaa_allframe_lfc_51_boot %>%\n",
    "    filter(frame %in% c(1)) %>%\n",
    "    mutate(type = ifelse(diaa %in% select_diaa, 'Destabilized\\ndiaa', 'All other\\ndiaa')) %>%\n",
    "    dplyr::rename(treatment=frame) %>%\n",
    "    select(diaa, lfc, lfc_2, lfc_sd, treatment, type) %>%\n",
    "    mutate(treatment = ifelse(treatment == 1, 'Computational\\nframeshift')) "
   ]
  },
  {
   "cell_type": "code",
   "execution_count": null,
   "metadata": {
    "vscode": {
     "languageId": "plaintext"
    }
   },
   "outputs": [],
   "source": [
    "glc <- diaa_boot %>%\n",
    "    filter(genotype == 'WT') %>%\n",
    "    select(diaa, lfc_2, lfc_sd, treatment) %>%\n",
    "    mutate(type = ifelse(diaa %in% select_diaa, 'Destabilized\\ndiaa', 'All other\\ndiaa')) %>%\n",
    "    mutate(treatment = factor(treatment, levels=c('No Treatment', 'Glucose Deprivation'))) \n",
    "\n",
    "frame <- diaa_boot_2 %>%\n",
    "    filter(genotype == 'WT') %>%\n",
    "    select(diaa, lfc_2, lfc_sd, treatment) %>%\n",
    "    mutate(type = ifelse(diaa %in% select_diaa, 'Destabilized\\ndiaa', 'All other\\ndiaa')) %>%\n",
    "    mutate(treatment = ifelse(treatment == 'No Treatment', 'Original\\nlibrary', '-1 frame-\\nshifted')) %>%\n",
    "    mutate(treatment = factor(treatment, levels=c('Original\\nlibrary', '-1 frame-\\nshifted'))) %>%\n",
    "    filter(treatment != 'Original\\nlibrary')"
   ]
  },
  {
   "cell_type": "code",
   "execution_count": null,
   "metadata": {
    "vscode": {
     "languageId": "plaintext"
    }
   },
   "outputs": [],
   "source": [
    "bind_rows(glc, frame, frames) %>%\n",
    "    filter(type == 'Destabilized\\ndiaa') %>%\n",
    "    mutate(treatment = ifelse(treatment == 'Glucose Deprivation', 'Glucose\\nDeprivation', treatment)) %>%\n",
    "    ggplot(aes(x = lfc_2, y = diaa,\n",
    "                  xmin = lfc_2 - lfc_sd, xmax = lfc_2 + lfc_sd,\n",
    "                  color=treatment\n",
    "                  )) +\n",
    "      geom_errorbar(width=0.3, size=0.3) +\n",
    "      geom_point(size=0.7) +\n",
    "      scale_color_manual(values=c('No Treatment'='black', \n",
    "                              'Glucose\\nDeprivation'='#009e73',\n",
    "                              '-1 frame-\\nshifted' = 'grey50',\n",
    "                              'Computational\\nframeshift' = \"#CC6666\")) +\n",
    "      theme +\n",
    "      theme(legend.position = \"top\",\n",
    "            legend.justification='left',\n",
    "            legend.margin=margin(0,0,0,0),\n",
    "            legend.box.margin=margin(-10,-5,-10,-8),\n",
    "            legend.spacing.x = unit(0.25, 'mm'),\n",
    "            panel.grid.major.y = element_line(color='grey', size=0.2),\n",
    "            axis.line.x = element_blank(),\n",
    "            axis.line.y = element_blank(),\n",
    "            axis.ticks.y = element_blank(),\n",
    "            # axis.text.x = element_text(angle=45, hjust=1, vjust=1)\n",
    "            ) +\n",
    "      labs(x = \"mRNA level (log2, arb. units)\", y = \"Amino Acid\",\n",
    "            color='')\n",
    "\n",
    "ggsave(\"../figures/wt_destabilized_diaa_all_conditions.pdf\", width=3.5, height=3)"
   ]
  },
  {
   "cell_type": "code",
   "execution_count": null,
   "metadata": {
    "vscode": {
     "languageId": "plaintext"
    }
   },
   "outputs": [],
   "source": [
    "bind_rows(glc, frame, frames) %>%\n",
    "    filter(diaa %in% c('LA', 'GP')) %>%\n",
    "    mutate(treatment = ifelse(treatment == 'Glucose Deprivation', 'Glucose\\nDeprivation', treatment)) %>%\n",
    "    ggplot(aes(x = lfc_2, y = diaa,\n",
    "                  xmin = lfc_2 - lfc_sd, xmax = lfc_2 + lfc_sd,\n",
    "                  color=treatment\n",
    "                  )) +\n",
    "      geom_errorbar(width=0.3, size=0.3) +\n",
    "      geom_point(size=0.7) +\n",
    "      scale_color_manual(values=c('No Treatment'='black', \n",
    "                              'Glucose\\nDeprivation'='#009e73',\n",
    "                              '-1 frame-\\nshifted' = 'grey50',\n",
    "                              'Computational\\nframeshift' = \"#CC6666\")) +\n",
    "      theme +\n",
    "      theme(legend.position = \"top\",\n",
    "            legend.justification='left',\n",
    "            legend.margin=margin(0,0,0,0),\n",
    "            legend.box.margin=margin(-10,-5,-10,-8),\n",
    "            legend.spacing.x = unit(0.25, 'mm'),\n",
    "            panel.grid.major.y = element_line(color='grey', size=0.2),\n",
    "            axis.line.x = element_blank(),\n",
    "            axis.line.y = element_blank(),\n",
    "            axis.ticks.y = element_blank(),\n",
    "            # axis.text.x = element_text(angle=45, hjust=1, vjust=1)\n",
    "            ) +\n",
    "      labs(x = \"mRNA level (log2, arb. units)\", y = \"Amino Acid\",\n",
    "            color='')\n",
    "\n",
    "ggsave(\"../figures/wt_la_gp_all_conditions.pdf\", width=3.5, height=1.4)"
   ]
  }
 ],
 "metadata": {
  "kernelspec": {
   "display_name": "R_project_repo_1.13.0",
   "language": "R",
   "name": "ir_project_repo_1.13.0"
  },
  "language_info": {
   "codemirror_mode": "r",
   "file_extension": ".r",
   "mimetype": "text/x-r-source",
   "name": "R",
   "pygments_lexer": "r",
   "version": "4.1.3"
  },
  "orig_nbformat": 4
 },
 "nbformat": 4,
 "nbformat_minor": 2
}
