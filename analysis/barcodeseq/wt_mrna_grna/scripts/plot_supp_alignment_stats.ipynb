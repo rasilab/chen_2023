{
 "cells": [
  {
   "attachments": {},
   "cell_type": "markdown",
   "metadata": {},
   "source": [
    "## Plot alignment statistics for WT 8xdicodon barcodeseq"
   ]
  },
  {
   "cell_type": "code",
   "execution_count": 56,
   "metadata": {
    "vscode": {
     "languageId": "r"
    }
   },
   "outputs": [],
   "source": [
    "suppressPackageStartupMessages(library(Biostrings))\n",
    "suppressPackageStartupMessages(library(tidyverse))\n",
    "suppressPackageStartupMessages(library(rasilabRtemplates))\n",
    "suppressPackageStartupMessages(library(boot))\n",
    "suppressPackageStartupMessages(library(readxl))\n",
    "suppressPackageStartupMessages(library(ggrepel))\n",
    "suppressPackageStartupMessages(library(gridExtra))\n",
    "\n",
    "barcode_reads_cutoff <- 10\n",
    "set.seed(1234)"
   ]
  },
  {
   "attachments": {},
   "cell_type": "markdown",
   "metadata": {},
   "source": [
    "### Global plotting themes"
   ]
  },
  {
   "cell_type": "code",
   "execution_count": 57,
   "metadata": {
    "vscode": {
     "languageId": "r"
    }
   },
   "outputs": [],
   "source": [
    "theme <- theme(\n",
    "        title = element_text(margin = margin(t=0, r=2, b=2, l=2), size=8),\n",
    "        axis.title.x = element_text(margin = margin(t=2, r=2, b=0, l=2), size=8),\n",
    "        axis.title.y = element_text(margin = margin(t=2, r=2, b=2, l=0), size=8),\n",
    "        text = element_text(size = 8),\n",
    "        legend.text=element_text(size=8),\n",
    "        axis.line.x=element_line(size=0.2),\n",
    "        axis.line.y=element_line(size=0.2),\n",
    "        axis.ticks.y =  element_line(size=0.2),\n",
    "        axis.ticks.x = element_line(size=0.2),\n",
    "        axis.text.x = element_text(size=8),\n",
    "        axis.text.y = element_text(size=8)\n",
    "        )"
   ]
  },
  {
   "cell_type": "code",
   "execution_count": 58,
   "metadata": {
    "vscode": {
     "languageId": "r"
    }
   },
   "outputs": [],
   "source": [
    "if (!file.exists('../figures')){\n",
    "    dir.create('../figures')\n",
    "}"
   ]
  },
  {
   "attachments": {},
   "cell_type": "markdown",
   "metadata": {},
   "source": [
    "### Load sample annotations and barcode counts"
   ]
  },
  {
   "cell_type": "code",
   "execution_count": 59,
   "metadata": {
    "vscode": {
     "languageId": "r"
    }
   },
   "outputs": [
    {
     "name": "stderr",
     "output_type": "stream",
     "text": [
      "\u001b[1mRows: \u001b[22m\u001b[34m2\u001b[39m \u001b[1mColumns: \u001b[22m\u001b[34m15\u001b[39m\n",
      "\u001b[36m──\u001b[39m \u001b[1mColumn specification\u001b[22m \u001b[36m────────────────────────────────────────────────────────\u001b[39m\n",
      "\u001b[1mDelimiter:\u001b[22m \",\"\n",
      "\u001b[31mchr\u001b[39m (12): owner, sample_type, sample_name, plasmid, library_type, illumina_s...\n",
      "\u001b[32mdbl\u001b[39m  (3): barcode_read, barcode_start, barcode_length\n",
      "\n",
      "\u001b[36mℹ\u001b[39m Use `spec()` to retrieve the full column specification for this data.\n",
      "\u001b[36mℹ\u001b[39m Specify the column types or set `show_col_types = FALSE` to quiet this message.\n"
     ]
    },
    {
     "data": {
      "text/html": [
       "<table class=\"dataframe\">\n",
       "<caption>A spec_tbl_df: 2 × 15</caption>\n",
       "<thead>\n",
       "\t<tr><th scope=col>owner</th><th scope=col>sample_type</th><th scope=col>sample_name</th><th scope=col>plasmid</th><th scope=col>library_type</th><th scope=col>illumina_sample_id</th><th scope=col>sample_id</th><th scope=col>barcode_read</th><th scope=col>barcode_start</th><th scope=col>barcode_length</th><th scope=col>linkage_ref</th><th scope=col>r1_file</th><th scope=col>r2_file</th><th scope=col>s3</th><th scope=col>shared</th></tr>\n",
       "\t<tr><th scope=col>&lt;chr&gt;</th><th scope=col>&lt;chr&gt;</th><th scope=col>&lt;chr&gt;</th><th scope=col>&lt;chr&gt;</th><th scope=col>&lt;chr&gt;</th><th scope=col>&lt;chr&gt;</th><th scope=col>&lt;chr&gt;</th><th scope=col>&lt;dbl&gt;</th><th scope=col>&lt;dbl&gt;</th><th scope=col>&lt;dbl&gt;</th><th scope=col>&lt;chr&gt;</th><th scope=col>&lt;chr&gt;</th><th scope=col>&lt;chr&gt;</th><th scope=col>&lt;chr&gt;</th><th scope=col>&lt;chr&gt;</th></tr>\n",
       "</thead>\n",
       "<tbody>\n",
       "\t<tr><td>kc</td><td>dicodon_yeast</td><td>wt_gdna</td><td>pHPSC1142</td><td>grna</td><td>51lib2</td><td>51lib2</td><td>1</td><td>1</td><td>24</td><td>yeast_cyto_linkage</td><td>kc_51lib2_S13_R1_001</td><td>kc_51lib2_S13_R2_001</td><td>fh-pi-subramaniam-a-eco/data/kchen/illumina/20220328_exp51_wt_8xdicodon/</td><td>/shared/ngs/illumina/subramaniam_lab/220328_VH00319_178_AAAYF3FM5/Unaligned/Project_subramaniam_lab/</td></tr>\n",
       "\t<tr><td>kc</td><td>dicodon_yeast</td><td>wt_mrna</td><td>pHPSC1142</td><td>mrna</td><td>51lib1</td><td>51lib1</td><td>1</td><td>1</td><td>24</td><td>yeast_cyto_linkage</td><td>kc_51lib1_S12_R1_001</td><td>kc_51lib1_S12_R2_001</td><td>fh-pi-subramaniam-a-eco/data/kchen/illumina/20220328_exp51_wt_8xdicodon/</td><td>/shared/ngs/illumina/subramaniam_lab/220328_VH00319_178_AAAYF3FM5/Unaligned/Project_subramaniam_lab/</td></tr>\n",
       "</tbody>\n",
       "</table>\n"
      ],
      "text/latex": [
       "A spec\\_tbl\\_df: 2 × 15\n",
       "\\begin{tabular}{lllllllllllllll}\n",
       " owner & sample\\_type & sample\\_name & plasmid & library\\_type & illumina\\_sample\\_id & sample\\_id & barcode\\_read & barcode\\_start & barcode\\_length & linkage\\_ref & r1\\_file & r2\\_file & s3 & shared\\\\\n",
       " <chr> & <chr> & <chr> & <chr> & <chr> & <chr> & <chr> & <dbl> & <dbl> & <dbl> & <chr> & <chr> & <chr> & <chr> & <chr>\\\\\n",
       "\\hline\n",
       "\t kc & dicodon\\_yeast & wt\\_gdna & pHPSC1142 & grna & 51lib2 & 51lib2 & 1 & 1 & 24 & yeast\\_cyto\\_linkage & kc\\_51lib2\\_S13\\_R1\\_001 & kc\\_51lib2\\_S13\\_R2\\_001 & fh-pi-subramaniam-a-eco/data/kchen/illumina/20220328\\_exp51\\_wt\\_8xdicodon/ & /shared/ngs/illumina/subramaniam\\_lab/220328\\_VH00319\\_178\\_AAAYF3FM5/Unaligned/Project\\_subramaniam\\_lab/\\\\\n",
       "\t kc & dicodon\\_yeast & wt\\_mrna & pHPSC1142 & mrna & 51lib1 & 51lib1 & 1 & 1 & 24 & yeast\\_cyto\\_linkage & kc\\_51lib1\\_S12\\_R1\\_001 & kc\\_51lib1\\_S12\\_R2\\_001 & fh-pi-subramaniam-a-eco/data/kchen/illumina/20220328\\_exp51\\_wt\\_8xdicodon/ & /shared/ngs/illumina/subramaniam\\_lab/220328\\_VH00319\\_178\\_AAAYF3FM5/Unaligned/Project\\_subramaniam\\_lab/\\\\\n",
       "\\end{tabular}\n"
      ],
      "text/markdown": [
       "\n",
       "A spec_tbl_df: 2 × 15\n",
       "\n",
       "| owner &lt;chr&gt; | sample_type &lt;chr&gt; | sample_name &lt;chr&gt; | plasmid &lt;chr&gt; | library_type &lt;chr&gt; | illumina_sample_id &lt;chr&gt; | sample_id &lt;chr&gt; | barcode_read &lt;dbl&gt; | barcode_start &lt;dbl&gt; | barcode_length &lt;dbl&gt; | linkage_ref &lt;chr&gt; | r1_file &lt;chr&gt; | r2_file &lt;chr&gt; | s3 &lt;chr&gt; | shared &lt;chr&gt; |\n",
       "|---|---|---|---|---|---|---|---|---|---|---|---|---|---|---|\n",
       "| kc | dicodon_yeast | wt_gdna | pHPSC1142 | grna | 51lib2 | 51lib2 | 1 | 1 | 24 | yeast_cyto_linkage | kc_51lib2_S13_R1_001 | kc_51lib2_S13_R2_001 | fh-pi-subramaniam-a-eco/data/kchen/illumina/20220328_exp51_wt_8xdicodon/ | /shared/ngs/illumina/subramaniam_lab/220328_VH00319_178_AAAYF3FM5/Unaligned/Project_subramaniam_lab/ |\n",
       "| kc | dicodon_yeast | wt_mrna | pHPSC1142 | mrna | 51lib1 | 51lib1 | 1 | 1 | 24 | yeast_cyto_linkage | kc_51lib1_S12_R1_001 | kc_51lib1_S12_R2_001 | fh-pi-subramaniam-a-eco/data/kchen/illumina/20220328_exp51_wt_8xdicodon/ | /shared/ngs/illumina/subramaniam_lab/220328_VH00319_178_AAAYF3FM5/Unaligned/Project_subramaniam_lab/ |\n",
       "\n"
      ],
      "text/plain": [
       "  owner sample_type   sample_name plasmid   library_type illumina_sample_id\n",
       "1 kc    dicodon_yeast wt_gdna     pHPSC1142 grna         51lib2            \n",
       "2 kc    dicodon_yeast wt_mrna     pHPSC1142 mrna         51lib1            \n",
       "  sample_id barcode_read barcode_start barcode_length linkage_ref       \n",
       "1 51lib2    1            1             24             yeast_cyto_linkage\n",
       "2 51lib1    1            1             24             yeast_cyto_linkage\n",
       "  r1_file              r2_file             \n",
       "1 kc_51lib2_S13_R1_001 kc_51lib2_S13_R2_001\n",
       "2 kc_51lib1_S12_R1_001 kc_51lib1_S12_R2_001\n",
       "  s3                                                                      \n",
       "1 fh-pi-subramaniam-a-eco/data/kchen/illumina/20220328_exp51_wt_8xdicodon/\n",
       "2 fh-pi-subramaniam-a-eco/data/kchen/illumina/20220328_exp51_wt_8xdicodon/\n",
       "  shared                                                                                              \n",
       "1 /shared/ngs/illumina/subramaniam_lab/220328_VH00319_178_AAAYF3FM5/Unaligned/Project_subramaniam_lab/\n",
       "2 /shared/ngs/illumina/subramaniam_lab/220328_VH00319_178_AAAYF3FM5/Unaligned/Project_subramaniam_lab/"
      ]
     },
     "metadata": {},
     "output_type": "display_data"
    }
   ],
   "source": [
    "sample_annotations = read_csv(\"../annotations/sample_annotations.csv\", comment='#')\n",
    "sample_annotations"
   ]
  },
  {
   "cell_type": "code",
   "execution_count": 60,
   "metadata": {
    "vscode": {
     "languageId": "r"
    }
   },
   "outputs": [
    {
     "name": "stderr",
     "output_type": "stream",
     "text": [
      "\u001b[1mRows: \u001b[22m\u001b[34m6000\u001b[39m \u001b[1mColumns: \u001b[22m\u001b[34m2\u001b[39m\n",
      "\u001b[36m──\u001b[39m \u001b[1mColumn specification\u001b[22m \u001b[36m────────────────────────────────────────────────────────\u001b[39m\n",
      "\u001b[1mDelimiter:\u001b[22m \",\"\n",
      "\u001b[31mchr\u001b[39m (1): insert\n",
      "\u001b[32mdbl\u001b[39m (1): insert_num\n",
      "\n",
      "\u001b[36mℹ\u001b[39m Use `spec()` to retrieve the full column specification for this data.\n",
      "\u001b[36mℹ\u001b[39m Specify the column types or set `show_col_types = FALSE` to quiet this message.\n"
     ]
    },
    {
     "name": "stdout",
     "output_type": "stream",
     "text": [
      "\u001b[90m# A tibble: 4,096 × 7\u001b[39m\n",
      "   insert_num dicodon diaa  codon1 codon2 aa1   aa2  \n",
      "        \u001b[3m\u001b[90m<dbl>\u001b[39m\u001b[23m \u001b[3m\u001b[90m<chr>\u001b[39m\u001b[23m   \u001b[3m\u001b[90m<chr>\u001b[39m\u001b[23m \u001b[3m\u001b[90m<chr>\u001b[39m\u001b[23m  \u001b[3m\u001b[90m<chr>\u001b[39m\u001b[23m  \u001b[3m\u001b[90m<chr>\u001b[39m\u001b[23m \u001b[3m\u001b[90m<chr>\u001b[39m\u001b[23m\n",
      "\u001b[90m 1\u001b[39m          0 AAAAAA  KK    AAA    AAA    K     K    \n",
      "\u001b[90m 2\u001b[39m          1 AAAAAC  KN    AAA    AAC    K     N    \n",
      "\u001b[90m 3\u001b[39m          2 AAAAAG  KK    AAA    AAG    K     K    \n",
      "\u001b[90m 4\u001b[39m          3 AAAAAT  KN    AAA    AAT    K     N    \n",
      "\u001b[90m 5\u001b[39m          4 AAAACA  KT    AAA    ACA    K     T    \n",
      "\u001b[90m 6\u001b[39m          5 AAAACC  KT    AAA    ACC    K     T    \n",
      "\u001b[90m 7\u001b[39m          6 AAAACG  KT    AAA    ACG    K     T    \n",
      "\u001b[90m 8\u001b[39m          7 AAAACT  KT    AAA    ACT    K     T    \n",
      "\u001b[90m 9\u001b[39m          8 AAAAGA  KR    AAA    AGA    K     R    \n",
      "\u001b[90m10\u001b[39m          9 AAAAGC  KS    AAA    AGC    K     S    \n",
      "\u001b[90m# … with 4,086 more rows\u001b[39m\n"
     ]
    }
   ],
   "source": [
    "insert_annotations = read_csv(\"../../8xdicodon_linkage/annotations/dicodon_yeast.csv\") %>%\n",
    "    mutate(dicodon = str_extract(insert, \"([ACTG]{6})(?=\\\\1{7})\")) %>%\n",
    "    drop_na(dicodon) %>% # drops the inserts that aren't dicodons in this case\n",
    "    mutate(diaa = as.character(translate(DNAStringSet(dicodon), no.init.codon = T))) %>%\n",
    "    mutate(codon1 = substr(dicodon, 1, 3), codon2 = substr(dicodon, 4, 6),\n",
    "         aa1 = substr(diaa, 1, 1), aa2 = substr(diaa, 2, 2)) %>%\n",
    "    select(-insert) %>%\n",
    "    print()"
   ]
  },
  {
   "cell_type": "code",
   "execution_count": 61,
   "metadata": {
    "vscode": {
     "languageId": "r"
    }
   },
   "outputs": [
    {
     "name": "stderr",
     "output_type": "stream",
     "text": [
      "\u001b[1mRows: \u001b[22m\u001b[34m197785\u001b[39m \u001b[1mColumns: \u001b[22m\u001b[34m5\u001b[39m\n",
      "\u001b[36m──\u001b[39m \u001b[1mColumn specification\u001b[22m \u001b[36m────────────────────────────────────────────────────────\u001b[39m\n",
      "\u001b[1mDelimiter:\u001b[22m \",\"\n",
      "\u001b[31mchr\u001b[39m (4): barcode_count, insert_num, barcode, linkage_count\n",
      "\u001b[32mdbl\u001b[39m (1): barcode_num\n",
      "\n",
      "\u001b[36mℹ\u001b[39m Use `spec()` to retrieve the full column specification for this data.\n",
      "\u001b[36mℹ\u001b[39m Specify the column types or set `show_col_types = FALSE` to quiet this message.\n",
      "\u001b[1mRows: \u001b[22m\u001b[34m172594\u001b[39m \u001b[1mColumns: \u001b[22m\u001b[34m5\u001b[39m\n",
      "\u001b[36m──\u001b[39m \u001b[1mColumn specification\u001b[22m \u001b[36m────────────────────────────────────────────────────────\u001b[39m\n",
      "\u001b[1mDelimiter:\u001b[22m \",\"\n",
      "\u001b[31mchr\u001b[39m (4): barcode_count, insert_num, barcode, linkage_count\n",
      "\u001b[32mdbl\u001b[39m (1): barcode_num\n",
      "\n",
      "\u001b[36mℹ\u001b[39m Use `spec()` to retrieve the full column specification for this data.\n",
      "\u001b[36mℹ\u001b[39m Specify the column types or set `show_col_types = FALSE` to quiet this message.\n",
      "Warning message:\n",
      "“`cols` is now required when using unnest().\n",
      "Please use `cols = c(counts)`”\n",
      "Warning message in mask$eval_all_mutate(quo):\n",
      "“NAs introduced by coercion”\n",
      "Warning message in mask$eval_all_mutate(quo):\n",
      "“NAs introduced by coercion”\n"
     ]
    }
   ],
   "source": [
    "barcode_counts <- list.files(\"../data/linked_barcode_counts/\", pattern = \".csv$\", full.names = T) %>% \n",
    "  enframe(\"sno\", \"file\") %>% \n",
    "  mutate(counts = map(file, read_csv)) %>% \n",
    "  mutate(sample_name = str_extract(file, \"[^/]+(?=.csv)\")) %>% \n",
    "  select(-sno, -file) %>% \n",
    "  unnest() %>% \n",
    "  mutate(insert_num = as.numeric(str_extract(insert_num, \"[:digit:]+\"))) %>%\n",
    "  mutate(barcode_count = as.numeric(barcode_count)) %>%\n",
    "  mutate(linkage_count = as.numeric(linkage_count))"
   ]
  },
  {
   "attachments": {},
   "cell_type": "markdown",
   "metadata": {},
   "source": [
    "### Load linkages and annotations"
   ]
  },
  {
   "cell_type": "code",
   "execution_count": 62,
   "metadata": {
    "vscode": {
     "languageId": "r"
    }
   },
   "outputs": [
    {
     "name": "stderr",
     "output_type": "stream",
     "text": [
      "\u001b[1mRows: \u001b[22m\u001b[34m2455063\u001b[39m \u001b[1mColumns: \u001b[22m\u001b[34m4\u001b[39m\n",
      "\u001b[36m──\u001b[39m \u001b[1mColumn specification\u001b[22m \u001b[36m────────────────────────────────────────────────────────\u001b[39m\n",
      "\u001b[1mDelimiter:\u001b[22m \",\"\n",
      "\u001b[31mchr\u001b[39m (3): insert_num, barcode, linkage_count\n",
      "\u001b[32mdbl\u001b[39m (1): barcode_num\n",
      "\n",
      "\u001b[36mℹ\u001b[39m Use `spec()` to retrieve the full column specification for this data.\n",
      "\u001b[36mℹ\u001b[39m Specify the column types or set `show_col_types = FALSE` to quiet this message.\n",
      "Warning message in mask$eval_all_mutate(quo):\n",
      "“NAs introduced by coercion”\n"
     ]
    },
    {
     "data": {
      "text/html": [
       "<table class=\"dataframe\">\n",
       "<caption>A tibble: 6 × 5</caption>\n",
       "<thead>\n",
       "\t<tr><th scope=col>insert_num</th><th scope=col>barcode_num</th><th scope=col>barcode</th><th scope=col>linkage_count</th><th scope=col>linkage_ref</th></tr>\n",
       "\t<tr><th scope=col>&lt;dbl&gt;</th><th scope=col>&lt;dbl&gt;</th><th scope=col>&lt;chr&gt;</th><th scope=col>&lt;dbl&gt;</th><th scope=col>&lt;chr&gt;</th></tr>\n",
       "</thead>\n",
       "<tbody>\n",
       "\t<tr><td>  NA</td><td>1</td><td>barcode                 </td><td>NA</td><td>yeast_cyto_linkage</td></tr>\n",
       "\t<tr><td>4457</td><td>2</td><td>GGGCTTAAGAAGATCCTTGTCAGG</td><td>99</td><td>yeast_cyto_linkage</td></tr>\n",
       "\t<tr><td>4123</td><td>3</td><td>TAGCACATTTCCTCTGGGGTTCGT</td><td>99</td><td>yeast_cyto_linkage</td></tr>\n",
       "\t<tr><td>4793</td><td>4</td><td>TACTGTTTTGCTCGTGGCGTTTAT</td><td>99</td><td>yeast_cyto_linkage</td></tr>\n",
       "\t<tr><td> 180</td><td>5</td><td>GAGAGGTGGATCGCGCACAGCAAG</td><td>99</td><td>yeast_cyto_linkage</td></tr>\n",
       "\t<tr><td>4969</td><td>6</td><td>GGGGTGTATAGGACCGGCCAGTCT</td><td>99</td><td>yeast_cyto_linkage</td></tr>\n",
       "</tbody>\n",
       "</table>\n"
      ],
      "text/latex": [
       "A tibble: 6 × 5\n",
       "\\begin{tabular}{lllll}\n",
       " insert\\_num & barcode\\_num & barcode & linkage\\_count & linkage\\_ref\\\\\n",
       " <dbl> & <dbl> & <chr> & <dbl> & <chr>\\\\\n",
       "\\hline\n",
       "\t   NA & 1 & barcode                  & NA & yeast\\_cyto\\_linkage\\\\\n",
       "\t 4457 & 2 & GGGCTTAAGAAGATCCTTGTCAGG & 99 & yeast\\_cyto\\_linkage\\\\\n",
       "\t 4123 & 3 & TAGCACATTTCCTCTGGGGTTCGT & 99 & yeast\\_cyto\\_linkage\\\\\n",
       "\t 4793 & 4 & TACTGTTTTGCTCGTGGCGTTTAT & 99 & yeast\\_cyto\\_linkage\\\\\n",
       "\t  180 & 5 & GAGAGGTGGATCGCGCACAGCAAG & 99 & yeast\\_cyto\\_linkage\\\\\n",
       "\t 4969 & 6 & GGGGTGTATAGGACCGGCCAGTCT & 99 & yeast\\_cyto\\_linkage\\\\\n",
       "\\end{tabular}\n"
      ],
      "text/markdown": [
       "\n",
       "A tibble: 6 × 5\n",
       "\n",
       "| insert_num &lt;dbl&gt; | barcode_num &lt;dbl&gt; | barcode &lt;chr&gt; | linkage_count &lt;dbl&gt; | linkage_ref &lt;chr&gt; |\n",
       "|---|---|---|---|---|\n",
       "|   NA | 1 | barcode                  | NA | yeast_cyto_linkage |\n",
       "| 4457 | 2 | GGGCTTAAGAAGATCCTTGTCAGG | 99 | yeast_cyto_linkage |\n",
       "| 4123 | 3 | TAGCACATTTCCTCTGGGGTTCGT | 99 | yeast_cyto_linkage |\n",
       "| 4793 | 4 | TACTGTTTTGCTCGTGGCGTTTAT | 99 | yeast_cyto_linkage |\n",
       "|  180 | 5 | GAGAGGTGGATCGCGCACAGCAAG | 99 | yeast_cyto_linkage |\n",
       "| 4969 | 6 | GGGGTGTATAGGACCGGCCAGTCT | 99 | yeast_cyto_linkage |\n",
       "\n"
      ],
      "text/plain": [
       "  insert_num barcode_num barcode                  linkage_count\n",
       "1   NA       1           barcode                  NA           \n",
       "2 4457       2           GGGCTTAAGAAGATCCTTGTCAGG 99           \n",
       "3 4123       3           TAGCACATTTCCTCTGGGGTTCGT 99           \n",
       "4 4793       4           TACTGTTTTGCTCGTGGCGTTTAT 99           \n",
       "5  180       5           GAGAGGTGGATCGCGCACAGCAAG 99           \n",
       "6 4969       6           GGGGTGTATAGGACCGGCCAGTCT 99           \n",
       "  linkage_ref       \n",
       "1 yeast_cyto_linkage\n",
       "2 yeast_cyto_linkage\n",
       "3 yeast_cyto_linkage\n",
       "4 yeast_cyto_linkage\n",
       "5 yeast_cyto_linkage\n",
       "6 yeast_cyto_linkage"
      ]
     },
     "metadata": {},
     "output_type": "display_data"
    }
   ],
   "source": [
    "insert_barcode_linkages <- read_csv(\"../../8xdicodon_linkage/data/filtered_barcodes/yeast_cyto_linkage.csv\") %>%\n",
    "  mutate(insert_num = as.numeric(str_extract(insert_num, \"[:digit:]+\"))) %>%\n",
    "  mutate(linkage_count = as.numeric(linkage_count)) %>%\n",
    "  mutate(linkage_ref = 'yeast_cyto_linkage')\n",
    "\n",
    "head(insert_barcode_linkages)"
   ]
  },
  {
   "cell_type": "code",
   "execution_count": 63,
   "metadata": {
    "vscode": {
     "languageId": "r"
    }
   },
   "outputs": [
    {
     "name": "stderr",
     "output_type": "stream",
     "text": [
      "\u001b[1mRows: \u001b[22m\u001b[34m6000\u001b[39m \u001b[1mColumns: \u001b[22m\u001b[34m2\u001b[39m\n",
      "\u001b[36m──\u001b[39m \u001b[1mColumn specification\u001b[22m \u001b[36m────────────────────────────────────────────────────────\u001b[39m\n",
      "\u001b[1mDelimiter:\u001b[22m \",\"\n",
      "\u001b[31mchr\u001b[39m (1): insert\n",
      "\u001b[32mdbl\u001b[39m (1): insert_num\n",
      "\n",
      "\u001b[36mℹ\u001b[39m Use `spec()` to retrieve the full column specification for this data.\n",
      "\u001b[36mℹ\u001b[39m Specify the column types or set `show_col_types = FALSE` to quiet this message.\n"
     ]
    },
    {
     "name": "stdout",
     "output_type": "stream",
     "text": [
      "\u001b[90m# A tibble: 4,096 × 7\u001b[39m\n",
      "   insert_num dicodon diaa  codon1 codon2 aa1   aa2  \n",
      "        \u001b[3m\u001b[90m<dbl>\u001b[39m\u001b[23m \u001b[3m\u001b[90m<chr>\u001b[39m\u001b[23m   \u001b[3m\u001b[90m<chr>\u001b[39m\u001b[23m \u001b[3m\u001b[90m<chr>\u001b[39m\u001b[23m  \u001b[3m\u001b[90m<chr>\u001b[39m\u001b[23m  \u001b[3m\u001b[90m<chr>\u001b[39m\u001b[23m \u001b[3m\u001b[90m<chr>\u001b[39m\u001b[23m\n",
      "\u001b[90m 1\u001b[39m          0 AAAAAA  KK    AAA    AAA    K     K    \n",
      "\u001b[90m 2\u001b[39m          1 AAAAAC  KN    AAA    AAC    K     N    \n",
      "\u001b[90m 3\u001b[39m          2 AAAAAG  KK    AAA    AAG    K     K    \n",
      "\u001b[90m 4\u001b[39m          3 AAAAAT  KN    AAA    AAT    K     N    \n",
      "\u001b[90m 5\u001b[39m          4 AAAACA  KT    AAA    ACA    K     T    \n",
      "\u001b[90m 6\u001b[39m          5 AAAACC  KT    AAA    ACC    K     T    \n",
      "\u001b[90m 7\u001b[39m          6 AAAACG  KT    AAA    ACG    K     T    \n",
      "\u001b[90m 8\u001b[39m          7 AAAACT  KT    AAA    ACT    K     T    \n",
      "\u001b[90m 9\u001b[39m          8 AAAAGA  KR    AAA    AGA    K     R    \n",
      "\u001b[90m10\u001b[39m          9 AAAAGC  KS    AAA    AGC    K     S    \n",
      "\u001b[90m# … with 4,086 more rows\u001b[39m\n"
     ]
    }
   ],
   "source": [
    "insert_annotations = read_csv(\"../../8xdicodon_linkage/annotations/dicodon_yeast.csv\") %>%\n",
    "    mutate(dicodon = str_extract(insert, \"([ACTG]{6})(?=\\\\1{7})\")) %>%\n",
    "    drop_na(dicodon) %>% # drops the inserts that aren't dicodons in this case\n",
    "    mutate(diaa = as.character(translate(DNAStringSet(dicodon), no.init.codon = T))) %>%\n",
    "    mutate(codon1 = substr(dicodon, 1, 3), codon2 = substr(dicodon, 4, 6),\n",
    "         aa1 = substr(diaa, 1, 1), aa2 = substr(diaa, 2, 2)) %>%\n",
    "    select(-insert) %>%\n",
    "    print()"
   ]
  },
  {
   "cell_type": "code",
   "execution_count": 64,
   "metadata": {
    "vscode": {
     "languageId": "r"
    }
   },
   "outputs": [
    {
     "data": {
      "text/html": [
       "<table class=\"dataframe\">\n",
       "<caption>A tibble: 6 × 7</caption>\n",
       "<thead>\n",
       "\t<tr><th scope=col>barcode_count</th><th scope=col>insert_num</th><th scope=col>barcode_num</th><th scope=col>barcode</th><th scope=col>linkage_count</th><th scope=col>sample_name</th><th scope=col>linkage_ref</th></tr>\n",
       "\t<tr><th scope=col>&lt;dbl&gt;</th><th scope=col>&lt;dbl&gt;</th><th scope=col>&lt;dbl&gt;</th><th scope=col>&lt;chr&gt;</th><th scope=col>&lt;dbl&gt;</th><th scope=col>&lt;chr&gt;</th><th scope=col>&lt;chr&gt;</th></tr>\n",
       "</thead>\n",
       "<tbody>\n",
       "\t<tr><td>4871</td><td> 186</td><td>1643847</td><td>AGTCGTTGTAGCAACTCGATGTTT</td><td>16</td><td>wt_gdna</td><td>yeast_cyto_linkage</td></tr>\n",
       "\t<tr><td>4653</td><td>5658</td><td>1596380</td><td>CTGGATGTCGCGAGCAACAACAGC</td><td>17</td><td>wt_gdna</td><td>yeast_cyto_linkage</td></tr>\n",
       "\t<tr><td>3823</td><td>5810</td><td> 764917</td><td>TGTATTCGGGCCAGCATGAGGTGC</td><td> 4</td><td>wt_gdna</td><td>yeast_cyto_linkage</td></tr>\n",
       "\t<tr><td>3656</td><td>2787</td><td>1040412</td><td>AGCGATTAGAGCATTTCTGGCCAC</td><td> 3</td><td>wt_gdna</td><td>yeast_cyto_linkage</td></tr>\n",
       "\t<tr><td>3577</td><td> 203</td><td>1644177</td><td>TGGGATCTTTTCGCGTATTCGGTT</td><td>16</td><td>wt_gdna</td><td>yeast_cyto_linkage</td></tr>\n",
       "\t<tr><td>3497</td><td>4868</td><td> 692986</td><td>TCGCTCCGTGTCGTGTCTCCTATG</td><td> 4</td><td>wt_gdna</td><td>yeast_cyto_linkage</td></tr>\n",
       "</tbody>\n",
       "</table>\n"
      ],
      "text/latex": [
       "A tibble: 6 × 7\n",
       "\\begin{tabular}{lllllll}\n",
       " barcode\\_count & insert\\_num & barcode\\_num & barcode & linkage\\_count & sample\\_name & linkage\\_ref\\\\\n",
       " <dbl> & <dbl> & <dbl> & <chr> & <dbl> & <chr> & <chr>\\\\\n",
       "\\hline\n",
       "\t 4871 &  186 & 1643847 & AGTCGTTGTAGCAACTCGATGTTT & 16 & wt\\_gdna & yeast\\_cyto\\_linkage\\\\\n",
       "\t 4653 & 5658 & 1596380 & CTGGATGTCGCGAGCAACAACAGC & 17 & wt\\_gdna & yeast\\_cyto\\_linkage\\\\\n",
       "\t 3823 & 5810 &  764917 & TGTATTCGGGCCAGCATGAGGTGC &  4 & wt\\_gdna & yeast\\_cyto\\_linkage\\\\\n",
       "\t 3656 & 2787 & 1040412 & AGCGATTAGAGCATTTCTGGCCAC &  3 & wt\\_gdna & yeast\\_cyto\\_linkage\\\\\n",
       "\t 3577 &  203 & 1644177 & TGGGATCTTTTCGCGTATTCGGTT & 16 & wt\\_gdna & yeast\\_cyto\\_linkage\\\\\n",
       "\t 3497 & 4868 &  692986 & TCGCTCCGTGTCGTGTCTCCTATG &  4 & wt\\_gdna & yeast\\_cyto\\_linkage\\\\\n",
       "\\end{tabular}\n"
      ],
      "text/markdown": [
       "\n",
       "A tibble: 6 × 7\n",
       "\n",
       "| barcode_count &lt;dbl&gt; | insert_num &lt;dbl&gt; | barcode_num &lt;dbl&gt; | barcode &lt;chr&gt; | linkage_count &lt;dbl&gt; | sample_name &lt;chr&gt; | linkage_ref &lt;chr&gt; |\n",
       "|---|---|---|---|---|---|---|\n",
       "| 4871 |  186 | 1643847 | AGTCGTTGTAGCAACTCGATGTTT | 16 | wt_gdna | yeast_cyto_linkage |\n",
       "| 4653 | 5658 | 1596380 | CTGGATGTCGCGAGCAACAACAGC | 17 | wt_gdna | yeast_cyto_linkage |\n",
       "| 3823 | 5810 |  764917 | TGTATTCGGGCCAGCATGAGGTGC |  4 | wt_gdna | yeast_cyto_linkage |\n",
       "| 3656 | 2787 | 1040412 | AGCGATTAGAGCATTTCTGGCCAC |  3 | wt_gdna | yeast_cyto_linkage |\n",
       "| 3577 |  203 | 1644177 | TGGGATCTTTTCGCGTATTCGGTT | 16 | wt_gdna | yeast_cyto_linkage |\n",
       "| 3497 | 4868 |  692986 | TCGCTCCGTGTCGTGTCTCCTATG |  4 | wt_gdna | yeast_cyto_linkage |\n",
       "\n"
      ],
      "text/plain": [
       "  barcode_count insert_num barcode_num barcode                  linkage_count\n",
       "1 4871           186       1643847     AGTCGTTGTAGCAACTCGATGTTT 16           \n",
       "2 4653          5658       1596380     CTGGATGTCGCGAGCAACAACAGC 17           \n",
       "3 3823          5810        764917     TGTATTCGGGCCAGCATGAGGTGC  4           \n",
       "4 3656          2787       1040412     AGCGATTAGAGCATTTCTGGCCAC  3           \n",
       "5 3577           203       1644177     TGGGATCTTTTCGCGTATTCGGTT 16           \n",
       "6 3497          4868        692986     TCGCTCCGTGTCGTGTCTCCTATG  4           \n",
       "  sample_name linkage_ref       \n",
       "1 wt_gdna     yeast_cyto_linkage\n",
       "2 wt_gdna     yeast_cyto_linkage\n",
       "3 wt_gdna     yeast_cyto_linkage\n",
       "4 wt_gdna     yeast_cyto_linkage\n",
       "5 wt_gdna     yeast_cyto_linkage\n",
       "6 wt_gdna     yeast_cyto_linkage"
      ]
     },
     "metadata": {},
     "output_type": "display_data"
    }
   ],
   "source": [
    "barcode_insert_counts <- barcode_counts %>% \n",
    "  left_join(select(sample_annotations, c(sample_id, sample_name)), by = \"sample_name\") %>%\n",
    "  left_join(insert_barcode_linkages, by = c(\"barcode_num\", \"barcode\", \"insert_num\", \"linkage_count\")) %>%\n",
    "  drop_na(barcode_count) %>%\n",
    "  select(-sample_id)\n",
    "\n",
    "head(barcode_insert_counts)"
   ]
  },
  {
   "attachments": {},
   "cell_type": "markdown",
   "metadata": {},
   "source": [
    "### Plot CDF reads per barcode"
   ]
  },
  {
   "cell_type": "code",
   "execution_count": 66,
   "metadata": {
    "vscode": {
     "languageId": "r"
    }
   },
   "outputs": [],
   "source": [
    "linkage <- insert_barcode_linkages %>%\n",
    "    inner_join(insert_annotations, by='insert_num') %>%\n",
    "    dplyr::rename(count=linkage_count) %>%\n",
    "    select(insert_num, barcode_num, barcode, count) %>%\n",
    "    mutate(library_type = 'plasmid')"
   ]
  },
  {
   "cell_type": "code",
   "execution_count": 67,
   "metadata": {
    "vscode": {
     "languageId": "r"
    }
   },
   "outputs": [],
   "source": [
    "dicodon_barcode_counts <- barcode_insert_counts %>%\n",
    "    inner_join(insert_annotations, by='insert_num') %>%\n",
    "    mutate(genotype = str_extract(sample_name, '^[^_]+')) %>%\n",
    "    mutate(library_type = str_extract(sample_name, '[^_]+$')) %>%\n",
    "    dplyr::rename(count=barcode_count) %>%\n",
    "    mutate(library_type = ifelse(library_type == 'gdna', 'genomic DNA', 'cDNA')) %>%\n",
    "    select(insert_num, barcode_num, barcode, count, library_type) %>%\n",
    "    bind_rows(linkage)"
   ]
  },
  {
   "attachments": {},
   "cell_type": "markdown",
   "metadata": {},
   "source": [
    "### Plot CDF barcodes per insert"
   ]
  },
  {
   "cell_type": "code",
   "execution_count": 68,
   "metadata": {
    "vscode": {
     "languageId": "r"
    }
   },
   "outputs": [
    {
     "name": "stderr",
     "output_type": "stream",
     "text": [
      "\u001b[1m\u001b[22m`summarise()` has grouped output by 'library_type'. You can override using the\n",
      "`.groups` argument.\n"
     ]
    },
    {
     "data": {
      "image/png": "[encoded data removed]",
      "text/plain": [
       "plot without title"
      ]
     },
     "metadata": {
      "image/png": {
       "height": 180,
       "width": 240
      }
     },
     "output_type": "display_data"
    }
   ],
   "source": [
    "dicodon_barcode_counts %>%\n",
    "    filter(count > 10) %>%\n",
    "    group_by(library_type, insert_num) %>%\n",
    "    summarize(n_barcodes = n()) %>%\n",
    "    arrange(desc(n_barcodes)) %>%\n",
    "    mutate(xaxis = (1:dplyr::n())/1000) %>%\n",
    "    ggplot() +\n",
    "    aes(x=xaxis, y=n_barcodes, color=library_type) + \n",
    "    geom_line(size=0.2) +\n",
    "    scale_y_log10(\n",
    "    breaks = scales::trans_breaks(\"log10\", n=4, function(x) 10^x),\n",
    "    labels = scales::trans_format(\"log10\", scales::math_format(10^.x))\n",
    "    ) +\n",
    "    scale_x_continuous(breaks=seq(0,4,1), limits=c(0,4.5)) +\n",
    "    theme +\n",
    "    theme(\n",
    "        legend.position = \"top\",\n",
    "        legend.justification='left',\n",
    "        legend.box.margin=margin(-12,-12,-12,-12),\n",
    "        legend.key.width = unit(0.4, \"line\"),\n",
    "        ) +\n",
    "    labs(x='Insert number', y='Barcode count (log10)', color='')\n",
    "\n",
    "ggsave(\"../figures/sfig1_cdf_barcodes_per_insert.pdf\", width=2, height=2)"
   ]
  },
  {
   "cell_type": "code",
   "execution_count": 76,
   "metadata": {
    "vscode": {
     "languageId": "r"
    }
   },
   "outputs": [
    {
     "data": {
      "text/html": [
       "<table class=\"dataframe\">\n",
       "<caption>A tibble: 1 × 3</caption>\n",
       "<thead>\n",
       "\t<tr><th scope=col>insert_num</th><th scope=col>n</th><th scope=col>median(n)</th></tr>\n",
       "\t<tr><th scope=col>&lt;dbl&gt;</th><th scope=col>&lt;int&gt;</th><th scope=col>&lt;dbl&gt;</th></tr>\n",
       "</thead>\n",
       "<tbody>\n",
       "\t<tr><td>0</td><td>35</td><td>382</td></tr>\n",
       "</tbody>\n",
       "</table>\n"
      ],
      "text/latex": [
       "A tibble: 1 × 3\n",
       "\\begin{tabular}{lll}\n",
       " insert\\_num & n & median(n)\\\\\n",
       " <dbl> & <int> & <dbl>\\\\\n",
       "\\hline\n",
       "\t 0 & 35 & 382\\\\\n",
       "\\end{tabular}\n"
      ],
      "text/markdown": [
       "\n",
       "A tibble: 1 × 3\n",
       "\n",
       "| insert_num &lt;dbl&gt; | n &lt;int&gt; | median(n) &lt;dbl&gt; |\n",
       "|---|---|---|\n",
       "| 0 | 35 | 382 |\n",
       "\n"
      ],
      "text/plain": [
       "  insert_num n  median(n)\n",
       "1 0          35 382      "
      ]
     },
     "metadata": {},
     "output_type": "display_data"
    },
    {
     "data": {
      "text/html": [
       "<table class=\"dataframe\">\n",
       "<caption>A tibble: 1 × 3</caption>\n",
       "<thead>\n",
       "\t<tr><th scope=col>insert_num</th><th scope=col>n</th><th scope=col>median(n)</th></tr>\n",
       "\t<tr><th scope=col>&lt;dbl&gt;</th><th scope=col>&lt;int&gt;</th><th scope=col>&lt;dbl&gt;</th></tr>\n",
       "</thead>\n",
       "<tbody>\n",
       "\t<tr><td>1</td><td>112</td><td>162</td></tr>\n",
       "</tbody>\n",
       "</table>\n"
      ],
      "text/latex": [
       "A tibble: 1 × 3\n",
       "\\begin{tabular}{lll}\n",
       " insert\\_num & n & median(n)\\\\\n",
       " <dbl> & <int> & <dbl>\\\\\n",
       "\\hline\n",
       "\t 1 & 112 & 162\\\\\n",
       "\\end{tabular}\n"
      ],
      "text/markdown": [
       "\n",
       "A tibble: 1 × 3\n",
       "\n",
       "| insert_num &lt;dbl&gt; | n &lt;int&gt; | median(n) &lt;dbl&gt; |\n",
       "|---|---|---|\n",
       "| 1 | 112 | 162 |\n",
       "\n"
      ],
      "text/plain": [
       "  insert_num n   median(n)\n",
       "1 1          112 162      "
      ]
     },
     "metadata": {},
     "output_type": "display_data"
    }
   ],
   "source": [
    "linkage %>%\n",
    "    group_by(insert_num) %>%\n",
    "    summarize(n=n(), .groups='drop') %>%\n",
    "    mutate(median(n)) %>%\n",
    "    slice(1) %>%\n",
    "    select(-insert_num)\n",
    "\n",
    "linkage %>%\n",
    "    filter(count >= 10) %>%\n",
    "    group_by(insert_num) %>%\n",
    "    summarize(n=n(), .groups='drop') %>%\n",
    "    mutate(median(n)) %>%\n",
    "    slice(1) %>%\n",
    "    select(-insert_num)"
   ]
  },
  {
   "attachments": {},
   "cell_type": "markdown",
   "metadata": {
    "vscode": {
     "languageId": "r"
    }
   },
   "source": [
    "### Plot mRNA levels of selected dicodons from full library"
   ]
  },
  {
   "cell_type": "code",
   "execution_count": 15,
   "metadata": {
    "vscode": {
     "languageId": "r"
    }
   },
   "outputs": [],
   "source": [
    "wt_dicodon_nocutoffs <- barcode_counts %>%\n",
    "    mutate(sample_type = str_extract(sample_name, '[^_]+$')) %>%\n",
    "    mutate(sample_name = str_extract(sample_name, '[^_]+')) %>%\n",
    "    filter(sample_name == 'wt') %>%\n",
    "    inner_join(insert_annotations, by='insert_num') %>%\n",
    "    select(-barcode, -aa1, -aa2, -codon1, -codon2) %>%\n",
    "    pivot_wider(names_from='sample_type', values_from=c(barcode_count)) %>%\n",
    "    drop_na()"
   ]
  },
  {
   "cell_type": "code",
   "execution_count": 16,
   "metadata": {
    "vscode": {
     "languageId": "r"
    }
   },
   "outputs": [],
   "source": [
    "calc_lfc_bootstrap <- function(data, indices) {\n",
    "  d <- data[indices,]\n",
    "  log2(sum(d$mrna)) - log2(sum(d$gdna))\n",
    "}\n",
    "\n",
    "wt_bootstrap_dicodon_nocutoffs <- wt_dicodon_nocutoffs %>%\n",
    "  group_by(dicodon) %>%\n",
    "  nest() %>%\n",
    "  mutate(lfc_boot = map(data, function(df) boot::boot(data=df, statistic=calc_lfc_bootstrap, R=100)$t)) %>%\n",
    "  select(-data) %>%\n",
    "  mutate(lfc = map_dbl(lfc_boot, mean)) %>%\n",
    "  mutate(lfc_sd = map_dbl(lfc_boot, sd)) %>%\n",
    "  select(-lfc_boot) %>%\n",
    "  ungroup() %>%\n",
    "  mutate(lfc_med = lfc - median(lfc)) %>%\n",
    "  inner_join(insert_annotations, by = \"dicodon\") %>%\n",
    "  mutate(strain = 'wt')"
   ]
  },
  {
   "cell_type": "code",
   "execution_count": 18,
   "metadata": {
    "vscode": {
     "languageId": "r"
    }
   },
   "outputs": [
    {
     "data": {
      "image/png": "[encoded data removed]",
      "text/plain": [
       "plot without title"
      ]
     },
     "metadata": {
      "image/png": {
       "height": 90,
       "width": 96
      }
     },
     "output_type": "display_data"
    }
   ],
   "source": [
    "options(repr.plot.width = 1.6, repr.plot.height = 1.5)\n",
    "\n",
    "order <- c(\"AAGGGA (KG)\", \"GTGAAA (VK)\", \"AAAGTG (KV)\", \"TTAAGT (LS)\", \"TTTAAG (FK)\", \"AAGAAG (KK)\")\n",
    "\n",
    "wt_bootstrap_dicodon_nocutoffs %>%\n",
    "    mutate(name = str_c(dicodon, ' (', diaa, ')')) %>%\n",
    "    filter(name %in% order) %>%\n",
    "    mutate(codon = factor(name, level=order)) %>%\n",
    "    ggplot(aes(x = lfc_med, y = codon,\n",
    "             xmin = lfc_med - lfc_sd, xmax = lfc_med + lfc_sd)) +\n",
    "    geom_errorbar(width=0.3, size=0.2) +\n",
    "    geom_point(size=0.8) +\n",
    "    geom_vline(xintercept=0, color='grey', size=0.1, linetype=2) +\n",
    "    scale_color_manual(values='black') +\n",
    "    scale_x_continuous(breaks=seq(-1.5, 0.5, 0.5), limits=c(-1.7, 0.5)) +\n",
    "    theme + \n",
    "    theme(\n",
    "        axis.line = element_blank(),\n",
    "        axis.line.x = element_blank(),\n",
    "        axis.line.y = element_blank(),\n",
    "        axis.ticks.y = element_blank(),\n",
    "        axis.ticks.x = element_line(size=0.1),\n",
    "        panel.grid.major.y = element_line(color='grey', size=0.2),\n",
    "        legend.text=element_blank(),\n",
    "        axis.text.x = element_text(size=7),\n",
    "        ) +\n",
    "    labs(x = \"mRNA level (log2, a.u.)\", y = \"Codon pair\", subtitle='Full library')\n",
    "\n",
    "ggsave(\"../figures/sfig2_select_targeted_dicodon_effects_in_full_lib.pdf\",  width=2.2, height=1.8)"
   ]
  },
  {
   "attachments": {},
   "cell_type": "markdown",
   "metadata": {},
   "source": [
    "### Plot GC content"
   ]
  },
  {
   "cell_type": "code",
   "execution_count": 19,
   "metadata": {
    "vscode": {
     "languageId": "r"
    }
   },
   "outputs": [
    {
     "name": "stderr",
     "output_type": "stream",
     "text": [
      "\u001b[1mRows: \u001b[22m\u001b[34m6000\u001b[39m \u001b[1mColumns: \u001b[22m\u001b[34m2\u001b[39m\n",
      "\u001b[36m──\u001b[39m \u001b[1mColumn specification\u001b[22m \u001b[36m────────────────────────────────────────────────────────\u001b[39m\n",
      "\u001b[1mDelimiter:\u001b[22m \",\"\n",
      "\u001b[31mchr\u001b[39m (1): insert\n",
      "\u001b[32mdbl\u001b[39m (1): insert_num\n",
      "\n",
      "\u001b[36mℹ\u001b[39m Use `spec()` to retrieve the full column specification for this data.\n",
      "\u001b[36mℹ\u001b[39m Specify the column types or set `show_col_types = FALSE` to quiet this message.\n"
     ]
    }
   ],
   "source": [
    "insert_annotations_gc <- read_csv(\"../../8xdicodon_linkage/annotations/dicodon_yeast.csv\") %>% \n",
    "  mutate(dicodon = str_extract(insert, \"([ACTG]{6})(?=\\\\1{7})\")) %>% \n",
    "  # calculate gc3\n",
    "  bind_cols(DNAStringSet(.$insert) %>% \n",
    "              subseq(start=3) %>% \n",
    "              oligonucleotideFrequency(1, 3) %>% \n",
    "              as_tibble() %>% \n",
    "              rename_all(. %>% paste0(\"3\")) %>% \n",
    "              mutate(gc3 = (G3 + C3) / (A3 + C3 + G3 + T3)) %>% \n",
    "              select(gc3)\n",
    "            ) %>% \n",
    "  # calculate gc\n",
    "  bind_cols(DNAStringSet(.$insert) %>% \n",
    "              oligonucleotideFrequency(1, 1) %>% \n",
    "              as_tibble() %>% \n",
    "              mutate(gc = (G + C) / (A + C + G + T)) %>% \n",
    "              select(gc)\n",
    "            )"
   ]
  },
  {
   "cell_type": "code",
   "execution_count": 20,
   "metadata": {
    "vscode": {
     "languageId": "r"
    }
   },
   "outputs": [],
   "source": [
    "barcode_reads_cutoff <- 10"
   ]
  },
  {
   "cell_type": "code",
   "execution_count": 21,
   "metadata": {
    "vscode": {
     "languageId": "r"
    }
   },
   "outputs": [],
   "source": [
    "gc_lfc <- barcode_counts %>%\n",
    "    filter(barcode_count >= barcode_reads_cutoff) %>%\n",
    "    group_by(sample_name, insert_num) %>%\n",
    "    summarize(insert_count = sum(barcode_count), n_barcodes = n(), .groups='drop') %>%\n",
    "    inner_join(insert_annotations_gc, by = \"insert_num\") %>% # gets rid of the 6000-4096 inserts that aren't dicodons\n",
    "    mutate(sample_type = str_extract(sample_name, '[^_]+$')) %>%\n",
    "    mutate(sample_name = str_extract(sample_name, '[^_]+')) %>%\n",
    "    pivot_wider(names_from = sample_type, values_from = c(insert_count, n_barcodes)) %>%\n",
    "    drop_na() %>%\n",
    "    group_by(sample_name) %>%\n",
    "    mutate(lfc_no_norm = log2(insert_count_mrna) - log2(insert_count_gdna)) %>%\n",
    "    mutate(lfc = lfc_no_norm - median(lfc_no_norm)) %>%\n",
    "    ungroup() %>%\n",
    "    mutate(gc_content = factor(round((gc*100),0))) %>%\n",
    "    mutate(gc3_content = factor(round((gc3*100),0)))"
   ]
  },
  {
   "cell_type": "code",
   "execution_count": 22,
   "metadata": {
    "vscode": {
     "languageId": "r"
    }
   },
   "outputs": [
    {
     "name": "stderr",
     "output_type": "stream",
     "text": [
      "Warning message:\n",
      "“unnest() has a new interface. See ?unnest for details.\n",
      "Try `df %>% unnest(c(fit, n))`, with `mutate()` if needed”\n"
     ]
    },
    {
     "data": {
      "text/html": [
       "<table class=\"dataframe\">\n",
       "<caption>A grouped_df: 1 × 10</caption>\n",
       "<thead>\n",
       "\t<tr><th scope=col>sample_name</th><th scope=col>n</th><th scope=col>estimate</th><th scope=col>statistic</th><th scope=col>p.value</th><th scope=col>parameter</th><th scope=col>conf.low</th><th scope=col>conf.high</th><th scope=col>method</th><th scope=col>alternative</th></tr>\n",
       "\t<tr><th scope=col>&lt;chr&gt;</th><th scope=col>&lt;int&gt;</th><th scope=col>&lt;chr&gt;</th><th scope=col>&lt;dbl&gt;</th><th scope=col>&lt;dbl&gt;</th><th scope=col>&lt;int&gt;</th><th scope=col>&lt;dbl&gt;</th><th scope=col>&lt;dbl&gt;</th><th scope=col>&lt;chr&gt;</th><th scope=col>&lt;chr&gt;</th></tr>\n",
       "</thead>\n",
       "<tbody>\n",
       "\t<tr><td>wt</td><td>3617</td><td>r=0.17</td><td>10.07654</td><td>1.432128e-23</td><td>3615</td><td>0.1334159</td><td>0.1968193</td><td>Pearson's product-moment correlation</td><td>two.sided</td></tr>\n",
       "</tbody>\n",
       "</table>\n"
      ],
      "text/latex": [
       "A grouped\\_df: 1 × 10\n",
       "\\begin{tabular}{llllllllll}\n",
       " sample\\_name & n & estimate & statistic & p.value & parameter & conf.low & conf.high & method & alternative\\\\\n",
       " <chr> & <int> & <chr> & <dbl> & <dbl> & <int> & <dbl> & <dbl> & <chr> & <chr>\\\\\n",
       "\\hline\n",
       "\t wt & 3617 & r=0.17 & 10.07654 & 1.432128e-23 & 3615 & 0.1334159 & 0.1968193 & Pearson's product-moment correlation & two.sided\\\\\n",
       "\\end{tabular}\n"
      ],
      "text/markdown": [
       "\n",
       "A grouped_df: 1 × 10\n",
       "\n",
       "| sample_name &lt;chr&gt; | n &lt;int&gt; | estimate &lt;chr&gt; | statistic &lt;dbl&gt; | p.value &lt;dbl&gt; | parameter &lt;int&gt; | conf.low &lt;dbl&gt; | conf.high &lt;dbl&gt; | method &lt;chr&gt; | alternative &lt;chr&gt; |\n",
       "|---|---|---|---|---|---|---|---|---|---|\n",
       "| wt | 3617 | r=0.17 | 10.07654 | 1.432128e-23 | 3615 | 0.1334159 | 0.1968193 | Pearson's product-moment correlation | two.sided |\n",
       "\n"
      ],
      "text/plain": [
       "  sample_name n    estimate statistic p.value      parameter conf.low \n",
       "1 wt          3617 r=0.17   10.07654  1.432128e-23 3615      0.1334159\n",
       "  conf.high method                               alternative\n",
       "1 0.1968193 Pearson's product-moment correlation two.sided  "
      ]
     },
     "metadata": {},
     "output_type": "display_data"
    }
   ],
   "source": [
    "label_data <- gc_lfc %>% \n",
    "  group_by(sample_name) %>% \n",
    "  nest() %>% \n",
    "  mutate(n = map_int(data, nrow), fit = map(data, function(df) cor.test(~gc + lfc, data = df))) %>% \n",
    "  mutate(fit = map(fit, broom::tidy)) %>% \n",
    "  unnest(fit, n) %>% \n",
    "  select(-data) %>%\n",
    "  mutate(estimate = paste0(\"r=\", round(estimate, 2)))\n",
    "\n",
    "label_data"
   ]
  },
  {
   "cell_type": "code",
   "execution_count": 23,
   "metadata": {
    "vscode": {
     "languageId": "r"
    }
   },
   "outputs": [
    {
     "data": {
      "image/png": "[encoded data removed]",
      "text/plain": [
       "plot without title"
      ]
     },
     "metadata": {
      "image/png": {
       "height": 72,
       "width": 180
      }
     },
     "output_type": "display_data"
    }
   ],
   "source": [
    "options(repr.plot.width = 3, repr.plot.height = 1.2)\n",
    "\n",
    "gc_lfc %>%\n",
    "    ggplot() +\n",
    "    geom_violin(size=0.2) +\n",
    "    aes(x=gc_content, y=lfc, fill=gc_content) +\n",
    "    theme + \n",
    "    theme(\n",
    "        axis.line = element_blank(),\n",
    "        legend.text=element_blank(),\n",
    "        strip.text.x = element_blank()\n",
    "        ) +\n",
    "    ggthemes::scale_fill_tableau() +\n",
    "    annotate('text', x=6.8, y = -5.5, label = str_c('r = 0.17'), size=7/.pt) +\n",
    "    annotate('text', x=6.8, y = -7, label = str_c('p < 1e-20'), size=7/.pt) +\n",
    "    labs(x='GC %', y='mRNA level\\n(log2 a.u.)') +\n",
    "    guides(fill=\"none\")\n",
    "\n",
    "ggsave(\"../figures/sfig2_wt_gc_lfc_corr.pdf\", width=2.8, height=1.5)"
   ]
  },
  {
   "cell_type": "code",
   "execution_count": 24,
   "metadata": {
    "vscode": {
     "languageId": "r"
    }
   },
   "outputs": [
    {
     "name": "stderr",
     "output_type": "stream",
     "text": [
      "Warning message:\n",
      "“unnest() has a new interface. See ?unnest for details.\n",
      "Try `df %>% unnest(c(fit, n))`, with `mutate()` if needed”\n"
     ]
    },
    {
     "data": {
      "text/html": [
       "<table class=\"dataframe\">\n",
       "<caption>A grouped_df: 1 × 10</caption>\n",
       "<thead>\n",
       "\t<tr><th scope=col>sample_name</th><th scope=col>n</th><th scope=col>estimate</th><th scope=col>statistic</th><th scope=col>p.value</th><th scope=col>parameter</th><th scope=col>conf.low</th><th scope=col>conf.high</th><th scope=col>method</th><th scope=col>alternative</th></tr>\n",
       "\t<tr><th scope=col>&lt;chr&gt;</th><th scope=col>&lt;int&gt;</th><th scope=col>&lt;chr&gt;</th><th scope=col>&lt;dbl&gt;</th><th scope=col>&lt;dbl&gt;</th><th scope=col>&lt;int&gt;</th><th scope=col>&lt;dbl&gt;</th><th scope=col>&lt;dbl&gt;</th><th scope=col>&lt;chr&gt;</th><th scope=col>&lt;chr&gt;</th></tr>\n",
       "</thead>\n",
       "<tbody>\n",
       "\t<tr><td>wt</td><td>3617</td><td>r=0.12</td><td>7.462015</td><td>1.061583e-13</td><td>3615</td><td>0.09093755</td><td>0.1551322</td><td>Pearson's product-moment correlation</td><td>two.sided</td></tr>\n",
       "</tbody>\n",
       "</table>\n"
      ],
      "text/latex": [
       "A grouped\\_df: 1 × 10\n",
       "\\begin{tabular}{llllllllll}\n",
       " sample\\_name & n & estimate & statistic & p.value & parameter & conf.low & conf.high & method & alternative\\\\\n",
       " <chr> & <int> & <chr> & <dbl> & <dbl> & <int> & <dbl> & <dbl> & <chr> & <chr>\\\\\n",
       "\\hline\n",
       "\t wt & 3617 & r=0.12 & 7.462015 & 1.061583e-13 & 3615 & 0.09093755 & 0.1551322 & Pearson's product-moment correlation & two.sided\\\\\n",
       "\\end{tabular}\n"
      ],
      "text/markdown": [
       "\n",
       "A grouped_df: 1 × 10\n",
       "\n",
       "| sample_name &lt;chr&gt; | n &lt;int&gt; | estimate &lt;chr&gt; | statistic &lt;dbl&gt; | p.value &lt;dbl&gt; | parameter &lt;int&gt; | conf.low &lt;dbl&gt; | conf.high &lt;dbl&gt; | method &lt;chr&gt; | alternative &lt;chr&gt; |\n",
       "|---|---|---|---|---|---|---|---|---|---|\n",
       "| wt | 3617 | r=0.12 | 7.462015 | 1.061583e-13 | 3615 | 0.09093755 | 0.1551322 | Pearson's product-moment correlation | two.sided |\n",
       "\n"
      ],
      "text/plain": [
       "  sample_name n    estimate statistic p.value      parameter conf.low  \n",
       "1 wt          3617 r=0.12   7.462015  1.061583e-13 3615      0.09093755\n",
       "  conf.high method                               alternative\n",
       "1 0.1551322 Pearson's product-moment correlation two.sided  "
      ]
     },
     "metadata": {},
     "output_type": "display_data"
    }
   ],
   "source": [
    "label_data <- gc_lfc %>% \n",
    "  group_by(sample_name) %>% \n",
    "  nest() %>% \n",
    "  mutate(n = map_int(data, nrow), fit = map(data, function(df) cor.test(~gc3 + lfc, data = df))) %>% \n",
    "  mutate(fit = map(fit, broom::tidy)) %>% \n",
    "  unnest(fit, n) %>% \n",
    "  select(-data) %>%\n",
    "  mutate(estimate = paste0(\"r=\", round(estimate, 2)))\n",
    "\n",
    "label_data"
   ]
  },
  {
   "cell_type": "code",
   "execution_count": 25,
   "metadata": {
    "vscode": {
     "languageId": "r"
    }
   },
   "outputs": [
    {
     "data": {
      "image/png": "[encoded data removed]",
      "text/plain": [
       "plot without title"
      ]
     },
     "metadata": {
      "image/png": {
       "height": 72,
       "width": 168
      }
     },
     "output_type": "display_data"
    }
   ],
   "source": [
    "options(repr.plot.width = 2.8, repr.plot.height = 1.2)\n",
    "\n",
    "gc_lfc %>%\n",
    "    ggplot() +\n",
    "    aes(x=gc3_content, y=lfc, fill=gc3_content) +\n",
    "    facet_wrap(~sample_name) +\n",
    "    geom_violin(size=0.2) +\n",
    "    theme + \n",
    "    theme(\n",
    "        axis.line = element_blank(),\n",
    "        legend.text=element_blank(),\n",
    "        strip.text.x = element_blank()\n",
    "        ) +\n",
    "    scale_fill_manual(values=c('0'='#4e79a7', '50'='#76b7b2', '100'='#b07aa1')) +\n",
    "    annotate('text', x = 2.8, y = -5.5, label = str_c('r = 0.12'),  size=7/.pt) +\n",
    "    annotate('text', x = 2.8, y = -7.0, label = str_c('p < 1e-12'),  size=7/.pt) +\n",
    "    labs(x='GC3', y='mRNA level\\n(log2 a.u.)') +\n",
    "    guides(fill=\"none\")\n",
    "\n",
    "ggsave(\"../figures/sfig2_wt_gc3_lfc_corr.pdf\", width=1.7, height=1.5)"
   ]
  },
  {
   "attachments": {},
   "cell_type": "markdown",
   "metadata": {},
   "source": [
    "### Plot mRNA levels of selected dicodons in mini pool deepsequencing"
   ]
  },
  {
   "cell_type": "code",
   "execution_count": 26,
   "metadata": {
    "vscode": {
     "languageId": "r"
    }
   },
   "outputs": [
    {
     "name": "stderr",
     "output_type": "stream",
     "text": [
      "\u001b[1mRows: \u001b[22m\u001b[34m1209\u001b[39m \u001b[1mColumns: \u001b[22m\u001b[34m5\u001b[39m\n",
      "\u001b[36m──\u001b[39m \u001b[1mColumn specification\u001b[22m \u001b[36m────────────────────────────────────────────────────────\u001b[39m\n",
      "\u001b[1mDelimiter:\u001b[22m \",\"\n",
      "\u001b[31mchr\u001b[39m (4): barcode_count, insert_num, barcode, linkage_count\n",
      "\u001b[32mdbl\u001b[39m (1): barcode_num\n",
      "\n",
      "\u001b[36mℹ\u001b[39m Use `spec()` to retrieve the full column specification for this data.\n",
      "\u001b[36mℹ\u001b[39m Specify the column types or set `show_col_types = FALSE` to quiet this message.\n",
      "\u001b[1mRows: \u001b[22m\u001b[34m1209\u001b[39m \u001b[1mColumns: \u001b[22m\u001b[34m5\u001b[39m\n",
      "\u001b[36m──\u001b[39m \u001b[1mColumn specification\u001b[22m \u001b[36m────────────────────────────────────────────────────────\u001b[39m\n",
      "\u001b[1mDelimiter:\u001b[22m \",\"\n",
      "\u001b[31mchr\u001b[39m (4): barcode_count, insert_num, barcode, linkage_count\n",
      "\u001b[32mdbl\u001b[39m (1): barcode_num\n",
      "\n",
      "\u001b[36mℹ\u001b[39m Use `spec()` to retrieve the full column specification for this data.\n",
      "\u001b[36mℹ\u001b[39m Specify the column types or set `show_col_types = FALSE` to quiet this message.\n",
      "\u001b[1mRows: \u001b[22m\u001b[34m922\u001b[39m \u001b[1mColumns: \u001b[22m\u001b[34m5\u001b[39m\n",
      "\u001b[36m──\u001b[39m \u001b[1mColumn specification\u001b[22m \u001b[36m────────────────────────────────────────────────────────\u001b[39m\n",
      "\u001b[1mDelimiter:\u001b[22m \",\"\n",
      "\u001b[31mchr\u001b[39m (4): barcode_count, insert_num, barcode, linkage_count\n",
      "\u001b[32mdbl\u001b[39m (1): barcode_num\n",
      "\n",
      "\u001b[36mℹ\u001b[39m Use `spec()` to retrieve the full column specification for this data.\n",
      "\u001b[36mℹ\u001b[39m Specify the column types or set `show_col_types = FALSE` to quiet this message.\n",
      "\u001b[1mRows: \u001b[22m\u001b[34m915\u001b[39m \u001b[1mColumns: \u001b[22m\u001b[34m5\u001b[39m\n",
      "\u001b[36m──\u001b[39m \u001b[1mColumn specification\u001b[22m \u001b[36m────────────────────────────────────────────────────────\u001b[39m\n",
      "\u001b[1mDelimiter:\u001b[22m \",\"\n",
      "\u001b[31mchr\u001b[39m (4): barcode_count, insert_num, barcode, linkage_count\n",
      "\u001b[32mdbl\u001b[39m (1): barcode_num\n",
      "\n",
      "\u001b[36mℹ\u001b[39m Use `spec()` to retrieve the full column specification for this data.\n",
      "\u001b[36mℹ\u001b[39m Specify the column types or set `show_col_types = FALSE` to quiet this message.\n",
      "Warning message:\n",
      "“`cols` is now required when using unnest().\n",
      "Please use `cols = c(counts)`”\n",
      "Warning message in mask$eval_all_mutate(quo):\n",
      "“NAs introduced by coercion”\n",
      "Warning message in mask$eval_all_mutate(quo):\n",
      "“NAs introduced by coercion”\n"
     ]
    }
   ],
   "source": [
    "barcode_counts_mini  <- list.files(\"../../wt_hel2_mini_pool/data/linked_barcode_counts/\", pattern = \".csv$\", full.names = T) %>% \n",
    "  enframe(\"sno\", \"file\") %>% \n",
    "  mutate(counts = map(file, read_csv)) %>% \n",
    "  mutate(sample_name = str_extract(file, \"[^/]+(?=.csv)\")) %>% \n",
    "  select(-sno, -file) %>% \n",
    "  unnest() %>% \n",
    "  mutate(insert_num = as.numeric(str_extract(insert_num, \"[:digit:]+\"))) %>%\n",
    "  mutate(barcode_count = as.numeric(barcode_count)) %>%\n",
    "  mutate(linkage_count = as.numeric(linkage_count))"
   ]
  },
  {
   "cell_type": "code",
   "execution_count": 27,
   "metadata": {
    "vscode": {
     "languageId": "r"
    }
   },
   "outputs": [
    {
     "name": "stderr",
     "output_type": "stream",
     "text": [
      "\u001b[1mRows: \u001b[22m\u001b[34m13\u001b[39m \u001b[1mColumns: \u001b[22m\u001b[34m2\u001b[39m\n",
      "\u001b[36m──\u001b[39m \u001b[1mColumn specification\u001b[22m \u001b[36m────────────────────────────────────────────────────────\u001b[39m\n",
      "\u001b[1mDelimiter:\u001b[22m \",\"\n",
      "\u001b[31mchr\u001b[39m (1): insert\n",
      "\u001b[32mdbl\u001b[39m (1): insert_num\n",
      "\n",
      "\u001b[36mℹ\u001b[39m Use `spec()` to retrieve the full column specification for this data.\n",
      "\u001b[36mℹ\u001b[39m Specify the column types or set `show_col_types = FALSE` to quiet this message.\n",
      "Warning message in .Call2(\"DNAStringSet_translate\", x, skip_code, dna_codes[codon_alphabet], :\n",
      "“in 'x[[1]]': last 2 bases were ignored”\n",
      "Warning message in .Call2(\"DNAStringSet_translate\", x, skip_code, dna_codes[codon_alphabet], :\n",
      "“in 'x[[2]]': last 2 bases were ignored”\n",
      "Warning message in .Call2(\"DNAStringSet_translate\", x, skip_code, dna_codes[codon_alphabet], :\n",
      "“in 'x[[3]]': last 2 bases were ignored”\n",
      "Warning message in .Call2(\"DNAStringSet_translate\", x, skip_code, dna_codes[codon_alphabet], :\n",
      "“in 'x[[4]]': last 2 bases were ignored”\n",
      "Warning message in .Call2(\"DNAStringSet_translate\", x, skip_code, dna_codes[codon_alphabet], :\n",
      "“in 'x[[5]]': last 2 bases were ignored”\n",
      "Warning message in .Call2(\"DNAStringSet_translate\", x, skip_code, dna_codes[codon_alphabet], :\n",
      "“in 'x[[6]]': last 2 bases were ignored”\n",
      "Warning message in .Call2(\"DNAStringSet_translate\", x, skip_code, dna_codes[codon_alphabet], :\n",
      "“in 'x[[7]]': last 2 bases were ignored”\n",
      "Warning message in .Call2(\"DNAStringSet_translate\", x, skip_code, dna_codes[codon_alphabet], :\n",
      "“in 'x[[8]]': last 2 bases were ignored”\n",
      "Warning message in .Call2(\"DNAStringSet_translate\", x, skip_code, dna_codes[codon_alphabet], :\n",
      "“in 'x[[9]]': last 2 bases were ignored”\n",
      "Warning message in .Call2(\"DNAStringSet_translate\", x, skip_code, dna_codes[codon_alphabet], :\n",
      "“in 'x[[10]]': last 2 bases were ignored”\n",
      "Warning message in .Call2(\"DNAStringSet_translate\", x, skip_code, dna_codes[codon_alphabet], :\n",
      "“in 'x[[11]]': last 2 bases were ignored”\n",
      "Warning message in .Call2(\"DNAStringSet_translate\", x, skip_code, dna_codes[codon_alphabet], :\n",
      "“in 'x[[12]]': last 2 bases were ignored”\n",
      "Warning message in .Call2(\"DNAStringSet_translate\", x, skip_code, dna_codes[codon_alphabet], :\n",
      "“in 'x[[13]]': last 2 bases were ignored”\n"
     ]
    }
   ],
   "source": [
    "insert_annotations_mini <- read_csv(\"../../mini_8xdicodon_linkage/annotations/dicodon_yeast.csv\") %>%\n",
    "    mutate(diaa = as.character(translate(DNAStringSet(insert), no.init.codon = T))) %>%\n",
    "    mutate(diaa = str_sub(diaa, 9,10)) %>%\n",
    "    mutate(dicodon = str_sub(insert, 25,30)) %>%\n",
    "    mutate(diaa = ifelse(insert_num == 11, 'spikein2', diaa)) %>%\n",
    "    mutate(diaa = ifelse(insert_num == 12, 'spikein2', diaa))"
   ]
  },
  {
   "cell_type": "code",
   "execution_count": 28,
   "metadata": {
    "vscode": {
     "languageId": "r"
    }
   },
   "outputs": [],
   "source": [
    "include <- c(\"AAGGGA\", \"TTAAGT\", \"GTGAAA\", \"AAAGTG\", \"TTTAAG\", \"AAGAAG\")\n",
    "insert_reads_cutoff <- 15\n",
    "AMINO_ACID_CODE[\"*\"] = \"*\"\n",
    "\n",
    "calc_lfc_bootstrap <- function(data, indices) {\n",
    "  d <- data[indices,]\n",
    "  log2(sum(d$mrna)) - log2(sum(d$gdna))\n",
    "}\n",
    "\n",
    "diaa_lfc_boot_wt_mini <- barcode_counts_mini %>%\n",
    "  left_join(insert_annotations_mini, by='insert_num') %>%\n",
    "  mutate(sample_type = str_extract(sample_name, '[^_]+$')) %>%\n",
    "  mutate(genotype = str_extract(sample_name, '[^_]+')) %>%\n",
    "  filter(genotype == 'wt') %>%\n",
    "  select(-barcode, -linkage_count, -sample_name) %>%\n",
    "  pivot_wider(names_from = c(sample_type), values_from = barcode_count) %>%\n",
    "  filter((mrna >= insert_reads_cutoff) & (gdna >= insert_reads_cutoff)) %>%\n",
    "  drop_na() %>%\n",
    "  group_by(insert_num) %>%\n",
    "  nest() %>%\n",
    "  mutate(lfc_boot = map(data, function(df) boot::boot(data=df, statistic=calc_lfc_bootstrap, R=100)$t)) %>%\n",
    "  select(-data) %>%\n",
    "  mutate(lfc = map_dbl(lfc_boot, mean)) %>%\n",
    "  mutate(lfc_sd = map_dbl(lfc_boot, sd)) %>%\n",
    "  select(-lfc_boot) %>%\n",
    "  ungroup() %>%\n",
    "  inner_join(insert_annotations_mini, by = \"insert_num\") %>%\n",
    "  mutate(strain = 'WT')"
   ]
  },
  {
   "cell_type": "code",
   "execution_count": 29,
   "metadata": {
    "vscode": {
     "languageId": "r"
    }
   },
   "outputs": [
    {
     "data": {
      "image/png": "[encoded data removed]",
      "text/plain": [
       "plot without title"
      ]
     },
     "metadata": {
      "image/png": {
       "height": 90,
       "width": 120
      }
     },
     "output_type": "display_data"
    }
   ],
   "source": [
    "options(repr.plot.width = 2, repr.plot.height = 1.5)\n",
    "\n",
    "order <- c(\"AAGGGA (KG)\", \"GTGAAA (VK)\", \"AAAGTG (KV)\", \"TTAAGT (LS)\", \"TTTAAG (FK)\", \"AAGAAG (KK)\")\n",
    "\n",
    "plot_data <- diaa_lfc_boot_wt_mini %>%\n",
    "  filter(dicodon %in% include) %>%\n",
    "  mutate(lfc_max = lfc - max(lfc)) %>%\n",
    "  mutate(lfc_med = lfc - median(lfc)) %>%\n",
    "  mutate(diaa = str_c(dicodon, \" (\", diaa, \")\")) %>%\n",
    "  mutate(codon = factor(diaa, level=order))\n",
    "\n",
    "plot_data %>%\n",
    "  ggplot(aes(x = lfc_max, y = codon,\n",
    "             xmin = lfc_max - lfc_sd, xmax = lfc_max + lfc_sd)) +\n",
    "  geom_errorbar(width=0.3, size=0.2) +\n",
    "  geom_point(size=0.8) +\n",
    "  geom_vline(xintercept=0, color='grey', size=0.1, linetype=2) +\n",
    "  scale_x_continuous(breaks=seq(-1.5, 0.5, 0.5), limits=c(-1.1, 0.5)) +\n",
    "  scale_color_manual(values='black') +\n",
    "  theme + \n",
    "  theme(\n",
    "      axis.line = element_blank(),\n",
    "      axis.line.x = element_blank(),\n",
    "      axis.line.y = element_blank(),\n",
    "      axis.ticks.y = element_blank(),\n",
    "      axis.ticks.x = element_line(size=0.1),\n",
    "      panel.grid.major.y = element_line(color='grey', size=0.2),\n",
    "      legend.text=element_blank(),\n",
    "      axis.text.x = element_text(size=7),\n",
    "      ) +\n",
    "  labs(x = \"mRNA level (log2, a.u.)\", y = \"Codon pair\", subtitle='Targeted library')\n",
    "\n",
    "ggsave(\"../figures/sfig2_targeted_deepseq.pdf\",  width=2.2, height=1.8)"
   ]
  }
 ],
 "metadata": {
  "kernelspec": {
   "display_name": "R_project_repo_1.13.0",
   "language": "R",
   "name": "ir_project_repo_1.13.0"
  },
  "language_info": {
   "codemirror_mode": "r",
   "file_extension": ".r",
   "mimetype": "text/x-r-source",
   "name": "R",
   "pygments_lexer": "r",
   "version": "4.1.3"
  },
  "orig_nbformat": 4
 },
 "nbformat": 4,
 "nbformat_minor": 2
}
