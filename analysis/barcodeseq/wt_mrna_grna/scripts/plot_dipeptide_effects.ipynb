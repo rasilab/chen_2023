{
 "cells": [
  {
   "attachments": {},
   "cell_type": "markdown",
   "metadata": {},
   "source": [
    "## Minimum code for plotting dipeptide effects in WT cells"
   ]
  },
  {
   "cell_type": "code",
   "execution_count": 1,
   "metadata": {
    "vscode": {
     "languageId": "r"
    }
   },
   "outputs": [],
   "source": [
    "suppressPackageStartupMessages(library(Biostrings))\n",
    "suppressPackageStartupMessages(library(tidyverse))\n",
    "suppressPackageStartupMessages(library(rasilabRtemplates))\n",
    "suppressPackageStartupMessages(library(boot))\n",
    "suppressPackageStartupMessages(library(ggrepel))\n",
    "suppressPackageStartupMessages(library(plotrix))\n",
    "suppressPackageStartupMessages(library(ggh4x))\n",
    "\n",
    "insert_reads_cutoff <- 500\n",
    "n_barcodes_cutoff <- 4\n",
    "barcode_reads_cutoff <- 10 \n",
    "set.seed(1234)"
   ]
  },
  {
   "cell_type": "code",
   "execution_count": 2,
   "metadata": {
    "vscode": {
     "languageId": "r"
    }
   },
   "outputs": [],
   "source": [
    "theme <- theme(\n",
    "        title = element_text(margin = margin(t=0, r=2, b=2, l=2), size=8),\n",
    "        axis.title.x = element_text(margin = margin(t=2, r=2, b=0, l=2), size=8),\n",
    "        axis.title.y = element_text(margin = margin(t=2, r=2, b=2, l=0), size=8),\n",
    "        text = element_text(size = 8),\n",
    "        legend.text=element_text(size=8),\n",
    "        axis.line.x=element_line(linewidth=0.2),\n",
    "        axis.line.y=element_line(linewidth=0.2),\n",
    "        axis.ticks.y =  element_line(linewidth=0.2),\n",
    "        axis.ticks.x = element_line(linewidth=0.2),\n",
    "        axis.text.x = element_text(size=8),\n",
    "        axis.text.y = element_text(size=8)\n",
    "        )"
   ]
  },
  {
   "cell_type": "code",
   "execution_count": 3,
   "metadata": {
    "vscode": {
     "languageId": "r"
    }
   },
   "outputs": [],
   "source": [
    "if (!file.exists('../figures')){\n",
    "    dir.create('../figures')\n",
    "}\n",
    "\n",
    "if (!file.exists('../tables')){\n",
    "    dir.create('../tables')\n",
    "}"
   ]
  },
  {
   "attachments": {},
   "cell_type": "markdown",
   "metadata": {},
   "source": [
    "### Load sample annotations and barcode counts"
   ]
  },
  {
   "cell_type": "code",
   "execution_count": 4,
   "metadata": {
    "vscode": {
     "languageId": "r"
    }
   },
   "outputs": [
    {
     "name": "stderr",
     "output_type": "stream",
     "text": [
      "\u001b[1mRows: \u001b[22m\u001b[34m2\u001b[39m \u001b[1mColumns: \u001b[22m\u001b[34m15\u001b[39m\n",
      "\u001b[36m──\u001b[39m \u001b[1mColumn specification\u001b[22m \u001b[36m────────────────────────────────────────────────────────\u001b[39m\n",
      "\u001b[1mDelimiter:\u001b[22m \",\"\n",
      "\u001b[31mchr\u001b[39m (12): owner, sample_type, sample_name, plasmid, library_type, illumina_s...\n",
      "\u001b[32mdbl\u001b[39m  (3): barcode_read, barcode_start, barcode_length\n",
      "\n",
      "\u001b[36mℹ\u001b[39m Use `spec()` to retrieve the full column specification for this data.\n",
      "\u001b[36mℹ\u001b[39m Specify the column types or set `show_col_types = FALSE` to quiet this message.\n"
     ]
    },
    {
     "data": {
      "text/html": [
       "<table class=\"dataframe\">\n",
       "<caption>A spec_tbl_df: 2 × 15</caption>\n",
       "<thead>\n",
       "\t<tr><th scope=col>owner</th><th scope=col>sample_type</th><th scope=col>sample_name</th><th scope=col>plasmid</th><th scope=col>library_type</th><th scope=col>illumina_sample_id</th><th scope=col>sample_id</th><th scope=col>barcode_read</th><th scope=col>barcode_start</th><th scope=col>barcode_length</th><th scope=col>linkage_ref</th><th scope=col>r1_file</th><th scope=col>r2_file</th><th scope=col>s3</th><th scope=col>shared</th></tr>\n",
       "\t<tr><th scope=col>&lt;chr&gt;</th><th scope=col>&lt;chr&gt;</th><th scope=col>&lt;chr&gt;</th><th scope=col>&lt;chr&gt;</th><th scope=col>&lt;chr&gt;</th><th scope=col>&lt;chr&gt;</th><th scope=col>&lt;chr&gt;</th><th scope=col>&lt;dbl&gt;</th><th scope=col>&lt;dbl&gt;</th><th scope=col>&lt;dbl&gt;</th><th scope=col>&lt;chr&gt;</th><th scope=col>&lt;chr&gt;</th><th scope=col>&lt;chr&gt;</th><th scope=col>&lt;chr&gt;</th><th scope=col>&lt;chr&gt;</th></tr>\n",
       "</thead>\n",
       "<tbody>\n",
       "\t<tr><td>kc</td><td>dicodon_yeast</td><td>wt_gdna</td><td>pHPSC1142</td><td>grna</td><td>51lib2</td><td>51lib2</td><td>1</td><td>1</td><td>24</td><td>yeast_cyto_linkage</td><td>kc_51lib2_S13_R1_001</td><td>kc_51lib2_S13_R2_001</td><td>fh-pi-subramaniam-a-eco/data/kchen/illumina/20220328_exp51_wt_8xdicodon/</td><td>/shared/ngs/illumina/subramaniam_lab/220328_VH00319_178_AAAYF3FM5/Unaligned/Project_subramaniam_lab/</td></tr>\n",
       "\t<tr><td>kc</td><td>dicodon_yeast</td><td>wt_mrna</td><td>pHPSC1142</td><td>mrna</td><td>51lib1</td><td>51lib1</td><td>1</td><td>1</td><td>24</td><td>yeast_cyto_linkage</td><td>kc_51lib1_S12_R1_001</td><td>kc_51lib1_S12_R2_001</td><td>fh-pi-subramaniam-a-eco/data/kchen/illumina/20220328_exp51_wt_8xdicodon/</td><td>/shared/ngs/illumina/subramaniam_lab/220328_VH00319_178_AAAYF3FM5/Unaligned/Project_subramaniam_lab/</td></tr>\n",
       "</tbody>\n",
       "</table>\n"
      ],
      "text/latex": [
       "A spec\\_tbl\\_df: 2 × 15\n",
       "\\begin{tabular}{lllllllllllllll}\n",
       " owner & sample\\_type & sample\\_name & plasmid & library\\_type & illumina\\_sample\\_id & sample\\_id & barcode\\_read & barcode\\_start & barcode\\_length & linkage\\_ref & r1\\_file & r2\\_file & s3 & shared\\\\\n",
       " <chr> & <chr> & <chr> & <chr> & <chr> & <chr> & <chr> & <dbl> & <dbl> & <dbl> & <chr> & <chr> & <chr> & <chr> & <chr>\\\\\n",
       "\\hline\n",
       "\t kc & dicodon\\_yeast & wt\\_gdna & pHPSC1142 & grna & 51lib2 & 51lib2 & 1 & 1 & 24 & yeast\\_cyto\\_linkage & kc\\_51lib2\\_S13\\_R1\\_001 & kc\\_51lib2\\_S13\\_R2\\_001 & fh-pi-subramaniam-a-eco/data/kchen/illumina/20220328\\_exp51\\_wt\\_8xdicodon/ & /shared/ngs/illumina/subramaniam\\_lab/220328\\_VH00319\\_178\\_AAAYF3FM5/Unaligned/Project\\_subramaniam\\_lab/\\\\\n",
       "\t kc & dicodon\\_yeast & wt\\_mrna & pHPSC1142 & mrna & 51lib1 & 51lib1 & 1 & 1 & 24 & yeast\\_cyto\\_linkage & kc\\_51lib1\\_S12\\_R1\\_001 & kc\\_51lib1\\_S12\\_R2\\_001 & fh-pi-subramaniam-a-eco/data/kchen/illumina/20220328\\_exp51\\_wt\\_8xdicodon/ & /shared/ngs/illumina/subramaniam\\_lab/220328\\_VH00319\\_178\\_AAAYF3FM5/Unaligned/Project\\_subramaniam\\_lab/\\\\\n",
       "\\end{tabular}\n"
      ],
      "text/markdown": [
       "\n",
       "A spec_tbl_df: 2 × 15\n",
       "\n",
       "| owner &lt;chr&gt; | sample_type &lt;chr&gt; | sample_name &lt;chr&gt; | plasmid &lt;chr&gt; | library_type &lt;chr&gt; | illumina_sample_id &lt;chr&gt; | sample_id &lt;chr&gt; | barcode_read &lt;dbl&gt; | barcode_start &lt;dbl&gt; | barcode_length &lt;dbl&gt; | linkage_ref &lt;chr&gt; | r1_file &lt;chr&gt; | r2_file &lt;chr&gt; | s3 &lt;chr&gt; | shared &lt;chr&gt; |\n",
       "|---|---|---|---|---|---|---|---|---|---|---|---|---|---|---|\n",
       "| kc | dicodon_yeast | wt_gdna | pHPSC1142 | grna | 51lib2 | 51lib2 | 1 | 1 | 24 | yeast_cyto_linkage | kc_51lib2_S13_R1_001 | kc_51lib2_S13_R2_001 | fh-pi-subramaniam-a-eco/data/kchen/illumina/20220328_exp51_wt_8xdicodon/ | /shared/ngs/illumina/subramaniam_lab/220328_VH00319_178_AAAYF3FM5/Unaligned/Project_subramaniam_lab/ |\n",
       "| kc | dicodon_yeast | wt_mrna | pHPSC1142 | mrna | 51lib1 | 51lib1 | 1 | 1 | 24 | yeast_cyto_linkage | kc_51lib1_S12_R1_001 | kc_51lib1_S12_R2_001 | fh-pi-subramaniam-a-eco/data/kchen/illumina/20220328_exp51_wt_8xdicodon/ | /shared/ngs/illumina/subramaniam_lab/220328_VH00319_178_AAAYF3FM5/Unaligned/Project_subramaniam_lab/ |\n",
       "\n"
      ],
      "text/plain": [
       "  owner sample_type   sample_name plasmid   library_type illumina_sample_id\n",
       "1 kc    dicodon_yeast wt_gdna     pHPSC1142 grna         51lib2            \n",
       "2 kc    dicodon_yeast wt_mrna     pHPSC1142 mrna         51lib1            \n",
       "  sample_id barcode_read barcode_start barcode_length linkage_ref       \n",
       "1 51lib2    1            1             24             yeast_cyto_linkage\n",
       "2 51lib1    1            1             24             yeast_cyto_linkage\n",
       "  r1_file              r2_file             \n",
       "1 kc_51lib2_S13_R1_001 kc_51lib2_S13_R2_001\n",
       "2 kc_51lib1_S12_R1_001 kc_51lib1_S12_R2_001\n",
       "  s3                                                                      \n",
       "1 fh-pi-subramaniam-a-eco/data/kchen/illumina/20220328_exp51_wt_8xdicodon/\n",
       "2 fh-pi-subramaniam-a-eco/data/kchen/illumina/20220328_exp51_wt_8xdicodon/\n",
       "  shared                                                                                              \n",
       "1 /shared/ngs/illumina/subramaniam_lab/220328_VH00319_178_AAAYF3FM5/Unaligned/Project_subramaniam_lab/\n",
       "2 /shared/ngs/illumina/subramaniam_lab/220328_VH00319_178_AAAYF3FM5/Unaligned/Project_subramaniam_lab/"
      ]
     },
     "metadata": {},
     "output_type": "display_data"
    }
   ],
   "source": [
    "sample_annotations = read_csv(\"../annotations/sample_annotations.csv\", comment='#')\n",
    "sample_annotations"
   ]
  },
  {
   "cell_type": "code",
   "execution_count": 5,
   "metadata": {
    "vscode": {
     "languageId": "r"
    }
   },
   "outputs": [
    {
     "name": "stderr",
     "output_type": "stream",
     "text": [
      "\u001b[1mRows: \u001b[22m\u001b[34m6000\u001b[39m \u001b[1mColumns: \u001b[22m\u001b[34m2\u001b[39m\n",
      "\u001b[36m──\u001b[39m \u001b[1mColumn specification\u001b[22m \u001b[36m────────────────────────────────────────────────────────\u001b[39m\n",
      "\u001b[1mDelimiter:\u001b[22m \",\"\n",
      "\u001b[31mchr\u001b[39m (1): insert\n",
      "\u001b[32mdbl\u001b[39m (1): insert_num\n",
      "\n",
      "\u001b[36mℹ\u001b[39m Use `spec()` to retrieve the full column specification for this data.\n",
      "\u001b[36mℹ\u001b[39m Specify the column types or set `show_col_types = FALSE` to quiet this message.\n"
     ]
    },
    {
     "name": "stdout",
     "output_type": "stream",
     "text": [
      "\u001b[90m# A tibble: 4,096 × 7\u001b[39m\n",
      "   insert_num dicodon diaa  codon1 codon2 aa1   aa2  \n",
      "        \u001b[3m\u001b[90m<dbl>\u001b[39m\u001b[23m \u001b[3m\u001b[90m<chr>\u001b[39m\u001b[23m   \u001b[3m\u001b[90m<chr>\u001b[39m\u001b[23m \u001b[3m\u001b[90m<chr>\u001b[39m\u001b[23m  \u001b[3m\u001b[90m<chr>\u001b[39m\u001b[23m  \u001b[3m\u001b[90m<chr>\u001b[39m\u001b[23m \u001b[3m\u001b[90m<chr>\u001b[39m\u001b[23m\n",
      "\u001b[90m 1\u001b[39m          0 AAAAAA  KK    AAA    AAA    K     K    \n",
      "\u001b[90m 2\u001b[39m          1 AAAAAC  KN    AAA    AAC    K     N    \n",
      "\u001b[90m 3\u001b[39m          2 AAAAAG  KK    AAA    AAG    K     K    \n",
      "\u001b[90m 4\u001b[39m          3 AAAAAT  KN    AAA    AAT    K     N    \n",
      "\u001b[90m 5\u001b[39m          4 AAAACA  KT    AAA    ACA    K     T    \n",
      "\u001b[90m 6\u001b[39m          5 AAAACC  KT    AAA    ACC    K     T    \n",
      "\u001b[90m 7\u001b[39m          6 AAAACG  KT    AAA    ACG    K     T    \n",
      "\u001b[90m 8\u001b[39m          7 AAAACT  KT    AAA    ACT    K     T    \n",
      "\u001b[90m 9\u001b[39m          8 AAAAGA  KR    AAA    AGA    K     R    \n",
      "\u001b[90m10\u001b[39m          9 AAAAGC  KS    AAA    AGC    K     S    \n",
      "\u001b[90m# … with 4,086 more rows\u001b[39m\n"
     ]
    }
   ],
   "source": [
    "insert_annotations = read_csv(\"../../8xdicodon_linkage/annotations/dicodon_yeast.csv\") %>%\n",
    "    mutate(dicodon = str_extract(insert, \"([ACTG]{6})(?=\\\\1{7})\")) %>%\n",
    "    drop_na(dicodon) %>% # drops the inserts that aren't dicodons in this case\n",
    "    mutate(diaa = as.character(translate(DNAStringSet(dicodon), no.init.codon = T))) %>%\n",
    "    mutate(codon1 = substr(dicodon, 1, 3), codon2 = substr(dicodon, 4, 6),\n",
    "         aa1 = substr(diaa, 1, 1), aa2 = substr(diaa, 2, 2)) %>%\n",
    "    select(-insert) %>%\n",
    "    print()"
   ]
  },
  {
   "cell_type": "code",
   "execution_count": 6,
   "metadata": {
    "vscode": {
     "languageId": "r"
    }
   },
   "outputs": [
    {
     "name": "stderr",
     "output_type": "stream",
     "text": [
      "\u001b[1mRows: \u001b[22m\u001b[34m197785\u001b[39m \u001b[1mColumns: \u001b[22m\u001b[34m5\u001b[39m\n",
      "\u001b[36m──\u001b[39m \u001b[1mColumn specification\u001b[22m \u001b[36m────────────────────────────────────────────────────────\u001b[39m\n",
      "\u001b[1mDelimiter:\u001b[22m \",\"\n",
      "\u001b[31mchr\u001b[39m (4): barcode_count, insert_num, barcode, linkage_count\n",
      "\u001b[32mdbl\u001b[39m (1): barcode_num\n",
      "\n",
      "\u001b[36mℹ\u001b[39m Use `spec()` to retrieve the full column specification for this data.\n",
      "\u001b[36mℹ\u001b[39m Specify the column types or set `show_col_types = FALSE` to quiet this message.\n",
      "\u001b[1mRows: \u001b[22m\u001b[34m172594\u001b[39m \u001b[1mColumns: \u001b[22m\u001b[34m5\u001b[39m\n",
      "\u001b[36m──\u001b[39m \u001b[1mColumn specification\u001b[22m \u001b[36m────────────────────────────────────────────────────────\u001b[39m\n",
      "\u001b[1mDelimiter:\u001b[22m \",\"\n",
      "\u001b[31mchr\u001b[39m (4): barcode_count, insert_num, barcode, linkage_count\n",
      "\u001b[32mdbl\u001b[39m (1): barcode_num\n",
      "\n",
      "\u001b[36mℹ\u001b[39m Use `spec()` to retrieve the full column specification for this data.\n",
      "\u001b[36mℹ\u001b[39m Specify the column types or set `show_col_types = FALSE` to quiet this message.\n",
      "Warning message:\n",
      "“`cols` is now required when using unnest().\n",
      "Please use `cols = c(counts)`”\n",
      "Warning message in mask$eval_all_mutate(quo):\n",
      "“NAs introduced by coercion”\n",
      "Warning message in mask$eval_all_mutate(quo):\n",
      "“NAs introduced by coercion”\n"
     ]
    }
   ],
   "source": [
    "barcode_counts <- list.files(\"../data/linked_barcode_counts/\", pattern = \".csv$\", full.names = T) %>% \n",
    "  enframe(\"sno\", \"file\") %>% \n",
    "  mutate(counts = map(file, read_csv)) %>% \n",
    "  mutate(sample_name = str_extract(file, \"[^/]+(?=.csv)\")) %>% \n",
    "  select(-sno, -file) %>% \n",
    "  unnest() %>% \n",
    "  mutate(insert_num = as.numeric(str_extract(insert_num, \"[:digit:]+\"))) %>%\n",
    "  mutate(barcode_count = as.numeric(barcode_count)) %>%\n",
    "  mutate(linkage_count = as.numeric(linkage_count))"
   ]
  },
  {
   "attachments": {},
   "cell_type": "markdown",
   "metadata": {},
   "source": [
    "### Apply minor cutoffs & bootstrap sample LFCs by dipeptide\n",
    "- reads per barcode, barcodes per dicodon insert\n",
    "- sample all barcodes for a dipeptide"
   ]
  },
  {
   "cell_type": "code",
   "execution_count": 7,
   "metadata": {
    "vscode": {
     "languageId": "r"
    }
   },
   "outputs": [],
   "source": [
    "wt_dicodon <- barcode_counts %>%\n",
    "    filter(barcode_count >= barcode_reads_cutoff) %>%\n",
    "    mutate(sample_type = str_extract(sample_name, '[^_]+$')) %>%\n",
    "    mutate(sample_name = str_extract(sample_name, '[^_]+')) %>%\n",
    "    filter(sample_name == 'wt') %>%\n",
    "    group_by(sample_type, insert_num) %>%\n",
    "    mutate(n_barcodes = n()) %>%\n",
    "    filter(n_barcodes >= n_barcodes_cutoff) %>% # filter out inserts that don't reach barcode rep cutoff while maintaining data as individual barcodes\n",
    "    ungroup() %>%\n",
    "    inner_join(insert_annotations, by='insert_num') %>%\n",
    "    select(-n_barcodes, -barcode, -aa1, -aa2, -codon1, -codon2) %>%\n",
    "    pivot_wider(names_from='sample_type', values_from=c(barcode_count)) %>%\n",
    "    drop_na()"
   ]
  },
  {
   "cell_type": "code",
   "execution_count": 8,
   "metadata": {
    "vscode": {
     "languageId": "r"
    }
   },
   "outputs": [
    {
     "name": "stderr",
     "output_type": "stream",
     "text": [
      "\u001b[1mRows: \u001b[22m\u001b[34m6000\u001b[39m \u001b[1mColumns: \u001b[22m\u001b[34m2\u001b[39m\n",
      "\u001b[36m──\u001b[39m \u001b[1mColumn specification\u001b[22m \u001b[36m────────────────────────────────────────────────────────\u001b[39m\n",
      "\u001b[1mDelimiter:\u001b[22m \",\"\n",
      "\u001b[31mchr\u001b[39m (1): insert\n",
      "\u001b[32mdbl\u001b[39m (1): insert_num\n",
      "\n",
      "\u001b[36mℹ\u001b[39m Use `spec()` to retrieve the full column specification for this data.\n",
      "\u001b[36mℹ\u001b[39m Specify the column types or set `show_col_types = FALSE` to quiet this message.\n"
     ]
    }
   ],
   "source": [
    "insert_annotations_1 = read_csv(\"../../8xdicodon_linkage/annotations/dicodon_yeast.csv\") %>%\n",
    "    mutate(dicodon = str_extract(insert, \"([ACTG]{6})(?=\\\\1{7})\")) %>%\n",
    "    mutate(aa = as.character(translate(DNAStringSet(insert), no.init.codon = T)))"
   ]
  },
  {
   "cell_type": "markdown",
   "metadata": {},
   "source": [
    "## Highlight dipeptides that are >= 2 standard deviations from the median and cutoff by std.error"
   ]
  },
  {
   "cell_type": "code",
   "execution_count": 9,
   "metadata": {
    "vscode": {
     "languageId": "r"
    }
   },
   "outputs": [],
   "source": [
    "calc_lfc_bootstrap <- function(data, indices) {\n",
    "  d <- data[indices,]\n",
    "  log2(sum(d$mrna)) - log2(sum(d$gdna))\n",
    "}\n",
    "set.seed <- 1234\n",
    "\n",
    "wt_diaa_bootstrap_diaa <- wt_dicodon %>%\n",
    "  filter(sample_name == 'wt') %>%\n",
    "  group_by(diaa) %>%\n",
    "  nest() %>%\n",
    "  mutate(lfc_boot = map(data, function(df) boot::boot(data=df, statistic=calc_lfc_bootstrap, R=100)$t)) %>%\n",
    "  select(-data) %>%\n",
    "  mutate(lfc = map_dbl(lfc_boot, mean)) %>%\n",
    "  mutate(lfc_sd = map_dbl(lfc_boot, sd)) %>%\n",
    "  mutate(lfc_se = map_dbl(lfc_boot, std.error)) %>%\n",
    "  select(-lfc_boot) %>%\n",
    "  ungroup() %>%\n",
    "  mutate(lfc_med = lfc - median(lfc)) %>%\n",
    "  mutate(strain = 'wt')"
   ]
  },
  {
   "cell_type": "code",
   "execution_count": 10,
   "metadata": {
    "vscode": {
     "languageId": "r"
    }
   },
   "outputs": [],
   "source": [
    "sd_q3 <- quantile(wt_diaa_bootstrap_diaa$lfc_sd)[4][[1]]\n",
    "sd_iqr <- IQR(wt_diaa_bootstrap_diaa$lfc_sd)\n",
    "sd_outlier <- sd_q3+(1.5 * sd_iqr) \n",
    "se_q3 <- quantile(wt_diaa_bootstrap_diaa$lfc_se)[4][[1]]\n",
    "se_iqr <- IQR(wt_diaa_bootstrap_diaa$lfc_se)\n",
    "se_outlier <- se_q3+(1.5 * se_iqr) + 0.005 # relax filter a bit"
   ]
  },
  {
   "cell_type": "code",
   "execution_count": 11,
   "metadata": {
    "vscode": {
     "languageId": "r"
    }
   },
   "outputs": [],
   "source": [
    "two_sds_from_med <- wt_diaa_bootstrap_diaa %>%\n",
    "    filter(lfc_se <= se_outlier) %>%\n",
    "    dplyr::pull(lfc_med) %>%\n",
    "    sd() * 2"
   ]
  },
  {
   "cell_type": "code",
   "execution_count": 12,
   "metadata": {
    "vscode": {
     "languageId": "r"
    }
   },
   "outputs": [],
   "source": [
    "diaa_boot_med <- wt_diaa_bootstrap_diaa %>% # median of the full bootstrapped library\n",
    "  dplyr::pull(lfc) %>%\n",
    "  median()"
   ]
  },
  {
   "cell_type": "code",
   "execution_count": 13,
   "metadata": {
    "vscode": {
     "languageId": "r"
    }
   },
   "outputs": [],
   "source": [
    "calc_lfc_bootstrap <- function(data, indices) {\n",
    "  d <- data[indices,]\n",
    "  log2(sum(d$mrna)) - log2(sum(d$gdna))\n",
    "}\n",
    "\n",
    "set.seed(1234)\n",
    "wt_bootstrap_dicodon <- wt_dicodon %>%\n",
    "  group_by(dicodon) %>%\n",
    "  nest() %>%\n",
    "  mutate(lfc_boot = map(data, function(df) boot::boot(data=df, statistic=calc_lfc_bootstrap, R=100)$t)) %>%\n",
    "  select(-data) %>%\n",
    "  mutate(lfc = map_dbl(lfc_boot, mean)) %>%\n",
    "  mutate(lfc_sd = map_dbl(lfc_boot, sd)) %>%\n",
    "  mutate(lfc_se = map_dbl(lfc_boot, std.error)) %>%\n",
    "  select(-lfc_boot) %>%\n",
    "  ungroup() %>%\n",
    "  mutate(lfc_med = lfc - median(lfc)) %>%\n",
    "  inner_join(insert_annotations, by = \"dicodon\") %>%\n",
    "  mutate(strain = 'wt')"
   ]
  },
  {
   "cell_type": "code",
   "execution_count": 14,
   "metadata": {
    "vscode": {
     "languageId": "r"
    }
   },
   "outputs": [],
   "source": [
    "select_diaa <- wt_diaa_bootstrap_diaa %>%\n",
    "    filter(lfc_se <= se_outlier) %>%\n",
    "    mutate(sds_from_med = case_when(\n",
    "                            lfc_med >= two_sds_from_med ~ '>=2',\n",
    "                            lfc_med <= -two_sds_from_med ~ '<=2',\n",
    "                            TRUE ~ 'within_two_sds')) %>%\n",
    "    filter(sds_from_med == '<=2') %>%\n",
    "    arrange(lfc_med) %>%\n",
    "    dplyr::pull(diaa)\n",
    "\n",
    "select_dicodons <- wt_dicodon %>%\n",
    "    filter(diaa %in% select_diaa) %>%\n",
    "    group_by(dicodon, diaa) %>%\n",
    "    summarize(n(), .groups='drop') %>%\n",
    "    dplyr::pull(dicodon)\n",
    "\n",
    "frameshifts_1 <- wt_bootstrap_dicodon %>%\n",
    "    filter(dicodon %in% select_dicodons) %>%\n",
    "    mutate(frameshift = str_c(str_sub(dicodon, 2,6), str_sub(dicodon, 1,1))) %>%\n",
    "    dplyr::pull(frameshift)\n",
    "\n",
    "frameshifts_2 <- wt_bootstrap_dicodon %>%\n",
    "    filter(dicodon %in% select_dicodons) %>%\n",
    "    mutate(frameshift = str_c(str_sub(dicodon, 3,6), str_sub(dicodon, 1,2))) %>%\n",
    "    dplyr::pull(frameshift)"
   ]
  },
  {
   "cell_type": "code",
   "execution_count": 15,
   "metadata": {
    "vscode": {
     "languageId": "r"
    }
   },
   "outputs": [],
   "source": [
    "wt_dicodon_counts_frame_1 <- wt_dicodon %>%\n",
    "  filter(sample_name == 'wt') %>%\n",
    "  filter(dicodon %in% frameshifts_1) %>% \n",
    "  filter(!(diaa %in% select_diaa)) %>%\n",
    "  mutate(Frame='Frameshifted') %>%\n",
    "  mutate(match_dicodon = str_c(str_sub(dicodon, 6,6), str_sub(dicodon, 1,5))) %>%\n",
    "  dplyr::rename(frameshifted = dicodon)\n",
    "\n",
    "wt_dicodon_counts_frame_2 <- wt_dicodon %>%\n",
    "  filter(sample_name == 'wt') %>%\n",
    "  filter(dicodon %in% frameshifts_2) %>% \n",
    "  filter(!(diaa %in% select_diaa)) %>%\n",
    "  mutate(Frame='Frameshifted') %>%\n",
    "  mutate(match_dicodon = str_c(str_sub(dicodon, 5,6), str_sub(dicodon, 1,4))) %>%\n",
    "  dplyr::rename(frameshifted = dicodon)\n",
    "\n",
    "wt_dicodon_counts_frameshifted <- bind_rows(wt_dicodon_counts_frame_1, wt_dicodon_counts_frame_2) %>%\n",
    "  select(frameshifted, diaa, mrna, gdna, Frame, match_dicodon)"
   ]
  },
  {
   "cell_type": "code",
   "execution_count": 16,
   "metadata": {
    "vscode": {
     "languageId": "r"
    }
   },
   "outputs": [],
   "source": [
    "wt_dicodon_counts_in_frame <- wt_dicodon %>%\n",
    "  filter(sample_name == 'wt') %>%\n",
    "  filter(diaa %in% select_diaa) %>%\n",
    "  mutate(Frame='In-frame') %>%\n",
    "  mutate(frameshifted = dicodon) %>%\n",
    "  dplyr::rename(match_dicodon = dicodon) %>%\n",
    "  select(frameshifted, diaa, mrna, gdna, Frame, match_dicodon)\n",
    "\n",
    "wt_dicodon_counts_frames <- bind_rows(wt_dicodon_counts_in_frame, wt_dicodon_counts_frameshifted) %>%\n",
    "    mutate(match_diaa = as.character(translate(DNAStringSet(match_dicodon), no.init.codon = T)))"
   ]
  },
  {
   "cell_type": "code",
   "execution_count": 17,
   "metadata": {
    "vscode": {
     "languageId": "r"
    }
   },
   "outputs": [],
   "source": [
    "set.seed(1234)\n",
    "select_diaa_frame_boot <- wt_dicodon_counts_frames %>%\n",
    "    group_by(match_diaa, Frame) %>%\n",
    "    nest() %>%\n",
    "    mutate(lfc_boot = map(data, function(df) boot::boot(data=df, statistic=calc_lfc_bootstrap, R=100)$t)) %>%\n",
    "    select(-data) %>%\n",
    "    mutate(lfc = map_dbl(lfc_boot, mean)) %>%\n",
    "    mutate(lfc_sd = map_dbl(lfc_boot, sd)) %>%\n",
    "    mutate(var = lfc_sd**2) %>%\n",
    "    select(-lfc_boot) %>%\n",
    "    ungroup() %>%\n",
    "    mutate(lfc_med = lfc - diaa_boot_med) %>%\n",
    "    filter(!str_detect(match_diaa, '\\\\*'))"
   ]
  },
  {
   "cell_type": "code",
   "execution_count": 19,
   "metadata": {
    "vscode": {
     "languageId": "r"
    }
   },
   "outputs": [],
   "source": [
    "select_diaa_frame_boot %>%\n",
    "    filter(match_diaa != 'YK') %>% # YK produces variable effects in the other datasets \n",
    "    write_csv(\"../tables/destabilized_wt.csv\")"
   ]
  },
  {
   "attachments": {},
   "cell_type": "markdown",
   "metadata": {},
   "source": [
    "## Plot dipeptide heat map"
   ]
  },
  {
   "cell_type": "code",
   "execution_count": 21,
   "metadata": {
    "vscode": {
     "languageId": "r"
    }
   },
   "outputs": [],
   "source": [
    "diaa_lfc_burke2022 <- barcode_counts %>% \n",
    "  group_by(insert_num, sample_name) %>%\n",
    "  summarize(count = sum(barcode_count), n_barcodes = dplyr::n(), .groups='drop') %>%\n",
    "  inner_join(insert_annotations, by = \"insert_num\") %>%\n",
    "  group_by(diaa, aa1, aa2, sample_name) %>%\n",
    "  mutate(count = sum(count), n_barcodes = sum(n_barcodes)) %>%\n",
    "  ungroup() %>%\n",
    "  group_by(diaa, aa1, aa2) %>%\n",
    "  ungroup() %>% \n",
    "  pivot_wider(names_from = sample_name, values_from = c(\"count\", \"n_barcodes\")) %>%\n",
    "  mutate(lfc = log2(count_wt_mrna) - log2(count_wt_gdna)) %>% \n",
    "  group_by(diaa, aa1, aa2) %>%\n",
    "  slice(1) %>% \n",
    "  ungroup() %>%\n",
    "  drop_na() %>% \n",
    "  mutate(lfc_med = lfc - median(lfc))"
   ]
  },
  {
   "cell_type": "code",
   "execution_count": 22,
   "metadata": {
    "vscode": {
     "languageId": "r"
    }
   },
   "outputs": [
    {
     "data": {
      "image/png": "[encoded data removed]",
      "text/plain": [
       "plot without title"
      ]
     },
     "metadata": {
      "image/png": {
       "height": 150,
       "width": 180
      }
     },
     "output_type": "display_data"
    }
   ],
   "source": [
    "options(repr.plot.width=3, repr.plot.height=2.5)\n",
    "\n",
    "AMINO_ACID_CODE[\"*\"] = \"Stop\"\n",
    "aa_reorder_list <- c(\"Met\", \"Leu\", \"Ile\", \"Val\", \"Ala\", \"Thr\", \"Ser\", \"Gln\", \"Asn\", \"Asp\", \"Glu\", \"Arg\", \"Lys\", \"His\", \"Trp\", \"Tyr\", \"Phe\", \"Pro\", \"Gly\", \"Cys\", \"Stop\")\n",
    "\n",
    "diaa_lfc_burke2022 %>% \n",
    "  mutate(aa1 = substr(diaa, 1, 1), aa2 = substr(diaa, 2, 2)) %>%\n",
    "  filter(diaa != 'spikein') %>%\n",
    "  complete(aa1, aa2) %>%\n",
    "  mutate(aa1 = AMINO_ACID_CODE[aa1], aa2 = AMINO_ACID_CODE[aa2]) %>% \n",
    "  mutate(scaled_lfc = case_when(\n",
    "    lfc_med < -2 ~ -2,\n",
    "    lfc_med > 2  ~ 2,\n",
    "    T ~ lfc_med)) %>%\n",
    "  ggplot(aes(x = aa1, y = aa2, fill = scaled_lfc)) +\n",
    "  geom_tile() +\n",
    "  scale_fill_gradient2(labels = rev(c('1', '0', '-1', '<-2'))) +\n",
    "  scale_x_discrete(limits = rev(aa_reorder_list)) +\n",
    "  scale_y_discrete(limits = rev(aa_reorder_list)) +\n",
    "  theme +\n",
    "  theme(axis.text.x = element_text(angle = 60, hjust = 1),\n",
    "        axis.line.x = element_blank(),\n",
    "        axis.line.y = element_blank(),\n",
    "        axis.ticks.x = element_line(size=0.2),\n",
    "        axis.ticks.y = element_line(size=0.2),\n",
    "        legend.key.height = unit(3, 'mm'),\n",
    "        legend.key.width = unit(3, 'mm'),\n",
    "        legend.text = element_text(size=7),\n",
    "        legend.title = element_text(size=7),\n",
    "        legend.box.margin=margin(-13,-10,-12,-10),\n",
    "        legend.position='top',\n",
    "        ) +\n",
    "  labs(fill = \"mRNA level\\n(log2, arb. units)\", x = \"Amino acid in position 1\", y = \"Amino acid in position 2\")\n",
    "\n",
    "ggsave(\"../figures/fig2_wt_med_norm_diaa_heatmap_scaled.pdf\", width=3.8, height=3.6, units='in')"
   ]
  },
  {
   "attachments": {},
   "cell_type": "markdown",
   "metadata": {},
   "source": [
    "## Plot dicodon heat map"
   ]
  },
  {
   "cell_type": "code",
   "execution_count": 23,
   "metadata": {
    "vscode": {
     "languageId": "r"
    }
   },
   "outputs": [],
   "source": [
    "wt_dicodon_nocutoffs <- barcode_counts %>%\n",
    "    mutate(sample_type = str_extract(sample_name, '[^_]+$')) %>%\n",
    "    mutate(sample_name = str_extract(sample_name, '[^_]+')) %>%\n",
    "    filter(sample_name == 'wt') %>%\n",
    "    inner_join(insert_annotations, by='insert_num') %>%\n",
    "    select(-barcode, -aa1, -aa2, -codon1, -codon2) %>%\n",
    "    pivot_wider(names_from='sample_type', values_from=c(barcode_count)) %>%\n",
    "    drop_na()"
   ]
  },
  {
   "cell_type": "code",
   "execution_count": 24,
   "metadata": {
    "vscode": {
     "languageId": "r"
    }
   },
   "outputs": [],
   "source": [
    "calc_lfc_bootstrap <- function(data, indices) {\n",
    "  d <- data[indices,]\n",
    "  log2(sum(d$mrna)) - log2(sum(d$gdna))\n",
    "}\n",
    "set.seed(1234)\n",
    "wt_bootstrap_dicodon_nocutoffs <- wt_dicodon_nocutoffs %>%\n",
    "  group_by(dicodon) %>%\n",
    "  nest() %>%\n",
    "  mutate(lfc_boot = map(data, function(df) boot::boot(data=df, statistic=calc_lfc_bootstrap, R=100)$t)) %>%\n",
    "  select(-data) %>%\n",
    "  mutate(lfc = map_dbl(lfc_boot, mean)) %>%\n",
    "  mutate(lfc_sd = map_dbl(lfc_boot, sd)) %>%\n",
    "  select(-lfc_boot) %>%\n",
    "  ungroup() %>%\n",
    "  mutate(lfc_med = lfc - median(lfc)) %>%\n",
    "  inner_join(insert_annotations, by = \"dicodon\") %>%\n",
    "  mutate(strain = 'wt')"
   ]
  },
  {
   "cell_type": "code",
   "execution_count": 25,
   "metadata": {
    "vscode": {
     "languageId": "r"
    }
   },
   "outputs": [
    {
     "data": {
      "image/png": "[encoded data removed]",
      "text/plain": [
       "plot without title"
      ]
     },
     "metadata": {
      "image/png": {
       "height": 240,
       "width": 240
      }
     },
     "output_type": "display_data"
    }
   ],
   "source": [
    "options(repr.plot.width=4, repr.plot.height=4)\n",
    "\n",
    "codon_reorder_list <- c('ATG,Met','CTA,Leu','CTC,Leu','CTG,Leu','CTT,Leu','TTA,Leu','TTG,Leu','ATA,Ile','ATC,Ile','ATT,Ile','GTA,Val','GTC,Val','GTG,Val','GTT,Val','GCA,Ala','GCC,Ala','GCG,Ala','GCT,Ala','ACA,Thr','ACC,Thr','ACG,Thr','ACT,Thr','AGC,Ser','AGT,Ser','TCA,Ser','TCC,Ser','TCG,Ser','TCT,Ser','CAA,Gln','CAG,Gln','AAC,Asn','AAT,Asn','GAC,Asp','GAT,Asp','GAA,Glu','GAG,Glu','AGA,Arg','AGG,Arg','CGA,Arg','CGC,Arg','CGG,Arg','CGT,Arg','AAA,Lys','AAG,Lys','CAT,His','CAC,His','TGG,Trp','TAC,Tyr','TAT,Tyr','TTT,Phe','TTC,Phe','CCA,Pro','CCC,Pro','CCG,Pro','CCT,Pro','GGA,Gly','GGC,Gly','GGG,Gly','GGT,Gly','TGT,Cys','TGC,Cys','TAA,Stop','TAG,Stop','TGA,Stop')\n",
    "aa_order <- c('Arg', 'Stop', 'Trp', 'Lys', 'Gly', 'Cys', 'Val', 'Glu', 'Gln', 'Asp', 'Ser', 'Met', 'Ala', 'Leu', 'Ile', 'Asn', 'Tyr', 'His', 'Thr', 'Phe', 'Pro')\n",
    "\n",
    "wt_bootstrap_dicodon_nocutoffs %>% \n",
    "  select(strain, codon1, codon2, lfc, lfc_sd, lfc_med) %>% \n",
    "  complete(strain, codon1, codon2) %>%\n",
    "  mutate(codon1 = factor(str_c(codon1, ',', AMINO_ACID_CODE[GENETIC_CODE[codon1]]), levels=rev(codon_reorder_list))) %>% \n",
    "  mutate(codon2 = factor(str_c(codon2, ',', AMINO_ACID_CODE[GENETIC_CODE[codon2]]), levels=rev(codon_reorder_list))) %>% \n",
    "  mutate(scaled_lfc = ifelse(lfc_med >= -2 & lfc_med <= 2, lfc_med, ifelse(lfc_med > 2, 2, ifelse(lfc_med < -2, -2, NA)))) %>%\n",
    "  ggplot(aes(x = codon1, y = codon2, fill = scaled_lfc)) +\n",
    "  geom_tile() +\n",
    "  scale_fill_gradient2(na.value='dark grey', labels = rev(c('2', '1', '0', '-1', '<-2'))) +\n",
    "  scale_x_discrete(guide = guide_axis_nested(delim = \",\")) +\n",
    "  scale_y_discrete(guide = guide_axis_nested(delim = \",\")) +\n",
    "  theme +\n",
    "  theme(axis.text.x = element_text(angle = 90, vjust=0.5, margin = margin(r = 0), size=7),\n",
    "        axis.text.y = element_text(margin = margin(r = 0), size=7),\n",
    "        axis.line.x = element_blank(),\n",
    "        axis.line.y = element_blank(),\n",
    "        legend.key.height = unit(3, 'mm'),\n",
    "        legend.key.width = unit(3, 'mm'),\n",
    "        legend.text = element_text(size=7),\n",
    "        legend.title = element_text(size=7),\n",
    "        legend.box.margin=margin(-12,-12,-12,-12),\n",
    "        legend.position='top',\n",
    "        legend.justification='center',\n",
    "        ggh4x.axis.nestline = element_line(linewidth = 0.2),\n",
    "        ggh4x.axis.nesttext.x = element_text(angle = 45, hjust=1, vjust=1),\n",
    "        ) +\n",
    "  guides(fill = guide_colourbar(title.position=\"left\", title.justification='left')) +\n",
    "  labs(fill = \"mRNA level\\n(log2, arb. units)\", x = \"Codon in position 1\", y = \"Codon in position 2\")\n",
    "\n",
    "ggsave(\"../figures/fig2_bootstrap_dicodon_heatmap_scaled_no_cutoffs.pdf\", width=6.7, height=6.4, units='in')"
   ]
  },
  {
   "cell_type": "markdown",
   "metadata": {},
   "source": [
    "## Plot frame 0 vs frame 3 correlation for dicodons"
   ]
  },
  {
   "cell_type": "code",
   "execution_count": 26,
   "metadata": {
    "vscode": {
     "languageId": "r"
    }
   },
   "outputs": [],
   "source": [
    "insert_reads_cutoff <- 500\n",
    "n_barcodes_cutoff <- 2\n",
    "barcode_reads_cutoff <- 10\n",
    "AMINO_ACID_CODE[\"*\"] = \"*\"\n",
    "\n",
    "dicodon_lfc_51 <- barcode_counts %>% \n",
    "  left_join(select(sample_annotations, c(sample_id, sample_name)), by = \"sample_name\") %>%\n",
    "  drop_na(barcode_count) %>%\n",
    "  select(-sample_id) %>%\n",
    "  filter(barcode_count >= barcode_reads_cutoff) %>%\n",
    "  group_by(insert_num, sample_name) %>%\n",
    "  summarize(count = sum(barcode_count), n_barcodes = dplyr::n(), .groups='drop') %>%\n",
    "  ungroup() %>% \n",
    "  inner_join(insert_annotations, by = \"insert_num\") %>%\n",
    "  group_by(dicodon, diaa, aa1, aa2, sample_name) %>%\n",
    "  summarize(count = sum(count), n_barcodes = sum(n_barcodes), .groups='drop') %>%\n",
    "  ungroup() %>%\n",
    "  pivot_wider(names_from = sample_name, values_from = c(\"count\", \"n_barcodes\")) %>%\n",
    "  filter((count_wt_gdna >= insert_reads_cutoff) & (count_wt_mrna >= insert_reads_cutoff)) %>%\n",
    "  filter((n_barcodes_wt_gdna >= n_barcodes_cutoff) & (n_barcodes_wt_mrna >= n_barcodes_cutoff)) %>%\n",
    "  mutate(lfc = log2(count_wt_mrna) - log2(count_wt_gdna)) %>%\n",
    "  drop_na(lfc) %>%\n",
    "  mutate(lfc = lfc - median(lfc)) %>%\n",
    "  arrange(lfc)"
   ]
  },
  {
   "cell_type": "code",
   "execution_count": 27,
   "metadata": {
    "vscode": {
     "languageId": "r"
    }
   },
   "outputs": [],
   "source": [
    "plot_data <- dicodon_lfc_51 %>% \n",
    "  crossing(frame = c(\"frame\" = seq(0,5))) %>%\n",
    "  select(-lfc, -diaa, -aa1, -aa2) %>%\n",
    "  mutate(dicodon = substr(paste0(dicodon, dicodon), frame + 1, 6 + frame)) %>%\n",
    "  group_by(dicodon, frame) %>%\n",
    "  summarize_all(sum) %>%\n",
    "  ungroup() %>%\n",
    "  mutate(lfc = log2(count_wt_mrna / count_wt_gdna)) %>%\n",
    "  mutate(lfc_2 = lfc - median(lfc)) %>%\n",
    "  select(dicodon, frame, lfc, lfc_2) %>%\n",
    "  complete(dicodon, frame) %>%\n",
    "  group_by(dicodon) %>% \n",
    "  mutate(frame0_lfc = lfc_2[frame == 0]) %>% \n",
    "  ungroup() %>% \n",
    "  filter(frame %in% c(3)) %>% \n",
    "  mutate(frame = paste0(\"+\", frame)) %>% \n",
    "  filter(!str_detect(dicodon, \"\\\\*\")) %>% \n",
    "  filter(str_sub(dicodon,1,3) != str_sub(dicodon, 4,6)) %>%\n",
    "  drop_na() %>%\n",
    "  arrange(dicodon) "
   ]
  },
  {
   "cell_type": "code",
   "execution_count": 28,
   "metadata": {
    "vscode": {
     "languageId": "r"
    }
   },
   "outputs": [
    {
     "name": "stderr",
     "output_type": "stream",
     "text": [
      "Warning message:\n",
      "“unnest() has a new interface. See ?unnest for details.\n",
      "Try `df %>% unnest(c(fit, n))`, with `mutate()` if needed”\n"
     ]
    }
   ],
   "source": [
    "label_data <- plot_data %>% \n",
    "  group_by(frame) %>% \n",
    "  nest() %>% \n",
    "  mutate(n = map_int(data, nrow), fit = map(data, function(df) cor.test(~frame0_lfc + lfc_2, data = df))) %>% \n",
    "  mutate(fit = map(fit, broom::tidy)) %>% \n",
    "  unnest(fit, n) %>% \n",
    "  select(-data) %>%\n",
    "  mutate(estimate = paste0(\"r = \", round(estimate, 2)))"
   ]
  },
  {
   "cell_type": "code",
   "execution_count": 29,
   "metadata": {
    "vscode": {
     "languageId": "r"
    }
   },
   "outputs": [
    {
     "data": {
      "image/png": "[encoded data removed]",
      "text/plain": [
       "plot without title"
      ]
     },
     "metadata": {
      "image/png": {
       "height": 180,
       "width": 600
      }
     },
     "output_type": "display_data"
    }
   ],
   "source": [
    "options(repr.plot.width = 10, repr.plot.height = 3)\n",
    "\n",
    "plot_data %>% \n",
    "  ggplot(aes(y = lfc_2, x = frame0_lfc)) +\n",
    "  geom_point(size = 0.2) +\n",
    "  geom_text(aes(label = estimate), x = 2, y = -2.9, data = label_data, size=7/.pt) +\n",
    "  theme + \n",
    "  theme(strip.background = element_blank(),\n",
    "        strip.text.x = element_text(size = 8)) + \n",
    "  labs(x = \"mRNA level\\ncodon pair (log2, arb. units)\", y = \"mRNA level\\nreversed codon pair\\n(log2, arb. units)\")\n",
    "\n",
    "ggsave(\"../figures/wt_dicodon_frame_effects_rm_missing.pdf\", width=1.8, height=1.7)"
   ]
  },
  {
   "cell_type": "code",
   "execution_count": 30,
   "metadata": {
    "vscode": {
     "languageId": "r"
    }
   },
   "outputs": [
    {
     "data": {
      "text/html": [
       "<table class=\"dataframe\">\n",
       "<caption>A grouped_df: 1 × 10</caption>\n",
       "<thead>\n",
       "\t<tr><th scope=col>frame</th><th scope=col>n</th><th scope=col>estimate</th><th scope=col>statistic</th><th scope=col>p.value</th><th scope=col>parameter</th><th scope=col>conf.low</th><th scope=col>conf.high</th><th scope=col>method</th><th scope=col>alternative</th></tr>\n",
       "\t<tr><th scope=col>&lt;chr&gt;</th><th scope=col>&lt;int&gt;</th><th scope=col>&lt;chr&gt;</th><th scope=col>&lt;dbl&gt;</th><th scope=col>&lt;dbl&gt;</th><th scope=col>&lt;int&gt;</th><th scope=col>&lt;dbl&gt;</th><th scope=col>&lt;dbl&gt;</th><th scope=col>&lt;chr&gt;</th><th scope=col>&lt;chr&gt;</th></tr>\n",
       "</thead>\n",
       "<tbody>\n",
       "\t<tr><td>+3</td><td>2534</td><td>r = 0.92</td><td>119.423</td><td>0</td><td>2532</td><td>0.9154477</td><td>0.9272044</td><td>Pearson's product-moment correlation</td><td>two.sided</td></tr>\n",
       "</tbody>\n",
       "</table>\n"
      ],
      "text/latex": [
       "A grouped\\_df: 1 × 10\n",
       "\\begin{tabular}{llllllllll}\n",
       " frame & n & estimate & statistic & p.value & parameter & conf.low & conf.high & method & alternative\\\\\n",
       " <chr> & <int> & <chr> & <dbl> & <dbl> & <int> & <dbl> & <dbl> & <chr> & <chr>\\\\\n",
       "\\hline\n",
       "\t +3 & 2534 & r = 0.92 & 119.423 & 0 & 2532 & 0.9154477 & 0.9272044 & Pearson's product-moment correlation & two.sided\\\\\n",
       "\\end{tabular}\n"
      ],
      "text/markdown": [
       "\n",
       "A grouped_df: 1 × 10\n",
       "\n",
       "| frame &lt;chr&gt; | n &lt;int&gt; | estimate &lt;chr&gt; | statistic &lt;dbl&gt; | p.value &lt;dbl&gt; | parameter &lt;int&gt; | conf.low &lt;dbl&gt; | conf.high &lt;dbl&gt; | method &lt;chr&gt; | alternative &lt;chr&gt; |\n",
       "|---|---|---|---|---|---|---|---|---|---|\n",
       "| +3 | 2534 | r = 0.92 | 119.423 | 0 | 2532 | 0.9154477 | 0.9272044 | Pearson's product-moment correlation | two.sided |\n",
       "\n"
      ],
      "text/plain": [
       "  frame n    estimate statistic p.value parameter conf.low  conf.high\n",
       "1 +3    2534 r = 0.92 119.423   0       2532      0.9154477 0.9272044\n",
       "  method                               alternative\n",
       "1 Pearson's product-moment correlation two.sided  "
      ]
     },
     "metadata": {},
     "output_type": "display_data"
    }
   ],
   "source": [
    "label_data"
   ]
  }
 ],
 "metadata": {
  "kernelspec": {
   "display_name": "R_project_repo_1.13.0",
   "language": "R",
   "name": "ir_project_repo_1.13.0"
  },
  "language_info": {
   "codemirror_mode": "r",
   "file_extension": ".r",
   "mimetype": "text/x-r-source",
   "name": "R",
   "pygments_lexer": "r",
   "version": "4.1.3"
  },
  "orig_nbformat": 4
 },
 "nbformat": 4,
 "nbformat_minor": 2
}
