{
 "cells": [
  {
   "attachments": {},
   "cell_type": "markdown",
   "metadata": {},
   "source": [
    "## Minimum code for plotting aggregate codon/amino acid effects and comparison with published metrics\n",
    "- (Figure 1)"
   ]
  },
  {
   "cell_type": "code",
   "execution_count": 40,
   "metadata": {
    "vscode": {
     "languageId": "r"
    }
   },
   "outputs": [],
   "source": [
    "suppressPackageStartupMessages(library(Biostrings))\n",
    "suppressPackageStartupMessages(library(tidyverse))\n",
    "suppressPackageStartupMessages(library(rasilabRtemplates))\n",
    "suppressPackageStartupMessages(library(boot))\n",
    "suppressPackageStartupMessages(library(ggrepel))\n",
    "suppressPackageStartupMessages(library(ggh4x))\n",
    "barcode_reads_cutoff <- 10 "
   ]
  },
  {
   "attachments": {},
   "cell_type": "markdown",
   "metadata": {},
   "source": [
    "### Global plotting themes"
   ]
  },
  {
   "cell_type": "code",
   "execution_count": 41,
   "metadata": {
    "vscode": {
     "languageId": "r"
    }
   },
   "outputs": [],
   "source": [
    "theme <- theme(\n",
    "        title = element_text(margin = margin(t=0, r=2, b=2, l=2), size=8),\n",
    "        axis.title.x = element_text(margin = margin(t=2, r=2, b=0, l=2), size=8),\n",
    "        axis.title.y = element_text(margin = margin(t=2, r=2, b=2, l=0), size=8),\n",
    "        text = element_text(size = 8),\n",
    "        legend.text=element_text(size=8),\n",
    "        axis.line.x=element_line(linewidth=0.2),\n",
    "        axis.line.y=element_line(linewidth=0.2),\n",
    "        axis.ticks.y =  element_line(linewidth=0.2),\n",
    "        axis.ticks.x = element_line(linewidth=0.2),\n",
    "        axis.text.x = element_text(size=8),\n",
    "        axis.text.y = element_text(size=8)\n",
    "        )"
   ]
  },
  {
   "cell_type": "code",
   "execution_count": 42,
   "metadata": {
    "vscode": {
     "languageId": "r"
    }
   },
   "outputs": [],
   "source": [
    "if (!file.exists('../figures')){\n",
    "    dir.create('../figures')\n",
    "}\n",
    "\n",
    "if (!file.exists('../tables')){\n",
    "    dir.create('../tables')\n",
    "}"
   ]
  },
  {
   "attachments": {},
   "cell_type": "markdown",
   "metadata": {},
   "source": [
    "### Load sample annotations and barcode counts"
   ]
  },
  {
   "cell_type": "code",
   "execution_count": 43,
   "metadata": {
    "vscode": {
     "languageId": "r"
    }
   },
   "outputs": [
    {
     "name": "stderr",
     "output_type": "stream",
     "text": [
      "\u001b[1mRows: \u001b[22m\u001b[34m2\u001b[39m \u001b[1mColumns: \u001b[22m\u001b[34m15\u001b[39m\n",
      "\u001b[36m──\u001b[39m \u001b[1mColumn specification\u001b[22m \u001b[36m────────────────────────────────────────────────────────\u001b[39m\n",
      "\u001b[1mDelimiter:\u001b[22m \",\"\n",
      "\u001b[31mchr\u001b[39m (12): owner, sample_type, sample_name, plasmid, library_type, illumina_s...\n",
      "\u001b[32mdbl\u001b[39m  (3): barcode_read, barcode_start, barcode_length\n"
     ]
    },
    {
     "name": "stderr",
     "output_type": "stream",
     "text": [
      "\n",
      "\u001b[36mℹ\u001b[39m Use `spec()` to retrieve the full column specification for this data.\n",
      "\u001b[36mℹ\u001b[39m Specify the column types or set `show_col_types = FALSE` to quiet this message.\n"
     ]
    },
    {
     "data": {
      "text/html": [
       "<table class=\"dataframe\">\n",
       "<caption>A spec_tbl_df: 2 × 15</caption>\n",
       "<thead>\n",
       "\t<tr><th scope=col>owner</th><th scope=col>sample_type</th><th scope=col>sample_name</th><th scope=col>plasmid</th><th scope=col>library_type</th><th scope=col>illumina_sample_id</th><th scope=col>sample_id</th><th scope=col>barcode_read</th><th scope=col>barcode_start</th><th scope=col>barcode_length</th><th scope=col>linkage_ref</th><th scope=col>r1_file</th><th scope=col>r2_file</th><th scope=col>s3</th><th scope=col>shared</th></tr>\n",
       "\t<tr><th scope=col>&lt;chr&gt;</th><th scope=col>&lt;chr&gt;</th><th scope=col>&lt;chr&gt;</th><th scope=col>&lt;chr&gt;</th><th scope=col>&lt;chr&gt;</th><th scope=col>&lt;chr&gt;</th><th scope=col>&lt;chr&gt;</th><th scope=col>&lt;dbl&gt;</th><th scope=col>&lt;dbl&gt;</th><th scope=col>&lt;dbl&gt;</th><th scope=col>&lt;chr&gt;</th><th scope=col>&lt;chr&gt;</th><th scope=col>&lt;chr&gt;</th><th scope=col>&lt;chr&gt;</th><th scope=col>&lt;chr&gt;</th></tr>\n",
       "</thead>\n",
       "<tbody>\n",
       "\t<tr><td>kc</td><td>dicodon_yeast</td><td>wt_gdna</td><td>pHPSC1142</td><td>grna</td><td>51lib2</td><td>51lib2</td><td>1</td><td>1</td><td>24</td><td>yeast_cyto_linkage</td><td>kc_51lib2_S13_R1_001</td><td>kc_51lib2_S13_R2_001</td><td>fh-pi-subramaniam-a-eco/data/kchen/illumina/20220328_exp51_wt_8xdicodon/</td><td>/shared/ngs/illumina/subramaniam_lab/220328_VH00319_178_AAAYF3FM5/Unaligned/Project_subramaniam_lab/</td></tr>\n",
       "\t<tr><td>kc</td><td>dicodon_yeast</td><td>wt_mrna</td><td>pHPSC1142</td><td>mrna</td><td>51lib1</td><td>51lib1</td><td>1</td><td>1</td><td>24</td><td>yeast_cyto_linkage</td><td>kc_51lib1_S12_R1_001</td><td>kc_51lib1_S12_R2_001</td><td>fh-pi-subramaniam-a-eco/data/kchen/illumina/20220328_exp51_wt_8xdicodon/</td><td>/shared/ngs/illumina/subramaniam_lab/220328_VH00319_178_AAAYF3FM5/Unaligned/Project_subramaniam_lab/</td></tr>\n",
       "</tbody>\n",
       "</table>\n"
      ],
      "text/latex": [
       "A spec\\_tbl\\_df: 2 × 15\n",
       "\\begin{tabular}{lllllllllllllll}\n",
       " owner & sample\\_type & sample\\_name & plasmid & library\\_type & illumina\\_sample\\_id & sample\\_id & barcode\\_read & barcode\\_start & barcode\\_length & linkage\\_ref & r1\\_file & r2\\_file & s3 & shared\\\\\n",
       " <chr> & <chr> & <chr> & <chr> & <chr> & <chr> & <chr> & <dbl> & <dbl> & <dbl> & <chr> & <chr> & <chr> & <chr> & <chr>\\\\\n",
       "\\hline\n",
       "\t kc & dicodon\\_yeast & wt\\_gdna & pHPSC1142 & grna & 51lib2 & 51lib2 & 1 & 1 & 24 & yeast\\_cyto\\_linkage & kc\\_51lib2\\_S13\\_R1\\_001 & kc\\_51lib2\\_S13\\_R2\\_001 & fh-pi-subramaniam-a-eco/data/kchen/illumina/20220328\\_exp51\\_wt\\_8xdicodon/ & /shared/ngs/illumina/subramaniam\\_lab/220328\\_VH00319\\_178\\_AAAYF3FM5/Unaligned/Project\\_subramaniam\\_lab/\\\\\n",
       "\t kc & dicodon\\_yeast & wt\\_mrna & pHPSC1142 & mrna & 51lib1 & 51lib1 & 1 & 1 & 24 & yeast\\_cyto\\_linkage & kc\\_51lib1\\_S12\\_R1\\_001 & kc\\_51lib1\\_S12\\_R2\\_001 & fh-pi-subramaniam-a-eco/data/kchen/illumina/20220328\\_exp51\\_wt\\_8xdicodon/ & /shared/ngs/illumina/subramaniam\\_lab/220328\\_VH00319\\_178\\_AAAYF3FM5/Unaligned/Project\\_subramaniam\\_lab/\\\\\n",
       "\\end{tabular}\n"
      ],
      "text/markdown": [
       "\n",
       "A spec_tbl_df: 2 × 15\n",
       "\n",
       "| owner &lt;chr&gt; | sample_type &lt;chr&gt; | sample_name &lt;chr&gt; | plasmid &lt;chr&gt; | library_type &lt;chr&gt; | illumina_sample_id &lt;chr&gt; | sample_id &lt;chr&gt; | barcode_read &lt;dbl&gt; | barcode_start &lt;dbl&gt; | barcode_length &lt;dbl&gt; | linkage_ref &lt;chr&gt; | r1_file &lt;chr&gt; | r2_file &lt;chr&gt; | s3 &lt;chr&gt; | shared &lt;chr&gt; |\n",
       "|---|---|---|---|---|---|---|---|---|---|---|---|---|---|---|\n",
       "| kc | dicodon_yeast | wt_gdna | pHPSC1142 | grna | 51lib2 | 51lib2 | 1 | 1 | 24 | yeast_cyto_linkage | kc_51lib2_S13_R1_001 | kc_51lib2_S13_R2_001 | fh-pi-subramaniam-a-eco/data/kchen/illumina/20220328_exp51_wt_8xdicodon/ | /shared/ngs/illumina/subramaniam_lab/220328_VH00319_178_AAAYF3FM5/Unaligned/Project_subramaniam_lab/ |\n",
       "| kc | dicodon_yeast | wt_mrna | pHPSC1142 | mrna | 51lib1 | 51lib1 | 1 | 1 | 24 | yeast_cyto_linkage | kc_51lib1_S12_R1_001 | kc_51lib1_S12_R2_001 | fh-pi-subramaniam-a-eco/data/kchen/illumina/20220328_exp51_wt_8xdicodon/ | /shared/ngs/illumina/subramaniam_lab/220328_VH00319_178_AAAYF3FM5/Unaligned/Project_subramaniam_lab/ |\n",
       "\n"
      ],
      "text/plain": [
       "  owner sample_type   sample_name plasmid   library_type illumina_sample_id\n",
       "1 kc    dicodon_yeast wt_gdna     pHPSC1142 grna         51lib2            \n",
       "2 kc    dicodon_yeast wt_mrna     pHPSC1142 mrna         51lib1            \n",
       "  sample_id barcode_read barcode_start barcode_length linkage_ref       \n",
       "1 51lib2    1            1             24             yeast_cyto_linkage\n",
       "2 51lib1    1            1             24             yeast_cyto_linkage\n",
       "  r1_file              r2_file             \n",
       "1 kc_51lib2_S13_R1_001 kc_51lib2_S13_R2_001\n",
       "2 kc_51lib1_S12_R1_001 kc_51lib1_S12_R2_001\n",
       "  s3                                                                      \n",
       "1 fh-pi-subramaniam-a-eco/data/kchen/illumina/20220328_exp51_wt_8xdicodon/\n",
       "2 fh-pi-subramaniam-a-eco/data/kchen/illumina/20220328_exp51_wt_8xdicodon/\n",
       "  shared                                                                                              \n",
       "1 /shared/ngs/illumina/subramaniam_lab/220328_VH00319_178_AAAYF3FM5/Unaligned/Project_subramaniam_lab/\n",
       "2 /shared/ngs/illumina/subramaniam_lab/220328_VH00319_178_AAAYF3FM5/Unaligned/Project_subramaniam_lab/"
      ]
     },
     "metadata": {},
     "output_type": "display_data"
    }
   ],
   "source": [
    "sample_annotations = read_csv(\"../annotations/sample_annotations.csv\", comment='#')\n",
    "sample_annotations"
   ]
  },
  {
   "cell_type": "code",
   "execution_count": 44,
   "metadata": {
    "vscode": {
     "languageId": "r"
    }
   },
   "outputs": [
    {
     "name": "stderr",
     "output_type": "stream",
     "text": [
      "\u001b[1mRows: \u001b[22m\u001b[34m197785\u001b[39m \u001b[1mColumns: \u001b[22m\u001b[34m5\u001b[39m\n",
      "\u001b[36m──\u001b[39m \u001b[1mColumn specification\u001b[22m \u001b[36m────────────────────────────────────────────────────────\u001b[39m\n",
      "\u001b[1mDelimiter:\u001b[22m \",\"\n",
      "\u001b[31mchr\u001b[39m (4): barcode_count, insert_num, barcode, linkage_count\n",
      "\u001b[32mdbl\u001b[39m (1): barcode_num\n",
      "\n",
      "\u001b[36mℹ\u001b[39m Use `spec()` to retrieve the full column specification for this data.\n",
      "\u001b[36mℹ\u001b[39m Specify the column types or set `show_col_types = FALSE` to quiet this message.\n",
      "\u001b[1mRows: \u001b[22m\u001b[34m172594\u001b[39m \u001b[1mColumns: \u001b[22m\u001b[34m5\u001b[39m\n",
      "\u001b[36m──\u001b[39m \u001b[1mColumn specification\u001b[22m \u001b[36m────────────────────────────────────────────────────────\u001b[39m\n",
      "\u001b[1mDelimiter:\u001b[22m \",\"\n",
      "\u001b[31mchr\u001b[39m (4): barcode_count, insert_num, barcode, linkage_count\n",
      "\u001b[32mdbl\u001b[39m (1): barcode_num\n",
      "\n",
      "\u001b[36mℹ\u001b[39m Use `spec()` to retrieve the full column specification for this data.\n",
      "\u001b[36mℹ\u001b[39m Specify the column types or set `show_col_types = FALSE` to quiet this message.\n",
      "Warning message:\n",
      "“`cols` is now required when using unnest().\n",
      "Please use `cols = c(counts)`”\n",
      "Warning message in mask$eval_all_mutate(quo):\n",
      "“NAs introduced by coercion”\n",
      "Warning message in mask$eval_all_mutate(quo):\n",
      "“NAs introduced by coercion”\n"
     ]
    }
   ],
   "source": [
    "barcode_counts <- list.files(\"../data/linked_barcode_counts/\", pattern = \".csv$\", full.names = T) %>% \n",
    "  enframe(\"sno\", \"file\") %>% \n",
    "  mutate(counts = map(file, read_csv)) %>% \n",
    "  mutate(sample_name = str_extract(file, \"[^/]+(?=.csv)\")) %>% \n",
    "  select(-sno, -file) %>% \n",
    "  unnest() %>% \n",
    "  mutate(insert_num = as.numeric(str_extract(insert_num, \"[:digit:]+\"))) %>%\n",
    "  mutate(barcode_count = as.numeric(barcode_count)) %>%\n",
    "  mutate(linkage_count = as.numeric(linkage_count))"
   ]
  },
  {
   "cell_type": "code",
   "execution_count": 45,
   "metadata": {
    "vscode": {
     "languageId": "r"
    }
   },
   "outputs": [
    {
     "data": {
      "text/html": [
       "<table class=\"dataframe\">\n",
       "<caption>A tibble: 6 × 6</caption>\n",
       "<thead>\n",
       "\t<tr><th scope=col>barcode_count</th><th scope=col>insert_num</th><th scope=col>barcode_num</th><th scope=col>barcode</th><th scope=col>linkage_count</th><th scope=col>sample_name</th></tr>\n",
       "\t<tr><th scope=col>&lt;dbl&gt;</th><th scope=col>&lt;dbl&gt;</th><th scope=col>&lt;dbl&gt;</th><th scope=col>&lt;chr&gt;</th><th scope=col>&lt;dbl&gt;</th><th scope=col>&lt;chr&gt;</th></tr>\n",
       "</thead>\n",
       "<tbody>\n",
       "\t<tr><td>  NA</td><td>  NA</td><td>      1</td><td>barcode                 </td><td>NA</td><td>wt_gdna</td></tr>\n",
       "\t<tr><td>4871</td><td> 186</td><td>1643847</td><td>AGTCGTTGTAGCAACTCGATGTTT</td><td>16</td><td>wt_gdna</td></tr>\n",
       "\t<tr><td>4653</td><td>5658</td><td>1596380</td><td>CTGGATGTCGCGAGCAACAACAGC</td><td>17</td><td>wt_gdna</td></tr>\n",
       "\t<tr><td>3823</td><td>5810</td><td> 764917</td><td>TGTATTCGGGCCAGCATGAGGTGC</td><td> 4</td><td>wt_gdna</td></tr>\n",
       "\t<tr><td>3656</td><td>2787</td><td>1040412</td><td>AGCGATTAGAGCATTTCTGGCCAC</td><td> 3</td><td>wt_gdna</td></tr>\n",
       "\t<tr><td>3577</td><td> 203</td><td>1644177</td><td>TGGGATCTTTTCGCGTATTCGGTT</td><td>16</td><td>wt_gdna</td></tr>\n",
       "</tbody>\n",
       "</table>\n"
      ],
      "text/latex": [
       "A tibble: 6 × 6\n",
       "\\begin{tabular}{llllll}\n",
       " barcode\\_count & insert\\_num & barcode\\_num & barcode & linkage\\_count & sample\\_name\\\\\n",
       " <dbl> & <dbl> & <dbl> & <chr> & <dbl> & <chr>\\\\\n",
       "\\hline\n",
       "\t   NA &   NA &       1 & barcode                  & NA & wt\\_gdna\\\\\n",
       "\t 4871 &  186 & 1643847 & AGTCGTTGTAGCAACTCGATGTTT & 16 & wt\\_gdna\\\\\n",
       "\t 4653 & 5658 & 1596380 & CTGGATGTCGCGAGCAACAACAGC & 17 & wt\\_gdna\\\\\n",
       "\t 3823 & 5810 &  764917 & TGTATTCGGGCCAGCATGAGGTGC &  4 & wt\\_gdna\\\\\n",
       "\t 3656 & 2787 & 1040412 & AGCGATTAGAGCATTTCTGGCCAC &  3 & wt\\_gdna\\\\\n",
       "\t 3577 &  203 & 1644177 & TGGGATCTTTTCGCGTATTCGGTT & 16 & wt\\_gdna\\\\\n",
       "\\end{tabular}\n"
      ],
      "text/markdown": [
       "\n",
       "A tibble: 6 × 6\n",
       "\n",
       "| barcode_count &lt;dbl&gt; | insert_num &lt;dbl&gt; | barcode_num &lt;dbl&gt; | barcode &lt;chr&gt; | linkage_count &lt;dbl&gt; | sample_name &lt;chr&gt; |\n",
       "|---|---|---|---|---|---|\n",
       "|   NA |   NA |       1 | barcode                  | NA | wt_gdna |\n",
       "| 4871 |  186 | 1643847 | AGTCGTTGTAGCAACTCGATGTTT | 16 | wt_gdna |\n",
       "| 4653 | 5658 | 1596380 | CTGGATGTCGCGAGCAACAACAGC | 17 | wt_gdna |\n",
       "| 3823 | 5810 |  764917 | TGTATTCGGGCCAGCATGAGGTGC |  4 | wt_gdna |\n",
       "| 3656 | 2787 | 1040412 | AGCGATTAGAGCATTTCTGGCCAC |  3 | wt_gdna |\n",
       "| 3577 |  203 | 1644177 | TGGGATCTTTTCGCGTATTCGGTT | 16 | wt_gdna |\n",
       "\n"
      ],
      "text/plain": [
       "  barcode_count insert_num barcode_num barcode                  linkage_count\n",
       "1   NA            NA             1     barcode                  NA           \n",
       "2 4871           186       1643847     AGTCGTTGTAGCAACTCGATGTTT 16           \n",
       "3 4653          5658       1596380     CTGGATGTCGCGAGCAACAACAGC 17           \n",
       "4 3823          5810        764917     TGTATTCGGGCCAGCATGAGGTGC  4           \n",
       "5 3656          2787       1040412     AGCGATTAGAGCATTTCTGGCCAC  3           \n",
       "6 3577           203       1644177     TGGGATCTTTTCGCGTATTCGGTT 16           \n",
       "  sample_name\n",
       "1 wt_gdna    \n",
       "2 wt_gdna    \n",
       "3 wt_gdna    \n",
       "4 wt_gdna    \n",
       "5 wt_gdna    \n",
       "6 wt_gdna    "
      ]
     },
     "metadata": {},
     "output_type": "display_data"
    }
   ],
   "source": [
    "head(barcode_counts)"
   ]
  },
  {
   "attachments": {},
   "cell_type": "markdown",
   "metadata": {},
   "source": [
    "### Load insert-barcode linkages"
   ]
  },
  {
   "cell_type": "code",
   "execution_count": 46,
   "metadata": {
    "vscode": {
     "languageId": "r"
    }
   },
   "outputs": [
    {
     "name": "stderr",
     "output_type": "stream",
     "text": [
      "\u001b[1mRows: \u001b[22m\u001b[34m2455063\u001b[39m \u001b[1mColumns: \u001b[22m\u001b[34m4\u001b[39m\n",
      "\u001b[36m──\u001b[39m \u001b[1mColumn specification\u001b[22m \u001b[36m────────────────────────────────────────────────────────\u001b[39m\n",
      "\u001b[1mDelimiter:\u001b[22m \",\"\n",
      "\u001b[31mchr\u001b[39m (3): insert_num, barcode, linkage_count\n",
      "\u001b[32mdbl\u001b[39m (1): barcode_num\n",
      "\n",
      "\u001b[36mℹ\u001b[39m Use `spec()` to retrieve the full column specification for this data.\n",
      "\u001b[36mℹ\u001b[39m Specify the column types or set `show_col_types = FALSE` to quiet this message.\n",
      "Warning message in mask$eval_all_mutate(quo):\n",
      "“NAs introduced by coercion”\n"
     ]
    },
    {
     "data": {
      "text/html": [
       "<table class=\"dataframe\">\n",
       "<caption>A tibble: 6 × 5</caption>\n",
       "<thead>\n",
       "\t<tr><th scope=col>insert_num</th><th scope=col>barcode_num</th><th scope=col>barcode</th><th scope=col>linkage_count</th><th scope=col>linkage_ref</th></tr>\n",
       "\t<tr><th scope=col>&lt;dbl&gt;</th><th scope=col>&lt;dbl&gt;</th><th scope=col>&lt;chr&gt;</th><th scope=col>&lt;dbl&gt;</th><th scope=col>&lt;chr&gt;</th></tr>\n",
       "</thead>\n",
       "<tbody>\n",
       "\t<tr><td>  NA</td><td>1</td><td>barcode                 </td><td>NA</td><td>yeast_cyto_linkage</td></tr>\n",
       "\t<tr><td>4457</td><td>2</td><td>GGGCTTAAGAAGATCCTTGTCAGG</td><td>99</td><td>yeast_cyto_linkage</td></tr>\n",
       "\t<tr><td>4123</td><td>3</td><td>TAGCACATTTCCTCTGGGGTTCGT</td><td>99</td><td>yeast_cyto_linkage</td></tr>\n",
       "\t<tr><td>4793</td><td>4</td><td>TACTGTTTTGCTCGTGGCGTTTAT</td><td>99</td><td>yeast_cyto_linkage</td></tr>\n",
       "\t<tr><td> 180</td><td>5</td><td>GAGAGGTGGATCGCGCACAGCAAG</td><td>99</td><td>yeast_cyto_linkage</td></tr>\n",
       "\t<tr><td>4969</td><td>6</td><td>GGGGTGTATAGGACCGGCCAGTCT</td><td>99</td><td>yeast_cyto_linkage</td></tr>\n",
       "</tbody>\n",
       "</table>\n"
      ],
      "text/latex": [
       "A tibble: 6 × 5\n",
       "\\begin{tabular}{lllll}\n",
       " insert\\_num & barcode\\_num & barcode & linkage\\_count & linkage\\_ref\\\\\n",
       " <dbl> & <dbl> & <chr> & <dbl> & <chr>\\\\\n",
       "\\hline\n",
       "\t   NA & 1 & barcode                  & NA & yeast\\_cyto\\_linkage\\\\\n",
       "\t 4457 & 2 & GGGCTTAAGAAGATCCTTGTCAGG & 99 & yeast\\_cyto\\_linkage\\\\\n",
       "\t 4123 & 3 & TAGCACATTTCCTCTGGGGTTCGT & 99 & yeast\\_cyto\\_linkage\\\\\n",
       "\t 4793 & 4 & TACTGTTTTGCTCGTGGCGTTTAT & 99 & yeast\\_cyto\\_linkage\\\\\n",
       "\t  180 & 5 & GAGAGGTGGATCGCGCACAGCAAG & 99 & yeast\\_cyto\\_linkage\\\\\n",
       "\t 4969 & 6 & GGGGTGTATAGGACCGGCCAGTCT & 99 & yeast\\_cyto\\_linkage\\\\\n",
       "\\end{tabular}\n"
      ],
      "text/markdown": [
       "\n",
       "A tibble: 6 × 5\n",
       "\n",
       "| insert_num &lt;dbl&gt; | barcode_num &lt;dbl&gt; | barcode &lt;chr&gt; | linkage_count &lt;dbl&gt; | linkage_ref &lt;chr&gt; |\n",
       "|---|---|---|---|---|\n",
       "|   NA | 1 | barcode                  | NA | yeast_cyto_linkage |\n",
       "| 4457 | 2 | GGGCTTAAGAAGATCCTTGTCAGG | 99 | yeast_cyto_linkage |\n",
       "| 4123 | 3 | TAGCACATTTCCTCTGGGGTTCGT | 99 | yeast_cyto_linkage |\n",
       "| 4793 | 4 | TACTGTTTTGCTCGTGGCGTTTAT | 99 | yeast_cyto_linkage |\n",
       "|  180 | 5 | GAGAGGTGGATCGCGCACAGCAAG | 99 | yeast_cyto_linkage |\n",
       "| 4969 | 6 | GGGGTGTATAGGACCGGCCAGTCT | 99 | yeast_cyto_linkage |\n",
       "\n"
      ],
      "text/plain": [
       "  insert_num barcode_num barcode                  linkage_count\n",
       "1   NA       1           barcode                  NA           \n",
       "2 4457       2           GGGCTTAAGAAGATCCTTGTCAGG 99           \n",
       "3 4123       3           TAGCACATTTCCTCTGGGGTTCGT 99           \n",
       "4 4793       4           TACTGTTTTGCTCGTGGCGTTTAT 99           \n",
       "5  180       5           GAGAGGTGGATCGCGCACAGCAAG 99           \n",
       "6 4969       6           GGGGTGTATAGGACCGGCCAGTCT 99           \n",
       "  linkage_ref       \n",
       "1 yeast_cyto_linkage\n",
       "2 yeast_cyto_linkage\n",
       "3 yeast_cyto_linkage\n",
       "4 yeast_cyto_linkage\n",
       "5 yeast_cyto_linkage\n",
       "6 yeast_cyto_linkage"
      ]
     },
     "metadata": {},
     "output_type": "display_data"
    }
   ],
   "source": [
    "insert_barcode_linkages <- read_csv(\"../../8xdicodon_linkage/data/filtered_barcodes/yeast_cyto_linkage.csv\") %>%\n",
    "  mutate(insert_num = as.numeric(str_extract(insert_num, \"[:digit:]+\"))) %>%\n",
    "  mutate(linkage_count = as.numeric(linkage_count)) %>%\n",
    "  mutate(linkage_ref = 'yeast_cyto_linkage')\n",
    "\n",
    "head(insert_barcode_linkages)"
   ]
  },
  {
   "cell_type": "code",
   "execution_count": 47,
   "metadata": {
    "vscode": {
     "languageId": "r"
    }
   },
   "outputs": [
    {
     "data": {
      "text/html": [
       "<table class=\"dataframe\">\n",
       "<caption>A tibble: 6 × 7</caption>\n",
       "<thead>\n",
       "\t<tr><th scope=col>barcode_count</th><th scope=col>insert_num</th><th scope=col>barcode_num</th><th scope=col>barcode</th><th scope=col>linkage_count</th><th scope=col>sample_name</th><th scope=col>linkage_ref</th></tr>\n",
       "\t<tr><th scope=col>&lt;dbl&gt;</th><th scope=col>&lt;dbl&gt;</th><th scope=col>&lt;dbl&gt;</th><th scope=col>&lt;chr&gt;</th><th scope=col>&lt;dbl&gt;</th><th scope=col>&lt;chr&gt;</th><th scope=col>&lt;chr&gt;</th></tr>\n",
       "</thead>\n",
       "<tbody>\n",
       "\t<tr><td>4871</td><td> 186</td><td>1643847</td><td>AGTCGTTGTAGCAACTCGATGTTT</td><td>16</td><td>wt_gdna</td><td>yeast_cyto_linkage</td></tr>\n",
       "\t<tr><td>4653</td><td>5658</td><td>1596380</td><td>CTGGATGTCGCGAGCAACAACAGC</td><td>17</td><td>wt_gdna</td><td>yeast_cyto_linkage</td></tr>\n",
       "\t<tr><td>3823</td><td>5810</td><td> 764917</td><td>TGTATTCGGGCCAGCATGAGGTGC</td><td> 4</td><td>wt_gdna</td><td>yeast_cyto_linkage</td></tr>\n",
       "\t<tr><td>3656</td><td>2787</td><td>1040412</td><td>AGCGATTAGAGCATTTCTGGCCAC</td><td> 3</td><td>wt_gdna</td><td>yeast_cyto_linkage</td></tr>\n",
       "\t<tr><td>3577</td><td> 203</td><td>1644177</td><td>TGGGATCTTTTCGCGTATTCGGTT</td><td>16</td><td>wt_gdna</td><td>yeast_cyto_linkage</td></tr>\n",
       "\t<tr><td>3497</td><td>4868</td><td> 692986</td><td>TCGCTCCGTGTCGTGTCTCCTATG</td><td> 4</td><td>wt_gdna</td><td>yeast_cyto_linkage</td></tr>\n",
       "</tbody>\n",
       "</table>\n"
      ],
      "text/latex": [
       "A tibble: 6 × 7\n",
       "\\begin{tabular}{lllllll}\n",
       " barcode\\_count & insert\\_num & barcode\\_num & barcode & linkage\\_count & sample\\_name & linkage\\_ref\\\\\n",
       " <dbl> & <dbl> & <dbl> & <chr> & <dbl> & <chr> & <chr>\\\\\n",
       "\\hline\n",
       "\t 4871 &  186 & 1643847 & AGTCGTTGTAGCAACTCGATGTTT & 16 & wt\\_gdna & yeast\\_cyto\\_linkage\\\\\n",
       "\t 4653 & 5658 & 1596380 & CTGGATGTCGCGAGCAACAACAGC & 17 & wt\\_gdna & yeast\\_cyto\\_linkage\\\\\n",
       "\t 3823 & 5810 &  764917 & TGTATTCGGGCCAGCATGAGGTGC &  4 & wt\\_gdna & yeast\\_cyto\\_linkage\\\\\n",
       "\t 3656 & 2787 & 1040412 & AGCGATTAGAGCATTTCTGGCCAC &  3 & wt\\_gdna & yeast\\_cyto\\_linkage\\\\\n",
       "\t 3577 &  203 & 1644177 & TGGGATCTTTTCGCGTATTCGGTT & 16 & wt\\_gdna & yeast\\_cyto\\_linkage\\\\\n",
       "\t 3497 & 4868 &  692986 & TCGCTCCGTGTCGTGTCTCCTATG &  4 & wt\\_gdna & yeast\\_cyto\\_linkage\\\\\n",
       "\\end{tabular}\n"
      ],
      "text/markdown": [
       "\n",
       "A tibble: 6 × 7\n",
       "\n",
       "| barcode_count &lt;dbl&gt; | insert_num &lt;dbl&gt; | barcode_num &lt;dbl&gt; | barcode &lt;chr&gt; | linkage_count &lt;dbl&gt; | sample_name &lt;chr&gt; | linkage_ref &lt;chr&gt; |\n",
       "|---|---|---|---|---|---|---|\n",
       "| 4871 |  186 | 1643847 | AGTCGTTGTAGCAACTCGATGTTT | 16 | wt_gdna | yeast_cyto_linkage |\n",
       "| 4653 | 5658 | 1596380 | CTGGATGTCGCGAGCAACAACAGC | 17 | wt_gdna | yeast_cyto_linkage |\n",
       "| 3823 | 5810 |  764917 | TGTATTCGGGCCAGCATGAGGTGC |  4 | wt_gdna | yeast_cyto_linkage |\n",
       "| 3656 | 2787 | 1040412 | AGCGATTAGAGCATTTCTGGCCAC |  3 | wt_gdna | yeast_cyto_linkage |\n",
       "| 3577 |  203 | 1644177 | TGGGATCTTTTCGCGTATTCGGTT | 16 | wt_gdna | yeast_cyto_linkage |\n",
       "| 3497 | 4868 |  692986 | TCGCTCCGTGTCGTGTCTCCTATG |  4 | wt_gdna | yeast_cyto_linkage |\n",
       "\n"
      ],
      "text/plain": [
       "  barcode_count insert_num barcode_num barcode                  linkage_count\n",
       "1 4871           186       1643847     AGTCGTTGTAGCAACTCGATGTTT 16           \n",
       "2 4653          5658       1596380     CTGGATGTCGCGAGCAACAACAGC 17           \n",
       "3 3823          5810        764917     TGTATTCGGGCCAGCATGAGGTGC  4           \n",
       "4 3656          2787       1040412     AGCGATTAGAGCATTTCTGGCCAC  3           \n",
       "5 3577           203       1644177     TGGGATCTTTTCGCGTATTCGGTT 16           \n",
       "6 3497          4868        692986     TCGCTCCGTGTCGTGTCTCCTATG  4           \n",
       "  sample_name linkage_ref       \n",
       "1 wt_gdna     yeast_cyto_linkage\n",
       "2 wt_gdna     yeast_cyto_linkage\n",
       "3 wt_gdna     yeast_cyto_linkage\n",
       "4 wt_gdna     yeast_cyto_linkage\n",
       "5 wt_gdna     yeast_cyto_linkage\n",
       "6 wt_gdna     yeast_cyto_linkage"
      ]
     },
     "metadata": {},
     "output_type": "display_data"
    }
   ],
   "source": [
    "barcode_insert_counts <- barcode_counts %>% \n",
    "  left_join(select(sample_annotations, c(sample_id, sample_name)), by = \"sample_name\") %>%\n",
    "  left_join(insert_barcode_linkages, by = c(\"barcode_num\", \"barcode\", \"insert_num\", \"linkage_count\")) %>%\n",
    "  drop_na(barcode_count) %>%\n",
    "  select(-sample_id)\n",
    "\n",
    "head(barcode_insert_counts)"
   ]
  },
  {
   "cell_type": "code",
   "execution_count": 48,
   "metadata": {
    "vscode": {
     "languageId": "r"
    }
   },
   "outputs": [],
   "source": [
    "if (!file.exists('../tables')){\n",
    "    dir.create('../tables')\n",
    "}\n",
    "\n",
    "barcode_insert_counts %>%\n",
    "    write_tsv(\"../tables/barcode_insert_counts.tsv.gz\")"
   ]
  },
  {
   "attachments": {},
   "cell_type": "markdown",
   "metadata": {},
   "source": [
    "### Load insert annotations"
   ]
  },
  {
   "cell_type": "code",
   "execution_count": 49,
   "metadata": {
    "vscode": {
     "languageId": "r"
    }
   },
   "outputs": [
    {
     "name": "stderr",
     "output_type": "stream",
     "text": [
      "\u001b[1mRows: \u001b[22m\u001b[34m6000\u001b[39m \u001b[1mColumns: \u001b[22m\u001b[34m2\u001b[39m\n",
      "\u001b[36m──\u001b[39m \u001b[1mColumn specification\u001b[22m \u001b[36m────────────────────────────────────────────────────────\u001b[39m\n",
      "\u001b[1mDelimiter:\u001b[22m \",\"\n",
      "\u001b[31mchr\u001b[39m (1): insert\n",
      "\u001b[32mdbl\u001b[39m (1): insert_num\n"
     ]
    },
    {
     "name": "stderr",
     "output_type": "stream",
     "text": [
      "\n",
      "\u001b[36mℹ\u001b[39m Use `spec()` to retrieve the full column specification for this data.\n",
      "\u001b[36mℹ\u001b[39m Specify the column types or set `show_col_types = FALSE` to quiet this message.\n"
     ]
    },
    {
     "name": "stdout",
     "output_type": "stream",
     "text": [
      "\u001b[90m# A tibble: 4,096 × 7\u001b[39m\n",
      "   insert_num dicodon diaa  codon1 codon2 aa1   aa2  \n",
      "        \u001b[3m\u001b[90m<dbl>\u001b[39m\u001b[23m \u001b[3m\u001b[90m<chr>\u001b[39m\u001b[23m   \u001b[3m\u001b[90m<chr>\u001b[39m\u001b[23m \u001b[3m\u001b[90m<chr>\u001b[39m\u001b[23m  \u001b[3m\u001b[90m<chr>\u001b[39m\u001b[23m  \u001b[3m\u001b[90m<chr>\u001b[39m\u001b[23m \u001b[3m\u001b[90m<chr>\u001b[39m\u001b[23m\n",
      "\u001b[90m 1\u001b[39m          0 AAAAAA  KK    AAA    AAA    K     K    \n",
      "\u001b[90m 2\u001b[39m          1 AAAAAC  KN    AAA    AAC    K     N    \n",
      "\u001b[90m 3\u001b[39m          2 AAAAAG  KK    AAA    AAG    K     K    \n",
      "\u001b[90m 4\u001b[39m          3 AAAAAT  KN    AAA    AAT    K     N    \n",
      "\u001b[90m 5\u001b[39m          4 AAAACA  KT    AAA    ACA    K     T    \n",
      "\u001b[90m 6\u001b[39m          5 AAAACC  KT    AAA    ACC    K     T    \n",
      "\u001b[90m 7\u001b[39m          6 AAAACG  KT    AAA    ACG    K     T    \n",
      "\u001b[90m 8\u001b[39m          7 AAAACT  KT    AAA    ACT    K     T    \n",
      "\u001b[90m 9\u001b[39m          8 AAAAGA  KR    AAA    AGA    K     R    \n",
      "\u001b[90m10\u001b[39m          9 AAAAGC  KS    AAA    AGC    K     S    \n",
      "\u001b[90m# … with 4,086 more rows\u001b[39m\n"
     ]
    }
   ],
   "source": [
    "insert_annotations = read_csv(\"../../8xdicodon_linkage/annotations/dicodon_yeast.csv\") %>%\n",
    "    mutate(dicodon = str_extract(insert, \"([ACTG]{6})(?=\\\\1{7})\")) %>%\n",
    "    drop_na(dicodon) %>% # drops the inserts that aren't dicodons in this case\n",
    "    mutate(diaa = as.character(translate(DNAStringSet(dicodon), no.init.codon = T))) %>%\n",
    "    mutate(codon1 = substr(dicodon, 1, 3), codon2 = substr(dicodon, 4, 6),\n",
    "         aa1 = substr(diaa, 1, 1), aa2 = substr(diaa, 2, 2)) %>%\n",
    "    select(-insert) %>%\n",
    "    print()"
   ]
  },
  {
   "cell_type": "code",
   "execution_count": 50,
   "metadata": {
    "vscode": {
     "languageId": "r"
    }
   },
   "outputs": [],
   "source": [
    "linkage <- insert_barcode_linkages %>% \n",
    "    inner_join(insert_annotations, by='insert_num') %>%\n",
    "    mutate(library_type = 'plasmid') %>%\n",
    "    select(insert_num, barcode_num, barcode, linkage_count, library_type) %>%\n",
    "    filter(insert_num <= 4095) %>%\n",
    "    dplyr::rename(count=linkage_count)"
   ]
  },
  {
   "cell_type": "code",
   "execution_count": 51,
   "metadata": {
    "vscode": {
     "languageId": "r"
    }
   },
   "outputs": [
    {
     "data": {
      "image/png": "[encoded data removed]",
      "text/plain": [
       "plot without title"
      ]
     },
     "metadata": {
      "image/png": {
       "height": 180,
       "width": 150
      }
     },
     "output_type": "display_data"
    }
   ],
   "source": [
    "options(repr.plot.width = 2.5, repr.plot.height = 3)\n",
    "\n",
    "barcode_insert_counts %>%\n",
    "    filter(insert_num <= 4095) %>%\n",
    "    mutate(library_type = str_extract(sample_name, '[^_]+$')) %>%\n",
    "    mutate(library_type = ifelse(library_type == 'gdna', 'genomic DNA', 'cDNA')) %>%\n",
    "    dplyr::rename(count=barcode_count) %>%\n",
    "    select(insert_num, barcode_num, count, barcode, linkage_count, library_type) %>%\n",
    "    bind_rows(linkage) %>%\n",
    "    group_by(library_type, insert_num) %>%\n",
    "    summarize(read_count = sum(count), .groups='drop') %>%\n",
    "    group_by(library_type) %>%\n",
    "    arrange(desc(read_count)) %>%\n",
    "    mutate(xaxis = (1:dplyr::n())/1000) %>%\n",
    "    ggplot() +\n",
    "    aes(x=xaxis, y=read_count, color=library_type) +\n",
    "    geom_line() +\n",
    "    scale_y_log10(\n",
    "    breaks = scales::trans_breaks(\"log10\", function(x) 10^x),\n",
    "    labels = scales::trans_format(\"log10\", scales::math_format(10^.x))\n",
    "    ) +\n",
    "    scale_x_continuous(breaks = seq(0,4.5, 1), limits=c(0, 4.4)) +\n",
    "    theme +\n",
    "    theme(\n",
    "        legend.position = \"top\",\n",
    "        legend.justification='left',\n",
    "        legend.key.width = unit(0.4, \"line\"),\n",
    "        legend.box.margin=margin(-12,-12,-12,-12)) +\n",
    "    labs(x='Insert', y='Read count', color='')\n",
    "\n",
    "ggsave(\"../figures/cdf_reads_per_insert.pdf\", width=2, height=2.15)"
   ]
  },
  {
   "attachments": {},
   "cell_type": "markdown",
   "metadata": {},
   "source": [
    "### Calculate basic stats for figure legend"
   ]
  },
  {
   "cell_type": "code",
   "execution_count": 70,
   "metadata": {
    "vscode": {
     "languageId": "r"
    }
   },
   "outputs": [
    {
     "data": {
      "text/html": [
       "382"
      ],
      "text/latex": [
       "382"
      ],
      "text/markdown": [
       "382"
      ],
      "text/plain": [
       "[1] 382"
      ]
     },
     "metadata": {},
     "output_type": "display_data"
    }
   ],
   "source": [
    "linkage %>%\n",
    "    filter(insert_num <= 4095) %>%\n",
    "    group_by(insert_num) %>%\n",
    "    summarize(n_barcodes=n(), .groups='drop') %>%\n",
    "    dplyr::pull(n_barcodes) %>%\n",
    "    median()"
   ]
  },
  {
   "cell_type": "code",
   "execution_count": 53,
   "metadata": {
    "vscode": {
     "languageId": "r"
    }
   },
   "outputs": [
    {
     "data": {
      "text/html": [
       "<table class=\"dataframe\">\n",
       "<caption>A tibble: 2 × 2</caption>\n",
       "<thead>\n",
       "\t<tr><th scope=col>sample_name</th><th scope=col>med_barc</th></tr>\n",
       "\t<tr><th scope=col>&lt;chr&gt;</th><th scope=col>&lt;dbl&gt;</th></tr>\n",
       "</thead>\n",
       "<tbody>\n",
       "\t<tr><td>wt_gdna</td><td>27</td></tr>\n",
       "\t<tr><td>wt_mrna</td><td>24</td></tr>\n",
       "</tbody>\n",
       "</table>\n"
      ],
      "text/latex": [
       "A tibble: 2 × 2\n",
       "\\begin{tabular}{ll}\n",
       " sample\\_name & med\\_barc\\\\\n",
       " <chr> & <dbl>\\\\\n",
       "\\hline\n",
       "\t wt\\_gdna & 27\\\\\n",
       "\t wt\\_mrna & 24\\\\\n",
       "\\end{tabular}\n"
      ],
      "text/markdown": [
       "\n",
       "A tibble: 2 × 2\n",
       "\n",
       "| sample_name &lt;chr&gt; | med_barc &lt;dbl&gt; |\n",
       "|---|---|\n",
       "| wt_gdna | 27 |\n",
       "| wt_mrna | 24 |\n",
       "\n"
      ],
      "text/plain": [
       "  sample_name med_barc\n",
       "1 wt_gdna     27      \n",
       "2 wt_mrna     24      "
      ]
     },
     "metadata": {},
     "output_type": "display_data"
    }
   ],
   "source": [
    "barcode_insert_counts %>%\n",
    "    filter(insert_num <= 4095) %>%\n",
    "    group_by(sample_name, insert_num) %>%\n",
    "    summarize(n_barcodes = n(), .groups='drop') %>%\n",
    "    group_by(sample_name) %>%\n",
    "    summarize(med_barc = median(n_barcodes), .groups='drop')"
   ]
  },
  {
   "cell_type": "code",
   "execution_count": 54,
   "metadata": {
    "vscode": {
     "languageId": "r"
    }
   },
   "outputs": [
    {
     "data": {
      "text/html": [
       "<table class=\"dataframe\">\n",
       "<caption>A tibble: 2 × 3</caption>\n",
       "<thead>\n",
       "\t<tr><th scope=col>library_type</th><th scope=col>total_reads</th><th scope=col>n_barcodes</th></tr>\n",
       "\t<tr><th scope=col>&lt;chr&gt;</th><th scope=col>&lt;dbl&gt;</th><th scope=col>&lt;int&gt;</th></tr>\n",
       "</thead>\n",
       "<tbody>\n",
       "\t<tr><td>cDNA       </td><td> 9163629</td><td>102200</td></tr>\n",
       "\t<tr><td>genomic DNA</td><td>27083012</td><td>119006</td></tr>\n",
       "</tbody>\n",
       "</table>\n"
      ],
      "text/latex": [
       "A tibble: 2 × 3\n",
       "\\begin{tabular}{lll}\n",
       " library\\_type & total\\_reads & n\\_barcodes\\\\\n",
       " <chr> & <dbl> & <int>\\\\\n",
       "\\hline\n",
       "\t cDNA        &  9163629 & 102200\\\\\n",
       "\t genomic DNA & 27083012 & 119006\\\\\n",
       "\\end{tabular}\n"
      ],
      "text/markdown": [
       "\n",
       "A tibble: 2 × 3\n",
       "\n",
       "| library_type &lt;chr&gt; | total_reads &lt;dbl&gt; | n_barcodes &lt;int&gt; |\n",
       "|---|---|---|\n",
       "| cDNA        |  9163629 | 102200 |\n",
       "| genomic DNA | 27083012 | 119006 |\n",
       "\n"
      ],
      "text/plain": [
       "  library_type total_reads n_barcodes\n",
       "1 cDNA          9163629    102200    \n",
       "2 genomic DNA  27083012    119006    "
      ]
     },
     "metadata": {},
     "output_type": "display_data"
    }
   ],
   "source": [
    "barcode_insert_counts %>%\n",
    "    filter(insert_num <= 4095) %>%\n",
    "    mutate(library_type = str_extract(sample_name, '[^_]+$')) %>%\n",
    "    mutate(library_type = ifelse(library_type == 'gdna', 'genomic DNA', 'cDNA')) %>%\n",
    "    group_by(library_type) %>%\n",
    "    summarize(total_reads = sum(barcode_count), n_barcodes = n(), .groups='drop')"
   ]
  },
  {
   "cell_type": "code",
   "execution_count": 55,
   "metadata": {
    "vscode": {
     "languageId": "r"
    }
   },
   "outputs": [
    {
     "data": {
      "text/html": [
       "<table class=\"dataframe\">\n",
       "<caption>A tibble: 2 × 3</caption>\n",
       "<thead>\n",
       "\t<tr><th scope=col>library_type</th><th scope=col>n_pairs</th><th scope=col>n_pairs/4096</th></tr>\n",
       "\t<tr><th scope=col>&lt;chr&gt;</th><th scope=col>&lt;int&gt;</th><th scope=col>&lt;dbl&gt;</th></tr>\n",
       "</thead>\n",
       "<tbody>\n",
       "\t<tr><td>cDNA       </td><td>3726</td><td>0.9096680</td></tr>\n",
       "\t<tr><td>genomic DNA</td><td>3824</td><td>0.9335938</td></tr>\n",
       "</tbody>\n",
       "</table>\n"
      ],
      "text/latex": [
       "A tibble: 2 × 3\n",
       "\\begin{tabular}{lll}\n",
       " library\\_type & n\\_pairs & n\\_pairs/4096\\\\\n",
       " <chr> & <int> & <dbl>\\\\\n",
       "\\hline\n",
       "\t cDNA        & 3726 & 0.9096680\\\\\n",
       "\t genomic DNA & 3824 & 0.9335938\\\\\n",
       "\\end{tabular}\n"
      ],
      "text/markdown": [
       "\n",
       "A tibble: 2 × 3\n",
       "\n",
       "| library_type &lt;chr&gt; | n_pairs &lt;int&gt; | n_pairs/4096 &lt;dbl&gt; |\n",
       "|---|---|---|\n",
       "| cDNA        | 3726 | 0.9096680 |\n",
       "| genomic DNA | 3824 | 0.9335938 |\n",
       "\n"
      ],
      "text/plain": [
       "  library_type n_pairs n_pairs/4096\n",
       "1 cDNA         3726    0.9096680   \n",
       "2 genomic DNA  3824    0.9335938   "
      ]
     },
     "metadata": {},
     "output_type": "display_data"
    }
   ],
   "source": [
    "barcode_insert_counts %>%\n",
    "    filter(insert_num <= 4095) %>%\n",
    "    mutate(library_type = str_extract(sample_name, '[^_]+$')) %>%\n",
    "    mutate(library_type = ifelse(library_type == 'gdna', 'genomic DNA', 'cDNA')) %>%\n",
    "    group_by(library_type, insert_num) %>%\n",
    "    summarize(n_barcodes = n(),  .groups='drop') %>%\n",
    "    group_by(library_type) %>%\n",
    "    summarize(n_pairs = n(), .groups='drop') %>%\n",
    "    mutate(n_pairs / 4096)"
   ]
  },
  {
   "cell_type": "code",
   "execution_count": 71,
   "metadata": {
    "vscode": {
     "languageId": "r"
    }
   },
   "outputs": [
    {
     "data": {
      "text/html": [
       "0.96826171875"
      ],
      "text/latex": [
       "0.96826171875"
      ],
      "text/markdown": [
       "0.96826171875"
      ],
      "text/plain": [
       "[1] 0.9682617"
      ]
     },
     "metadata": {},
     "output_type": "display_data"
    }
   ],
   "source": [
    "linkage %>%\n",
    "    filter(insert_num <= 4095) %>%\n",
    "    group_by(insert_num) %>%\n",
    "    summarize(n_barcodes=n(), .groups='drop') %>%\n",
    "    nrow() / 4096"
   ]
  },
  {
   "attachments": {},
   "cell_type": "markdown",
   "metadata": {},
   "source": [
    "### Plot aggregate effects for each codon"
   ]
  },
  {
   "cell_type": "code",
   "execution_count": 56,
   "metadata": {
    "vscode": {
     "languageId": "r"
    }
   },
   "outputs": [],
   "source": [
    "calc_lfc_bootstrap <- function(data, indices) {\n",
    "  d <- data[indices,]\n",
    "  log2(sum(d$wt_mrna)) - log2(sum(d$wt_gdna))\n",
    "}"
   ]
  },
  {
   "cell_type": "code",
   "execution_count": 57,
   "metadata": {
    "vscode": {
     "languageId": "r"
    }
   },
   "outputs": [
    {
     "data": {
      "text/html": [
       "<table class=\"dataframe\">\n",
       "<caption>A tibble: 1 × 2</caption>\n",
       "<thead>\n",
       "\t<tr><th scope=col>avg</th><th scope=col>med</th></tr>\n",
       "\t<tr><th scope=col>&lt;dbl&gt;</th><th scope=col>&lt;dbl&gt;</th></tr>\n",
       "</thead>\n",
       "<tbody>\n",
       "\t<tr><td>1324.234</td><td>1225.5</td></tr>\n",
       "</tbody>\n",
       "</table>\n"
      ],
      "text/latex": [
       "A tibble: 1 × 2\n",
       "\\begin{tabular}{ll}\n",
       " avg & med\\\\\n",
       " <dbl> & <dbl>\\\\\n",
       "\\hline\n",
       "\t 1324.234 & 1225.5\\\\\n",
       "\\end{tabular}\n"
      ],
      "text/markdown": [
       "\n",
       "A tibble: 1 × 2\n",
       "\n",
       "| avg &lt;dbl&gt; | med &lt;dbl&gt; |\n",
       "|---|---|\n",
       "| 1324.234 | 1225.5 |\n",
       "\n"
      ],
      "text/plain": [
       "  avg      med   \n",
       "1 1324.234 1225.5"
      ]
     },
     "metadata": {},
     "output_type": "display_data"
    },
    {
     "data": {
      "text/html": [
       "<table class=\"dataframe\">\n",
       "<caption>A tibble: 1 × 2</caption>\n",
       "<thead>\n",
       "\t<tr><th scope=col>avg</th><th scope=col>med</th></tr>\n",
       "\t<tr><th scope=col>&lt;dbl&gt;</th><th scope=col>&lt;dbl&gt;</th></tr>\n",
       "</thead>\n",
       "<tbody>\n",
       "\t<tr><td>1324.234</td><td>1253</td></tr>\n",
       "</tbody>\n",
       "</table>\n"
      ],
      "text/latex": [
       "A tibble: 1 × 2\n",
       "\\begin{tabular}{ll}\n",
       " avg & med\\\\\n",
       " <dbl> & <dbl>\\\\\n",
       "\\hline\n",
       "\t 1324.234 & 1253\\\\\n",
       "\\end{tabular}\n"
      ],
      "text/markdown": [
       "\n",
       "A tibble: 1 × 2\n",
       "\n",
       "| avg &lt;dbl&gt; | med &lt;dbl&gt; |\n",
       "|---|---|\n",
       "| 1324.234 | 1253 |\n",
       "\n"
      ],
      "text/plain": [
       "  avg      med \n",
       "1 1324.234 1253"
      ]
     },
     "metadata": {},
     "output_type": "display_data"
    }
   ],
   "source": [
    "barcode_insert_counts %>% \n",
    "  filter(barcode_count >= barcode_reads_cutoff) %>%\n",
    "  pivot_wider(names_from = sample_name, values_from = barcode_count) %>% \n",
    "  drop_na() %>% \n",
    "  inner_join(insert_annotations, by = \"insert_num\") %>%\n",
    "  group_by(codon1) %>%\n",
    "  summarize(n_barc = n(), .groups='drop') %>%\n",
    "  mutate(avg = mean(n_barc), med = median(n_barc)) %>%\n",
    "  slice(1) %>%\n",
    "  select(-codon1, -n_barc)\n",
    "\n",
    "barcode_insert_counts %>% \n",
    "  filter(barcode_count >= barcode_reads_cutoff) %>%\n",
    "  pivot_wider(names_from = sample_name, values_from = barcode_count) %>% \n",
    "  drop_na() %>% \n",
    "  inner_join(insert_annotations, by = \"insert_num\") %>%\n",
    "  group_by(codon2) %>%\n",
    "  summarize(n_barc = n()) %>%\n",
    "  mutate(avg = mean(n_barc), med = median(n_barc)) %>%\n",
    "  slice(1) %>%\n",
    "  select(-codon2, -n_barc)"
   ]
  },
  {
   "cell_type": "code",
   "execution_count": 58,
   "metadata": {
    "vscode": {
     "languageId": "r"
    }
   },
   "outputs": [],
   "source": [
    "AMINO_ACID_CODE[\"*\"] = \"Stop\"\n",
    "\n",
    "codon1_lfc <- barcode_insert_counts %>%   \n",
    "  filter(barcode_count >= barcode_reads_cutoff) %>%\n",
    "  pivot_wider(names_from = sample_name, values_from = barcode_count) %>% \n",
    "  drop_na() %>% \n",
    "  inner_join(insert_annotations, by = \"insert_num\") %>%\n",
    "  group_by(codon1) %>%\n",
    "  nest() %>%\n",
    "  mutate(lfc_boot = map(data, function(df) boot::boot(data=df, statistic=calc_lfc_bootstrap, R=100)$t)) %>%\n",
    "  select(-data) %>%\n",
    "  mutate(lfc = map_dbl(lfc_boot, mean)) %>%\n",
    "  mutate(lfc_sd = map_dbl(lfc_boot, sd)) %>%\n",
    "  select(-lfc_boot) %>%\n",
    "  ungroup() %>%\n",
    "  mutate(pos = 1) %>%\n",
    "  rename(codon = codon1) %>%\n",
    "  mutate(lfc_2 = lfc - median(lfc))\n",
    "\n",
    "codon2_lfc <- barcode_insert_counts %>% \n",
    "  filter(barcode_count >= barcode_reads_cutoff) %>%\n",
    "  pivot_wider(names_from = sample_name, values_from = barcode_count) %>% \n",
    "  drop_na() %>% \n",
    "  inner_join(insert_annotations, by = \"insert_num\") %>%\n",
    "  group_by(codon2) %>%\n",
    "  nest() %>%\n",
    "  mutate(lfc_boot = map(data, function(df) boot::boot(data=df, statistic=calc_lfc_bootstrap, R=100)$t)) %>%\n",
    "  select(-data) %>%\n",
    "  mutate(lfc = map_dbl(lfc_boot, mean)) %>%\n",
    "  mutate(lfc_sd = map_dbl(lfc_boot, sd)) %>%\n",
    "  select(-lfc_boot) %>%\n",
    "  ungroup() %>%\n",
    "  mutate(pos = 2) %>%\n",
    "  rename(codon = codon2) %>%\n",
    "  mutate(lfc_2 = lfc - mean(lfc))"
   ]
  },
  {
   "cell_type": "code",
   "execution_count": 59,
   "metadata": {
    "vscode": {
     "languageId": "r"
    }
   },
   "outputs": [
    {
     "data": {
      "image/png": "[encoded data removed]",
      "text/plain": [
       "plot without title"
      ]
     },
     "metadata": {
      "image/png": {
       "height": 408,
       "width": 150
      }
     },
     "output_type": "display_data"
    }
   ],
   "source": [
    "options(repr.plot.width = 2.5, repr.plot.height = 6.8)\n",
    "\n",
    "aa_order <- c('Arg', 'Stop', 'Trp', 'Lys', 'Gly', 'Cys', 'Val', 'Glu', 'Gln', 'Asp', 'Ser', 'Met', 'Ala', 'Leu', 'Ile', 'Asn', 'Tyr', 'His', 'Thr', 'Phe', 'Pro')\n",
    "AMINO_ACID_CODE[\"*\"] = \"Stop\"\n",
    "\n",
    "dicodon_plot_data <- bind_rows(codon1_lfc, codon2_lfc) %>%\n",
    "  mutate(aa = AMINO_ACID_CODE[GENETIC_CODE[as.character(codon)]]) %>%\n",
    "  arrange(factor(aa, levels = aa_order), lfc_2) %>%\n",
    "  mutate(order_grp = 1:dplyr::n()) %>% \n",
    "  mutate(codon_2 = str_c(codon, ',', AMINO_ACID_CODE[GENETIC_CODE[as.character(codon)]])) %>%\n",
    "  mutate(codon_2 = fct_reorder(codon_2, -order_grp))\n",
    "\n",
    "dicodon_plot_data %>%\n",
    "  ggplot(aes(x = lfc_2, y = codon_2, shape = as.factor(pos),\n",
    "             xmin = lfc_2 - lfc_sd, xmax = lfc_2 + lfc_sd,\n",
    "             )) +\n",
    "  geom_errorbar(width=0, color = 'black') +\n",
    "  geom_point(size=0.8) +\n",
    "  scale_x_continuous(limits=c(-1.0, 1)) +\n",
    "  scale_y_discrete(guide = guide_axis_nested(delim = \",\")) +\n",
    "  theme +\n",
    "  theme(legend.position = \"top\",\n",
    "        legend.justification='left',\n",
    "        legend.margin=margin(0,0,0,0),\n",
    "        legend.box.margin=margin(-10,-10,-10,-10),\n",
    "        legend.spacing.x = unit(0.25, 'mm'),\n",
    "        panel.grid.major.y = element_line(color='grey', linewidth=0.2),\n",
    "        axis.line.x = element_blank(),\n",
    "        axis.line.y = element_blank(),\n",
    "        axis.ticks.y = element_blank(),\n",
    "        axis.text.y = element_text(size=7),\n",
    "        ggh4x.axis.nesttext.y = element_text(size=8),\n",
    "        ggh4x.axis.nestline = element_line(linewidth = 0.2),\n",
    "        ) +\n",
    "  labs(x = \"Average mRNA level\\n(log2, arb. units)\", y = \"\",\n",
    "       shape = \"Position\")\n",
    "\n",
    "ggsave(\"../figures/fig1_bootstrapped_dicodon_effects_vertical.pdf\", width=2.5, height=6.8)"
   ]
  },
  {
   "attachments": {},
   "cell_type": "markdown",
   "metadata": {},
   "source": [
    "### Plot aggregate effects of each amino acid"
   ]
  },
  {
   "cell_type": "code",
   "execution_count": 60,
   "metadata": {
    "vscode": {
     "languageId": "r"
    }
   },
   "outputs": [
    {
     "data": {
      "text/html": [
       "<table class=\"dataframe\">\n",
       "<caption>A tibble: 1 × 2</caption>\n",
       "<thead>\n",
       "\t<tr><th scope=col>avg</th><th scope=col>med</th></tr>\n",
       "\t<tr><th scope=col>&lt;dbl&gt;</th><th scope=col>&lt;int&gt;</th></tr>\n",
       "</thead>\n",
       "<tbody>\n",
       "\t<tr><td>4035.762</td><td>3647</td></tr>\n",
       "</tbody>\n",
       "</table>\n"
      ],
      "text/latex": [
       "A tibble: 1 × 2\n",
       "\\begin{tabular}{ll}\n",
       " avg & med\\\\\n",
       " <dbl> & <int>\\\\\n",
       "\\hline\n",
       "\t 4035.762 & 3647\\\\\n",
       "\\end{tabular}\n"
      ],
      "text/markdown": [
       "\n",
       "A tibble: 1 × 2\n",
       "\n",
       "| avg &lt;dbl&gt; | med &lt;int&gt; |\n",
       "|---|---|\n",
       "| 4035.762 | 3647 |\n",
       "\n"
      ],
      "text/plain": [
       "  avg      med \n",
       "1 4035.762 3647"
      ]
     },
     "metadata": {},
     "output_type": "display_data"
    },
    {
     "data": {
      "text/html": [
       "<table class=\"dataframe\">\n",
       "<caption>A tibble: 1 × 2</caption>\n",
       "<thead>\n",
       "\t<tr><th scope=col>avg</th><th scope=col>med</th></tr>\n",
       "\t<tr><th scope=col>&lt;dbl&gt;</th><th scope=col>&lt;int&gt;</th></tr>\n",
       "</thead>\n",
       "<tbody>\n",
       "\t<tr><td>4035.762</td><td>3238</td></tr>\n",
       "</tbody>\n",
       "</table>\n"
      ],
      "text/latex": [
       "A tibble: 1 × 2\n",
       "\\begin{tabular}{ll}\n",
       " avg & med\\\\\n",
       " <dbl> & <int>\\\\\n",
       "\\hline\n",
       "\t 4035.762 & 3238\\\\\n",
       "\\end{tabular}\n"
      ],
      "text/markdown": [
       "\n",
       "A tibble: 1 × 2\n",
       "\n",
       "| avg &lt;dbl&gt; | med &lt;int&gt; |\n",
       "|---|---|\n",
       "| 4035.762 | 3238 |\n",
       "\n"
      ],
      "text/plain": [
       "  avg      med \n",
       "1 4035.762 3238"
      ]
     },
     "metadata": {},
     "output_type": "display_data"
    }
   ],
   "source": [
    "barcode_insert_counts %>% \n",
    "  filter(barcode_count >= barcode_reads_cutoff) %>%\n",
    "  pivot_wider(names_from = sample_name, values_from = barcode_count) %>% \n",
    "  drop_na() %>% \n",
    "  inner_join(insert_annotations, by = \"insert_num\") %>%\n",
    "  group_by(aa1) %>%\n",
    "  summarize(n_barc = n()) %>%\n",
    "  mutate(avg = mean(n_barc), med = median(n_barc)) %>%\n",
    "  slice(1) %>%\n",
    "  select(-aa1, -n_barc)\n",
    "\n",
    "barcode_insert_counts %>% \n",
    "  filter(barcode_count >= barcode_reads_cutoff) %>%\n",
    "  pivot_wider(names_from = sample_name, values_from = barcode_count) %>% \n",
    "  drop_na() %>% \n",
    "  inner_join(insert_annotations, by = \"insert_num\") %>%\n",
    "  group_by(aa2) %>%\n",
    "  summarize(n_barc = n()) %>%\n",
    "  mutate(avg = mean(n_barc), med = median(n_barc)) %>%\n",
    "  slice(1) %>%\n",
    "  select(-aa2, -n_barc)"
   ]
  },
  {
   "cell_type": "code",
   "execution_count": 61,
   "metadata": {
    "vscode": {
     "languageId": "r"
    }
   },
   "outputs": [],
   "source": [
    "aa1_lfc <- barcode_insert_counts %>% \n",
    "  filter(barcode_count >= barcode_reads_cutoff) %>%\n",
    "  pivot_wider(names_from = sample_name, values_from = barcode_count) %>% \n",
    "  drop_na() %>% \n",
    "  inner_join(insert_annotations, by = \"insert_num\") %>%\n",
    "  group_by(aa1) %>%\n",
    "  nest() %>%\n",
    "  mutate(lfc_boot = map(data, function(df) boot::boot(data=df, statistic=calc_lfc_bootstrap, R=100)$t)) %>%\n",
    "  select(-data) %>%\n",
    "  mutate(lfc = map_dbl(lfc_boot, mean)) %>%\n",
    "  mutate(lfc_sd = map_dbl(lfc_boot, sd)) %>%\n",
    "  select(-lfc_boot) %>%\n",
    "  ungroup() %>%\n",
    "  mutate(lfc_med = lfc - median(lfc)) %>%\n",
    "  mutate(pos = 1) %>%\n",
    "  rename(aa = aa1)\n",
    "\n",
    "aa2_lfc <- barcode_insert_counts %>%\n",
    "  filter(barcode_count >= barcode_reads_cutoff) %>%\n",
    "  pivot_wider(names_from = sample_name, values_from = barcode_count) %>% \n",
    "  drop_na() %>% \n",
    "  inner_join(insert_annotations, by = \"insert_num\") %>%\n",
    "  group_by(aa2) %>%\n",
    "  nest() %>%\n",
    "  mutate(lfc_boot = map(data, function(df) boot::boot(data=df, statistic=calc_lfc_bootstrap, R=100)$t)) %>%\n",
    "  select(-data) %>%\n",
    "  mutate(lfc = map_dbl(lfc_boot, mean)) %>%\n",
    "  mutate(lfc_sd = map_dbl(lfc_boot, sd)) %>%\n",
    "  select(-lfc_boot) %>%\n",
    "  ungroup() %>%\n",
    "  mutate(lfc_med = lfc - median(lfc)) %>%\n",
    "  mutate(pos = 2) %>%\n",
    "  rename(aa = aa2)"
   ]
  },
  {
   "cell_type": "code",
   "execution_count": 62,
   "metadata": {
    "vscode": {
     "languageId": "r"
    }
   },
   "outputs": [
    {
     "data": {
      "image/png": "[encoded data removed]",
      "text/plain": [
       "plot without title"
      ]
     },
     "metadata": {
      "image/png": {
       "height": 180,
       "width": 150
      }
     },
     "output_type": "display_data"
    }
   ],
   "source": [
    "options(repr.plot.width=2.5, repr.plot.height=3)\n",
    "\n",
    "AMINO_ACID_CODE[\"*\"] = \"Stop\"\n",
    "\n",
    "plot_data <- bind_rows(aa1_lfc, aa2_lfc) %>%\n",
    "  group_by(aa) %>% \n",
    "  mutate(order = mean(lfc_med)) %>% \n",
    "  ungroup() %>% \n",
    "  mutate(aa = fct_reorder(AMINO_ACID_CODE[aa], -order)) %>% \n",
    "  select(-order)\n",
    "\n",
    "plot_data %>%\n",
    "  ggplot(aes(x = lfc_med, y = aa, shape = as.factor(pos),\n",
    "             xmin = lfc_med - lfc_sd, xmax = lfc_med + lfc_sd,\n",
    "             )) +\n",
    "  geom_errorbar(width=0, color = 'black') +\n",
    "  geom_point(size=0.8) +\n",
    "  theme + \n",
    "  theme(legend.position = \"top\",\n",
    "        legend.justification='left',\n",
    "        legend.margin=margin(0,0,0,0),\n",
    "        legend.box.margin=margin(-10,-12,-12,-12),\n",
    "        legend.spacing.x = unit(0.25, 'mm'),\n",
    "        panel.grid.major.y = element_line(color='grey', size=0.2),\n",
    "        axis.line.x = element_blank(),\n",
    "        axis.line.y = element_blank(),\n",
    "        axis.ticks.y = element_blank(),\n",
    "        ) +\n",
    "  labs(x = \"Average mRNA level\\n(log2, arb. units)\", y = \"Amino acid\",\n",
    "       shape = \"Position\")\n",
    "\n",
    "ggsave(\"../figures/fig1_bootstrapped_aa_effects.pdf\", width=1.85, height=3)"
   ]
  },
  {
   "attachments": {},
   "cell_type": "markdown",
   "metadata": {},
   "source": [
    "### Fig 1D"
   ]
  },
  {
   "cell_type": "code",
   "execution_count": 63,
   "metadata": {
    "vscode": {
     "languageId": "r"
    }
   },
   "outputs": [
    {
     "name": "stderr",
     "output_type": "stream",
     "text": [
      "\u001b[1mRows: \u001b[22m\u001b[34m61\u001b[39m \u001b[1mColumns: \u001b[22m\u001b[34m30\u001b[39m\n",
      "\u001b[36m──\u001b[39m \u001b[1mColumn specification\u001b[22m \u001b[36m────────────────────────────────────────────────────────\u001b[39m\n",
      "\u001b[1mDelimiter:\u001b[22m \",\"\n",
      "\u001b[31mchr\u001b[39m  (4): Codon, Amino_Acid, HEK293_IsOpt, HeLa_IsOpt\n",
      "\u001b[32mdbl\u001b[39m (26): HEK293_tAI, HeLa_tAI_1, HeLa_tAI_2, HeLa_tAI_3, HeLa_Avg_tAI, HeLa...\n",
      "\n",
      "\u001b[36mℹ\u001b[39m Use `spec()` to retrieve the full column specification for this data.\n",
      "\u001b[36mℹ\u001b[39m Specify the column types or set `show_col_types = FALSE` to quiet this message.\n"
     ]
    }
   ],
   "source": [
    "sc_coller <- read_csv(\"../../../../data/literature/forrest_2020/table_s2_data.csv\", skip=3) %>% \n",
    "    select('Codon', 'Amino_Acid', 'SC_CSC', 'SC_AASC')\n",
    "\n",
    "csc_aasc_lfc <- sc_coller %>%\n",
    "    inner_join(dicodon_plot_data, by=c('Codon' = 'codon'))"
   ]
  },
  {
   "cell_type": "code",
   "execution_count": 64,
   "metadata": {
    "vscode": {
     "languageId": "r"
    }
   },
   "outputs": [
    {
     "name": "stderr",
     "output_type": "stream",
     "text": [
      "\u001b[1m\u001b[22m`geom_smooth()` using formula = 'y ~ x'\n",
      "\u001b[1m\u001b[22m`geom_smooth()` using formula = 'y ~ x'\n"
     ]
    },
    {
     "data": {
      "image/png": "[encoded data removed]",
      "text/plain": [
       "plot without title"
      ]
     },
     "metadata": {
      "image/png": {
       "height": 240,
       "width": 240
      }
     },
     "output_type": "display_data"
    }
   ],
   "source": [
    "options(repr.plot.width=4, repr.plot.height=4)\n",
    "\n",
    "plot_data <- csc_aasc_lfc %>%\n",
    "    group_by(Codon) %>%\n",
    "    mutate(avg_pos_lfc = mean(lfc_2)) %>%\n",
    "    slice(1) %>%\n",
    "    mutate(name = str_c(Codon, \" (\", GENETIC_CODE[Codon], \")\"))\n",
    "\n",
    "pearson_r = cor(plot_data$SC_CSC, plot_data$avg_pos_lfc, method=c('pearson'))\n",
    "p = cor.test(plot_data$SC_CSC, plot_data$avg_pos_lfc, method=c('pearson'))$p.value\n",
    "\n",
    "plot_data %>%\n",
    "    ggplot() +\n",
    "    aes(x=SC_CSC, y=avg_pos_lfc) +\n",
    "    geom_point(size=0.2) + \n",
    "    geom_smooth(method=lm, size=0.2, se=FALSE) +\n",
    "    annotate('text',x=0.17, y=-0.60, size=7/.pt, label=str_c(\"r = \", format(round(pearson_r, digits=2), nsmall = 2))) +\n",
    "    annotate('text',x=0.16, y=-0.75, size=7/.pt, label=\"p < 1e-4\") +\n",
    "    theme +\n",
    "    theme(axis.text.x=element_text(size=7),\n",
    "          axis.text.y=element_text(size=7)) + \n",
    "    labs(x='Codon Stability Coefficient\\n(CSC)', y='Average mRNA level\\n(log2, arb. units)')\n",
    "\n",
    "ggsave(\"../figures/fig1_avg_lfc_coller_csc_correlation_lm_dicodons.pdf\", width=1.95, height=1.7, units='in', dpi=300)"
   ]
  },
  {
   "cell_type": "code",
   "execution_count": 66,
   "metadata": {
    "vscode": {
     "languageId": "r"
    }
   },
   "outputs": [
    {
     "data": {
      "text/html": [
       "5.26051578287175e-05"
      ],
      "text/latex": [
       "5.26051578287175e-05"
      ],
      "text/markdown": [
       "5.26051578287175e-05"
      ],
      "text/plain": [
       "[1] 5.260516e-05"
      ]
     },
     "metadata": {},
     "output_type": "display_data"
    }
   ],
   "source": [
    "p"
   ]
  },
  {
   "attachments": {},
   "cell_type": "markdown",
   "metadata": {},
   "source": [
    "### Fig 1E"
   ]
  },
  {
   "cell_type": "code",
   "execution_count": 65,
   "metadata": {
    "vscode": {
     "languageId": "r"
    }
   },
   "outputs": [
    {
     "data": {
      "image/png": "[encoded data removed]",
      "text/plain": [
       "plot without title"
      ]
     },
     "metadata": {
      "image/png": {
       "height": 240,
       "width": 240
      }
     },
     "output_type": "display_data"
    }
   ],
   "source": [
    "lfc_aasc <- csc_aasc_lfc %>%\n",
    "    group_by(`Amino_Acid`) %>%\n",
    "    summarize(avg_lfc = mean(lfc_2), .groups='drop') %>%\n",
    "    left_join(select(csc_aasc_lfc, Amino_Acid, SC_AASC), by='Amino_Acid') %>%\n",
    "    group_by(Amino_Acid) %>%\n",
    "    slice(1)\n",
    "\n",
    "pearson_r = cor(lfc_aasc$SC_AASC, lfc_aasc$avg_lfc, method=c('pearson'))\n",
    "pearson_p = cor.test(lfc_aasc$SC_AASC, lfc_aasc$avg_lfc, method=c('pearson'))$p.value\n",
    "\n",
    "lfc_aasc %>%\n",
    "    ggplot() +\n",
    "    aes(x=SC_AASC, y=avg_lfc) +\n",
    "    geom_point(size=0.2) + \n",
    "    # geom_smooth(method=lm, size=0.2, se=FALSE) +\n",
    "    theme +\n",
    "    theme(axis.text.x=element_text(size=7),\n",
    "          axis.text.y=element_text(size=7)) + \n",
    "    annotate('text',x=0.15, y=-0.34, size=7/.pt, label=str_c(\"r = \", round(pearson_r, 2))) +\n",
    "    annotate('text',x=0.15, y=-0.42, size=7/.pt, label= str_c(\"p = \", round(pearson_p, 2))) +\n",
    "    labs(x='Amino Acid Stability\\nCoefficient (AASC)', y='Average mRNA level\\n(log2, arb. units)')\n",
    "\n",
    "ggsave(\"../figures/fig1_avg_amino_acid_lfc_vs_coller_aasc.pdf\", width=1.95, height=1.7, units='in', dpi=300)"
   ]
  }
 ],
 "metadata": {
  "kernelspec": {
   "display_name": "R_project_repo_1.13.0",
   "language": "R",
   "name": "ir_project_repo_1.13.0"
  },
  "language_info": {
   "codemirror_mode": "r",
   "file_extension": ".r",
   "mimetype": "text/x-r-source",
   "name": "R",
   "pygments_lexer": "r",
   "version": "4.1.3"
  },
  "orig_nbformat": 4,
  "vscode": {
   "interpreter": {
    "hash": "33ccdda4403b85622dcca6b225ea57e4a6a8ea27d62bd4ef32f6f7605d06a567"
   }
  }
 },
 "nbformat": 4,
 "nbformat_minor": 2
}
