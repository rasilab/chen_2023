{
 "cells": [
  {
   "cell_type": "code",
   "execution_count": 182,
   "metadata": {
    "vscode": {
     "languageId": "r"
    }
   },
   "outputs": [],
   "source": [
    "suppressPackageStartupMessages(library(Biostrings))\n",
    "suppressPackageStartupMessages(library(tidyverse))\n",
    "suppressPackageStartupMessages(library(rasilabRtemplates))\n",
    "suppressPackageStartupMessages(library(boot))\n",
    "suppressPackageStartupMessages(library(readxl))\n",
    "suppressPackageStartupMessages(library(ggrepel))\n",
    "suppressPackageStartupMessages(library(gridExtra))"
   ]
  },
  {
   "cell_type": "code",
   "execution_count": 183,
   "metadata": {
    "vscode": {
     "languageId": "r"
    }
   },
   "outputs": [],
   "source": [
    "theme <- theme(\n",
    "        title = element_text(margin = margin(t=0, r=2, b=2, l=2), size=8),\n",
    "        axis.title.x = element_text(margin = margin(t=2, r=2, b=0, l=2), size=8),\n",
    "        axis.title.y = element_text(margin = margin(t=2, r=2, b=2, l=0), size=8),\n",
    "        text = element_text(size = 8),\n",
    "        legend.text=element_text(size=8),\n",
    "        axis.line.x=element_line(size=0.2),\n",
    "        axis.line.y=element_line(size=0.2),\n",
    "        axis.ticks.y =  element_line(size=0.2),\n",
    "        axis.ticks.x = element_line(size=0.2),\n",
    "        axis.text.x = element_text(size=8),\n",
    "        axis.text.y = element_text(size=8)\n",
    "        )"
   ]
  },
  {
   "cell_type": "code",
   "execution_count": 184,
   "metadata": {
    "vscode": {
     "languageId": "r"
    }
   },
   "outputs": [],
   "source": [
    "if (!file.exists('../figures')){\n",
    "    dir.create('../figures')\n",
    "}"
   ]
  },
  {
   "cell_type": "markdown",
   "metadata": {},
   "source": [
    "## Plot linkage data missing inserts"
   ]
  },
  {
   "cell_type": "code",
   "execution_count": 185,
   "metadata": {
    "vscode": {
     "languageId": "r"
    }
   },
   "outputs": [
    {
     "name": "stderr",
     "output_type": "stream",
     "text": [
      "Warning message in mask$eval_all_mutate(quo):\n",
      "“NAs introduced by coercion”\n"
     ]
    },
    {
     "data": {
      "text/html": [
       "<table class=\"dataframe\">\n",
       "<caption>A tibble: 6 × 5</caption>\n",
       "<thead>\n",
       "\t<tr><th scope=col>insert_num</th><th scope=col>barcode_num</th><th scope=col>barcode</th><th scope=col>linkage_count</th><th scope=col>linkage_ref</th></tr>\n",
       "\t<tr><th scope=col>&lt;dbl&gt;</th><th scope=col>&lt;dbl&gt;</th><th scope=col>&lt;chr&gt;</th><th scope=col>&lt;dbl&gt;</th><th scope=col>&lt;chr&gt;</th></tr>\n",
       "</thead>\n",
       "<tbody>\n",
       "\t<tr><td>  NA</td><td>1</td><td>barcode                 </td><td>NA</td><td>yeast_cyto_linkage</td></tr>\n",
       "\t<tr><td>4457</td><td>2</td><td>GGGCTTAAGAAGATCCTTGTCAGG</td><td>99</td><td>yeast_cyto_linkage</td></tr>\n",
       "\t<tr><td>4123</td><td>3</td><td>TAGCACATTTCCTCTGGGGTTCGT</td><td>99</td><td>yeast_cyto_linkage</td></tr>\n",
       "\t<tr><td>4793</td><td>4</td><td>TACTGTTTTGCTCGTGGCGTTTAT</td><td>99</td><td>yeast_cyto_linkage</td></tr>\n",
       "\t<tr><td> 180</td><td>5</td><td>GAGAGGTGGATCGCGCACAGCAAG</td><td>99</td><td>yeast_cyto_linkage</td></tr>\n",
       "\t<tr><td>4969</td><td>6</td><td>GGGGTGTATAGGACCGGCCAGTCT</td><td>99</td><td>yeast_cyto_linkage</td></tr>\n",
       "</tbody>\n",
       "</table>\n"
      ],
      "text/latex": [
       "A tibble: 6 × 5\n",
       "\\begin{tabular}{lllll}\n",
       " insert\\_num & barcode\\_num & barcode & linkage\\_count & linkage\\_ref\\\\\n",
       " <dbl> & <dbl> & <chr> & <dbl> & <chr>\\\\\n",
       "\\hline\n",
       "\t   NA & 1 & barcode                  & NA & yeast\\_cyto\\_linkage\\\\\n",
       "\t 4457 & 2 & GGGCTTAAGAAGATCCTTGTCAGG & 99 & yeast\\_cyto\\_linkage\\\\\n",
       "\t 4123 & 3 & TAGCACATTTCCTCTGGGGTTCGT & 99 & yeast\\_cyto\\_linkage\\\\\n",
       "\t 4793 & 4 & TACTGTTTTGCTCGTGGCGTTTAT & 99 & yeast\\_cyto\\_linkage\\\\\n",
       "\t  180 & 5 & GAGAGGTGGATCGCGCACAGCAAG & 99 & yeast\\_cyto\\_linkage\\\\\n",
       "\t 4969 & 6 & GGGGTGTATAGGACCGGCCAGTCT & 99 & yeast\\_cyto\\_linkage\\\\\n",
       "\\end{tabular}\n"
      ],
      "text/markdown": [
       "\n",
       "A tibble: 6 × 5\n",
       "\n",
       "| insert_num &lt;dbl&gt; | barcode_num &lt;dbl&gt; | barcode &lt;chr&gt; | linkage_count &lt;dbl&gt; | linkage_ref &lt;chr&gt; |\n",
       "|---|---|---|---|---|\n",
       "|   NA | 1 | barcode                  | NA | yeast_cyto_linkage |\n",
       "| 4457 | 2 | GGGCTTAAGAAGATCCTTGTCAGG | 99 | yeast_cyto_linkage |\n",
       "| 4123 | 3 | TAGCACATTTCCTCTGGGGTTCGT | 99 | yeast_cyto_linkage |\n",
       "| 4793 | 4 | TACTGTTTTGCTCGTGGCGTTTAT | 99 | yeast_cyto_linkage |\n",
       "|  180 | 5 | GAGAGGTGGATCGCGCACAGCAAG | 99 | yeast_cyto_linkage |\n",
       "| 4969 | 6 | GGGGTGTATAGGACCGGCCAGTCT | 99 | yeast_cyto_linkage |\n",
       "\n"
      ],
      "text/plain": [
       "  insert_num barcode_num barcode                  linkage_count\n",
       "1   NA       1           barcode                  NA           \n",
       "2 4457       2           GGGCTTAAGAAGATCCTTGTCAGG 99           \n",
       "3 4123       3           TAGCACATTTCCTCTGGGGTTCGT 99           \n",
       "4 4793       4           TACTGTTTTGCTCGTGGCGTTTAT 99           \n",
       "5  180       5           GAGAGGTGGATCGCGCACAGCAAG 99           \n",
       "6 4969       6           GGGGTGTATAGGACCGGCCAGTCT 99           \n",
       "  linkage_ref       \n",
       "1 yeast_cyto_linkage\n",
       "2 yeast_cyto_linkage\n",
       "3 yeast_cyto_linkage\n",
       "4 yeast_cyto_linkage\n",
       "5 yeast_cyto_linkage\n",
       "6 yeast_cyto_linkage"
      ]
     },
     "metadata": {},
     "output_type": "display_data"
    }
   ],
   "source": [
    "insert_barcode_linkages <- read_csv(\"../../8xdicodon_linkage/data/filtered_barcodes/yeast_cyto_linkage.csv\", show_col_types = F) %>%\n",
    "  mutate(insert_num = as.numeric(str_extract(insert_num, \"[:digit:]+\"))) %>%\n",
    "  mutate(linkage_count = as.numeric(linkage_count)) %>%\n",
    "  mutate(linkage_ref = 'yeast_cyto_linkage')\n",
    "\n",
    "head(insert_barcode_linkages)"
   ]
  },
  {
   "cell_type": "code",
   "execution_count": 186,
   "metadata": {
    "vscode": {
     "languageId": "r"
    }
   },
   "outputs": [
    {
     "name": "stdout",
     "output_type": "stream",
     "text": [
      "\u001b[90m# A tibble: 4,096 × 7\u001b[39m\n",
      "   insert_num dicodon diaa  codon1 codon2 aa1   aa2  \n",
      "        \u001b[3m\u001b[90m<dbl>\u001b[39m\u001b[23m \u001b[3m\u001b[90m<chr>\u001b[39m\u001b[23m   \u001b[3m\u001b[90m<chr>\u001b[39m\u001b[23m \u001b[3m\u001b[90m<chr>\u001b[39m\u001b[23m  \u001b[3m\u001b[90m<chr>\u001b[39m\u001b[23m  \u001b[3m\u001b[90m<chr>\u001b[39m\u001b[23m \u001b[3m\u001b[90m<chr>\u001b[39m\u001b[23m\n",
      "\u001b[90m 1\u001b[39m          0 AAAAAA  KK    AAA    AAA    K     K    \n",
      "\u001b[90m 2\u001b[39m          1 AAAAAC  KN    AAA    AAC    K     N    \n",
      "\u001b[90m 3\u001b[39m          2 AAAAAG  KK    AAA    AAG    K     K    \n",
      "\u001b[90m 4\u001b[39m          3 AAAAAT  KN    AAA    AAT    K     N    \n",
      "\u001b[90m 5\u001b[39m          4 AAAACA  KT    AAA    ACA    K     T    \n",
      "\u001b[90m 6\u001b[39m          5 AAAACC  KT    AAA    ACC    K     T    \n",
      "\u001b[90m 7\u001b[39m          6 AAAACG  KT    AAA    ACG    K     T    \n",
      "\u001b[90m 8\u001b[39m          7 AAAACT  KT    AAA    ACT    K     T    \n",
      "\u001b[90m 9\u001b[39m          8 AAAAGA  KR    AAA    AGA    K     R    \n",
      "\u001b[90m10\u001b[39m          9 AAAAGC  KS    AAA    AGC    K     S    \n",
      "\u001b[90m# … with 4,086 more rows\u001b[39m\n"
     ]
    }
   ],
   "source": [
    "insert_annotations = read_csv(\"../../8xdicodon_linkage/annotations/dicodon_yeast.csv\", show_col_types = F) %>%\n",
    "    mutate(dicodon = str_extract(insert, \"([ACTG]{6})(?=\\\\1{7})\")) %>%\n",
    "    drop_na(dicodon) %>% # drops the inserts that aren't dicodons in this case\n",
    "    mutate(diaa = as.character(translate(DNAStringSet(dicodon), no.init.codon = T))) %>%\n",
    "    mutate(codon1 = substr(dicodon, 1, 3), codon2 = substr(dicodon, 4, 6),\n",
    "         aa1 = substr(diaa, 1, 1), aa2 = substr(diaa, 2, 2)) %>%\n",
    "    select(-insert) %>%\n",
    "    print()"
   ]
  },
  {
   "cell_type": "code",
   "execution_count": 187,
   "metadata": {
    "vscode": {
     "languageId": "r"
    }
   },
   "outputs": [],
   "source": [
    "linked_inserts <- insert_barcode_linkages %>%\n",
    "    dplyr::pull(insert_num)\n",
    "\n",
    "missing_dicodons_linkage <- setdiff(seq(0,4095), linked_inserts)"
   ]
  },
  {
   "cell_type": "code",
   "execution_count": 188,
   "metadata": {
    "vscode": {
     "languageId": "r"
    }
   },
   "outputs": [
    {
     "data": {
      "image/png": "[encoded data removed]",
      "text/plain": [
       "plot without title"
      ]
     },
     "metadata": {
      "image/png": {
       "height": 120,
       "width": 240
      }
     },
     "output_type": "display_data"
    }
   ],
   "source": [
    "options(repr.plot.width=4, repr.plot.height=2)\n",
    "plot_data <- insert_annotations %>% \n",
    "  bind_cols(letterFrequency(DNAStringSet(.$dicodon), as.prob=T, letter=c(\"G\", \"C\"))) %>%\n",
    "  mutate(gc = as.factor(round(G+C, 2))) %>%\n",
    "  select(-G, -C) %>%\n",
    "  mutate(missing = if_else(insert_num %in% missing_dicodons_linkage, \"Missing\", \"Not missing\")) %>% \n",
    "  group_by(gc, missing) %>%\n",
    "  summarise(n = n(), .groups = \"drop\") %>%\n",
    "  complete(missing, gc, fill = list(n = 0)) %>% \n",
    "  group_by(gc) %>% \n",
    "  mutate(perc = n/sum(n)) %>%\n",
    "  ungroup()\n",
    "\n",
    "plot_data %>% \n",
    "  ggplot(aes(x = gc, y = perc, color = missing, group = missing)) +\n",
    "  geom_line() +\n",
    "  geom_point() +\n",
    "  theme +\n",
    "  theme(legend.box.margin=margin(-12,-12,-12,-12),\n",
    "        legend.position='top') +\n",
    "  ggthemes::scale_color_tableau() +\n",
    "  labs(x = \"GC fraction\", y = \"Codon pair fraction\", color = \"\")\n",
    "\n",
    "ggsave(\"../figures/missing_in_linkage_by_gc_content.pdf\", width=2.5, height=1.7)"
   ]
  },
  {
   "cell_type": "code",
   "execution_count": 189,
   "metadata": {
    "vscode": {
     "languageId": "r"
    }
   },
   "outputs": [],
   "source": [
    "if (file.exists('../tables')){\n",
    "    insert_annotations %>%\n",
    "        filter(insert_num %in% missing_dicodons_linkage) %>%\n",
    "        write_csv(\"../tables/missing_dicodons_plasmid_library.csv\")\n",
    "} else {\n",
    "    dir.create('../tables')\n",
    "    insert_annotations %>%\n",
    "        filter(insert_num %in% missing_dicodons_linkage) %>%\n",
    "        write_csv(\"../tables/missing_dicodons_plasmid_library.csv\")\n",
    "}"
   ]
  },
  {
   "cell_type": "markdown",
   "metadata": {},
   "source": [
    "### Plot dipeptides missing in barcodeseq\n",
    "- Excluding those missing in plasmid library"
   ]
  },
  {
   "cell_type": "code",
   "execution_count": 190,
   "metadata": {
    "vscode": {
     "languageId": "r"
    }
   },
   "outputs": [
    {
     "name": "stderr",
     "output_type": "stream",
     "text": [
      "\u001b[1mRows: \u001b[22m\u001b[34m2\u001b[39m \u001b[1mColumns: \u001b[22m\u001b[34m15\u001b[39m\n",
      "\u001b[36m──\u001b[39m \u001b[1mColumn specification\u001b[22m \u001b[36m────────────────────────────────────────────────────────\u001b[39m\n",
      "\u001b[1mDelimiter:\u001b[22m \",\"\n",
      "\u001b[31mchr\u001b[39m (12): owner, sample_type, sample_name, plasmid, library_type, illumina_s...\n",
      "\u001b[32mdbl\u001b[39m  (3): barcode_read, barcode_start, barcode_length\n",
      "\n",
      "\u001b[36mℹ\u001b[39m Use `spec()` to retrieve the full column specification for this data.\n",
      "\u001b[36mℹ\u001b[39m Specify the column types or set `show_col_types = FALSE` to quiet this message.\n"
     ]
    },
    {
     "data": {
      "text/html": [
       "<table class=\"dataframe\">\n",
       "<caption>A spec_tbl_df: 2 × 15</caption>\n",
       "<thead>\n",
       "\t<tr><th scope=col>owner</th><th scope=col>sample_type</th><th scope=col>sample_name</th><th scope=col>plasmid</th><th scope=col>library_type</th><th scope=col>illumina_sample_id</th><th scope=col>sample_id</th><th scope=col>barcode_read</th><th scope=col>barcode_start</th><th scope=col>barcode_length</th><th scope=col>linkage_ref</th><th scope=col>r1_file</th><th scope=col>r2_file</th><th scope=col>s3</th><th scope=col>shared</th></tr>\n",
       "\t<tr><th scope=col>&lt;chr&gt;</th><th scope=col>&lt;chr&gt;</th><th scope=col>&lt;chr&gt;</th><th scope=col>&lt;chr&gt;</th><th scope=col>&lt;chr&gt;</th><th scope=col>&lt;chr&gt;</th><th scope=col>&lt;chr&gt;</th><th scope=col>&lt;dbl&gt;</th><th scope=col>&lt;dbl&gt;</th><th scope=col>&lt;dbl&gt;</th><th scope=col>&lt;chr&gt;</th><th scope=col>&lt;chr&gt;</th><th scope=col>&lt;chr&gt;</th><th scope=col>&lt;chr&gt;</th><th scope=col>&lt;chr&gt;</th></tr>\n",
       "</thead>\n",
       "<tbody>\n",
       "\t<tr><td>kc</td><td>dicodon_yeast</td><td>wt_gdna</td><td>pHPSC1142</td><td>grna</td><td>51lib2</td><td>51lib2</td><td>1</td><td>1</td><td>24</td><td>yeast_cyto_linkage</td><td>kc_51lib2_S13_R1_001</td><td>kc_51lib2_S13_R2_001</td><td>fh-pi-subramaniam-a-eco/data/kchen/illumina/20220328_exp51_wt_8xdicodon/</td><td>/shared/ngs/illumina/subramaniam_lab/220328_VH00319_178_AAAYF3FM5/Unaligned/Project_subramaniam_lab/</td></tr>\n",
       "\t<tr><td>kc</td><td>dicodon_yeast</td><td>wt_mrna</td><td>pHPSC1142</td><td>mrna</td><td>51lib1</td><td>51lib1</td><td>1</td><td>1</td><td>24</td><td>yeast_cyto_linkage</td><td>kc_51lib1_S12_R1_001</td><td>kc_51lib1_S12_R2_001</td><td>fh-pi-subramaniam-a-eco/data/kchen/illumina/20220328_exp51_wt_8xdicodon/</td><td>/shared/ngs/illumina/subramaniam_lab/220328_VH00319_178_AAAYF3FM5/Unaligned/Project_subramaniam_lab/</td></tr>\n",
       "</tbody>\n",
       "</table>\n"
      ],
      "text/latex": [
       "A spec\\_tbl\\_df: 2 × 15\n",
       "\\begin{tabular}{lllllllllllllll}\n",
       " owner & sample\\_type & sample\\_name & plasmid & library\\_type & illumina\\_sample\\_id & sample\\_id & barcode\\_read & barcode\\_start & barcode\\_length & linkage\\_ref & r1\\_file & r2\\_file & s3 & shared\\\\\n",
       " <chr> & <chr> & <chr> & <chr> & <chr> & <chr> & <chr> & <dbl> & <dbl> & <dbl> & <chr> & <chr> & <chr> & <chr> & <chr>\\\\\n",
       "\\hline\n",
       "\t kc & dicodon\\_yeast & wt\\_gdna & pHPSC1142 & grna & 51lib2 & 51lib2 & 1 & 1 & 24 & yeast\\_cyto\\_linkage & kc\\_51lib2\\_S13\\_R1\\_001 & kc\\_51lib2\\_S13\\_R2\\_001 & fh-pi-subramaniam-a-eco/data/kchen/illumina/20220328\\_exp51\\_wt\\_8xdicodon/ & /shared/ngs/illumina/subramaniam\\_lab/220328\\_VH00319\\_178\\_AAAYF3FM5/Unaligned/Project\\_subramaniam\\_lab/\\\\\n",
       "\t kc & dicodon\\_yeast & wt\\_mrna & pHPSC1142 & mrna & 51lib1 & 51lib1 & 1 & 1 & 24 & yeast\\_cyto\\_linkage & kc\\_51lib1\\_S12\\_R1\\_001 & kc\\_51lib1\\_S12\\_R2\\_001 & fh-pi-subramaniam-a-eco/data/kchen/illumina/20220328\\_exp51\\_wt\\_8xdicodon/ & /shared/ngs/illumina/subramaniam\\_lab/220328\\_VH00319\\_178\\_AAAYF3FM5/Unaligned/Project\\_subramaniam\\_lab/\\\\\n",
       "\\end{tabular}\n"
      ],
      "text/markdown": [
       "\n",
       "A spec_tbl_df: 2 × 15\n",
       "\n",
       "| owner &lt;chr&gt; | sample_type &lt;chr&gt; | sample_name &lt;chr&gt; | plasmid &lt;chr&gt; | library_type &lt;chr&gt; | illumina_sample_id &lt;chr&gt; | sample_id &lt;chr&gt; | barcode_read &lt;dbl&gt; | barcode_start &lt;dbl&gt; | barcode_length &lt;dbl&gt; | linkage_ref &lt;chr&gt; | r1_file &lt;chr&gt; | r2_file &lt;chr&gt; | s3 &lt;chr&gt; | shared &lt;chr&gt; |\n",
       "|---|---|---|---|---|---|---|---|---|---|---|---|---|---|---|\n",
       "| kc | dicodon_yeast | wt_gdna | pHPSC1142 | grna | 51lib2 | 51lib2 | 1 | 1 | 24 | yeast_cyto_linkage | kc_51lib2_S13_R1_001 | kc_51lib2_S13_R2_001 | fh-pi-subramaniam-a-eco/data/kchen/illumina/20220328_exp51_wt_8xdicodon/ | /shared/ngs/illumina/subramaniam_lab/220328_VH00319_178_AAAYF3FM5/Unaligned/Project_subramaniam_lab/ |\n",
       "| kc | dicodon_yeast | wt_mrna | pHPSC1142 | mrna | 51lib1 | 51lib1 | 1 | 1 | 24 | yeast_cyto_linkage | kc_51lib1_S12_R1_001 | kc_51lib1_S12_R2_001 | fh-pi-subramaniam-a-eco/data/kchen/illumina/20220328_exp51_wt_8xdicodon/ | /shared/ngs/illumina/subramaniam_lab/220328_VH00319_178_AAAYF3FM5/Unaligned/Project_subramaniam_lab/ |\n",
       "\n"
      ],
      "text/plain": [
       "  owner sample_type   sample_name plasmid   library_type illumina_sample_id\n",
       "1 kc    dicodon_yeast wt_gdna     pHPSC1142 grna         51lib2            \n",
       "2 kc    dicodon_yeast wt_mrna     pHPSC1142 mrna         51lib1            \n",
       "  sample_id barcode_read barcode_start barcode_length linkage_ref       \n",
       "1 51lib2    1            1             24             yeast_cyto_linkage\n",
       "2 51lib1    1            1             24             yeast_cyto_linkage\n",
       "  r1_file              r2_file             \n",
       "1 kc_51lib2_S13_R1_001 kc_51lib2_S13_R2_001\n",
       "2 kc_51lib1_S12_R1_001 kc_51lib1_S12_R2_001\n",
       "  s3                                                                      \n",
       "1 fh-pi-subramaniam-a-eco/data/kchen/illumina/20220328_exp51_wt_8xdicodon/\n",
       "2 fh-pi-subramaniam-a-eco/data/kchen/illumina/20220328_exp51_wt_8xdicodon/\n",
       "  shared                                                                                              \n",
       "1 /shared/ngs/illumina/subramaniam_lab/220328_VH00319_178_AAAYF3FM5/Unaligned/Project_subramaniam_lab/\n",
       "2 /shared/ngs/illumina/subramaniam_lab/220328_VH00319_178_AAAYF3FM5/Unaligned/Project_subramaniam_lab/"
      ]
     },
     "metadata": {},
     "output_type": "display_data"
    }
   ],
   "source": [
    "sample_annotations = read_csv(\"../annotations/sample_annotations.csv\", comment='#')\n",
    "sample_annotations"
   ]
  },
  {
   "cell_type": "code",
   "execution_count": 191,
   "metadata": {
    "vscode": {
     "languageId": "r"
    }
   },
   "outputs": [
    {
     "name": "stderr",
     "output_type": "stream",
     "text": [
      "\u001b[1mRows: \u001b[22m\u001b[34m197785\u001b[39m \u001b[1mColumns: \u001b[22m\u001b[34m5\u001b[39m\n",
      "\u001b[36m──\u001b[39m \u001b[1mColumn specification\u001b[22m \u001b[36m────────────────────────────────────────────────────────\u001b[39m\n",
      "\u001b[1mDelimiter:\u001b[22m \",\"\n",
      "\u001b[31mchr\u001b[39m (4): barcode_count, insert_num, barcode, linkage_count\n",
      "\u001b[32mdbl\u001b[39m (1): barcode_num\n",
      "\n",
      "\u001b[36mℹ\u001b[39m Use `spec()` to retrieve the full column specification for this data.\n",
      "\u001b[36mℹ\u001b[39m Specify the column types or set `show_col_types = FALSE` to quiet this message.\n",
      "\u001b[1mRows: \u001b[22m\u001b[34m172594\u001b[39m \u001b[1mColumns: \u001b[22m\u001b[34m5\u001b[39m\n",
      "\u001b[36m──\u001b[39m \u001b[1mColumn specification\u001b[22m \u001b[36m────────────────────────────────────────────────────────\u001b[39m\n",
      "\u001b[1mDelimiter:\u001b[22m \",\"\n",
      "\u001b[31mchr\u001b[39m (4): barcode_count, insert_num, barcode, linkage_count\n",
      "\u001b[32mdbl\u001b[39m (1): barcode_num\n",
      "\n",
      "\u001b[36mℹ\u001b[39m Use `spec()` to retrieve the full column specification for this data.\n",
      "\u001b[36mℹ\u001b[39m Specify the column types or set `show_col_types = FALSE` to quiet this message.\n",
      "Warning message:\n",
      "“`cols` is now required when using unnest().\n",
      "Please use `cols = c(counts)`”\n",
      "Warning message in mask$eval_all_mutate(quo):\n",
      "“NAs introduced by coercion”\n",
      "Warning message in mask$eval_all_mutate(quo):\n",
      "“NAs introduced by coercion”\n"
     ]
    }
   ],
   "source": [
    "barcode_counts <- list.files(\"../data/linked_barcode_counts/\", pattern = \".csv$\", full.names = T) %>% \n",
    "  enframe(\"sno\", \"file\") %>% \n",
    "  mutate(counts = map(file, read_csv)) %>% \n",
    "  mutate(sample_name = str_extract(file, \"[^/]+(?=.csv)\")) %>% \n",
    "  select(-sno, -file) %>% \n",
    "  unnest() %>% \n",
    "  mutate(insert_num = as.numeric(str_extract(insert_num, \"[:digit:]+\"))) %>%\n",
    "  mutate(barcode_count = as.numeric(barcode_count)) %>%\n",
    "  mutate(linkage_count = as.numeric(linkage_count))"
   ]
  },
  {
   "cell_type": "code",
   "execution_count": 192,
   "metadata": {
    "vscode": {
     "languageId": "r"
    }
   },
   "outputs": [
    {
     "data": {
      "text/html": [
       "<table class=\"dataframe\">\n",
       "<caption>A tibble: 6 × 7</caption>\n",
       "<thead>\n",
       "\t<tr><th scope=col>barcode_count</th><th scope=col>insert_num</th><th scope=col>barcode_num</th><th scope=col>barcode</th><th scope=col>linkage_count</th><th scope=col>sample_name</th><th scope=col>linkage_ref</th></tr>\n",
       "\t<tr><th scope=col>&lt;dbl&gt;</th><th scope=col>&lt;dbl&gt;</th><th scope=col>&lt;dbl&gt;</th><th scope=col>&lt;chr&gt;</th><th scope=col>&lt;dbl&gt;</th><th scope=col>&lt;chr&gt;</th><th scope=col>&lt;chr&gt;</th></tr>\n",
       "</thead>\n",
       "<tbody>\n",
       "\t<tr><td>4871</td><td> 186</td><td>1643847</td><td>AGTCGTTGTAGCAACTCGATGTTT</td><td>16</td><td>wt_gdna</td><td>yeast_cyto_linkage</td></tr>\n",
       "\t<tr><td>4653</td><td>5658</td><td>1596380</td><td>CTGGATGTCGCGAGCAACAACAGC</td><td>17</td><td>wt_gdna</td><td>yeast_cyto_linkage</td></tr>\n",
       "\t<tr><td>3823</td><td>5810</td><td> 764917</td><td>TGTATTCGGGCCAGCATGAGGTGC</td><td> 4</td><td>wt_gdna</td><td>yeast_cyto_linkage</td></tr>\n",
       "\t<tr><td>3656</td><td>2787</td><td>1040412</td><td>AGCGATTAGAGCATTTCTGGCCAC</td><td> 3</td><td>wt_gdna</td><td>yeast_cyto_linkage</td></tr>\n",
       "\t<tr><td>3577</td><td> 203</td><td>1644177</td><td>TGGGATCTTTTCGCGTATTCGGTT</td><td>16</td><td>wt_gdna</td><td>yeast_cyto_linkage</td></tr>\n",
       "\t<tr><td>3497</td><td>4868</td><td> 692986</td><td>TCGCTCCGTGTCGTGTCTCCTATG</td><td> 4</td><td>wt_gdna</td><td>yeast_cyto_linkage</td></tr>\n",
       "</tbody>\n",
       "</table>\n"
      ],
      "text/latex": [
       "A tibble: 6 × 7\n",
       "\\begin{tabular}{lllllll}\n",
       " barcode\\_count & insert\\_num & barcode\\_num & barcode & linkage\\_count & sample\\_name & linkage\\_ref\\\\\n",
       " <dbl> & <dbl> & <dbl> & <chr> & <dbl> & <chr> & <chr>\\\\\n",
       "\\hline\n",
       "\t 4871 &  186 & 1643847 & AGTCGTTGTAGCAACTCGATGTTT & 16 & wt\\_gdna & yeast\\_cyto\\_linkage\\\\\n",
       "\t 4653 & 5658 & 1596380 & CTGGATGTCGCGAGCAACAACAGC & 17 & wt\\_gdna & yeast\\_cyto\\_linkage\\\\\n",
       "\t 3823 & 5810 &  764917 & TGTATTCGGGCCAGCATGAGGTGC &  4 & wt\\_gdna & yeast\\_cyto\\_linkage\\\\\n",
       "\t 3656 & 2787 & 1040412 & AGCGATTAGAGCATTTCTGGCCAC &  3 & wt\\_gdna & yeast\\_cyto\\_linkage\\\\\n",
       "\t 3577 &  203 & 1644177 & TGGGATCTTTTCGCGTATTCGGTT & 16 & wt\\_gdna & yeast\\_cyto\\_linkage\\\\\n",
       "\t 3497 & 4868 &  692986 & TCGCTCCGTGTCGTGTCTCCTATG &  4 & wt\\_gdna & yeast\\_cyto\\_linkage\\\\\n",
       "\\end{tabular}\n"
      ],
      "text/markdown": [
       "\n",
       "A tibble: 6 × 7\n",
       "\n",
       "| barcode_count &lt;dbl&gt; | insert_num &lt;dbl&gt; | barcode_num &lt;dbl&gt; | barcode &lt;chr&gt; | linkage_count &lt;dbl&gt; | sample_name &lt;chr&gt; | linkage_ref &lt;chr&gt; |\n",
       "|---|---|---|---|---|---|---|\n",
       "| 4871 |  186 | 1643847 | AGTCGTTGTAGCAACTCGATGTTT | 16 | wt_gdna | yeast_cyto_linkage |\n",
       "| 4653 | 5658 | 1596380 | CTGGATGTCGCGAGCAACAACAGC | 17 | wt_gdna | yeast_cyto_linkage |\n",
       "| 3823 | 5810 |  764917 | TGTATTCGGGCCAGCATGAGGTGC |  4 | wt_gdna | yeast_cyto_linkage |\n",
       "| 3656 | 2787 | 1040412 | AGCGATTAGAGCATTTCTGGCCAC |  3 | wt_gdna | yeast_cyto_linkage |\n",
       "| 3577 |  203 | 1644177 | TGGGATCTTTTCGCGTATTCGGTT | 16 | wt_gdna | yeast_cyto_linkage |\n",
       "| 3497 | 4868 |  692986 | TCGCTCCGTGTCGTGTCTCCTATG |  4 | wt_gdna | yeast_cyto_linkage |\n",
       "\n"
      ],
      "text/plain": [
       "  barcode_count insert_num barcode_num barcode                  linkage_count\n",
       "1 4871           186       1643847     AGTCGTTGTAGCAACTCGATGTTT 16           \n",
       "2 4653          5658       1596380     CTGGATGTCGCGAGCAACAACAGC 17           \n",
       "3 3823          5810        764917     TGTATTCGGGCCAGCATGAGGTGC  4           \n",
       "4 3656          2787       1040412     AGCGATTAGAGCATTTCTGGCCAC  3           \n",
       "5 3577           203       1644177     TGGGATCTTTTCGCGTATTCGGTT 16           \n",
       "6 3497          4868        692986     TCGCTCCGTGTCGTGTCTCCTATG  4           \n",
       "  sample_name linkage_ref       \n",
       "1 wt_gdna     yeast_cyto_linkage\n",
       "2 wt_gdna     yeast_cyto_linkage\n",
       "3 wt_gdna     yeast_cyto_linkage\n",
       "4 wt_gdna     yeast_cyto_linkage\n",
       "5 wt_gdna     yeast_cyto_linkage\n",
       "6 wt_gdna     yeast_cyto_linkage"
      ]
     },
     "metadata": {},
     "output_type": "display_data"
    }
   ],
   "source": [
    "barcode_insert_counts <- barcode_counts %>% \n",
    "  left_join(select(sample_annotations, c(sample_id, sample_name)), by = \"sample_name\") %>%\n",
    "  left_join(insert_barcode_linkages, by = c(\"barcode_num\", \"barcode\", \"insert_num\", \"linkage_count\")) %>%\n",
    "  drop_na(barcode_count) %>%\n",
    "  select(-sample_id)\n",
    "\n",
    "head(barcode_insert_counts)"
   ]
  },
  {
   "cell_type": "code",
   "execution_count": 193,
   "metadata": {
    "vscode": {
     "languageId": "r"
    }
   },
   "outputs": [],
   "source": [
    "wt_dicodon_nocutoffs <- barcode_counts %>%\n",
    "    mutate(sample_type = str_extract(sample_name, '[^_]+$')) %>%\n",
    "    mutate(sample_name = str_extract(sample_name, '[^_]+')) %>%\n",
    "    filter(sample_name == 'wt') %>%\n",
    "    inner_join(insert_annotations, by='insert_num') %>%\n",
    "    select(-barcode, -aa1, -aa2, -codon1, -codon2) %>%\n",
    "    pivot_wider(names_from='sample_type', values_from=c(barcode_count)) %>%\n",
    "    drop_na()"
   ]
  },
  {
   "cell_type": "code",
   "execution_count": 194,
   "metadata": {
    "vscode": {
     "languageId": "r"
    }
   },
   "outputs": [],
   "source": [
    "calc_lfc_bootstrap <- function(data, indices) {\n",
    "  d <- data[indices,]\n",
    "  log2(sum(d$mrna)) - log2(sum(d$gdna))\n",
    "}\n",
    "\n",
    "wt_bootstrap_dicodon_nocutoffs <- wt_dicodon_nocutoffs %>%\n",
    "  group_by(dicodon) %>%\n",
    "  nest() %>%\n",
    "  mutate(lfc_boot = map(data, function(df) boot::boot(data=df, statistic=calc_lfc_bootstrap, R=100)$t)) %>%\n",
    "  select(-data) %>%\n",
    "  mutate(lfc = map_dbl(lfc_boot, mean)) %>%\n",
    "  mutate(lfc_sd = map_dbl(lfc_boot, sd)) %>%\n",
    "  select(-lfc_boot) %>%\n",
    "  ungroup() %>%\n",
    "  mutate(lfc_med = lfc - median(lfc)) %>%\n",
    "  inner_join(insert_annotations, by = \"dicodon\") %>%\n",
    "  mutate(strain = 'wt')"
   ]
  },
  {
   "cell_type": "code",
   "execution_count": 195,
   "metadata": {
    "vscode": {
     "languageId": "r"
    }
   },
   "outputs": [],
   "source": [
    "sequenced_inserts <- wt_bootstrap_dicodon_nocutoffs %>%\n",
    "    dplyr::pull(insert_num)"
   ]
  },
  {
   "cell_type": "code",
   "execution_count": 196,
   "metadata": {
    "vscode": {
     "languageId": "r"
    }
   },
   "outputs": [],
   "source": [
    "missing_dicodons <- setdiff(seq(0,4095), sequenced_inserts)\n",
    "missing_barcodeseq <- setdiff(missing_dicodons, missing_dicodons_linkage)"
   ]
  },
  {
   "cell_type": "code",
   "execution_count": 199,
   "metadata": {
    "vscode": {
     "languageId": "r"
    }
   },
   "outputs": [],
   "source": [
    "dicodons_missing_aa1 <- insert_annotations %>%\n",
    "    filter(insert_num %in% missing_barcodeseq) %>%\n",
    "    group_by(diaa) %>%\n",
    "    summarize(n_missing_dicodons = n(), .groups='drop') %>%\n",
    "    mutate(aa1 = str_sub(diaa, 1,1)) %>%\n",
    "    mutate(aa2 = str_sub(diaa, 2,2)) %>%\n",
    "    filter(aa1 != aa2) %>%\n",
    "    group_by(aa1) %>%\n",
    "    summarize(sum_missing_dicodons = sum(n_missing_dicodons)) %>%\n",
    "    dplyr::rename(aa = aa1)\n",
    "\n",
    "dicodons_missing_aa2 <- insert_annotations %>%\n",
    "    filter(insert_num %in% missing_barcodeseq) %>%\n",
    "    group_by(diaa) %>%\n",
    "    summarize(n_missing_dicodons = n(), .groups='drop') %>%\n",
    "    mutate(aa1 = str_sub(diaa, 1,1)) %>%\n",
    "    mutate(aa2 = str_sub(diaa, 2,2)) %>%\n",
    "    filter(aa1 != aa2) %>%\n",
    "    group_by(aa2) %>%\n",
    "    summarize(sum_missing_dicodons = sum(n_missing_dicodons)) %>%\n",
    "    dplyr::rename(aa = aa2)\n",
    "\n",
    "dicodons_missing_both <- insert_annotations %>%\n",
    "    filter(insert_num %in% missing_barcodeseq) %>%\n",
    "    group_by(diaa) %>%\n",
    "    summarize(n_missing_dicodons = n(), .groups='drop') %>%\n",
    "    mutate(aa1 = str_sub(diaa, 1,1)) %>%\n",
    "    mutate(aa2 = str_sub(diaa, 2,2)) %>%\n",
    "    filter(aa1 == aa2) %>%\n",
    "    group_by(aa1) %>%\n",
    "    summarize(sum_missing_dicodons = sum(n_missing_dicodons)) %>%\n",
    "    dplyr::rename(aa = aa1)"
   ]
  },
  {
   "cell_type": "code",
   "execution_count": 200,
   "metadata": {
    "vscode": {
     "languageId": "r"
    }
   },
   "outputs": [],
   "source": [
    "total_missing_aa <- bind_rows(dicodons_missing_both, dicodons_missing_aa1, dicodons_missing_aa2) %>%\n",
    "    group_by(aa) %>%\n",
    "    summarize(total_dicodons_missing_this_aa = sum(sum_missing_dicodons), .groups='drop')"
   ]
  },
  {
   "cell_type": "code",
   "execution_count": 203,
   "metadata": {
    "vscode": {
     "languageId": "r"
    }
   },
   "outputs": [
    {
     "data": {
      "image/png": "[encoded data removed]",
      "text/plain": [
       "plot without title"
      ]
     },
     "metadata": {
      "image/png": {
       "height": 180,
       "width": 180
      }
     },
     "output_type": "display_data"
    }
   ],
   "source": [
    "options(repr.plot.width = 3, repr.plot.height = 3)\n",
    "\n",
    "insert_annotations %>%\n",
    "    mutate(type = case_when((aa1 %in% c('A', 'I', 'L', 'M', 'F', 'W', 'Y', 'V')) & (aa2 %in% c('A', 'I', 'L', 'M', 'F', 'W', 'Y', 'V')) ~ 'Fully\\nhydrophobic',\n",
    "                            (aa1 %in% c('A', 'I', 'L', 'M', 'F', 'W', 'Y', 'V')) & !(aa2 %in% c('A', 'I', 'L', 'M', 'F', 'W', 'Y', 'V')) ~ 'Half\\nhydrophobic',\n",
    "                            !(aa1 %in% c('A', 'I', 'L', 'M', 'F', 'W', 'Y', 'V')) & (aa2 %in% c('A', 'I', 'L', 'M', 'F', 'W', 'Y', 'V')) ~ 'Half\\nhydrophobic',\n",
    "                            TRUE ~ 'No hydrophobic\\nresidues')) %>%\n",
    "    mutate(missing = ifelse(insert_num %in% missing_barcodeseq, 'Missing', 'Not missing')) %>%\n",
    "    group_by(type, missing) %>%\n",
    "    summarize(total = n(), .groups='drop') %>%\n",
    "    group_by(type) %>%\n",
    "    mutate(proportion = total / sum(total)) %>%\n",
    "    ggplot() +\n",
    "    aes(x=type, y=proportion, fill=missing) +\n",
    "    geom_bar(stat='identity') +\n",
    "    ggthemes::scale_fill_tableau() +\n",
    "    theme +\n",
    "    theme(axis.text.x = element_text(angle=45, hjust=1, vjust=1),\n",
    "        legend.position = \"top\",\n",
    "        legend.justification='left',\n",
    "        legend.box.margin=margin(-12,-12,-12,-12),\n",
    "        legend.key.height = unit(0.25, 'cm'),\n",
    "        legend.key.width = unit(0.25, 'cm'),) +\n",
    "    labs(x='', y='Proportion', fill='')\n",
    "\n",
    "ggsave(\"../figures/proportion_missing_hydrophobic_barcodeseq.pdf\", width=1.8, height=2.2)"
   ]
  },
  {
   "cell_type": "markdown",
   "metadata": {},
   "source": [
    "## Plot missing data in Hel2-del and Syh1-del strains"
   ]
  },
  {
   "cell_type": "markdown",
   "metadata": {},
   "source": [
    "- If we define missing as the dicodon's lfc is missing (grey square on the heat map)\n",
    "  - this doesn't necessarily mean that the dicodon never got sequenced, but could also mean that barcodes never matched up between gDNA and cDNA libraries.\n",
    "- The below is how the the dicodon heatmap in fig2 is generated"
   ]
  },
  {
   "cell_type": "code",
   "execution_count": 206,
   "metadata": {
    "vscode": {
     "languageId": "r"
    }
   },
   "outputs": [
    {
     "name": "stderr",
     "output_type": "stream",
     "text": [
      "\u001b[1mRows: \u001b[22m\u001b[34m99948\u001b[39m \u001b[1mColumns: \u001b[22m\u001b[34m5\u001b[39m\n",
      "\u001b[36m──\u001b[39m \u001b[1mColumn specification\u001b[22m \u001b[36m────────────────────────────────────────────────────────\u001b[39m\n",
      "\u001b[1mDelimiter:\u001b[22m \",\"\n",
      "\u001b[31mchr\u001b[39m (4): barcode_count, insert_num, barcode, linkage_count\n",
      "\u001b[32mdbl\u001b[39m (1): barcode_num\n",
      "\n",
      "\u001b[36mℹ\u001b[39m Use `spec()` to retrieve the full column specification for this data.\n",
      "\u001b[36mℹ\u001b[39m Specify the column types or set `show_col_types = FALSE` to quiet this message.\n",
      "\u001b[1mRows: \u001b[22m\u001b[34m163535\u001b[39m \u001b[1mColumns: \u001b[22m\u001b[34m5\u001b[39m\n",
      "\u001b[36m──\u001b[39m \u001b[1mColumn specification\u001b[22m \u001b[36m────────────────────────────────────────────────────────\u001b[39m\n",
      "\u001b[1mDelimiter:\u001b[22m \",\"\n",
      "\u001b[31mchr\u001b[39m (4): barcode_count, insert_num, barcode, linkage_count\n",
      "\u001b[32mdbl\u001b[39m (1): barcode_num\n",
      "\n",
      "\u001b[36mℹ\u001b[39m Use `spec()` to retrieve the full column specification for this data.\n",
      "\u001b[36mℹ\u001b[39m Specify the column types or set `show_col_types = FALSE` to quiet this message.\n",
      "\u001b[1mRows: \u001b[22m\u001b[34m110997\u001b[39m \u001b[1mColumns: \u001b[22m\u001b[34m5\u001b[39m\n",
      "\u001b[36m──\u001b[39m \u001b[1mColumn specification\u001b[22m \u001b[36m────────────────────────────────────────────────────────\u001b[39m\n",
      "\u001b[1mDelimiter:\u001b[22m \",\"\n",
      "\u001b[31mchr\u001b[39m (4): barcode_count, insert_num, barcode, linkage_count\n",
      "\u001b[32mdbl\u001b[39m (1): barcode_num\n",
      "\n",
      "\u001b[36mℹ\u001b[39m Use `spec()` to retrieve the full column specification for this data.\n",
      "\u001b[36mℹ\u001b[39m Specify the column types or set `show_col_types = FALSE` to quiet this message.\n",
      "\u001b[1mRows: \u001b[22m\u001b[34m154870\u001b[39m \u001b[1mColumns: \u001b[22m\u001b[34m5\u001b[39m\n",
      "\u001b[36m──\u001b[39m \u001b[1mColumn specification\u001b[22m \u001b[36m────────────────────────────────────────────────────────\u001b[39m\n",
      "\u001b[1mDelimiter:\u001b[22m \",\"\n",
      "\u001b[31mchr\u001b[39m (4): barcode_count, insert_num, barcode, linkage_count\n",
      "\u001b[32mdbl\u001b[39m (1): barcode_num\n",
      "\n",
      "\u001b[36mℹ\u001b[39m Use `spec()` to retrieve the full column specification for this data.\n",
      "\u001b[36mℹ\u001b[39m Specify the column types or set `show_col_types = FALSE` to quiet this message.\n",
      "\u001b[1mRows: \u001b[22m\u001b[34m169432\u001b[39m \u001b[1mColumns: \u001b[22m\u001b[34m5\u001b[39m\n",
      "\u001b[36m──\u001b[39m \u001b[1mColumn specification\u001b[22m \u001b[36m────────────────────────────────────────────────────────\u001b[39m\n",
      "\u001b[1mDelimiter:\u001b[22m \",\"\n",
      "\u001b[31mchr\u001b[39m (4): barcode_count, insert_num, barcode, linkage_count\n",
      "\u001b[32mdbl\u001b[39m (1): barcode_num\n",
      "\n",
      "\u001b[36mℹ\u001b[39m Use `spec()` to retrieve the full column specification for this data.\n",
      "\u001b[36mℹ\u001b[39m Specify the column types or set `show_col_types = FALSE` to quiet this message.\n",
      "\u001b[1mRows: \u001b[22m\u001b[34m181686\u001b[39m \u001b[1mColumns: \u001b[22m\u001b[34m5\u001b[39m\n",
      "\u001b[36m──\u001b[39m \u001b[1mColumn specification\u001b[22m \u001b[36m────────────────────────────────────────────────────────\u001b[39m\n",
      "\u001b[1mDelimiter:\u001b[22m \",\"\n",
      "\u001b[31mchr\u001b[39m (4): barcode_count, insert_num, barcode, linkage_count\n",
      "\u001b[32mdbl\u001b[39m (1): barcode_num\n",
      "\n",
      "\u001b[36mℹ\u001b[39m Use `spec()` to retrieve the full column specification for this data.\n",
      "\u001b[36mℹ\u001b[39m Specify the column types or set `show_col_types = FALSE` to quiet this message.\n",
      "Warning message:\n",
      "“`cols` is now required when using unnest().\n",
      "Please use `cols = c(counts)`”\n",
      "Warning message in mask$eval_all_mutate(quo):\n",
      "“NAs introduced by coercion”\n",
      "Warning message in mask$eval_all_mutate(quo):\n",
      "“NAs introduced by coercion”\n"
     ]
    }
   ],
   "source": [
    "counts <- list.files(\"../../hel2_syh1_mrna_grna/data/linked_barcode_counts/\", pattern = \".csv$\", full.names = T) %>% \n",
    "  enframe(\"sno\", \"file\") %>% \n",
    "  mutate(counts = map(file, read_csv)) %>% \n",
    "  mutate(sample_name = str_extract(file, \"[^/]+(?=.csv)\")) %>% \n",
    "  select(-sno, -file) %>% \n",
    "  unnest() %>% \n",
    "  mutate(insert_num = as.numeric(str_extract(insert_num, \"[:digit:]+\"))) %>%\n",
    "  mutate(barcode_count = as.numeric(barcode_count)) %>%\n",
    "  mutate(linkage_count = as.numeric(linkage_count))"
   ]
  },
  {
   "cell_type": "code",
   "execution_count": 207,
   "metadata": {
    "vscode": {
     "languageId": "r"
    }
   },
   "outputs": [],
   "source": [
    "barcode_counts <- counts %>%\n",
    "    mutate(genotype = str_extract(sample_name, '[^_]+')) %>%\n",
    "    mutate(sample_type = str_extract(sample_name, '(?<=_).+')) %>%\n",
    "    mutate(sample_type = ifelse(str_detect(sample_type, 'reseq'), str_extract(sample_name, '(?<=_).+(?=_)'), sample_type)) %>%\n",
    "    select(genotype, sample_type, barcode_num, insert_num, barcode_count) %>%\n",
    "    group_by(genotype, sample_type, barcode_num, insert_num) %>% # combine resequenced counts together\n",
    "    summarize(barcode_count = sum(barcode_count), .groups='drop')"
   ]
  },
  {
   "cell_type": "code",
   "execution_count": 208,
   "metadata": {
    "vscode": {
     "languageId": "r"
    }
   },
   "outputs": [
    {
     "name": "stderr",
     "output_type": "stream",
     "text": [
      "\u001b[1mRows: \u001b[22m\u001b[34m370377\u001b[39m \u001b[1mColumns: \u001b[22m\u001b[34m7\u001b[39m\n",
      "\u001b[36m──\u001b[39m \u001b[1mColumn specification\u001b[22m \u001b[36m────────────────────────────────────────────────────────\u001b[39m\n",
      "\u001b[1mDelimiter:\u001b[22m \"\\t\"\n",
      "\u001b[31mchr\u001b[39m (3): barcode, sample_name, linkage_ref\n",
      "\u001b[32mdbl\u001b[39m (4): barcode_count, insert_num, barcode_num, linkage_count\n",
      "\n",
      "\u001b[36mℹ\u001b[39m Use `spec()` to retrieve the full column specification for this data.\n",
      "\u001b[36mℹ\u001b[39m Specify the column types or set `show_col_types = FALSE` to quiet this message.\n"
     ]
    }
   ],
   "source": [
    "wt_barcode_counts <- read_tsv(\"../tables/barcode_insert_counts.tsv.gz\") %>%\n",
    "    mutate(genotype = str_extract(sample_name, '[^_]+')) %>%\n",
    "    mutate(sample_type = str_extract(sample_name, '(?<=_).+')) %>%\n",
    "    select(genotype, sample_type, barcode_num, insert_num, barcode_count)"
   ]
  },
  {
   "cell_type": "code",
   "execution_count": 209,
   "metadata": {
    "vscode": {
     "languageId": "r"
    }
   },
   "outputs": [],
   "source": [
    "all_barcode_counts <- bind_rows(barcode_counts, wt_barcode_counts)"
   ]
  },
  {
   "cell_type": "code",
   "execution_count": 210,
   "metadata": {
    "vscode": {
     "languageId": "r"
    }
   },
   "outputs": [],
   "source": [
    "wt_dicodon_nocutoffs <- all_barcode_counts %>%\n",
    "    filter(genotype == 'wt') %>%\n",
    "    inner_join(insert_annotations, by='insert_num') %>%\n",
    "    select(-aa1, -aa2, -codon1, -codon2) %>%\n",
    "    pivot_wider(names_from='sample_type', values_from=c(barcode_count)) %>%\n",
    "    drop_na()\n",
    "\n",
    "hel2_dicodon_nocutoffs <- all_barcode_counts %>%\n",
    "    filter(genotype == 'hel2') %>%\n",
    "    inner_join(insert_annotations, by='insert_num') %>%\n",
    "    select(-aa1, -aa2, -codon1, -codon2) %>%\n",
    "    pivot_wider(names_from='sample_type', values_from=c(barcode_count)) %>%\n",
    "    drop_na()\n",
    "\n",
    "syh1_dicodon_nocutoffs <- all_barcode_counts %>%\n",
    "    filter(genotype == 'syh1') %>%\n",
    "    inner_join(insert_annotations, by='insert_num') %>%\n",
    "    select(-aa1, -aa2, -codon1, -codon2) %>%\n",
    "    pivot_wider(names_from='sample_type', values_from=c(barcode_count)) %>%\n",
    "    drop_na()"
   ]
  },
  {
   "cell_type": "code",
   "execution_count": 211,
   "metadata": {
    "vscode": {
     "languageId": "r"
    }
   },
   "outputs": [],
   "source": [
    "calc_lfc_bootstrap <- function(data, indices) {\n",
    "  d <- data[indices,]\n",
    "  log2(sum(d$mrna)) - log2(sum(d$gdna))\n",
    "}\n",
    "\n",
    "wt_bootstrap_dicodon_nocutoffs <- wt_dicodon_nocutoffs %>%\n",
    "  group_by(dicodon) %>%\n",
    "  nest() %>%\n",
    "  mutate(lfc_boot = map(data, function(df) boot::boot(data=df, statistic=calc_lfc_bootstrap, R=100)$t)) %>%\n",
    "  select(-data) %>%\n",
    "  mutate(lfc = map_dbl(lfc_boot, mean)) %>%\n",
    "  mutate(lfc_sd = map_dbl(lfc_boot, sd)) %>%\n",
    "  select(-lfc_boot) %>%\n",
    "  ungroup() %>%\n",
    "  mutate(lfc_med = lfc - median(lfc)) %>%\n",
    "  inner_join(insert_annotations, by = \"dicodon\") %>%\n",
    "  mutate(genotype = 'WT')\n",
    "\n",
    "hel2_bootstrap_dicodon_nocutoffs <- hel2_dicodon_nocutoffs %>%\n",
    "  group_by(dicodon) %>%\n",
    "  nest() %>%\n",
    "  mutate(lfc_boot = map(data, function(df) boot::boot(data=df, statistic=calc_lfc_bootstrap, R=100)$t)) %>%\n",
    "  select(-data) %>%\n",
    "  mutate(lfc = map_dbl(lfc_boot, mean)) %>%\n",
    "  mutate(lfc_sd = map_dbl(lfc_boot, sd)) %>%\n",
    "  select(-lfc_boot) %>%\n",
    "  ungroup() %>%\n",
    "  mutate(lfc_med = lfc - median(lfc)) %>%\n",
    "  inner_join(insert_annotations, by = \"dicodon\") %>%\n",
    "  mutate(genotype = 'Hel2-del')\n",
    "\n",
    "syh1_bootstrap_dicodon_nocutoffs <- syh1_dicodon_nocutoffs %>%\n",
    "  group_by(dicodon) %>%\n",
    "  nest() %>%\n",
    "  mutate(lfc_boot = map(data, function(df) boot::boot(data=df, statistic=calc_lfc_bootstrap, R=100)$t)) %>%\n",
    "  select(-data) %>%\n",
    "  mutate(lfc = map_dbl(lfc_boot, mean)) %>%\n",
    "  mutate(lfc_sd = map_dbl(lfc_boot, sd)) %>%\n",
    "  select(-lfc_boot) %>%\n",
    "  ungroup() %>%\n",
    "  mutate(lfc_med = lfc - median(lfc)) %>%\n",
    "  inner_join(insert_annotations, by = \"dicodon\") %>%\n",
    "  mutate(genotype = 'Syh1-del')\n",
    "\n",
    "dicodon_bootstrap_nocutoffs <- bind_rows(wt_bootstrap_dicodon_nocutoffs, hel2_bootstrap_dicodon_nocutoffs, syh1_bootstrap_dicodon_nocutoffs)"
   ]
  },
  {
   "cell_type": "code",
   "execution_count": 212,
   "metadata": {
    "vscode": {
     "languageId": "r"
    }
   },
   "outputs": [],
   "source": [
    "wt_inserts <- dicodon_bootstrap_nocutoffs %>%\n",
    "    filter(genotype == 'WT') %>%\n",
    "    dplyr::pull(insert_num)\n",
    "\n",
    "hel2_inserts <- dicodon_bootstrap_nocutoffs %>%\n",
    "    filter(genotype == 'Hel2-del') %>%\n",
    "    dplyr::pull(insert_num)\n",
    "\n",
    "syh1_inserts <- dicodon_bootstrap_nocutoffs %>%\n",
    "    filter(genotype == 'Syh1-del') %>%\n",
    "    dplyr::pull(insert_num)\n",
    "\n",
    "all_inserts <- seq(0, 4095)"
   ]
  },
  {
   "cell_type": "code",
   "execution_count": 266,
   "metadata": {
    "vscode": {
     "languageId": "r"
    }
   },
   "outputs": [],
   "source": [
    "wt_missing <- setdiff(all_inserts, wt_inserts)\n",
    "hel2_missing <- setdiff(all_inserts, hel2_inserts)\n",
    "syh1_missing <- setdiff(all_inserts, syh1_inserts)\n",
    "wt_hel2_both <- intersect(wt_missing, hel2_missing)\n",
    "missing_all <- intersect(syh1_missing, wt_hel2_both)\n",
    "missing_all_yeast <- setdiff(missing_all, missing_dicodons_linkage) "
   ]
  },
  {
   "cell_type": "code",
   "execution_count": 267,
   "metadata": {
    "vscode": {
     "languageId": "r"
    }
   },
   "outputs": [],
   "source": [
    "wt_missing_df <- insert_annotations %>%\n",
    "    filter(insert_num %in% wt_missing) %>%\n",
    "    filter(!(insert_num %in% missing_dicodons_linkage)) %>%\n",
    "    mutate(genotype = 'WT')\n",
    "\n",
    "hel2_missing_df <- insert_annotations %>%\n",
    "    filter(insert_num %in% hel2_missing) %>%\n",
    "    filter(!(insert_num %in% missing_dicodons_linkage)) %>%\n",
    "    mutate(genotype = 'Hel2-del')\n",
    "\n",
    "syh1_missing_df <- insert_annotations %>%\n",
    "    filter(insert_num %in% syh1_missing) %>%\n",
    "    filter(!(insert_num %in% missing_dicodons_linkage)) %>%\n",
    "    mutate(genotype = 'Syh1-del')\n",
    "\n",
    "missing_df <- bind_rows(wt_missing_df, hel2_missing_df, syh1_missing_df)"
   ]
  },
  {
   "cell_type": "code",
   "execution_count": 268,
   "metadata": {
    "vscode": {
     "languageId": "r"
    }
   },
   "outputs": [
    {
     "data": {
      "text/html": [
       "0.57201646090535"
      ],
      "text/latex": [
       "0.57201646090535"
      ],
      "text/markdown": [
       "0.57201646090535"
      ],
      "text/plain": [
       "[1] 0.5720165"
      ]
     },
     "metadata": {},
     "output_type": "display_data"
    },
    {
     "data": {
      "text/html": [
       "0.435736677115987"
      ],
      "text/latex": [
       "0.435736677115987"
      ],
      "text/markdown": [
       "0.435736677115987"
      ],
      "text/plain": [
       "[1] 0.4357367"
      ]
     },
     "metadata": {},
     "output_type": "display_data"
    },
    {
     "data": {
      "text/html": [
       "0.441269841269841"
      ],
      "text/latex": [
       "0.441269841269841"
      ],
      "text/markdown": [
       "0.441269841269841"
      ],
      "text/plain": [
       "[1] 0.4412698"
      ]
     },
     "metadata": {},
     "output_type": "display_data"
    },
    {
     "data": {
      "text/html": [
       "139"
      ],
      "text/latex": [
       "139"
      ],
      "text/markdown": [
       "139"
      ],
      "text/plain": [
       "[1] 139"
      ]
     },
     "metadata": {},
     "output_type": "display_data"
    }
   ],
   "source": [
    "length(missing_all_yeast)/nrow(wt_missing_df)\n",
    "length(missing_all_yeast)/nrow(hel2_missing_df)\n",
    "length(missing_all_yeast)/nrow(syh1_missing_df)\n",
    "length(missing_all_yeast)"
   ]
  },
  {
   "cell_type": "code",
   "execution_count": 252,
   "metadata": {
    "vscode": {
     "languageId": "r"
    }
   },
   "outputs": [
    {
     "data": {
      "text/html": [
       "<table class=\"dataframe\">\n",
       "<caption>A tibble: 3 × 2</caption>\n",
       "<thead>\n",
       "\t<tr><th scope=col>type</th><th scope=col>proportion_of_missing</th></tr>\n",
       "\t<tr><th scope=col>&lt;chr&gt;</th><th scope=col>&lt;dbl&gt;</th></tr>\n",
       "</thead>\n",
       "<tbody>\n",
       "\t<tr><td>Fully\n",
       "hydrophobic      </td><td>0.4100719</td></tr>\n",
       "\t<tr><td>Half\n",
       "hydrophobic       </td><td>0.3093525</td></tr>\n",
       "\t<tr><td>No hydrophobic\n",
       "residues</td><td>0.2805755</td></tr>\n",
       "</tbody>\n",
       "</table>\n"
      ],
      "text/latex": [
       "A tibble: 3 × 2\n",
       "\\begin{tabular}{ll}\n",
       " type & proportion\\_of\\_missing\\\\\n",
       " <chr> & <dbl>\\\\\n",
       "\\hline\n",
       "\t Fully\n",
       "hydrophobic       & 0.4100719\\\\\n",
       "\t Half\n",
       "hydrophobic        & 0.3093525\\\\\n",
       "\t No hydrophobic\n",
       "residues & 0.2805755\\\\\n",
       "\\end{tabular}\n"
      ],
      "text/markdown": [
       "\n",
       "A tibble: 3 × 2\n",
       "\n",
       "| type &lt;chr&gt; | proportion_of_missing &lt;dbl&gt; |\n",
       "|---|---|\n",
       "| Fully\n",
       "hydrophobic       | 0.4100719 |\n",
       "| Half\n",
       "hydrophobic        | 0.3093525 |\n",
       "| No hydrophobic\n",
       "residues | 0.2805755 |\n",
       "\n"
      ],
      "text/plain": [
       "  type                     proportion_of_missing\n",
       "1 Fully\\nhydrophobic       0.4100719            \n",
       "2 Half\\nhydrophobic        0.3093525            \n",
       "3 No hydrophobic\\nresidues 0.2805755            "
      ]
     },
     "metadata": {},
     "output_type": "display_data"
    }
   ],
   "source": [
    "missing_df %>%\n",
    "    mutate(type = case_when((aa1 %in% c('A', 'I', 'L', 'M', 'F', 'W', 'Y', 'V')) & (aa2 %in% c('A', 'I', 'L', 'M', 'F', 'W', 'Y', 'V')) ~ 'Fully\\nhydrophobic',\n",
    "                            (aa1 %in% c('A', 'I', 'L', 'M', 'F', 'W', 'Y', 'V')) & !(aa2 %in% c('A', 'I', 'L', 'M', 'F', 'W', 'Y', 'V')) ~ 'Half\\nhydrophobic',\n",
    "                            !(aa1 %in% c('A', 'I', 'L', 'M', 'F', 'W', 'Y', 'V')) & (aa2 %in% c('A', 'I', 'L', 'M', 'F', 'W', 'Y', 'V')) ~ 'Half\\nhydrophobic',\n",
    "                            TRUE ~ 'No hydrophobic\\nresidues')) %>%\n",
    "    filter(insert_num %in% missing_all) %>%\n",
    "    group_by(dicodon) %>%\n",
    "    dplyr::slice(1) %>%\n",
    "    select(-genotype) %>%\n",
    "    ungroup() %>%\n",
    "    group_by(type) %>%\n",
    "    summarize(proportion_of_missing = n()/139)"
   ]
  },
  {
   "cell_type": "code",
   "execution_count": 274,
   "metadata": {
    "vscode": {
     "languageId": "r"
    }
   },
   "outputs": [],
   "source": [
    "missing_types <- insert_annotations %>%\n",
    "    filter(insert_num %in% missing_all_yeast) %>%\n",
    "    mutate(type = case_when((aa1 %in% c('A', 'I', 'L', 'M', 'F', 'W', 'Y', 'V')) & (aa2 %in% c('A', 'I', 'L', 'M', 'F', 'W', 'Y', 'V')) ~ 'Fully\\nhydrophobic',\n",
    "                            (aa1 %in% c('A', 'I', 'L', 'M', 'F', 'W', 'Y', 'V')) & !(aa2 %in% c('A', 'I', 'L', 'M', 'F', 'W', 'Y', 'V')) ~ 'Half\\nhydrophobic',\n",
    "                            !(aa1 %in% c('A', 'I', 'L', 'M', 'F', 'W', 'Y', 'V')) & (aa2 %in% c('A', 'I', 'L', 'M', 'F', 'W', 'Y', 'V')) ~ 'Half\\nhydrophobic',\n",
    "                            TRUE ~ 'No hydrophobic\\nresidues')) %>%\n",
    "    group_by(type) %>%\n",
    "    summarize(n_dicodons_missing = n())"
   ]
  },
  {
   "cell_type": "code",
   "execution_count": 275,
   "metadata": {
    "vscode": {
     "languageId": "r"
    }
   },
   "outputs": [],
   "source": [
    "totals <- insert_annotations %>%\n",
    "    mutate(type = case_when((aa1 %in% c('A', 'I', 'L', 'M', 'F', 'W', 'Y', 'V')) & (aa2 %in% c('A', 'I', 'L', 'M', 'F', 'W', 'Y', 'V')) ~ 'Fully\\nhydrophobic',\n",
    "                            (aa1 %in% c('A', 'I', 'L', 'M', 'F', 'W', 'Y', 'V')) & !(aa2 %in% c('A', 'I', 'L', 'M', 'F', 'W', 'Y', 'V')) ~ 'Half\\nhydrophobic',\n",
    "                            !(aa1 %in% c('A', 'I', 'L', 'M', 'F', 'W', 'Y', 'V')) & (aa2 %in% c('A', 'I', 'L', 'M', 'F', 'W', 'Y', 'V')) ~ 'Half\\nhydrophobic',\n",
    "                            TRUE ~ 'No hydrophobic\\nresidues')) %>%\n",
    "    group_by(type) %>%\n",
    "    summarize(n_dicodons_total = n())"
   ]
  },
  {
   "cell_type": "code",
   "execution_count": 276,
   "metadata": {
    "vscode": {
     "languageId": "r"
    }
   },
   "outputs": [
    {
     "data": {
      "image/png": "[encoded data removed]",
      "text/plain": [
       "plot without title"
      ]
     },
     "metadata": {
      "image/png": {
       "height": 240,
       "width": 240
      }
     },
     "output_type": "display_data"
    }
   ],
   "source": [
    "missing_types %>%\n",
    "    inner_join(totals, by='type') %>%\n",
    "    mutate(percent_dicodons = (n_dicodons_missing / n_dicodons_total)) %>%\n",
    "    ggplot() +\n",
    "    aes(x=type, y=percent_dicodons) %>%\n",
    "    geom_bar(stat='identity') +\n",
    "    scale_y_continuous(limits=c(0, 0.20)) +\n",
    "    theme + \n",
    "    theme(\n",
    "        axis.line = element_blank(),\n",
    "        axis.text.x = element_text(angle = 45, hjust=1, vjust=1),\n",
    "    ) +\n",
    "    labs(x='', y='Missing dipeptide fraction')\n",
    "\n",
    "ggsave(\"../figures/percent_inserts_missing_hydrophobic_all_strains.pdf\", width=1.8, height=2)"
   ]
  },
  {
   "cell_type": "code",
   "execution_count": 277,
   "metadata": {
    "vscode": {
     "languageId": "r"
    }
   },
   "outputs": [
    {
     "name": "stderr",
     "output_type": "stream",
     "text": [
      "\u001b[1m\u001b[22m`summarise()` has grouped output by 'diaa'. You can override using the\n",
      "`.groups` argument.\n"
     ]
    },
    {
     "data": {
      "text/html": [
       "<table class=\"dataframe\">\n",
       "<caption>A tibble: 3 × 2</caption>\n",
       "<thead>\n",
       "\t<tr><th scope=col>type</th><th scope=col>n_diaa</th></tr>\n",
       "\t<tr><th scope=col>&lt;chr&gt;</th><th scope=col>&lt;int&gt;</th></tr>\n",
       "</thead>\n",
       "<tbody>\n",
       "\t<tr><td>Fully\n",
       "hydrophobic      </td><td>26</td></tr>\n",
       "\t<tr><td>Half\n",
       "hydrophobic       </td><td>32</td></tr>\n",
       "\t<tr><td>No hydrophobic\n",
       "residues</td><td>29</td></tr>\n",
       "</tbody>\n",
       "</table>\n"
      ],
      "text/latex": [
       "A tibble: 3 × 2\n",
       "\\begin{tabular}{ll}\n",
       " type & n\\_diaa\\\\\n",
       " <chr> & <int>\\\\\n",
       "\\hline\n",
       "\t Fully\n",
       "hydrophobic       & 26\\\\\n",
       "\t Half\n",
       "hydrophobic        & 32\\\\\n",
       "\t No hydrophobic\n",
       "residues & 29\\\\\n",
       "\\end{tabular}\n"
      ],
      "text/markdown": [
       "\n",
       "A tibble: 3 × 2\n",
       "\n",
       "| type &lt;chr&gt; | n_diaa &lt;int&gt; |\n",
       "|---|---|\n",
       "| Fully\n",
       "hydrophobic       | 26 |\n",
       "| Half\n",
       "hydrophobic        | 32 |\n",
       "| No hydrophobic\n",
       "residues | 29 |\n",
       "\n"
      ],
      "text/plain": [
       "  type                     n_diaa\n",
       "1 Fully\\nhydrophobic       26    \n",
       "2 Half\\nhydrophobic        32    \n",
       "3 No hydrophobic\\nresidues 29    "
      ]
     },
     "metadata": {},
     "output_type": "display_data"
    }
   ],
   "source": [
    "insert_annotations %>%\n",
    "    filter(insert_num %in% missing_all_yeast) %>%\n",
    "    mutate(type = case_when((aa1 %in% c('A', 'I', 'L', 'M', 'F', 'W', 'Y', 'V')) & (aa2 %in% c('A', 'I', 'L', 'M', 'F', 'W', 'Y', 'V')) ~ 'Fully\\nhydrophobic',\n",
    "                            (aa1 %in% c('A', 'I', 'L', 'M', 'F', 'W', 'Y', 'V')) & !(aa2 %in% c('A', 'I', 'L', 'M', 'F', 'W', 'Y', 'V')) ~ 'Half\\nhydrophobic',\n",
    "                            !(aa1 %in% c('A', 'I', 'L', 'M', 'F', 'W', 'Y', 'V')) & (aa2 %in% c('A', 'I', 'L', 'M', 'F', 'W', 'Y', 'V')) ~ 'Half\\nhydrophobic',\n",
    "                            TRUE ~ 'No hydrophobic\\nresidues')) %>%\n",
    "    group_by(diaa, type) %>%\n",
    "    summarize(n_dicodons = n()) %>%\n",
    "    group_by(type) %>%\n",
    "    summarize(n_diaa = n())"
   ]
  }
 ],
 "metadata": {
  "kernelspec": {
   "display_name": "R",
   "language": "R",
   "name": "ir"
  },
  "language_info": {
   "codemirror_mode": "r",
   "file_extension": ".r",
   "mimetype": "text/x-r-source",
   "name": "R",
   "pygments_lexer": "r",
   "version": "4.2.2"
  },
  "orig_nbformat": 4
 },
 "nbformat": 4,
 "nbformat_minor": 2
}
