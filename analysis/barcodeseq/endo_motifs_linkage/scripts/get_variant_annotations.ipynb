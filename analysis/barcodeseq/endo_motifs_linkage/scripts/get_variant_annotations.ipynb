{
 "cells": [
  {
   "attachments": {},
   "cell_type": "markdown",
   "metadata": {},
   "source": [
    "## Get all variants of each DMS motif"
   ]
  },
  {
   "attachments": {},
   "cell_type": "markdown",
   "metadata": {},
   "source": [
    "### Load libraries"
   ]
  },
  {
   "cell_type": "code",
   "execution_count": 1,
   "metadata": {
    "vscode": {
     "languageId": "r"
    }
   },
   "outputs": [],
   "source": [
    "suppressPackageStartupMessages(library(R.utils))\n",
    "suppressPackageStartupMessages(library(Biostrings))\n",
    "suppressPackageStartupMessages(library(plyranges))\n",
    "suppressPackageStartupMessages(library(tidyverse))\n",
    "suppressPackageStartupMessages(library(rasilabRtemplates))"
   ]
  },
  {
   "attachments": {},
   "cell_type": "markdown",
   "metadata": {},
   "source": [
    "### Get command line arguments"
   ]
  },
  {
   "cell_type": "code",
   "execution_count": 2,
   "metadata": {
    "vscode": {
     "languageId": "r"
    }
   },
   "outputs": [],
   "source": [
    "args <- R.utils::commandArgs(trailingOnly = T, asValues = T)\n",
    "dms_variants_file <- args[['dms_variants_file']]\n",
    "non_dms_variants_file <- args[['non_dms_variants_file']]\n",
    "output_file <- args[['output_file']]"
   ]
  },
  {
   "attachments": {},
   "cell_type": "markdown",
   "metadata": {},
   "source": [
    "### Load non-DMS oligo sequences "
   ]
  },
  {
   "cell_type": "code",
   "execution_count": 3,
   "metadata": {
    "vscode": {
     "languageId": "r"
    }
   },
   "outputs": [
    {
     "data": {
      "text/html": [
       "<table class=\"dataframe\">\n",
       "<caption>A tibble: 190 × 7</caption>\n",
       "<thead>\n",
       "\t<tr><th scope=col>motif</th><th scope=col>insert_seq</th><th scope=col>type</th><th scope=col>id</th><th scope=col>gene</th><th scope=col>class</th><th scope=col>loc</th></tr>\n",
       "\t<tr><th scope=col>&lt;chr&gt;</th><th scope=col>&lt;chr&gt;</th><th scope=col>&lt;chr&gt;</th><th scope=col>&lt;chr&gt;</th><th scope=col>&lt;chr&gt;</th><th scope=col>&lt;chr&gt;</th><th scope=col>&lt;dbl&gt;</th></tr>\n",
       "</thead>\n",
       "<tbody>\n",
       "\t<tr><td>KRAAARQAMAAAKAKAKKAAA</td><td>AAGCGTGCAGCAGCAAGGCAGGCAATGGCAGCAGCAAAAGCAAAAGCCAAAAAAGCAGCAGCA</td><td>posbulky</td><td>YAR047C</td><td>NA    </td><td>endo_ala_cntrl</td><td>NA</td></tr>\n",
       "\t<tr><td>TREARAPSQAAAARRARAARR</td><td>ACTAGAGAAGCTCGTGCACCATCCCAAGCAGCAGCAGCAAGAAGAGCACGTGCAGCAAGAAGA</td><td>posbulky</td><td>YBL027W</td><td>RPL19B</td><td>endo_ala_cntrl</td><td>NA</td></tr>\n",
       "\t<tr><td>AATKAKKKKAANRAKAQKANA</td><td>GCAGCAACAAAAGCAAAAAAGAAGAAAGCAGCAAATAGGGCTAAAGCACAAAAGGCAAATGCA</td><td>FK      </td><td>YBR129C</td><td>OPY1  </td><td>endo_ala_cntrl</td><td>NA</td></tr>\n",
       "\t<tr><td>KAAGKKDAKMAARARKAAREA</td><td>AAAGCAGCAGGTAAAAAGGATGCAAAAATGGCAGCAAGAGCAAGAAAGGCAGCAAGGGAAGCA</td><td>FK      </td><td>YCL054W</td><td>SPB1  </td><td>endo_ala_cntrl</td><td>NA</td></tr>\n",
       "\t<tr><td>KAPRSSAAAENKAAKAKKAKR</td><td>AAAGCACCTAGATCATCGGCAGCAGCAGAGAATAAAGCAGCAAAGGCAAAAAAGGCAAAGAGG</td><td>posbulky</td><td>YDL030W</td><td>PRP9  </td><td>endo_ala_cntrl</td><td>NA</td></tr>\n",
       "\t<tr><td>⋮</td><td>⋮</td><td>⋮</td><td>⋮</td><td>⋮</td><td>⋮</td><td>⋮</td></tr>\n",
       "\t<tr><td>KRRKRRRKRSPRKRRKRRNKD   </td><td>AAGAGAAGAAAGAGAAGAAGGAAAAGAAGTCCAAGAAAGAGAAGAAAGAGAAGAAATAAGGAT         </td><td>posbulky</td><td>YOR309C</td><td>NA    </td><td>endo_kr_cntrl  </td><td>76</td></tr>\n",
       "\t<tr><td>STAGADAKAKTAEARGKKARAQAA</td><td>TCCACCGCAGGTGCAGACGCAAAAGCAAAAACTGCAGAGGCAAGAGGAAAGAAAGCAAGAGCACAGGCAGCA</td><td>RAB12   </td><td>RAB12  </td><td>RAB12 </td><td>human_ala_cntrl</td><td>NA</td></tr>\n",
       "\t<tr><td>AAAAAADRAARAKATARAKRATTH</td><td>GCAGCAGCCGCAGCTGCAGACCGAGCAGCACGGGCAAAGGCAACCGCAAGAGCAAAGAGGGCAACCACTCAC</td><td>ADORA3  </td><td>ADORA3 </td><td>ADORA3</td><td>human_ala_cntrl</td><td>NA</td></tr>\n",
       "\t<tr><td>STVGVDFKIKTVELRGKKIRLQIW</td><td>TCCACCGTGGGTGTTGACTTCAAAATCAAAACTGTAGAGCTAAGAGGAAAGAAAATTAGATTACAGATCTGG</td><td>RAB12   </td><td>RAB12  </td><td>RAB12 </td><td>human_stall    </td><td>NA</td></tr>\n",
       "\t<tr><td>LLAIAVDRYLRVKLTVRYKRVTTH</td><td>TTGCTGGCCATCGCTGTGGACCGATACTTGCGGGTCAAGCTTACCGTCAGATACAAGAGGGTCACCACTCAC</td><td>ADORA3  </td><td>ADORA3 </td><td>ADORA3</td><td>human_stall    </td><td>NA</td></tr>\n",
       "</tbody>\n",
       "</table>\n"
      ],
      "text/latex": [
       "A tibble: 190 × 7\n",
       "\\begin{tabular}{lllllll}\n",
       " motif & insert\\_seq & type & id & gene & class & loc\\\\\n",
       " <chr> & <chr> & <chr> & <chr> & <chr> & <chr> & <dbl>\\\\\n",
       "\\hline\n",
       "\t KRAAARQAMAAAKAKAKKAAA & AAGCGTGCAGCAGCAAGGCAGGCAATGGCAGCAGCAAAAGCAAAAGCCAAAAAAGCAGCAGCA & posbulky & YAR047C & NA     & endo\\_ala\\_cntrl & NA\\\\\n",
       "\t TREARAPSQAAAARRARAARR & ACTAGAGAAGCTCGTGCACCATCCCAAGCAGCAGCAGCAAGAAGAGCACGTGCAGCAAGAAGA & posbulky & YBL027W & RPL19B & endo\\_ala\\_cntrl & NA\\\\\n",
       "\t AATKAKKKKAANRAKAQKANA & GCAGCAACAAAAGCAAAAAAGAAGAAAGCAGCAAATAGGGCTAAAGCACAAAAGGCAAATGCA & FK       & YBR129C & OPY1   & endo\\_ala\\_cntrl & NA\\\\\n",
       "\t KAAGKKDAKMAARARKAAREA & AAAGCAGCAGGTAAAAAGGATGCAAAAATGGCAGCAAGAGCAAGAAAGGCAGCAAGGGAAGCA & FK       & YCL054W & SPB1   & endo\\_ala\\_cntrl & NA\\\\\n",
       "\t KAPRSSAAAENKAAKAKKAKR & AAAGCACCTAGATCATCGGCAGCAGCAGAGAATAAAGCAGCAAAGGCAAAAAAGGCAAAGAGG & posbulky & YDL030W & PRP9   & endo\\_ala\\_cntrl & NA\\\\\n",
       "\t ⋮ & ⋮ & ⋮ & ⋮ & ⋮ & ⋮ & ⋮\\\\\n",
       "\t KRRKRRRKRSPRKRRKRRNKD    & AAGAGAAGAAAGAGAAGAAGGAAAAGAAGTCCAAGAAAGAGAAGAAAGAGAAGAAATAAGGAT          & posbulky & YOR309C & NA     & endo\\_kr\\_cntrl   & 76\\\\\n",
       "\t STAGADAKAKTAEARGKKARAQAA & TCCACCGCAGGTGCAGACGCAAAAGCAAAAACTGCAGAGGCAAGAGGAAAGAAAGCAAGAGCACAGGCAGCA & RAB12    & RAB12   & RAB12  & human\\_ala\\_cntrl & NA\\\\\n",
       "\t AAAAAADRAARAKATARAKRATTH & GCAGCAGCCGCAGCTGCAGACCGAGCAGCACGGGCAAAGGCAACCGCAAGAGCAAAGAGGGCAACCACTCAC & ADORA3   & ADORA3  & ADORA3 & human\\_ala\\_cntrl & NA\\\\\n",
       "\t STVGVDFKIKTVELRGKKIRLQIW & TCCACCGTGGGTGTTGACTTCAAAATCAAAACTGTAGAGCTAAGAGGAAAGAAAATTAGATTACAGATCTGG & RAB12    & RAB12   & RAB12  & human\\_stall     & NA\\\\\n",
       "\t LLAIAVDRYLRVKLTVRYKRVTTH & TTGCTGGCCATCGCTGTGGACCGATACTTGCGGGTCAAGCTTACCGTCAGATACAAGAGGGTCACCACTCAC & ADORA3   & ADORA3  & ADORA3 & human\\_stall     & NA\\\\\n",
       "\\end{tabular}\n"
      ],
      "text/markdown": [
       "\n",
       "A tibble: 190 × 7\n",
       "\n",
       "| motif &lt;chr&gt; | insert_seq &lt;chr&gt; | type &lt;chr&gt; | id &lt;chr&gt; | gene &lt;chr&gt; | class &lt;chr&gt; | loc &lt;dbl&gt; |\n",
       "|---|---|---|---|---|---|---|\n",
       "| KRAAARQAMAAAKAKAKKAAA | AAGCGTGCAGCAGCAAGGCAGGCAATGGCAGCAGCAAAAGCAAAAGCCAAAAAAGCAGCAGCA | posbulky | YAR047C | NA     | endo_ala_cntrl | NA |\n",
       "| TREARAPSQAAAARRARAARR | ACTAGAGAAGCTCGTGCACCATCCCAAGCAGCAGCAGCAAGAAGAGCACGTGCAGCAAGAAGA | posbulky | YBL027W | RPL19B | endo_ala_cntrl | NA |\n",
       "| AATKAKKKKAANRAKAQKANA | GCAGCAACAAAAGCAAAAAAGAAGAAAGCAGCAAATAGGGCTAAAGCACAAAAGGCAAATGCA | FK       | YBR129C | OPY1   | endo_ala_cntrl | NA |\n",
       "| KAAGKKDAKMAARARKAAREA | AAAGCAGCAGGTAAAAAGGATGCAAAAATGGCAGCAAGAGCAAGAAAGGCAGCAAGGGAAGCA | FK       | YCL054W | SPB1   | endo_ala_cntrl | NA |\n",
       "| KAPRSSAAAENKAAKAKKAKR | AAAGCACCTAGATCATCGGCAGCAGCAGAGAATAAAGCAGCAAAGGCAAAAAAGGCAAAGAGG | posbulky | YDL030W | PRP9   | endo_ala_cntrl | NA |\n",
       "| ⋮ | ⋮ | ⋮ | ⋮ | ⋮ | ⋮ | ⋮ |\n",
       "| KRRKRRRKRSPRKRRKRRNKD    | AAGAGAAGAAAGAGAAGAAGGAAAAGAAGTCCAAGAAAGAGAAGAAAGAGAAGAAATAAGGAT          | posbulky | YOR309C | NA     | endo_kr_cntrl   | 76 |\n",
       "| STAGADAKAKTAEARGKKARAQAA | TCCACCGCAGGTGCAGACGCAAAAGCAAAAACTGCAGAGGCAAGAGGAAAGAAAGCAAGAGCACAGGCAGCA | RAB12    | RAB12   | RAB12  | human_ala_cntrl | NA |\n",
       "| AAAAAADRAARAKATARAKRATTH | GCAGCAGCCGCAGCTGCAGACCGAGCAGCACGGGCAAAGGCAACCGCAAGAGCAAAGAGGGCAACCACTCAC | ADORA3   | ADORA3  | ADORA3 | human_ala_cntrl | NA |\n",
       "| STVGVDFKIKTVELRGKKIRLQIW | TCCACCGTGGGTGTTGACTTCAAAATCAAAACTGTAGAGCTAAGAGGAAAGAAAATTAGATTACAGATCTGG | RAB12    | RAB12   | RAB12  | human_stall     | NA |\n",
       "| LLAIAVDRYLRVKLTVRYKRVTTH | TTGCTGGCCATCGCTGTGGACCGATACTTGCGGGTCAAGCTTACCGTCAGATACAAGAGGGTCACCACTCAC | ADORA3   | ADORA3  | ADORA3 | human_stall     | NA |\n",
       "\n"
      ],
      "text/plain": [
       "    motif                   \n",
       "1   KRAAARQAMAAAKAKAKKAAA   \n",
       "2   TREARAPSQAAAARRARAARR   \n",
       "3   AATKAKKKKAANRAKAQKANA   \n",
       "4   KAAGKKDAKMAARARKAAREA   \n",
       "5   KAPRSSAAAENKAAKAKKAKR   \n",
       "⋮   ⋮                       \n",
       "186 KRRKRRRKRSPRKRRKRRNKD   \n",
       "187 STAGADAKAKTAEARGKKARAQAA\n",
       "188 AAAAAADRAARAKATARAKRATTH\n",
       "189 STVGVDFKIKTVELRGKKIRLQIW\n",
       "190 LLAIAVDRYLRVKLTVRYKRVTTH\n",
       "    insert_seq                                                              \n",
       "1   AAGCGTGCAGCAGCAAGGCAGGCAATGGCAGCAGCAAAAGCAAAAGCCAAAAAAGCAGCAGCA         \n",
       "2   ACTAGAGAAGCTCGTGCACCATCCCAAGCAGCAGCAGCAAGAAGAGCACGTGCAGCAAGAAGA         \n",
       "3   GCAGCAACAAAAGCAAAAAAGAAGAAAGCAGCAAATAGGGCTAAAGCACAAAAGGCAAATGCA         \n",
       "4   AAAGCAGCAGGTAAAAAGGATGCAAAAATGGCAGCAAGAGCAAGAAAGGCAGCAAGGGAAGCA         \n",
       "5   AAAGCACCTAGATCATCGGCAGCAGCAGAGAATAAAGCAGCAAAGGCAAAAAAGGCAAAGAGG         \n",
       "⋮   ⋮                                                                       \n",
       "186 AAGAGAAGAAAGAGAAGAAGGAAAAGAAGTCCAAGAAAGAGAAGAAAGAGAAGAAATAAGGAT         \n",
       "187 TCCACCGCAGGTGCAGACGCAAAAGCAAAAACTGCAGAGGCAAGAGGAAAGAAAGCAAGAGCACAGGCAGCA\n",
       "188 GCAGCAGCCGCAGCTGCAGACCGAGCAGCACGGGCAAAGGCAACCGCAAGAGCAAAGAGGGCAACCACTCAC\n",
       "189 TCCACCGTGGGTGTTGACTTCAAAATCAAAACTGTAGAGCTAAGAGGAAAGAAAATTAGATTACAGATCTGG\n",
       "190 TTGCTGGCCATCGCTGTGGACCGATACTTGCGGGTCAAGCTTACCGTCAGATACAAGAGGGTCACCACTCAC\n",
       "    type     id      gene   class           loc\n",
       "1   posbulky YAR047C NA     endo_ala_cntrl  NA \n",
       "2   posbulky YBL027W RPL19B endo_ala_cntrl  NA \n",
       "3   FK       YBR129C OPY1   endo_ala_cntrl  NA \n",
       "4   FK       YCL054W SPB1   endo_ala_cntrl  NA \n",
       "5   posbulky YDL030W PRP9   endo_ala_cntrl  NA \n",
       "⋮   ⋮        ⋮       ⋮      ⋮               ⋮  \n",
       "186 posbulky YOR309C NA     endo_kr_cntrl   76 \n",
       "187 RAB12    RAB12   RAB12  human_ala_cntrl NA \n",
       "188 ADORA3   ADORA3  ADORA3 human_ala_cntrl NA \n",
       "189 RAB12    RAB12   RAB12  human_stall     NA \n",
       "190 ADORA3   ADORA3  ADORA3 human_stall     NA "
      ]
     },
     "metadata": {},
     "output_type": "display_data"
    }
   ],
   "source": [
    "non_dms_variants <- read_tsv(non_dms_variants_file, show_col_types = F)  %>%\n",
    "  rename(insert_seq = nt63) %>%\n",
    "  select(-orf_classification, -positive, -bulky, -p, -g, -d, -strength)\n",
    "\n",
    "non_dms_variants"
   ]
  },
  {
   "attachments": {},
   "cell_type": "markdown",
   "metadata": {},
   "source": [
    "### Load DMS oligo sequences "
   ]
  },
  {
   "cell_type": "code",
   "execution_count": 4,
   "metadata": {
    "vscode": {
     "languageId": "r"
    }
   },
   "outputs": [
    {
     "data": {
      "text/html": [
       "<table class=\"dataframe\">\n",
       "<caption>A tibble: 37 × 4</caption>\n",
       "<thead>\n",
       "\t<tr><th scope=col>id</th><th scope=col>wt_motif</th><th scope=col>mutstart</th><th scope=col>insert_seq</th></tr>\n",
       "\t<tr><th scope=col>&lt;chr&gt;</th><th scope=col>&lt;chr&gt;</th><th scope=col>&lt;dbl&gt;</th><th scope=col>&lt;chr&gt;</th></tr>\n",
       "</thead>\n",
       "<tbody>\n",
       "\t<tr><td>sdd1</td><td>DFFYEDYLIFDCRAKRRKKLK</td><td> 1</td><td>NNKTTCTTTTATGAAGATTATTTGATTTTCGATTGCAGAGCGAAACGACGAAAAAAATTGAAG</td></tr>\n",
       "\t<tr><td>sdd1</td><td>DFFYEDYLIFDCRAKRRKKLK</td><td> 4</td><td>GATNNKTTTTATGAAGATTATTTGATTTTCGATTGCAGAGCGAAACGACGAAAAAAATTGAAG</td></tr>\n",
       "\t<tr><td>sdd1</td><td>DFFYEDYLIFDCRAKRRKKLK</td><td> 7</td><td>GATTTCNNKTATGAAGATTATTTGATTTTCGATTGCAGAGCGAAACGACGAAAAAAATTGAAG</td></tr>\n",
       "\t<tr><td>sdd1</td><td>DFFYEDYLIFDCRAKRRKKLK</td><td>10</td><td>GATTTCTTTNNKGAAGATTATTTGATTTTCGATTGCAGAGCGAAACGACGAAAAAAATTGAAG</td></tr>\n",
       "\t<tr><td>sdd1</td><td>DFFYEDYLIFDCRAKRRKKLK</td><td>13</td><td>GATTTCTTTTATNNKGATTATTTGATTTTCGATTGCAGAGCGAAACGACGAAAAAAATTGAAG</td></tr>\n",
       "\t<tr><td>⋮</td><td>⋮</td><td>⋮</td><td>⋮</td></tr>\n",
       "\t<tr><td>fk8</td><td>FKFKFKFKFKFKFKFK</td><td>34</td><td>TTCAAGTTTAAGTTCAAGTTCAAATTCAAGTTTNNKTTCAAGTTCAAA</td></tr>\n",
       "\t<tr><td>fk8</td><td>FKFKFKFKFKFKFKFK</td><td>37</td><td>TTCAAGTTTAAGTTCAAGTTCAAATTCAAGTTTAAGNNKAAGTTCAAA</td></tr>\n",
       "\t<tr><td>fk8</td><td>FKFKFKFKFKFKFKFK</td><td>40</td><td>TTCAAGTTTAAGTTCAAGTTCAAATTCAAGTTTAAGTTCNNKTTCAAA</td></tr>\n",
       "\t<tr><td>fk8</td><td>FKFKFKFKFKFKFKFK</td><td>43</td><td>TTCAAGTTTAAGTTCAAGTTCAAATTCAAGTTTAAGTTCAAGNNKAAA</td></tr>\n",
       "\t<tr><td>fk8</td><td>FKFKFKFKFKFKFKFK</td><td>46</td><td>TTCAAGTTTAAGTTCAAGTTCAAATTCAAGTTTAAGTTCAAGTTCNNK</td></tr>\n",
       "</tbody>\n",
       "</table>\n"
      ],
      "text/latex": [
       "A tibble: 37 × 4\n",
       "\\begin{tabular}{llll}\n",
       " id & wt\\_motif & mutstart & insert\\_seq\\\\\n",
       " <chr> & <chr> & <dbl> & <chr>\\\\\n",
       "\\hline\n",
       "\t sdd1 & DFFYEDYLIFDCRAKRRKKLK &  1 & NNKTTCTTTTATGAAGATTATTTGATTTTCGATTGCAGAGCGAAACGACGAAAAAAATTGAAG\\\\\n",
       "\t sdd1 & DFFYEDYLIFDCRAKRRKKLK &  4 & GATNNKTTTTATGAAGATTATTTGATTTTCGATTGCAGAGCGAAACGACGAAAAAAATTGAAG\\\\\n",
       "\t sdd1 & DFFYEDYLIFDCRAKRRKKLK &  7 & GATTTCNNKTATGAAGATTATTTGATTTTCGATTGCAGAGCGAAACGACGAAAAAAATTGAAG\\\\\n",
       "\t sdd1 & DFFYEDYLIFDCRAKRRKKLK & 10 & GATTTCTTTNNKGAAGATTATTTGATTTTCGATTGCAGAGCGAAACGACGAAAAAAATTGAAG\\\\\n",
       "\t sdd1 & DFFYEDYLIFDCRAKRRKKLK & 13 & GATTTCTTTTATNNKGATTATTTGATTTTCGATTGCAGAGCGAAACGACGAAAAAAATTGAAG\\\\\n",
       "\t ⋮ & ⋮ & ⋮ & ⋮\\\\\n",
       "\t fk8 & FKFKFKFKFKFKFKFK & 34 & TTCAAGTTTAAGTTCAAGTTCAAATTCAAGTTTNNKTTCAAGTTCAAA\\\\\n",
       "\t fk8 & FKFKFKFKFKFKFKFK & 37 & TTCAAGTTTAAGTTCAAGTTCAAATTCAAGTTTAAGNNKAAGTTCAAA\\\\\n",
       "\t fk8 & FKFKFKFKFKFKFKFK & 40 & TTCAAGTTTAAGTTCAAGTTCAAATTCAAGTTTAAGTTCNNKTTCAAA\\\\\n",
       "\t fk8 & FKFKFKFKFKFKFKFK & 43 & TTCAAGTTTAAGTTCAAGTTCAAATTCAAGTTTAAGTTCAAGNNKAAA\\\\\n",
       "\t fk8 & FKFKFKFKFKFKFKFK & 46 & TTCAAGTTTAAGTTCAAGTTCAAATTCAAGTTTAAGTTCAAGTTCNNK\\\\\n",
       "\\end{tabular}\n"
      ],
      "text/markdown": [
       "\n",
       "A tibble: 37 × 4\n",
       "\n",
       "| id &lt;chr&gt; | wt_motif &lt;chr&gt; | mutstart &lt;dbl&gt; | insert_seq &lt;chr&gt; |\n",
       "|---|---|---|---|\n",
       "| sdd1 | DFFYEDYLIFDCRAKRRKKLK |  1 | NNKTTCTTTTATGAAGATTATTTGATTTTCGATTGCAGAGCGAAACGACGAAAAAAATTGAAG |\n",
       "| sdd1 | DFFYEDYLIFDCRAKRRKKLK |  4 | GATNNKTTTTATGAAGATTATTTGATTTTCGATTGCAGAGCGAAACGACGAAAAAAATTGAAG |\n",
       "| sdd1 | DFFYEDYLIFDCRAKRRKKLK |  7 | GATTTCNNKTATGAAGATTATTTGATTTTCGATTGCAGAGCGAAACGACGAAAAAAATTGAAG |\n",
       "| sdd1 | DFFYEDYLIFDCRAKRRKKLK | 10 | GATTTCTTTNNKGAAGATTATTTGATTTTCGATTGCAGAGCGAAACGACGAAAAAAATTGAAG |\n",
       "| sdd1 | DFFYEDYLIFDCRAKRRKKLK | 13 | GATTTCTTTTATNNKGATTATTTGATTTTCGATTGCAGAGCGAAACGACGAAAAAAATTGAAG |\n",
       "| ⋮ | ⋮ | ⋮ | ⋮ |\n",
       "| fk8 | FKFKFKFKFKFKFKFK | 34 | TTCAAGTTTAAGTTCAAGTTCAAATTCAAGTTTNNKTTCAAGTTCAAA |\n",
       "| fk8 | FKFKFKFKFKFKFKFK | 37 | TTCAAGTTTAAGTTCAAGTTCAAATTCAAGTTTAAGNNKAAGTTCAAA |\n",
       "| fk8 | FKFKFKFKFKFKFKFK | 40 | TTCAAGTTTAAGTTCAAGTTCAAATTCAAGTTTAAGTTCNNKTTCAAA |\n",
       "| fk8 | FKFKFKFKFKFKFKFK | 43 | TTCAAGTTTAAGTTCAAGTTCAAATTCAAGTTTAAGTTCAAGNNKAAA |\n",
       "| fk8 | FKFKFKFKFKFKFKFK | 46 | TTCAAGTTTAAGTTCAAGTTCAAATTCAAGTTTAAGTTCAAGTTCNNK |\n",
       "\n"
      ],
      "text/plain": [
       "   id   wt_motif              mutstart\n",
       "1  sdd1 DFFYEDYLIFDCRAKRRKKLK  1      \n",
       "2  sdd1 DFFYEDYLIFDCRAKRRKKLK  4      \n",
       "3  sdd1 DFFYEDYLIFDCRAKRRKKLK  7      \n",
       "4  sdd1 DFFYEDYLIFDCRAKRRKKLK 10      \n",
       "5  sdd1 DFFYEDYLIFDCRAKRRKKLK 13      \n",
       "⋮  ⋮    ⋮                     ⋮       \n",
       "33 fk8  FKFKFKFKFKFKFKFK      34      \n",
       "34 fk8  FKFKFKFKFKFKFKFK      37      \n",
       "35 fk8  FKFKFKFKFKFKFKFK      40      \n",
       "36 fk8  FKFKFKFKFKFKFKFK      43      \n",
       "37 fk8  FKFKFKFKFKFKFKFK      46      \n",
       "   insert_seq                                                     \n",
       "1  NNKTTCTTTTATGAAGATTATTTGATTTTCGATTGCAGAGCGAAACGACGAAAAAAATTGAAG\n",
       "2  GATNNKTTTTATGAAGATTATTTGATTTTCGATTGCAGAGCGAAACGACGAAAAAAATTGAAG\n",
       "3  GATTTCNNKTATGAAGATTATTTGATTTTCGATTGCAGAGCGAAACGACGAAAAAAATTGAAG\n",
       "4  GATTTCTTTNNKGAAGATTATTTGATTTTCGATTGCAGAGCGAAACGACGAAAAAAATTGAAG\n",
       "5  GATTTCTTTTATNNKGATTATTTGATTTTCGATTGCAGAGCGAAACGACGAAAAAAATTGAAG\n",
       "⋮  ⋮                                                              \n",
       "33 TTCAAGTTTAAGTTCAAGTTCAAATTCAAGTTTNNKTTCAAGTTCAAA               \n",
       "34 TTCAAGTTTAAGTTCAAGTTCAAATTCAAGTTTAAGNNKAAGTTCAAA               \n",
       "35 TTCAAGTTTAAGTTCAAGTTCAAATTCAAGTTTAAGTTCNNKTTCAAA               \n",
       "36 TTCAAGTTTAAGTTCAAGTTCAAATTCAAGTTTAAGTTCAAGNNKAAA               \n",
       "37 TTCAAGTTTAAGTTCAAGTTCAAATTCAAGTTTAAGTTCAAGTTCNNK               "
      ]
     },
     "metadata": {},
     "output_type": "display_data"
    }
   ],
   "source": [
    "dms_variants <- read_csv(dms_variants_file, show_col_types = F) %>% \n",
    "  # get rid of flanking sequences\n",
    "  mutate(insert_seq = substr(nt, 19, nchar(nt) - 24)) %>%\n",
    "  rename(id = name, wt_motif = aa) %>%\n",
    "  select(id, wt_motif, mutstart, insert_seq)\n",
    "\n",
    "dms_variants"
   ]
  },
  {
   "attachments": {},
   "cell_type": "markdown",
   "metadata": {},
   "source": [
    "### Get NNK codons"
   ]
  },
  {
   "cell_type": "code",
   "execution_count": 5,
   "metadata": {
    "vscode": {
     "languageId": "r"
    }
   },
   "outputs": [
    {
     "data": {
      "text/html": [
       "<table class=\"dataframe\">\n",
       "<caption>A tibble: 32 × 1</caption>\n",
       "<thead>\n",
       "\t<tr><th scope=col>codon</th></tr>\n",
       "\t<tr><th scope=col>&lt;chr&gt;</th></tr>\n",
       "</thead>\n",
       "<tbody>\n",
       "\t<tr><td>TTT</td></tr>\n",
       "\t<tr><td>TTG</td></tr>\n",
       "\t<tr><td>TCT</td></tr>\n",
       "\t<tr><td>TCG</td></tr>\n",
       "\t<tr><td>TAT</td></tr>\n",
       "\t<tr><td>⋮</td></tr>\n",
       "\t<tr><td>GCG</td></tr>\n",
       "\t<tr><td>GAT</td></tr>\n",
       "\t<tr><td>GAG</td></tr>\n",
       "\t<tr><td>GGT</td></tr>\n",
       "\t<tr><td>GGG</td></tr>\n",
       "</tbody>\n",
       "</table>\n"
      ],
      "text/latex": [
       "A tibble: 32 × 1\n",
       "\\begin{tabular}{l}\n",
       " codon\\\\\n",
       " <chr>\\\\\n",
       "\\hline\n",
       "\t TTT\\\\\n",
       "\t TTG\\\\\n",
       "\t TCT\\\\\n",
       "\t TCG\\\\\n",
       "\t TAT\\\\\n",
       "\t ⋮\\\\\n",
       "\t GCG\\\\\n",
       "\t GAT\\\\\n",
       "\t GAG\\\\\n",
       "\t GGT\\\\\n",
       "\t GGG\\\\\n",
       "\\end{tabular}\n"
      ],
      "text/markdown": [
       "\n",
       "A tibble: 32 × 1\n",
       "\n",
       "| codon &lt;chr&gt; |\n",
       "|---|\n",
       "| TTT |\n",
       "| TTG |\n",
       "| TCT |\n",
       "| TCG |\n",
       "| TAT |\n",
       "| ⋮ |\n",
       "| GCG |\n",
       "| GAT |\n",
       "| GAG |\n",
       "| GGT |\n",
       "| GGG |\n",
       "\n"
      ],
      "text/plain": [
       "   codon\n",
       "1  TTT  \n",
       "2  TTG  \n",
       "3  TCT  \n",
       "4  TCG  \n",
       "5  TAT  \n",
       "⋮  ⋮    \n",
       "28 GCG  \n",
       "29 GAT  \n",
       "30 GAG  \n",
       "31 GGT  \n",
       "32 GGG  "
      ]
     },
     "metadata": {},
     "output_type": "display_data"
    }
   ],
   "source": [
    "NNK_codons <- names(GENETIC_CODE) %>% \n",
    "  as_tibble_col(\"codon\") %>% \n",
    "  filter(str_detect(codon, \"G$|T$\"))\n",
    "\n",
    "NNK_codons  "
   ]
  },
  {
   "attachments": {},
   "cell_type": "markdown",
   "metadata": {},
   "source": [
    "### Parse NNK oligos into individual variants"
   ]
  },
  {
   "cell_type": "code",
   "execution_count": 6,
   "metadata": {
    "vscode": {
     "languageId": "r"
    }
   },
   "outputs": [
    {
     "data": {
      "text/html": [
       "<table class=\"dataframe\">\n",
       "<caption>A tibble: 1184 × 6</caption>\n",
       "<thead>\n",
       "\t<tr><th scope=col>id</th><th scope=col>wt_motif</th><th scope=col>mutstart</th><th scope=col>insert_seq</th><th scope=col>codon</th><th scope=col>motif</th></tr>\n",
       "\t<tr><th scope=col>&lt;chr&gt;</th><th scope=col>&lt;chr&gt;</th><th scope=col>&lt;dbl&gt;</th><th scope=col>&lt;chr&gt;</th><th scope=col>&lt;chr&gt;</th><th scope=col>&lt;chr&gt;</th></tr>\n",
       "</thead>\n",
       "<tbody>\n",
       "\t<tr><td>sdd1</td><td>DFFYEDYLIFDCRAKRRKKLK</td><td>1</td><td>TTTTTCTTTTATGAAGATTATTTGATTTTCGATTGCAGAGCGAAACGACGAAAAAAATTGAAG</td><td>TTT</td><td>FFFYEDYLIFDCRAKRRKKLK</td></tr>\n",
       "\t<tr><td>sdd1</td><td>DFFYEDYLIFDCRAKRRKKLK</td><td>1</td><td>TTGTTCTTTTATGAAGATTATTTGATTTTCGATTGCAGAGCGAAACGACGAAAAAAATTGAAG</td><td>TTG</td><td>MFFYEDYLIFDCRAKRRKKLK</td></tr>\n",
       "\t<tr><td>sdd1</td><td>DFFYEDYLIFDCRAKRRKKLK</td><td>1</td><td>TCTTTCTTTTATGAAGATTATTTGATTTTCGATTGCAGAGCGAAACGACGAAAAAAATTGAAG</td><td>TCT</td><td>SFFYEDYLIFDCRAKRRKKLK</td></tr>\n",
       "\t<tr><td>sdd1</td><td>DFFYEDYLIFDCRAKRRKKLK</td><td>1</td><td>TCGTTCTTTTATGAAGATTATTTGATTTTCGATTGCAGAGCGAAACGACGAAAAAAATTGAAG</td><td>TCG</td><td>SFFYEDYLIFDCRAKRRKKLK</td></tr>\n",
       "\t<tr><td>sdd1</td><td>DFFYEDYLIFDCRAKRRKKLK</td><td>1</td><td>TATTTCTTTTATGAAGATTATTTGATTTTCGATTGCAGAGCGAAACGACGAAAAAAATTGAAG</td><td>TAT</td><td>YFFYEDYLIFDCRAKRRKKLK</td></tr>\n",
       "\t<tr><td>⋮</td><td>⋮</td><td>⋮</td><td>⋮</td><td>⋮</td><td>⋮</td></tr>\n",
       "\t<tr><td>fk8</td><td>FKFKFKFKFKFKFKFK</td><td>46</td><td>TTCAAGTTTAAGTTCAAGTTCAAATTCAAGTTTAAGTTCAAGTTCGCG</td><td>GCG</td><td>FKFKFKFKFKFKFKFA</td></tr>\n",
       "\t<tr><td>fk8</td><td>FKFKFKFKFKFKFKFK</td><td>46</td><td>TTCAAGTTTAAGTTCAAGTTCAAATTCAAGTTTAAGTTCAAGTTCGAT</td><td>GAT</td><td>FKFKFKFKFKFKFKFD</td></tr>\n",
       "\t<tr><td>fk8</td><td>FKFKFKFKFKFKFKFK</td><td>46</td><td>TTCAAGTTTAAGTTCAAGTTCAAATTCAAGTTTAAGTTCAAGTTCGAG</td><td>GAG</td><td>FKFKFKFKFKFKFKFE</td></tr>\n",
       "\t<tr><td>fk8</td><td>FKFKFKFKFKFKFKFK</td><td>46</td><td>TTCAAGTTTAAGTTCAAGTTCAAATTCAAGTTTAAGTTCAAGTTCGGT</td><td>GGT</td><td>FKFKFKFKFKFKFKFG</td></tr>\n",
       "\t<tr><td>fk8</td><td>FKFKFKFKFKFKFKFK</td><td>46</td><td>TTCAAGTTTAAGTTCAAGTTCAAATTCAAGTTTAAGTTCAAGTTCGGG</td><td>GGG</td><td>FKFKFKFKFKFKFKFG</td></tr>\n",
       "</tbody>\n",
       "</table>\n"
      ],
      "text/latex": [
       "A tibble: 1184 × 6\n",
       "\\begin{tabular}{llllll}\n",
       " id & wt\\_motif & mutstart & insert\\_seq & codon & motif\\\\\n",
       " <chr> & <chr> & <dbl> & <chr> & <chr> & <chr>\\\\\n",
       "\\hline\n",
       "\t sdd1 & DFFYEDYLIFDCRAKRRKKLK & 1 & TTTTTCTTTTATGAAGATTATTTGATTTTCGATTGCAGAGCGAAACGACGAAAAAAATTGAAG & TTT & FFFYEDYLIFDCRAKRRKKLK\\\\\n",
       "\t sdd1 & DFFYEDYLIFDCRAKRRKKLK & 1 & TTGTTCTTTTATGAAGATTATTTGATTTTCGATTGCAGAGCGAAACGACGAAAAAAATTGAAG & TTG & MFFYEDYLIFDCRAKRRKKLK\\\\\n",
       "\t sdd1 & DFFYEDYLIFDCRAKRRKKLK & 1 & TCTTTCTTTTATGAAGATTATTTGATTTTCGATTGCAGAGCGAAACGACGAAAAAAATTGAAG & TCT & SFFYEDYLIFDCRAKRRKKLK\\\\\n",
       "\t sdd1 & DFFYEDYLIFDCRAKRRKKLK & 1 & TCGTTCTTTTATGAAGATTATTTGATTTTCGATTGCAGAGCGAAACGACGAAAAAAATTGAAG & TCG & SFFYEDYLIFDCRAKRRKKLK\\\\\n",
       "\t sdd1 & DFFYEDYLIFDCRAKRRKKLK & 1 & TATTTCTTTTATGAAGATTATTTGATTTTCGATTGCAGAGCGAAACGACGAAAAAAATTGAAG & TAT & YFFYEDYLIFDCRAKRRKKLK\\\\\n",
       "\t ⋮ & ⋮ & ⋮ & ⋮ & ⋮ & ⋮\\\\\n",
       "\t fk8 & FKFKFKFKFKFKFKFK & 46 & TTCAAGTTTAAGTTCAAGTTCAAATTCAAGTTTAAGTTCAAGTTCGCG & GCG & FKFKFKFKFKFKFKFA\\\\\n",
       "\t fk8 & FKFKFKFKFKFKFKFK & 46 & TTCAAGTTTAAGTTCAAGTTCAAATTCAAGTTTAAGTTCAAGTTCGAT & GAT & FKFKFKFKFKFKFKFD\\\\\n",
       "\t fk8 & FKFKFKFKFKFKFKFK & 46 & TTCAAGTTTAAGTTCAAGTTCAAATTCAAGTTTAAGTTCAAGTTCGAG & GAG & FKFKFKFKFKFKFKFE\\\\\n",
       "\t fk8 & FKFKFKFKFKFKFKFK & 46 & TTCAAGTTTAAGTTCAAGTTCAAATTCAAGTTTAAGTTCAAGTTCGGT & GGT & FKFKFKFKFKFKFKFG\\\\\n",
       "\t fk8 & FKFKFKFKFKFKFKFK & 46 & TTCAAGTTTAAGTTCAAGTTCAAATTCAAGTTTAAGTTCAAGTTCGGG & GGG & FKFKFKFKFKFKFKFG\\\\\n",
       "\\end{tabular}\n"
      ],
      "text/markdown": [
       "\n",
       "A tibble: 1184 × 6\n",
       "\n",
       "| id &lt;chr&gt; | wt_motif &lt;chr&gt; | mutstart &lt;dbl&gt; | insert_seq &lt;chr&gt; | codon &lt;chr&gt; | motif &lt;chr&gt; |\n",
       "|---|---|---|---|---|---|\n",
       "| sdd1 | DFFYEDYLIFDCRAKRRKKLK | 1 | TTTTTCTTTTATGAAGATTATTTGATTTTCGATTGCAGAGCGAAACGACGAAAAAAATTGAAG | TTT | FFFYEDYLIFDCRAKRRKKLK |\n",
       "| sdd1 | DFFYEDYLIFDCRAKRRKKLK | 1 | TTGTTCTTTTATGAAGATTATTTGATTTTCGATTGCAGAGCGAAACGACGAAAAAAATTGAAG | TTG | MFFYEDYLIFDCRAKRRKKLK |\n",
       "| sdd1 | DFFYEDYLIFDCRAKRRKKLK | 1 | TCTTTCTTTTATGAAGATTATTTGATTTTCGATTGCAGAGCGAAACGACGAAAAAAATTGAAG | TCT | SFFYEDYLIFDCRAKRRKKLK |\n",
       "| sdd1 | DFFYEDYLIFDCRAKRRKKLK | 1 | TCGTTCTTTTATGAAGATTATTTGATTTTCGATTGCAGAGCGAAACGACGAAAAAAATTGAAG | TCG | SFFYEDYLIFDCRAKRRKKLK |\n",
       "| sdd1 | DFFYEDYLIFDCRAKRRKKLK | 1 | TATTTCTTTTATGAAGATTATTTGATTTTCGATTGCAGAGCGAAACGACGAAAAAAATTGAAG | TAT | YFFYEDYLIFDCRAKRRKKLK |\n",
       "| ⋮ | ⋮ | ⋮ | ⋮ | ⋮ | ⋮ |\n",
       "| fk8 | FKFKFKFKFKFKFKFK | 46 | TTCAAGTTTAAGTTCAAGTTCAAATTCAAGTTTAAGTTCAAGTTCGCG | GCG | FKFKFKFKFKFKFKFA |\n",
       "| fk8 | FKFKFKFKFKFKFKFK | 46 | TTCAAGTTTAAGTTCAAGTTCAAATTCAAGTTTAAGTTCAAGTTCGAT | GAT | FKFKFKFKFKFKFKFD |\n",
       "| fk8 | FKFKFKFKFKFKFKFK | 46 | TTCAAGTTTAAGTTCAAGTTCAAATTCAAGTTTAAGTTCAAGTTCGAG | GAG | FKFKFKFKFKFKFKFE |\n",
       "| fk8 | FKFKFKFKFKFKFKFK | 46 | TTCAAGTTTAAGTTCAAGTTCAAATTCAAGTTTAAGTTCAAGTTCGGT | GGT | FKFKFKFKFKFKFKFG |\n",
       "| fk8 | FKFKFKFKFKFKFKFK | 46 | TTCAAGTTTAAGTTCAAGTTCAAATTCAAGTTTAAGTTCAAGTTCGGG | GGG | FKFKFKFKFKFKFKFG |\n",
       "\n"
      ],
      "text/plain": [
       "     id   wt_motif              mutstart\n",
       "1    sdd1 DFFYEDYLIFDCRAKRRKKLK 1       \n",
       "2    sdd1 DFFYEDYLIFDCRAKRRKKLK 1       \n",
       "3    sdd1 DFFYEDYLIFDCRAKRRKKLK 1       \n",
       "4    sdd1 DFFYEDYLIFDCRAKRRKKLK 1       \n",
       "5    sdd1 DFFYEDYLIFDCRAKRRKKLK 1       \n",
       "⋮    ⋮    ⋮                     ⋮       \n",
       "1180 fk8  FKFKFKFKFKFKFKFK      46      \n",
       "1181 fk8  FKFKFKFKFKFKFKFK      46      \n",
       "1182 fk8  FKFKFKFKFKFKFKFK      46      \n",
       "1183 fk8  FKFKFKFKFKFKFKFK      46      \n",
       "1184 fk8  FKFKFKFKFKFKFKFK      46      \n",
       "     insert_seq                                                      codon\n",
       "1    TTTTTCTTTTATGAAGATTATTTGATTTTCGATTGCAGAGCGAAACGACGAAAAAAATTGAAG TTT  \n",
       "2    TTGTTCTTTTATGAAGATTATTTGATTTTCGATTGCAGAGCGAAACGACGAAAAAAATTGAAG TTG  \n",
       "3    TCTTTCTTTTATGAAGATTATTTGATTTTCGATTGCAGAGCGAAACGACGAAAAAAATTGAAG TCT  \n",
       "4    TCGTTCTTTTATGAAGATTATTTGATTTTCGATTGCAGAGCGAAACGACGAAAAAAATTGAAG TCG  \n",
       "5    TATTTCTTTTATGAAGATTATTTGATTTTCGATTGCAGAGCGAAACGACGAAAAAAATTGAAG TAT  \n",
       "⋮    ⋮                                                               ⋮    \n",
       "1180 TTCAAGTTTAAGTTCAAGTTCAAATTCAAGTTTAAGTTCAAGTTCGCG                GCG  \n",
       "1181 TTCAAGTTTAAGTTCAAGTTCAAATTCAAGTTTAAGTTCAAGTTCGAT                GAT  \n",
       "1182 TTCAAGTTTAAGTTCAAGTTCAAATTCAAGTTTAAGTTCAAGTTCGAG                GAG  \n",
       "1183 TTCAAGTTTAAGTTCAAGTTCAAATTCAAGTTTAAGTTCAAGTTCGGT                GGT  \n",
       "1184 TTCAAGTTTAAGTTCAAGTTCAAATTCAAGTTTAAGTTCAAGTTCGGG                GGG  \n",
       "     motif                \n",
       "1    FFFYEDYLIFDCRAKRRKKLK\n",
       "2    MFFYEDYLIFDCRAKRRKKLK\n",
       "3    SFFYEDYLIFDCRAKRRKKLK\n",
       "4    SFFYEDYLIFDCRAKRRKKLK\n",
       "5    YFFYEDYLIFDCRAKRRKKLK\n",
       "⋮    ⋮                    \n",
       "1180 FKFKFKFKFKFKFKFA     \n",
       "1181 FKFKFKFKFKFKFKFD     \n",
       "1182 FKFKFKFKFKFKFKFE     \n",
       "1183 FKFKFKFKFKFKFKFG     \n",
       "1184 FKFKFKFKFKFKFKFG     "
      ]
     },
     "metadata": {},
     "output_type": "display_data"
    }
   ],
   "source": [
    "dms_variants <- dms_variants %>% \n",
    "  filter(str_detect(insert_seq, \"NNK\")) %>% \n",
    "  mutate(codon = map(NNK_codons, function(x) x)) %>% \n",
    "  unnest(codon) %>% \n",
    "  mutate(insert_seq = str_replace(insert_seq, \"NNK\", codon)) %>%\n",
    "  mutate(motif = as.character(translate(DNAStringSet(insert_seq))))\n",
    "\n",
    "dms_variants"
   ]
  },
  {
   "attachments": {},
   "cell_type": "markdown",
   "metadata": {},
   "source": [
    "### Write variant annotations to TSV file"
   ]
  },
  {
   "cell_type": "code",
   "execution_count": 7,
   "metadata": {
    "vscode": {
     "languageId": "r"
    }
   },
   "outputs": [
    {
     "data": {
      "text/html": [
       "<table class=\"dataframe\">\n",
       "<caption>A tibble: 1374 × 11</caption>\n",
       "<thead>\n",
       "\t<tr><th scope=col>insert_num</th><th scope=col>insert_seq</th><th scope=col>motif</th><th scope=col>type</th><th scope=col>id</th><th scope=col>gene</th><th scope=col>class</th><th scope=col>loc</th><th scope=col>wt_motif</th><th scope=col>mutstart</th><th scope=col>codon</th></tr>\n",
       "\t<tr><th scope=col>&lt;int&gt;</th><th scope=col>&lt;chr&gt;</th><th scope=col>&lt;chr&gt;</th><th scope=col>&lt;chr&gt;</th><th scope=col>&lt;chr&gt;</th><th scope=col>&lt;chr&gt;</th><th scope=col>&lt;chr&gt;</th><th scope=col>&lt;dbl&gt;</th><th scope=col>&lt;chr&gt;</th><th scope=col>&lt;dbl&gt;</th><th scope=col>&lt;chr&gt;</th></tr>\n",
       "</thead>\n",
       "<tbody>\n",
       "\t<tr><td>1</td><td>AAGCGTGCAGCAGCAAGGCAGGCAATGGCAGCAGCAAAAGCAAAAGCCAAAAAAGCAGCAGCA</td><td>KRAAARQAMAAAKAKAKKAAA</td><td>posbulky</td><td>YAR047C</td><td>NA    </td><td>endo_ala_cntrl</td><td>NA</td><td>NA</td><td>NA</td><td>NA</td></tr>\n",
       "\t<tr><td>2</td><td>ACTAGAGAAGCTCGTGCACCATCCCAAGCAGCAGCAGCAAGAAGAGCACGTGCAGCAAGAAGA</td><td>TREARAPSQAAAARRARAARR</td><td>posbulky</td><td>YBL027W</td><td>RPL19B</td><td>endo_ala_cntrl</td><td>NA</td><td>NA</td><td>NA</td><td>NA</td></tr>\n",
       "\t<tr><td>3</td><td>GCAGCAACAAAAGCAAAAAAGAAGAAAGCAGCAAATAGGGCTAAAGCACAAAAGGCAAATGCA</td><td>AATKAKKKKAANRAKAQKANA</td><td>FK      </td><td>YBR129C</td><td>OPY1  </td><td>endo_ala_cntrl</td><td>NA</td><td>NA</td><td>NA</td><td>NA</td></tr>\n",
       "\t<tr><td>4</td><td>AAAGCAGCAGGTAAAAAGGATGCAAAAATGGCAGCAAGAGCAAGAAAGGCAGCAAGGGAAGCA</td><td>KAAGKKDAKMAARARKAAREA</td><td>FK      </td><td>YCL054W</td><td>SPB1  </td><td>endo_ala_cntrl</td><td>NA</td><td>NA</td><td>NA</td><td>NA</td></tr>\n",
       "\t<tr><td>5</td><td>AAAGCACCTAGATCATCGGCAGCAGCAGAGAATAAAGCAGCAAAGGCAAAAAAGGCAAAGAGG</td><td>KAPRSSAAAENKAAKAKKAKR</td><td>posbulky</td><td>YDL030W</td><td>PRP9  </td><td>endo_ala_cntrl</td><td>NA</td><td>NA</td><td>NA</td><td>NA</td></tr>\n",
       "\t<tr><td>⋮</td><td>⋮</td><td>⋮</td><td>⋮</td><td>⋮</td><td>⋮</td><td>⋮</td><td>⋮</td><td>⋮</td><td>⋮</td><td>⋮</td></tr>\n",
       "\t<tr><td>1370</td><td>TTCAAGTTTAAGTTCAAGTTCAAATTCAAGTTTAAGTTCAAGTTCGCG</td><td>FKFKFKFKFKFKFKFA</td><td>NA</td><td>fk8</td><td>NA</td><td>NA</td><td>NA</td><td>FKFKFKFKFKFKFKFK</td><td>46</td><td>GCG</td></tr>\n",
       "\t<tr><td>1371</td><td>TTCAAGTTTAAGTTCAAGTTCAAATTCAAGTTTAAGTTCAAGTTCGAT</td><td>FKFKFKFKFKFKFKFD</td><td>NA</td><td>fk8</td><td>NA</td><td>NA</td><td>NA</td><td>FKFKFKFKFKFKFKFK</td><td>46</td><td>GAT</td></tr>\n",
       "\t<tr><td>1372</td><td>TTCAAGTTTAAGTTCAAGTTCAAATTCAAGTTTAAGTTCAAGTTCGAG</td><td>FKFKFKFKFKFKFKFE</td><td>NA</td><td>fk8</td><td>NA</td><td>NA</td><td>NA</td><td>FKFKFKFKFKFKFKFK</td><td>46</td><td>GAG</td></tr>\n",
       "\t<tr><td>1373</td><td>TTCAAGTTTAAGTTCAAGTTCAAATTCAAGTTTAAGTTCAAGTTCGGT</td><td>FKFKFKFKFKFKFKFG</td><td>NA</td><td>fk8</td><td>NA</td><td>NA</td><td>NA</td><td>FKFKFKFKFKFKFKFK</td><td>46</td><td>GGT</td></tr>\n",
       "\t<tr><td>1374</td><td>TTCAAGTTTAAGTTCAAGTTCAAATTCAAGTTTAAGTTCAAGTTCGGG</td><td>FKFKFKFKFKFKFKFG</td><td>NA</td><td>fk8</td><td>NA</td><td>NA</td><td>NA</td><td>FKFKFKFKFKFKFKFK</td><td>46</td><td>GGG</td></tr>\n",
       "</tbody>\n",
       "</table>\n"
      ],
      "text/latex": [
       "A tibble: 1374 × 11\n",
       "\\begin{tabular}{lllllllllll}\n",
       " insert\\_num & insert\\_seq & motif & type & id & gene & class & loc & wt\\_motif & mutstart & codon\\\\\n",
       " <int> & <chr> & <chr> & <chr> & <chr> & <chr> & <chr> & <dbl> & <chr> & <dbl> & <chr>\\\\\n",
       "\\hline\n",
       "\t 1 & AAGCGTGCAGCAGCAAGGCAGGCAATGGCAGCAGCAAAAGCAAAAGCCAAAAAAGCAGCAGCA & KRAAARQAMAAAKAKAKKAAA & posbulky & YAR047C & NA     & endo\\_ala\\_cntrl & NA & NA & NA & NA\\\\\n",
       "\t 2 & ACTAGAGAAGCTCGTGCACCATCCCAAGCAGCAGCAGCAAGAAGAGCACGTGCAGCAAGAAGA & TREARAPSQAAAARRARAARR & posbulky & YBL027W & RPL19B & endo\\_ala\\_cntrl & NA & NA & NA & NA\\\\\n",
       "\t 3 & GCAGCAACAAAAGCAAAAAAGAAGAAAGCAGCAAATAGGGCTAAAGCACAAAAGGCAAATGCA & AATKAKKKKAANRAKAQKANA & FK       & YBR129C & OPY1   & endo\\_ala\\_cntrl & NA & NA & NA & NA\\\\\n",
       "\t 4 & AAAGCAGCAGGTAAAAAGGATGCAAAAATGGCAGCAAGAGCAAGAAAGGCAGCAAGGGAAGCA & KAAGKKDAKMAARARKAAREA & FK       & YCL054W & SPB1   & endo\\_ala\\_cntrl & NA & NA & NA & NA\\\\\n",
       "\t 5 & AAAGCACCTAGATCATCGGCAGCAGCAGAGAATAAAGCAGCAAAGGCAAAAAAGGCAAAGAGG & KAPRSSAAAENKAAKAKKAKR & posbulky & YDL030W & PRP9   & endo\\_ala\\_cntrl & NA & NA & NA & NA\\\\\n",
       "\t ⋮ & ⋮ & ⋮ & ⋮ & ⋮ & ⋮ & ⋮ & ⋮ & ⋮ & ⋮ & ⋮\\\\\n",
       "\t 1370 & TTCAAGTTTAAGTTCAAGTTCAAATTCAAGTTTAAGTTCAAGTTCGCG & FKFKFKFKFKFKFKFA & NA & fk8 & NA & NA & NA & FKFKFKFKFKFKFKFK & 46 & GCG\\\\\n",
       "\t 1371 & TTCAAGTTTAAGTTCAAGTTCAAATTCAAGTTTAAGTTCAAGTTCGAT & FKFKFKFKFKFKFKFD & NA & fk8 & NA & NA & NA & FKFKFKFKFKFKFKFK & 46 & GAT\\\\\n",
       "\t 1372 & TTCAAGTTTAAGTTCAAGTTCAAATTCAAGTTTAAGTTCAAGTTCGAG & FKFKFKFKFKFKFKFE & NA & fk8 & NA & NA & NA & FKFKFKFKFKFKFKFK & 46 & GAG\\\\\n",
       "\t 1373 & TTCAAGTTTAAGTTCAAGTTCAAATTCAAGTTTAAGTTCAAGTTCGGT & FKFKFKFKFKFKFKFG & NA & fk8 & NA & NA & NA & FKFKFKFKFKFKFKFK & 46 & GGT\\\\\n",
       "\t 1374 & TTCAAGTTTAAGTTCAAGTTCAAATTCAAGTTTAAGTTCAAGTTCGGG & FKFKFKFKFKFKFKFG & NA & fk8 & NA & NA & NA & FKFKFKFKFKFKFKFK & 46 & GGG\\\\\n",
       "\\end{tabular}\n"
      ],
      "text/markdown": [
       "\n",
       "A tibble: 1374 × 11\n",
       "\n",
       "| insert_num &lt;int&gt; | insert_seq &lt;chr&gt; | motif &lt;chr&gt; | type &lt;chr&gt; | id &lt;chr&gt; | gene &lt;chr&gt; | class &lt;chr&gt; | loc &lt;dbl&gt; | wt_motif &lt;chr&gt; | mutstart &lt;dbl&gt; | codon &lt;chr&gt; |\n",
       "|---|---|---|---|---|---|---|---|---|---|---|\n",
       "| 1 | AAGCGTGCAGCAGCAAGGCAGGCAATGGCAGCAGCAAAAGCAAAAGCCAAAAAAGCAGCAGCA | KRAAARQAMAAAKAKAKKAAA | posbulky | YAR047C | NA     | endo_ala_cntrl | NA | NA | NA | NA |\n",
       "| 2 | ACTAGAGAAGCTCGTGCACCATCCCAAGCAGCAGCAGCAAGAAGAGCACGTGCAGCAAGAAGA | TREARAPSQAAAARRARAARR | posbulky | YBL027W | RPL19B | endo_ala_cntrl | NA | NA | NA | NA |\n",
       "| 3 | GCAGCAACAAAAGCAAAAAAGAAGAAAGCAGCAAATAGGGCTAAAGCACAAAAGGCAAATGCA | AATKAKKKKAANRAKAQKANA | FK       | YBR129C | OPY1   | endo_ala_cntrl | NA | NA | NA | NA |\n",
       "| 4 | AAAGCAGCAGGTAAAAAGGATGCAAAAATGGCAGCAAGAGCAAGAAAGGCAGCAAGGGAAGCA | KAAGKKDAKMAARARKAAREA | FK       | YCL054W | SPB1   | endo_ala_cntrl | NA | NA | NA | NA |\n",
       "| 5 | AAAGCACCTAGATCATCGGCAGCAGCAGAGAATAAAGCAGCAAAGGCAAAAAAGGCAAAGAGG | KAPRSSAAAENKAAKAKKAKR | posbulky | YDL030W | PRP9   | endo_ala_cntrl | NA | NA | NA | NA |\n",
       "| ⋮ | ⋮ | ⋮ | ⋮ | ⋮ | ⋮ | ⋮ | ⋮ | ⋮ | ⋮ | ⋮ |\n",
       "| 1370 | TTCAAGTTTAAGTTCAAGTTCAAATTCAAGTTTAAGTTCAAGTTCGCG | FKFKFKFKFKFKFKFA | NA | fk8 | NA | NA | NA | FKFKFKFKFKFKFKFK | 46 | GCG |\n",
       "| 1371 | TTCAAGTTTAAGTTCAAGTTCAAATTCAAGTTTAAGTTCAAGTTCGAT | FKFKFKFKFKFKFKFD | NA | fk8 | NA | NA | NA | FKFKFKFKFKFKFKFK | 46 | GAT |\n",
       "| 1372 | TTCAAGTTTAAGTTCAAGTTCAAATTCAAGTTTAAGTTCAAGTTCGAG | FKFKFKFKFKFKFKFE | NA | fk8 | NA | NA | NA | FKFKFKFKFKFKFKFK | 46 | GAG |\n",
       "| 1373 | TTCAAGTTTAAGTTCAAGTTCAAATTCAAGTTTAAGTTCAAGTTCGGT | FKFKFKFKFKFKFKFG | NA | fk8 | NA | NA | NA | FKFKFKFKFKFKFKFK | 46 | GGT |\n",
       "| 1374 | TTCAAGTTTAAGTTCAAGTTCAAATTCAAGTTTAAGTTCAAGTTCGGG | FKFKFKFKFKFKFKFG | NA | fk8 | NA | NA | NA | FKFKFKFKFKFKFKFK | 46 | GGG |\n",
       "\n"
      ],
      "text/plain": [
       "     insert_num insert_seq                                                     \n",
       "1    1          AAGCGTGCAGCAGCAAGGCAGGCAATGGCAGCAGCAAAAGCAAAAGCCAAAAAAGCAGCAGCA\n",
       "2    2          ACTAGAGAAGCTCGTGCACCATCCCAAGCAGCAGCAGCAAGAAGAGCACGTGCAGCAAGAAGA\n",
       "3    3          GCAGCAACAAAAGCAAAAAAGAAGAAAGCAGCAAATAGGGCTAAAGCACAAAAGGCAAATGCA\n",
       "4    4          AAAGCAGCAGGTAAAAAGGATGCAAAAATGGCAGCAAGAGCAAGAAAGGCAGCAAGGGAAGCA\n",
       "5    5          AAAGCACCTAGATCATCGGCAGCAGCAGAGAATAAAGCAGCAAAGGCAAAAAAGGCAAAGAGG\n",
       "⋮    ⋮          ⋮                                                              \n",
       "1370 1370       TTCAAGTTTAAGTTCAAGTTCAAATTCAAGTTTAAGTTCAAGTTCGCG               \n",
       "1371 1371       TTCAAGTTTAAGTTCAAGTTCAAATTCAAGTTTAAGTTCAAGTTCGAT               \n",
       "1372 1372       TTCAAGTTTAAGTTCAAGTTCAAATTCAAGTTTAAGTTCAAGTTCGAG               \n",
       "1373 1373       TTCAAGTTTAAGTTCAAGTTCAAATTCAAGTTTAAGTTCAAGTTCGGT               \n",
       "1374 1374       TTCAAGTTTAAGTTCAAGTTCAAATTCAAGTTTAAGTTCAAGTTCGGG               \n",
       "     motif                 type     id      gene   class          loc\n",
       "1    KRAAARQAMAAAKAKAKKAAA posbulky YAR047C NA     endo_ala_cntrl NA \n",
       "2    TREARAPSQAAAARRARAARR posbulky YBL027W RPL19B endo_ala_cntrl NA \n",
       "3    AATKAKKKKAANRAKAQKANA FK       YBR129C OPY1   endo_ala_cntrl NA \n",
       "4    KAAGKKDAKMAARARKAAREA FK       YCL054W SPB1   endo_ala_cntrl NA \n",
       "5    KAPRSSAAAENKAAKAKKAKR posbulky YDL030W PRP9   endo_ala_cntrl NA \n",
       "⋮    ⋮                     ⋮        ⋮       ⋮      ⋮              ⋮  \n",
       "1370 FKFKFKFKFKFKFKFA      NA       fk8     NA     NA             NA \n",
       "1371 FKFKFKFKFKFKFKFD      NA       fk8     NA     NA             NA \n",
       "1372 FKFKFKFKFKFKFKFE      NA       fk8     NA     NA             NA \n",
       "1373 FKFKFKFKFKFKFKFG      NA       fk8     NA     NA             NA \n",
       "1374 FKFKFKFKFKFKFKFG      NA       fk8     NA     NA             NA \n",
       "     wt_motif         mutstart codon\n",
       "1    NA               NA       NA   \n",
       "2    NA               NA       NA   \n",
       "3    NA               NA       NA   \n",
       "4    NA               NA       NA   \n",
       "5    NA               NA       NA   \n",
       "⋮    ⋮                ⋮        ⋮    \n",
       "1370 FKFKFKFKFKFKFKFK 46       GCG  \n",
       "1371 FKFKFKFKFKFKFKFK 46       GAT  \n",
       "1372 FKFKFKFKFKFKFKFK 46       GAG  \n",
       "1373 FKFKFKFKFKFKFKFK 46       GGT  \n",
       "1374 FKFKFKFKFKFKFKFK 46       GGG  "
      ]
     },
     "metadata": {},
     "output_type": "display_data"
    }
   ],
   "source": [
    "variant_annotations <- non_dms_variants %>% \n",
    "  bind_rows(dms_variants) %>% \n",
    "  mutate(insert_num = seq(1, dplyr::n())) %>% \n",
    "  select(insert_num, insert_seq, everything()) %>%\n",
    "  write_csv(output_file)\n",
    "\n",
    "variant_annotations  "
   ]
  }
 ],
 "metadata": {
  "kernelspec": {
   "display_name": "R_project_repo_1.13.0",
   "language": "R",
   "name": "ir_project_repo_1.13.0"
  },
  "language_info": {
   "codemirror_mode": "r",
   "file_extension": ".r",
   "mimetype": "text/x-r-source",
   "name": "R",
   "pygments_lexer": "r",
   "version": "4.1.3"
  },
  "orig_nbformat": 4
 },
 "nbformat": 4,
 "nbformat_minor": 2
}
