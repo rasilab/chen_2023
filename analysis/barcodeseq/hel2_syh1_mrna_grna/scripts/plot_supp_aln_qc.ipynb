{
 "cells": [
  {
   "cell_type": "code",
   "execution_count": 2,
   "metadata": {
    "vscode": {
     "languageId": "r"
    }
   },
   "outputs": [],
   "source": [
    "suppressPackageStartupMessages(library(Biostrings))\n",
    "suppressPackageStartupMessages(library(tidyverse))\n",
    "suppressPackageStartupMessages(library(rasilabRtemplates))\n",
    "suppressPackageStartupMessages(library(boot))\n",
    "suppressPackageStartupMessages(library(readxl))\n",
    "suppressPackageStartupMessages(library(ggrepel))\n",
    "suppressPackageStartupMessages(library(plotrix))\n",
    "\n",
    "barcode_reads_cutoff <- 10\n",
    "n_barcodes_cutoff <- 2"
   ]
  },
  {
   "attachments": {},
   "cell_type": "markdown",
   "metadata": {},
   "source": [
    "### Global plotting themes"
   ]
  },
  {
   "cell_type": "code",
   "execution_count": 3,
   "metadata": {
    "vscode": {
     "languageId": "r"
    }
   },
   "outputs": [
    {
     "name": "stderr",
     "output_type": "stream",
     "text": [
      "Warning message:\n",
      "“\u001b[1m\u001b[22mThe `size` argument of `element_line()` is deprecated as of ggplot2 3.4.0.\n",
      "\u001b[36mℹ\u001b[39m Please use the `linewidth` argument instead.”\n"
     ]
    }
   ],
   "source": [
    "theme <- theme(\n",
    "        title = element_text(margin = margin(t=0, r=2, b=2, l=2), size=8),\n",
    "        axis.title.x = element_text(margin = margin(t=2, r=2, b=0, l=2), size=8),\n",
    "        axis.title.y = element_text(margin = margin(t=2, r=2, b=2, l=0), size=8),\n",
    "        text = element_text(size = 8),\n",
    "        legend.text=element_text(size=8),\n",
    "        axis.line.x=element_line(size=0.2),\n",
    "        axis.line.y=element_line(size=0.2),\n",
    "        axis.ticks.y =  element_line(size=0.2),\n",
    "        axis.ticks.x = element_line(size=0.2),\n",
    "        axis.text.x = element_text(size=8),\n",
    "        axis.text.y = element_text(size=8)\n",
    "        )"
   ]
  },
  {
   "cell_type": "code",
   "execution_count": 4,
   "metadata": {
    "vscode": {
     "languageId": "r"
    }
   },
   "outputs": [],
   "source": [
    "if (!file.exists('../figures')){\n",
    "    dir.create('../figures')\n",
    "}"
   ]
  },
  {
   "attachments": {},
   "cell_type": "markdown",
   "metadata": {},
   "source": [
    "### Load insert annotations and insert-barcode linkages"
   ]
  },
  {
   "cell_type": "code",
   "execution_count": 5,
   "metadata": {
    "vscode": {
     "languageId": "r"
    }
   },
   "outputs": [
    {
     "name": "stderr",
     "output_type": "stream",
     "text": [
      "\u001b[1mRows: \u001b[22m\u001b[34m6000\u001b[39m \u001b[1mColumns: \u001b[22m\u001b[34m2\u001b[39m\n",
      "\u001b[36m──\u001b[39m \u001b[1mColumn specification\u001b[22m \u001b[36m────────────────────────────────────────────────────────\u001b[39m\n",
      "\u001b[1mDelimiter:\u001b[22m \",\"\n",
      "\u001b[31mchr\u001b[39m (1): insert\n",
      "\u001b[32mdbl\u001b[39m (1): insert_num\n",
      "\n",
      "\u001b[36mℹ\u001b[39m Use `spec()` to retrieve the full column specification for this data.\n",
      "\u001b[36mℹ\u001b[39m Specify the column types or set `show_col_types = FALSE` to quiet this message.\n"
     ]
    }
   ],
   "source": [
    "insert_annotations = read_csv(\"../../8xdicodon_linkage/annotations/dicodon_yeast.csv\") %>%\n",
    "    mutate(dicodon = str_extract(insert, \"([ACTG]{6})(?=\\\\1{7})\")) %>%\n",
    "    drop_na(dicodon) %>% # drops the inserts that aren't dicodons in this case\n",
    "    mutate(diaa = as.character(translate(DNAStringSet(dicodon), no.init.codon = T))) %>%\n",
    "    mutate(codon1 = substr(dicodon, 1, 3), codon2 = substr(dicodon, 4, 6),\n",
    "         aa1 = substr(diaa, 1, 1), aa2 = substr(diaa, 2, 2)) %>%\n",
    "    select(-insert)"
   ]
  },
  {
   "cell_type": "code",
   "execution_count": 6,
   "metadata": {
    "vscode": {
     "languageId": "r"
    }
   },
   "outputs": [
    {
     "name": "stderr",
     "output_type": "stream",
     "text": [
      "\u001b[1mRows: \u001b[22m\u001b[34m2455063\u001b[39m \u001b[1mColumns: \u001b[22m\u001b[34m4\u001b[39m\n",
      "\u001b[36m──\u001b[39m \u001b[1mColumn specification\u001b[22m \u001b[36m────────────────────────────────────────────────────────\u001b[39m\n",
      "\u001b[1mDelimiter:\u001b[22m \",\"\n",
      "\u001b[31mchr\u001b[39m (3): insert_num, barcode, linkage_count\n",
      "\u001b[32mdbl\u001b[39m (1): barcode_num\n",
      "\n",
      "\u001b[36mℹ\u001b[39m Use `spec()` to retrieve the full column specification for this data.\n",
      "\u001b[36mℹ\u001b[39m Specify the column types or set `show_col_types = FALSE` to quiet this message.\n",
      "Warning message in mask$eval_all_mutate(quo):\n",
      "“NAs introduced by coercion”\n"
     ]
    },
    {
     "data": {
      "text/html": [
       "<table class=\"dataframe\">\n",
       "<caption>A tibble: 6 × 5</caption>\n",
       "<thead>\n",
       "\t<tr><th scope=col>insert_num</th><th scope=col>barcode_num</th><th scope=col>barcode</th><th scope=col>linkage_count</th><th scope=col>linkage_ref</th></tr>\n",
       "\t<tr><th scope=col>&lt;dbl&gt;</th><th scope=col>&lt;dbl&gt;</th><th scope=col>&lt;chr&gt;</th><th scope=col>&lt;dbl&gt;</th><th scope=col>&lt;chr&gt;</th></tr>\n",
       "</thead>\n",
       "<tbody>\n",
       "\t<tr><td>  NA</td><td>1</td><td>barcode                 </td><td>NA</td><td>yeast_cyto_linkage</td></tr>\n",
       "\t<tr><td>4457</td><td>2</td><td>GGGCTTAAGAAGATCCTTGTCAGG</td><td>99</td><td>yeast_cyto_linkage</td></tr>\n",
       "\t<tr><td>4123</td><td>3</td><td>TAGCACATTTCCTCTGGGGTTCGT</td><td>99</td><td>yeast_cyto_linkage</td></tr>\n",
       "\t<tr><td>4793</td><td>4</td><td>TACTGTTTTGCTCGTGGCGTTTAT</td><td>99</td><td>yeast_cyto_linkage</td></tr>\n",
       "\t<tr><td> 180</td><td>5</td><td>GAGAGGTGGATCGCGCACAGCAAG</td><td>99</td><td>yeast_cyto_linkage</td></tr>\n",
       "\t<tr><td>4969</td><td>6</td><td>GGGGTGTATAGGACCGGCCAGTCT</td><td>99</td><td>yeast_cyto_linkage</td></tr>\n",
       "</tbody>\n",
       "</table>\n"
      ],
      "text/latex": [
       "A tibble: 6 × 5\n",
       "\\begin{tabular}{lllll}\n",
       " insert\\_num & barcode\\_num & barcode & linkage\\_count & linkage\\_ref\\\\\n",
       " <dbl> & <dbl> & <chr> & <dbl> & <chr>\\\\\n",
       "\\hline\n",
       "\t   NA & 1 & barcode                  & NA & yeast\\_cyto\\_linkage\\\\\n",
       "\t 4457 & 2 & GGGCTTAAGAAGATCCTTGTCAGG & 99 & yeast\\_cyto\\_linkage\\\\\n",
       "\t 4123 & 3 & TAGCACATTTCCTCTGGGGTTCGT & 99 & yeast\\_cyto\\_linkage\\\\\n",
       "\t 4793 & 4 & TACTGTTTTGCTCGTGGCGTTTAT & 99 & yeast\\_cyto\\_linkage\\\\\n",
       "\t  180 & 5 & GAGAGGTGGATCGCGCACAGCAAG & 99 & yeast\\_cyto\\_linkage\\\\\n",
       "\t 4969 & 6 & GGGGTGTATAGGACCGGCCAGTCT & 99 & yeast\\_cyto\\_linkage\\\\\n",
       "\\end{tabular}\n"
      ],
      "text/markdown": [
       "\n",
       "A tibble: 6 × 5\n",
       "\n",
       "| insert_num &lt;dbl&gt; | barcode_num &lt;dbl&gt; | barcode &lt;chr&gt; | linkage_count &lt;dbl&gt; | linkage_ref &lt;chr&gt; |\n",
       "|---|---|---|---|---|\n",
       "|   NA | 1 | barcode                  | NA | yeast_cyto_linkage |\n",
       "| 4457 | 2 | GGGCTTAAGAAGATCCTTGTCAGG | 99 | yeast_cyto_linkage |\n",
       "| 4123 | 3 | TAGCACATTTCCTCTGGGGTTCGT | 99 | yeast_cyto_linkage |\n",
       "| 4793 | 4 | TACTGTTTTGCTCGTGGCGTTTAT | 99 | yeast_cyto_linkage |\n",
       "|  180 | 5 | GAGAGGTGGATCGCGCACAGCAAG | 99 | yeast_cyto_linkage |\n",
       "| 4969 | 6 | GGGGTGTATAGGACCGGCCAGTCT | 99 | yeast_cyto_linkage |\n",
       "\n"
      ],
      "text/plain": [
       "  insert_num barcode_num barcode                  linkage_count\n",
       "1   NA       1           barcode                  NA           \n",
       "2 4457       2           GGGCTTAAGAAGATCCTTGTCAGG 99           \n",
       "3 4123       3           TAGCACATTTCCTCTGGGGTTCGT 99           \n",
       "4 4793       4           TACTGTTTTGCTCGTGGCGTTTAT 99           \n",
       "5  180       5           GAGAGGTGGATCGCGCACAGCAAG 99           \n",
       "6 4969       6           GGGGTGTATAGGACCGGCCAGTCT 99           \n",
       "  linkage_ref       \n",
       "1 yeast_cyto_linkage\n",
       "2 yeast_cyto_linkage\n",
       "3 yeast_cyto_linkage\n",
       "4 yeast_cyto_linkage\n",
       "5 yeast_cyto_linkage\n",
       "6 yeast_cyto_linkage"
      ]
     },
     "metadata": {},
     "output_type": "display_data"
    }
   ],
   "source": [
    "insert_barcode_linkages <- read_csv(\"../../8xdicodon_linkage/data/filtered_barcodes/yeast_cyto_linkage.csv\") %>%\n",
    "  mutate(insert_num = as.numeric(str_extract(insert_num, \"[:digit:]+\"))) %>%\n",
    "  mutate(linkage_count = as.numeric(linkage_count)) %>%\n",
    "  mutate(linkage_ref = 'yeast_cyto_linkage')\n",
    "\n",
    "head(insert_barcode_linkages)"
   ]
  },
  {
   "attachments": {},
   "cell_type": "markdown",
   "metadata": {},
   "source": [
    "### Load Hel2-del and Syh1-del barcode counts"
   ]
  },
  {
   "cell_type": "code",
   "execution_count": 7,
   "metadata": {
    "vscode": {
     "languageId": "r"
    }
   },
   "outputs": [
    {
     "name": "stderr",
     "output_type": "stream",
     "text": [
      "\u001b[1mRows: \u001b[22m\u001b[34m99948\u001b[39m \u001b[1mColumns: \u001b[22m\u001b[34m5\u001b[39m\n",
      "\u001b[36m──\u001b[39m \u001b[1mColumn specification\u001b[22m \u001b[36m────────────────────────────────────────────────────────\u001b[39m\n",
      "\u001b[1mDelimiter:\u001b[22m \",\"\n",
      "\u001b[31mchr\u001b[39m (4): barcode_count, insert_num, barcode, linkage_count\n",
      "\u001b[32mdbl\u001b[39m (1): barcode_num\n",
      "\n",
      "\u001b[36mℹ\u001b[39m Use `spec()` to retrieve the full column specification for this data.\n",
      "\u001b[36mℹ\u001b[39m Specify the column types or set `show_col_types = FALSE` to quiet this message.\n",
      "\u001b[1mRows: \u001b[22m\u001b[34m163535\u001b[39m \u001b[1mColumns: \u001b[22m\u001b[34m5\u001b[39m\n",
      "\u001b[36m──\u001b[39m \u001b[1mColumn specification\u001b[22m \u001b[36m────────────────────────────────────────────────────────\u001b[39m\n",
      "\u001b[1mDelimiter:\u001b[22m \",\"\n",
      "\u001b[31mchr\u001b[39m (4): barcode_count, insert_num, barcode, linkage_count\n",
      "\u001b[32mdbl\u001b[39m (1): barcode_num\n",
      "\n",
      "\u001b[36mℹ\u001b[39m Use `spec()` to retrieve the full column specification for this data.\n",
      "\u001b[36mℹ\u001b[39m Specify the column types or set `show_col_types = FALSE` to quiet this message.\n",
      "\u001b[1mRows: \u001b[22m\u001b[34m110997\u001b[39m \u001b[1mColumns: \u001b[22m\u001b[34m5\u001b[39m\n",
      "\u001b[36m──\u001b[39m \u001b[1mColumn specification\u001b[22m \u001b[36m────────────────────────────────────────────────────────\u001b[39m\n",
      "\u001b[1mDelimiter:\u001b[22m \",\"\n",
      "\u001b[31mchr\u001b[39m (4): barcode_count, insert_num, barcode, linkage_count\n",
      "\u001b[32mdbl\u001b[39m (1): barcode_num\n",
      "\n",
      "\u001b[36mℹ\u001b[39m Use `spec()` to retrieve the full column specification for this data.\n",
      "\u001b[36mℹ\u001b[39m Specify the column types or set `show_col_types = FALSE` to quiet this message.\n",
      "\u001b[1mRows: \u001b[22m\u001b[34m154870\u001b[39m \u001b[1mColumns: \u001b[22m\u001b[34m5\u001b[39m\n",
      "\u001b[36m──\u001b[39m \u001b[1mColumn specification\u001b[22m \u001b[36m────────────────────────────────────────────────────────\u001b[39m\n",
      "\u001b[1mDelimiter:\u001b[22m \",\"\n",
      "\u001b[31mchr\u001b[39m (4): barcode_count, insert_num, barcode, linkage_count\n",
      "\u001b[32mdbl\u001b[39m (1): barcode_num\n",
      "\n",
      "\u001b[36mℹ\u001b[39m Use `spec()` to retrieve the full column specification for this data.\n",
      "\u001b[36mℹ\u001b[39m Specify the column types or set `show_col_types = FALSE` to quiet this message.\n",
      "\u001b[1mRows: \u001b[22m\u001b[34m169432\u001b[39m \u001b[1mColumns: \u001b[22m\u001b[34m5\u001b[39m\n",
      "\u001b[36m──\u001b[39m \u001b[1mColumn specification\u001b[22m \u001b[36m────────────────────────────────────────────────────────\u001b[39m\n",
      "\u001b[1mDelimiter:\u001b[22m \",\"\n",
      "\u001b[31mchr\u001b[39m (4): barcode_count, insert_num, barcode, linkage_count\n",
      "\u001b[32mdbl\u001b[39m (1): barcode_num\n",
      "\n",
      "\u001b[36mℹ\u001b[39m Use `spec()` to retrieve the full column specification for this data.\n",
      "\u001b[36mℹ\u001b[39m Specify the column types or set `show_col_types = FALSE` to quiet this message.\n",
      "\u001b[1mRows: \u001b[22m\u001b[34m181686\u001b[39m \u001b[1mColumns: \u001b[22m\u001b[34m5\u001b[39m\n",
      "\u001b[36m──\u001b[39m \u001b[1mColumn specification\u001b[22m \u001b[36m────────────────────────────────────────────────────────\u001b[39m\n",
      "\u001b[1mDelimiter:\u001b[22m \",\"\n",
      "\u001b[31mchr\u001b[39m (4): barcode_count, insert_num, barcode, linkage_count\n",
      "\u001b[32mdbl\u001b[39m (1): barcode_num\n",
      "\n",
      "\u001b[36mℹ\u001b[39m Use `spec()` to retrieve the full column specification for this data.\n",
      "\u001b[36mℹ\u001b[39m Specify the column types or set `show_col_types = FALSE` to quiet this message.\n",
      "Warning message:\n",
      "“`cols` is now required when using unnest().\n",
      "Please use `cols = c(counts)`”\n",
      "Warning message in mask$eval_all_mutate(quo):\n",
      "“NAs introduced by coercion”\n",
      "Warning message in mask$eval_all_mutate(quo):\n",
      "“NAs introduced by coercion”\n"
     ]
    }
   ],
   "source": [
    "counts <- list.files(\"../data/linked_barcode_counts/\", pattern = \".csv$\", full.names = T) %>% \n",
    "  enframe(\"sno\", \"file\") %>% \n",
    "  mutate(counts = map(file, read_csv)) %>% \n",
    "  mutate(sample_name = str_extract(file, \"[^/]+(?=.csv)\")) %>% \n",
    "  select(-sno, -file) %>% \n",
    "  unnest() %>% \n",
    "  mutate(insert_num = as.numeric(str_extract(insert_num, \"[:digit:]+\"))) %>%\n",
    "  mutate(barcode_count = as.numeric(barcode_count)) %>%\n",
    "  mutate(linkage_count = as.numeric(linkage_count))"
   ]
  },
  {
   "cell_type": "code",
   "execution_count": 8,
   "metadata": {
    "vscode": {
     "languageId": "r"
    }
   },
   "outputs": [],
   "source": [
    "barcode_counts <- counts %>%\n",
    "    mutate(genotype = str_extract(sample_name, '[^_]+')) %>%\n",
    "    mutate(sample_type = str_extract(sample_name, '(?<=_).+')) %>%\n",
    "    mutate(sample_type = ifelse(str_detect(sample_type, 'reseq'), str_extract(sample_name, '(?<=_).+(?=_)'), sample_type)) %>%\n",
    "    select(genotype, sample_type, barcode_num, insert_num, barcode_count) %>%\n",
    "    group_by(genotype, sample_type, barcode_num, insert_num) %>% # combine resequenced counts together\n",
    "    summarize(barcode_count = sum(barcode_count), .groups='drop')"
   ]
  },
  {
   "attachments": {},
   "cell_type": "markdown",
   "metadata": {},
   "source": [
    "### Load WT barcode counts"
   ]
  },
  {
   "cell_type": "code",
   "execution_count": 9,
   "metadata": {
    "vscode": {
     "languageId": "r"
    }
   },
   "outputs": [
    {
     "name": "stderr",
     "output_type": "stream",
     "text": [
      "\u001b[1mRows: \u001b[22m\u001b[34m370377\u001b[39m \u001b[1mColumns: \u001b[22m\u001b[34m7\u001b[39m\n",
      "\u001b[36m──\u001b[39m \u001b[1mColumn specification\u001b[22m \u001b[36m────────────────────────────────────────────────────────\u001b[39m\n",
      "\u001b[1mDelimiter:\u001b[22m \"\\t\"\n",
      "\u001b[31mchr\u001b[39m (3): barcode, sample_name, linkage_ref\n",
      "\u001b[32mdbl\u001b[39m (4): barcode_count, insert_num, barcode_num, linkage_count\n",
      "\n",
      "\u001b[36mℹ\u001b[39m Use `spec()` to retrieve the full column specification for this data.\n",
      "\u001b[36mℹ\u001b[39m Specify the column types or set `show_col_types = FALSE` to quiet this message.\n"
     ]
    }
   ],
   "source": [
    "wt_barcode_counts <- read_tsv(\"../../wt_mrna_grna/tables/barcode_insert_counts.tsv.gz\") %>%\n",
    "    mutate(genotype = str_extract(sample_name, '[^_]+')) %>%\n",
    "    mutate(sample_type = str_extract(sample_name, '(?<=_).+')) %>%\n",
    "    select(genotype, sample_type, barcode_num, insert_num, barcode_count)"
   ]
  },
  {
   "cell_type": "code",
   "execution_count": 10,
   "metadata": {
    "vscode": {
     "languageId": "r"
    }
   },
   "outputs": [],
   "source": [
    "all_barcode_counts <- bind_rows(barcode_counts, wt_barcode_counts)"
   ]
  },
  {
   "cell_type": "code",
   "execution_count": 11,
   "metadata": {
    "vscode": {
     "languageId": "r"
    }
   },
   "outputs": [
    {
     "name": "stderr",
     "output_type": "stream",
     "text": [
      "\u001b[1m\u001b[22m`summarise()` has grouped output by 'genotype'. You can override using the\n",
      "`.groups` argument.\n"
     ]
    },
    {
     "data": {
      "text/html": [
       "<table class=\"dataframe\">\n",
       "<caption>A grouped_df: 6 × 4</caption>\n",
       "<thead>\n",
       "\t<tr><th scope=col>genotype</th><th scope=col>sample_type</th><th scope=col>n</th><th scope=col>sum(barcode_count)</th></tr>\n",
       "\t<tr><th scope=col>&lt;chr&gt;</th><th scope=col>&lt;chr&gt;</th><th scope=col>&lt;int&gt;</th><th scope=col>&lt;dbl&gt;</th></tr>\n",
       "</thead>\n",
       "<tbody>\n",
       "\t<tr><td>hel2</td><td>gdna</td><td> 94474</td><td>27248588</td></tr>\n",
       "\t<tr><td>hel2</td><td>mrna</td><td> 89807</td><td>28297351</td></tr>\n",
       "\t<tr><td>syh1</td><td>gdna</td><td> 97548</td><td> 9229794</td></tr>\n",
       "\t<tr><td>syh1</td><td>mrna</td><td>104543</td><td>29697115</td></tr>\n",
       "\t<tr><td>wt  </td><td>gdna</td><td>119006</td><td>27083012</td></tr>\n",
       "\t<tr><td>wt  </td><td>mrna</td><td>102200</td><td> 9163629</td></tr>\n",
       "</tbody>\n",
       "</table>\n"
      ],
      "text/latex": [
       "A grouped\\_df: 6 × 4\n",
       "\\begin{tabular}{llll}\n",
       " genotype & sample\\_type & n & sum(barcode\\_count)\\\\\n",
       " <chr> & <chr> & <int> & <dbl>\\\\\n",
       "\\hline\n",
       "\t hel2 & gdna &  94474 & 27248588\\\\\n",
       "\t hel2 & mrna &  89807 & 28297351\\\\\n",
       "\t syh1 & gdna &  97548 &  9229794\\\\\n",
       "\t syh1 & mrna & 104543 & 29697115\\\\\n",
       "\t wt   & gdna & 119006 & 27083012\\\\\n",
       "\t wt   & mrna & 102200 &  9163629\\\\\n",
       "\\end{tabular}\n"
      ],
      "text/markdown": [
       "\n",
       "A grouped_df: 6 × 4\n",
       "\n",
       "| genotype &lt;chr&gt; | sample_type &lt;chr&gt; | n &lt;int&gt; | sum(barcode_count) &lt;dbl&gt; |\n",
       "|---|---|---|---|\n",
       "| hel2 | gdna |  94474 | 27248588 |\n",
       "| hel2 | mrna |  89807 | 28297351 |\n",
       "| syh1 | gdna |  97548 |  9229794 |\n",
       "| syh1 | mrna | 104543 | 29697115 |\n",
       "| wt   | gdna | 119006 | 27083012 |\n",
       "| wt   | mrna | 102200 |  9163629 |\n",
       "\n"
      ],
      "text/plain": [
       "  genotype sample_type n      sum(barcode_count)\n",
       "1 hel2     gdna         94474 27248588          \n",
       "2 hel2     mrna         89807 28297351          \n",
       "3 syh1     gdna         97548  9229794          \n",
       "4 syh1     mrna        104543 29697115          \n",
       "5 wt       gdna        119006 27083012          \n",
       "6 wt       mrna        102200  9163629          "
      ]
     },
     "metadata": {},
     "output_type": "display_data"
    },
    {
     "name": "stderr",
     "output_type": "stream",
     "text": [
      "\u001b[1m\u001b[22m`summarise()` has grouped output by 'genotype', 'sample_type'. You can override\n",
      "using the `.groups` argument.\n"
     ]
    },
    {
     "data": {
      "text/html": [
       "<table class=\"dataframe\">\n",
       "<caption>A grouped_df: 6 × 3</caption>\n",
       "<thead>\n",
       "\t<tr><th scope=col>genotype</th><th scope=col>sample_type</th><th scope=col>n_inserts</th></tr>\n",
       "\t<tr><th scope=col>&lt;chr&gt;</th><th scope=col>&lt;chr&gt;</th><th scope=col>&lt;int&gt;</th></tr>\n",
       "</thead>\n",
       "<tbody>\n",
       "\t<tr><td>hel2</td><td>gdna</td><td>3702</td></tr>\n",
       "\t<tr><td>hel2</td><td>mrna</td><td>3682</td></tr>\n",
       "\t<tr><td>syh1</td><td>gdna</td><td>3681</td></tr>\n",
       "\t<tr><td>syh1</td><td>mrna</td><td>3699</td></tr>\n",
       "\t<tr><td>wt  </td><td>gdna</td><td>3824</td></tr>\n",
       "\t<tr><td>wt  </td><td>mrna</td><td>3726</td></tr>\n",
       "</tbody>\n",
       "</table>\n"
      ],
      "text/latex": [
       "A grouped\\_df: 6 × 3\n",
       "\\begin{tabular}{lll}\n",
       " genotype & sample\\_type & n\\_inserts\\\\\n",
       " <chr> & <chr> & <int>\\\\\n",
       "\\hline\n",
       "\t hel2 & gdna & 3702\\\\\n",
       "\t hel2 & mrna & 3682\\\\\n",
       "\t syh1 & gdna & 3681\\\\\n",
       "\t syh1 & mrna & 3699\\\\\n",
       "\t wt   & gdna & 3824\\\\\n",
       "\t wt   & mrna & 3726\\\\\n",
       "\\end{tabular}\n"
      ],
      "text/markdown": [
       "\n",
       "A grouped_df: 6 × 3\n",
       "\n",
       "| genotype &lt;chr&gt; | sample_type &lt;chr&gt; | n_inserts &lt;int&gt; |\n",
       "|---|---|---|\n",
       "| hel2 | gdna | 3702 |\n",
       "| hel2 | mrna | 3682 |\n",
       "| syh1 | gdna | 3681 |\n",
       "| syh1 | mrna | 3699 |\n",
       "| wt   | gdna | 3824 |\n",
       "| wt   | mrna | 3726 |\n",
       "\n"
      ],
      "text/plain": [
       "  genotype sample_type n_inserts\n",
       "1 hel2     gdna        3702     \n",
       "2 hel2     mrna        3682     \n",
       "3 syh1     gdna        3681     \n",
       "4 syh1     mrna        3699     \n",
       "5 wt       gdna        3824     \n",
       "6 wt       mrna        3726     "
      ]
     },
     "metadata": {},
     "output_type": "display_data"
    }
   ],
   "source": [
    "all_barcode_counts %>%\n",
    "    inner_join(insert_annotations, by='insert_num') %>%\n",
    "    group_by(genotype, sample_type) %>%\n",
    "    summarize(n=n(), sum(barcode_count))\n",
    "\n",
    "all_barcode_counts %>%\n",
    "    inner_join(insert_annotations, by='insert_num') %>%\n",
    "    group_by(genotype, sample_type, insert_num) %>%\n",
    "    summarize(n=n()) %>%\n",
    "    mutate(n_inserts = n()) %>%\n",
    "    dplyr::slice(1) %>%\n",
    "    select(-insert_num, -n)"
   ]
  },
  {
   "attachments": {},
   "cell_type": "markdown",
   "metadata": {},
   "source": [
    "### Plot alignment stats"
   ]
  },
  {
   "cell_type": "code",
   "execution_count": 12,
   "metadata": {
    "vscode": {
     "languageId": "r"
    }
   },
   "outputs": [],
   "source": [
    "dicodon_barcode_counts <- all_barcode_counts %>%\n",
    "    inner_join(insert_annotations, by='insert_num') %>%\n",
    "    mutate(sample_name = str_c(genotype, '_', sample_type))"
   ]
  },
  {
   "cell_type": "code",
   "execution_count": 13,
   "metadata": {
    "vscode": {
     "languageId": "r"
    }
   },
   "outputs": [
    {
     "name": "stderr",
     "output_type": "stream",
     "text": [
      "\u001b[1m\u001b[22m`summarise()` has grouped output by 'genotype', 'sample_name', 'sample_type'.\n",
      "You can override using the `.groups` argument.\n"
     ]
    },
    {
     "data": {
      "text/html": [
       "<table class=\"dataframe\">\n",
       "<caption>A grouped_df: 6 × 5</caption>\n",
       "<thead>\n",
       "\t<tr><th scope=col>genotype</th><th scope=col>sample_name</th><th scope=col>sample_type</th><th scope=col>mean</th><th scope=col>med</th></tr>\n",
       "\t<tr><th scope=col>&lt;chr&gt;</th><th scope=col>&lt;chr&gt;</th><th scope=col>&lt;chr&gt;</th><th scope=col>&lt;dbl&gt;</th><th scope=col>&lt;dbl&gt;</th></tr>\n",
       "</thead>\n",
       "<tbody>\n",
       "\t<tr><td>hel2</td><td>hel2_gdna</td><td>gdna</td><td>25.51972</td><td>22</td></tr>\n",
       "\t<tr><td>hel2</td><td>hel2_mrna</td><td>mrna</td><td>24.39082</td><td>21</td></tr>\n",
       "\t<tr><td>syh1</td><td>syh1_gdna</td><td>gdna</td><td>26.50041</td><td>23</td></tr>\n",
       "\t<tr><td>syh1</td><td>syh1_mrna</td><td>mrna</td><td>28.26250</td><td>24</td></tr>\n",
       "\t<tr><td>wt  </td><td>wt_gdna  </td><td>gdna</td><td>31.12082</td><td>27</td></tr>\n",
       "\t<tr><td>wt  </td><td>wt_mrna  </td><td>mrna</td><td>27.42888</td><td>24</td></tr>\n",
       "</tbody>\n",
       "</table>\n"
      ],
      "text/latex": [
       "A grouped\\_df: 6 × 5\n",
       "\\begin{tabular}{lllll}\n",
       " genotype & sample\\_name & sample\\_type & mean & med\\\\\n",
       " <chr> & <chr> & <chr> & <dbl> & <dbl>\\\\\n",
       "\\hline\n",
       "\t hel2 & hel2\\_gdna & gdna & 25.51972 & 22\\\\\n",
       "\t hel2 & hel2\\_mrna & mrna & 24.39082 & 21\\\\\n",
       "\t syh1 & syh1\\_gdna & gdna & 26.50041 & 23\\\\\n",
       "\t syh1 & syh1\\_mrna & mrna & 28.26250 & 24\\\\\n",
       "\t wt   & wt\\_gdna   & gdna & 31.12082 & 27\\\\\n",
       "\t wt   & wt\\_mrna   & mrna & 27.42888 & 24\\\\\n",
       "\\end{tabular}\n"
      ],
      "text/markdown": [
       "\n",
       "A grouped_df: 6 × 5\n",
       "\n",
       "| genotype &lt;chr&gt; | sample_name &lt;chr&gt; | sample_type &lt;chr&gt; | mean &lt;dbl&gt; | med &lt;dbl&gt; |\n",
       "|---|---|---|---|---|\n",
       "| hel2 | hel2_gdna | gdna | 25.51972 | 22 |\n",
       "| hel2 | hel2_mrna | mrna | 24.39082 | 21 |\n",
       "| syh1 | syh1_gdna | gdna | 26.50041 | 23 |\n",
       "| syh1 | syh1_mrna | mrna | 28.26250 | 24 |\n",
       "| wt   | wt_gdna   | gdna | 31.12082 | 27 |\n",
       "| wt   | wt_mrna   | mrna | 27.42888 | 24 |\n",
       "\n"
      ],
      "text/plain": [
       "  genotype sample_name sample_type mean     med\n",
       "1 hel2     hel2_gdna   gdna        25.51972 22 \n",
       "2 hel2     hel2_mrna   mrna        24.39082 21 \n",
       "3 syh1     syh1_gdna   gdna        26.50041 23 \n",
       "4 syh1     syh1_mrna   mrna        28.26250 24 \n",
       "5 wt       wt_gdna     gdna        31.12082 27 \n",
       "6 wt       wt_mrna     mrna        27.42888 24 "
      ]
     },
     "metadata": {},
     "output_type": "display_data"
    }
   ],
   "source": [
    "dicodon_barcode_counts %>%\n",
    "    group_by(genotype, sample_name, sample_type, insert_num) %>%\n",
    "    summarize(n_barcodes = n()) %>%\n",
    "    mutate(mean = mean(n_barcodes), med=median(n_barcodes)) %>%\n",
    "    slice(1) %>%\n",
    "    select(-insert_num, -n_barcodes)"
   ]
  },
  {
   "attachments": {},
   "cell_type": "markdown",
   "metadata": {},
   "source": [
    "### Plot GC content for Hel2-del and Syh1-del"
   ]
  },
  {
   "cell_type": "code",
   "execution_count": 14,
   "metadata": {
    "vscode": {
     "languageId": "r"
    }
   },
   "outputs": [
    {
     "name": "stderr",
     "output_type": "stream",
     "text": [
      "\u001b[1mRows: \u001b[22m\u001b[34m6000\u001b[39m \u001b[1mColumns: \u001b[22m\u001b[34m2\u001b[39m\n",
      "\u001b[36m──\u001b[39m \u001b[1mColumn specification\u001b[22m \u001b[36m────────────────────────────────────────────────────────\u001b[39m\n",
      "\u001b[1mDelimiter:\u001b[22m \",\"\n",
      "\u001b[31mchr\u001b[39m (1): insert\n",
      "\u001b[32mdbl\u001b[39m (1): insert_num\n",
      "\n",
      "\u001b[36mℹ\u001b[39m Use `spec()` to retrieve the full column specification for this data.\n",
      "\u001b[36mℹ\u001b[39m Specify the column types or set `show_col_types = FALSE` to quiet this message.\n"
     ]
    }
   ],
   "source": [
    "insert_annotations_gc <- read_csv(\"../../8xdicodon_linkage/annotations/dicodon_yeast.csv\") %>% \n",
    "  mutate(dicodon = str_extract(insert, \"([ACTG]{6})(?=\\\\1{7})\")) %>% \n",
    "  # calculate gc3\n",
    "  bind_cols(DNAStringSet(.$insert) %>% \n",
    "              subseq(start=3) %>% \n",
    "              oligonucleotideFrequency(1, 3) %>% \n",
    "              as_tibble() %>% \n",
    "              rename_all(. %>% paste0(\"3\")) %>% \n",
    "              mutate(gc3 = (G3 + C3) / (A3 + C3 + G3 + T3)) %>% \n",
    "              select(gc3)\n",
    "            ) %>% \n",
    "  # calculate gc\n",
    "  bind_cols(DNAStringSet(.$insert) %>% \n",
    "              oligonucleotideFrequency(1, 1) %>% \n",
    "              as_tibble() %>% \n",
    "              mutate(gc = (G + C) / (A + C + G + T)) %>% \n",
    "              select(gc)\n",
    "            )"
   ]
  },
  {
   "cell_type": "code",
   "execution_count": 15,
   "metadata": {
    "vscode": {
     "languageId": "r"
    }
   },
   "outputs": [],
   "source": [
    "gc_lfc <- all_barcode_counts %>%\n",
    "    filter(genotype != 'wt') %>%\n",
    "    filter(barcode_count >= barcode_reads_cutoff) %>%\n",
    "    group_by(genotype, sample_type, insert_num) %>%\n",
    "    summarize(insert_count = sum(barcode_count), .groups='drop') %>%\n",
    "    inner_join(insert_annotations_gc, by = \"insert_num\") %>% # gets rid of the 6000-4096 inserts that aren't dicodons\n",
    "    pivot_wider(names_from = sample_type, values_from = c(insert_count)) %>%\n",
    "    drop_na() %>%\n",
    "    group_by(genotype) %>%\n",
    "    mutate(lfc_no_norm = log2(mrna) - log2(gdna)) %>%\n",
    "    mutate(lfc = lfc_no_norm - median(lfc_no_norm)) %>%\n",
    "    ungroup() %>%\n",
    "    mutate(gc_content = factor(round((gc*100),0))) %>%\n",
    "    mutate(gc3_content = factor(round((gc3*100),0))) %>%\n",
    "    mutate(gc3_content = case_when(gc3_content == 0 ~ 0, gc3_content == 50 ~ 1, gc3_content == 100 ~ 2))"
   ]
  },
  {
   "cell_type": "code",
   "execution_count": 16,
   "metadata": {
    "vscode": {
     "languageId": "r"
    }
   },
   "outputs": [
    {
     "name": "stderr",
     "output_type": "stream",
     "text": [
      "Warning message:\n",
      "“\u001b[1m\u001b[22mUsing `size` aesthetic for lines was deprecated in ggplot2 3.4.0.\n",
      "\u001b[36mℹ\u001b[39m Please use `linewidth` instead.”\n",
      "Warning message:\n",
      "“\u001b[1m\u001b[22mRemoved 1 rows containing non-finite values (`stat_ydensity()`).”\n",
      "Warning message:\n",
      "“\u001b[1m\u001b[22mRemoved 1 rows containing non-finite values (`stat_ydensity()`).”\n"
     ]
    },
    {
     "data": {
      "image/png": "[encoded data removed]",
      "text/plain": [
       "plot without title"
      ]
     },
     "metadata": {
      "image/png": {
       "height": 72,
       "width": 180
      }
     },
     "output_type": "display_data"
    }
   ],
   "source": [
    "options(repr.plot.width = 3, repr.plot.height = 1.2)\n",
    "\n",
    "gc_lfc %>%\n",
    "    mutate(genotype = case_when(genotype == 'wt' ~ 'wild-type',\n",
    "                                genotype == 'hel2' ~ ' hel2',\n",
    "                                genotype == 'syh1' ~ ' syh1')) %>%\n",
    "    mutate(genotype = factor(genotype, levels=c('wild-type', ' hel2', ' syh1'))) %>%\n",
    "    ggplot() +\n",
    "    geom_violin(size=0.2) +\n",
    "    aes(x=gc_content, y=lfc, fill=gc_content) +\n",
    "    facet_wrap(~genotype) +\n",
    "    scale_y_continuous(limits=c(-8.5,5)) +\n",
    "    theme + \n",
    "    theme(\n",
    "        axis.line = element_blank(),\n",
    "        legend.text=element_blank(),\n",
    "        strip.text.x = element_text(size=8)\n",
    "        ) +\n",
    "    ggthemes::scale_fill_tableau() +\n",
    "    annotate('text', x=6, y=-7, size=7/.pt, label='replace_in\\ninkscape_blah') +\n",
    "    labs(x='GC %', y='mRNA level (log2 a.u.)') +\n",
    "    guides(fill=\"none\")\n",
    "\n",
    "ggsave(\"../figures/sfig4f_gc_lfc_corr.pdf\", width=3.5, height=2)"
   ]
  },
  {
   "cell_type": "code",
   "execution_count": 17,
   "metadata": {
    "vscode": {
     "languageId": "r"
    }
   },
   "outputs": [
    {
     "name": "stderr",
     "output_type": "stream",
     "text": [
      "Warning message:\n",
      "“unnest() has a new interface. See ?unnest for details.\n",
      "Try `df %>% unnest(c(fit, n))`, with `mutate()` if needed”\n"
     ]
    },
    {
     "data": {
      "text/html": [
       "<table class=\"dataframe\">\n",
       "<caption>A grouped_df: 2 × 10</caption>\n",
       "<thead>\n",
       "\t<tr><th scope=col>genotype</th><th scope=col>n</th><th scope=col>estimate</th><th scope=col>statistic</th><th scope=col>p.value</th><th scope=col>parameter</th><th scope=col>conf.low</th><th scope=col>conf.high</th><th scope=col>method</th><th scope=col>alternative</th></tr>\n",
       "\t<tr><th scope=col>&lt;fct&gt;</th><th scope=col>&lt;int&gt;</th><th scope=col>&lt;chr&gt;</th><th scope=col>&lt;dbl&gt;</th><th scope=col>&lt;dbl&gt;</th><th scope=col>&lt;int&gt;</th><th scope=col>&lt;dbl&gt;</th><th scope=col>&lt;dbl&gt;</th><th scope=col>&lt;chr&gt;</th><th scope=col>&lt;chr&gt;</th></tr>\n",
       "</thead>\n",
       "<tbody>\n",
       "\t<tr><td> hel2</td><td>3509</td><td>r=0.35</td><td>21.79970</td><td>6.517490e-99</td><td>3507</td><td>0.3159746</td><td>0.3742627</td><td>Pearson's product-moment correlation</td><td>two.sided</td></tr>\n",
       "\t<tr><td> syh1</td><td>3516</td><td>r=0.25</td><td>15.35607</td><td>1.470874e-51</td><td>3514</td><td>0.2195337</td><td>0.2814925</td><td>Pearson's product-moment correlation</td><td>two.sided</td></tr>\n",
       "</tbody>\n",
       "</table>\n"
      ],
      "text/latex": [
       "A grouped\\_df: 2 × 10\n",
       "\\begin{tabular}{llllllllll}\n",
       " genotype & n & estimate & statistic & p.value & parameter & conf.low & conf.high & method & alternative\\\\\n",
       " <fct> & <int> & <chr> & <dbl> & <dbl> & <int> & <dbl> & <dbl> & <chr> & <chr>\\\\\n",
       "\\hline\n",
       "\t  hel2 & 3509 & r=0.35 & 21.79970 & 6.517490e-99 & 3507 & 0.3159746 & 0.3742627 & Pearson's product-moment correlation & two.sided\\\\\n",
       "\t  syh1 & 3516 & r=0.25 & 15.35607 & 1.470874e-51 & 3514 & 0.2195337 & 0.2814925 & Pearson's product-moment correlation & two.sided\\\\\n",
       "\\end{tabular}\n"
      ],
      "text/markdown": [
       "\n",
       "A grouped_df: 2 × 10\n",
       "\n",
       "| genotype &lt;fct&gt; | n &lt;int&gt; | estimate &lt;chr&gt; | statistic &lt;dbl&gt; | p.value &lt;dbl&gt; | parameter &lt;int&gt; | conf.low &lt;dbl&gt; | conf.high &lt;dbl&gt; | method &lt;chr&gt; | alternative &lt;chr&gt; |\n",
       "|---|---|---|---|---|---|---|---|---|---|\n",
       "|  hel2 | 3509 | r=0.35 | 21.79970 | 6.517490e-99 | 3507 | 0.3159746 | 0.3742627 | Pearson's product-moment correlation | two.sided |\n",
       "|  syh1 | 3516 | r=0.25 | 15.35607 | 1.470874e-51 | 3514 | 0.2195337 | 0.2814925 | Pearson's product-moment correlation | two.sided |\n",
       "\n"
      ],
      "text/plain": [
       "  genotype n    estimate statistic p.value      parameter conf.low  conf.high\n",
       "1  hel2    3509 r=0.35   21.79970  6.517490e-99 3507      0.3159746 0.3742627\n",
       "2  syh1    3516 r=0.25   15.35607  1.470874e-51 3514      0.2195337 0.2814925\n",
       "  method                               alternative\n",
       "1 Pearson's product-moment correlation two.sided  \n",
       "2 Pearson's product-moment correlation two.sided  "
      ]
     },
     "metadata": {},
     "output_type": "display_data"
    }
   ],
   "source": [
    "label_data <- gc_lfc %>% \n",
    "  filter(genotype != 'wt') %>%\n",
    "  mutate(genotype = case_when(genotype == 'wt' ~ 'wild-type',\n",
    "                                genotype == 'hel2' ~ ' hel2',\n",
    "                                genotype == 'syh1' ~ ' syh1')) %>%\n",
    "    mutate(genotype = factor(genotype, levels=c('wild-type', ' hel2', ' syh1'))) %>%\n",
    "  group_by(genotype) %>% \n",
    "  nest() %>% \n",
    "  mutate(n = map_int(data, nrow), fit = map(data, function(df) cor.test(~gc + lfc, data = df))) %>% \n",
    "  mutate(fit = map(fit, broom::tidy)) %>% \n",
    "  unnest(fit, n) %>% \n",
    "  select(-data) %>%\n",
    "  mutate(estimate = paste0(\"r=\", round(estimate, 2)))\n",
    "\n",
    "label_data"
   ]
  },
  {
   "cell_type": "code",
   "execution_count": 18,
   "metadata": {
    "vscode": {
     "languageId": "r"
    }
   },
   "outputs": [
    {
     "name": "stderr",
     "output_type": "stream",
     "text": [
      "Warning message:\n",
      "“\u001b[1m\u001b[22mRemoved 1 rows containing non-finite values (`stat_ydensity()`).”\n",
      "Warning message:\n",
      "“\u001b[1m\u001b[22mRemoved 1 rows containing non-finite values (`stat_ydensity()`).”\n"
     ]
    },
    {
     "data": {
      "image/png": "[encoded data removed]",
      "text/plain": [
       "plot without title"
      ]
     },
     "metadata": {
      "image/png": {
       "height": 72,
       "width": 168
      }
     },
     "output_type": "display_data"
    }
   ],
   "source": [
    "options(repr.plot.width = 2.8, repr.plot.height = 1.2)\n",
    "\n",
    "gc_lfc %>%\n",
    "    mutate(genotype = case_when(genotype == 'wt' ~ 'wild-type',\n",
    "                                genotype == 'hel2' ~ ' hel2',\n",
    "                                genotype == 'syh1' ~ ' syh1')) %>%\n",
    "    mutate(genotype = factor(genotype, levels=c('wild-type', ' hel2', ' syh1'))) %>%\n",
    "    ggplot() +\n",
    "    aes(x=gc3_content, y=lfc, fill=as.factor(gc3_content)) +\n",
    "    facet_wrap(~genotype) +\n",
    "    geom_violin(size=0.2) +\n",
    "    scale_y_continuous(limits=c(-8.5,5)) +\n",
    "    theme + \n",
    "    theme(\n",
    "        axis.line = element_blank(),\n",
    "        legend.text=element_blank(),\n",
    "        strip.text.x = element_text(size=8)\n",
    "        ) +\n",
    "    scale_fill_manual(values=c('0'='#4e79a7', '1'='#76b7b2', '2'='#b07aa1')) +\n",
    "    annotate('text', x=1, y=-7, size=7/.pt, label='replace_in\\ninkscape_blah') +\n",
    "    labs(x='GC3 content', y='mRNA level (log2 a.u.)') +\n",
    "    guides(fill=\"none\")\n",
    "\n",
    "ggsave(\"../figures/sfig4e_wt_gc3_lfc_corr.pdf\", width=2.5, height=2)"
   ]
  },
  {
   "cell_type": "code",
   "execution_count": 19,
   "metadata": {
    "vscode": {
     "languageId": "r"
    }
   },
   "outputs": [
    {
     "name": "stderr",
     "output_type": "stream",
     "text": [
      "Warning message:\n",
      "“unnest() has a new interface. See ?unnest for details.\n",
      "Try `df %>% unnest(c(fit, n))`, with `mutate()` if needed”\n"
     ]
    },
    {
     "data": {
      "text/html": [
       "<table class=\"dataframe\">\n",
       "<caption>A grouped_df: 2 × 10</caption>\n",
       "<thead>\n",
       "\t<tr><th scope=col>genotype</th><th scope=col>n</th><th scope=col>estimate</th><th scope=col>statistic</th><th scope=col>p.value</th><th scope=col>parameter</th><th scope=col>conf.low</th><th scope=col>conf.high</th><th scope=col>method</th><th scope=col>alternative</th></tr>\n",
       "\t<tr><th scope=col>&lt;fct&gt;</th><th scope=col>&lt;int&gt;</th><th scope=col>&lt;chr&gt;</th><th scope=col>&lt;dbl&gt;</th><th scope=col>&lt;dbl&gt;</th><th scope=col>&lt;int&gt;</th><th scope=col>&lt;dbl&gt;</th><th scope=col>&lt;dbl&gt;</th><th scope=col>&lt;chr&gt;</th><th scope=col>&lt;chr&gt;</th></tr>\n",
       "</thead>\n",
       "<tbody>\n",
       "\t<tr><td> hel2</td><td>3509</td><td>r=0.19</td><td>11.74841</td><td>2.755671e-31</td><td>3507</td><td>0.1625513</td><td>0.2262260</td><td>Pearson's product-moment correlation</td><td>two.sided</td></tr>\n",
       "\t<tr><td> syh1</td><td>3516</td><td>r=0.18</td><td>10.95267</td><td>1.785316e-27</td><td>3514</td><td>0.1495315</td><td>0.2134635</td><td>Pearson's product-moment correlation</td><td>two.sided</td></tr>\n",
       "</tbody>\n",
       "</table>\n"
      ],
      "text/latex": [
       "A grouped\\_df: 2 × 10\n",
       "\\begin{tabular}{llllllllll}\n",
       " genotype & n & estimate & statistic & p.value & parameter & conf.low & conf.high & method & alternative\\\\\n",
       " <fct> & <int> & <chr> & <dbl> & <dbl> & <int> & <dbl> & <dbl> & <chr> & <chr>\\\\\n",
       "\\hline\n",
       "\t  hel2 & 3509 & r=0.19 & 11.74841 & 2.755671e-31 & 3507 & 0.1625513 & 0.2262260 & Pearson's product-moment correlation & two.sided\\\\\n",
       "\t  syh1 & 3516 & r=0.18 & 10.95267 & 1.785316e-27 & 3514 & 0.1495315 & 0.2134635 & Pearson's product-moment correlation & two.sided\\\\\n",
       "\\end{tabular}\n"
      ],
      "text/markdown": [
       "\n",
       "A grouped_df: 2 × 10\n",
       "\n",
       "| genotype &lt;fct&gt; | n &lt;int&gt; | estimate &lt;chr&gt; | statistic &lt;dbl&gt; | p.value &lt;dbl&gt; | parameter &lt;int&gt; | conf.low &lt;dbl&gt; | conf.high &lt;dbl&gt; | method &lt;chr&gt; | alternative &lt;chr&gt; |\n",
       "|---|---|---|---|---|---|---|---|---|---|\n",
       "|  hel2 | 3509 | r=0.19 | 11.74841 | 2.755671e-31 | 3507 | 0.1625513 | 0.2262260 | Pearson's product-moment correlation | two.sided |\n",
       "|  syh1 | 3516 | r=0.18 | 10.95267 | 1.785316e-27 | 3514 | 0.1495315 | 0.2134635 | Pearson's product-moment correlation | two.sided |\n",
       "\n"
      ],
      "text/plain": [
       "  genotype n    estimate statistic p.value      parameter conf.low  conf.high\n",
       "1  hel2    3509 r=0.19   11.74841  2.755671e-31 3507      0.1625513 0.2262260\n",
       "2  syh1    3516 r=0.18   10.95267  1.785316e-27 3514      0.1495315 0.2134635\n",
       "  method                               alternative\n",
       "1 Pearson's product-moment correlation two.sided  \n",
       "2 Pearson's product-moment correlation two.sided  "
      ]
     },
     "metadata": {},
     "output_type": "display_data"
    }
   ],
   "source": [
    "label_data <- gc_lfc %>% \n",
    "  mutate(genotype = case_when(genotype == 'wt' ~ 'wild-type',\n",
    "                                genotype == 'hel2' ~ ' hel2',\n",
    "                                genotype == 'syh1' ~ ' syh1')) %>%\n",
    "    mutate(genotype = factor(genotype, levels=c('wild-type', ' hel2', ' syh1'))) %>%\n",
    "  group_by(genotype) %>% \n",
    "  nest() %>% \n",
    "  mutate(n = map_int(data, nrow), fit = map(data, function(df) cor.test(~gc3_content + lfc, data = df))) %>% \n",
    "  mutate(fit = map(fit, broom::tidy)) %>% \n",
    "  unnest(fit, n) %>% \n",
    "  select(-data) %>%\n",
    "  mutate(estimate = paste0(\"r=\", round(estimate, 2)))\n",
    "\n",
    "label_data"
   ]
  },
  {
   "attachments": {},
   "cell_type": "markdown",
   "metadata": {},
   "source": [
    "### Plot targeted deep-seq for Hel2-del"
   ]
  },
  {
   "cell_type": "code",
   "execution_count": 20,
   "metadata": {
    "vscode": {
     "languageId": "r"
    }
   },
   "outputs": [
    {
     "name": "stderr",
     "output_type": "stream",
     "text": [
      "\u001b[1mRows: \u001b[22m\u001b[34m1209\u001b[39m \u001b[1mColumns: \u001b[22m\u001b[34m5\u001b[39m\n",
      "\u001b[36m──\u001b[39m \u001b[1mColumn specification\u001b[22m \u001b[36m────────────────────────────────────────────────────────\u001b[39m\n",
      "\u001b[1mDelimiter:\u001b[22m \",\"\n",
      "\u001b[31mchr\u001b[39m (4): barcode_count, insert_num, barcode, linkage_count\n",
      "\u001b[32mdbl\u001b[39m (1): barcode_num\n",
      "\n",
      "\u001b[36mℹ\u001b[39m Use `spec()` to retrieve the full column specification for this data.\n",
      "\u001b[36mℹ\u001b[39m Specify the column types or set `show_col_types = FALSE` to quiet this message.\n",
      "\u001b[1mRows: \u001b[22m\u001b[34m1209\u001b[39m \u001b[1mColumns: \u001b[22m\u001b[34m5\u001b[39m\n",
      "\u001b[36m──\u001b[39m \u001b[1mColumn specification\u001b[22m \u001b[36m────────────────────────────────────────────────────────\u001b[39m\n",
      "\u001b[1mDelimiter:\u001b[22m \",\"\n",
      "\u001b[31mchr\u001b[39m (4): barcode_count, insert_num, barcode, linkage_count\n",
      "\u001b[32mdbl\u001b[39m (1): barcode_num\n",
      "\n",
      "\u001b[36mℹ\u001b[39m Use `spec()` to retrieve the full column specification for this data.\n",
      "\u001b[36mℹ\u001b[39m Specify the column types or set `show_col_types = FALSE` to quiet this message.\n",
      "\u001b[1mRows: \u001b[22m\u001b[34m922\u001b[39m \u001b[1mColumns: \u001b[22m\u001b[34m5\u001b[39m\n",
      "\u001b[36m──\u001b[39m \u001b[1mColumn specification\u001b[22m \u001b[36m────────────────────────────────────────────────────────\u001b[39m\n",
      "\u001b[1mDelimiter:\u001b[22m \",\"\n",
      "\u001b[31mchr\u001b[39m (4): barcode_count, insert_num, barcode, linkage_count\n",
      "\u001b[32mdbl\u001b[39m (1): barcode_num\n",
      "\n",
      "\u001b[36mℹ\u001b[39m Use `spec()` to retrieve the full column specification for this data.\n",
      "\u001b[36mℹ\u001b[39m Specify the column types or set `show_col_types = FALSE` to quiet this message.\n",
      "\u001b[1mRows: \u001b[22m\u001b[34m915\u001b[39m \u001b[1mColumns: \u001b[22m\u001b[34m5\u001b[39m\n",
      "\u001b[36m──\u001b[39m \u001b[1mColumn specification\u001b[22m \u001b[36m────────────────────────────────────────────────────────\u001b[39m\n",
      "\u001b[1mDelimiter:\u001b[22m \",\"\n",
      "\u001b[31mchr\u001b[39m (4): barcode_count, insert_num, barcode, linkage_count\n",
      "\u001b[32mdbl\u001b[39m (1): barcode_num\n",
      "\n",
      "\u001b[36mℹ\u001b[39m Use `spec()` to retrieve the full column specification for this data.\n",
      "\u001b[36mℹ\u001b[39m Specify the column types or set `show_col_types = FALSE` to quiet this message.\n",
      "Warning message:\n",
      "“`cols` is now required when using unnest().\n",
      "Please use `cols = c(counts)`”\n",
      "Warning message in mask$eval_all_mutate(quo):\n",
      "“NAs introduced by coercion”\n",
      "Warning message in mask$eval_all_mutate(quo):\n",
      "“NAs introduced by coercion”\n"
     ]
    }
   ],
   "source": [
    "barcode_counts_mini  <- list.files(\"../../wt_hel2_mini_pool/data/linked_barcode_counts/\", pattern = \".csv$\", full.names = T) %>% \n",
    "  enframe(\"sno\", \"file\") %>% \n",
    "  mutate(counts = map(file, read_csv)) %>% \n",
    "  mutate(sample_name = str_extract(file, \"[^/]+(?=.csv)\")) %>% \n",
    "  select(-sno, -file) %>% \n",
    "  unnest() %>% \n",
    "  mutate(insert_num = as.numeric(str_extract(insert_num, \"[:digit:]+\"))) %>%\n",
    "  mutate(barcode_count = as.numeric(barcode_count)) %>%\n",
    "  mutate(linkage_count = as.numeric(linkage_count))"
   ]
  },
  {
   "cell_type": "code",
   "execution_count": 21,
   "metadata": {
    "vscode": {
     "languageId": "r"
    }
   },
   "outputs": [
    {
     "name": "stderr",
     "output_type": "stream",
     "text": [
      "\u001b[1mRows: \u001b[22m\u001b[34m13\u001b[39m \u001b[1mColumns: \u001b[22m\u001b[34m2\u001b[39m\n",
      "\u001b[36m──\u001b[39m \u001b[1mColumn specification\u001b[22m \u001b[36m────────────────────────────────────────────────────────\u001b[39m\n",
      "\u001b[1mDelimiter:\u001b[22m \",\"\n",
      "\u001b[31mchr\u001b[39m (1): insert\n",
      "\u001b[32mdbl\u001b[39m (1): insert_num\n",
      "\n",
      "\u001b[36mℹ\u001b[39m Use `spec()` to retrieve the full column specification for this data.\n",
      "\u001b[36mℹ\u001b[39m Specify the column types or set `show_col_types = FALSE` to quiet this message.\n",
      "Warning message in .Call2(\"DNAStringSet_translate\", x, skip_code, dna_codes[codon_alphabet], :\n",
      "“in 'x[[1]]': last 2 bases were ignored”\n",
      "Warning message in .Call2(\"DNAStringSet_translate\", x, skip_code, dna_codes[codon_alphabet], :\n",
      "“in 'x[[2]]': last 2 bases were ignored”\n",
      "Warning message in .Call2(\"DNAStringSet_translate\", x, skip_code, dna_codes[codon_alphabet], :\n",
      "“in 'x[[3]]': last 2 bases were ignored”\n",
      "Warning message in .Call2(\"DNAStringSet_translate\", x, skip_code, dna_codes[codon_alphabet], :\n",
      "“in 'x[[4]]': last 2 bases were ignored”\n",
      "Warning message in .Call2(\"DNAStringSet_translate\", x, skip_code, dna_codes[codon_alphabet], :\n",
      "“in 'x[[5]]': last 2 bases were ignored”\n",
      "Warning message in .Call2(\"DNAStringSet_translate\", x, skip_code, dna_codes[codon_alphabet], :\n",
      "“in 'x[[6]]': last 2 bases were ignored”\n",
      "Warning message in .Call2(\"DNAStringSet_translate\", x, skip_code, dna_codes[codon_alphabet], :\n",
      "“in 'x[[7]]': last 2 bases were ignored”\n",
      "Warning message in .Call2(\"DNAStringSet_translate\", x, skip_code, dna_codes[codon_alphabet], :\n",
      "“in 'x[[8]]': last 2 bases were ignored”\n",
      "Warning message in .Call2(\"DNAStringSet_translate\", x, skip_code, dna_codes[codon_alphabet], :\n",
      "“in 'x[[9]]': last 2 bases were ignored”\n",
      "Warning message in .Call2(\"DNAStringSet_translate\", x, skip_code, dna_codes[codon_alphabet], :\n",
      "“in 'x[[10]]': last 2 bases were ignored”\n",
      "Warning message in .Call2(\"DNAStringSet_translate\", x, skip_code, dna_codes[codon_alphabet], :\n",
      "“in 'x[[11]]': last 2 bases were ignored”\n",
      "Warning message in .Call2(\"DNAStringSet_translate\", x, skip_code, dna_codes[codon_alphabet], :\n",
      "“in 'x[[12]]': last 2 bases were ignored”\n",
      "Warning message in .Call2(\"DNAStringSet_translate\", x, skip_code, dna_codes[codon_alphabet], :\n",
      "“in 'x[[13]]': last 2 bases were ignored”\n"
     ]
    }
   ],
   "source": [
    "insert_annotations_mini <- read_csv(\"../../mini_8xdicodon_linkage/annotations/dicodon_yeast.csv\") %>%\n",
    "    mutate(diaa = as.character(translate(DNAStringSet(insert), no.init.codon = T))) %>%\n",
    "    mutate(diaa = str_sub(diaa, 9,10)) %>%\n",
    "    mutate(dicodon = str_sub(insert, 25,30)) %>%\n",
    "    mutate(diaa = ifelse(insert_num == 11, 'spikein2', diaa)) %>%\n",
    "    mutate(diaa = ifelse(insert_num == 12, 'spikein2', diaa))"
   ]
  },
  {
   "cell_type": "code",
   "execution_count": 22,
   "metadata": {
    "vscode": {
     "languageId": "r"
    }
   },
   "outputs": [],
   "source": [
    "include <- c(\"AAGGGA\", \"TTAAGT\", \"GTGAAA\", \"AAAGTG\", \"TTTAAG\", \"AAGAAG\")\n",
    "insert_reads_cutoff <- 15\n",
    "AMINO_ACID_CODE[\"*\"] = \"*\"\n",
    "\n",
    "calc_lfc_bootstrap <- function(data, indices) {\n",
    "  d <- data[indices,]\n",
    "  log2(sum(d$mrna)) - log2(sum(d$gdna))\n",
    "}\n",
    "\n",
    "diaa_lfc_boot_wt_mini <- barcode_counts_mini %>%\n",
    "  left_join(insert_annotations_mini, by='insert_num') %>%\n",
    "  mutate(sample_type = str_extract(sample_name, '[^_]+$')) %>%\n",
    "  mutate(genotype = str_extract(sample_name, '[^_]+')) %>%\n",
    "  filter(genotype == 'wt') %>%\n",
    "  select(-barcode, -linkage_count, -sample_name) %>%\n",
    "  pivot_wider(names_from = c(sample_type), values_from = barcode_count) %>%\n",
    "  filter((mrna >= insert_reads_cutoff) & (gdna >= insert_reads_cutoff)) %>%\n",
    "  drop_na() %>%\n",
    "  group_by(insert_num) %>%\n",
    "  nest() %>%\n",
    "  mutate(lfc_boot = map(data, function(df) boot::boot(data=df, statistic=calc_lfc_bootstrap, R=100)$t)) %>%\n",
    "  select(-data) %>%\n",
    "  mutate(lfc = map_dbl(lfc_boot, mean)) %>%\n",
    "  mutate(lfc_sd = map_dbl(lfc_boot, sd)) %>%\n",
    "  select(-lfc_boot) %>%\n",
    "  ungroup() %>%\n",
    "  inner_join(insert_annotations_mini, by = \"insert_num\") %>%\n",
    "  mutate(strain = 'WT')\n",
    "\n",
    "diaa_lfc_boot_hel2_mini <- barcode_counts_mini %>%\n",
    "  left_join(insert_annotations_mini, by='insert_num') %>%\n",
    "  mutate(sample_type = str_extract(sample_name, '[^_]+$')) %>%\n",
    "  mutate(genotype = str_extract(sample_name, '[^_]+')) %>%\n",
    "  filter(genotype == 'hel2') %>%\n",
    "  select(-barcode, -linkage_count, -sample_name) %>%\n",
    "  pivot_wider(names_from = c(sample_type), values_from = barcode_count) %>%\n",
    "  filter((mrna >= insert_reads_cutoff) & (gdna >= insert_reads_cutoff)) %>%\n",
    "  drop_na() %>%\n",
    "  group_by(insert_num) %>%\n",
    "  nest() %>%\n",
    "  mutate(lfc_boot = map(data, function(df) boot::boot(data=df, statistic=calc_lfc_bootstrap, R=100)$t)) %>%\n",
    "  select(-data) %>%\n",
    "  mutate(lfc = map_dbl(lfc_boot, mean)) %>%\n",
    "  mutate(lfc_sd = map_dbl(lfc_boot, sd)) %>%\n",
    "  select(-lfc_boot) %>%\n",
    "  ungroup() %>%\n",
    "  inner_join(insert_annotations_mini, by = \"insert_num\") %>%\n",
    "  mutate(strain = 'Hel2-del')"
   ]
  },
  {
   "cell_type": "code",
   "execution_count": 23,
   "metadata": {
    "vscode": {
     "languageId": "r"
    }
   },
   "outputs": [
    {
     "data": {
      "text/html": [
       "<table class=\"dataframe\">\n",
       "<caption>A tibble: 1 × 2</caption>\n",
       "<thead>\n",
       "\t<tr><th scope=col>avg</th><th scope=col>md</th></tr>\n",
       "\t<tr><th scope=col>&lt;dbl&gt;</th><th scope=col>&lt;dbl&gt;</th></tr>\n",
       "</thead>\n",
       "<tbody>\n",
       "\t<tr><td>77.5</td><td>26.5</td></tr>\n",
       "</tbody>\n",
       "</table>\n"
      ],
      "text/latex": [
       "A tibble: 1 × 2\n",
       "\\begin{tabular}{ll}\n",
       " avg & md\\\\\n",
       " <dbl> & <dbl>\\\\\n",
       "\\hline\n",
       "\t 77.5 & 26.5\\\\\n",
       "\\end{tabular}\n"
      ],
      "text/markdown": [
       "\n",
       "A tibble: 1 × 2\n",
       "\n",
       "| avg &lt;dbl&gt; | md &lt;dbl&gt; |\n",
       "|---|---|\n",
       "| 77.5 | 26.5 |\n",
       "\n"
      ],
      "text/plain": [
       "  avg  md  \n",
       "1 77.5 26.5"
      ]
     },
     "metadata": {},
     "output_type": "display_data"
    },
    {
     "data": {
      "text/html": [
       "<table class=\"dataframe\">\n",
       "<caption>A tibble: 1 × 2</caption>\n",
       "<thead>\n",
       "\t<tr><th scope=col>avg</th><th scope=col>md</th></tr>\n",
       "\t<tr><th scope=col>&lt;dbl&gt;</th><th scope=col>&lt;dbl&gt;</th></tr>\n",
       "</thead>\n",
       "<tbody>\n",
       "\t<tr><td>127.6667</td><td>48</td></tr>\n",
       "</tbody>\n",
       "</table>\n"
      ],
      "text/latex": [
       "A tibble: 1 × 2\n",
       "\\begin{tabular}{ll}\n",
       " avg & md\\\\\n",
       " <dbl> & <dbl>\\\\\n",
       "\\hline\n",
       "\t 127.6667 & 48\\\\\n",
       "\\end{tabular}\n"
      ],
      "text/markdown": [
       "\n",
       "A tibble: 1 × 2\n",
       "\n",
       "| avg &lt;dbl&gt; | md &lt;dbl&gt; |\n",
       "|---|---|\n",
       "| 127.6667 | 48 |\n",
       "\n"
      ],
      "text/plain": [
       "  avg      md\n",
       "1 127.6667 48"
      ]
     },
     "metadata": {},
     "output_type": "display_data"
    }
   ],
   "source": [
    "barcode_counts_mini %>% \n",
    "  filter(str_detect(sample_name,'wt')) %>%\n",
    "  left_join(insert_annotations_mini, by='insert_num') %>%\n",
    "  filter(dicodon %in% include) %>%\n",
    "  mutate(sample_type = str_extract(sample_name, '[^_]+$')) %>%\n",
    "  mutate(genotype = str_extract(sample_name, '[^_]+')) %>%\n",
    "  select(-barcode_num, -sample_name, -linkage_count) %>%\n",
    "  pivot_wider(names_from = sample_type, values_from = barcode_count) %>%\n",
    "  filter((mrna >= insert_reads_cutoff) & (gdna >= insert_reads_cutoff)) %>%\n",
    "  drop_na() %>%\n",
    "  group_by(dicodon) %>%\n",
    "  summarize(n_barc = n()) %>%\n",
    "  mutate(avg = mean(n_barc), md = median(n_barc)) %>%\n",
    "  slice(1) %>%\n",
    "  select(-dicodon, -n_barc)\n",
    "\n",
    "barcode_counts_mini %>% \n",
    "  filter(str_detect(sample_name,'hel2')) %>%\n",
    "  left_join(insert_annotations_mini, by='insert_num') %>%\n",
    "  filter(dicodon %in% include) %>%\n",
    "  mutate(sample_type = str_extract(sample_name, '[^_]+$')) %>%\n",
    "  mutate(genotype = str_extract(sample_name, '[^_]+')) %>%\n",
    "  select(-barcode_num, -sample_name, -linkage_count) %>%\n",
    "  pivot_wider(names_from = sample_type, values_from = barcode_count) %>%\n",
    "  filter((mrna >= insert_reads_cutoff) & (gdna >= insert_reads_cutoff)) %>%\n",
    "  drop_na() %>%\n",
    "  group_by(dicodon) %>%\n",
    "  summarize(n_barc = n()) %>%\n",
    "  mutate(avg = mean(n_barc), md = median(n_barc)) %>%\n",
    "  slice(1) %>%\n",
    "  select(-dicodon, -n_barc)"
   ]
  },
  {
   "cell_type": "code",
   "execution_count": 37,
   "metadata": {
    "vscode": {
     "languageId": "r"
    }
   },
   "outputs": [
    {
     "data": {
      "image/png": "[encoded data removed]",
      "text/plain": [
       "plot without title"
      ]
     },
     "metadata": {
      "image/png": {
       "height": 108,
       "width": 144
      }
     },
     "output_type": "display_data"
    }
   ],
   "source": [
    "options(repr.plot.width = 2.4, repr.plot.height = 1.8)\n",
    "\n",
    "order <- c(\"AAGGGA (KG)\", \"GTGAAA (VK)\", \"AAAGTG (KV)\", \"TTAAGT (LS)\", \"TTTAAG (FK)\", \"AAGAAG (KK)\")\n",
    "\n",
    "plot_data <- bind_rows(diaa_lfc_boot_wt_mini, diaa_lfc_boot_hel2_mini) %>%\n",
    "  filter(dicodon %in% include) %>%\n",
    "  mutate(strain = ifelse(strain == 'WT', 'wild-type', ' hel2')) %>%\n",
    "  group_by(strain) %>%\n",
    "  mutate(lfc_max = lfc - max(lfc)) %>%\n",
    "  mutate(lfc_med = lfc - median(lfc)) %>%\n",
    "  ungroup() %>%\n",
    "  mutate(diaa = str_c(dicodon, \" (\", diaa, \")\")) %>%\n",
    "  mutate(codon = factor(diaa, level=order)) %>%\n",
    "  mutate(strain = factor(strain, levels= c('wild-type', ' hel2')))\n",
    "  \n",
    "plot_data %>%\n",
    "  ggplot(aes(x = lfc_max, y = codon,\n",
    "             xmin = lfc_max - lfc_sd, xmax = lfc_max + lfc_sd, color=strain)) +\n",
    "  geom_errorbar(width=0.3, size=0.2) +\n",
    "  geom_point(size=0.8) +\n",
    "  geom_vline(xintercept=0, color='grey', size=0.1) +\n",
    "  scale_x_continuous(breaks=seq(-1.5, 0.5, 0.5), limits=c(-1.1, 0.25)) +\n",
    "  scale_color_manual(values=c('wild-type'='black', ' hel2'='#E69F00')) +\n",
    "  theme + \n",
    "  theme(\n",
    "      axis.line = element_blank(),\n",
    "      axis.line.x = element_blank(),\n",
    "      axis.line.y = element_blank(),\n",
    "      axis.ticks.y = element_blank(),\n",
    "      panel.grid.major.y = element_line(color='grey', size=0.2),\n",
    "      legend.box.margin=margin(-12,-12,-12,-12)) +\n",
    "  labs(x = \"mRNA level (log2, a.u.)\", y = \"Codon pair\", subtitle='Targeted library', color='')\n",
    "\n",
    "ggsave(\"../figures/sfig4d_targeted_deepseq.pdf\", width=3, height=1.8)"
   ]
  },
  {
   "attachments": {},
   "cell_type": "markdown",
   "metadata": {},
   "source": [
    "### Plot flow data for Hel2-del"
   ]
  },
  {
   "cell_type": "code",
   "execution_count": 25,
   "metadata": {
    "vscode": {
     "languageId": "r"
    }
   },
   "outputs": [],
   "source": [
    "fcsfiles_plate1 <- '../../../../data/flow_cytometry/exp44_plate1' %>% \n",
    "  list.files(full.names = T)\n",
    "\n",
    "samplenames_plate1 <- fcsfiles_plate1 %>% \n",
    "  stringr::str_match('([^/]+).fcs$') %>% \n",
    "  magrittr::extract(,2)"
   ]
  },
  {
   "cell_type": "code",
   "execution_count": 26,
   "metadata": {
    "vscode": {
     "languageId": "r"
    }
   },
   "outputs": [
    {
     "name": "stderr",
     "output_type": "stream",
     "text": [
      "Warning message in readFCSdata(con, offsets, txt, transformation, which.lines, scale, :\n",
      "“Some data values of 'PE.TexasRd.A' channel exceed its $PnR value 262144 and will be truncated!\n",
      " To avoid truncation, either fix $PnR before generating FCS or set 'truncate_max_range = FALSE'”\n",
      "Warning message in readFCSdata(con, offsets, txt, transformation, which.lines, scale, :\n",
      "“Some data values of 'FSC.A' channel exceed its $PnR value 262144 and will be truncated!\n",
      " To avoid truncation, either fix $PnR before generating FCS or set 'truncate_max_range = FALSE'”\n",
      "Warning message in readFCSdata(con, offsets, txt, transformation, which.lines, scale, :\n",
      "“Some data values of 'PE.TexasRd.A' channel exceed its $PnR value 262144 and will be truncated!\n",
      " To avoid truncation, either fix $PnR before generating FCS or set 'truncate_max_range = FALSE'”\n",
      "Warning message in readFCSdata(con, offsets, txt, transformation, which.lines, scale, :\n",
      "“Some data values of 'FSC.A' channel exceed its $PnR value 262144 and will be truncated!\n",
      " To avoid truncation, either fix $PnR before generating FCS or set 'truncate_max_range = FALSE'”\n",
      "Warning message in readFCSdata(con, offsets, txt, transformation, which.lines, scale, :\n",
      "“Some data values of 'PE.TexasRd.A' channel exceed its $PnR value 262144 and will be truncated!\n",
      " To avoid truncation, either fix $PnR before generating FCS or set 'truncate_max_range = FALSE'”\n",
      "Warning message in readFCSdata(con, offsets, txt, transformation, which.lines, scale, :\n",
      "“Some data values of 'PE.TexasRd.A' channel exceed its $PnR value 262144 and will be truncated!\n",
      " To avoid truncation, either fix $PnR before generating FCS or set 'truncate_max_range = FALSE'”\n",
      "Warning message in readFCSdata(con, offsets, txt, transformation, which.lines, scale, :\n",
      "“Some data values of 'PE.TexasRd.A' channel exceed its $PnR value 262144 and will be truncated!\n",
      " To avoid truncation, either fix $PnR before generating FCS or set 'truncate_max_range = FALSE'”\n",
      "Warning message in readFCSdata(con, offsets, txt, transformation, which.lines, scale, :\n",
      "“Some data values of 'PE.TexasRd.A' channel exceed its $PnR value 262144 and will be truncated!\n",
      " To avoid truncation, either fix $PnR before generating FCS or set 'truncate_max_range = FALSE'”\n",
      "Warning message in readFCSdata(con, offsets, txt, transformation, which.lines, scale, :\n",
      "“Some data values of 'PE.TexasRd.A' channel exceed its $PnR value 262144 and will be truncated!\n",
      " To avoid truncation, either fix $PnR before generating FCS or set 'truncate_max_range = FALSE'”\n",
      "Warning message in readFCSdata(con, offsets, txt, transformation, which.lines, scale, :\n",
      "“Some data values of 'PE.TexasRd.A' channel exceed its $PnR value 262144 and will be truncated!\n",
      " To avoid truncation, either fix $PnR before generating FCS or set 'truncate_max_range = FALSE'”\n",
      "Warning message in readFCSdata(con, offsets, txt, transformation, which.lines, scale, :\n",
      "“Some data values of 'FSC.A' channel exceed its $PnR value 262144 and will be truncated!\n",
      " To avoid truncation, either fix $PnR before generating FCS or set 'truncate_max_range = FALSE'”\n",
      "Warning message in readFCSdata(con, offsets, txt, transformation, which.lines, scale, :\n",
      "“Some data values of 'PE.TexasRd.A' channel exceed its $PnR value 262144 and will be truncated!\n",
      " To avoid truncation, either fix $PnR before generating FCS or set 'truncate_max_range = FALSE'”\n",
      "Warning message in readFCSdata(con, offsets, txt, transformation, which.lines, scale, :\n",
      "“Some data values of 'PE.TexasRd.A' channel exceed its $PnR value 262144 and will be truncated!\n",
      " To avoid truncation, either fix $PnR before generating FCS or set 'truncate_max_range = FALSE'”\n",
      "Warning message in readFCSdata(con, offsets, txt, transformation, which.lines, scale, :\n",
      "“Some data values of 'FSC.A' channel exceed its $PnR value 262144 and will be truncated!\n",
      " To avoid truncation, either fix $PnR before generating FCS or set 'truncate_max_range = FALSE'”\n",
      "Warning message in readFCSdata(con, offsets, txt, transformation, which.lines, scale, :\n",
      "“Some data values of 'PE.TexasRd.A' channel exceed its $PnR value 262144 and will be truncated!\n",
      " To avoid truncation, either fix $PnR before generating FCS or set 'truncate_max_range = FALSE'”\n",
      "Warning message in readFCSdata(con, offsets, txt, transformation, which.lines, scale, :\n",
      "“Some data values of 'PE.TexasRd.A' channel exceed its $PnR value 262144 and will be truncated!\n",
      " To avoid truncation, either fix $PnR before generating FCS or set 'truncate_max_range = FALSE'”\n",
      "Warning message in readFCSdata(con, offsets, txt, transformation, which.lines, scale, :\n",
      "“Some data values of 'FSC.A' channel exceed its $PnR value 262144 and will be truncated!\n",
      " To avoid truncation, either fix $PnR before generating FCS or set 'truncate_max_range = FALSE'”\n",
      "Warning message in readFCSdata(con, offsets, txt, transformation, which.lines, scale, :\n",
      "“Some data values of 'SSC.A' channel exceed its $PnR value 262144 and will be truncated!\n",
      " To avoid truncation, either fix $PnR before generating FCS or set 'truncate_max_range = FALSE'”\n",
      "Warning message in readFCSdata(con, offsets, txt, transformation, which.lines, scale, :\n",
      "“Some data values of 'PE.TexasRd.A' channel exceed its $PnR value 262144 and will be truncated!\n",
      " To avoid truncation, either fix $PnR before generating FCS or set 'truncate_max_range = FALSE'”\n",
      "Warning message in readFCSdata(con, offsets, txt, transformation, which.lines, scale, :\n",
      "“Some data values of 'FSC.A' channel exceed its $PnR value 262144 and will be truncated!\n",
      " To avoid truncation, either fix $PnR before generating FCS or set 'truncate_max_range = FALSE'”\n",
      "Warning message in readFCSdata(con, offsets, txt, transformation, which.lines, scale, :\n",
      "“Some data values of 'PE.TexasRd.A' channel exceed its $PnR value 262144 and will be truncated!\n",
      " To avoid truncation, either fix $PnR before generating FCS or set 'truncate_max_range = FALSE'”\n",
      "Warning message in readFCSdata(con, offsets, txt, transformation, which.lines, scale, :\n",
      "“Some data values of 'PE.TexasRd.A' channel exceed its $PnR value 262144 and will be truncated!\n",
      " To avoid truncation, either fix $PnR before generating FCS or set 'truncate_max_range = FALSE'”\n",
      "Warning message in readFCSdata(con, offsets, txt, transformation, which.lines, scale, :\n",
      "“Some data values of 'PE.TexasRd.A' channel exceed its $PnR value 262144 and will be truncated!\n",
      " To avoid truncation, either fix $PnR before generating FCS or set 'truncate_max_range = FALSE'”\n",
      "Warning message in readFCSdata(con, offsets, txt, transformation, which.lines, scale, :\n",
      "“Some data values of 'FSC.A' channel exceed its $PnR value 262144 and will be truncated!\n",
      " To avoid truncation, either fix $PnR before generating FCS or set 'truncate_max_range = FALSE'”\n",
      "Warning message in readFCSdata(con, offsets, txt, transformation, which.lines, scale, :\n",
      "“Some data values of 'PE.TexasRd.A' channel exceed its $PnR value 262144 and will be truncated!\n",
      " To avoid truncation, either fix $PnR before generating FCS or set 'truncate_max_range = FALSE'”\n",
      "Warning message in readFCSdata(con, offsets, txt, transformation, which.lines, scale, :\n",
      "“Some data values of 'FSC.A' channel exceed its $PnR value 262144 and will be truncated!\n",
      " To avoid truncation, either fix $PnR before generating FCS or set 'truncate_max_range = FALSE'”\n",
      "Warning message in readFCSdata(con, offsets, txt, transformation, which.lines, scale, :\n",
      "“Some data values of 'PE.TexasRd.A' channel exceed its $PnR value 262144 and will be truncated!\n",
      " To avoid truncation, either fix $PnR before generating FCS or set 'truncate_max_range = FALSE'”\n",
      "Warning message in readFCSdata(con, offsets, txt, transformation, which.lines, scale, :\n",
      "“Some data values of 'PE.TexasRd.A' channel exceed its $PnR value 262144 and will be truncated!\n",
      " To avoid truncation, either fix $PnR before generating FCS or set 'truncate_max_range = FALSE'”\n",
      "Warning message in readFCSdata(con, offsets, txt, transformation, which.lines, scale, :\n",
      "“Some data values of 'PE.TexasRd.A' channel exceed its $PnR value 262144 and will be truncated!\n",
      " To avoid truncation, either fix $PnR before generating FCS or set 'truncate_max_range = FALSE'”\n",
      "Warning message in readFCSdata(con, offsets, txt, transformation, which.lines, scale, :\n",
      "“Some data values of 'PE.TexasRd.A' channel exceed its $PnR value 262144 and will be truncated!\n",
      " To avoid truncation, either fix $PnR before generating FCS or set 'truncate_max_range = FALSE'”\n",
      "Warning message in readFCSdata(con, offsets, txt, transformation, which.lines, scale, :\n",
      "“Some data values of 'PE.TexasRd.A' channel exceed its $PnR value 262144 and will be truncated!\n",
      " To avoid truncation, either fix $PnR before generating FCS or set 'truncate_max_range = FALSE'”\n",
      "Warning message in readFCSdata(con, offsets, txt, transformation, which.lines, scale, :\n",
      "“Some data values of 'PE.TexasRd.A' channel exceed its $PnR value 262144 and will be truncated!\n",
      " To avoid truncation, either fix $PnR before generating FCS or set 'truncate_max_range = FALSE'”\n",
      "Warning message in readFCSdata(con, offsets, txt, transformation, which.lines, scale, :\n",
      "“Some data values of 'PE.TexasRd.A' channel exceed its $PnR value 262144 and will be truncated!\n",
      " To avoid truncation, either fix $PnR before generating FCS or set 'truncate_max_range = FALSE'”\n",
      "Warning message in readFCSdata(con, offsets, txt, transformation, which.lines, scale, :\n",
      "“Some data values of 'PE.TexasRd.A' channel exceed its $PnR value 262144 and will be truncated!\n",
      " To avoid truncation, either fix $PnR before generating FCS or set 'truncate_max_range = FALSE'”\n",
      "Warning message in readFCSdata(con, offsets, txt, transformation, which.lines, scale, :\n",
      "“Some data values of 'PE.TexasRd.A' channel exceed its $PnR value 262144 and will be truncated!\n",
      " To avoid truncation, either fix $PnR before generating FCS or set 'truncate_max_range = FALSE'”\n",
      "Warning message in readFCSdata(con, offsets, txt, transformation, which.lines, scale, :\n",
      "“Some data values of 'FSC.A' channel exceed its $PnR value 262144 and will be truncated!\n",
      " To avoid truncation, either fix $PnR before generating FCS or set 'truncate_max_range = FALSE'”\n",
      "Warning message in readFCSdata(con, offsets, txt, transformation, which.lines, scale, :\n",
      "“Some data values of 'PE.TexasRd.A' channel exceed its $PnR value 262144 and will be truncated!\n",
      " To avoid truncation, either fix $PnR before generating FCS or set 'truncate_max_range = FALSE'”\n",
      "Warning message in readFCSdata(con, offsets, txt, transformation, which.lines, scale, :\n",
      "“Some data values of 'PE.TexasRd.A' channel exceed its $PnR value 262144 and will be truncated!\n",
      " To avoid truncation, either fix $PnR before generating FCS or set 'truncate_max_range = FALSE'”\n",
      "Warning message in readFCSdata(con, offsets, txt, transformation, which.lines, scale, :\n",
      "“Some data values of 'PE.TexasRd.A' channel exceed its $PnR value 262144 and will be truncated!\n",
      " To avoid truncation, either fix $PnR before generating FCS or set 'truncate_max_range = FALSE'”\n",
      "Warning message in readFCSdata(con, offsets, txt, transformation, which.lines, scale, :\n",
      "“Some data values of 'PE.TexasRd.A' channel exceed its $PnR value 262144 and will be truncated!\n",
      " To avoid truncation, either fix $PnR before generating FCS or set 'truncate_max_range = FALSE'”\n",
      "Warning message in readFCSdata(con, offsets, txt, transformation, which.lines, scale, :\n",
      "“Some data values of 'FSC.A' channel exceed its $PnR value 262144 and will be truncated!\n",
      " To avoid truncation, either fix $PnR before generating FCS or set 'truncate_max_range = FALSE'”\n",
      "Warning message in readFCSdata(con, offsets, txt, transformation, which.lines, scale, :\n",
      "“Some data values of 'PE.TexasRd.A' channel exceed its $PnR value 262144 and will be truncated!\n",
      " To avoid truncation, either fix $PnR before generating FCS or set 'truncate_max_range = FALSE'”\n",
      "Warning message in readFCSdata(con, offsets, txt, transformation, which.lines, scale, :\n",
      "“Some data values of 'FSC.A' channel exceed its $PnR value 262144 and will be truncated!\n",
      " To avoid truncation, either fix $PnR before generating FCS or set 'truncate_max_range = FALSE'”\n",
      "Warning message in readFCSdata(con, offsets, txt, transformation, which.lines, scale, :\n",
      "“Some data values of 'PE.TexasRd.A' channel exceed its $PnR value 262144 and will be truncated!\n",
      " To avoid truncation, either fix $PnR before generating FCS or set 'truncate_max_range = FALSE'”\n",
      "Warning message in readFCSdata(con, offsets, txt, transformation, which.lines, scale, :\n",
      "“Some data values of 'PE.TexasRd.A' channel exceed its $PnR value 262144 and will be truncated!\n",
      " To avoid truncation, either fix $PnR before generating FCS or set 'truncate_max_range = FALSE'”\n",
      "Warning message in readFCSdata(con, offsets, txt, transformation, which.lines, scale, :\n",
      "“Some data values of 'PE.TexasRd.A' channel exceed its $PnR value 262144 and will be truncated!\n",
      " To avoid truncation, either fix $PnR before generating FCS or set 'truncate_max_range = FALSE'”\n",
      "Warning message in readFCSdata(con, offsets, txt, transformation, which.lines, scale, :\n",
      "“Some data values of 'FSC.A' channel exceed its $PnR value 262144 and will be truncated!\n",
      " To avoid truncation, either fix $PnR before generating FCS or set 'truncate_max_range = FALSE'”\n",
      "Warning message in readFCSdata(con, offsets, txt, transformation, which.lines, scale, :\n",
      "“Some data values of 'PE.TexasRd.A' channel exceed its $PnR value 262144 and will be truncated!\n",
      " To avoid truncation, either fix $PnR before generating FCS or set 'truncate_max_range = FALSE'”\n",
      "Warning message in readFCSdata(con, offsets, txt, transformation, which.lines, scale, :\n",
      "“Some data values of 'PE.TexasRd.A' channel exceed its $PnR value 262144 and will be truncated!\n",
      " To avoid truncation, either fix $PnR before generating FCS or set 'truncate_max_range = FALSE'”\n",
      "Warning message in readFCSdata(con, offsets, txt, transformation, which.lines, scale, :\n",
      "“Some data values of 'PE.TexasRd.A' channel exceed its $PnR value 262144 and will be truncated!\n",
      " To avoid truncation, either fix $PnR before generating FCS or set 'truncate_max_range = FALSE'”\n",
      "Warning message in readFCSdata(con, offsets, txt, transformation, which.lines, scale, :\n",
      "“Some data values of 'PE.TexasRd.A' channel exceed its $PnR value 262144 and will be truncated!\n",
      " To avoid truncation, either fix $PnR before generating FCS or set 'truncate_max_range = FALSE'”\n",
      "Warning message in readFCSdata(con, offsets, txt, transformation, which.lines, scale, :\n",
      "“Some data values of 'FSC.A' channel exceed its $PnR value 262144 and will be truncated!\n",
      " To avoid truncation, either fix $PnR before generating FCS or set 'truncate_max_range = FALSE'”\n",
      "Warning message in readFCSdata(con, offsets, txt, transformation, which.lines, scale, :\n",
      "“Some data values of 'PE.TexasRd.A' channel exceed its $PnR value 262144 and will be truncated!\n",
      " To avoid truncation, either fix $PnR before generating FCS or set 'truncate_max_range = FALSE'”\n",
      "Warning message in readFCSdata(con, offsets, txt, transformation, which.lines, scale, :\n",
      "“Some data values of 'FSC.A' channel exceed its $PnR value 262144 and will be truncated!\n",
      " To avoid truncation, either fix $PnR before generating FCS or set 'truncate_max_range = FALSE'”\n",
      "Warning message in readFCSdata(con, offsets, txt, transformation, which.lines, scale, :\n",
      "“Some data values of 'PE.TexasRd.A' channel exceed its $PnR value 262144 and will be truncated!\n",
      " To avoid truncation, either fix $PnR before generating FCS or set 'truncate_max_range = FALSE'”\n",
      "Warning message in readFCSdata(con, offsets, txt, transformation, which.lines, scale, :\n",
      "“Some data values of 'PE.TexasRd.A' channel exceed its $PnR value 262144 and will be truncated!\n",
      " To avoid truncation, either fix $PnR before generating FCS or set 'truncate_max_range = FALSE'”\n",
      "Warning message in readFCSdata(con, offsets, txt, transformation, which.lines, scale, :\n",
      "“Some data values of 'FSC.A' channel exceed its $PnR value 262144 and will be truncated!\n",
      " To avoid truncation, either fix $PnR before generating FCS or set 'truncate_max_range = FALSE'”\n",
      "Warning message in readFCSdata(con, offsets, txt, transformation, which.lines, scale, :\n",
      "“Some data values of 'SSC.A' channel exceed its $PnR value 262144 and will be truncated!\n",
      " To avoid truncation, either fix $PnR before generating FCS or set 'truncate_max_range = FALSE'”\n",
      "Warning message in readFCSdata(con, offsets, txt, transformation, which.lines, scale, :\n",
      "“Some data values of 'PE.TexasRd.A' channel exceed its $PnR value 262144 and will be truncated!\n",
      " To avoid truncation, either fix $PnR before generating FCS or set 'truncate_max_range = FALSE'”\n",
      "Warning message in readFCSdata(con, offsets, txt, transformation, which.lines, scale, :\n",
      "“Some data values of 'PE.TexasRd.A' channel exceed its $PnR value 262144 and will be truncated!\n",
      " To avoid truncation, either fix $PnR before generating FCS or set 'truncate_max_range = FALSE'”\n",
      "Warning message in readFCSdata(con, offsets, txt, transformation, which.lines, scale, :\n",
      "“Some data values of 'PE.TexasRd.A' channel exceed its $PnR value 262144 and will be truncated!\n",
      " To avoid truncation, either fix $PnR before generating FCS or set 'truncate_max_range = FALSE'”\n",
      "Warning message in readFCSdata(con, offsets, txt, transformation, which.lines, scale, :\n",
      "“Some data values of 'PE.TexasRd.A' channel exceed its $PnR value 262144 and will be truncated!\n",
      " To avoid truncation, either fix $PnR before generating FCS or set 'truncate_max_range = FALSE'”\n",
      "Warning message in readFCSdata(con, offsets, txt, transformation, which.lines, scale, :\n",
      "“Some data values of 'PE.TexasRd.A' channel exceed its $PnR value 262144 and will be truncated!\n",
      " To avoid truncation, either fix $PnR before generating FCS or set 'truncate_max_range = FALSE'”\n",
      "Warning message in readFCSdata(con, offsets, txt, transformation, which.lines, scale, :\n",
      "“Some data values of 'PE.TexasRd.A' channel exceed its $PnR value 262144 and will be truncated!\n",
      " To avoid truncation, either fix $PnR before generating FCS or set 'truncate_max_range = FALSE'”\n",
      "Warning message in readFCSdata(con, offsets, txt, transformation, which.lines, scale, :\n",
      "“Some data values of 'PE.TexasRd.A' channel exceed its $PnR value 262144 and will be truncated!\n",
      " To avoid truncation, either fix $PnR before generating FCS or set 'truncate_max_range = FALSE'”\n",
      "Warning message in readFCSdata(con, offsets, txt, transformation, which.lines, scale, :\n",
      "“Some data values of 'PE.TexasRd.A' channel exceed its $PnR value 262144 and will be truncated!\n",
      " To avoid truncation, either fix $PnR before generating FCS or set 'truncate_max_range = FALSE'”\n",
      "Warning message in readFCSdata(con, offsets, txt, transformation, which.lines, scale, :\n",
      "“Some data values of 'FSC.A' channel exceed its $PnR value 262144 and will be truncated!\n",
      " To avoid truncation, either fix $PnR before generating FCS or set 'truncate_max_range = FALSE'”\n",
      "Warning message in readFCSdata(con, offsets, txt, transformation, which.lines, scale, :\n",
      "“Some data values of 'PE.TexasRd.A' channel exceed its $PnR value 262144 and will be truncated!\n",
      " To avoid truncation, either fix $PnR before generating FCS or set 'truncate_max_range = FALSE'”\n",
      "Warning message in readFCSdata(con, offsets, txt, transformation, which.lines, scale, :\n",
      "“Some data values of 'FSC.A' channel exceed its $PnR value 262144 and will be truncated!\n",
      " To avoid truncation, either fix $PnR before generating FCS or set 'truncate_max_range = FALSE'”\n",
      "Warning message in readFCSdata(con, offsets, txt, transformation, which.lines, scale, :\n",
      "“Some data values of 'SSC.A' channel exceed its $PnR value 262144 and will be truncated!\n",
      " To avoid truncation, either fix $PnR before generating FCS or set 'truncate_max_range = FALSE'”\n",
      "Warning message in readFCSdata(con, offsets, txt, transformation, which.lines, scale, :\n",
      "“Some data values of 'PE.TexasRd.A' channel exceed its $PnR value 262144 and will be truncated!\n",
      " To avoid truncation, either fix $PnR before generating FCS or set 'truncate_max_range = FALSE'”\n",
      "Warning message in readFCSdata(con, offsets, txt, transformation, which.lines, scale, :\n",
      "“Some data values of 'PE.TexasRd.A' channel exceed its $PnR value 262144 and will be truncated!\n",
      " To avoid truncation, either fix $PnR before generating FCS or set 'truncate_max_range = FALSE'”\n",
      "Warning message in readFCSdata(con, offsets, txt, transformation, which.lines, scale, :\n",
      "“Some data values of 'FSC.A' channel exceed its $PnR value 262144 and will be truncated!\n",
      " To avoid truncation, either fix $PnR before generating FCS or set 'truncate_max_range = FALSE'”\n",
      "Warning message in readFCSdata(con, offsets, txt, transformation, which.lines, scale, :\n",
      "“Some data values of 'PE.TexasRd.A' channel exceed its $PnR value 262144 and will be truncated!\n",
      " To avoid truncation, either fix $PnR before generating FCS or set 'truncate_max_range = FALSE'”\n",
      "Warning message:\n",
      "“\u001b[1m\u001b[22m`funs()` was deprecated in dplyr 0.8.0.\n",
      "\u001b[36mℹ\u001b[39m Please use a list of either functions or lambdas:\n",
      "\n",
      "# Simple named list: list(mean = mean, median = median)\n",
      "\n",
      "# Auto named with `tibble::lst()`: tibble::lst(mean, median)\n",
      "\n",
      "# Using lambdas list(~ mean(., trim = .2), ~ median(., na.rm = TRUE))”\n"
     ]
    }
   ],
   "source": [
    "flowdata_plate1  <- fcsfiles_plate1 %>% \n",
    "  lapply(. %>%\n",
    "         flowCore::read.FCS(transformation = F, alter.names = T) %>% \n",
    "         flowCore::exprs() %>%\n",
    "         as_tibble()) %>%\n",
    "  set_names(samplenames_plate1) %>% \n",
    "  bind_rows(.id = 'file') %>% \n",
    "  mutate_at(vars(contains('FITC|TexasRd')), funs(. - 2 * min(.)))  %>%\n",
    "  mutate(tube = as.integer(str_extract(file, \"[:digit:]+$\")))"
   ]
  },
  {
   "cell_type": "code",
   "execution_count": 27,
   "metadata": {
    "vscode": {
     "languageId": "r"
    }
   },
   "outputs": [
    {
     "name": "stderr",
     "output_type": "stream",
     "text": [
      "\u001b[1mRows: \u001b[22m\u001b[34m96\u001b[39m \u001b[1mColumns: \u001b[22m\u001b[34m7\u001b[39m\n",
      "\u001b[36m──\u001b[39m \u001b[1mColumn specification\u001b[22m \u001b[36m────────────────────────────────────────────────────────\u001b[39m\n",
      "\u001b[1mDelimiter:\u001b[22m \",\"\n",
      "\u001b[31mchr\u001b[39m (6): Desc, plasmid_RefID, parent_strain, flow_label, file, order\n",
      "\u001b[32mdbl\u001b[39m (1): plate\n",
      "\n",
      "\u001b[36mℹ\u001b[39m Use `spec()` to retrieve the full column specification for this data.\n",
      "\u001b[36mℹ\u001b[39m Specify the column types or set `show_col_types = FALSE` to quiet this message.\n"
     ]
    }
   ],
   "source": [
    "annotations_plate1 <- read_csv(\"../../../flow_cytometry/wt_hel2_8xdicodon/annotations/sample_annotations_plates.csv\") %>% \n",
    "  filter(plate == \"1\") %>%\n",
    "  janitor::clean_names() %>% \n",
    "  mutate(file = str_extract(file, '([a-zA-Z]*)_([:digit:]+)_([A-Z][:digit:]+)_([A-Z][:digit:]+)'))"
   ]
  },
  {
   "cell_type": "code",
   "execution_count": 28,
   "metadata": {
    "vscode": {
     "languageId": "r"
    }
   },
   "outputs": [],
   "source": [
    "data1 <- flowdata_plate1 %>% \n",
    "  left_join(annotations_plate1, by = 'file') %>%\n",
    "  select(-tube, -plate)"
   ]
  },
  {
   "cell_type": "code",
   "execution_count": 29,
   "metadata": {
    "vscode": {
     "languageId": "r"
    }
   },
   "outputs": [
    {
     "name": "stderr",
     "output_type": "stream",
     "text": [
      "Warning message in readFCSdata(con, offsets, txt, transformation, which.lines, scale, :\n",
      "“Some data values of 'FSC.A' channel exceed its $PnR value 262144 and will be truncated!\n",
      " To avoid truncation, either fix $PnR before generating FCS or set 'truncate_max_range = FALSE'”\n",
      "Warning message in readFCSdata(con, offsets, txt, transformation, which.lines, scale, :\n",
      "“Some data values of 'SSC.A' channel exceed its $PnR value 262144 and will be truncated!\n",
      " To avoid truncation, either fix $PnR before generating FCS or set 'truncate_max_range = FALSE'”\n",
      "Warning message in readFCSdata(con, offsets, txt, transformation, which.lines, scale, :\n",
      "“Some data values of 'PE.TexasRd.A' channel exceed its $PnR value 262144 and will be truncated!\n",
      " To avoid truncation, either fix $PnR before generating FCS or set 'truncate_max_range = FALSE'”\n",
      "Warning message in readFCSdata(con, offsets, txt, transformation, which.lines, scale, :\n",
      "“Some data values of 'PE.TexasRd.A' channel exceed its $PnR value 262144 and will be truncated!\n",
      " To avoid truncation, either fix $PnR before generating FCS or set 'truncate_max_range = FALSE'”\n",
      "Warning message in readFCSdata(con, offsets, txt, transformation, which.lines, scale, :\n",
      "“Some data values of 'PE.TexasRd.A' channel exceed its $PnR value 262144 and will be truncated!\n",
      " To avoid truncation, either fix $PnR before generating FCS or set 'truncate_max_range = FALSE'”\n",
      "Warning message in readFCSdata(con, offsets, txt, transformation, which.lines, scale, :\n",
      "“Some data values of 'PE.TexasRd.A' channel exceed its $PnR value 262144 and will be truncated!\n",
      " To avoid truncation, either fix $PnR before generating FCS or set 'truncate_max_range = FALSE'”\n",
      "Warning message in readFCSdata(con, offsets, txt, transformation, which.lines, scale, :\n",
      "“Some data values of 'PE.TexasRd.A' channel exceed its $PnR value 262144 and will be truncated!\n",
      " To avoid truncation, either fix $PnR before generating FCS or set 'truncate_max_range = FALSE'”\n",
      "Warning message in readFCSdata(con, offsets, txt, transformation, which.lines, scale, :\n",
      "“Some data values of 'PE.TexasRd.A' channel exceed its $PnR value 262144 and will be truncated!\n",
      " To avoid truncation, either fix $PnR before generating FCS or set 'truncate_max_range = FALSE'”\n",
      "Warning message in readFCSdata(con, offsets, txt, transformation, which.lines, scale, :\n",
      "“Some data values of 'PE.TexasRd.A' channel exceed its $PnR value 262144 and will be truncated!\n",
      " To avoid truncation, either fix $PnR before generating FCS or set 'truncate_max_range = FALSE'”\n",
      "Warning message in readFCSdata(con, offsets, txt, transformation, which.lines, scale, :\n",
      "“Some data values of 'PE.TexasRd.A' channel exceed its $PnR value 262144 and will be truncated!\n",
      " To avoid truncation, either fix $PnR before generating FCS or set 'truncate_max_range = FALSE'”\n",
      "Warning message in readFCSdata(con, offsets, txt, transformation, which.lines, scale, :\n",
      "“Some data values of 'PE.TexasRd.A' channel exceed its $PnR value 262144 and will be truncated!\n",
      " To avoid truncation, either fix $PnR before generating FCS or set 'truncate_max_range = FALSE'”\n",
      "Warning message in readFCSdata(con, offsets, txt, transformation, which.lines, scale, :\n",
      "“Some data values of 'PE.TexasRd.A' channel exceed its $PnR value 262144 and will be truncated!\n",
      " To avoid truncation, either fix $PnR before generating FCS or set 'truncate_max_range = FALSE'”\n",
      "Warning message in readFCSdata(con, offsets, txt, transformation, which.lines, scale, :\n",
      "“Some data values of 'PE.TexasRd.A' channel exceed its $PnR value 262144 and will be truncated!\n",
      " To avoid truncation, either fix $PnR before generating FCS or set 'truncate_max_range = FALSE'”\n",
      "Warning message in readFCSdata(con, offsets, txt, transformation, which.lines, scale, :\n",
      "“Some data values of 'PE.TexasRd.A' channel exceed its $PnR value 262144 and will be truncated!\n",
      " To avoid truncation, either fix $PnR before generating FCS or set 'truncate_max_range = FALSE'”\n",
      "Warning message in readFCSdata(con, offsets, txt, transformation, which.lines, scale, :\n",
      "“Some data values of 'PE.TexasRd.A' channel exceed its $PnR value 262144 and will be truncated!\n",
      " To avoid truncation, either fix $PnR before generating FCS or set 'truncate_max_range = FALSE'”\n",
      "Warning message in readFCSdata(con, offsets, txt, transformation, which.lines, scale, :\n",
      "“Some data values of 'PE.TexasRd.A' channel exceed its $PnR value 262144 and will be truncated!\n",
      " To avoid truncation, either fix $PnR before generating FCS or set 'truncate_max_range = FALSE'”\n",
      "Warning message in readFCSdata(con, offsets, txt, transformation, which.lines, scale, :\n",
      "“Some data values of 'FSC.A' channel exceed its $PnR value 262144 and will be truncated!\n",
      " To avoid truncation, either fix $PnR before generating FCS or set 'truncate_max_range = FALSE'”\n",
      "Warning message in readFCSdata(con, offsets, txt, transformation, which.lines, scale, :\n",
      "“Some data values of 'PE.TexasRd.A' channel exceed its $PnR value 262144 and will be truncated!\n",
      " To avoid truncation, either fix $PnR before generating FCS or set 'truncate_max_range = FALSE'”\n",
      "Warning message in readFCSdata(con, offsets, txt, transformation, which.lines, scale, :\n",
      "“Some data values of 'PE.TexasRd.A' channel exceed its $PnR value 262144 and will be truncated!\n",
      " To avoid truncation, either fix $PnR before generating FCS or set 'truncate_max_range = FALSE'”\n",
      "Warning message in readFCSdata(con, offsets, txt, transformation, which.lines, scale, :\n",
      "“Some data values of 'PE.TexasRd.A' channel exceed its $PnR value 262144 and will be truncated!\n",
      " To avoid truncation, either fix $PnR before generating FCS or set 'truncate_max_range = FALSE'”\n",
      "Warning message in readFCSdata(con, offsets, txt, transformation, which.lines, scale, :\n",
      "“Some data values of 'PE.TexasRd.A' channel exceed its $PnR value 262144 and will be truncated!\n",
      " To avoid truncation, either fix $PnR before generating FCS or set 'truncate_max_range = FALSE'”\n",
      "Warning message in readFCSdata(con, offsets, txt, transformation, which.lines, scale, :\n",
      "“Some data values of 'PE.TexasRd.A' channel exceed its $PnR value 262144 and will be truncated!\n",
      " To avoid truncation, either fix $PnR before generating FCS or set 'truncate_max_range = FALSE'”\n",
      "Warning message in readFCSdata(con, offsets, txt, transformation, which.lines, scale, :\n",
      "“Some data values of 'PE.TexasRd.A' channel exceed its $PnR value 262144 and will be truncated!\n",
      " To avoid truncation, either fix $PnR before generating FCS or set 'truncate_max_range = FALSE'”\n",
      "Warning message in readFCSdata(con, offsets, txt, transformation, which.lines, scale, :\n",
      "“Some data values of 'PE.TexasRd.A' channel exceed its $PnR value 262144 and will be truncated!\n",
      " To avoid truncation, either fix $PnR before generating FCS or set 'truncate_max_range = FALSE'”\n",
      "Warning message in readFCSdata(con, offsets, txt, transformation, which.lines, scale, :\n",
      "“Some data values of 'PE.TexasRd.A' channel exceed its $PnR value 262144 and will be truncated!\n",
      " To avoid truncation, either fix $PnR before generating FCS or set 'truncate_max_range = FALSE'”\n",
      "Warning message in readFCSdata(con, offsets, txt, transformation, which.lines, scale, :\n",
      "“Some data values of 'FSC.A' channel exceed its $PnR value 262144 and will be truncated!\n",
      " To avoid truncation, either fix $PnR before generating FCS or set 'truncate_max_range = FALSE'”\n",
      "Warning message in readFCSdata(con, offsets, txt, transformation, which.lines, scale, :\n",
      "“Some data values of 'PE.TexasRd.A' channel exceed its $PnR value 262144 and will be truncated!\n",
      " To avoid truncation, either fix $PnR before generating FCS or set 'truncate_max_range = FALSE'”\n",
      "Warning message in readFCSdata(con, offsets, txt, transformation, which.lines, scale, :\n",
      "“Some data values of 'PE.TexasRd.A' channel exceed its $PnR value 262144 and will be truncated!\n",
      " To avoid truncation, either fix $PnR before generating FCS or set 'truncate_max_range = FALSE'”\n",
      "Warning message in readFCSdata(con, offsets, txt, transformation, which.lines, scale, :\n",
      "“Some data values of 'PE.TexasRd.A' channel exceed its $PnR value 262144 and will be truncated!\n",
      " To avoid truncation, either fix $PnR before generating FCS or set 'truncate_max_range = FALSE'”\n",
      "Warning message in readFCSdata(con, offsets, txt, transformation, which.lines, scale, :\n",
      "“Some data values of 'FSC.A' channel exceed its $PnR value 262144 and will be truncated!\n",
      " To avoid truncation, either fix $PnR before generating FCS or set 'truncate_max_range = FALSE'”\n",
      "Warning message in readFCSdata(con, offsets, txt, transformation, which.lines, scale, :\n",
      "“Some data values of 'PE.TexasRd.A' channel exceed its $PnR value 262144 and will be truncated!\n",
      " To avoid truncation, either fix $PnR before generating FCS or set 'truncate_max_range = FALSE'”\n",
      "Warning message in readFCSdata(con, offsets, txt, transformation, which.lines, scale, :\n",
      "“Some data values of 'FSC.A' channel exceed its $PnR value 262144 and will be truncated!\n",
      " To avoid truncation, either fix $PnR before generating FCS or set 'truncate_max_range = FALSE'”\n",
      "Warning message in readFCSdata(con, offsets, txt, transformation, which.lines, scale, :\n",
      "“Some data values of 'SSC.A' channel exceed its $PnR value 262144 and will be truncated!\n",
      " To avoid truncation, either fix $PnR before generating FCS or set 'truncate_max_range = FALSE'”\n",
      "Warning message in readFCSdata(con, offsets, txt, transformation, which.lines, scale, :\n",
      "“Some data values of 'PE.TexasRd.A' channel exceed its $PnR value 262144 and will be truncated!\n",
      " To avoid truncation, either fix $PnR before generating FCS or set 'truncate_max_range = FALSE'”\n",
      "Warning message in readFCSdata(con, offsets, txt, transformation, which.lines, scale, :\n",
      "“Some data values of 'FSC.A' channel exceed its $PnR value 262144 and will be truncated!\n",
      " To avoid truncation, either fix $PnR before generating FCS or set 'truncate_max_range = FALSE'”\n",
      "Warning message in readFCSdata(con, offsets, txt, transformation, which.lines, scale, :\n",
      "“Some data values of 'SSC.A' channel exceed its $PnR value 262144 and will be truncated!\n",
      " To avoid truncation, either fix $PnR before generating FCS or set 'truncate_max_range = FALSE'”\n",
      "Warning message in readFCSdata(con, offsets, txt, transformation, which.lines, scale, :\n",
      "“Some data values of 'PE.TexasRd.A' channel exceed its $PnR value 262144 and will be truncated!\n",
      " To avoid truncation, either fix $PnR before generating FCS or set 'truncate_max_range = FALSE'”\n",
      "Warning message in readFCSdata(con, offsets, txt, transformation, which.lines, scale, :\n",
      "“Some data values of 'PE.TexasRd.A' channel exceed its $PnR value 262144 and will be truncated!\n",
      " To avoid truncation, either fix $PnR before generating FCS or set 'truncate_max_range = FALSE'”\n",
      "Warning message in readFCSdata(con, offsets, txt, transformation, which.lines, scale, :\n",
      "“Some data values of 'PE.TexasRd.A' channel exceed its $PnR value 262144 and will be truncated!\n",
      " To avoid truncation, either fix $PnR before generating FCS or set 'truncate_max_range = FALSE'”\n",
      "Warning message in readFCSdata(con, offsets, txt, transformation, which.lines, scale, :\n",
      "“Some data values of 'SSC.A' channel exceed its $PnR value 262144 and will be truncated!\n",
      " To avoid truncation, either fix $PnR before generating FCS or set 'truncate_max_range = FALSE'”\n",
      "Warning message in readFCSdata(con, offsets, txt, transformation, which.lines, scale, :\n",
      "“Some data values of 'PE.TexasRd.A' channel exceed its $PnR value 262144 and will be truncated!\n",
      " To avoid truncation, either fix $PnR before generating FCS or set 'truncate_max_range = FALSE'”\n",
      "Warning message in readFCSdata(con, offsets, txt, transformation, which.lines, scale, :\n",
      "“Some data values of 'PE.TexasRd.A' channel exceed its $PnR value 262144 and will be truncated!\n",
      " To avoid truncation, either fix $PnR before generating FCS or set 'truncate_max_range = FALSE'”\n",
      "Warning message in readFCSdata(con, offsets, txt, transformation, which.lines, scale, :\n",
      "“Some data values of 'SSC.A' channel exceed its $PnR value 262144 and will be truncated!\n",
      " To avoid truncation, either fix $PnR before generating FCS or set 'truncate_max_range = FALSE'”\n",
      "\u001b[1mRows: \u001b[22m\u001b[34m96\u001b[39m \u001b[1mColumns: \u001b[22m\u001b[34m7\u001b[39m\n",
      "\u001b[36m──\u001b[39m \u001b[1mColumn specification\u001b[22m \u001b[36m────────────────────────────────────────────────────────\u001b[39m\n",
      "\u001b[1mDelimiter:\u001b[22m \",\"\n",
      "\u001b[31mchr\u001b[39m (6): Desc, plasmid_RefID, parent_strain, flow_label, file, order\n",
      "\u001b[32mdbl\u001b[39m (1): plate\n",
      "\n",
      "\u001b[36mℹ\u001b[39m Use `spec()` to retrieve the full column specification for this data.\n",
      "\u001b[36mℹ\u001b[39m Specify the column types or set `show_col_types = FALSE` to quiet this message.\n"
     ]
    }
   ],
   "source": [
    "fcsfiles_plate2 <- '../../../../data/flow_cytometry/exp44_plate2' %>% \n",
    "  list.files(full.names = T) \n",
    "\n",
    "samplenames_plate2 <- fcsfiles_plate2 %>% \n",
    "  stringr::str_match('([^/]+).fcs$') %>% \n",
    "  magrittr::extract(,2) \n",
    "\n",
    "flowdata_plate2  <- fcsfiles_plate2 %>% \n",
    "  lapply(. %>%\n",
    "         flowCore::read.FCS(transformation = F, alter.names = T) %>% \n",
    "         flowCore::exprs() %>%\n",
    "         as_tibble()) %>%\n",
    "  set_names(samplenames_plate2) %>% \n",
    "  bind_rows(.id = 'file') %>% \n",
    "  mutate_at(vars(contains('FITC|TexasRd')), funs(. - 2 * min(.)))  %>%\n",
    "  mutate(tube = as.integer(str_extract(file, \"[:digit:]+$\")))\n",
    "\n",
    "annotations_plate2 <- read_csv(\"../../../flow_cytometry/wt_hel2_8xdicodon/annotations/sample_annotations_plates.csv\") %>% \n",
    "  filter(plate == \"2\") %>%\n",
    "  janitor::clean_names() %>% \n",
    "  mutate(file = str_extract(file, '([a-zA-Z]*)_([:digit:]+)_([A-Z][:digit:]+)_([A-Z][:digit:]+)'))\n",
    "\n",
    "data2 <- flowdata_plate2 %>% \n",
    "  left_join(annotations_plate2, by = 'file') %>%\n",
    "  select(-tube, -plate)"
   ]
  },
  {
   "cell_type": "code",
   "execution_count": 30,
   "metadata": {
    "vscode": {
     "languageId": "r"
    }
   },
   "outputs": [
    {
     "name": "stdout",
     "output_type": "stream",
     "text": [
      "\u001b[90m# A tibble: 951,741 × 9\u001b[39m\n",
      "   file                FSC.A SSC.A  FITC.A PE.Te…¹ desc  plasm…² paren…³ flow_…⁴\n",
      "   \u001b[3m\u001b[90m<chr>\u001b[39m\u001b[23m               \u001b[3m\u001b[90m<dbl>\u001b[39m\u001b[23m \u001b[3m\u001b[90m<dbl>\u001b[39m\u001b[23m   \u001b[3m\u001b[90m<dbl>\u001b[39m\u001b[23m   \u001b[3m\u001b[90m<dbl>\u001b[39m\u001b[23m \u001b[3m\u001b[90m<chr>\u001b[39m\u001b[23m \u001b[3m\u001b[90m<chr>\u001b[39m\u001b[23m   \u001b[3m\u001b[90m<chr>\u001b[39m\u001b[23m   \u001b[3m\u001b[90m<chr>\u001b[39m\u001b[23m  \n",
      "\u001b[90m 1\u001b[39m Specimen_002_B2_B… \u001b[4m2\u001b[24m\u001b[4m5\u001b[24m460. 241.    2.33   135.   WT    WT      \u001b[31mNA\u001b[39m      WT     \n",
      "\u001b[90m 2\u001b[39m Specimen_002_B2_B… \u001b[4m6\u001b[24m\u001b[4m2\u001b[24m522. 665.   -\u001b[31m0\u001b[39m\u001b[31m.\u001b[39m\u001b[31m297\u001b[39m  272.   WT    WT      \u001b[31mNA\u001b[39m      WT     \n",
      "\u001b[90m 3\u001b[39m Specimen_002_B2_B… \u001b[4m3\u001b[24m\u001b[4m4\u001b[24m193. 160.  -\u001b[31m65\u001b[39m\u001b[31m.\u001b[39m\u001b[31m5\u001b[39m    -\u001b[31m24\u001b[39m\u001b[31m.\u001b[39m\u001b[31m8\u001b[39m  WT    WT      \u001b[31mNA\u001b[39m      WT     \n",
      "\u001b[90m 4\u001b[39m Specimen_002_B2_B… \u001b[4m2\u001b[24m\u001b[4m9\u001b[24m150.  85.6 -\u001b[31m45\u001b[39m\u001b[31m.\u001b[39m\u001b[31m5\u001b[39m    -\u001b[31m18\u001b[39m\u001b[31m.\u001b[39m\u001b[31m6\u001b[39m  WT    WT      \u001b[31mNA\u001b[39m      WT     \n",
      "\u001b[90m 5\u001b[39m Specimen_002_B2_B… \u001b[4m8\u001b[24m\u001b[4m3\u001b[24m542. -\u001b[31m64\u001b[39m\u001b[31m.\u001b[39m\u001b[31m8\u001b[39m -\u001b[31m74\u001b[39m\u001b[31m.\u001b[39m\u001b[31m8\u001b[39m    -\u001b[31m78\u001b[39m\u001b[31m.\u001b[39m\u001b[31m8\u001b[39m  WT    WT      \u001b[31mNA\u001b[39m      WT     \n",
      "\u001b[90m 6\u001b[39m Specimen_002_B2_B… \u001b[4m4\u001b[24m\u001b[4m0\u001b[24m400. 342.  -\u001b[31m18\u001b[39m\u001b[31m.\u001b[39m\u001b[31m4\u001b[39m    137.   WT    WT      \u001b[31mNA\u001b[39m      WT     \n",
      "\u001b[90m 7\u001b[39m Specimen_002_B2_B… \u001b[4m3\u001b[24m\u001b[4m6\u001b[24m281. 246.  -\u001b[31m15\u001b[39m\u001b[31m.\u001b[39m\u001b[31m3\u001b[39m     77.3  WT    WT      \u001b[31mNA\u001b[39m      WT     \n",
      "\u001b[90m 8\u001b[39m Specimen_002_B2_B… \u001b[4m2\u001b[24m\u001b[4m5\u001b[24m988. 196.  -\u001b[31m11\u001b[39m\u001b[31m.\u001b[39m\u001b[31m8\u001b[39m      7.81 WT    WT      \u001b[31mNA\u001b[39m      WT     \n",
      "\u001b[90m 9\u001b[39m Specimen_002_B2_B… \u001b[4m7\u001b[24m\u001b[4m4\u001b[24m577. 364.  -\u001b[31m17\u001b[39m\u001b[31m.\u001b[39m\u001b[31m4\u001b[39m    135.   WT    WT      \u001b[31mNA\u001b[39m      WT     \n",
      "\u001b[90m10\u001b[39m Specimen_002_B2_B… \u001b[4m3\u001b[24m\u001b[4m7\u001b[24m459. 262.  -\u001b[31m52\u001b[39m\u001b[31m.\u001b[39m\u001b[31m3\u001b[39m     91.2  WT    WT      \u001b[31mNA\u001b[39m      WT     \n",
      "\u001b[90m# … with 951,731 more rows, and abbreviated variable names ¹​PE.Texas.Red.A,\u001b[39m\n",
      "\u001b[90m#   ²​plasmid_ref_id, ³​parent_strain, ⁴​flow_label\u001b[39m\n"
     ]
    }
   ],
   "source": [
    "all_data <- bind_rows(data1, data2)\n",
    "control_desc = c(\"WT\", \"WT_RFP\", \"Hel2-KO_RFP\", \"low_GFP\", \"high_GFP\", \"SCD\")\n",
    "alldata <- all_data %>%\n",
    "  dplyr::rename('PE.Texas.Red.A' = 'PE.TexasRd.A') %>%\n",
    "  dplyr::select(-order) %>%\n",
    "  select(-Time) %>%\n",
    "  mutate(flow_label = ifelse(is.na(flow_label), desc, flow_label)) %>%\n",
    "  print()"
   ]
  },
  {
   "cell_type": "code",
   "execution_count": 31,
   "metadata": {
    "vscode": {
     "languageId": "r"
    }
   },
   "outputs": [],
   "source": [
    "annotations <- bind_rows(annotations_plate1, annotations_plate2) %>%\n",
    "  mutate(flow_label = ifelse(is.na(flow_label), desc, flow_label))"
   ]
  },
  {
   "cell_type": "code",
   "execution_count": 32,
   "metadata": {
    "vscode": {
     "languageId": "r"
    }
   },
   "outputs": [
    {
     "name": "stderr",
     "output_type": "stream",
     "text": [
      "\u001b[1m\u001b[22mAdding missing grouping variables: `flow_label`, `file`\n"
     ]
    },
    {
     "name": "stdout",
     "output_type": "stream",
     "text": [
      "\u001b[90m# A tibble: 96 × 8\u001b[39m\n",
      "\u001b[90m# Groups:   flow_label [24]\u001b[39m\n",
      "   flow_label      file                yfp_n…¹ desc  plasm…² paren…³ plate order\n",
      "   \u001b[3m\u001b[90m<chr>\u001b[39m\u001b[23m           \u001b[3m\u001b[90m<chr>\u001b[39m\u001b[23m                 \u001b[3m\u001b[90m<dbl>\u001b[39m\u001b[23m \u001b[3m\u001b[90m<chr>\u001b[39m\u001b[23m \u001b[3m\u001b[90m<chr>\u001b[39m\u001b[23m   \u001b[3m\u001b[90m<chr>\u001b[39m\u001b[23m   \u001b[3m\u001b[90m<dbl>\u001b[39m\u001b[23m \u001b[3m\u001b[90m<chr>\u001b[39m\u001b[23m\n",
      "\u001b[90m 1\u001b[39m Hel2-KO_RFP     Specimen_002_B4_B04 4.57\u001b[90me\u001b[39m\u001b[31m-4\u001b[39m Hel2… scHP52… \u001b[31mNA\u001b[39m          1 B04.…\n",
      "\u001b[90m 2\u001b[39m high_GFP        Specimen_002_B6_B06 4.13\u001b[90me\u001b[39m\u001b[31m-2\u001b[39m high… scHP20… \u001b[31mNA\u001b[39m          1 B06.…\n",
      "\u001b[90m 3\u001b[39m low_GFP         Specimen_002_B5_B05 4.36\u001b[90me\u001b[39m\u001b[31m-3\u001b[39m low_… scHP19… \u001b[31mNA\u001b[39m          1 B05.…\n",
      "\u001b[90m 4\u001b[39m SCD             Specimen_002_B7_B07 4.38\u001b[90me\u001b[39m\u001b[31m-2\u001b[39m SCD   Media   \u001b[31mNA\u001b[39m          1 B07.…\n",
      "\u001b[90m 5\u001b[39m scHP15-2-1120.1 Specimen_001_E2_E02 6.21\u001b[90me\u001b[39m\u001b[31m-2\u001b[39m GPD-… pHPSC1… scHP15…     2 E02.…\n",
      "\u001b[90m 6\u001b[39m scHP15-2-1120.1 Specimen_001_E3_E03 6.08\u001b[90me\u001b[39m\u001b[31m-2\u001b[39m GPD-… pHPSC1… scHP15…     2 E03.…\n",
      "\u001b[90m 7\u001b[39m scHP15-2-1120.1 Specimen_001_E4_E04 6.13\u001b[90me\u001b[39m\u001b[31m-2\u001b[39m GPD-… pHPSC1… scHP15…     2 E04.…\n",
      "\u001b[90m 8\u001b[39m scHP15-2-1120.1 Specimen_001_E5_E05 6.12\u001b[90me\u001b[39m\u001b[31m-2\u001b[39m GPD-… pHPSC1… scHP15…     2 E05.…\n",
      "\u001b[90m 9\u001b[39m scHP15-2-1120.1 Specimen_001_E6_E06 6.15\u001b[90me\u001b[39m\u001b[31m-2\u001b[39m GPD-… pHPSC1… scHP15…     2 E06.…\n",
      "\u001b[90m10\u001b[39m scHP15-2-1144.1 Specimen_002_C2_C02 2.81\u001b[90me\u001b[39m\u001b[31m-2\u001b[39m GPD-… pHPSC1… scHP15…     1 C02.…\n",
      "\u001b[90m# … with 86 more rows, and abbreviated variable names ¹​yfp_norm_rfp,\u001b[39m\n",
      "\u001b[90m#   ²​plasmid_ref_id, ³​parent_strain\u001b[39m\n"
     ]
    }
   ],
   "source": [
    "med_data_norm <- alldata %>%\n",
    "  mutate(yfp_norm_rfp = FITC.A / PE.Texas.Red.A) %>% # per cell normalization\n",
    "  group_by(flow_label, file) %>% # group by each well\n",
    "  select(yfp_norm_rfp) %>%\n",
    "  summarise_all(median) %>% # median normalized value of each well\n",
    "  left_join(annotations, by = c('flow_label', 'file')) %>%\n",
    "  print()"
   ]
  },
  {
   "cell_type": "code",
   "execution_count": 33,
   "metadata": {
    "vscode": {
     "languageId": "r"
    }
   },
   "outputs": [
    {
     "name": "stderr",
     "output_type": "stream",
     "text": [
      "\u001b[1m\u001b[22m`summarise()` has grouped output by 'desc', 'parent_strain'. You can override\n",
      "using the `.groups` argument.\n"
     ]
    },
    {
     "name": "stdout",
     "output_type": "stream",
     "text": [
      "\u001b[90m# A tibble: 2 × 4\u001b[39m\n",
      "\u001b[90m# Groups:   desc, parent_strain [2]\u001b[39m\n",
      "  desc                               parent_strain flow_label       no_insert_…¹\n",
      "  \u001b[3m\u001b[90m<chr>\u001b[39m\u001b[23m                              \u001b[3m\u001b[90m<chr>\u001b[39m\u001b[23m         \u001b[3m\u001b[90m<chr>\u001b[39m\u001b[23m                   \u001b[3m\u001b[90m<dbl>\u001b[39m\u001b[23m\n",
      "\u001b[90m1\u001b[39m GPD-3xFLAG-PGK1-HA-cntrl-R1-T7-YFP scHP15-2      scHP15-2-1120.1        0.061\u001b[4m4\u001b[24m\n",
      "\u001b[90m2\u001b[39m GPD-3xFLAG-PGK1-HA-cntrl-R1-T7-YFP scHP520.1     scHP520.1-1120.1       0.061\u001b[4m6\u001b[24m\n",
      "\u001b[90m# … with abbreviated variable name ¹​no_insert_avg\u001b[39m\n",
      "\u001b[90m# A tibble: 89 × 20\u001b[39m\n",
      "   flow_label    file  yfp_n…¹ desc  plasm…² paren…³ plate order no_in…⁴ dicodon\n",
      "   \u001b[3m\u001b[90m<chr>\u001b[39m\u001b[23m         \u001b[3m\u001b[90m<chr>\u001b[39m\u001b[23m   \u001b[3m\u001b[90m<dbl>\u001b[39m\u001b[23m \u001b[3m\u001b[90m<chr>\u001b[39m\u001b[23m \u001b[3m\u001b[90m<chr>\u001b[39m\u001b[23m   \u001b[3m\u001b[90m<chr>\u001b[39m\u001b[23m   \u001b[3m\u001b[90m<dbl>\u001b[39m\u001b[23m \u001b[3m\u001b[90m<chr>\u001b[39m\u001b[23m   \u001b[3m\u001b[90m<dbl>\u001b[39m\u001b[23m \u001b[3m\u001b[90m<chr>\u001b[39m\u001b[23m  \n",
      "\u001b[90m 1\u001b[39m scHP15-2-112… Spec…  0.062\u001b[4m1\u001b[24m GPD-… pHPSC1… scHP15…     2 E02.…  0.061\u001b[4m4\u001b[24m no_ins…\n",
      "\u001b[90m 2\u001b[39m scHP15-2-112… Spec…  0.060\u001b[4m8\u001b[24m GPD-… pHPSC1… scHP15…     2 E03.…  0.061\u001b[4m4\u001b[24m no_ins…\n",
      "\u001b[90m 3\u001b[39m scHP15-2-112… Spec…  0.061\u001b[4m3\u001b[24m GPD-… pHPSC1… scHP15…     2 E04.…  0.061\u001b[4m4\u001b[24m no_ins…\n",
      "\u001b[90m 4\u001b[39m scHP15-2-112… Spec…  0.061\u001b[4m2\u001b[24m GPD-… pHPSC1… scHP15…     2 E05.…  0.061\u001b[4m4\u001b[24m no_ins…\n",
      "\u001b[90m 5\u001b[39m scHP15-2-112… Spec…  0.061\u001b[4m5\u001b[24m GPD-… pHPSC1… scHP15…     2 E06.…  0.061\u001b[4m4\u001b[24m no_ins…\n",
      "\u001b[90m 6\u001b[39m scHP15-2-114… Spec…  0.028\u001b[4m1\u001b[24m GPD-… pHPSC1… scHP15…     1 C02.…  0.061\u001b[4m4\u001b[24m VK_GTG…\n",
      "\u001b[90m 7\u001b[39m scHP15-2-114… Spec…  0.027\u001b[4m9\u001b[24m GPD-… pHPSC1… scHP15…     1 C03.…  0.061\u001b[4m4\u001b[24m VK_GTG…\n",
      "\u001b[90m 8\u001b[39m scHP15-2-114… Spec…  0.027\u001b[4m8\u001b[24m GPD-… pHPSC1… scHP15…     1 C04.…  0.061\u001b[4m4\u001b[24m VK_GTG…\n",
      "\u001b[90m 9\u001b[39m scHP15-2-114… Spec…  0.028\u001b[4m3\u001b[24m GPD-… pHPSC1… scHP15…     1 C05.…  0.061\u001b[4m4\u001b[24m VK_GTG…\n",
      "\u001b[90m10\u001b[39m scHP15-2-114… Spec…  0.028\u001b[4m2\u001b[24m GPD-… pHPSC1… scHP15…     1 C06.…  0.061\u001b[4m4\u001b[24m VK_GTG…\n",
      "\u001b[90m# … with 79 more rows, 10 more variables: yfp_norm_rfp_norm <dbl>,\u001b[39m\n",
      "\u001b[90m#   log_yfp_norm_rfp_norm <dbl>, stderr <dbl>, stderr_log <dbl>, diaa <chr>,\u001b[39m\n",
      "\u001b[90m#   aa1 <chr>, aa2 <chr>, res1 <chr>, res2 <chr>, dipeptide <chr>, and\u001b[39m\n",
      "\u001b[90m#   abbreviated variable names ¹​yfp_norm_rfp, ²​plasmid_ref_id, ³​parent_strain,\u001b[39m\n",
      "\u001b[90m#   ⁴​no_insert_avg\u001b[39m\n"
     ]
    }
   ],
   "source": [
    "# no insert controls are very similar in yfp/rfp between strains\n",
    "no_insert_cntrls <- med_data_norm %>%\n",
    "  group_by(desc, parent_strain, flow_label) %>%\n",
    "  dplyr::filter(str_detect(desc, \"cntrl\")) %>%\n",
    "  summarize(no_insert_avg = mean(yfp_norm_rfp)) %>% # avg of the wells per strain\n",
    "  print()\n",
    "\n",
    "all_norm_data <- med_data_norm %>% # normalize each well to the mean no-insert value\n",
    "    left_join(no_insert_cntrls, by=c(\"parent_strain\")) %>%\n",
    "    dplyr::select(-flow_label.y, -desc.y,) %>%\n",
    "    dplyr::rename(desc = desc.x) %>%\n",
    "    dplyr::rename(flow_label = flow_label.x) %>%\n",
    "    mutate(dicodon = ifelse(desc %in% control_desc, desc, str_extract(desc, \"(?<=GPD-3xFLAG-PGK1-HA-8xdicodoon_)([:upper:]+_[:upper:]+)(?=-R1-T7-YFP)\"))) %>%\n",
    "    mutate(dicodon = ifelse(is.na(dicodon), \"no_insert_cntrl\", dicodon)) %>%\n",
    "    group_by(parent_strain) %>%\n",
    "    mutate(yfp_norm_rfp_norm = yfp_norm_rfp/no_insert_avg) %>%\n",
    "    mutate(log_yfp_norm_rfp_norm = log2(yfp_norm_rfp) - log2(no_insert_avg)) %>%\n",
    "    ungroup() %>%\n",
    "    mutate(dicodon = ifelse(plasmid_ref_id == \"pHPSC1148.1\", \"RR_AGAAGA_9x\", dicodon)) %>%\n",
    "    filter(!(yfp_norm_rfp_norm > 10)) %>% # get rid of the one huge outlier\n",
    "    group_by(flow_label) %>% # all wells belonging to each strain\n",
    "    mutate(stderr = std.error(yfp_norm_rfp_norm)) %>%\n",
    "    mutate(stderr_log = std.error(log_yfp_norm_rfp_norm)) %>%\n",
    "    mutate(diaa = str_split(dicodon, '_')[[1]][1]) %>%\n",
    "    mutate(aa1 = ifelse(dicodon != 'no_insert_cntrl', str_sub(diaa, 1, 1), 'no_insert_cntrl')) %>%\n",
    "    mutate(aa2 = ifelse(dicodon != 'no_insert_cntrl', str_sub(diaa, 2, 2), 'no_insert_cntrl')) %>%\n",
    "    mutate(res1 = ifelse(dicodon != 'no_insert_cntrl', AMINO_ACID_CODE[aa1], 'no_insert_cntrl')) %>%\n",
    "    mutate(res2 = ifelse(dicodon != 'no_insert_cntrl', AMINO_ACID_CODE[aa2], 'no_insert_cntrl')) %>%\n",
    "    mutate(dipeptide = ifelse(dicodon != 'no_insert_cntrl', str_c(res1, res2),'no_insert_cntrl')) %>%\n",
    "    ungroup() %>%\n",
    "    print()"
   ]
  },
  {
   "cell_type": "code",
   "execution_count": 35,
   "metadata": {
    "vscode": {
     "languageId": "r"
    }
   },
   "outputs": [
    {
     "data": {
      "image/png": "[encoded data removed]",
      "text/plain": [
       "plot without title"
      ]
     },
     "metadata": {
      "image/png": {
       "height": 108,
       "width": 144
      }
     },
     "output_type": "display_data"
    }
   ],
   "source": [
    "options(repr.plot.width = 2.4, repr.plot.height = 1.8)\n",
    "\n",
    "order <- c(\"No insert\", 'AAGGGA (KG)', 'GAAAGT (ES)', \"GTGAAA (VK)\", \"TTAAGT (LS)\", \"TTTAAG (FK)\", \"AAGAAG (KK)\")\n",
    "\n",
    "all_norm_data %>%\n",
    "  select(-desc, -plate, -order) %>%\n",
    "  group_by(flow_label) %>%\n",
    "  mutate(codons = str_split(dicodon, '_')[[1]][2]) %>%\n",
    "  mutate(dipep2 = ifelse(dicodon != 'no_insert_cntrl', str_c(codons, \" (\", diaa, \")\" ), 'No insert')) %>%\n",
    "  filter(dipep2 %in% order) %>%\n",
    "  mutate(mean = mean(log_yfp_norm_rfp_norm)) %>%\n",
    "  mutate(facet = factor(dipep2, levels=order)) %>%\n",
    "  mutate(Strain = ifelse(parent_strain == 'scHP15-2', 'wild-type', ' hel2')) %>%\n",
    "  mutate(Strain = factor(Strain, levels= c('wild-type', ' hel2'))) %>%\n",
    "  ggplot(aes(y=facet, x=mean, xmax = mean + stderr_log, xmin = mean - stderr_log, color=Strain)) +\n",
    "  geom_errorbar(width=0.3, size=0.2) +\n",
    "  geom_point(size=0.8) +\n",
    "  geom_vline(xintercept=0, color='grey', size=0.1) +\n",
    "  scale_color_manual(values=c('wild-type'='black', ' hel2'='#E69F00')) +\n",
    "  theme + \n",
    "  theme(\n",
    "      axis.line = element_blank(),\n",
    "      axis.line.x = element_blank(),\n",
    "      axis.line.y = element_blank(),\n",
    "      axis.ticks.y = element_blank(),\n",
    "      panel.grid.major.y = element_line(color='grey', size=0.2),\n",
    "      axis.text.x = element_text(size=7),\n",
    "      legend.box.margin=margin(-12,-12,-12,-12),\n",
    "      ) +\n",
    "  labs(y=\"Codon pair\", x=\"Average protein level (log2 YFP/RFP, a.u.)\", subtitle='Flow cytometry', color='')\n",
    "\n",
    "ggsave(\"../figures/sfig4c_select_dicodons_flow_wt_hel2.pdf\", width=3, height=1.8)"
   ]
  },
  {
   "cell_type": "code",
   "execution_count": null,
   "metadata": {
    "vscode": {
     "languageId": "r"
    }
   },
   "outputs": [],
   "source": []
  }
 ],
 "metadata": {
  "kernelspec": {
   "display_name": "R_project_repo_1.13.0",
   "language": "R",
   "name": "ir_project_repo_1.13.0"
  },
  "language_info": {
   "codemirror_mode": "r",
   "file_extension": ".r",
   "mimetype": "text/x-r-source",
   "name": "R",
   "pygments_lexer": "r",
   "version": "4.1.3"
  },
  "orig_nbformat": 4,
  "vscode": {
   "interpreter": {
    "hash": "33ccdda4403b85622dcca6b225ea57e4a6a8ea27d62bd4ef32f6f7605d06a567"
   }
  }
 },
 "nbformat": 4,
 "nbformat_minor": 2
}
