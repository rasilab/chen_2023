{
 "cells": [
  {
   "attachments": {},
   "cell_type": "markdown",
   "metadata": {},
   "source": [
    "## Minimum code for plotting Hel2-del and Syh1-del codon pair library effects\n",
    "- (Figure 4)"
   ]
  },
  {
   "cell_type": "code",
   "execution_count": 2,
   "metadata": {
    "vscode": {
     "languageId": "r"
    }
   },
   "outputs": [],
   "source": [
    "suppressPackageStartupMessages(library(Biostrings))\n",
    "suppressPackageStartupMessages(library(tidyverse))\n",
    "suppressPackageStartupMessages(library(rasilabRtemplates))\n",
    "suppressPackageStartupMessages(library(boot))\n",
    "suppressPackageStartupMessages(library(gridExtra))\n",
    "suppressPackageStartupMessages(library(ggrepel))\n",
    "suppressPackageStartupMessages(library(plotrix))\n",
    "\n",
    "AMINO_ACID_CODE[\"*\"] = \"*\"\n",
    "\n",
    "barcode_reads_cutoff <- 10 # each individual barcode should have >= these many reads\n",
    "n_barcodes_cutoff <- 2 # each insert should have >= this many barcodes"
   ]
  },
  {
   "attachments": {},
   "cell_type": "markdown",
   "metadata": {},
   "source": [
    "### Global plotting themes"
   ]
  },
  {
   "cell_type": "code",
   "execution_count": 3,
   "metadata": {
    "vscode": {
     "languageId": "r"
    }
   },
   "outputs": [
    {
     "name": "stderr",
     "output_type": "stream",
     "text": [
      "Warning message:\n",
      "“\u001b[1m\u001b[22mThe `size` argument of `element_line()` is deprecated as of ggplot2 3.4.0.\n",
      "\u001b[36mℹ\u001b[39m Please use the `linewidth` argument instead.”\n"
     ]
    }
   ],
   "source": [
    "theme <- theme(\n",
    "        title = element_text(margin = margin(t=0, r=2, b=2, l=2), size=8),\n",
    "        axis.title.x = element_text(margin = margin(t=2, r=2, b=0, l=2), size=8),\n",
    "        axis.title.y = element_text(margin = margin(t=2, r=2, b=2, l=0), size=8),\n",
    "        text = element_text(size = 8),\n",
    "        legend.text=element_text(size=8),\n",
    "        axis.line.x=element_line(size=0.2),\n",
    "        axis.line.y=element_line(size=0.2),\n",
    "        axis.ticks.y =  element_line(size=0.2),\n",
    "        axis.ticks.x = element_line(size=0.2),\n",
    "        axis.text.x = element_text(size=8),\n",
    "        axis.text.y = element_text(size=8)\n",
    "        )"
   ]
  },
  {
   "cell_type": "code",
   "execution_count": 4,
   "metadata": {
    "vscode": {
     "languageId": "r"
    }
   },
   "outputs": [],
   "source": [
    "if (!file.exists('../figures')){\n",
    "    dir.create('../figures')}\n",
    "if (!file.exists('../tables')){\n",
    "    dir.create('../tables')}"
   ]
  },
  {
   "attachments": {},
   "cell_type": "markdown",
   "metadata": {},
   "source": [
    "## Load and combine barcode counts"
   ]
  },
  {
   "cell_type": "code",
   "execution_count": 5,
   "metadata": {
    "vscode": {
     "languageId": "r"
    }
   },
   "outputs": [
    {
     "name": "stderr",
     "output_type": "stream",
     "text": [
      "\u001b[1mRows: \u001b[22m\u001b[34m6000\u001b[39m \u001b[1mColumns: \u001b[22m\u001b[34m2\u001b[39m\n",
      "\u001b[36m──\u001b[39m \u001b[1mColumn specification\u001b[22m \u001b[36m────────────────────────────────────────────────────────\u001b[39m\n",
      "\u001b[1mDelimiter:\u001b[22m \",\"\n",
      "\u001b[31mchr\u001b[39m (1): insert\n",
      "\u001b[32mdbl\u001b[39m (1): insert_num\n",
      "\n",
      "\u001b[36mℹ\u001b[39m Use `spec()` to retrieve the full column specification for this data.\n",
      "\u001b[36mℹ\u001b[39m Specify the column types or set `show_col_types = FALSE` to quiet this message.\n"
     ]
    }
   ],
   "source": [
    "insert_annotations = read_csv(\"../../8xdicodon_linkage/annotations/dicodon_yeast.csv\") %>%\n",
    "    mutate(dicodon = str_extract(insert, \"([ACTG]{6})(?=\\\\1{7})\")) %>%\n",
    "    drop_na(dicodon) %>% # drops the inserts that aren't dicodons in this case\n",
    "    mutate(diaa = as.character(translate(DNAStringSet(dicodon), no.init.codon = T))) %>%\n",
    "    mutate(codon1 = substr(dicodon, 1, 3), codon2 = substr(dicodon, 4, 6),\n",
    "         aa1 = substr(diaa, 1, 1), aa2 = substr(diaa, 2, 2)) %>%\n",
    "    select(-insert)"
   ]
  },
  {
   "cell_type": "code",
   "execution_count": 6,
   "metadata": {
    "vscode": {
     "languageId": "r"
    }
   },
   "outputs": [
    {
     "name": "stderr",
     "output_type": "stream",
     "text": [
      "\u001b[1mRows: \u001b[22m\u001b[34m99948\u001b[39m \u001b[1mColumns: \u001b[22m\u001b[34m5\u001b[39m\n",
      "\u001b[36m──\u001b[39m \u001b[1mColumn specification\u001b[22m \u001b[36m────────────────────────────────────────────────────────\u001b[39m\n",
      "\u001b[1mDelimiter:\u001b[22m \",\"\n",
      "\u001b[31mchr\u001b[39m (4): barcode_count, insert_num, barcode, linkage_count\n",
      "\u001b[32mdbl\u001b[39m (1): barcode_num\n",
      "\n",
      "\u001b[36mℹ\u001b[39m Use `spec()` to retrieve the full column specification for this data.\n",
      "\u001b[36mℹ\u001b[39m Specify the column types or set `show_col_types = FALSE` to quiet this message.\n",
      "\u001b[1mRows: \u001b[22m\u001b[34m163535\u001b[39m \u001b[1mColumns: \u001b[22m\u001b[34m5\u001b[39m\n",
      "\u001b[36m──\u001b[39m \u001b[1mColumn specification\u001b[22m \u001b[36m────────────────────────────────────────────────────────\u001b[39m\n",
      "\u001b[1mDelimiter:\u001b[22m \",\"\n",
      "\u001b[31mchr\u001b[39m (4): barcode_count, insert_num, barcode, linkage_count\n",
      "\u001b[32mdbl\u001b[39m (1): barcode_num\n",
      "\n",
      "\u001b[36mℹ\u001b[39m Use `spec()` to retrieve the full column specification for this data.\n",
      "\u001b[36mℹ\u001b[39m Specify the column types or set `show_col_types = FALSE` to quiet this message.\n",
      "\u001b[1mRows: \u001b[22m\u001b[34m110997\u001b[39m \u001b[1mColumns: \u001b[22m\u001b[34m5\u001b[39m\n",
      "\u001b[36m──\u001b[39m \u001b[1mColumn specification\u001b[22m \u001b[36m────────────────────────────────────────────────────────\u001b[39m\n",
      "\u001b[1mDelimiter:\u001b[22m \",\"\n",
      "\u001b[31mchr\u001b[39m (4): barcode_count, insert_num, barcode, linkage_count\n",
      "\u001b[32mdbl\u001b[39m (1): barcode_num\n",
      "\n",
      "\u001b[36mℹ\u001b[39m Use `spec()` to retrieve the full column specification for this data.\n",
      "\u001b[36mℹ\u001b[39m Specify the column types or set `show_col_types = FALSE` to quiet this message.\n",
      "\u001b[1mRows: \u001b[22m\u001b[34m154870\u001b[39m \u001b[1mColumns: \u001b[22m\u001b[34m5\u001b[39m\n",
      "\u001b[36m──\u001b[39m \u001b[1mColumn specification\u001b[22m \u001b[36m────────────────────────────────────────────────────────\u001b[39m\n",
      "\u001b[1mDelimiter:\u001b[22m \",\"\n",
      "\u001b[31mchr\u001b[39m (4): barcode_count, insert_num, barcode, linkage_count\n",
      "\u001b[32mdbl\u001b[39m (1): barcode_num\n",
      "\n",
      "\u001b[36mℹ\u001b[39m Use `spec()` to retrieve the full column specification for this data.\n",
      "\u001b[36mℹ\u001b[39m Specify the column types or set `show_col_types = FALSE` to quiet this message.\n",
      "\u001b[1mRows: \u001b[22m\u001b[34m169432\u001b[39m \u001b[1mColumns: \u001b[22m\u001b[34m5\u001b[39m\n",
      "\u001b[36m──\u001b[39m \u001b[1mColumn specification\u001b[22m \u001b[36m────────────────────────────────────────────────────────\u001b[39m\n",
      "\u001b[1mDelimiter:\u001b[22m \",\"\n",
      "\u001b[31mchr\u001b[39m (4): barcode_count, insert_num, barcode, linkage_count\n",
      "\u001b[32mdbl\u001b[39m (1): barcode_num\n",
      "\n",
      "\u001b[36mℹ\u001b[39m Use `spec()` to retrieve the full column specification for this data.\n",
      "\u001b[36mℹ\u001b[39m Specify the column types or set `show_col_types = FALSE` to quiet this message.\n",
      "\u001b[1mRows: \u001b[22m\u001b[34m181686\u001b[39m \u001b[1mColumns: \u001b[22m\u001b[34m5\u001b[39m\n",
      "\u001b[36m──\u001b[39m \u001b[1mColumn specification\u001b[22m \u001b[36m────────────────────────────────────────────────────────\u001b[39m\n",
      "\u001b[1mDelimiter:\u001b[22m \",\"\n",
      "\u001b[31mchr\u001b[39m (4): barcode_count, insert_num, barcode, linkage_count\n",
      "\u001b[32mdbl\u001b[39m (1): barcode_num\n",
      "\n",
      "\u001b[36mℹ\u001b[39m Use `spec()` to retrieve the full column specification for this data.\n",
      "\u001b[36mℹ\u001b[39m Specify the column types or set `show_col_types = FALSE` to quiet this message.\n",
      "Warning message:\n",
      "“`cols` is now required when using unnest().\n",
      "Please use `cols = c(counts)`”\n",
      "Warning message in mask$eval_all_mutate(quo):\n",
      "“NAs introduced by coercion”\n",
      "Warning message in mask$eval_all_mutate(quo):\n",
      "“NAs introduced by coercion”\n"
     ]
    }
   ],
   "source": [
    "counts <- list.files(\"../data/linked_barcode_counts/\", pattern = \".csv$\", full.names = T) %>% \n",
    "  enframe(\"sno\", \"file\") %>% \n",
    "  mutate(counts = map(file, read_csv)) %>% \n",
    "  mutate(sample_name = str_extract(file, \"[^/]+(?=.csv)\")) %>% \n",
    "  select(-sno, -file) %>% \n",
    "  unnest() %>% \n",
    "  mutate(insert_num = as.numeric(str_extract(insert_num, \"[:digit:]+\"))) %>%\n",
    "  mutate(barcode_count = as.numeric(barcode_count)) %>%\n",
    "  mutate(linkage_count = as.numeric(linkage_count))"
   ]
  },
  {
   "cell_type": "code",
   "execution_count": 7,
   "metadata": {
    "vscode": {
     "languageId": "r"
    }
   },
   "outputs": [],
   "source": [
    "barcode_counts <- counts %>%\n",
    "    mutate(genotype = str_extract(sample_name, '[^_]+')) %>%\n",
    "    mutate(sample_type = str_extract(sample_name, '(?<=_).+')) %>%\n",
    "    mutate(sample_type = ifelse(str_detect(sample_type, 'reseq'), str_extract(sample_name, '(?<=_).+(?=_)'), sample_type)) %>%\n",
    "    select(genotype, sample_type, barcode_num, insert_num, barcode_count) %>%\n",
    "    group_by(genotype, sample_type, barcode_num, insert_num) %>% # combine resequenced counts together\n",
    "    summarize(barcode_count = sum(barcode_count), .groups='drop')"
   ]
  },
  {
   "cell_type": "code",
   "execution_count": 8,
   "metadata": {
    "vscode": {
     "languageId": "r"
    }
   },
   "outputs": [],
   "source": [
    "barcode_counts %>%\n",
    "    write_tsv(\"../tables/barcode_insert_counts.tsv.gz\")"
   ]
  },
  {
   "cell_type": "code",
   "execution_count": 9,
   "metadata": {
    "vscode": {
     "languageId": "r"
    }
   },
   "outputs": [
    {
     "name": "stderr",
     "output_type": "stream",
     "text": [
      "\u001b[1mRows: \u001b[22m\u001b[34m370377\u001b[39m \u001b[1mColumns: \u001b[22m\u001b[34m7\u001b[39m\n",
      "\u001b[36m──\u001b[39m \u001b[1mColumn specification\u001b[22m \u001b[36m────────────────────────────────────────────────────────\u001b[39m\n",
      "\u001b[1mDelimiter:\u001b[22m \"\\t\"\n",
      "\u001b[31mchr\u001b[39m (3): barcode, sample_name, linkage_ref\n",
      "\u001b[32mdbl\u001b[39m (4): barcode_count, insert_num, barcode_num, linkage_count\n",
      "\n",
      "\u001b[36mℹ\u001b[39m Use `spec()` to retrieve the full column specification for this data.\n",
      "\u001b[36mℹ\u001b[39m Specify the column types or set `show_col_types = FALSE` to quiet this message.\n"
     ]
    }
   ],
   "source": [
    "wt_barcode_counts <- read_tsv(\"../../wt_mrna_grna/tables/barcode_insert_counts.tsv.gz\") %>%\n",
    "    mutate(genotype = str_extract(sample_name, '[^_]+')) %>%\n",
    "    mutate(sample_type = str_extract(sample_name, '(?<=_).+')) %>%\n",
    "    select(genotype, sample_type, barcode_num, insert_num, barcode_count)"
   ]
  },
  {
   "attachments": {},
   "cell_type": "markdown",
   "metadata": {},
   "source": [
    "### Prepare data for bootstrapping: apply minimal filters and separate by strain"
   ]
  },
  {
   "cell_type": "code",
   "execution_count": 10,
   "metadata": {
    "vscode": {
     "languageId": "r"
    }
   },
   "outputs": [],
   "source": [
    "hel2_dicodons <- barcode_counts %>%\n",
    "    filter(genotype == 'hel2') %>%\n",
    "    filter(barcode_count >= barcode_reads_cutoff) %>%\n",
    "    group_by(sample_type, insert_num) %>%\n",
    "    mutate(n_barcodes = n()) %>%\n",
    "    filter(n_barcodes >= n_barcodes_cutoff) %>% # filter out inserts that don't reach barcode rep cutoff while maintaining data as individual barcodes\n",
    "    ungroup() %>%\n",
    "    inner_join(insert_annotations, by='insert_num') %>%\n",
    "    select(-aa1, -aa2, -codon1, -codon2) %>%\n",
    "    pivot_wider(names_from='sample_type', values_from=c(n_barcodes, barcode_count)) %>%\n",
    "    drop_na()"
   ]
  },
  {
   "cell_type": "code",
   "execution_count": 11,
   "metadata": {
    "vscode": {
     "languageId": "r"
    }
   },
   "outputs": [],
   "source": [
    "syh1_dicodons <- barcode_counts %>%\n",
    "    filter(genotype == 'syh1') %>%\n",
    "    filter(barcode_count >= barcode_reads_cutoff) %>%\n",
    "    group_by(sample_type, insert_num) %>%\n",
    "    mutate(n_barcodes = n()) %>%\n",
    "    filter(n_barcodes >= n_barcodes_cutoff) %>%\n",
    "    ungroup() %>%\n",
    "    inner_join(insert_annotations, by='insert_num') %>%\n",
    "    select(-aa1, -aa2, -codon1, -codon2) %>%\n",
    "    pivot_wider(names_from='sample_type', values_from=c(n_barcodes, barcode_count)) %>%\n",
    "    drop_na()"
   ]
  },
  {
   "cell_type": "code",
   "execution_count": 12,
   "metadata": {
    "vscode": {
     "languageId": "r"
    }
   },
   "outputs": [],
   "source": [
    "wt_dicodons <- wt_barcode_counts %>%\n",
    "    filter(genotype == 'wt') %>%\n",
    "    filter(barcode_count >= barcode_reads_cutoff) %>%\n",
    "    group_by(sample_type, insert_num) %>%\n",
    "    mutate(n_barcodes = n()) %>%\n",
    "    filter(n_barcodes >= n_barcodes_cutoff) %>%\n",
    "    ungroup() %>%\n",
    "    inner_join(insert_annotations, by='insert_num') %>%\n",
    "    select(-aa1, -aa2, -codon1, -codon2) %>%\n",
    "    pivot_wider(names_from='sample_type', values_from=c(n_barcodes, barcode_count)) %>%\n",
    "    drop_na()"
   ]
  },
  {
   "cell_type": "code",
   "execution_count": 13,
   "metadata": {
    "vscode": {
     "languageId": "r"
    }
   },
   "outputs": [],
   "source": [
    "dicodons_with_barcode_cutoffs <- bind_rows(hel2_dicodons, syh1_dicodons, wt_dicodons) %>%\n",
    "  left_join(insert_annotations, by=c('insert_num', 'dicodon', 'diaa'))"
   ]
  },
  {
   "attachments": {},
   "cell_type": "markdown",
   "metadata": {},
   "source": [
    "### Bootstrap by dipeptide"
   ]
  },
  {
   "cell_type": "code",
   "execution_count": 14,
   "metadata": {
    "vscode": {
     "languageId": "r"
    }
   },
   "outputs": [],
   "source": [
    "calc_lfc_bootstrap <- function(data, indices) {\n",
    "  d <- data[indices,]\n",
    "  log2(sum(d$barcode_count_mrna)) - log2(sum(d$barcode_count_gdna))\n",
    "}\n",
    "\n",
    "wt_boot_diaa <- dicodons_with_barcode_cutoffs %>%\n",
    "  filter(genotype == 'wt') %>%\n",
    "  group_by(diaa) %>%\n",
    "  nest() %>%\n",
    "  mutate(lfc_boot = map(data, function(df) boot::boot(data=df, statistic=calc_lfc_bootstrap, R=100)$t)) %>%\n",
    "  select(-data) %>%\n",
    "  mutate(lfc = map_dbl(lfc_boot, mean)) %>%\n",
    "  mutate(lfc_sd = map_dbl(lfc_boot, sd)) %>%\n",
    "  select(-lfc_boot) %>%\n",
    "  ungroup() %>%\n",
    "  mutate(lfc_med = lfc - median(lfc)) %>%\n",
    "  mutate(genotype='WT')\n",
    "\n",
    "hel2_boot_diaa <- dicodons_with_barcode_cutoffs %>%\n",
    "  filter(genotype == 'hel2') %>%\n",
    "  group_by(diaa) %>%\n",
    "  nest() %>%\n",
    "  mutate(lfc_boot = map(data, function(df) boot::boot(data=df, statistic=calc_lfc_bootstrap, R=100)$t)) %>%\n",
    "  select(-data) %>%\n",
    "  mutate(lfc = map_dbl(lfc_boot, mean)) %>%\n",
    "  mutate(lfc_sd = map_dbl(lfc_boot, sd)) %>%\n",
    "  select(-lfc_boot) %>%\n",
    "  ungroup() %>%\n",
    "  mutate(lfc_med = lfc - median(lfc)) %>%\n",
    "  mutate(genotype='Hel2-del')\n",
    "\n",
    "syh1_boot_diaa <- dicodons_with_barcode_cutoffs %>%\n",
    "  filter(genotype == 'syh1') %>%\n",
    "  group_by(diaa) %>%\n",
    "  nest() %>%\n",
    "  mutate(lfc_boot = map(data, function(df) boot::boot(data=df, statistic=calc_lfc_bootstrap, R=100)$t)) %>%\n",
    "  select(-data) %>%\n",
    "  mutate(lfc = map_dbl(lfc_boot, mean)) %>%\n",
    "  mutate(lfc_sd = map_dbl(lfc_boot, sd)) %>%\n",
    "  select(-lfc_boot) %>%\n",
    "  ungroup() %>%\n",
    "  mutate(lfc_med = lfc - median(lfc)) %>%\n",
    "  mutate(genotype='Syh1-del')\n",
    "\n",
    "bootstrap_diaa <- bind_rows(wt_boot_diaa, hel2_boot_diaa, syh1_boot_diaa)"
   ]
  },
  {
   "cell_type": "code",
   "execution_count": 15,
   "metadata": {
    "vscode": {
     "languageId": "r"
    }
   },
   "outputs": [
    {
     "data": {
      "text/html": [
       "<table class=\"dataframe\">\n",
       "<caption>A tibble: 1 × 2</caption>\n",
       "<thead>\n",
       "\t<tr><th scope=col>avg</th><th scope=col>med</th></tr>\n",
       "\t<tr><th scope=col>&lt;dbl&gt;</th><th scope=col>&lt;dbl&gt;</th></tr>\n",
       "</thead>\n",
       "<tbody>\n",
       "\t<tr><td>202.1914</td><td>141.5</td></tr>\n",
       "</tbody>\n",
       "</table>\n"
      ],
      "text/latex": [
       "A tibble: 1 × 2\n",
       "\\begin{tabular}{ll}\n",
       " avg & med\\\\\n",
       " <dbl> & <dbl>\\\\\n",
       "\\hline\n",
       "\t 202.1914 & 141.5\\\\\n",
       "\\end{tabular}\n"
      ],
      "text/markdown": [
       "\n",
       "A tibble: 1 × 2\n",
       "\n",
       "| avg &lt;dbl&gt; | med &lt;dbl&gt; |\n",
       "|---|---|\n",
       "| 202.1914 | 141.5 |\n",
       "\n"
      ],
      "text/plain": [
       "  avg      med  \n",
       "1 202.1914 141.5"
      ]
     },
     "metadata": {},
     "output_type": "display_data"
    },
    {
     "data": {
      "text/html": [
       "<table class=\"dataframe\">\n",
       "<caption>A tibble: 1 × 2</caption>\n",
       "<thead>\n",
       "\t<tr><th scope=col>avg</th><th scope=col>med</th></tr>\n",
       "\t<tr><th scope=col>&lt;dbl&gt;</th><th scope=col>&lt;dbl&gt;</th></tr>\n",
       "</thead>\n",
       "<tbody>\n",
       "\t<tr><td>127</td><td>84.5</td></tr>\n",
       "</tbody>\n",
       "</table>\n"
      ],
      "text/latex": [
       "A tibble: 1 × 2\n",
       "\\begin{tabular}{ll}\n",
       " avg & med\\\\\n",
       " <dbl> & <dbl>\\\\\n",
       "\\hline\n",
       "\t 127 & 84.5\\\\\n",
       "\\end{tabular}\n"
      ],
      "text/markdown": [
       "\n",
       "A tibble: 1 × 2\n",
       "\n",
       "| avg &lt;dbl&gt; | med &lt;dbl&gt; |\n",
       "|---|---|\n",
       "| 127 | 84.5 |\n",
       "\n"
      ],
      "text/plain": [
       "  avg med \n",
       "1 127 84.5"
      ]
     },
     "metadata": {},
     "output_type": "display_data"
    },
    {
     "data": {
      "text/html": [
       "<table class=\"dataframe\">\n",
       "<caption>A tibble: 1 × 2</caption>\n",
       "<thead>\n",
       "\t<tr><th scope=col>avg</th><th scope=col>med</th></tr>\n",
       "\t<tr><th scope=col>&lt;dbl&gt;</th><th scope=col>&lt;dbl&gt;</th></tr>\n",
       "</thead>\n",
       "<tbody>\n",
       "\t<tr><td>147.4402</td><td>99</td></tr>\n",
       "</tbody>\n",
       "</table>\n"
      ],
      "text/latex": [
       "A tibble: 1 × 2\n",
       "\\begin{tabular}{ll}\n",
       " avg & med\\\\\n",
       " <dbl> & <dbl>\\\\\n",
       "\\hline\n",
       "\t 147.4402 & 99\\\\\n",
       "\\end{tabular}\n"
      ],
      "text/markdown": [
       "\n",
       "A tibble: 1 × 2\n",
       "\n",
       "| avg &lt;dbl&gt; | med &lt;dbl&gt; |\n",
       "|---|---|\n",
       "| 147.4402 | 99 |\n",
       "\n"
      ],
      "text/plain": [
       "  avg      med\n",
       "1 147.4402 99 "
      ]
     },
     "metadata": {},
     "output_type": "display_data"
    }
   ],
   "source": [
    "dicodons_with_barcode_cutoffs %>%\n",
    "  filter(genotype == 'wt') %>%\n",
    "  group_by(diaa) %>%\n",
    "  summarize(n_barc = n()) %>%\n",
    "  mutate(avg = mean(n_barc), med = median(n_barc)) %>%\n",
    "  slice(1) %>%\n",
    "  select(-diaa, -n_barc)\n",
    "\n",
    "dicodons_with_barcode_cutoffs %>%\n",
    "  filter(genotype == 'hel2') %>%\n",
    "  group_by(diaa) %>%\n",
    "  summarize(n_barc = n()) %>%\n",
    "  mutate(avg = mean(n_barc), med = median(n_barc)) %>%\n",
    "  slice(1) %>%\n",
    "  select(-diaa, -n_barc)\n",
    "\n",
    "dicodons_with_barcode_cutoffs %>%\n",
    "  filter(genotype == 'syh1') %>%\n",
    "  group_by(diaa) %>%\n",
    "  summarize(n_barc = n()) %>%\n",
    "  mutate(avg = mean(n_barc), med = median(n_barc)) %>%\n",
    "  slice(1) %>%\n",
    "  select(-diaa, -n_barc)"
   ]
  },
  {
   "attachments": {},
   "cell_type": "markdown",
   "metadata": {},
   "source": [
    "### Correlate between strains"
   ]
  },
  {
   "cell_type": "code",
   "execution_count": 16,
   "metadata": {
    "vscode": {
     "languageId": "r"
    }
   },
   "outputs": [],
   "source": [
    "sd_outliers <- bootstrap_diaa %>%\n",
    "    group_by(genotype) %>%\n",
    "    mutate(iqr = IQR(lfc_sd)) %>%\n",
    "    mutate(q3 = quantile(lfc_sd, c(0.75))) %>%\n",
    "    slice(1) %>%\n",
    "    mutate(outlier = q3 + (iqr*1.5)) %>%\n",
    "    select(genotype, iqr, outlier)"
   ]
  },
  {
   "cell_type": "code",
   "execution_count": 17,
   "metadata": {
    "vscode": {
     "languageId": "r"
    }
   },
   "outputs": [],
   "source": [
    "hel2_out_sd <- sd_outliers$outlier[[1]] + 0.05 # relax the sd filter a bit\n",
    "syh1_out_sd <- sd_outliers$outlier[[2]] + 0.05\n",
    "wt_out_sd <- sd_outliers$outlier[[3]] + 0.05"
   ]
  },
  {
   "cell_type": "code",
   "execution_count": 18,
   "metadata": {
    "vscode": {
     "languageId": "r"
    }
   },
   "outputs": [],
   "source": [
    "avg_data <- bootstrap_diaa %>%\n",
    "    pivot_wider(names_from=genotype, values_from=c(lfc, lfc_med, lfc_sd))\n",
    "\n",
    "res <- lm(avg_data$lfc_med_WT ~ avg_data$`lfc_med_Hel2-del`)\n",
    "\n",
    "idx <- rstandard(res) %>%\n",
    "    enframe() %>%\n",
    "    filter(value <= -2) %>%\n",
    "    dplyr::pull(as.numeric(name))\n",
    "\n",
    "residuals <- rstandard(res) %>%\n",
    "    enframe() %>%\n",
    "    dplyr::rename('x1'='name') %>%\n",
    "    mutate(x1 = as.numeric(x1))\n",
    "\n",
    "plot_data <- avg_data %>%\n",
    "    mutate(x1 = seq(1,dplyr::n(),1)) %>%\n",
    "    left_join(residuals, by='x1') %>%\n",
    "    mutate(label = ifelse((lfc_sd_WT <= wt_out_sd) & (`lfc_sd_Hel2-del` <= hel2_out_sd) & (x1 %in% idx), 'high_residual', 'as_predicted')) %>%\n",
    "    filter((lfc_sd_WT <= wt_out_sd) & (`lfc_sd_Hel2-del` <= hel2_out_sd))\n",
    "    # mutate(label = ifelse(x1 %in% idx, 'high_residual', 'as_predicted'))\n",
    "\n",
    "label_df <- plot_data %>%\n",
    "    filter(label=='high_residual') %>%\n",
    "    filter((lfc_sd_WT <= wt_out_sd) & (`lfc_sd_Hel2-del` <= hel2_out_sd))"
   ]
  },
  {
   "cell_type": "code",
   "execution_count": 19,
   "metadata": {
    "vscode": {
     "languageId": "r"
    }
   },
   "outputs": [
    {
     "data": {
      "text/html": [
       "367"
      ],
      "text/latex": [
       "367"
      ],
      "text/markdown": [
       "367"
      ],
      "text/plain": [
       "[1] 367"
      ]
     },
     "metadata": {},
     "output_type": "display_data"
    }
   ],
   "source": [
    "plot_data %>%\n",
    "    group_by(diaa) %>%\n",
    "    summarize(n()) %>%\n",
    "    nrow()"
   ]
  },
  {
   "cell_type": "code",
   "execution_count": 20,
   "metadata": {
    "vscode": {
     "languageId": "r"
    }
   },
   "outputs": [
    {
     "name": "stderr",
     "output_type": "stream",
     "text": [
      "Warning message:\n",
      "“\u001b[1m\u001b[22mUsing `size` aesthetic for lines was deprecated in ggplot2 3.4.0.\n",
      "\u001b[36mℹ\u001b[39m Please use `linewidth` instead.”\n",
      "\u001b[1m\u001b[22m`geom_smooth()` using formula = 'y ~ x'\n"
     ]
    },
    {
     "name": "stderr",
     "output_type": "stream",
     "text": [
      "\u001b[1m\u001b[22m`geom_smooth()` using formula = 'y ~ x'\n"
     ]
    },
    {
     "data": {
      "image/png": "[encoded data removed]",
      "text/plain": [
       "plot without title"
      ]
     },
     "metadata": {
      "image/png": {
       "height": 180,
       "width": 240
      }
     },
     "output_type": "display_data"
    }
   ],
   "source": [
    "r = cor.test(plot_data$lfc_med_WT, plot_data$`lfc_med_Hel2-del`, method='pearson')$estimate\n",
    "p = cor.test(plot_data$lfc_med_WT, plot_data$`lfc_med_Hel2-del`, method='pearson')$p.value\n",
    "\n",
    "plot_data  %>%\n",
    "    ggplot(aes(x=lfc_med_WT, y=`lfc_med_Hel2-del`)) +\n",
    "    geom_point(size=0.2, aes(color=label)) +\n",
    "    geom_smooth(method=lm, se=FALSE, size=0.2) +\n",
    "    annotate('text', x=0.7, y=-0.75, label=str_c('r = ', round(r,2)), size=7/.pt) +\n",
    "    annotate('text', x=0.7, y=-1.0, label='p < 1e-15', size=7/.pt) +\n",
    "    # geom_text_repel(data=label_df, mapping=aes(x=lfc_med_WT, y=`lfc_med_Hel2-del`, label=diaa), max.overlaps=50, size=3/.pt, segment.size=0.1) +\n",
    "    theme +\n",
    "    theme(axis.ticks.y=element_line(size=0.1),\n",
    "        ) +\n",
    "    scale_color_manual(values=c('as_predicted'='black', 'high_residual'='red')) +\n",
    "    guides(color='none') +\n",
    "    labs(x='Average mRNA level\\nwild-type', y='Average mRNA level\\n hel2')\n",
    "\n",
    "ggsave(\"../figures/fig4_wt_hel2_diaa_corr.pdf\", width=1.9, height=1.7, units='in', dpi=300)"
   ]
  },
  {
   "cell_type": "code",
   "execution_count": 21,
   "metadata": {
    "vscode": {
     "languageId": "r"
    }
   },
   "outputs": [],
   "source": [
    "res <- lm(avg_data$lfc_med_WT ~ avg_data$`lfc_med_Syh1-del`)\n",
    "\n",
    "idx <- rstandard(res) %>%\n",
    "    enframe() %>%\n",
    "    filter(value <= -2) %>%\n",
    "    dplyr::pull(as.numeric(name))\n",
    "\n",
    "residuals <- rstandard(res) %>%\n",
    "    enframe() %>%\n",
    "    dplyr::rename('x1'='name') %>%\n",
    "    mutate(x1 = as.numeric(x1))\n",
    "\n",
    "plot_data <- avg_data %>%\n",
    "    mutate(x1 = seq(1,dplyr::n(),1)) %>%\n",
    "    left_join(residuals, by='x1') %>%\n",
    "    mutate(label = ifelse((lfc_sd_WT <= wt_out_sd) & (`lfc_sd_Syh1-del` <= syh1_out_sd) & (x1 %in% idx), 'high_residual', 'as_predicted')) %>%\n",
    "    filter((lfc_sd_WT <= wt_out_sd) & (`lfc_sd_Syh1-del` <= syh1_out_sd))\n",
    "\n",
    "label_df <- plot_data %>%\n",
    "    filter(label=='high_residual') %>%\n",
    "    filter((lfc_sd_WT <= wt_out_sd) & (`lfc_sd_Syh1-del` <= syh1_out_sd))"
   ]
  },
  {
   "cell_type": "code",
   "execution_count": 22,
   "metadata": {
    "vscode": {
     "languageId": "r"
    }
   },
   "outputs": [
    {
     "data": {
      "text/html": [
       "367"
      ],
      "text/latex": [
       "367"
      ],
      "text/markdown": [
       "367"
      ],
      "text/plain": [
       "[1] 367"
      ]
     },
     "metadata": {},
     "output_type": "display_data"
    }
   ],
   "source": [
    "plot_data %>%\n",
    "    group_by(diaa) %>%\n",
    "    summarize(n()) %>%\n",
    "    nrow()"
   ]
  },
  {
   "cell_type": "code",
   "execution_count": 23,
   "metadata": {
    "vscode": {
     "languageId": "r"
    }
   },
   "outputs": [
    {
     "name": "stderr",
     "output_type": "stream",
     "text": [
      "\u001b[1m\u001b[22m`geom_smooth()` using formula = 'y ~ x'\n",
      "\u001b[1m\u001b[22m`geom_smooth()` using formula = 'y ~ x'\n"
     ]
    },
    {
     "data": {
      "image/png": "[encoded data removed]",
      "text/plain": [
       "plot without title"
      ]
     },
     "metadata": {
      "image/png": {
       "height": 180,
       "width": 240
      }
     },
     "output_type": "display_data"
    }
   ],
   "source": [
    "r = cor.test(plot_data$lfc_med_WT, plot_data$`lfc_med_Syh1-del`, method='pearson')$estimate\n",
    "p = cor.test(plot_data$lfc_med_WT, plot_data$`lfc_med_Syh1-del`, method='pearson')$p.value\n",
    "\n",
    "plot_data  %>%\n",
    "    ggplot(aes(x=lfc_med_WT, y=`lfc_med_Syh1-del`)) +\n",
    "    geom_point(size=0.2, aes(color=label)) +\n",
    "    geom_smooth(method=lm, se=FALSE, size=0.2) +\n",
    "    annotate('text', x=0.6, y=-1.20, label=str_c('r = ', round(r, 2)), size=7/.pt) +\n",
    "    annotate('text', x=0.6, y=-1.45, label='p < 1e-15', size=7/.pt) +\n",
    "    theme +\n",
    "    theme(axis.ticks.y=element_line(size=0.1),\n",
    "        ) +\n",
    "    scale_color_manual(values=c('as_predicted'='black', 'high_residual'='red')) +\n",
    "    # geom_text(data = label_df, aes(x=lfc_med_WT, y=`lfc_med_Syh1-del`, label=diaa), color='black', size=5/.pt) + \n",
    "    guides(color='none') +\n",
    "    labs(x='Average mRNA level\\nwild-type', y='Average mRNA level\\n syh1')\n",
    "\n",
    "ggsave(\"../figures/fig4_wt_syh1_diaa_corr.pdf\", width=1.9, height=1.7, units='in', dpi=300)"
   ]
  },
  {
   "attachments": {},
   "cell_type": "markdown",
   "metadata": {},
   "source": [
    "### Pull out the dipeptides with the greatest bootstrapped delta where WT is destabilized"
   ]
  },
  {
   "cell_type": "code",
   "execution_count": 24,
   "metadata": {
    "vscode": {
     "languageId": "r"
    }
   },
   "outputs": [
    {
     "name": "stderr",
     "output_type": "stream",
     "text": [
      "\u001b[1mRows: \u001b[22m\u001b[34m40\u001b[39m \u001b[1mColumns: \u001b[22m\u001b[34m6\u001b[39m\n"
     ]
    },
    {
     "name": "stderr",
     "output_type": "stream",
     "text": [
      "\u001b[36m──\u001b[39m \u001b[1mColumn specification\u001b[22m \u001b[36m────────────────────────────────────────────────────────\u001b[39m\n",
      "\u001b[1mDelimiter:\u001b[22m \",\"\n",
      "\u001b[31mchr\u001b[39m (2): Frame, match_diaa\n",
      "\u001b[32mdbl\u001b[39m (4): lfc, lfc_sd, var, lfc_med\n",
      "\n",
      "\u001b[36mℹ\u001b[39m Use `spec()` to retrieve the full column specification for this data.\n",
      "\u001b[36mℹ\u001b[39m Specify the column types or set `show_col_types = FALSE` to quiet this message.\n"
     ]
    }
   ],
   "source": [
    "destab_wt <- read_csv(\"../../wt_mrna_grna/tables/destabilized_wt.csv\") %>%\n",
    "    filter(Frame == \"In-frame\") %>%\n",
    "    dplyr::pull(match_diaa)"
   ]
  },
  {
   "cell_type": "code",
   "execution_count": 28,
   "metadata": {
    "vscode": {
     "languageId": "r"
    }
   },
   "outputs": [
    {
     "data": {
      "image/png": "[encoded data removed]",
      "text/plain": [
       "plot without title"
      ]
     },
     "metadata": {
      "image/png": {
       "height": 300,
       "width": 240
      }
     },
     "output_type": "display_data"
    }
   ],
   "source": [
    "options(repr.plot.width = 4, repr.plot.height = 5)\n",
    "\n",
    "bootstrap_diaa %>%\n",
    "  filter(diaa %in% c(destab_wt)) %>%\n",
    "  filter(!str_detect(diaa, '\\\\*')) %>%\n",
    "  filter(diaa != 'YK') %>%\n",
    "  group_by(diaa) %>%\n",
    "  mutate(order = lfc_med[genotype == 'Hel2-del'] - lfc_med[genotype == 'WT']) %>%\n",
    "  mutate(genotype = case_when(genotype == 'WT' ~ 'wild-type', genotype == 'Hel2-del' ~ ' hel2', genotype == 'Syh1-del' ~ ' syh1')) %>%\n",
    "  ungroup() %>%\n",
    "  mutate(diaa = fct_reorder(diaa, order)) %>%\n",
    "  ggplot(aes(x = lfc_med, y = diaa,\n",
    "             xmin = lfc_med - lfc_sd, xmax = lfc_med + lfc_sd,\n",
    "             color=genotype)) +\n",
    "  geom_errorbar(width=0.3, size=0.3) +\n",
    "  geom_point(size=0.7) +\n",
    "  scale_color_manual(values=c('wild-type'='black', ' hel2'='#E69F00', ' syh1' = '#1A85FF')) +\n",
    "  # scale_x_continuous(breaks=seq(-2.5,1,0.5), limits=c(-2.5,0.5)) +\n",
    "  theme + \n",
    "  theme(legend.position = \"top\",\n",
    "        axis.line.x = element_blank(),\n",
    "        axis.line.y = element_blank(),\n",
    "        axis.ticks.y = element_blank(),\n",
    "        panel.grid.major.y = element_line(color='grey', size=0.2),\n",
    "        legend.key.height = unit(2.5, 'mm'),\n",
    "        legend.key.width = unit(2, 'mm'),\n",
    "        legend.text = element_text(size=8),\n",
    "        legend.title = element_text(size=8),\n",
    "        legend.box.margin=margin(-12,-12,-12,-12),\n",
    "        ) +\n",
    "  labs(x = \"mRNA level (log2, arb. units)\", y = \"Amino acid\", color='') +\n",
    "  geom_vline(xintercept=0, color='grey', size=0.2, linetype=2)\n",
    "\n",
    "ggsave(\"../figures/fig4_destab_diaa_in_wt.pdf\", width=2.4, height=3.15)"
   ]
  },
  {
   "cell_type": "code",
   "execution_count": 27,
   "metadata": {
    "vscode": {
     "languageId": "r"
    }
   },
   "outputs": [
    {
     "data": {
      "image/png": "[encoded data removed]",
      "text/plain": [
       "plot without title"
      ]
     },
     "metadata": {
      "image/png": {
       "height": 300,
       "width": 240
      }
     },
     "output_type": "display_data"
    }
   ],
   "source": [
    "options(repr.plot.width = 4, repr.plot.height = 5)\n",
    "\n",
    "bootstrap_diaa %>%\n",
    "  filter(diaa %in% c('GP', 'LA')) %>%\n",
    "  filter(!str_detect(diaa, '\\\\*')) %>%\n",
    "  group_by(diaa) %>%\n",
    "  mutate(order = lfc_med[genotype == 'Hel2-del'] - lfc_med[genotype == 'WT']) %>%\n",
    "  mutate(genotype = case_when(genotype == 'WT' ~ 'wild-type', genotype == 'Hel2-del' ~ ' hel2', genotype == 'Syh1-del' ~ ' syh1')) %>%\n",
    "  ungroup() %>%\n",
    "  mutate(diaa = fct_reorder(diaa, order)) %>%\n",
    "  ggplot(aes(x = lfc_med, y = diaa,\n",
    "             xmin = lfc_med - lfc_sd, xmax = lfc_med + lfc_sd,\n",
    "             color=genotype)) +\n",
    "  geom_errorbar(width=0.3, size=0.3) +\n",
    "  geom_point(size=0.7) +\n",
    "  scale_color_manual(values=c('wild-type'='black', ' hel2'='#E69F00', ' syh1' = '#1A85FF')) +\n",
    "  theme + \n",
    "  theme(legend.position = \"top\",\n",
    "        axis.line.x = element_blank(),\n",
    "        axis.line.y = element_blank(),\n",
    "        axis.ticks.y = element_blank(),\n",
    "        panel.grid.major.y = element_line(color='grey', size=0.2),\n",
    "        legend.key.height = unit(2.5, 'mm'),\n",
    "        legend.key.width = unit(2, 'mm'),\n",
    "        legend.text = element_text(size=8),\n",
    "        legend.title = element_text(size=8),\n",
    "        legend.box.margin=margin(-12,-12,-12,-12),\n",
    "        ) +\n",
    "  labs(x = \"mRNA level\\n(log2, arb. units)\", y = \"Amino acid\", color='') +\n",
    "  geom_vline(xintercept=0, color='grey', size=0.2, linetype=2)\n",
    "\n",
    "ggsave(\"../figures/sfig_destab_diaa_in_wt_gp.pdf\",width=1.9, height=1.35)"
   ]
  },
  {
   "cell_type": "markdown",
   "metadata": {},
   "source": [
    "## Look at codon level effects"
   ]
  },
  {
   "cell_type": "code",
   "execution_count": 33,
   "metadata": {
    "vscode": {
     "languageId": "r"
    }
   },
   "outputs": [],
   "source": [
    "calc_lfc_bootstrap <- function(data, indices) {\n",
    "  d <- data[indices,]\n",
    "  log2(sum(d$barcode_count_mrna)) - log2(sum(d$barcode_count_gdna))\n",
    "}\n",
    "\n",
    "wt_boot_dicodon <- dicodons_with_barcode_cutoffs %>%\n",
    "  filter(genotype == 'wt') %>%\n",
    "  group_by(dicodon) %>%\n",
    "  nest() %>%\n",
    "  mutate(lfc_boot = map(data, function(df) boot::boot(data=df, statistic=calc_lfc_bootstrap, R=100)$t)) %>%\n",
    "  select(-data) %>%\n",
    "  mutate(lfc = map_dbl(lfc_boot, mean)) %>%\n",
    "  mutate(lfc_sd = map_dbl(lfc_boot, sd)) %>%\n",
    "  select(-lfc_boot) %>%\n",
    "  ungroup() %>%\n",
    "  mutate(lfc_med = lfc - median(lfc)) %>%\n",
    "  mutate(genotype='WT')\n",
    "\n",
    "hel2_boot_dicodon <- dicodons_with_barcode_cutoffs %>%\n",
    "  filter(genotype == 'hel2') %>%\n",
    "  group_by(dicodon) %>%\n",
    "  nest() %>%\n",
    "  mutate(lfc_boot = map(data, function(df) boot::boot(data=df, statistic=calc_lfc_bootstrap, R=100)$t)) %>%\n",
    "  select(-data) %>%\n",
    "  mutate(lfc = map_dbl(lfc_boot, mean)) %>%\n",
    "  mutate(lfc_sd = map_dbl(lfc_boot, sd)) %>%\n",
    "  select(-lfc_boot) %>%\n",
    "  ungroup() %>%\n",
    "  mutate(lfc_med = lfc - median(lfc)) %>%\n",
    "  mutate(genotype='Hel2-del')\n",
    "\n",
    "syh1_boot_dicodon <- dicodons_with_barcode_cutoffs %>%\n",
    "  filter(genotype == 'syh1') %>%\n",
    "  group_by(dicodon) %>%\n",
    "  nest() %>%\n",
    "  mutate(lfc_boot = map(data, function(df) boot::boot(data=df, statistic=calc_lfc_bootstrap, R=100)$t)) %>%\n",
    "  select(-data) %>%\n",
    "  mutate(lfc = map_dbl(lfc_boot, mean)) %>%\n",
    "  mutate(lfc_sd = map_dbl(lfc_boot, sd)) %>%\n",
    "  select(-lfc_boot) %>%\n",
    "  ungroup() %>%\n",
    "  mutate(lfc_med = lfc - median(lfc)) %>%\n",
    "  mutate(genotype='Syh1-del')\n",
    "\n",
    "bootstrap_dicodon <- bind_rows(wt_boot_dicodon, hel2_boot_dicodon, syh1_boot_dicodon)"
   ]
  },
  {
   "cell_type": "code",
   "execution_count": 55,
   "metadata": {
    "vscode": {
     "languageId": "r"
    }
   },
   "outputs": [
    {
     "data": {
      "image/png": "[encoded data removed]",
      "text/plain": [
       "plot without title"
      ]
     },
     "metadata": {
      "image/png": {
       "height": 180,
       "width": 240
      }
     },
     "output_type": "display_data"
    }
   ],
   "source": [
    "options(repr.plot.width = 4, repr.plot.height = 3)\n",
    "\n",
    "bootstrap_dicodon %>%\n",
    "    filter(dicodon == 'CGACGA') %>%\n",
    "    ggplot() +\n",
    "    aes(x=genotype, y=lfc_med, ymin=lfc_med-lfc_sd, ymax=lfc_med+lfc_sd) +\n",
    "    geom_point() +\n",
    "    geom_errorbar()"
   ]
  },
  {
   "cell_type": "code",
   "execution_count": null,
   "metadata": {
    "vscode": {
     "languageId": "r"
    }
   },
   "outputs": [],
   "source": []
  }
 ],
 "metadata": {
  "kernelspec": {
   "display_name": "R_project_repo_1.13.0",
   "language": "R",
   "name": "ir_project_repo_1.13.0"
  },
  "language_info": {
   "codemirror_mode": "r",
   "file_extension": ".r",
   "mimetype": "text/x-r-source",
   "name": "R",
   "pygments_lexer": "r",
   "version": "4.1.3"
  },
  "orig_nbformat": 4
 },
 "nbformat": 4,
 "nbformat_minor": 2
}
