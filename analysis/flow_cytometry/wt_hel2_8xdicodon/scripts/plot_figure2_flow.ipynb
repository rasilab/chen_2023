{
 "cells": [
  {
   "attachments": {},
   "cell_type": "markdown",
   "metadata": {},
   "source": [
    "## Minimum code for Figure 2 flow panels"
   ]
  },
  {
   "cell_type": "code",
   "execution_count": 57,
   "metadata": {
    "vscode": {
     "languageId": "r"
    }
   },
   "outputs": [],
   "source": [
    "suppressPackageStartupMessages(library(Biostrings))\n",
    "suppressPackageStartupMessages(library(tidyverse))\n",
    "suppressPackageStartupMessages(library(rasilabRtemplates))\n",
    "suppressPackageStartupMessages(library(boot))\n",
    "suppressPackageStartupMessages(library(ggrepel))\n",
    "suppressPackageStartupMessages(library(plotrix))"
   ]
  },
  {
   "cell_type": "code",
   "execution_count": 58,
   "metadata": {
    "vscode": {
     "languageId": "r"
    }
   },
   "outputs": [],
   "source": [
    "theme <- theme(\n",
    "        title = element_text(margin = margin(t=0, r=2, b=2, l=2), size=8),\n",
    "        axis.title.x = element_text(margin = margin(t=2, r=2, b=0, l=2), size=8),\n",
    "        axis.title.y = element_text(margin = margin(t=2, r=2, b=2, l=0), size=8),\n",
    "        text = element_text(size = 8),\n",
    "        legend.text=element_text(size=8),\n",
    "        axis.line.x=element_line(linewidth=0.2),\n",
    "        axis.line.y=element_line(linewidth=0.2),\n",
    "        axis.ticks.y =  element_line(linewidth=0.2),\n",
    "        axis.ticks.x = element_line(linewidth=0.2),\n",
    "        axis.text.x = element_text(size=8),\n",
    "        axis.text.y = element_text(size=8)\n",
    "        )"
   ]
  },
  {
   "cell_type": "code",
   "execution_count": 59,
   "metadata": {
    "vscode": {
     "languageId": "r"
    }
   },
   "outputs": [],
   "source": [
    "if (!file.exists('../figures')){\n",
    "    dir.create('../figures')\n",
    "}"
   ]
  },
  {
   "attachments": {},
   "cell_type": "markdown",
   "metadata": {},
   "source": [
    "## Plot select dicodons flow\n",
    "\n",
    "- (1148.1 = 9x_AGA, 1148.2 = 8x_AGA)"
   ]
  },
  {
   "cell_type": "code",
   "execution_count": 60,
   "metadata": {
    "vscode": {
     "languageId": "r"
    }
   },
   "outputs": [],
   "source": [
    "fcsfiles_plate1 <- '../../../../data/flow_cytometry/exp44_plate1' %>% \n",
    "  list.files(full.names = T)\n",
    "\n",
    "samplenames_plate1 <- fcsfiles_plate1 %>% \n",
    "  stringr::str_match('([^/]+).fcs$') %>% \n",
    "  magrittr::extract(,2)"
   ]
  },
  {
   "cell_type": "code",
   "execution_count": 61,
   "metadata": {
    "vscode": {
     "languageId": "r"
    }
   },
   "outputs": [
    {
     "name": "stderr",
     "output_type": "stream",
     "text": [
      "Warning message in readFCSdata(con, offsets, txt, transformation, which.lines, scale, :\n",
      "“Some data values of 'PE.TexasRd.A' channel exceed its $PnR value 262144 and will be truncated!\n",
      " To avoid truncation, either fix $PnR before generating FCS or set 'truncate_max_range = FALSE'”\n",
      "Warning message in readFCSdata(con, offsets, txt, transformation, which.lines, scale, :\n",
      "“Some data values of 'FSC.A' channel exceed its $PnR value 262144 and will be truncated!\n",
      " To avoid truncation, either fix $PnR before generating FCS or set 'truncate_max_range = FALSE'”\n",
      "Warning message in readFCSdata(con, offsets, txt, transformation, which.lines, scale, :\n",
      "“Some data values of 'PE.TexasRd.A' channel exceed its $PnR value 262144 and will be truncated!\n",
      " To avoid truncation, either fix $PnR before generating FCS or set 'truncate_max_range = FALSE'”\n",
      "Warning message in readFCSdata(con, offsets, txt, transformation, which.lines, scale, :\n",
      "“Some data values of 'FSC.A' channel exceed its $PnR value 262144 and will be truncated!\n",
      " To avoid truncation, either fix $PnR before generating FCS or set 'truncate_max_range = FALSE'”\n",
      "Warning message in readFCSdata(con, offsets, txt, transformation, which.lines, scale, :\n",
      "“Some data values of 'PE.TexasRd.A' channel exceed its $PnR value 262144 and will be truncated!\n",
      " To avoid truncation, either fix $PnR before generating FCS or set 'truncate_max_range = FALSE'”\n",
      "Warning message in readFCSdata(con, offsets, txt, transformation, which.lines, scale, :\n",
      "“Some data values of 'PE.TexasRd.A' channel exceed its $PnR value 262144 and will be truncated!\n",
      " To avoid truncation, either fix $PnR before generating FCS or set 'truncate_max_range = FALSE'”\n",
      "Warning message in readFCSdata(con, offsets, txt, transformation, which.lines, scale, :\n",
      "“Some data values of 'PE.TexasRd.A' channel exceed its $PnR value 262144 and will be truncated!\n",
      " To avoid truncation, either fix $PnR before generating FCS or set 'truncate_max_range = FALSE'”\n",
      "Warning message in readFCSdata(con, offsets, txt, transformation, which.lines, scale, :\n",
      "“Some data values of 'PE.TexasRd.A' channel exceed its $PnR value 262144 and will be truncated!\n",
      " To avoid truncation, either fix $PnR before generating FCS or set 'truncate_max_range = FALSE'”\n",
      "Warning message in readFCSdata(con, offsets, txt, transformation, which.lines, scale, :\n",
      "“Some data values of 'PE.TexasRd.A' channel exceed its $PnR value 262144 and will be truncated!\n",
      " To avoid truncation, either fix $PnR before generating FCS or set 'truncate_max_range = FALSE'”\n",
      "Warning message in readFCSdata(con, offsets, txt, transformation, which.lines, scale, :\n",
      "“Some data values of 'PE.TexasRd.A' channel exceed its $PnR value 262144 and will be truncated!\n",
      " To avoid truncation, either fix $PnR before generating FCS or set 'truncate_max_range = FALSE'”\n",
      "Warning message in readFCSdata(con, offsets, txt, transformation, which.lines, scale, :\n",
      "“Some data values of 'FSC.A' channel exceed its $PnR value 262144 and will be truncated!\n",
      " To avoid truncation, either fix $PnR before generating FCS or set 'truncate_max_range = FALSE'”\n",
      "Warning message in readFCSdata(con, offsets, txt, transformation, which.lines, scale, :\n",
      "“Some data values of 'PE.TexasRd.A' channel exceed its $PnR value 262144 and will be truncated!\n",
      " To avoid truncation, either fix $PnR before generating FCS or set 'truncate_max_range = FALSE'”\n",
      "Warning message in readFCSdata(con, offsets, txt, transformation, which.lines, scale, :\n",
      "“Some data values of 'PE.TexasRd.A' channel exceed its $PnR value 262144 and will be truncated!\n",
      " To avoid truncation, either fix $PnR before generating FCS or set 'truncate_max_range = FALSE'”\n",
      "Warning message in readFCSdata(con, offsets, txt, transformation, which.lines, scale, :\n",
      "“Some data values of 'FSC.A' channel exceed its $PnR value 262144 and will be truncated!\n",
      " To avoid truncation, either fix $PnR before generating FCS or set 'truncate_max_range = FALSE'”\n",
      "Warning message in readFCSdata(con, offsets, txt, transformation, which.lines, scale, :\n",
      "“Some data values of 'PE.TexasRd.A' channel exceed its $PnR value 262144 and will be truncated!\n",
      " To avoid truncation, either fix $PnR before generating FCS or set 'truncate_max_range = FALSE'”\n",
      "Warning message in readFCSdata(con, offsets, txt, transformation, which.lines, scale, :\n",
      "“Some data values of 'PE.TexasRd.A' channel exceed its $PnR value 262144 and will be truncated!\n",
      " To avoid truncation, either fix $PnR before generating FCS or set 'truncate_max_range = FALSE'”\n",
      "Warning message in readFCSdata(con, offsets, txt, transformation, which.lines, scale, :\n",
      "“Some data values of 'FSC.A' channel exceed its $PnR value 262144 and will be truncated!\n",
      " To avoid truncation, either fix $PnR before generating FCS or set 'truncate_max_range = FALSE'”\n",
      "Warning message in readFCSdata(con, offsets, txt, transformation, which.lines, scale, :\n",
      "“Some data values of 'SSC.A' channel exceed its $PnR value 262144 and will be truncated!\n",
      " To avoid truncation, either fix $PnR before generating FCS or set 'truncate_max_range = FALSE'”\n",
      "Warning message in readFCSdata(con, offsets, txt, transformation, which.lines, scale, :\n",
      "“Some data values of 'PE.TexasRd.A' channel exceed its $PnR value 262144 and will be truncated!\n",
      " To avoid truncation, either fix $PnR before generating FCS or set 'truncate_max_range = FALSE'”\n",
      "Warning message in readFCSdata(con, offsets, txt, transformation, which.lines, scale, :\n",
      "“Some data values of 'FSC.A' channel exceed its $PnR value 262144 and will be truncated!\n",
      " To avoid truncation, either fix $PnR before generating FCS or set 'truncate_max_range = FALSE'”\n",
      "Warning message in readFCSdata(con, offsets, txt, transformation, which.lines, scale, :\n",
      "“Some data values of 'PE.TexasRd.A' channel exceed its $PnR value 262144 and will be truncated!\n",
      " To avoid truncation, either fix $PnR before generating FCS or set 'truncate_max_range = FALSE'”\n",
      "Warning message in readFCSdata(con, offsets, txt, transformation, which.lines, scale, :\n",
      "“Some data values of 'PE.TexasRd.A' channel exceed its $PnR value 262144 and will be truncated!\n",
      " To avoid truncation, either fix $PnR before generating FCS or set 'truncate_max_range = FALSE'”\n",
      "Warning message in readFCSdata(con, offsets, txt, transformation, which.lines, scale, :\n",
      "“Some data values of 'PE.TexasRd.A' channel exceed its $PnR value 262144 and will be truncated!\n",
      " To avoid truncation, either fix $PnR before generating FCS or set 'truncate_max_range = FALSE'”\n",
      "Warning message in readFCSdata(con, offsets, txt, transformation, which.lines, scale, :\n",
      "“Some data values of 'FSC.A' channel exceed its $PnR value 262144 and will be truncated!\n",
      " To avoid truncation, either fix $PnR before generating FCS or set 'truncate_max_range = FALSE'”\n",
      "Warning message in readFCSdata(con, offsets, txt, transformation, which.lines, scale, :\n",
      "“Some data values of 'PE.TexasRd.A' channel exceed its $PnR value 262144 and will be truncated!\n",
      " To avoid truncation, either fix $PnR before generating FCS or set 'truncate_max_range = FALSE'”\n",
      "Warning message in readFCSdata(con, offsets, txt, transformation, which.lines, scale, :\n",
      "“Some data values of 'FSC.A' channel exceed its $PnR value 262144 and will be truncated!\n",
      " To avoid truncation, either fix $PnR before generating FCS or set 'truncate_max_range = FALSE'”\n",
      "Warning message in readFCSdata(con, offsets, txt, transformation, which.lines, scale, :\n",
      "“Some data values of 'PE.TexasRd.A' channel exceed its $PnR value 262144 and will be truncated!\n",
      " To avoid truncation, either fix $PnR before generating FCS or set 'truncate_max_range = FALSE'”\n",
      "Warning message in readFCSdata(con, offsets, txt, transformation, which.lines, scale, :\n",
      "“Some data values of 'PE.TexasRd.A' channel exceed its $PnR value 262144 and will be truncated!\n",
      " To avoid truncation, either fix $PnR before generating FCS or set 'truncate_max_range = FALSE'”\n",
      "Warning message in readFCSdata(con, offsets, txt, transformation, which.lines, scale, :\n",
      "“Some data values of 'PE.TexasRd.A' channel exceed its $PnR value 262144 and will be truncated!\n",
      " To avoid truncation, either fix $PnR before generating FCS or set 'truncate_max_range = FALSE'”\n",
      "Warning message in readFCSdata(con, offsets, txt, transformation, which.lines, scale, :\n",
      "“Some data values of 'PE.TexasRd.A' channel exceed its $PnR value 262144 and will be truncated!\n",
      " To avoid truncation, either fix $PnR before generating FCS or set 'truncate_max_range = FALSE'”\n",
      "Warning message in readFCSdata(con, offsets, txt, transformation, which.lines, scale, :\n",
      "“Some data values of 'PE.TexasRd.A' channel exceed its $PnR value 262144 and will be truncated!\n",
      " To avoid truncation, either fix $PnR before generating FCS or set 'truncate_max_range = FALSE'”\n",
      "Warning message in readFCSdata(con, offsets, txt, transformation, which.lines, scale, :\n",
      "“Some data values of 'PE.TexasRd.A' channel exceed its $PnR value 262144 and will be truncated!\n",
      " To avoid truncation, either fix $PnR before generating FCS or set 'truncate_max_range = FALSE'”\n",
      "Warning message in readFCSdata(con, offsets, txt, transformation, which.lines, scale, :\n",
      "“Some data values of 'PE.TexasRd.A' channel exceed its $PnR value 262144 and will be truncated!\n",
      " To avoid truncation, either fix $PnR before generating FCS or set 'truncate_max_range = FALSE'”\n",
      "Warning message in readFCSdata(con, offsets, txt, transformation, which.lines, scale, :\n",
      "“Some data values of 'PE.TexasRd.A' channel exceed its $PnR value 262144 and will be truncated!\n",
      " To avoid truncation, either fix $PnR before generating FCS or set 'truncate_max_range = FALSE'”\n",
      "Warning message in readFCSdata(con, offsets, txt, transformation, which.lines, scale, :\n",
      "“Some data values of 'PE.TexasRd.A' channel exceed its $PnR value 262144 and will be truncated!\n",
      " To avoid truncation, either fix $PnR before generating FCS or set 'truncate_max_range = FALSE'”\n",
      "Warning message in readFCSdata(con, offsets, txt, transformation, which.lines, scale, :\n",
      "“Some data values of 'FSC.A' channel exceed its $PnR value 262144 and will be truncated!\n",
      " To avoid truncation, either fix $PnR before generating FCS or set 'truncate_max_range = FALSE'”\n",
      "Warning message in readFCSdata(con, offsets, txt, transformation, which.lines, scale, :\n",
      "“Some data values of 'PE.TexasRd.A' channel exceed its $PnR value 262144 and will be truncated!\n",
      " To avoid truncation, either fix $PnR before generating FCS or set 'truncate_max_range = FALSE'”\n",
      "Warning message in readFCSdata(con, offsets, txt, transformation, which.lines, scale, :\n",
      "“Some data values of 'PE.TexasRd.A' channel exceed its $PnR value 262144 and will be truncated!\n",
      " To avoid truncation, either fix $PnR before generating FCS or set 'truncate_max_range = FALSE'”\n",
      "Warning message in readFCSdata(con, offsets, txt, transformation, which.lines, scale, :\n",
      "“Some data values of 'PE.TexasRd.A' channel exceed its $PnR value 262144 and will be truncated!\n",
      " To avoid truncation, either fix $PnR before generating FCS or set 'truncate_max_range = FALSE'”\n",
      "Warning message in readFCSdata(con, offsets, txt, transformation, which.lines, scale, :\n",
      "“Some data values of 'PE.TexasRd.A' channel exceed its $PnR value 262144 and will be truncated!\n",
      " To avoid truncation, either fix $PnR before generating FCS or set 'truncate_max_range = FALSE'”\n",
      "Warning message in readFCSdata(con, offsets, txt, transformation, which.lines, scale, :\n",
      "“Some data values of 'FSC.A' channel exceed its $PnR value 262144 and will be truncated!\n",
      " To avoid truncation, either fix $PnR before generating FCS or set 'truncate_max_range = FALSE'”\n",
      "Warning message in readFCSdata(con, offsets, txt, transformation, which.lines, scale, :\n",
      "“Some data values of 'PE.TexasRd.A' channel exceed its $PnR value 262144 and will be truncated!\n",
      " To avoid truncation, either fix $PnR before generating FCS or set 'truncate_max_range = FALSE'”\n",
      "Warning message in readFCSdata(con, offsets, txt, transformation, which.lines, scale, :\n",
      "“Some data values of 'FSC.A' channel exceed its $PnR value 262144 and will be truncated!\n",
      " To avoid truncation, either fix $PnR before generating FCS or set 'truncate_max_range = FALSE'”\n",
      "Warning message in readFCSdata(con, offsets, txt, transformation, which.lines, scale, :\n",
      "“Some data values of 'PE.TexasRd.A' channel exceed its $PnR value 262144 and will be truncated!\n",
      " To avoid truncation, either fix $PnR before generating FCS or set 'truncate_max_range = FALSE'”\n",
      "Warning message in readFCSdata(con, offsets, txt, transformation, which.lines, scale, :\n",
      "“Some data values of 'PE.TexasRd.A' channel exceed its $PnR value 262144 and will be truncated!\n",
      " To avoid truncation, either fix $PnR before generating FCS or set 'truncate_max_range = FALSE'”\n",
      "Warning message in readFCSdata(con, offsets, txt, transformation, which.lines, scale, :\n",
      "“Some data values of 'PE.TexasRd.A' channel exceed its $PnR value 262144 and will be truncated!\n",
      " To avoid truncation, either fix $PnR before generating FCS or set 'truncate_max_range = FALSE'”\n",
      "Warning message in readFCSdata(con, offsets, txt, transformation, which.lines, scale, :\n",
      "“Some data values of 'FSC.A' channel exceed its $PnR value 262144 and will be truncated!\n",
      " To avoid truncation, either fix $PnR before generating FCS or set 'truncate_max_range = FALSE'”\n",
      "Warning message in readFCSdata(con, offsets, txt, transformation, which.lines, scale, :\n",
      "“Some data values of 'PE.TexasRd.A' channel exceed its $PnR value 262144 and will be truncated!\n",
      " To avoid truncation, either fix $PnR before generating FCS or set 'truncate_max_range = FALSE'”\n",
      "Warning message in readFCSdata(con, offsets, txt, transformation, which.lines, scale, :\n",
      "“Some data values of 'PE.TexasRd.A' channel exceed its $PnR value 262144 and will be truncated!\n",
      " To avoid truncation, either fix $PnR before generating FCS or set 'truncate_max_range = FALSE'”\n",
      "Warning message in readFCSdata(con, offsets, txt, transformation, which.lines, scale, :\n",
      "“Some data values of 'PE.TexasRd.A' channel exceed its $PnR value 262144 and will be truncated!\n",
      " To avoid truncation, either fix $PnR before generating FCS or set 'truncate_max_range = FALSE'”\n",
      "Warning message in readFCSdata(con, offsets, txt, transformation, which.lines, scale, :\n",
      "“Some data values of 'PE.TexasRd.A' channel exceed its $PnR value 262144 and will be truncated!\n",
      " To avoid truncation, either fix $PnR before generating FCS or set 'truncate_max_range = FALSE'”\n",
      "Warning message in readFCSdata(con, offsets, txt, transformation, which.lines, scale, :\n",
      "“Some data values of 'FSC.A' channel exceed its $PnR value 262144 and will be truncated!\n",
      " To avoid truncation, either fix $PnR before generating FCS or set 'truncate_max_range = FALSE'”\n",
      "Warning message in readFCSdata(con, offsets, txt, transformation, which.lines, scale, :\n",
      "“Some data values of 'PE.TexasRd.A' channel exceed its $PnR value 262144 and will be truncated!\n",
      " To avoid truncation, either fix $PnR before generating FCS or set 'truncate_max_range = FALSE'”\n",
      "Warning message in readFCSdata(con, offsets, txt, transformation, which.lines, scale, :\n",
      "“Some data values of 'FSC.A' channel exceed its $PnR value 262144 and will be truncated!\n",
      " To avoid truncation, either fix $PnR before generating FCS or set 'truncate_max_range = FALSE'”\n",
      "Warning message in readFCSdata(con, offsets, txt, transformation, which.lines, scale, :\n",
      "“Some data values of 'PE.TexasRd.A' channel exceed its $PnR value 262144 and will be truncated!\n",
      " To avoid truncation, either fix $PnR before generating FCS or set 'truncate_max_range = FALSE'”\n",
      "Warning message in readFCSdata(con, offsets, txt, transformation, which.lines, scale, :\n",
      "“Some data values of 'PE.TexasRd.A' channel exceed its $PnR value 262144 and will be truncated!\n",
      " To avoid truncation, either fix $PnR before generating FCS or set 'truncate_max_range = FALSE'”\n",
      "Warning message in readFCSdata(con, offsets, txt, transformation, which.lines, scale, :\n",
      "“Some data values of 'FSC.A' channel exceed its $PnR value 262144 and will be truncated!\n",
      " To avoid truncation, either fix $PnR before generating FCS or set 'truncate_max_range = FALSE'”\n",
      "Warning message in readFCSdata(con, offsets, txt, transformation, which.lines, scale, :\n",
      "“Some data values of 'SSC.A' channel exceed its $PnR value 262144 and will be truncated!\n",
      " To avoid truncation, either fix $PnR before generating FCS or set 'truncate_max_range = FALSE'”\n",
      "Warning message in readFCSdata(con, offsets, txt, transformation, which.lines, scale, :\n",
      "“Some data values of 'PE.TexasRd.A' channel exceed its $PnR value 262144 and will be truncated!\n",
      " To avoid truncation, either fix $PnR before generating FCS or set 'truncate_max_range = FALSE'”\n",
      "Warning message in readFCSdata(con, offsets, txt, transformation, which.lines, scale, :\n",
      "“Some data values of 'PE.TexasRd.A' channel exceed its $PnR value 262144 and will be truncated!\n",
      " To avoid truncation, either fix $PnR before generating FCS or set 'truncate_max_range = FALSE'”\n",
      "Warning message in readFCSdata(con, offsets, txt, transformation, which.lines, scale, :\n",
      "“Some data values of 'PE.TexasRd.A' channel exceed its $PnR value 262144 and will be truncated!\n",
      " To avoid truncation, either fix $PnR before generating FCS or set 'truncate_max_range = FALSE'”\n",
      "Warning message in readFCSdata(con, offsets, txt, transformation, which.lines, scale, :\n",
      "“Some data values of 'PE.TexasRd.A' channel exceed its $PnR value 262144 and will be truncated!\n",
      " To avoid truncation, either fix $PnR before generating FCS or set 'truncate_max_range = FALSE'”\n",
      "Warning message in readFCSdata(con, offsets, txt, transformation, which.lines, scale, :\n",
      "“Some data values of 'PE.TexasRd.A' channel exceed its $PnR value 262144 and will be truncated!\n",
      " To avoid truncation, either fix $PnR before generating FCS or set 'truncate_max_range = FALSE'”\n",
      "Warning message in readFCSdata(con, offsets, txt, transformation, which.lines, scale, :\n",
      "“Some data values of 'PE.TexasRd.A' channel exceed its $PnR value 262144 and will be truncated!\n",
      " To avoid truncation, either fix $PnR before generating FCS or set 'truncate_max_range = FALSE'”\n",
      "Warning message in readFCSdata(con, offsets, txt, transformation, which.lines, scale, :\n",
      "“Some data values of 'PE.TexasRd.A' channel exceed its $PnR value 262144 and will be truncated!\n",
      " To avoid truncation, either fix $PnR before generating FCS or set 'truncate_max_range = FALSE'”\n",
      "Warning message in readFCSdata(con, offsets, txt, transformation, which.lines, scale, :\n",
      "“Some data values of 'PE.TexasRd.A' channel exceed its $PnR value 262144 and will be truncated!\n",
      " To avoid truncation, either fix $PnR before generating FCS or set 'truncate_max_range = FALSE'”\n",
      "Warning message in readFCSdata(con, offsets, txt, transformation, which.lines, scale, :\n",
      "“Some data values of 'FSC.A' channel exceed its $PnR value 262144 and will be truncated!\n",
      " To avoid truncation, either fix $PnR before generating FCS or set 'truncate_max_range = FALSE'”\n",
      "Warning message in readFCSdata(con, offsets, txt, transformation, which.lines, scale, :\n",
      "“Some data values of 'PE.TexasRd.A' channel exceed its $PnR value 262144 and will be truncated!\n",
      " To avoid truncation, either fix $PnR before generating FCS or set 'truncate_max_range = FALSE'”\n",
      "Warning message in readFCSdata(con, offsets, txt, transformation, which.lines, scale, :\n",
      "“Some data values of 'FSC.A' channel exceed its $PnR value 262144 and will be truncated!\n",
      " To avoid truncation, either fix $PnR before generating FCS or set 'truncate_max_range = FALSE'”\n",
      "Warning message in readFCSdata(con, offsets, txt, transformation, which.lines, scale, :\n",
      "“Some data values of 'SSC.A' channel exceed its $PnR value 262144 and will be truncated!\n",
      " To avoid truncation, either fix $PnR before generating FCS or set 'truncate_max_range = FALSE'”\n",
      "Warning message in readFCSdata(con, offsets, txt, transformation, which.lines, scale, :\n",
      "“Some data values of 'PE.TexasRd.A' channel exceed its $PnR value 262144 and will be truncated!\n",
      " To avoid truncation, either fix $PnR before generating FCS or set 'truncate_max_range = FALSE'”\n",
      "Warning message in readFCSdata(con, offsets, txt, transformation, which.lines, scale, :\n",
      "“Some data values of 'PE.TexasRd.A' channel exceed its $PnR value 262144 and will be truncated!\n",
      " To avoid truncation, either fix $PnR before generating FCS or set 'truncate_max_range = FALSE'”\n",
      "Warning message in readFCSdata(con, offsets, txt, transformation, which.lines, scale, :\n",
      "“Some data values of 'FSC.A' channel exceed its $PnR value 262144 and will be truncated!\n",
      " To avoid truncation, either fix $PnR before generating FCS or set 'truncate_max_range = FALSE'”\n",
      "Warning message in readFCSdata(con, offsets, txt, transformation, which.lines, scale, :\n",
      "“Some data values of 'PE.TexasRd.A' channel exceed its $PnR value 262144 and will be truncated!\n",
      " To avoid truncation, either fix $PnR before generating FCS or set 'truncate_max_range = FALSE'”\n"
     ]
    }
   ],
   "source": [
    "flowdata_plate1  <- fcsfiles_plate1 %>% \n",
    "  lapply(. %>%\n",
    "         flowCore::read.FCS(transformation = F, alter.names = T) %>% \n",
    "         flowCore::exprs() %>%\n",
    "         as_tibble()) %>%\n",
    "  set_names(samplenames_plate1) %>% \n",
    "  bind_rows(.id = 'file') %>% \n",
    "  mutate_at(vars(contains('FITC|TexasRd')), funs(. - 2 * min(.)))  %>%\n",
    "  mutate(tube = as.integer(str_extract(file, \"[:digit:]+$\")))"
   ]
  },
  {
   "cell_type": "code",
   "execution_count": 62,
   "metadata": {
    "vscode": {
     "languageId": "r"
    }
   },
   "outputs": [
    {
     "name": "stderr",
     "output_type": "stream",
     "text": [
      "\u001b[1mRows: \u001b[22m\u001b[34m96\u001b[39m \u001b[1mColumns: \u001b[22m\u001b[34m7\u001b[39m\n",
      "\u001b[36m──\u001b[39m \u001b[1mColumn specification\u001b[22m \u001b[36m────────────────────────────────────────────────────────\u001b[39m\n",
      "\u001b[1mDelimiter:\u001b[22m \",\"\n",
      "\u001b[31mchr\u001b[39m (6): Desc, plasmid_RefID, parent_strain, flow_label, file, order\n",
      "\u001b[32mdbl\u001b[39m (1): plate\n",
      "\n",
      "\u001b[36mℹ\u001b[39m Use `spec()` to retrieve the full column specification for this data.\n",
      "\u001b[36mℹ\u001b[39m Specify the column types or set `show_col_types = FALSE` to quiet this message.\n"
     ]
    }
   ],
   "source": [
    "annotations_plate1 <- read_csv(\"../annotations/sample_annotations_plates.csv\") %>% \n",
    "  filter(plate == \"1\") %>%\n",
    "  janitor::clean_names() %>% \n",
    "  mutate(file = str_extract(file, '([a-zA-Z]*)_([:digit:]+)_([A-Z][:digit:]+)_([A-Z][:digit:]+)'))"
   ]
  },
  {
   "cell_type": "code",
   "execution_count": 63,
   "metadata": {
    "vscode": {
     "languageId": "r"
    }
   },
   "outputs": [],
   "source": [
    "data1 <- flowdata_plate1 %>% \n",
    "  left_join(annotations_plate1, by = 'file') %>%\n",
    "  select(-tube, -plate)"
   ]
  },
  {
   "cell_type": "code",
   "execution_count": 64,
   "metadata": {
    "vscode": {
     "languageId": "r"
    }
   },
   "outputs": [
    {
     "name": "stderr",
     "output_type": "stream",
     "text": [
      "Warning message in readFCSdata(con, offsets, txt, transformation, which.lines, scale, :\n",
      "“Some data values of 'FSC.A' channel exceed its $PnR value 262144 and will be truncated!\n",
      " To avoid truncation, either fix $PnR before generating FCS or set 'truncate_max_range = FALSE'”\n",
      "Warning message in readFCSdata(con, offsets, txt, transformation, which.lines, scale, :\n",
      "“Some data values of 'SSC.A' channel exceed its $PnR value 262144 and will be truncated!\n",
      " To avoid truncation, either fix $PnR before generating FCS or set 'truncate_max_range = FALSE'”\n",
      "Warning message in readFCSdata(con, offsets, txt, transformation, which.lines, scale, :\n",
      "“Some data values of 'PE.TexasRd.A' channel exceed its $PnR value 262144 and will be truncated!\n",
      " To avoid truncation, either fix $PnR before generating FCS or set 'truncate_max_range = FALSE'”\n",
      "Warning message in readFCSdata(con, offsets, txt, transformation, which.lines, scale, :\n",
      "“Some data values of 'PE.TexasRd.A' channel exceed its $PnR value 262144 and will be truncated!\n",
      " To avoid truncation, either fix $PnR before generating FCS or set 'truncate_max_range = FALSE'”\n",
      "Warning message in readFCSdata(con, offsets, txt, transformation, which.lines, scale, :\n",
      "“Some data values of 'PE.TexasRd.A' channel exceed its $PnR value 262144 and will be truncated!\n",
      " To avoid truncation, either fix $PnR before generating FCS or set 'truncate_max_range = FALSE'”\n",
      "Warning message in readFCSdata(con, offsets, txt, transformation, which.lines, scale, :\n",
      "“Some data values of 'PE.TexasRd.A' channel exceed its $PnR value 262144 and will be truncated!\n",
      " To avoid truncation, either fix $PnR before generating FCS or set 'truncate_max_range = FALSE'”\n",
      "Warning message in readFCSdata(con, offsets, txt, transformation, which.lines, scale, :\n",
      "“Some data values of 'PE.TexasRd.A' channel exceed its $PnR value 262144 and will be truncated!\n",
      " To avoid truncation, either fix $PnR before generating FCS or set 'truncate_max_range = FALSE'”\n",
      "Warning message in readFCSdata(con, offsets, txt, transformation, which.lines, scale, :\n",
      "“Some data values of 'PE.TexasRd.A' channel exceed its $PnR value 262144 and will be truncated!\n",
      " To avoid truncation, either fix $PnR before generating FCS or set 'truncate_max_range = FALSE'”\n",
      "Warning message in readFCSdata(con, offsets, txt, transformation, which.lines, scale, :\n",
      "“Some data values of 'PE.TexasRd.A' channel exceed its $PnR value 262144 and will be truncated!\n",
      " To avoid truncation, either fix $PnR before generating FCS or set 'truncate_max_range = FALSE'”\n",
      "Warning message in readFCSdata(con, offsets, txt, transformation, which.lines, scale, :\n",
      "“Some data values of 'PE.TexasRd.A' channel exceed its $PnR value 262144 and will be truncated!\n",
      " To avoid truncation, either fix $PnR before generating FCS or set 'truncate_max_range = FALSE'”\n",
      "Warning message in readFCSdata(con, offsets, txt, transformation, which.lines, scale, :\n",
      "“Some data values of 'PE.TexasRd.A' channel exceed its $PnR value 262144 and will be truncated!\n",
      " To avoid truncation, either fix $PnR before generating FCS or set 'truncate_max_range = FALSE'”\n",
      "Warning message in readFCSdata(con, offsets, txt, transformation, which.lines, scale, :\n",
      "“Some data values of 'PE.TexasRd.A' channel exceed its $PnR value 262144 and will be truncated!\n",
      " To avoid truncation, either fix $PnR before generating FCS or set 'truncate_max_range = FALSE'”\n",
      "Warning message in readFCSdata(con, offsets, txt, transformation, which.lines, scale, :\n",
      "“Some data values of 'PE.TexasRd.A' channel exceed its $PnR value 262144 and will be truncated!\n",
      " To avoid truncation, either fix $PnR before generating FCS or set 'truncate_max_range = FALSE'”\n",
      "Warning message in readFCSdata(con, offsets, txt, transformation, which.lines, scale, :\n",
      "“Some data values of 'PE.TexasRd.A' channel exceed its $PnR value 262144 and will be truncated!\n",
      " To avoid truncation, either fix $PnR before generating FCS or set 'truncate_max_range = FALSE'”\n",
      "Warning message in readFCSdata(con, offsets, txt, transformation, which.lines, scale, :\n",
      "“Some data values of 'PE.TexasRd.A' channel exceed its $PnR value 262144 and will be truncated!\n",
      " To avoid truncation, either fix $PnR before generating FCS or set 'truncate_max_range = FALSE'”\n",
      "Warning message in readFCSdata(con, offsets, txt, transformation, which.lines, scale, :\n",
      "“Some data values of 'PE.TexasRd.A' channel exceed its $PnR value 262144 and will be truncated!\n",
      " To avoid truncation, either fix $PnR before generating FCS or set 'truncate_max_range = FALSE'”\n",
      "Warning message in readFCSdata(con, offsets, txt, transformation, which.lines, scale, :\n",
      "“Some data values of 'FSC.A' channel exceed its $PnR value 262144 and will be truncated!\n",
      " To avoid truncation, either fix $PnR before generating FCS or set 'truncate_max_range = FALSE'”\n",
      "Warning message in readFCSdata(con, offsets, txt, transformation, which.lines, scale, :\n",
      "“Some data values of 'PE.TexasRd.A' channel exceed its $PnR value 262144 and will be truncated!\n",
      " To avoid truncation, either fix $PnR before generating FCS or set 'truncate_max_range = FALSE'”\n",
      "Warning message in readFCSdata(con, offsets, txt, transformation, which.lines, scale, :\n",
      "“Some data values of 'PE.TexasRd.A' channel exceed its $PnR value 262144 and will be truncated!\n",
      " To avoid truncation, either fix $PnR before generating FCS or set 'truncate_max_range = FALSE'”\n",
      "Warning message in readFCSdata(con, offsets, txt, transformation, which.lines, scale, :\n",
      "“Some data values of 'PE.TexasRd.A' channel exceed its $PnR value 262144 and will be truncated!\n",
      " To avoid truncation, either fix $PnR before generating FCS or set 'truncate_max_range = FALSE'”\n",
      "Warning message in readFCSdata(con, offsets, txt, transformation, which.lines, scale, :\n",
      "“Some data values of 'PE.TexasRd.A' channel exceed its $PnR value 262144 and will be truncated!\n",
      " To avoid truncation, either fix $PnR before generating FCS or set 'truncate_max_range = FALSE'”\n",
      "Warning message in readFCSdata(con, offsets, txt, transformation, which.lines, scale, :\n",
      "“Some data values of 'PE.TexasRd.A' channel exceed its $PnR value 262144 and will be truncated!\n",
      " To avoid truncation, either fix $PnR before generating FCS or set 'truncate_max_range = FALSE'”\n",
      "Warning message in readFCSdata(con, offsets, txt, transformation, which.lines, scale, :\n",
      "“Some data values of 'PE.TexasRd.A' channel exceed its $PnR value 262144 and will be truncated!\n",
      " To avoid truncation, either fix $PnR before generating FCS or set 'truncate_max_range = FALSE'”\n",
      "Warning message in readFCSdata(con, offsets, txt, transformation, which.lines, scale, :\n",
      "“Some data values of 'PE.TexasRd.A' channel exceed its $PnR value 262144 and will be truncated!\n",
      " To avoid truncation, either fix $PnR before generating FCS or set 'truncate_max_range = FALSE'”\n",
      "Warning message in readFCSdata(con, offsets, txt, transformation, which.lines, scale, :\n",
      "“Some data values of 'PE.TexasRd.A' channel exceed its $PnR value 262144 and will be truncated!\n",
      " To avoid truncation, either fix $PnR before generating FCS or set 'truncate_max_range = FALSE'”\n",
      "Warning message in readFCSdata(con, offsets, txt, transformation, which.lines, scale, :\n",
      "“Some data values of 'FSC.A' channel exceed its $PnR value 262144 and will be truncated!\n",
      " To avoid truncation, either fix $PnR before generating FCS or set 'truncate_max_range = FALSE'”\n",
      "Warning message in readFCSdata(con, offsets, txt, transformation, which.lines, scale, :\n",
      "“Some data values of 'PE.TexasRd.A' channel exceed its $PnR value 262144 and will be truncated!\n",
      " To avoid truncation, either fix $PnR before generating FCS or set 'truncate_max_range = FALSE'”\n",
      "Warning message in readFCSdata(con, offsets, txt, transformation, which.lines, scale, :\n",
      "“Some data values of 'PE.TexasRd.A' channel exceed its $PnR value 262144 and will be truncated!\n",
      " To avoid truncation, either fix $PnR before generating FCS or set 'truncate_max_range = FALSE'”\n",
      "Warning message in readFCSdata(con, offsets, txt, transformation, which.lines, scale, :\n",
      "“Some data values of 'PE.TexasRd.A' channel exceed its $PnR value 262144 and will be truncated!\n",
      " To avoid truncation, either fix $PnR before generating FCS or set 'truncate_max_range = FALSE'”\n",
      "Warning message in readFCSdata(con, offsets, txt, transformation, which.lines, scale, :\n",
      "“Some data values of 'FSC.A' channel exceed its $PnR value 262144 and will be truncated!\n",
      " To avoid truncation, either fix $PnR before generating FCS or set 'truncate_max_range = FALSE'”\n",
      "Warning message in readFCSdata(con, offsets, txt, transformation, which.lines, scale, :\n",
      "“Some data values of 'PE.TexasRd.A' channel exceed its $PnR value 262144 and will be truncated!\n",
      " To avoid truncation, either fix $PnR before generating FCS or set 'truncate_max_range = FALSE'”\n",
      "Warning message in readFCSdata(con, offsets, txt, transformation, which.lines, scale, :\n",
      "“Some data values of 'FSC.A' channel exceed its $PnR value 262144 and will be truncated!\n",
      " To avoid truncation, either fix $PnR before generating FCS or set 'truncate_max_range = FALSE'”\n",
      "Warning message in readFCSdata(con, offsets, txt, transformation, which.lines, scale, :\n",
      "“Some data values of 'SSC.A' channel exceed its $PnR value 262144 and will be truncated!\n",
      " To avoid truncation, either fix $PnR before generating FCS or set 'truncate_max_range = FALSE'”\n",
      "Warning message in readFCSdata(con, offsets, txt, transformation, which.lines, scale, :\n",
      "“Some data values of 'PE.TexasRd.A' channel exceed its $PnR value 262144 and will be truncated!\n",
      " To avoid truncation, either fix $PnR before generating FCS or set 'truncate_max_range = FALSE'”\n",
      "Warning message in readFCSdata(con, offsets, txt, transformation, which.lines, scale, :\n",
      "“Some data values of 'FSC.A' channel exceed its $PnR value 262144 and will be truncated!\n",
      " To avoid truncation, either fix $PnR before generating FCS or set 'truncate_max_range = FALSE'”\n",
      "Warning message in readFCSdata(con, offsets, txt, transformation, which.lines, scale, :\n",
      "“Some data values of 'SSC.A' channel exceed its $PnR value 262144 and will be truncated!\n",
      " To avoid truncation, either fix $PnR before generating FCS or set 'truncate_max_range = FALSE'”\n",
      "Warning message in readFCSdata(con, offsets, txt, transformation, which.lines, scale, :\n",
      "“Some data values of 'PE.TexasRd.A' channel exceed its $PnR value 262144 and will be truncated!\n",
      " To avoid truncation, either fix $PnR before generating FCS or set 'truncate_max_range = FALSE'”\n",
      "Warning message in readFCSdata(con, offsets, txt, transformation, which.lines, scale, :\n",
      "“Some data values of 'PE.TexasRd.A' channel exceed its $PnR value 262144 and will be truncated!\n",
      " To avoid truncation, either fix $PnR before generating FCS or set 'truncate_max_range = FALSE'”\n",
      "Warning message in readFCSdata(con, offsets, txt, transformation, which.lines, scale, :\n",
      "“Some data values of 'PE.TexasRd.A' channel exceed its $PnR value 262144 and will be truncated!\n",
      " To avoid truncation, either fix $PnR before generating FCS or set 'truncate_max_range = FALSE'”\n",
      "Warning message in readFCSdata(con, offsets, txt, transformation, which.lines, scale, :\n",
      "“Some data values of 'SSC.A' channel exceed its $PnR value 262144 and will be truncated!\n",
      " To avoid truncation, either fix $PnR before generating FCS or set 'truncate_max_range = FALSE'”\n",
      "Warning message in readFCSdata(con, offsets, txt, transformation, which.lines, scale, :\n",
      "“Some data values of 'PE.TexasRd.A' channel exceed its $PnR value 262144 and will be truncated!\n",
      " To avoid truncation, either fix $PnR before generating FCS or set 'truncate_max_range = FALSE'”\n",
      "Warning message in readFCSdata(con, offsets, txt, transformation, which.lines, scale, :\n",
      "“Some data values of 'PE.TexasRd.A' channel exceed its $PnR value 262144 and will be truncated!\n",
      " To avoid truncation, either fix $PnR before generating FCS or set 'truncate_max_range = FALSE'”\n",
      "Warning message in readFCSdata(con, offsets, txt, transformation, which.lines, scale, :\n",
      "“Some data values of 'SSC.A' channel exceed its $PnR value 262144 and will be truncated!\n",
      " To avoid truncation, either fix $PnR before generating FCS or set 'truncate_max_range = FALSE'”\n",
      "\u001b[1mRows: \u001b[22m\u001b[34m96\u001b[39m \u001b[1mColumns: \u001b[22m\u001b[34m7\u001b[39m\n",
      "\u001b[36m──\u001b[39m \u001b[1mColumn specification\u001b[22m \u001b[36m────────────────────────────────────────────────────────\u001b[39m\n",
      "\u001b[1mDelimiter:\u001b[22m \",\"\n",
      "\u001b[31mchr\u001b[39m (6): Desc, plasmid_RefID, parent_strain, flow_label, file, order\n",
      "\u001b[32mdbl\u001b[39m (1): plate\n",
      "\n",
      "\u001b[36mℹ\u001b[39m Use `spec()` to retrieve the full column specification for this data.\n",
      "\u001b[36mℹ\u001b[39m Specify the column types or set `show_col_types = FALSE` to quiet this message.\n"
     ]
    }
   ],
   "source": [
    "fcsfiles_plate2 <- '../../../../data/flow_cytometry/exp44_plate2' %>% \n",
    "  list.files(full.names = T) \n",
    "\n",
    "samplenames_plate2 <- fcsfiles_plate2 %>% \n",
    "  stringr::str_match('([^/]+).fcs$') %>% \n",
    "  magrittr::extract(,2) \n",
    "\n",
    "flowdata_plate2  <- fcsfiles_plate2 %>% \n",
    "  lapply(. %>%\n",
    "         flowCore::read.FCS(transformation = F, alter.names = T) %>% \n",
    "         flowCore::exprs() %>%\n",
    "         as_tibble()) %>%\n",
    "  set_names(samplenames_plate2) %>% \n",
    "  bind_rows(.id = 'file') %>% \n",
    "  mutate_at(vars(contains('FITC|TexasRd')), funs(. - 2 * min(.)))  %>%\n",
    "  mutate(tube = as.integer(str_extract(file, \"[:digit:]+$\")))\n",
    "\n",
    "annotations_plate2 <- read_csv(\"../annotations/sample_annotations_plates.csv\") %>% \n",
    "  filter(plate == \"2\") %>%\n",
    "  janitor::clean_names() %>% \n",
    "  mutate(file = str_extract(file, '([a-zA-Z]*)_([:digit:]+)_([A-Z][:digit:]+)_([A-Z][:digit:]+)'))\n",
    "\n",
    "data2 <- flowdata_plate2 %>% \n",
    "  left_join(annotations_plate2, by = 'file') %>%\n",
    "  select(-tube, -plate)"
   ]
  },
  {
   "cell_type": "code",
   "execution_count": 65,
   "metadata": {
    "vscode": {
     "languageId": "r"
    }
   },
   "outputs": [
    {
     "name": "stdout",
     "output_type": "stream",
     "text": [
      "\u001b[90m# A tibble: 951,741 × 9\u001b[39m\n",
      "   file                FSC.A SSC.A  FITC.A PE.Te…¹ desc  plasm…² paren…³ flow_…⁴\n",
      "   \u001b[3m\u001b[90m<chr>\u001b[39m\u001b[23m               \u001b[3m\u001b[90m<dbl>\u001b[39m\u001b[23m \u001b[3m\u001b[90m<dbl>\u001b[39m\u001b[23m   \u001b[3m\u001b[90m<dbl>\u001b[39m\u001b[23m   \u001b[3m\u001b[90m<dbl>\u001b[39m\u001b[23m \u001b[3m\u001b[90m<chr>\u001b[39m\u001b[23m \u001b[3m\u001b[90m<chr>\u001b[39m\u001b[23m   \u001b[3m\u001b[90m<chr>\u001b[39m\u001b[23m   \u001b[3m\u001b[90m<chr>\u001b[39m\u001b[23m  \n",
      "\u001b[90m 1\u001b[39m Specimen_002_B2_B… \u001b[4m2\u001b[24m\u001b[4m5\u001b[24m460. 241.    2.33   135.   WT    WT      \u001b[31mNA\u001b[39m      WT     \n",
      "\u001b[90m 2\u001b[39m Specimen_002_B2_B… \u001b[4m6\u001b[24m\u001b[4m2\u001b[24m522. 665.   -\u001b[31m0\u001b[39m\u001b[31m.\u001b[39m\u001b[31m297\u001b[39m  272.   WT    WT      \u001b[31mNA\u001b[39m      WT     \n",
      "\u001b[90m 3\u001b[39m Specimen_002_B2_B… \u001b[4m3\u001b[24m\u001b[4m4\u001b[24m193. 160.  -\u001b[31m65\u001b[39m\u001b[31m.\u001b[39m\u001b[31m5\u001b[39m    -\u001b[31m24\u001b[39m\u001b[31m.\u001b[39m\u001b[31m8\u001b[39m  WT    WT      \u001b[31mNA\u001b[39m      WT     \n",
      "\u001b[90m 4\u001b[39m Specimen_002_B2_B… \u001b[4m2\u001b[24m\u001b[4m9\u001b[24m150.  85.6 -\u001b[31m45\u001b[39m\u001b[31m.\u001b[39m\u001b[31m5\u001b[39m    -\u001b[31m18\u001b[39m\u001b[31m.\u001b[39m\u001b[31m6\u001b[39m  WT    WT      \u001b[31mNA\u001b[39m      WT     \n",
      "\u001b[90m 5\u001b[39m Specimen_002_B2_B… \u001b[4m8\u001b[24m\u001b[4m3\u001b[24m542. -\u001b[31m64\u001b[39m\u001b[31m.\u001b[39m\u001b[31m8\u001b[39m -\u001b[31m74\u001b[39m\u001b[31m.\u001b[39m\u001b[31m8\u001b[39m    -\u001b[31m78\u001b[39m\u001b[31m.\u001b[39m\u001b[31m8\u001b[39m  WT    WT      \u001b[31mNA\u001b[39m      WT     \n",
      "\u001b[90m 6\u001b[39m Specimen_002_B2_B… \u001b[4m4\u001b[24m\u001b[4m0\u001b[24m400. 342.  -\u001b[31m18\u001b[39m\u001b[31m.\u001b[39m\u001b[31m4\u001b[39m    137.   WT    WT      \u001b[31mNA\u001b[39m      WT     \n",
      "\u001b[90m 7\u001b[39m Specimen_002_B2_B… \u001b[4m3\u001b[24m\u001b[4m6\u001b[24m281. 246.  -\u001b[31m15\u001b[39m\u001b[31m.\u001b[39m\u001b[31m3\u001b[39m     77.3  WT    WT      \u001b[31mNA\u001b[39m      WT     \n",
      "\u001b[90m 8\u001b[39m Specimen_002_B2_B… \u001b[4m2\u001b[24m\u001b[4m5\u001b[24m988. 196.  -\u001b[31m11\u001b[39m\u001b[31m.\u001b[39m\u001b[31m8\u001b[39m      7.81 WT    WT      \u001b[31mNA\u001b[39m      WT     \n",
      "\u001b[90m 9\u001b[39m Specimen_002_B2_B… \u001b[4m7\u001b[24m\u001b[4m4\u001b[24m577. 364.  -\u001b[31m17\u001b[39m\u001b[31m.\u001b[39m\u001b[31m4\u001b[39m    135.   WT    WT      \u001b[31mNA\u001b[39m      WT     \n",
      "\u001b[90m10\u001b[39m Specimen_002_B2_B… \u001b[4m3\u001b[24m\u001b[4m7\u001b[24m459. 262.  -\u001b[31m52\u001b[39m\u001b[31m.\u001b[39m\u001b[31m3\u001b[39m     91.2  WT    WT      \u001b[31mNA\u001b[39m      WT     \n",
      "\u001b[90m# … with 951,731 more rows, and abbreviated variable names ¹​PE.Texas.Red.A,\u001b[39m\n",
      "\u001b[90m#   ²​plasmid_ref_id, ³​parent_strain, ⁴​flow_label\u001b[39m\n"
     ]
    }
   ],
   "source": [
    "all_data <- bind_rows(data1, data2)\n",
    "control_desc = c(\"WT\", \"WT_RFP\", \"Hel2-KO_RFP\", \"low_GFP\", \"high_GFP\", \"SCD\")\n",
    "alldata <- all_data %>%\n",
    "  dplyr::rename('PE.Texas.Red.A' = 'PE.TexasRd.A') %>%\n",
    "  dplyr::select(-order) %>%\n",
    "  select(-Time) %>%\n",
    "  mutate(flow_label = ifelse(is.na(flow_label), desc, flow_label)) %>%\n",
    "  print()"
   ]
  },
  {
   "cell_type": "code",
   "execution_count": 66,
   "metadata": {
    "vscode": {
     "languageId": "r"
    }
   },
   "outputs": [],
   "source": [
    "annotations <- bind_rows(annotations_plate1, annotations_plate2) %>%\n",
    "  mutate(flow_label = ifelse(is.na(flow_label), desc, flow_label))"
   ]
  },
  {
   "cell_type": "markdown",
   "metadata": {},
   "source": [
    "### Normalize each cell's YFP to RFP -> median per well"
   ]
  },
  {
   "cell_type": "code",
   "execution_count": 67,
   "metadata": {
    "vscode": {
     "languageId": "r"
    }
   },
   "outputs": [
    {
     "name": "stderr",
     "output_type": "stream",
     "text": [
      "\u001b[1m\u001b[22mAdding missing grouping variables: `flow_label`, `file`\n"
     ]
    },
    {
     "name": "stdout",
     "output_type": "stream",
     "text": [
      "\u001b[90m# A tibble: 96 × 8\u001b[39m\n",
      "\u001b[90m# Groups:   flow_label [24]\u001b[39m\n",
      "   flow_label      file                yfp_n…¹ desc  plasm…² paren…³ plate order\n",
      "   \u001b[3m\u001b[90m<chr>\u001b[39m\u001b[23m           \u001b[3m\u001b[90m<chr>\u001b[39m\u001b[23m                 \u001b[3m\u001b[90m<dbl>\u001b[39m\u001b[23m \u001b[3m\u001b[90m<chr>\u001b[39m\u001b[23m \u001b[3m\u001b[90m<chr>\u001b[39m\u001b[23m   \u001b[3m\u001b[90m<chr>\u001b[39m\u001b[23m   \u001b[3m\u001b[90m<dbl>\u001b[39m\u001b[23m \u001b[3m\u001b[90m<chr>\u001b[39m\u001b[23m\n",
      "\u001b[90m 1\u001b[39m Hel2-KO_RFP     Specimen_002_B4_B04 4.57\u001b[90me\u001b[39m\u001b[31m-4\u001b[39m Hel2… scHP52… \u001b[31mNA\u001b[39m          1 B04.…\n",
      "\u001b[90m 2\u001b[39m high_GFP        Specimen_002_B6_B06 4.13\u001b[90me\u001b[39m\u001b[31m-2\u001b[39m high… scHP20… \u001b[31mNA\u001b[39m          1 B06.…\n",
      "\u001b[90m 3\u001b[39m low_GFP         Specimen_002_B5_B05 4.36\u001b[90me\u001b[39m\u001b[31m-3\u001b[39m low_… scHP19… \u001b[31mNA\u001b[39m          1 B05.…\n",
      "\u001b[90m 4\u001b[39m SCD             Specimen_002_B7_B07 4.38\u001b[90me\u001b[39m\u001b[31m-2\u001b[39m SCD   Media   \u001b[31mNA\u001b[39m          1 B07.…\n",
      "\u001b[90m 5\u001b[39m scHP15-2-1120.1 Specimen_001_E2_E02 6.21\u001b[90me\u001b[39m\u001b[31m-2\u001b[39m GPD-… pHPSC1… scHP15…     2 E02.…\n",
      "\u001b[90m 6\u001b[39m scHP15-2-1120.1 Specimen_001_E3_E03 6.08\u001b[90me\u001b[39m\u001b[31m-2\u001b[39m GPD-… pHPSC1… scHP15…     2 E03.…\n",
      "\u001b[90m 7\u001b[39m scHP15-2-1120.1 Specimen_001_E4_E04 6.13\u001b[90me\u001b[39m\u001b[31m-2\u001b[39m GPD-… pHPSC1… scHP15…     2 E04.…\n",
      "\u001b[90m 8\u001b[39m scHP15-2-1120.1 Specimen_001_E5_E05 6.12\u001b[90me\u001b[39m\u001b[31m-2\u001b[39m GPD-… pHPSC1… scHP15…     2 E05.…\n",
      "\u001b[90m 9\u001b[39m scHP15-2-1120.1 Specimen_001_E6_E06 6.15\u001b[90me\u001b[39m\u001b[31m-2\u001b[39m GPD-… pHPSC1… scHP15…     2 E06.…\n",
      "\u001b[90m10\u001b[39m scHP15-2-1144.1 Specimen_002_C2_C02 2.81\u001b[90me\u001b[39m\u001b[31m-2\u001b[39m GPD-… pHPSC1… scHP15…     1 C02.…\n",
      "\u001b[90m# … with 86 more rows, and abbreviated variable names ¹​yfp_norm_rfp,\u001b[39m\n",
      "\u001b[90m#   ²​plasmid_ref_id, ³​parent_strain\u001b[39m\n"
     ]
    }
   ],
   "source": [
    "med_data_norm <- alldata %>%\n",
    "  mutate(yfp_norm_rfp = FITC.A / PE.Texas.Red.A) %>% # per cell normalization\n",
    "  group_by(flow_label, file) %>% # group by each well\n",
    "  select(yfp_norm_rfp) %>%\n",
    "  summarise_all(median) %>% # median normalized value of each well\n",
    "  left_join(annotations, by = c('flow_label', 'file')) %>%\n",
    "  print()"
   ]
  },
  {
   "cell_type": "markdown",
   "metadata": {},
   "source": [
    "### Normalize YFP/RFP values by no-insert YFP/RFP value"
   ]
  },
  {
   "cell_type": "code",
   "execution_count": 68,
   "metadata": {
    "vscode": {
     "languageId": "r"
    }
   },
   "outputs": [
    {
     "name": "stderr",
     "output_type": "stream",
     "text": [
      "\u001b[1m\u001b[22m`summarise()` has grouped output by 'desc', 'parent_strain'. You can override\n",
      "using the `.groups` argument.\n"
     ]
    },
    {
     "name": "stdout",
     "output_type": "stream",
     "text": [
      "\u001b[90m# A tibble: 2 × 4\u001b[39m\n",
      "\u001b[90m# Groups:   desc, parent_strain [2]\u001b[39m\n",
      "  desc                               parent_strain flow_label       no_insert_…¹\n",
      "  \u001b[3m\u001b[90m<chr>\u001b[39m\u001b[23m                              \u001b[3m\u001b[90m<chr>\u001b[39m\u001b[23m         \u001b[3m\u001b[90m<chr>\u001b[39m\u001b[23m                   \u001b[3m\u001b[90m<dbl>\u001b[39m\u001b[23m\n",
      "\u001b[90m1\u001b[39m GPD-3xFLAG-PGK1-HA-cntrl-R1-T7-YFP scHP15-2      scHP15-2-1120.1        0.061\u001b[4m4\u001b[24m\n",
      "\u001b[90m2\u001b[39m GPD-3xFLAG-PGK1-HA-cntrl-R1-T7-YFP scHP520.1     scHP520.1-1120.1       0.061\u001b[4m6\u001b[24m\n",
      "\u001b[90m# … with abbreviated variable name ¹​no_insert_avg\u001b[39m\n",
      "\u001b[90m# A tibble: 89 × 20\u001b[39m\n",
      "   flow_label    file  yfp_n…¹ desc  plasm…² paren…³ plate order no_in…⁴ dicodon\n",
      "   \u001b[3m\u001b[90m<chr>\u001b[39m\u001b[23m         \u001b[3m\u001b[90m<chr>\u001b[39m\u001b[23m   \u001b[3m\u001b[90m<dbl>\u001b[39m\u001b[23m \u001b[3m\u001b[90m<chr>\u001b[39m\u001b[23m \u001b[3m\u001b[90m<chr>\u001b[39m\u001b[23m   \u001b[3m\u001b[90m<chr>\u001b[39m\u001b[23m   \u001b[3m\u001b[90m<dbl>\u001b[39m\u001b[23m \u001b[3m\u001b[90m<chr>\u001b[39m\u001b[23m   \u001b[3m\u001b[90m<dbl>\u001b[39m\u001b[23m \u001b[3m\u001b[90m<chr>\u001b[39m\u001b[23m  \n",
      "\u001b[90m 1\u001b[39m scHP15-2-112… Spec…  0.062\u001b[4m1\u001b[24m GPD-… pHPSC1… scHP15…     2 E02.…  0.061\u001b[4m4\u001b[24m no_ins…\n",
      "\u001b[90m 2\u001b[39m scHP15-2-112… Spec…  0.060\u001b[4m8\u001b[24m GPD-… pHPSC1… scHP15…     2 E03.…  0.061\u001b[4m4\u001b[24m no_ins…\n",
      "\u001b[90m 3\u001b[39m scHP15-2-112… Spec…  0.061\u001b[4m3\u001b[24m GPD-… pHPSC1… scHP15…     2 E04.…  0.061\u001b[4m4\u001b[24m no_ins…\n",
      "\u001b[90m 4\u001b[39m scHP15-2-112… Spec…  0.061\u001b[4m2\u001b[24m GPD-… pHPSC1… scHP15…     2 E05.…  0.061\u001b[4m4\u001b[24m no_ins…\n",
      "\u001b[90m 5\u001b[39m scHP15-2-112… Spec…  0.061\u001b[4m5\u001b[24m GPD-… pHPSC1… scHP15…     2 E06.…  0.061\u001b[4m4\u001b[24m no_ins…\n",
      "\u001b[90m 6\u001b[39m scHP15-2-114… Spec…  0.028\u001b[4m1\u001b[24m GPD-… pHPSC1… scHP15…     1 C02.…  0.061\u001b[4m4\u001b[24m VK_GTG…\n",
      "\u001b[90m 7\u001b[39m scHP15-2-114… Spec…  0.027\u001b[4m9\u001b[24m GPD-… pHPSC1… scHP15…     1 C03.…  0.061\u001b[4m4\u001b[24m VK_GTG…\n",
      "\u001b[90m 8\u001b[39m scHP15-2-114… Spec…  0.027\u001b[4m8\u001b[24m GPD-… pHPSC1… scHP15…     1 C04.…  0.061\u001b[4m4\u001b[24m VK_GTG…\n",
      "\u001b[90m 9\u001b[39m scHP15-2-114… Spec…  0.028\u001b[4m3\u001b[24m GPD-… pHPSC1… scHP15…     1 C05.…  0.061\u001b[4m4\u001b[24m VK_GTG…\n",
      "\u001b[90m10\u001b[39m scHP15-2-114… Spec…  0.028\u001b[4m2\u001b[24m GPD-… pHPSC1… scHP15…     1 C06.…  0.061\u001b[4m4\u001b[24m VK_GTG…\n",
      "\u001b[90m# … with 79 more rows, 10 more variables: yfp_norm_rfp_norm <dbl>,\u001b[39m\n",
      "\u001b[90m#   log_yfp_norm_rfp_norm <dbl>, stderr <dbl>, stderr_log <dbl>, diaa <chr>,\u001b[39m\n",
      "\u001b[90m#   aa1 <chr>, aa2 <chr>, res1 <chr>, res2 <chr>, dipeptide <chr>, and\u001b[39m\n",
      "\u001b[90m#   abbreviated variable names ¹​yfp_norm_rfp, ²​plasmid_ref_id, ³​parent_strain,\u001b[39m\n",
      "\u001b[90m#   ⁴​no_insert_avg\u001b[39m\n"
     ]
    }
   ],
   "source": [
    "# no insert controls are very similar in yfp/rfp between strains\n",
    "no_insert_cntrls <- med_data_norm %>%\n",
    "  group_by(desc, parent_strain, flow_label) %>%\n",
    "  dplyr::filter(str_detect(desc, \"cntrl\")) %>%\n",
    "  summarize(no_insert_avg = mean(yfp_norm_rfp)) %>% # avg of the wells per strain\n",
    "  print()\n",
    "\n",
    "all_norm_data <- med_data_norm %>% # normalize each well to the mean no-insert value\n",
    "    left_join(no_insert_cntrls, by=c(\"parent_strain\")) %>%\n",
    "    dplyr::select(-flow_label.y, -desc.y,) %>%\n",
    "    dplyr::rename(desc = desc.x) %>%\n",
    "    dplyr::rename(flow_label = flow_label.x) %>%\n",
    "    mutate(dicodon = ifelse(desc %in% control_desc, desc, str_extract(desc, \"(?<=GPD-3xFLAG-PGK1-HA-8xdicodoon_)([:upper:]+_[:upper:]+)(?=-R1-T7-YFP)\"))) %>%\n",
    "    mutate(dicodon = ifelse(is.na(dicodon), \"no_insert_cntrl\", dicodon)) %>%\n",
    "    group_by(parent_strain) %>%\n",
    "    mutate(yfp_norm_rfp_norm = yfp_norm_rfp/no_insert_avg) %>%\n",
    "    mutate(log_yfp_norm_rfp_norm = log2(yfp_norm_rfp) - log2(no_insert_avg)) %>%\n",
    "    ungroup() %>%\n",
    "    mutate(dicodon = ifelse(plasmid_ref_id == \"pHPSC1148.1\", \"RR_AGAAGA_9x\", dicodon)) %>%\n",
    "    filter(!(yfp_norm_rfp_norm > 10)) %>% # get rid of the one huge outlier\n",
    "    group_by(flow_label) %>% # all wells belonging to each strain\n",
    "    mutate(stderr = std.error(yfp_norm_rfp_norm)) %>%\n",
    "    mutate(stderr_log = std.error(log_yfp_norm_rfp_norm)) %>%\n",
    "    mutate(diaa = str_split(dicodon, '_')[[1]][1]) %>%\n",
    "    mutate(aa1 = ifelse(dicodon != 'no_insert_cntrl', str_sub(diaa, 1, 1), 'no_insert_cntrl')) %>%\n",
    "    mutate(aa2 = ifelse(dicodon != 'no_insert_cntrl', str_sub(diaa, 2, 2), 'no_insert_cntrl')) %>%\n",
    "    mutate(res1 = ifelse(dicodon != 'no_insert_cntrl', AMINO_ACID_CODE[aa1], 'no_insert_cntrl')) %>%\n",
    "    mutate(res2 = ifelse(dicodon != 'no_insert_cntrl', AMINO_ACID_CODE[aa2], 'no_insert_cntrl')) %>%\n",
    "    mutate(dipeptide = ifelse(dicodon != 'no_insert_cntrl', str_c(res1, res2),'no_insert_cntrl')) %>%\n",
    "    ungroup() %>%\n",
    "    print()"
   ]
  },
  {
   "cell_type": "code",
   "execution_count": 73,
   "metadata": {
    "vscode": {
     "languageId": "r"
    }
   },
   "outputs": [
    {
     "data": {
      "image/png": "[encoded data removed]",
      "text/plain": [
       "plot without title"
      ]
     },
     "metadata": {
      "image/png": {
       "height": 90,
       "width": 120
      }
     },
     "output_type": "display_data"
    }
   ],
   "source": [
    "options(repr.plot.width=2, repr.plot.height=1.5)\n",
    "\n",
    "order <- rev(c(\"No insert\", 'AAGGGA (KG)', 'GAAAGT (ES)', \"GTGAAA (VK)\", \"TTAAGT (LS)\", \"TTTAAG (FK)\", \"AAGAAG (KK)\"))\n",
    "\n",
    "all_norm_data %>%\n",
    "  select(-desc, -plate, -order) %>%\n",
    "  filter(parent_strain == \"scHP15-2\") %>%\n",
    "  group_by(flow_label) %>%\n",
    "  mutate(codons = str_split(dicodon, '_')[[1]][2]) %>%\n",
    "  mutate(dipep2 = ifelse(dicodon != 'no_insert_cntrl', str_c(codons, \" (\", diaa, \")\" ), 'No insert')) %>%\n",
    "  filter(dipep2 %in% order) %>%\n",
    "  mutate(mean = mean(log_yfp_norm_rfp_norm)) %>%\n",
    "  mutate(facet = factor(dipep2, levels=order)) %>%\n",
    "  ggplot(aes(y=facet, x=mean, xmax = mean + stderr_log, xmin = mean - stderr_log)) +\n",
    "  geom_errorbar(width=0.3, size=0.3) +\n",
    "  geom_point(size=0.4) +\n",
    "  geom_vline(xintercept=0, color='grey', size=0.1, linetype=2) +\n",
    "  scale_color_manual(values='black') +\n",
    "  scale_y_discrete(position = \"right\") +\n",
    "  theme + \n",
    "  theme(\n",
    "      axis.line = element_blank(),\n",
    "      axis.line.x = element_blank(),\n",
    "      axis.line.y = element_blank(),\n",
    "      axis.ticks.y = element_blank(),\n",
    "      axis.ticks.x = element_line(size=0.1),\n",
    "      panel.grid.major.y = element_line(color='grey', size=0.2),\n",
    "      legend.text=element_blank(),\n",
    "      axis.text.x = element_text(size=6.5),\n",
    "      ) +\n",
    "  labs(y=\"\", x=\"Relative protein level (log2 YFP/RFP, arb. units)\")\n",
    "\n",
    "ggsave(\"../figures/select_dicodons_flow.pdf\", width=2.8, height=1.4)"
   ]
  },
  {
   "cell_type": "code",
   "execution_count": 70,
   "metadata": {
    "vscode": {
     "languageId": "r"
    }
   },
   "outputs": [
    {
     "name": "stderr",
     "output_type": "stream",
     "text": [
      "\u001b[1m\u001b[22m`stat_bin()` using `bins = 30`. Pick better value with `binwidth`.\n",
      "\u001b[1m\u001b[22m`stat_bin()` using `bins = 30`. Pick better value with `binwidth`.\n"
     ]
    },
    {
     "data": {
      "image/png": "[encoded data removed]",
      "text/plain": [
       "plot without title"
      ]
     },
     "metadata": {
      "image/png": {
       "height": 180,
       "width": 360
      }
     },
     "output_type": "display_data"
    }
   ],
   "source": [
    "options(repr.plot.width=6, repr.plot.height=3)\n",
    "\n",
    "alldata %>%\n",
    "    filter(parent_strain == \"scHP15-2\") %>%\n",
    "    mutate(dicodon = ifelse(desc %in% control_desc, desc, str_extract(desc, \"(?<=GPD-3xFLAG-PGK1-HA-8xdicodoon_)([:upper:]+_[:upper:]+)(?=-R1-T7-YFP)\"))) %>%\n",
    "    mutate(dicodon = ifelse(is.na(dicodon), \"no_insert_cntrl\", dicodon)) %>%\n",
    "    group_by(flow_label) %>%\n",
    "    mutate(diaa = str_split(dicodon, '_')[[1]][1]) %>%\n",
    "    mutate(codons = str_split(dicodon, '_')[[1]][2]) %>%\n",
    "    mutate(dipep2 = ifelse(dicodon != 'no_insert_cntrl', str_c(codons, \" (\", diaa, \")\" ), 'No insert')) %>%\n",
    "    filter(dipep2 %in% order) %>%\n",
    "    mutate(facet = factor(dipep2, levels=order)) %>%\n",
    "    filter(FITC.A > 1) %>%\n",
    "    ggplot() +\n",
    "    geom_freqpoly(linewidth=0.3, aes(x=FITC.A, y=after_stat(count), color=facet)) +\n",
    "    ggthemes::scale_color_colorblind() +\n",
    "    scale_x_log10(\n",
    "    breaks = scales::trans_breaks(\"log10\", function(x) 10^x),\n",
    "    labels = scales::trans_format(\"log10\", scales::math_format(10^.x))\n",
    "    ) +\n",
    "    theme + \n",
    "    theme(\n",
    "        legend.margin = margin(-10, 0, 0, -5),\n",
    "        ) +\n",
    "    guides(color = guide_legend(\n",
    "                 keywidth=0.1,\n",
    "                 keyheight=0.125,\n",
    "                 default.unit=\"inch\",\n",
    "                 linewidth=0.2,\n",
    "                 size=6.5)) +\n",
    "    labs(x='YFP', y='Density', color='')\n",
    "\n",
    "ggsave(\"../figures/select_dicodons_flow_yfp.pdf\", width=3, height=1.25)"
   ]
  },
  {
   "cell_type": "code",
   "execution_count": 71,
   "metadata": {
    "vscode": {
     "languageId": "r"
    }
   },
   "outputs": [
    {
     "name": "stderr",
     "output_type": "stream",
     "text": [
      "\u001b[1m\u001b[22m`stat_bin()` using `bins = 30`. Pick better value with `binwidth`.\n",
      "\u001b[1m\u001b[22m`stat_bin()` using `bins = 30`. Pick better value with `binwidth`.\n"
     ]
    },
    {
     "data": {
      "image/png": "[encoded data removed]",
      "text/plain": [
       "plot without title"
      ]
     },
     "metadata": {
      "image/png": {
       "height": 180,
       "width": 360
      }
     },
     "output_type": "display_data"
    }
   ],
   "source": [
    "options(repr.plot.width=6, repr.plot.height=3)\n",
    "\n",
    "alldata %>%\n",
    "    filter(parent_strain == \"scHP15-2\") %>%\n",
    "    mutate(dicodon = ifelse(desc %in% control_desc, desc, str_extract(desc, \"(?<=GPD-3xFLAG-PGK1-HA-8xdicodoon_)([:upper:]+_[:upper:]+)(?=-R1-T7-YFP)\"))) %>%\n",
    "    mutate(dicodon = ifelse(is.na(dicodon), \"no_insert_cntrl\", dicodon)) %>%\n",
    "    group_by(flow_label) %>%\n",
    "    mutate(diaa = str_split(dicodon, '_')[[1]][1]) %>%\n",
    "    mutate(codons = str_split(dicodon, '_')[[1]][2]) %>%\n",
    "    mutate(dipep2 = ifelse(dicodon != 'no_insert_cntrl', str_c(codons, \" (\", diaa, \")\" ), 'No insert')) %>%\n",
    "    filter(dipep2 %in% order) %>%\n",
    "    mutate(facet = factor(dipep2, levels=order)) %>%\n",
    "    filter(PE.Texas.Red.A > 500) %>%\n",
    "    ggplot() +\n",
    "    geom_freqpoly(linewidth=0.3,) +\n",
    "    aes(x=PE.Texas.Red.A, y=after_stat(count), color=facet) +\n",
    "    ggthemes::scale_color_colorblind() +\n",
    "    scale_x_log10(\n",
    "    breaks = scales::trans_breaks(\"log10\", n=3, function(x) 10^x),\n",
    "    labels = scales::trans_format(\"log10\", scales::math_format(10^.x))\n",
    "    ) +\n",
    "    theme +\n",
    "    theme(legend.margin = margin(-10, 0, 0, -5)) +\n",
    "    guides(color = guide_legend(\n",
    "                 keywidth=0.1,\n",
    "                 keyheight=0.125,\n",
    "                 default.unit=\"inch\",\n",
    "                 linewidth=0.2,\n",
    "                 size=6.5)) +\n",
    "    labs(x='RFP', y='Density', color='Codon pair')\n",
    "\n",
    "ggsave(\"../figures/select_dicodons_flow_rfp.pdf\", width=2.9, height=1.25)"
   ]
  },
  {
   "cell_type": "code",
   "execution_count": null,
   "metadata": {
    "vscode": {
     "languageId": "r"
    }
   },
   "outputs": [],
   "source": []
  }
 ],
 "metadata": {
  "kernelspec": {
   "display_name": "R",
   "language": "R",
   "name": "ir"
  },
  "language_info": {
   "codemirror_mode": "r",
   "file_extension": ".r",
   "mimetype": "text/x-r-source",
   "name": "R",
   "pygments_lexer": "r",
   "version": "4.2.2"
  },
  "orig_nbformat": 4,
  "vscode": {
   "interpreter": {
    "hash": "33ccdda4403b85622dcca6b225ea57e4a6a8ea27d62bd4ef32f6f7605d06a567"
   }
  }
 },
 "nbformat": 4,
 "nbformat_minor": 2
}
