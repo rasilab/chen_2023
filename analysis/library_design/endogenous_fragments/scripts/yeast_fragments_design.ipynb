{
 "cells": [
  {
   "cell_type": "code",
   "execution_count": 3,
   "metadata": {},
   "outputs": [],
   "source": [
    "'''This script identifies 1000 48nt fragments from\n",
    "1000 different genes of S. cerevisiae.\n",
    "Every 4th gene in descending order of expression is picked.\n",
    "The fragment is the region from 253nt to the 300nt of each ORF.\n",
    "'''\n",
    "\n",
    "import pandas as pd\n",
    "import pyfaidx\n",
    "from HTSeq import GFF_Reader\n",
    "import re\n",
    "import urllib\n",
    "from Bio.SeqUtils.CodonUsage import CodonAdaptationIndex\n",
    "import os"
   ]
  },
  {
   "cell_type": "code",
   "execution_count": null,
   "metadata": {},
   "outputs": [],
   "source": [
    "if not os.path.exists(\"../tables\"):\n",
    "    os.makedirs(\"../tables\")"
   ]
  },
  {
   "cell_type": "code",
   "execution_count": 4,
   "metadata": {},
   "outputs": [],
   "source": [
    "orf_seq_file = '../db/orf_coding_all_R64-1-1_20110203.fasta'\n",
    "annotations = '../db/saccharomyces_cerevisiae_R64-1-1_20110208.gff'"
   ]
  },
  {
   "cell_type": "code",
   "execution_count": 5,
   "metadata": {},
   "outputs": [],
   "source": [
    "# read in the orf sequences as a python dictionary--------------------\n",
    "orfseqs = pyfaidx.Fasta(orf_seq_file)\n",
    "\n",
    "# read rna-seq and ribosome profiling data from Weinberg 2016---------\n",
    "weinberg2016data = pd.read_table('../weinberg2016/GSE53313_Cerevisiae_RNA_RPF.txt',\n",
    "    index_col=0, skiprows=3, names=['id', 'mrna', 'rpf', 'te'],\n",
    "    dtype={'id': str, 'mrna': float, 'rpf': float, 'te': float}\n",
    ")"
   ]
  },
  {
   "cell_type": "code",
   "execution_count": null,
   "metadata": {},
   "outputs": [],
   "source": [
    "# read gene names and functions into a dataframe----------------------\n",
    "handle = GFF_Reader(annotations)\n",
    "genes = dict()\n",
    "try:\n",
    "    for rec in handle:\n",
    "        if rec.type != 'gene':\n",
    "            continue\n",
    "        if not re.search('Verified', rec.attr['orf_classification']):\n",
    "            continue\n",
    "        note = urllib.unquote(urllib.unquote(rec.attr['Note']))\n",
    "        if 'gene' in rec.attr:\n",
    "            gene = rec.attr['gene']\n",
    "        else:\n",
    "            gene = rec.name\n",
    "        genes[rec.name] = {\n",
    "            'note': note,\n",
    "            'gene': gene,\n",
    "        }\n",
    "except ValueError:\n",
    "    pass\n",
    "genes = pd.DataFrame.from_dict(genes, orient='index')"
   ]
  },
  {
   "cell_type": "code",
   "execution_count": null,
   "metadata": {},
   "outputs": [],
   "source": [
    "# combine annotations with expression data----------------------------\n",
    "weinberg2016data = weinberg2016data.join(\n",
    "    genes, how='inner').sort_values(\n",
    "        by='rpf', ascending=False)"
   ]
  },
  {
   "cell_type": "code",
   "execution_count": null,
   "metadata": {},
   "outputs": [],
   "source": [
    "# generate a codon adaptation index from all verified genes-----------\n",
    "genesforcai = open('../tables/genesforcai.fasta', 'w')\n",
    "for gene in weinberg2016data.index:\n",
    "    name = weinberg2016data.ix[gene]['gene']\n",
    "    note = weinberg2016data.ix[gene]['note']\n",
    "    genesforcai.write('>{0}:{1}\\n'.format(gene, name))\n",
    "    for line in orfseqs[gene]:\n",
    "        genesforcai.write(str(line) + '\\n')\n",
    "genesforcai.close()\n",
    "# use CAI module from biopython to get cai\n",
    "yeastcai = CodonAdaptationIndex()\n",
    "yeastcai.generate_index('../tables/genesforcai.fasta')"
   ]
  },
  {
   "cell_type": "code",
   "execution_count": null,
   "metadata": {},
   "outputs": [],
   "source": [
    "# write a 48nt fragment for primer design-----------------------------\n",
    "yeastseqs = open('../tables/yeastorffrags.csv', 'w')\n",
    "genecount = 0\n",
    "caiforfrags = dict()\n",
    "for gene in weinberg2016data.index[::2]:\n",
    "    if len(orfseqs[gene]) < 300:\n",
    "        continue\n",
    "    frag = str(orfseqs[gene][252:300])\n",
    "    # check that there are no stop codons\n",
    "    for pos in range(0, len(frag), 3):\n",
    "        codon = frag[pos:pos+3]\n",
    "        if codon in ['TAA', 'TAG', 'TGA']:\n",
    "            raise 'Stop codon in fragment. Should not be here.'\n",
    "    # track the cai for this fragment\n",
    "    caiforfrags[gene] = yeastcai.cai_for_gene(frag)\n",
    "    yeastseqs.write(frag + '\\n')\n",
    "    genecount += 1\n",
    "    if genecount >= 1904:\n",
    "        break\n",
    "yeastseqs.close()"
   ]
  },
  {
   "cell_type": "code",
   "execution_count": null,
   "metadata": {},
   "outputs": [],
   "source": [
    "# print the name of gene and corresponding cai for fragment-----------\n",
    "print 'Top 10 genes with highest CAI for the cloned fragment:'\n",
    "print weinberg2016data.join(\n",
    "    pd.Series(caiforfrags, name='caiforfrag'),\n",
    "    how='inner').sort_values(\n",
    "        by='caiforfrag',\n",
    "        ascending=False)[['gene', 'caiforfrag']][:10]\n",
    "\n",
    "# clean up files -----------------------------------------------------\n",
    "os.remove('../tables/genesforcai.fasta')"
   ]
  }
 ],
 "metadata": {
  "kernelspec": {
   "display_name": "base",
   "language": "python",
   "name": "python3"
  },
  "language_info": {
   "codemirror_mode": {
    "name": "ipython",
    "version": 3
   },
   "file_extension": ".py",
   "mimetype": "text/x-python",
   "name": "python",
   "nbconvert_exporter": "python",
   "pygments_lexer": "ipython3",
   "version": "3.7.11"
  },
  "orig_nbformat": 4
 },
 "nbformat": 4,
 "nbformat_minor": 2
}
