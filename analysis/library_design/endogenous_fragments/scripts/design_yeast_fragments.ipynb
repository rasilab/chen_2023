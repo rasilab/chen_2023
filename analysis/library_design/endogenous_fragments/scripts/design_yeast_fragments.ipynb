{
 "cells": [
  {
   "cell_type": "code",
   "execution_count": 1,
   "metadata": {
    "vscode": {
     "languageId": "r"
    }
   },
   "outputs": [
    {
     "name": "stderr",
     "output_type": "stream",
     "text": [
      "Warning message:\n",
      "“package ‘ggplot2’ was built under R version 4.2.3”\n"
     ]
    }
   ],
   "source": [
    "# Load necessary libraries\n",
    "suppressPackageStartupMessages(library(Biostrings))\n",
    "suppressPackageStartupMessages(library(rtracklayer))\n",
    "suppressPackageStartupMessages(library(tidyverse))"
   ]
  },
  {
   "cell_type": "code",
   "execution_count": 3,
   "metadata": {
    "vscode": {
     "languageId": "r"
    }
   },
   "outputs": [],
   "source": [
    "# Set paths\n",
    "orf_seq_file <- '../db/orf_coding_all_R64-1-1_20110203.fasta'\n",
    "annotations <- '../db/saccharomyces_cerevisiae_R64-1-1_20110208.gff'\n",
    "\n",
    "# Check if directory exists, if not create it\n",
    "if (!dir.exists(\"../tables\")) {\n",
    "  dir.create(\"../tables\")\n",
    "}"
   ]
  },
  {
   "cell_type": "code",
   "execution_count": 13,
   "metadata": {
    "vscode": {
     "languageId": "r"
    }
   },
   "outputs": [
    {
     "name": "stderr",
     "output_type": "stream",
     "text": [
      "\u001b[1mRows: \u001b[22m\u001b[34m4685\u001b[39m \u001b[1mColumns: \u001b[22m\u001b[34m4\u001b[39m\n",
      "\u001b[36m──\u001b[39m \u001b[1mColumn specification\u001b[22m \u001b[36m────────────────────────────────────────────────────────\u001b[39m\n",
      "\u001b[1mDelimiter:\u001b[22m \"\\t\"\n",
      "\u001b[31mchr\u001b[39m (1): id\n",
      "\u001b[32mdbl\u001b[39m (3): mrna, rpf, te\n",
      "\n",
      "\u001b[36mℹ\u001b[39m Use `spec()` to retrieve the full column specification for this data.\n",
      "\u001b[36mℹ\u001b[39m Specify the column types or set `show_col_types = FALSE` to quiet this message.\n"
     ]
    }
   ],
   "source": [
    "# Read in the orf sequences\n",
    "orfseqs <- readDNAStringSet(orf_seq_file)\n",
    "\n",
    "# Read rna-seq and ribosome profiling data from Weinberg 2016\n",
    "weinberg2016data <- read_tsv('../weinberg2016/GSE53313_Cerevisiae_RNA_RPF.txt', skip = 3, col_names = c('id', 'mrna', 'rpf', 'te'))"
   ]
  },
  {
   "cell_type": "code",
   "execution_count": 15,
   "metadata": {
    "vscode": {
     "languageId": "r"
    }
   },
   "outputs": [],
   "source": [
    "# Read gene names and functions into a dataframe\n",
    "\n",
    "annotations_data <- import(annotations)\n",
    "\n",
    "genes <- annotations_data %>% \n",
    "  as_tibble() %>%\n",
    "  dplyr::filter(type == 'gene') %>% \n",
    "  dplyr::filter(str_detect(orf_classification, 'Verified')) %>% \n",
    "  # mutate(note = URLdecode(URLdecode(Note)))\n",
    "  mutate(gene = ifelse(!is.na(gene), gene, Name)) %>% \n",
    "  dplyr::rename(name=Name, note=Note) %>%\n",
    "  select(name, note, gene)"
   ]
  },
  {
   "cell_type": "code",
   "execution_count": 17,
   "metadata": {
    "vscode": {
     "languageId": "r"
    }
   },
   "outputs": [],
   "source": [
    "# Combine annotations with expression data\n",
    "weinberg2016data <- inner_join(weinberg2016data, genes, by = c(\"id\" = \"name\")) %>% \n",
    "  arrange(desc(rpf))"
   ]
  },
  {
   "cell_type": "code",
   "execution_count": 19,
   "metadata": {
    "vscode": {
     "languageId": "r"
    }
   },
   "outputs": [],
   "source": [
    "# Write a 48nt fragment for primer design\n",
    "yeastseqs <- file('../tables/yeastorffrags.csv', 'w')\n",
    "genecount <- 0"
   ]
  },
  {
   "cell_type": "code",
   "execution_count": 20,
   "metadata": {
    "vscode": {
     "languageId": "r"
    }
   },
   "outputs": [],
   "source": [
    "genenames <- names(orfseqs) %>%\n",
    "    as_tibble() %>%\n",
    "    mutate(name = str_extract(value, '[^\\\\ ]+')) %>%\n",
    "    dplyr::pull(name)"
   ]
  },
  {
   "cell_type": "code",
   "execution_count": 21,
   "metadata": {
    "vscode": {
     "languageId": "r"
    }
   },
   "outputs": [],
   "source": [
    "names(orfseqs) <- genenames"
   ]
  },
  {
   "cell_type": "code",
   "execution_count": 23,
   "metadata": {
    "vscode": {
     "languageId": "r"
    }
   },
   "outputs": [],
   "source": [
    "for (i in seq(1, nrow(weinberg2016data), by = 2)) {\n",
    "  gene <- weinberg2016data$id[i]\n",
    "  if (width(orfseqs[gene]) < 300) next\n",
    "  frag <- subseq(orfseqs[gene], start = 253, end = 300)\n",
    "  # Check for stop codons\n",
    "  for (n in seq(1, nchar(frag), 3)) {\n",
    "    codon = subseq(frag, start=n, end=n+2)\n",
    "    if (any(str_detect(as.character(codon), 'TAA|TAG|TGA'))) {\n",
    "    stop('Stop codon in fragment. Should not be here.')\n",
    "  }\n",
    "  }\n",
    "  cat(as.character(frag), file = yeastseqs, sep = \"\\n\")\n",
    "  genecount <- genecount + 1\n",
    "  if (genecount >= 1904) break\n",
    "}"
   ]
  },
  {
   "cell_type": "code",
   "execution_count": 24,
   "metadata": {
    "vscode": {
     "languageId": "r"
    }
   },
   "outputs": [],
   "source": [
    "close(yeastseqs)"
   ]
  },
  {
   "cell_type": "code",
   "execution_count": null,
   "metadata": {
    "vscode": {
     "languageId": "r"
    }
   },
   "outputs": [],
   "source": []
  }
 ],
 "metadata": {
  "kernelspec": {
   "display_name": "R",
   "language": "R",
   "name": "ir"
  },
  "language_info": {
   "codemirror_mode": "r",
   "file_extension": ".r",
   "mimetype": "text/x-r-source",
   "name": "R",
   "pygments_lexer": "r",
   "version": "4.2.2"
  },
  "orig_nbformat": 4
 },
 "nbformat": 4,
 "nbformat_minor": 2
}
