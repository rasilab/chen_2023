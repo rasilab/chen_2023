{
 "cells": [
  {
   "cell_type": "markdown",
   "metadata": {},
   "source": [
    "## Analyze motifs in endogenous yeast ORFs"
   ]
  },
  {
   "cell_type": "code",
   "execution_count": 39,
   "metadata": {
    "vscode": {
     "languageId": "r"
    }
   },
   "outputs": [],
   "source": [
    "suppressPackageStartupMessages(library(tidyverse))\n",
    "suppressPackageStartupMessages(library(plyranges))\n",
    "suppressPackageStartupMessages(library(rasilabRtemplates))\n",
    "suppressPackageStartupMessages(library(Biostrings))\n",
    "suppressPackageStartupMessages(library(readxl))"
   ]
  },
  {
   "cell_type": "code",
   "execution_count": null,
   "metadata": {
    "vscode": {
     "languageId": "r"
    }
   },
   "outputs": [],
   "source": [
    "if (!file.exists('../data')){\n",
    "    dir.create('../data')\n",
    "}\n",
    "\n",
    "if (!file.exists('../data/motifs')){\n",
    "    dir.create('../data/motifs')\n",
    "}"
   ]
  },
  {
   "cell_type": "code",
   "execution_count": 40,
   "metadata": {
    "vscode": {
     "languageId": "r"
    }
   },
   "outputs": [
    {
     "name": "stdout",
     "output_type": "stream",
     "text": [
      "\u001b[90m# A tibble: 6,607 × 4\u001b[39m\n",
      "   orf_classification id        gene  display                                   \n",
      "   \u001b[3m\u001b[90m<chr>\u001b[39m\u001b[23m              \u001b[3m\u001b[90m<chr>\u001b[39m\u001b[23m     \u001b[3m\u001b[90m<chr>\u001b[39m\u001b[23m \u001b[3m\u001b[90m<chr>\u001b[39m\u001b[23m                                     \n",
      "\u001b[90m 1\u001b[39m Dubious            YAL069W   \u001b[31mNA\u001b[39m    Dubious open reading frame                \n",
      "\u001b[90m 2\u001b[39m Dubious            YAL068W-A \u001b[31mNA\u001b[39m    Dubious open reading frame                \n",
      "\u001b[90m 3\u001b[39m Verified           YAL068C   PAU8  Protein of unknown function               \n",
      "\u001b[90m 4\u001b[39m Uncharacterized    YAL067W-A \u001b[31mNA\u001b[39m    Putative protein of unknown function      \n",
      "\u001b[90m 5\u001b[39m Verified           YAL067C   SEO1  Putative permease                         \n",
      "\u001b[90m 6\u001b[39m Dubious            YAL066W   \u001b[31mNA\u001b[39m    Dubious open reading frame                \n",
      "\u001b[90m 7\u001b[39m Uncharacterized    YAL065C   \u001b[31mNA\u001b[39m    Putative protein of unknown function      \n",
      "\u001b[90m 8\u001b[39m Uncharacterized    YAL064W-B \u001b[31mNA\u001b[39m    Fungal-specific protein of unknown functi…\n",
      "\u001b[90m 9\u001b[39m Uncharacterized    YAL064C-A TDA8  Putative protein of unknown function      \n",
      "\u001b[90m10\u001b[39m Verified           YAL064W   \u001b[31mNA\u001b[39m    Protein of unknown function               \n",
      "\u001b[90m# … with 6,597 more rows\u001b[39m\n"
     ]
    }
   ],
   "source": [
    "annotations <- read_gff3(\"../db/S288C_reference_genome_R64-3-1_20210421/sgd_gene_annotations.gff3\") %>%\n",
    "  as_tibble() %>%\n",
    "  filter(type == \"gene\") %>%\n",
    "  select(orf_classification, ID, gene, display) %>%\n",
    "  janitor::clean_names() %>%\n",
    "  print()"
   ]
  },
  {
   "cell_type": "markdown",
   "metadata": {},
   "source": [
    "### Read in scored motifs\n",
    "\n",
    "- From ```calculate_stall_scores.ipynb```"
   ]
  },
  {
   "cell_type": "code",
   "execution_count": 41,
   "metadata": {
    "vscode": {
     "languageId": "r"
    }
   },
   "outputs": [
    {
     "name": "stdout",
     "output_type": "stream",
     "text": [
      "\u001b[90m# A tibble: 128,783 × 6\u001b[39m\n",
      "   id    strength   loc motif                 nt63                         type \n",
      "   \u001b[3m\u001b[90m<chr>\u001b[39m\u001b[23m    \u001b[3m\u001b[90m<dbl>\u001b[39m\u001b[23m \u001b[3m\u001b[90m<dbl>\u001b[39m\u001b[23m \u001b[3m\u001b[90m<chr>\u001b[39m\u001b[23m                 \u001b[3m\u001b[90m<chr>\u001b[39m\u001b[23m                        \u001b[3m\u001b[90m<chr>\u001b[39m\u001b[23m\n",
      "\u001b[90m 1\u001b[39m Q0010     14.5    13 YIIFLYNILLIIILIFYSIVG TATATTATATTTTTATATAATATATTA… posb…\n",
      "\u001b[90m 2\u001b[39m Q0010     20      38 IFNNNYYWDPDIFLFIIYYFI ATTTTCAATAATAATTATTATTGGGAC… posb…\n",
      "\u001b[90m 3\u001b[39m Q0010     17.5    48 DIFLFIIYYFIKFIIIFNLYL GATATCTTCTTGTTTATCATTTATTAT… posb…\n",
      "\u001b[90m 4\u001b[39m Q0010     16      84 PGRGLYILLYNILYSYNIFID CCGGGGCGGGGACTTTATATTTTATTA… posb…\n",
      "\u001b[90m 5\u001b[39m Q0010     18      95 ILYSYNIFIDYVIKFILCVLY ATATTATATTCTTATAATATATTTATT… posb…\n",
      "\u001b[90m 6\u001b[39m Q0010     12.5   105 YVIKFILCVLYIYLIFWLLSP TATGTTATAAAATTTATTCTATGTGTG… posb…\n",
      "\u001b[90m 7\u001b[39m Q0010      7     112 CVLYIYLIFWLLSPTPSPYYV TGTGTGCTCTATATATATTTAATATTC… posb…\n",
      "\u001b[90m 8\u001b[39m Q0017     12       5 \u001b[31mNA\u001b[39m                    \u001b[31mNA\u001b[39m                           posb…\n",
      "\u001b[90m 9\u001b[39m Q0017     16      26 PLPLLRLRGPGFVRNRDLYIY CCCCTCCCCCTATTACGTCTCCGAGGT… posb…\n",
      "\u001b[90m10\u001b[39m Q0017     12.5    35 PGFVRNRDLYIYKYKSNLINN CCCGGTTTCGTAAGAAACCGGGACTTA… posb…\n",
      "\u001b[90m# … with 128,773 more rows\u001b[39m\n"
     ]
    }
   ],
   "source": [
    "# scoring presence of K/R and 'L/I/V/W/F/Y'\n",
    "posbulky <- read_tsv(\"../data/stallscores/posbulky_motif_scores_sgd_orfs.tsv\", show_col_types = F) %>%\n",
    "  dplyr::rename(id = transcript_id) %>%\n",
    "  print()"
   ]
  },
  {
   "cell_type": "code",
   "execution_count": 42,
   "metadata": {
    "vscode": {
     "languageId": "r"
    }
   },
   "outputs": [
    {
     "name": "stdout",
     "output_type": "stream",
     "text": [
      "\u001b[90m# A tibble: 16,854 × 6\u001b[39m\n",
      "   id    strength   loc motif                 nt63                         type \n",
      "   \u001b[3m\u001b[90m<chr>\u001b[39m\u001b[23m    \u001b[3m\u001b[90m<dbl>\u001b[39m\u001b[23m \u001b[3m\u001b[90m<dbl>\u001b[39m\u001b[23m \u001b[3m\u001b[90m<chr>\u001b[39m\u001b[23m                 \u001b[3m\u001b[90m<chr>\u001b[39m\u001b[23m                        \u001b[3m\u001b[90m<chr>\u001b[39m\u001b[23m\n",
      "\u001b[90m 1\u001b[39m Q0010       10    52 FIIYYFIKFIIIFNLYLYYII TTTATCATTTATTATTTTATTAAATTT… FK   \n",
      "\u001b[90m 2\u001b[39m Q0010        2    16 FLYNILLIIILIFYSIVGVPI TTTTTATATAATATATTATTAATTATT… FK   \n",
      "\u001b[90m 3\u001b[39m Q0017        1    47 KYKSNLINNLNNILYIL*    AAATATAAATCTAACTTAATTAATAAT… FK   \n",
      "\u001b[90m 4\u001b[39m Q0032        2     0 \u001b[31mNA\u001b[39m                    \u001b[31mNA\u001b[39m                           FK   \n",
      "\u001b[90m 5\u001b[39m Q0045        0   111 IAF*VLPMGLVCLVTSTLVES ATTGCTTTTTGAGTATTACCTATGGGG… FK   \n",
      "\u001b[90m 6\u001b[39m Q0050       12   311 GTGKFKFKPMRIVNIPKPKGG GGAACAGGTAAATTCAAATTTAAACCC… FK   \n",
      "\u001b[90m 7\u001b[39m Q0050       10   514 GPLFIYNDPNFKRIKYVRYAD GGCCCACTATTTATTTATAATGATCCT… FK   \n",
      "\u001b[90m 8\u001b[39m Q0050       10   699 LASKYRLKTISKTIKKFGYNL TTAGCTAGTAAATATAGATTAAAAACA… FK   \n",
      "\u001b[90m 9\u001b[39m Q0050        0   245 FEKLVIDNINEENINNNLLSI TTTGAGAAATTAGTAATAGATAATATA… FK   \n",
      "\u001b[90m10\u001b[39m Q0055       11   731 TLARKFKLNTVKKVILKFGKV ACATTAGCAAGAAAATTTAAATTAAAT… FK   \n",
      "\u001b[90m# … with 16,844 more rows\u001b[39m\n"
     ]
    }
   ],
   "source": [
    "# scoring specifically for 'FK/KF' (with some additional weight to presence of R/W/Y), scoring 'PG/GP/PD/DP' dipeptides (with additional weight for any P/D/G presence)\n",
    "dipeptides <- read_tsv(\"../data/stallscores/dipeptide_scores_sgd_orfs.tsv\", show_col_types = F) %>%\n",
    "  dplyr::rename(id = transcript_id) %>%\n",
    "  print()"
   ]
  },
  {
   "cell_type": "markdown",
   "metadata": {},
   "source": [
    "### Remove any motifs with stop codons or NAs (exist near the ends of the gene), tabulate amino acid types"
   ]
  },
  {
   "cell_type": "code",
   "execution_count": 43,
   "metadata": {
    "vscode": {
     "languageId": "r"
    }
   },
   "outputs": [
    {
     "data": {
      "text/html": [
       "<table class=\"dataframe\">\n",
       "<caption>A tibble: 6 × 11</caption>\n",
       "<thead>\n",
       "\t<tr><th scope=col>id</th><th scope=col>strength</th><th scope=col>loc</th><th scope=col>motif</th><th scope=col>nt63</th><th scope=col>type</th><th scope=col>positive</th><th scope=col>bulky</th><th scope=col>p</th><th scope=col>g</th><th scope=col>d</th></tr>\n",
       "\t<tr><th scope=col>&lt;chr&gt;</th><th scope=col>&lt;dbl&gt;</th><th scope=col>&lt;dbl&gt;</th><th scope=col>&lt;chr&gt;</th><th scope=col>&lt;chr&gt;</th><th scope=col>&lt;chr&gt;</th><th scope=col>&lt;int&gt;</th><th scope=col>&lt;int&gt;</th><th scope=col>&lt;int&gt;</th><th scope=col>&lt;int&gt;</th><th scope=col>&lt;int&gt;</th></tr>\n",
       "</thead>\n",
       "<tbody>\n",
       "\t<tr><td>YOR309C  </td><td>24</td><td> 55</td><td>KLRRKRRTRRKRRKRRKRRRR</td><td>AAGCTAAGAAGGAAAAGAAGGACAAGAAGGAAAAGAAGGAAAAGAAGGAAAAGAAGGAGAAGA</td><td>posbulky</td><td>19</td><td> 1</td><td>0</td><td>0</td><td>0</td></tr>\n",
       "\t<tr><td>YHR131C  </td><td>22</td><td>319</td><td>LEVREYPDYRIVPRRRRRRRR</td><td>TTGGAAGTCAGGGAGTATCCAGATTATCGAATTGTTCCCAGAAGAAGGAGAAGGAGAAGGAGG</td><td>posbulky</td><td>10</td><td> 6</td><td>2</td><td>0</td><td>1</td></tr>\n",
       "\t<tr><td>YKL030W  </td><td>22</td><td> 17</td><td>CCCYCFYYCIIVLLLYYYYYY</td><td>TGCTGTTGTTATTGTTTTTATTATTGTATTATTGTATTATTATTATATTATTATTATTATTAT</td><td>posbulky</td><td> 0</td><td>16</td><td>0</td><td>0</td><td>0</td></tr>\n",
       "\t<tr><td>YDR504C  </td><td>21</td><td> 37</td><td>FSLFLFLFVFVFVFIFVYFFY</td><td>TTTTCATTGTTTTTGTTTTTGTTTGTTTTTGTTTTTGTTTTTATTTTTGTCTACTTTTTTTAT</td><td>posbulky</td><td> 0</td><td>20</td><td>0</td><td>0</td><td>0</td></tr>\n",
       "\t<tr><td>YER158W-A</td><td>21</td><td> 36</td><td>LLLRIDLPLRNRIFRRLKLFF</td><td>CTTCTTCTACGCATAGACCTTCCCTTAAGAAATCGAATTTTTCGTCGTTTAAAATTGTTTTTT</td><td>posbulky</td><td> 6</td><td>12</td><td>1</td><td>0</td><td>1</td></tr>\n",
       "\t<tr><td>YGR004W  </td><td>21</td><td>219</td><td>LTYHSKLIRRMRRYLWKFRVV</td><td>CTTACGTACCATTCTAAACTAATCCGAAGAATGAGAAGATACTTGTGGAAATTTCGCGTTGTT</td><td>posbulky</td><td> 7</td><td>10</td><td>0</td><td>0</td><td>0</td></tr>\n",
       "</tbody>\n",
       "</table>\n"
      ],
      "text/latex": [
       "A tibble: 6 × 11\n",
       "\\begin{tabular}{lllllllllll}\n",
       " id & strength & loc & motif & nt63 & type & positive & bulky & p & g & d\\\\\n",
       " <chr> & <dbl> & <dbl> & <chr> & <chr> & <chr> & <int> & <int> & <int> & <int> & <int>\\\\\n",
       "\\hline\n",
       "\t YOR309C   & 24 &  55 & KLRRKRRTRRKRRKRRKRRRR & AAGCTAAGAAGGAAAAGAAGGACAAGAAGGAAAAGAAGGAAAAGAAGGAAAAGAAGGAGAAGA & posbulky & 19 &  1 & 0 & 0 & 0\\\\\n",
       "\t YHR131C   & 22 & 319 & LEVREYPDYRIVPRRRRRRRR & TTGGAAGTCAGGGAGTATCCAGATTATCGAATTGTTCCCAGAAGAAGGAGAAGGAGAAGGAGG & posbulky & 10 &  6 & 2 & 0 & 1\\\\\n",
       "\t YKL030W   & 22 &  17 & CCCYCFYYCIIVLLLYYYYYY & TGCTGTTGTTATTGTTTTTATTATTGTATTATTGTATTATTATTATATTATTATTATTATTAT & posbulky &  0 & 16 & 0 & 0 & 0\\\\\n",
       "\t YDR504C   & 21 &  37 & FSLFLFLFVFVFVFIFVYFFY & TTTTCATTGTTTTTGTTTTTGTTTGTTTTTGTTTTTGTTTTTATTTTTGTCTACTTTTTTTAT & posbulky &  0 & 20 & 0 & 0 & 0\\\\\n",
       "\t YER158W-A & 21 &  36 & LLLRIDLPLRNRIFRRLKLFF & CTTCTTCTACGCATAGACCTTCCCTTAAGAAATCGAATTTTTCGTCGTTTAAAATTGTTTTTT & posbulky &  6 & 12 & 1 & 0 & 1\\\\\n",
       "\t YGR004W   & 21 & 219 & LTYHSKLIRRMRRYLWKFRVV & CTTACGTACCATTCTAAACTAATCCGAAGAATGAGAAGATACTTGTGGAAATTTCGCGTTGTT & posbulky &  7 & 10 & 0 & 0 & 0\\\\\n",
       "\\end{tabular}\n"
      ],
      "text/markdown": [
       "\n",
       "A tibble: 6 × 11\n",
       "\n",
       "| id &lt;chr&gt; | strength &lt;dbl&gt; | loc &lt;dbl&gt; | motif &lt;chr&gt; | nt63 &lt;chr&gt; | type &lt;chr&gt; | positive &lt;int&gt; | bulky &lt;int&gt; | p &lt;int&gt; | g &lt;int&gt; | d &lt;int&gt; |\n",
       "|---|---|---|---|---|---|---|---|---|---|---|\n",
       "| YOR309C   | 24 |  55 | KLRRKRRTRRKRRKRRKRRRR | AAGCTAAGAAGGAAAAGAAGGACAAGAAGGAAAAGAAGGAAAAGAAGGAAAAGAAGGAGAAGA | posbulky | 19 |  1 | 0 | 0 | 0 |\n",
       "| YHR131C   | 22 | 319 | LEVREYPDYRIVPRRRRRRRR | TTGGAAGTCAGGGAGTATCCAGATTATCGAATTGTTCCCAGAAGAAGGAGAAGGAGAAGGAGG | posbulky | 10 |  6 | 2 | 0 | 1 |\n",
       "| YKL030W   | 22 |  17 | CCCYCFYYCIIVLLLYYYYYY | TGCTGTTGTTATTGTTTTTATTATTGTATTATTGTATTATTATTATATTATTATTATTATTAT | posbulky |  0 | 16 | 0 | 0 | 0 |\n",
       "| YDR504C   | 21 |  37 | FSLFLFLFVFVFVFIFVYFFY | TTTTCATTGTTTTTGTTTTTGTTTGTTTTTGTTTTTGTTTTTATTTTTGTCTACTTTTTTTAT | posbulky |  0 | 20 | 0 | 0 | 0 |\n",
       "| YER158W-A | 21 |  36 | LLLRIDLPLRNRIFRRLKLFF | CTTCTTCTACGCATAGACCTTCCCTTAAGAAATCGAATTTTTCGTCGTTTAAAATTGTTTTTT | posbulky |  6 | 12 | 1 | 0 | 1 |\n",
       "| YGR004W   | 21 | 219 | LTYHSKLIRRMRRYLWKFRVV | CTTACGTACCATTCTAAACTAATCCGAAGAATGAGAAGATACTTGTGGAAATTTCGCGTTGTT | posbulky |  7 | 10 | 0 | 0 | 0 |\n",
       "\n"
      ],
      "text/plain": [
       "  id        strength loc motif                \n",
       "1 YOR309C   24        55 KLRRKRRTRRKRRKRRKRRRR\n",
       "2 YHR131C   22       319 LEVREYPDYRIVPRRRRRRRR\n",
       "3 YKL030W   22        17 CCCYCFYYCIIVLLLYYYYYY\n",
       "4 YDR504C   21        37 FSLFLFLFVFVFVFIFVYFFY\n",
       "5 YER158W-A 21        36 LLLRIDLPLRNRIFRRLKLFF\n",
       "6 YGR004W   21       219 LTYHSKLIRRMRRYLWKFRVV\n",
       "  nt63                                                            type    \n",
       "1 AAGCTAAGAAGGAAAAGAAGGACAAGAAGGAAAAGAAGGAAAAGAAGGAAAAGAAGGAGAAGA posbulky\n",
       "2 TTGGAAGTCAGGGAGTATCCAGATTATCGAATTGTTCCCAGAAGAAGGAGAAGGAGAAGGAGG posbulky\n",
       "3 TGCTGTTGTTATTGTTTTTATTATTGTATTATTGTATTATTATTATATTATTATTATTATTAT posbulky\n",
       "4 TTTTCATTGTTTTTGTTTTTGTTTGTTTTTGTTTTTGTTTTTATTTTTGTCTACTTTTTTTAT posbulky\n",
       "5 CTTCTTCTACGCATAGACCTTCCCTTAAGAAATCGAATTTTTCGTCGTTTAAAATTGTTTTTT posbulky\n",
       "6 CTTACGTACCATTCTAAACTAATCCGAAGAATGAGAAGATACTTGTGGAAATTTCGCGTTGTT posbulky\n",
       "  positive bulky p g d\n",
       "1 19        1    0 0 0\n",
       "2 10        6    2 0 1\n",
       "3  0       16    0 0 0\n",
       "4  0       20    0 0 0\n",
       "5  6       12    1 0 1\n",
       "6  7       10    0 0 0"
      ]
     },
     "metadata": {},
     "output_type": "display_data"
    }
   ],
   "source": [
    "motifs <- bind_rows(posbulky, dipeptides) %>%\n",
    "    drop_na() %>%\n",
    "    filter(!str_detect(motif, '\\\\*')) %>% # some motifs have stop codons\n",
    "    mutate(positive = str_count(motif, 'K|R')) %>%\n",
    "    mutate(bulky = str_count(motif, 'W|F|Y|L|I|V')) %>%\n",
    "    mutate(p = str_count(motif, 'P'), g = str_count(motif, 'G'), d = str_count(motif, 'D')) %>%\n",
    "    arrange(desc(strength))\n",
    "\n",
    "head(motifs)"
   ]
  },
  {
   "cell_type": "markdown",
   "metadata": {},
   "source": [
    "## Pick posbulky and FK motifs based on SDD1 \n",
    "- Pick motifs that are at least as strong and have approx the same posbulky pattern as SDD1, since we pulled out this motif using our method"
   ]
  },
  {
   "cell_type": "code",
   "execution_count": 44,
   "metadata": {
    "vscode": {
     "languageId": "r"
    }
   },
   "outputs": [
    {
     "name": "stderr",
     "output_type": "stream",
     "text": [
      "\u001b[1m\u001b[22m`summarise()` has grouped output by 'type', 'motif', 'positive'. You can\n",
      "override using the `.groups` argument.\n"
     ]
    },
    {
     "data": {
      "text/html": [
       "<table class=\"dataframe\">\n",
       "<caption>A grouped_df: 14 × 5</caption>\n",
       "<thead>\n",
       "\t<tr><th scope=col>type</th><th scope=col>motif</th><th scope=col>positive</th><th scope=col>bulky</th><th scope=col>max</th></tr>\n",
       "\t<tr><th scope=col>&lt;chr&gt;</th><th scope=col>&lt;chr&gt;</th><th scope=col>&lt;int&gt;</th><th scope=col>&lt;int&gt;</th><th scope=col>&lt;dbl&gt;</th></tr>\n",
       "</thead>\n",
       "<tbody>\n",
       "\t<tr><td>posbulky</td><td>DFFYEDYLIFDCRAKRRKKLK</td><td>7</td><td> 8</td><td>19.0</td></tr>\n",
       "\t<tr><td>posbulky</td><td>VVRSSFIESDFFYEDYLIFDC</td><td>1</td><td>11</td><td>15.5</td></tr>\n",
       "\t<tr><td>posbulky</td><td>ITYKYLSNENCKEENKFGTFI</td><td>3</td><td> 7</td><td>15.0</td></tr>\n",
       "\t<tr><td>posbulky</td><td>AILKQVHLDNANIENKRILKE</td><td>4</td><td> 7</td><td>14.0</td></tr>\n",
       "\t<tr><td>posbulky</td><td>MANDGIQRNDNRKGFKTVQFS</td><td>4</td><td> 4</td><td>12.5</td></tr>\n",
       "\t<tr><td>⋮</td><td>⋮</td><td>⋮</td><td>⋮</td><td>⋮</td></tr>\n",
       "\t<tr><td>posbulky</td><td>LDNLAATLHDQVLKLQATLFP</td><td>1</td><td>8</td><td>10.5</td></tr>\n",
       "\t<tr><td>FK      </td><td>YLIFDCRAKRRKKLKRKILFI</td><td>9</td><td>9</td><td>10.0</td></tr>\n",
       "\t<tr><td>posbulky</td><td>NIENKRILKEITYKYLSNENC</td><td>4</td><td>7</td><td>10.0</td></tr>\n",
       "\t<tr><td>posbulky</td><td>QLKNLLGIYSKEEIFTLDNLA</td><td>2</td><td>9</td><td> 5.5</td></tr>\n",
       "\t<tr><td>pd_pg   </td><td>EIDVIMKKISFLERNITQQLD</td><td>3</td><td>8</td><td> 0.0</td></tr>\n",
       "</tbody>\n",
       "</table>\n"
      ],
      "text/latex": [
       "A grouped\\_df: 14 × 5\n",
       "\\begin{tabular}{lllll}\n",
       " type & motif & positive & bulky & max\\\\\n",
       " <chr> & <chr> & <int> & <int> & <dbl>\\\\\n",
       "\\hline\n",
       "\t posbulky & DFFYEDYLIFDCRAKRRKKLK & 7 &  8 & 19.0\\\\\n",
       "\t posbulky & VVRSSFIESDFFYEDYLIFDC & 1 & 11 & 15.5\\\\\n",
       "\t posbulky & ITYKYLSNENCKEENKFGTFI & 3 &  7 & 15.0\\\\\n",
       "\t posbulky & AILKQVHLDNANIENKRILKE & 4 &  7 & 14.0\\\\\n",
       "\t posbulky & MANDGIQRNDNRKGFKTVQFS & 4 &  4 & 12.5\\\\\n",
       "\t ⋮ & ⋮ & ⋮ & ⋮ & ⋮\\\\\n",
       "\t posbulky & LDNLAATLHDQVLKLQATLFP & 1 & 8 & 10.5\\\\\n",
       "\t FK       & YLIFDCRAKRRKKLKRKILFI & 9 & 9 & 10.0\\\\\n",
       "\t posbulky & NIENKRILKEITYKYLSNENC & 4 & 7 & 10.0\\\\\n",
       "\t posbulky & QLKNLLGIYSKEEIFTLDNLA & 2 & 9 &  5.5\\\\\n",
       "\t pd\\_pg    & EIDVIMKKISFLERNITQQLD & 3 & 8 &  0.0\\\\\n",
       "\\end{tabular}\n"
      ],
      "text/markdown": [
       "\n",
       "A grouped_df: 14 × 5\n",
       "\n",
       "| type &lt;chr&gt; | motif &lt;chr&gt; | positive &lt;int&gt; | bulky &lt;int&gt; | max &lt;dbl&gt; |\n",
       "|---|---|---|---|---|\n",
       "| posbulky | DFFYEDYLIFDCRAKRRKKLK | 7 |  8 | 19.0 |\n",
       "| posbulky | VVRSSFIESDFFYEDYLIFDC | 1 | 11 | 15.5 |\n",
       "| posbulky | ITYKYLSNENCKEENKFGTFI | 3 |  7 | 15.0 |\n",
       "| posbulky | AILKQVHLDNANIENKRILKE | 4 |  7 | 14.0 |\n",
       "| posbulky | MANDGIQRNDNRKGFKTVQFS | 4 |  4 | 12.5 |\n",
       "| ⋮ | ⋮ | ⋮ | ⋮ | ⋮ |\n",
       "| posbulky | LDNLAATLHDQVLKLQATLFP | 1 | 8 | 10.5 |\n",
       "| FK       | YLIFDCRAKRRKKLKRKILFI | 9 | 9 | 10.0 |\n",
       "| posbulky | NIENKRILKEITYKYLSNENC | 4 | 7 | 10.0 |\n",
       "| posbulky | QLKNLLGIYSKEEIFTLDNLA | 2 | 9 |  5.5 |\n",
       "| pd_pg    | EIDVIMKKISFLERNITQQLD | 3 | 8 |  0.0 |\n",
       "\n"
      ],
      "text/plain": [
       "   type     motif                 positive bulky max \n",
       "1  posbulky DFFYEDYLIFDCRAKRRKKLK 7         8    19.0\n",
       "2  posbulky VVRSSFIESDFFYEDYLIFDC 1        11    15.5\n",
       "3  posbulky ITYKYLSNENCKEENKFGTFI 3         7    15.0\n",
       "4  posbulky AILKQVHLDNANIENKRILKE 4         7    14.0\n",
       "5  posbulky MANDGIQRNDNRKGFKTVQFS 4         4    12.5\n",
       "⋮  ⋮        ⋮                     ⋮        ⋮     ⋮   \n",
       "10 posbulky LDNLAATLHDQVLKLQATLFP 1        8     10.5\n",
       "11 FK       YLIFDCRAKRRKKLKRKILFI 9        9     10.0\n",
       "12 posbulky NIENKRILKEITYKYLSNENC 4        7     10.0\n",
       "13 posbulky QLKNLLGIYSKEEIFTLDNLA 2        9      5.5\n",
       "14 pd_pg    EIDVIMKKISFLERNITQQLD 3        8      0.0"
      ]
     },
     "metadata": {},
     "output_type": "display_data"
    }
   ],
   "source": [
    "annotations %>%\n",
    "  filter(gene == \"SDD1\") %>%\n",
    "  left_join(motifs, by = 'id') %>%\n",
    "  group_by(type, motif, positive, bulky) %>%\n",
    "  summarize(max=max(strength)) %>%\n",
    "  arrange(desc(max))"
   ]
  },
  {
   "cell_type": "code",
   "execution_count": 45,
   "metadata": {
    "vscode": {
     "languageId": "r"
    }
   },
   "outputs": [],
   "source": [
    "fk_subset_sdd1 <- motifs %>%\n",
    "    filter(type =='FK', strength>=10, positive >= 8, bulky >= 8) %>%\n",
    "    group_by(motif) %>% \n",
    "    dplyr::slice(1) %>% # remove any duplicate motifs\n",
    "    ungroup()"
   ]
  },
  {
   "cell_type": "code",
   "execution_count": 46,
   "metadata": {
    "vscode": {
     "languageId": "r"
    }
   },
   "outputs": [],
   "source": [
    "posbulky_subset_sdd1 <- motifs %>%\n",
    "  filter(type == 'posbulky', strength >= 19, positive >= 6, bulky >= 7) %>%\n",
    "  group_by(motif) %>%\n",
    "  dplyr::slice(1) %>%\n",
    "  ungroup()"
   ]
  },
  {
   "cell_type": "markdown",
   "metadata": {},
   "source": [
    "- Because 'posbulky' and 'FK' type motifs are scored similarly, there are duplicate motifs present\n",
    "- For motifs that are from the same general locations (overlapping but not identical), drop the 'FK' type motif and keep the 'posbulky' one"
   ]
  },
  {
   "cell_type": "code",
   "execution_count": 47,
   "metadata": {
    "vscode": {
     "languageId": "r"
    }
   },
   "outputs": [
    {
     "data": {
      "text/html": [
       "<table class=\"dataframe\">\n",
       "<caption>A tibble: 7 × 2</caption>\n",
       "<thead>\n",
       "\t<tr><th scope=col>id</th><th scope=col>n_motifs</th></tr>\n",
       "\t<tr><th scope=col>&lt;chr&gt;</th><th scope=col>&lt;int&gt;</th></tr>\n",
       "</thead>\n",
       "<tbody>\n",
       "\t<tr><td>YDL030W</td><td>2</td></tr>\n",
       "\t<tr><td>YEL057C</td><td>2</td></tr>\n",
       "\t<tr><td>YHR073W</td><td>2</td></tr>\n",
       "\t<tr><td>YLL048C</td><td>2</td></tr>\n",
       "\t<tr><td>YLR312C</td><td>2</td></tr>\n",
       "\t<tr><td>YMR207C</td><td>2</td></tr>\n",
       "\t<tr><td>YPL158C</td><td>2</td></tr>\n",
       "</tbody>\n",
       "</table>\n"
      ],
      "text/latex": [
       "A tibble: 7 × 2\n",
       "\\begin{tabular}{ll}\n",
       " id & n\\_motifs\\\\\n",
       " <chr> & <int>\\\\\n",
       "\\hline\n",
       "\t YDL030W & 2\\\\\n",
       "\t YEL057C & 2\\\\\n",
       "\t YHR073W & 2\\\\\n",
       "\t YLL048C & 2\\\\\n",
       "\t YLR312C & 2\\\\\n",
       "\t YMR207C & 2\\\\\n",
       "\t YPL158C & 2\\\\\n",
       "\\end{tabular}\n"
      ],
      "text/markdown": [
       "\n",
       "A tibble: 7 × 2\n",
       "\n",
       "| id &lt;chr&gt; | n_motifs &lt;int&gt; |\n",
       "|---|---|\n",
       "| YDL030W | 2 |\n",
       "| YEL057C | 2 |\n",
       "| YHR073W | 2 |\n",
       "| YLL048C | 2 |\n",
       "| YLR312C | 2 |\n",
       "| YMR207C | 2 |\n",
       "| YPL158C | 2 |\n",
       "\n"
      ],
      "text/plain": [
       "  id      n_motifs\n",
       "1 YDL030W 2       \n",
       "2 YEL057C 2       \n",
       "3 YHR073W 2       \n",
       "4 YLL048C 2       \n",
       "5 YLR312C 2       \n",
       "6 YMR207C 2       \n",
       "7 YPL158C 2       "
      ]
     },
     "metadata": {},
     "output_type": "display_data"
    }
   ],
   "source": [
    "bind_rows(fk_subset_sdd1, posbulky_subset_sdd1) %>%\n",
    "    left_join(annotations, by = 'id') %>%\n",
    "    arrange(desc(strength)) %>%\n",
    "    group_by(id) %>%\n",
    "    summarize(n_motifs = dplyr::n()) %>%\n",
    "    filter(n_motifs >1)"
   ]
  },
  {
   "cell_type": "code",
   "execution_count": 48,
   "metadata": {
    "vscode": {
     "languageId": "r"
    }
   },
   "outputs": [
    {
     "data": {
      "text/html": [
       "<table class=\"dataframe\">\n",
       "<caption>A tibble: 44 × 15</caption>\n",
       "<thead>\n",
       "\t<tr><th scope=col>id</th><th scope=col>strength</th><th scope=col>loc</th><th scope=col>motif</th><th scope=col>nt63</th><th scope=col>type</th><th scope=col>positive</th><th scope=col>bulky</th><th scope=col>p</th><th scope=col>g</th><th scope=col>d</th><th scope=col>orf_classification</th><th scope=col>gene</th><th scope=col>display</th><th scope=col>class</th></tr>\n",
       "\t<tr><th scope=col>&lt;chr&gt;</th><th scope=col>&lt;dbl&gt;</th><th scope=col>&lt;dbl&gt;</th><th scope=col>&lt;chr&gt;</th><th scope=col>&lt;chr&gt;</th><th scope=col>&lt;chr&gt;</th><th scope=col>&lt;int&gt;</th><th scope=col>&lt;int&gt;</th><th scope=col>&lt;int&gt;</th><th scope=col>&lt;int&gt;</th><th scope=col>&lt;int&gt;</th><th scope=col>&lt;chr&gt;</th><th scope=col>&lt;chr&gt;</th><th scope=col>&lt;chr&gt;</th><th scope=col>&lt;chr&gt;</th></tr>\n",
       "</thead>\n",
       "<tbody>\n",
       "\t<tr><td>YAR047C</td><td>19.5</td><td> 66</td><td>KRFLYRQIMIALKIKAKKFWF</td><td>AAGCGTTTCCTGTATAGGCAGATAATGATTGCATTGAAAATAAAAGCCAAAAAATTTTGGTTC</td><td>posbulky</td><td>7</td><td>10</td><td>0</td><td>0</td><td>0</td><td>Dubious </td><td>NA    </td><td>Dubious open reading frame                 </td><td>endo_stall</td></tr>\n",
       "\t<tr><td>YBL027W</td><td>19.5</td><td> 94</td><td>TREARLPSQVVWIRRLRVLRR</td><td>ACTAGAGAAGCTCGTTTACCATCCCAAGTCGTCTGGATCAGAAGATTACGTGTCTTGAGAAGA</td><td>posbulky</td><td>7</td><td> 8</td><td>1</td><td>0</td><td>0</td><td>Verified</td><td>RPL19B</td><td>Ribosomal 60S subunit protein L19B         </td><td>endo_stall</td></tr>\n",
       "\t<tr><td>YBR129C</td><td>12.0</td><td>232</td><td>LYTKVKKKKLFNRAKWQKFNV</td><td>CTTTACACAAAAGTGAAAAAGAAGAAACTGTTCAATAGGGCTAAATGGCAAAAGTTCAATGTG</td><td>FK      </td><td>8</td><td> 8</td><td>0</td><td>0</td><td>0</td><td>Verified</td><td>OPY1  </td><td>Protein of unknown function                </td><td>endo_stall</td></tr>\n",
       "\t<tr><td>YCL054W</td><td>10.0</td><td>318</td><td>KVLGKKDFKMILRWRKIAREI</td><td>AAAGTCTTGGGTAAAAAGGATTTTAAAATGATCCTAAGATGGAGAAAGATTGCAAGGGAAATC</td><td>FK      </td><td>8</td><td> 8</td><td>0</td><td>1</td><td>1</td><td>Verified</td><td>SPB1  </td><td>AdoMet-dependent methyltransferase         </td><td>endo_stall</td></tr>\n",
       "\t<tr><td>YDL030W</td><td>20.5</td><td> 57</td><td>KLPRSSLIAENKIYKFKKVKR</td><td>AAACTGCCTAGATCATCGTTGATTGCAGAGAATAAAATATACAAGTTTAAAAAGGTTAAGAGG</td><td>posbulky</td><td>8</td><td> 7</td><td>1</td><td>0</td><td>0</td><td>Verified</td><td>PRP9  </td><td>Subunit of the SF3a splicing factor complex</td><td>endo_stall</td></tr>\n",
       "\t<tr><td>⋮</td><td>⋮</td><td>⋮</td><td>⋮</td><td>⋮</td><td>⋮</td><td>⋮</td><td>⋮</td><td>⋮</td><td>⋮</td><td>⋮</td><td>⋮</td><td>⋮</td><td>⋮</td><td>⋮</td></tr>\n",
       "\t<tr><td>YOR309C</td><td>20</td><td> 15</td><td>IPQRLLLILNPILMMKRKKRK</td><td>ATACCGCAAAGGCTGCTTCTGATTCTGAATCCGATTCTGATGATGAAGAGGAAGAAAAGAAAG</td><td>posbulky</td><td>7</td><td> 8</td><td>2</td><td>0</td><td>0</td><td>Dubious </td><td>NA   </td><td>Dubious open reading frame                                            </td><td>endo_stall</td></tr>\n",
       "\t<tr><td>YOR320C</td><td>12</td><td>368</td><td>KKIIYKQFIFFRKVRKLFKPE</td><td>AAGAAGATTATTTATAAACAGTTTATTTTCTTCAGAAAAGTCCGAAAACTTTTCAAACCAGAA</td><td>FK      </td><td>8</td><td>10</td><td>1</td><td>0</td><td>0</td><td>Verified</td><td>GNT1 </td><td>N-acetylglucosaminyltransferase                                       </td><td>endo_stall</td></tr>\n",
       "\t<tr><td>YPL147W</td><td>15</td><td> 95</td><td>IILKCYKFYKFPWKRRNRRPL</td><td>ATTATTCTAAAATGTTATAAATTTTACAAGTTTCCATGGAAGAGAAGGAATAGGAGACCTTTA</td><td>FK      </td><td>8</td><td> 9</td><td>2</td><td>0</td><td>0</td><td>Verified</td><td>PXA1 </td><td>Subunit of heterodimeric peroxisomal ABC transport complex, with Pxa2p</td><td>endo_stall</td></tr>\n",
       "\t<tr><td>YPL157W</td><td>12</td><td> 54</td><td>LKNGKLFKYWKNRRRLFSKID</td><td>TTGAAAAATGGTAAACTTTTCAAATACTGGAAAAATAGGCGTAGATTGTTTTCAAAGATAGAT</td><td>FK      </td><td>8</td><td> 8</td><td>0</td><td>1</td><td>1</td><td>Verified</td><td>TGS1 </td><td>Trimethyl guanosine synthase, conserved nucleolar methyl transferase  </td><td>endo_stall</td></tr>\n",
       "\t<tr><td>YPL158C</td><td>21</td><td>290</td><td>LYYFTSLGIKIKKKLRKLRLV</td><td>TTATATTATTTCACCTCATTGGGAATCAAGATAAAGAAAAAGTTACGGAAATTACGGCTAGTT</td><td>posbulky</td><td>7</td><td>11</td><td>0</td><td>1</td><td>0</td><td>Verified</td><td>AIM44</td><td>Regulator of Cdc42p and Rho1p                                         </td><td>endo_stall</td></tr>\n",
       "</tbody>\n",
       "</table>\n"
      ],
      "text/latex": [
       "A tibble: 44 × 15\n",
       "\\begin{tabular}{lllllllllllllll}\n",
       " id & strength & loc & motif & nt63 & type & positive & bulky & p & g & d & orf\\_classification & gene & display & class\\\\\n",
       " <chr> & <dbl> & <dbl> & <chr> & <chr> & <chr> & <int> & <int> & <int> & <int> & <int> & <chr> & <chr> & <chr> & <chr>\\\\\n",
       "\\hline\n",
       "\t YAR047C & 19.5 &  66 & KRFLYRQIMIALKIKAKKFWF & AAGCGTTTCCTGTATAGGCAGATAATGATTGCATTGAAAATAAAAGCCAAAAAATTTTGGTTC & posbulky & 7 & 10 & 0 & 0 & 0 & Dubious  & NA     & Dubious open reading frame                  & endo\\_stall\\\\\n",
       "\t YBL027W & 19.5 &  94 & TREARLPSQVVWIRRLRVLRR & ACTAGAGAAGCTCGTTTACCATCCCAAGTCGTCTGGATCAGAAGATTACGTGTCTTGAGAAGA & posbulky & 7 &  8 & 1 & 0 & 0 & Verified & RPL19B & Ribosomal 60S subunit protein L19B          & endo\\_stall\\\\\n",
       "\t YBR129C & 12.0 & 232 & LYTKVKKKKLFNRAKWQKFNV & CTTTACACAAAAGTGAAAAAGAAGAAACTGTTCAATAGGGCTAAATGGCAAAAGTTCAATGTG & FK       & 8 &  8 & 0 & 0 & 0 & Verified & OPY1   & Protein of unknown function                 & endo\\_stall\\\\\n",
       "\t YCL054W & 10.0 & 318 & KVLGKKDFKMILRWRKIAREI & AAAGTCTTGGGTAAAAAGGATTTTAAAATGATCCTAAGATGGAGAAAGATTGCAAGGGAAATC & FK       & 8 &  8 & 0 & 1 & 1 & Verified & SPB1   & AdoMet-dependent methyltransferase          & endo\\_stall\\\\\n",
       "\t YDL030W & 20.5 &  57 & KLPRSSLIAENKIYKFKKVKR & AAACTGCCTAGATCATCGTTGATTGCAGAGAATAAAATATACAAGTTTAAAAAGGTTAAGAGG & posbulky & 8 &  7 & 1 & 0 & 0 & Verified & PRP9   & Subunit of the SF3a splicing factor complex & endo\\_stall\\\\\n",
       "\t ⋮ & ⋮ & ⋮ & ⋮ & ⋮ & ⋮ & ⋮ & ⋮ & ⋮ & ⋮ & ⋮ & ⋮ & ⋮ & ⋮ & ⋮\\\\\n",
       "\t YOR309C & 20 &  15 & IPQRLLLILNPILMMKRKKRK & ATACCGCAAAGGCTGCTTCTGATTCTGAATCCGATTCTGATGATGAAGAGGAAGAAAAGAAAG & posbulky & 7 &  8 & 2 & 0 & 0 & Dubious  & NA    & Dubious open reading frame                                             & endo\\_stall\\\\\n",
       "\t YOR320C & 12 & 368 & KKIIYKQFIFFRKVRKLFKPE & AAGAAGATTATTTATAAACAGTTTATTTTCTTCAGAAAAGTCCGAAAACTTTTCAAACCAGAA & FK       & 8 & 10 & 1 & 0 & 0 & Verified & GNT1  & N-acetylglucosaminyltransferase                                        & endo\\_stall\\\\\n",
       "\t YPL147W & 15 &  95 & IILKCYKFYKFPWKRRNRRPL & ATTATTCTAAAATGTTATAAATTTTACAAGTTTCCATGGAAGAGAAGGAATAGGAGACCTTTA & FK       & 8 &  9 & 2 & 0 & 0 & Verified & PXA1  & Subunit of heterodimeric peroxisomal ABC transport complex, with Pxa2p & endo\\_stall\\\\\n",
       "\t YPL157W & 12 &  54 & LKNGKLFKYWKNRRRLFSKID & TTGAAAAATGGTAAACTTTTCAAATACTGGAAAAATAGGCGTAGATTGTTTTCAAAGATAGAT & FK       & 8 &  8 & 0 & 1 & 1 & Verified & TGS1  & Trimethyl guanosine synthase, conserved nucleolar methyl transferase   & endo\\_stall\\\\\n",
       "\t YPL158C & 21 & 290 & LYYFTSLGIKIKKKLRKLRLV & TTATATTATTTCACCTCATTGGGAATCAAGATAAAGAAAAAGTTACGGAAATTACGGCTAGTT & posbulky & 7 & 11 & 0 & 1 & 0 & Verified & AIM44 & Regulator of Cdc42p and Rho1p                                          & endo\\_stall\\\\\n",
       "\\end{tabular}\n"
      ],
      "text/markdown": [
       "\n",
       "A tibble: 44 × 15\n",
       "\n",
       "| id &lt;chr&gt; | strength &lt;dbl&gt; | loc &lt;dbl&gt; | motif &lt;chr&gt; | nt63 &lt;chr&gt; | type &lt;chr&gt; | positive &lt;int&gt; | bulky &lt;int&gt; | p &lt;int&gt; | g &lt;int&gt; | d &lt;int&gt; | orf_classification &lt;chr&gt; | gene &lt;chr&gt; | display &lt;chr&gt; | class &lt;chr&gt; |\n",
       "|---|---|---|---|---|---|---|---|---|---|---|---|---|---|---|\n",
       "| YAR047C | 19.5 |  66 | KRFLYRQIMIALKIKAKKFWF | AAGCGTTTCCTGTATAGGCAGATAATGATTGCATTGAAAATAAAAGCCAAAAAATTTTGGTTC | posbulky | 7 | 10 | 0 | 0 | 0 | Dubious  | NA     | Dubious open reading frame                  | endo_stall |\n",
       "| YBL027W | 19.5 |  94 | TREARLPSQVVWIRRLRVLRR | ACTAGAGAAGCTCGTTTACCATCCCAAGTCGTCTGGATCAGAAGATTACGTGTCTTGAGAAGA | posbulky | 7 |  8 | 1 | 0 | 0 | Verified | RPL19B | Ribosomal 60S subunit protein L19B          | endo_stall |\n",
       "| YBR129C | 12.0 | 232 | LYTKVKKKKLFNRAKWQKFNV | CTTTACACAAAAGTGAAAAAGAAGAAACTGTTCAATAGGGCTAAATGGCAAAAGTTCAATGTG | FK       | 8 |  8 | 0 | 0 | 0 | Verified | OPY1   | Protein of unknown function                 | endo_stall |\n",
       "| YCL054W | 10.0 | 318 | KVLGKKDFKMILRWRKIAREI | AAAGTCTTGGGTAAAAAGGATTTTAAAATGATCCTAAGATGGAGAAAGATTGCAAGGGAAATC | FK       | 8 |  8 | 0 | 1 | 1 | Verified | SPB1   | AdoMet-dependent methyltransferase          | endo_stall |\n",
       "| YDL030W | 20.5 |  57 | KLPRSSLIAENKIYKFKKVKR | AAACTGCCTAGATCATCGTTGATTGCAGAGAATAAAATATACAAGTTTAAAAAGGTTAAGAGG | posbulky | 8 |  7 | 1 | 0 | 0 | Verified | PRP9   | Subunit of the SF3a splicing factor complex | endo_stall |\n",
       "| ⋮ | ⋮ | ⋮ | ⋮ | ⋮ | ⋮ | ⋮ | ⋮ | ⋮ | ⋮ | ⋮ | ⋮ | ⋮ | ⋮ | ⋮ |\n",
       "| YOR309C | 20 |  15 | IPQRLLLILNPILMMKRKKRK | ATACCGCAAAGGCTGCTTCTGATTCTGAATCCGATTCTGATGATGAAGAGGAAGAAAAGAAAG | posbulky | 7 |  8 | 2 | 0 | 0 | Dubious  | NA    | Dubious open reading frame                                             | endo_stall |\n",
       "| YOR320C | 12 | 368 | KKIIYKQFIFFRKVRKLFKPE | AAGAAGATTATTTATAAACAGTTTATTTTCTTCAGAAAAGTCCGAAAACTTTTCAAACCAGAA | FK       | 8 | 10 | 1 | 0 | 0 | Verified | GNT1  | N-acetylglucosaminyltransferase                                        | endo_stall |\n",
       "| YPL147W | 15 |  95 | IILKCYKFYKFPWKRRNRRPL | ATTATTCTAAAATGTTATAAATTTTACAAGTTTCCATGGAAGAGAAGGAATAGGAGACCTTTA | FK       | 8 |  9 | 2 | 0 | 0 | Verified | PXA1  | Subunit of heterodimeric peroxisomal ABC transport complex, with Pxa2p | endo_stall |\n",
       "| YPL157W | 12 |  54 | LKNGKLFKYWKNRRRLFSKID | TTGAAAAATGGTAAACTTTTCAAATACTGGAAAAATAGGCGTAGATTGTTTTCAAAGATAGAT | FK       | 8 |  8 | 0 | 1 | 1 | Verified | TGS1  | Trimethyl guanosine synthase, conserved nucleolar methyl transferase   | endo_stall |\n",
       "| YPL158C | 21 | 290 | LYYFTSLGIKIKKKLRKLRLV | TTATATTATTTCACCTCATTGGGAATCAAGATAAAGAAAAAGTTACGGAAATTACGGCTAGTT | posbulky | 7 | 11 | 0 | 1 | 0 | Verified | AIM44 | Regulator of Cdc42p and Rho1p                                          | endo_stall |\n",
       "\n"
      ],
      "text/plain": [
       "   id      strength loc motif                \n",
       "1  YAR047C 19.5      66 KRFLYRQIMIALKIKAKKFWF\n",
       "2  YBL027W 19.5      94 TREARLPSQVVWIRRLRVLRR\n",
       "3  YBR129C 12.0     232 LYTKVKKKKLFNRAKWQKFNV\n",
       "4  YCL054W 10.0     318 KVLGKKDFKMILRWRKIAREI\n",
       "5  YDL030W 20.5      57 KLPRSSLIAENKIYKFKKVKR\n",
       "⋮  ⋮       ⋮        ⋮   ⋮                    \n",
       "40 YOR309C 20        15 IPQRLLLILNPILMMKRKKRK\n",
       "41 YOR320C 12       368 KKIIYKQFIFFRKVRKLFKPE\n",
       "42 YPL147W 15        95 IILKCYKFYKFPWKRRNRRPL\n",
       "43 YPL157W 12        54 LKNGKLFKYWKNRRRLFSKID\n",
       "44 YPL158C 21       290 LYYFTSLGIKIKKKLRKLRLV\n",
       "   nt63                                                            type    \n",
       "1  AAGCGTTTCCTGTATAGGCAGATAATGATTGCATTGAAAATAAAAGCCAAAAAATTTTGGTTC posbulky\n",
       "2  ACTAGAGAAGCTCGTTTACCATCCCAAGTCGTCTGGATCAGAAGATTACGTGTCTTGAGAAGA posbulky\n",
       "3  CTTTACACAAAAGTGAAAAAGAAGAAACTGTTCAATAGGGCTAAATGGCAAAAGTTCAATGTG FK      \n",
       "4  AAAGTCTTGGGTAAAAAGGATTTTAAAATGATCCTAAGATGGAGAAAGATTGCAAGGGAAATC FK      \n",
       "5  AAACTGCCTAGATCATCGTTGATTGCAGAGAATAAAATATACAAGTTTAAAAAGGTTAAGAGG posbulky\n",
       "⋮  ⋮                                                               ⋮       \n",
       "40 ATACCGCAAAGGCTGCTTCTGATTCTGAATCCGATTCTGATGATGAAGAGGAAGAAAAGAAAG posbulky\n",
       "41 AAGAAGATTATTTATAAACAGTTTATTTTCTTCAGAAAAGTCCGAAAACTTTTCAAACCAGAA FK      \n",
       "42 ATTATTCTAAAATGTTATAAATTTTACAAGTTTCCATGGAAGAGAAGGAATAGGAGACCTTTA FK      \n",
       "43 TTGAAAAATGGTAAACTTTTCAAATACTGGAAAAATAGGCGTAGATTGTTTTCAAAGATAGAT FK      \n",
       "44 TTATATTATTTCACCTCATTGGGAATCAAGATAAAGAAAAAGTTACGGAAATTACGGCTAGTT posbulky\n",
       "   positive bulky p g d orf_classification gene  \n",
       "1  7        10    0 0 0 Dubious            NA    \n",
       "2  7         8    1 0 0 Verified           RPL19B\n",
       "3  8         8    0 0 0 Verified           OPY1  \n",
       "4  8         8    0 1 1 Verified           SPB1  \n",
       "5  8         7    1 0 0 Verified           PRP9  \n",
       "⋮  ⋮        ⋮     ⋮ ⋮ ⋮ ⋮                  ⋮     \n",
       "40 7         8    2 0 0 Dubious            NA    \n",
       "41 8        10    1 0 0 Verified           GNT1  \n",
       "42 8         9    2 0 0 Verified           PXA1  \n",
       "43 8         8    0 1 1 Verified           TGS1  \n",
       "44 7        11    0 1 0 Verified           AIM44 \n",
       "   display                                                               \n",
       "1  Dubious open reading frame                                            \n",
       "2  Ribosomal 60S subunit protein L19B                                    \n",
       "3  Protein of unknown function                                           \n",
       "4  AdoMet-dependent methyltransferase                                    \n",
       "5  Subunit of the SF3a splicing factor complex                           \n",
       "⋮  ⋮                                                                     \n",
       "40 Dubious open reading frame                                            \n",
       "41 N-acetylglucosaminyltransferase                                       \n",
       "42 Subunit of heterodimeric peroxisomal ABC transport complex, with Pxa2p\n",
       "43 Trimethyl guanosine synthase, conserved nucleolar methyl transferase  \n",
       "44 Regulator of Cdc42p and Rho1p                                         \n",
       "   class     \n",
       "1  endo_stall\n",
       "2  endo_stall\n",
       "3  endo_stall\n",
       "4  endo_stall\n",
       "5  endo_stall\n",
       "⋮  ⋮         \n",
       "40 endo_stall\n",
       "41 endo_stall\n",
       "42 endo_stall\n",
       "43 endo_stall\n",
       "44 endo_stall"
      ]
     },
     "metadata": {},
     "output_type": "display_data"
    }
   ],
   "source": [
    "contains_duplicates <- c('YDL030W', 'YEL057C', 'YHR073W', 'YLL048C', 'YLR312C', 'YMR207C', 'YPL158C')\n",
    "\n",
    "subset_motifs_to_sdd1 <- bind_rows(fk_subset_sdd1, posbulky_subset_sdd1) %>%\n",
    "    left_join(annotations, by = 'id') %>%\n",
    "    arrange(desc(strength)) %>%\n",
    "    mutate(type = ifelse( (id %in% contains_duplicates) & (type == 'FK'), NA, type)) %>%\n",
    "    drop_na(type) %>%\n",
    "    mutate(class = 'endo_stall') %>%\n",
    "    arrange(id)\n",
    "\n",
    "subset_motifs_to_sdd1"
   ]
  },
  {
   "cell_type": "markdown",
   "metadata": {},
   "source": [
    "## Pick PG/PD motifs"
   ]
  },
  {
   "cell_type": "code",
   "execution_count": 49,
   "metadata": {
    "vscode": {
     "languageId": "r"
    }
   },
   "outputs": [
    {
     "data": {
      "image/png": "[encoded data removed]",
      "text/plain": [
       "plot without title"
      ]
     },
     "metadata": {
      "image/png": {
       "height": 180,
       "width": 240
      }
     },
     "output_type": "display_data"
    }
   ],
   "source": [
    "motifs %>%\n",
    "    ggplot() +\n",
    "    aes(x=type, y=strength, group=type) +\n",
    "    geom_boxplot() +\n",
    "    scale_y_continuous(breaks=seq(0,25,2))"
   ]
  },
  {
   "cell_type": "code",
   "execution_count": 50,
   "metadata": {
    "vscode": {
     "languageId": "r"
    }
   },
   "outputs": [],
   "source": [
    "pd_pg_subset <- motifs %>%\n",
    "    filter(type == 'pd_pg') %>%\n",
    "    filter( (p >= 3) & (g + d > 7) ) %>%\n",
    "    left_join(annotations, by = 'id') %>%\n",
    "    mutate(class = 'endo_stall') %>%\n",
    "    arrange(id)"
   ]
  },
  {
   "cell_type": "code",
   "execution_count": 51,
   "metadata": {
    "vscode": {
     "languageId": "r"
    }
   },
   "outputs": [
    {
     "data": {
      "text/html": [
       "<table class=\"dataframe\">\n",
       "<caption>A tibble: 66 × 15</caption>\n",
       "<thead>\n",
       "\t<tr><th scope=col>id</th><th scope=col>strength</th><th scope=col>loc</th><th scope=col>motif</th><th scope=col>nt63</th><th scope=col>type</th><th scope=col>positive</th><th scope=col>bulky</th><th scope=col>p</th><th scope=col>g</th><th scope=col>d</th><th scope=col>orf_classification</th><th scope=col>gene</th><th scope=col>display</th><th scope=col>class</th></tr>\n",
       "\t<tr><th scope=col>&lt;chr&gt;</th><th scope=col>&lt;dbl&gt;</th><th scope=col>&lt;dbl&gt;</th><th scope=col>&lt;chr&gt;</th><th scope=col>&lt;chr&gt;</th><th scope=col>&lt;chr&gt;</th><th scope=col>&lt;int&gt;</th><th scope=col>&lt;int&gt;</th><th scope=col>&lt;int&gt;</th><th scope=col>&lt;int&gt;</th><th scope=col>&lt;int&gt;</th><th scope=col>&lt;chr&gt;</th><th scope=col>&lt;chr&gt;</th><th scope=col>&lt;chr&gt;</th><th scope=col>&lt;chr&gt;</th></tr>\n",
       "</thead>\n",
       "<tbody>\n",
       "\t<tr><td>YAR047C</td><td>19.5</td><td> 66</td><td>KRFLYRQIMIALKIKAKKFWF</td><td>AAGCGTTTCCTGTATAGGCAGATAATGATTGCATTGAAAATAAAAGCCAAAAAATTTTGGTTC</td><td>posbulky</td><td>7</td><td>10</td><td>0</td><td>0</td><td>0</td><td>Dubious </td><td>NA    </td><td>Dubious open reading frame                 </td><td>endo_stall</td></tr>\n",
       "\t<tr><td>YBL027W</td><td>19.5</td><td> 94</td><td>TREARLPSQVVWIRRLRVLRR</td><td>ACTAGAGAAGCTCGTTTACCATCCCAAGTCGTCTGGATCAGAAGATTACGTGTCTTGAGAAGA</td><td>posbulky</td><td>7</td><td> 8</td><td>1</td><td>0</td><td>0</td><td>Verified</td><td>RPL19B</td><td>Ribosomal 60S subunit protein L19B         </td><td>endo_stall</td></tr>\n",
       "\t<tr><td>YBR129C</td><td>12.0</td><td>232</td><td>LYTKVKKKKLFNRAKWQKFNV</td><td>CTTTACACAAAAGTGAAAAAGAAGAAACTGTTCAATAGGGCTAAATGGCAAAAGTTCAATGTG</td><td>FK      </td><td>8</td><td> 8</td><td>0</td><td>0</td><td>0</td><td>Verified</td><td>OPY1  </td><td>Protein of unknown function                </td><td>endo_stall</td></tr>\n",
       "\t<tr><td>YCL054W</td><td>10.0</td><td>318</td><td>KVLGKKDFKMILRWRKIAREI</td><td>AAAGTCTTGGGTAAAAAGGATTTTAAAATGATCCTAAGATGGAGAAAGATTGCAAGGGAAATC</td><td>FK      </td><td>8</td><td> 8</td><td>0</td><td>1</td><td>1</td><td>Verified</td><td>SPB1  </td><td>AdoMet-dependent methyltransferase         </td><td>endo_stall</td></tr>\n",
       "\t<tr><td>YDL030W</td><td>20.5</td><td> 57</td><td>KLPRSSLIAENKIYKFKKVKR</td><td>AAACTGCCTAGATCATCGTTGATTGCAGAGAATAAAATATACAAGTTTAAAAAGGTTAAGAGG</td><td>posbulky</td><td>8</td><td> 7</td><td>1</td><td>0</td><td>0</td><td>Verified</td><td>PRP9  </td><td>Subunit of the SF3a splicing factor complex</td><td>endo_stall</td></tr>\n",
       "\t<tr><td>⋮</td><td>⋮</td><td>⋮</td><td>⋮</td><td>⋮</td><td>⋮</td><td>⋮</td><td>⋮</td><td>⋮</td><td>⋮</td><td>⋮</td><td>⋮</td><td>⋮</td><td>⋮</td><td>⋮</td></tr>\n",
       "\t<tr><td>YMR214W</td><td>18</td><td>103</td><td>KNGGGGGGPGGPGAGGFHDPF</td><td>AAGAATGGCGGTGGCGGTGGCGGTCCAGGAGGCCCTGGCGCAGGTGGATTCCACGATCCGTTT</td><td>pd_pg</td><td>1</td><td>2</td><td>3</td><td>11</td><td>1</td><td>Verified</td><td>SCJ1</td><td>One of several homologs of bacterial chaperone DnaJ                   </td><td>endo_stall</td></tr>\n",
       "\t<tr><td>YNL007C</td><td>18</td><td> 87</td><td>PSFGPGGPGGAGGAGGFPGGA</td><td>CCAAGCTTTGGTCCTGGTGGTCCTGGCGGTGCTGGAGGTGCTGGAGGCTTCCCTGGCGGTGCG</td><td>pd_pg</td><td>0</td><td>2</td><td>4</td><td>11</td><td>0</td><td>Verified</td><td>SIS1</td><td>Type II HSP40 co-chaperone that interacts with the HSP70 protein Ssa1p</td><td>endo_stall</td></tr>\n",
       "\t<tr><td>YNL208W</td><td>17</td><td>134</td><td>GGFGGPGGPGGQGFGRQGPQG</td><td>GGTGGATTTGGCGGTCCAGGCGGCCCTGGCGGTCAAGGTTTCGGAAGACAAGGCCCACAAGGA</td><td>pd_pg</td><td>1</td><td>2</td><td>3</td><td>12</td><td>0</td><td>Verified</td><td>NA  </td><td>Protein of unknown function                                           </td><td>endo_stall</td></tr>\n",
       "\t<tr><td>YNL208W</td><td>17</td><td>148</td><td>GRQGPQGFGGPGPQEFGGPGG</td><td>GGAAGACAAGGCCCACAAGGATTTGGAGGTCCTGGTCCACAAGAGTTTGGTGGTCCAGGTGGC</td><td>pd_pg</td><td>1</td><td>2</td><td>4</td><td>10</td><td>0</td><td>Verified</td><td>NA  </td><td>Protein of unknown function                                           </td><td>endo_stall</td></tr>\n",
       "\t<tr><td>YOR273C</td><td>17</td><td> 75</td><td>EPIDPRDLDWDGPDDPDNPHN</td><td>GAGCCAATTGACCCAAGAGATCTCGATTGGGACGGGCCCGATGACCCAGACAATCCGCATAAT</td><td>pd_pg</td><td>1</td><td>3</td><td>5</td><td> 1</td><td>7</td><td>Verified</td><td>TPO4</td><td>Polyamine transporter of the major facilitator superfamily            </td><td>endo_stall</td></tr>\n",
       "</tbody>\n",
       "</table>\n"
      ],
      "text/latex": [
       "A tibble: 66 × 15\n",
       "\\begin{tabular}{lllllllllllllll}\n",
       " id & strength & loc & motif & nt63 & type & positive & bulky & p & g & d & orf\\_classification & gene & display & class\\\\\n",
       " <chr> & <dbl> & <dbl> & <chr> & <chr> & <chr> & <int> & <int> & <int> & <int> & <int> & <chr> & <chr> & <chr> & <chr>\\\\\n",
       "\\hline\n",
       "\t YAR047C & 19.5 &  66 & KRFLYRQIMIALKIKAKKFWF & AAGCGTTTCCTGTATAGGCAGATAATGATTGCATTGAAAATAAAAGCCAAAAAATTTTGGTTC & posbulky & 7 & 10 & 0 & 0 & 0 & Dubious  & NA     & Dubious open reading frame                  & endo\\_stall\\\\\n",
       "\t YBL027W & 19.5 &  94 & TREARLPSQVVWIRRLRVLRR & ACTAGAGAAGCTCGTTTACCATCCCAAGTCGTCTGGATCAGAAGATTACGTGTCTTGAGAAGA & posbulky & 7 &  8 & 1 & 0 & 0 & Verified & RPL19B & Ribosomal 60S subunit protein L19B          & endo\\_stall\\\\\n",
       "\t YBR129C & 12.0 & 232 & LYTKVKKKKLFNRAKWQKFNV & CTTTACACAAAAGTGAAAAAGAAGAAACTGTTCAATAGGGCTAAATGGCAAAAGTTCAATGTG & FK       & 8 &  8 & 0 & 0 & 0 & Verified & OPY1   & Protein of unknown function                 & endo\\_stall\\\\\n",
       "\t YCL054W & 10.0 & 318 & KVLGKKDFKMILRWRKIAREI & AAAGTCTTGGGTAAAAAGGATTTTAAAATGATCCTAAGATGGAGAAAGATTGCAAGGGAAATC & FK       & 8 &  8 & 0 & 1 & 1 & Verified & SPB1   & AdoMet-dependent methyltransferase          & endo\\_stall\\\\\n",
       "\t YDL030W & 20.5 &  57 & KLPRSSLIAENKIYKFKKVKR & AAACTGCCTAGATCATCGTTGATTGCAGAGAATAAAATATACAAGTTTAAAAAGGTTAAGAGG & posbulky & 8 &  7 & 1 & 0 & 0 & Verified & PRP9   & Subunit of the SF3a splicing factor complex & endo\\_stall\\\\\n",
       "\t ⋮ & ⋮ & ⋮ & ⋮ & ⋮ & ⋮ & ⋮ & ⋮ & ⋮ & ⋮ & ⋮ & ⋮ & ⋮ & ⋮ & ⋮\\\\\n",
       "\t YMR214W & 18 & 103 & KNGGGGGGPGGPGAGGFHDPF & AAGAATGGCGGTGGCGGTGGCGGTCCAGGAGGCCCTGGCGCAGGTGGATTCCACGATCCGTTT & pd\\_pg & 1 & 2 & 3 & 11 & 1 & Verified & SCJ1 & One of several homologs of bacterial chaperone DnaJ                    & endo\\_stall\\\\\n",
       "\t YNL007C & 18 &  87 & PSFGPGGPGGAGGAGGFPGGA & CCAAGCTTTGGTCCTGGTGGTCCTGGCGGTGCTGGAGGTGCTGGAGGCTTCCCTGGCGGTGCG & pd\\_pg & 0 & 2 & 4 & 11 & 0 & Verified & SIS1 & Type II HSP40 co-chaperone that interacts with the HSP70 protein Ssa1p & endo\\_stall\\\\\n",
       "\t YNL208W & 17 & 134 & GGFGGPGGPGGQGFGRQGPQG & GGTGGATTTGGCGGTCCAGGCGGCCCTGGCGGTCAAGGTTTCGGAAGACAAGGCCCACAAGGA & pd\\_pg & 1 & 2 & 3 & 12 & 0 & Verified & NA   & Protein of unknown function                                            & endo\\_stall\\\\\n",
       "\t YNL208W & 17 & 148 & GRQGPQGFGGPGPQEFGGPGG & GGAAGACAAGGCCCACAAGGATTTGGAGGTCCTGGTCCACAAGAGTTTGGTGGTCCAGGTGGC & pd\\_pg & 1 & 2 & 4 & 10 & 0 & Verified & NA   & Protein of unknown function                                            & endo\\_stall\\\\\n",
       "\t YOR273C & 17 &  75 & EPIDPRDLDWDGPDDPDNPHN & GAGCCAATTGACCCAAGAGATCTCGATTGGGACGGGCCCGATGACCCAGACAATCCGCATAAT & pd\\_pg & 1 & 3 & 5 &  1 & 7 & Verified & TPO4 & Polyamine transporter of the major facilitator superfamily             & endo\\_stall\\\\\n",
       "\\end{tabular}\n"
      ],
      "text/markdown": [
       "\n",
       "A tibble: 66 × 15\n",
       "\n",
       "| id &lt;chr&gt; | strength &lt;dbl&gt; | loc &lt;dbl&gt; | motif &lt;chr&gt; | nt63 &lt;chr&gt; | type &lt;chr&gt; | positive &lt;int&gt; | bulky &lt;int&gt; | p &lt;int&gt; | g &lt;int&gt; | d &lt;int&gt; | orf_classification &lt;chr&gt; | gene &lt;chr&gt; | display &lt;chr&gt; | class &lt;chr&gt; |\n",
       "|---|---|---|---|---|---|---|---|---|---|---|---|---|---|---|\n",
       "| YAR047C | 19.5 |  66 | KRFLYRQIMIALKIKAKKFWF | AAGCGTTTCCTGTATAGGCAGATAATGATTGCATTGAAAATAAAAGCCAAAAAATTTTGGTTC | posbulky | 7 | 10 | 0 | 0 | 0 | Dubious  | NA     | Dubious open reading frame                  | endo_stall |\n",
       "| YBL027W | 19.5 |  94 | TREARLPSQVVWIRRLRVLRR | ACTAGAGAAGCTCGTTTACCATCCCAAGTCGTCTGGATCAGAAGATTACGTGTCTTGAGAAGA | posbulky | 7 |  8 | 1 | 0 | 0 | Verified | RPL19B | Ribosomal 60S subunit protein L19B          | endo_stall |\n",
       "| YBR129C | 12.0 | 232 | LYTKVKKKKLFNRAKWQKFNV | CTTTACACAAAAGTGAAAAAGAAGAAACTGTTCAATAGGGCTAAATGGCAAAAGTTCAATGTG | FK       | 8 |  8 | 0 | 0 | 0 | Verified | OPY1   | Protein of unknown function                 | endo_stall |\n",
       "| YCL054W | 10.0 | 318 | KVLGKKDFKMILRWRKIAREI | AAAGTCTTGGGTAAAAAGGATTTTAAAATGATCCTAAGATGGAGAAAGATTGCAAGGGAAATC | FK       | 8 |  8 | 0 | 1 | 1 | Verified | SPB1   | AdoMet-dependent methyltransferase          | endo_stall |\n",
       "| YDL030W | 20.5 |  57 | KLPRSSLIAENKIYKFKKVKR | AAACTGCCTAGATCATCGTTGATTGCAGAGAATAAAATATACAAGTTTAAAAAGGTTAAGAGG | posbulky | 8 |  7 | 1 | 0 | 0 | Verified | PRP9   | Subunit of the SF3a splicing factor complex | endo_stall |\n",
       "| ⋮ | ⋮ | ⋮ | ⋮ | ⋮ | ⋮ | ⋮ | ⋮ | ⋮ | ⋮ | ⋮ | ⋮ | ⋮ | ⋮ | ⋮ |\n",
       "| YMR214W | 18 | 103 | KNGGGGGGPGGPGAGGFHDPF | AAGAATGGCGGTGGCGGTGGCGGTCCAGGAGGCCCTGGCGCAGGTGGATTCCACGATCCGTTT | pd_pg | 1 | 2 | 3 | 11 | 1 | Verified | SCJ1 | One of several homologs of bacterial chaperone DnaJ                    | endo_stall |\n",
       "| YNL007C | 18 |  87 | PSFGPGGPGGAGGAGGFPGGA | CCAAGCTTTGGTCCTGGTGGTCCTGGCGGTGCTGGAGGTGCTGGAGGCTTCCCTGGCGGTGCG | pd_pg | 0 | 2 | 4 | 11 | 0 | Verified | SIS1 | Type II HSP40 co-chaperone that interacts with the HSP70 protein Ssa1p | endo_stall |\n",
       "| YNL208W | 17 | 134 | GGFGGPGGPGGQGFGRQGPQG | GGTGGATTTGGCGGTCCAGGCGGCCCTGGCGGTCAAGGTTTCGGAAGACAAGGCCCACAAGGA | pd_pg | 1 | 2 | 3 | 12 | 0 | Verified | NA   | Protein of unknown function                                            | endo_stall |\n",
       "| YNL208W | 17 | 148 | GRQGPQGFGGPGPQEFGGPGG | GGAAGACAAGGCCCACAAGGATTTGGAGGTCCTGGTCCACAAGAGTTTGGTGGTCCAGGTGGC | pd_pg | 1 | 2 | 4 | 10 | 0 | Verified | NA   | Protein of unknown function                                            | endo_stall |\n",
       "| YOR273C | 17 |  75 | EPIDPRDLDWDGPDDPDNPHN | GAGCCAATTGACCCAAGAGATCTCGATTGGGACGGGCCCGATGACCCAGACAATCCGCATAAT | pd_pg | 1 | 3 | 5 |  1 | 7 | Verified | TPO4 | Polyamine transporter of the major facilitator superfamily             | endo_stall |\n",
       "\n"
      ],
      "text/plain": [
       "   id      strength loc motif                \n",
       "1  YAR047C 19.5      66 KRFLYRQIMIALKIKAKKFWF\n",
       "2  YBL027W 19.5      94 TREARLPSQVVWIRRLRVLRR\n",
       "3  YBR129C 12.0     232 LYTKVKKKKLFNRAKWQKFNV\n",
       "4  YCL054W 10.0     318 KVLGKKDFKMILRWRKIAREI\n",
       "5  YDL030W 20.5      57 KLPRSSLIAENKIYKFKKVKR\n",
       "⋮  ⋮       ⋮        ⋮   ⋮                    \n",
       "62 YMR214W 18       103 KNGGGGGGPGGPGAGGFHDPF\n",
       "63 YNL007C 18        87 PSFGPGGPGGAGGAGGFPGGA\n",
       "64 YNL208W 17       134 GGFGGPGGPGGQGFGRQGPQG\n",
       "65 YNL208W 17       148 GRQGPQGFGGPGPQEFGGPGG\n",
       "66 YOR273C 17        75 EPIDPRDLDWDGPDDPDNPHN\n",
       "   nt63                                                            type    \n",
       "1  AAGCGTTTCCTGTATAGGCAGATAATGATTGCATTGAAAATAAAAGCCAAAAAATTTTGGTTC posbulky\n",
       "2  ACTAGAGAAGCTCGTTTACCATCCCAAGTCGTCTGGATCAGAAGATTACGTGTCTTGAGAAGA posbulky\n",
       "3  CTTTACACAAAAGTGAAAAAGAAGAAACTGTTCAATAGGGCTAAATGGCAAAAGTTCAATGTG FK      \n",
       "4  AAAGTCTTGGGTAAAAAGGATTTTAAAATGATCCTAAGATGGAGAAAGATTGCAAGGGAAATC FK      \n",
       "5  AAACTGCCTAGATCATCGTTGATTGCAGAGAATAAAATATACAAGTTTAAAAAGGTTAAGAGG posbulky\n",
       "⋮  ⋮                                                               ⋮       \n",
       "62 AAGAATGGCGGTGGCGGTGGCGGTCCAGGAGGCCCTGGCGCAGGTGGATTCCACGATCCGTTT pd_pg   \n",
       "63 CCAAGCTTTGGTCCTGGTGGTCCTGGCGGTGCTGGAGGTGCTGGAGGCTTCCCTGGCGGTGCG pd_pg   \n",
       "64 GGTGGATTTGGCGGTCCAGGCGGCCCTGGCGGTCAAGGTTTCGGAAGACAAGGCCCACAAGGA pd_pg   \n",
       "65 GGAAGACAAGGCCCACAAGGATTTGGAGGTCCTGGTCCACAAGAGTTTGGTGGTCCAGGTGGC pd_pg   \n",
       "66 GAGCCAATTGACCCAAGAGATCTCGATTGGGACGGGCCCGATGACCCAGACAATCCGCATAAT pd_pg   \n",
       "   positive bulky p g  d orf_classification gene  \n",
       "1  7        10    0 0  0 Dubious            NA    \n",
       "2  7         8    1 0  0 Verified           RPL19B\n",
       "3  8         8    0 0  0 Verified           OPY1  \n",
       "4  8         8    0 1  1 Verified           SPB1  \n",
       "5  8         7    1 0  0 Verified           PRP9  \n",
       "⋮  ⋮        ⋮     ⋮ ⋮  ⋮ ⋮                  ⋮     \n",
       "62 1        2     3 11 1 Verified           SCJ1  \n",
       "63 0        2     4 11 0 Verified           SIS1  \n",
       "64 1        2     3 12 0 Verified           NA    \n",
       "65 1        2     4 10 0 Verified           NA    \n",
       "66 1        3     5  1 7 Verified           TPO4  \n",
       "   display                                                               \n",
       "1  Dubious open reading frame                                            \n",
       "2  Ribosomal 60S subunit protein L19B                                    \n",
       "3  Protein of unknown function                                           \n",
       "4  AdoMet-dependent methyltransferase                                    \n",
       "5  Subunit of the SF3a splicing factor complex                           \n",
       "⋮  ⋮                                                                     \n",
       "62 One of several homologs of bacterial chaperone DnaJ                   \n",
       "63 Type II HSP40 co-chaperone that interacts with the HSP70 protein Ssa1p\n",
       "64 Protein of unknown function                                           \n",
       "65 Protein of unknown function                                           \n",
       "66 Polyamine transporter of the major facilitator superfamily            \n",
       "   class     \n",
       "1  endo_stall\n",
       "2  endo_stall\n",
       "3  endo_stall\n",
       "4  endo_stall\n",
       "5  endo_stall\n",
       "⋮  ⋮         \n",
       "62 endo_stall\n",
       "63 endo_stall\n",
       "64 endo_stall\n",
       "65 endo_stall\n",
       "66 endo_stall"
      ]
     },
     "metadata": {},
     "output_type": "display_data"
    }
   ],
   "source": [
    "subset_motifs <- bind_rows(subset_motifs_to_sdd1, pd_pg_subset)\n",
    "subset_motifs"
   ]
  },
  {
   "cell_type": "markdown",
   "metadata": {},
   "source": [
    "### Pull out the control genes\n",
    "- For genes where a stalling motif was identified, a control motif was pulled from the argmin location"
   ]
  },
  {
   "cell_type": "code",
   "execution_count": 52,
   "metadata": {
    "vscode": {
     "languageId": "r"
    }
   },
   "outputs": [],
   "source": [
    "posbulky_genes <- subset_motifs %>%\n",
    "    filter(type == 'posbulky') %>%\n",
    "    dplyr::pull(id)\n",
    "\n",
    "fk_genes <- subset_motifs %>%\n",
    "    filter(type == 'FK') %>%\n",
    "    dplyr::pull(id)\n",
    "\n",
    "pdg_genes <- subset_motifs %>%\n",
    "    filter(type == 'pd_pg') %>%\n",
    "    dplyr::pull(id)"
   ]
  },
  {
   "cell_type": "code",
   "execution_count": 53,
   "metadata": {
    "vscode": {
     "languageId": "r"
    }
   },
   "outputs": [],
   "source": [
    "posbulky_min_cntrl <- motifs %>%\n",
    "    filter(id %in% posbulky_genes) %>%\n",
    "    group_by(id) %>%\n",
    "    summarize(strength = min(strength), .groups='drop') %>%\n",
    "    left_join(motifs, by=c('id', 'strength')) %>%\n",
    "    filter(type == 'posbulky') %>%\n",
    "    mutate(type='posbulky_no_stall_cntrl')\n",
    "\n",
    "fk_min_cntrl <- motifs %>%\n",
    "    filter(id %in% fk_genes) %>%\n",
    "    group_by(id) %>%\n",
    "    summarize(strength = min(strength), .groups='drop') %>%\n",
    "    left_join(motifs, by=c('id', 'strength')) %>%\n",
    "    filter(type == 'FK') %>%\n",
    "    mutate(type='FK_no_stall_cntrl')\n",
    "\n",
    "pdg_min_cntrl <- motifs %>%\n",
    "    filter(id %in% pdg_genes) %>%\n",
    "    group_by(id) %>%\n",
    "    summarize(strength = min(strength), .groups='drop') %>%\n",
    "    left_join(motifs, by=c('id', 'strength')) %>%\n",
    "    filter(type == 'pd_pg') %>%\n",
    "    mutate(type='pdg_no_stall_cntrl')\n",
    "\n",
    "min_control_genes <- bind_rows(posbulky_min_cntrl, fk_min_cntrl, pdg_min_cntrl) %>%\n",
    "    left_join(annotations, by='id') %>%\n",
    "    mutate(class='endo_nostall')"
   ]
  },
  {
   "cell_type": "code",
   "execution_count": 54,
   "metadata": {
    "vscode": {
     "languageId": "r"
    }
   },
   "outputs": [
    {
     "data": {
      "text/html": [
       "<table class=\"dataframe\">\n",
       "<caption>A tibble: 6 × 15</caption>\n",
       "<thead>\n",
       "\t<tr><th scope=col>id</th><th scope=col>strength</th><th scope=col>loc</th><th scope=col>motif</th><th scope=col>nt63</th><th scope=col>type</th><th scope=col>positive</th><th scope=col>bulky</th><th scope=col>p</th><th scope=col>g</th><th scope=col>d</th><th scope=col>orf_classification</th><th scope=col>gene</th><th scope=col>display</th><th scope=col>class</th></tr>\n",
       "\t<tr><th scope=col>&lt;chr&gt;</th><th scope=col>&lt;dbl&gt;</th><th scope=col>&lt;dbl&gt;</th><th scope=col>&lt;chr&gt;</th><th scope=col>&lt;chr&gt;</th><th scope=col>&lt;chr&gt;</th><th scope=col>&lt;int&gt;</th><th scope=col>&lt;int&gt;</th><th scope=col>&lt;int&gt;</th><th scope=col>&lt;int&gt;</th><th scope=col>&lt;int&gt;</th><th scope=col>&lt;chr&gt;</th><th scope=col>&lt;chr&gt;</th><th scope=col>&lt;chr&gt;</th><th scope=col>&lt;chr&gt;</th></tr>\n",
       "</thead>\n",
       "<tbody>\n",
       "\t<tr><td>YER103W</td><td>0</td><td>122</td><td>FTPEEISSMILTKMKETAENF</td><td>TTTACTCCAGAAGAAATTTCCTCAATGATCTTGACAAAGATGAAGGAGACTGCTGAGAACTTT</td><td>pdg_no_stall_cntrl</td><td>2</td><td> 5</td><td>1</td><td>0</td><td>0</td><td>Verified       </td><td>SSA4</td><td>Heat shock protein that is highly induced upon stress        </td><td>endo_nostall</td></tr>\n",
       "\t<tr><td>YFR006W</td><td>0</td><td>267</td><td>ALPIELNELQIQAEFEYHATR</td><td>GCGTTGCCCATCGAACTGAACGAGTTACAAATACAAGCTGAATTTGAATACCATGCAACCCGT</td><td>pdg_no_stall_cntrl</td><td>1</td><td> 7</td><td>1</td><td>0</td><td>0</td><td>Uncharacterized</td><td>NA  </td><td>Putative X-Pro aminopeptidase                                </td><td>endo_nostall</td></tr>\n",
       "\t<tr><td>YHR034C</td><td>0</td><td>136</td><td>CDDIQLREILVEWCLESCEIR</td><td>TGCGATGATATCCAACTGCGAGAGATACTGGTCGAATGGTGCTTGGAGTCATGTGAGATCCGA</td><td>pdg_no_stall_cntrl</td><td>2</td><td> 8</td><td>0</td><td>0</td><td>2</td><td>Verified       </td><td>PIH1</td><td>Component of the conserved R2TP complex (Rvb1-Rvb2-Tah1-Pih1)</td><td>endo_nostall</td></tr>\n",
       "\t<tr><td>YLR338W</td><td>0</td><td>270</td><td>IYGRLLQQTVVRFLVVCFVSY</td><td>ATATATGGTAGGCTTCTTCAACAAACGGTTGTGCGCTTTTTAGTCGTATGCTTTGTCTCATAT</td><td>pdg_no_stall_cntrl</td><td>2</td><td>13</td><td>0</td><td>1</td><td>0</td><td>Dubious        </td><td>OPI9</td><td>Dubious open reading frame                                   </td><td>endo_nostall</td></tr>\n",
       "\t<tr><td>YMR214W</td><td>0</td><td> 41</td><td>DKDATEKEIKSAYRQLSKKYH</td><td>GACAAAGATGCCACTGAGAAGGAAATCAAATCAGCGTACAGACAATTGTCTAAGAAGTACCAT</td><td>pdg_no_stall_cntrl</td><td>6</td><td> 4</td><td>0</td><td>0</td><td>2</td><td>Verified       </td><td>SCJ1</td><td>One of several homologs of bacterial chaperone DnaJ          </td><td>endo_nostall</td></tr>\n",
       "\t<tr><td>YOR273C</td><td>0</td><td> 91</td><td>DNPHNWSSLKKWYTTMTSAFL</td><td>GACAATCCGCATAATTGGTCCTCTTTGAAGAAATGGTATACTACTATGACTTCAGCTTTTCTT</td><td>pdg_no_stall_cntrl</td><td>2</td><td> 6</td><td>1</td><td>0</td><td>1</td><td>Verified       </td><td>TPO4</td><td>Polyamine transporter of the major facilitator superfamily   </td><td>endo_nostall</td></tr>\n",
       "</tbody>\n",
       "</table>\n"
      ],
      "text/latex": [
       "A tibble: 6 × 15\n",
       "\\begin{tabular}{lllllllllllllll}\n",
       " id & strength & loc & motif & nt63 & type & positive & bulky & p & g & d & orf\\_classification & gene & display & class\\\\\n",
       " <chr> & <dbl> & <dbl> & <chr> & <chr> & <chr> & <int> & <int> & <int> & <int> & <int> & <chr> & <chr> & <chr> & <chr>\\\\\n",
       "\\hline\n",
       "\t YER103W & 0 & 122 & FTPEEISSMILTKMKETAENF & TTTACTCCAGAAGAAATTTCCTCAATGATCTTGACAAAGATGAAGGAGACTGCTGAGAACTTT & pdg\\_no\\_stall\\_cntrl & 2 &  5 & 1 & 0 & 0 & Verified        & SSA4 & Heat shock protein that is highly induced upon stress         & endo\\_nostall\\\\\n",
       "\t YFR006W & 0 & 267 & ALPIELNELQIQAEFEYHATR & GCGTTGCCCATCGAACTGAACGAGTTACAAATACAAGCTGAATTTGAATACCATGCAACCCGT & pdg\\_no\\_stall\\_cntrl & 1 &  7 & 1 & 0 & 0 & Uncharacterized & NA   & Putative X-Pro aminopeptidase                                 & endo\\_nostall\\\\\n",
       "\t YHR034C & 0 & 136 & CDDIQLREILVEWCLESCEIR & TGCGATGATATCCAACTGCGAGAGATACTGGTCGAATGGTGCTTGGAGTCATGTGAGATCCGA & pdg\\_no\\_stall\\_cntrl & 2 &  8 & 0 & 0 & 2 & Verified        & PIH1 & Component of the conserved R2TP complex (Rvb1-Rvb2-Tah1-Pih1) & endo\\_nostall\\\\\n",
       "\t YLR338W & 0 & 270 & IYGRLLQQTVVRFLVVCFVSY & ATATATGGTAGGCTTCTTCAACAAACGGTTGTGCGCTTTTTAGTCGTATGCTTTGTCTCATAT & pdg\\_no\\_stall\\_cntrl & 2 & 13 & 0 & 1 & 0 & Dubious         & OPI9 & Dubious open reading frame                                    & endo\\_nostall\\\\\n",
       "\t YMR214W & 0 &  41 & DKDATEKEIKSAYRQLSKKYH & GACAAAGATGCCACTGAGAAGGAAATCAAATCAGCGTACAGACAATTGTCTAAGAAGTACCAT & pdg\\_no\\_stall\\_cntrl & 6 &  4 & 0 & 0 & 2 & Verified        & SCJ1 & One of several homologs of bacterial chaperone DnaJ           & endo\\_nostall\\\\\n",
       "\t YOR273C & 0 &  91 & DNPHNWSSLKKWYTTMTSAFL & GACAATCCGCATAATTGGTCCTCTTTGAAGAAATGGTATACTACTATGACTTCAGCTTTTCTT & pdg\\_no\\_stall\\_cntrl & 2 &  6 & 1 & 0 & 1 & Verified        & TPO4 & Polyamine transporter of the major facilitator superfamily    & endo\\_nostall\\\\\n",
       "\\end{tabular}\n"
      ],
      "text/markdown": [
       "\n",
       "A tibble: 6 × 15\n",
       "\n",
       "| id &lt;chr&gt; | strength &lt;dbl&gt; | loc &lt;dbl&gt; | motif &lt;chr&gt; | nt63 &lt;chr&gt; | type &lt;chr&gt; | positive &lt;int&gt; | bulky &lt;int&gt; | p &lt;int&gt; | g &lt;int&gt; | d &lt;int&gt; | orf_classification &lt;chr&gt; | gene &lt;chr&gt; | display &lt;chr&gt; | class &lt;chr&gt; |\n",
       "|---|---|---|---|---|---|---|---|---|---|---|---|---|---|---|\n",
       "| YER103W | 0 | 122 | FTPEEISSMILTKMKETAENF | TTTACTCCAGAAGAAATTTCCTCAATGATCTTGACAAAGATGAAGGAGACTGCTGAGAACTTT | pdg_no_stall_cntrl | 2 |  5 | 1 | 0 | 0 | Verified        | SSA4 | Heat shock protein that is highly induced upon stress         | endo_nostall |\n",
       "| YFR006W | 0 | 267 | ALPIELNELQIQAEFEYHATR | GCGTTGCCCATCGAACTGAACGAGTTACAAATACAAGCTGAATTTGAATACCATGCAACCCGT | pdg_no_stall_cntrl | 1 |  7 | 1 | 0 | 0 | Uncharacterized | NA   | Putative X-Pro aminopeptidase                                 | endo_nostall |\n",
       "| YHR034C | 0 | 136 | CDDIQLREILVEWCLESCEIR | TGCGATGATATCCAACTGCGAGAGATACTGGTCGAATGGTGCTTGGAGTCATGTGAGATCCGA | pdg_no_stall_cntrl | 2 |  8 | 0 | 0 | 2 | Verified        | PIH1 | Component of the conserved R2TP complex (Rvb1-Rvb2-Tah1-Pih1) | endo_nostall |\n",
       "| YLR338W | 0 | 270 | IYGRLLQQTVVRFLVVCFVSY | ATATATGGTAGGCTTCTTCAACAAACGGTTGTGCGCTTTTTAGTCGTATGCTTTGTCTCATAT | pdg_no_stall_cntrl | 2 | 13 | 0 | 1 | 0 | Dubious         | OPI9 | Dubious open reading frame                                    | endo_nostall |\n",
       "| YMR214W | 0 |  41 | DKDATEKEIKSAYRQLSKKYH | GACAAAGATGCCACTGAGAAGGAAATCAAATCAGCGTACAGACAATTGTCTAAGAAGTACCAT | pdg_no_stall_cntrl | 6 |  4 | 0 | 0 | 2 | Verified        | SCJ1 | One of several homologs of bacterial chaperone DnaJ           | endo_nostall |\n",
       "| YOR273C | 0 |  91 | DNPHNWSSLKKWYTTMTSAFL | GACAATCCGCATAATTGGTCCTCTTTGAAGAAATGGTATACTACTATGACTTCAGCTTTTCTT | pdg_no_stall_cntrl | 2 |  6 | 1 | 0 | 1 | Verified        | TPO4 | Polyamine transporter of the major facilitator superfamily    | endo_nostall |\n",
       "\n"
      ],
      "text/plain": [
       "  id      strength loc motif                \n",
       "1 YER103W 0        122 FTPEEISSMILTKMKETAENF\n",
       "2 YFR006W 0        267 ALPIELNELQIQAEFEYHATR\n",
       "3 YHR034C 0        136 CDDIQLREILVEWCLESCEIR\n",
       "4 YLR338W 0        270 IYGRLLQQTVVRFLVVCFVSY\n",
       "5 YMR214W 0         41 DKDATEKEIKSAYRQLSKKYH\n",
       "6 YOR273C 0         91 DNPHNWSSLKKWYTTMTSAFL\n",
       "  nt63                                                           \n",
       "1 TTTACTCCAGAAGAAATTTCCTCAATGATCTTGACAAAGATGAAGGAGACTGCTGAGAACTTT\n",
       "2 GCGTTGCCCATCGAACTGAACGAGTTACAAATACAAGCTGAATTTGAATACCATGCAACCCGT\n",
       "3 TGCGATGATATCCAACTGCGAGAGATACTGGTCGAATGGTGCTTGGAGTCATGTGAGATCCGA\n",
       "4 ATATATGGTAGGCTTCTTCAACAAACGGTTGTGCGCTTTTTAGTCGTATGCTTTGTCTCATAT\n",
       "5 GACAAAGATGCCACTGAGAAGGAAATCAAATCAGCGTACAGACAATTGTCTAAGAAGTACCAT\n",
       "6 GACAATCCGCATAATTGGTCCTCTTTGAAGAAATGGTATACTACTATGACTTCAGCTTTTCTT\n",
       "  type               positive bulky p g d orf_classification gene\n",
       "1 pdg_no_stall_cntrl 2         5    1 0 0 Verified           SSA4\n",
       "2 pdg_no_stall_cntrl 1         7    1 0 0 Uncharacterized    NA  \n",
       "3 pdg_no_stall_cntrl 2         8    0 0 2 Verified           PIH1\n",
       "4 pdg_no_stall_cntrl 2        13    0 1 0 Dubious            OPI9\n",
       "5 pdg_no_stall_cntrl 6         4    0 0 2 Verified           SCJ1\n",
       "6 pdg_no_stall_cntrl 2         6    1 0 1 Verified           TPO4\n",
       "  display                                                       class       \n",
       "1 Heat shock protein that is highly induced upon stress         endo_nostall\n",
       "2 Putative X-Pro aminopeptidase                                 endo_nostall\n",
       "3 Component of the conserved R2TP complex (Rvb1-Rvb2-Tah1-Pih1) endo_nostall\n",
       "4 Dubious open reading frame                                    endo_nostall\n",
       "5 One of several homologs of bacterial chaperone DnaJ           endo_nostall\n",
       "6 Polyamine transporter of the major facilitator superfamily    endo_nostall"
      ]
     },
     "metadata": {},
     "output_type": "display_data"
    }
   ],
   "source": [
    "subset_motifs_cntrls <- bind_rows(subset_motifs, min_control_genes)\n",
    "tail(subset_motifs_cntrls)"
   ]
  },
  {
   "cell_type": "markdown",
   "metadata": {},
   "source": [
    "## Generate alanine controls for endogenous motifs\n",
    "- Replace all bulky residues with alanine \n",
    "- Use the most common Ala codon (GCA)"
   ]
  },
  {
   "cell_type": "markdown",
   "metadata": {},
   "source": [
    "### Replace all bulky residues with GCA alanine"
   ]
  },
  {
   "cell_type": "code",
   "execution_count": 55,
   "metadata": {
    "vscode": {
     "languageId": "r"
    }
   },
   "outputs": [
    {
     "name": "stderr",
     "output_type": "stream",
     "text": [
      "Warning message:\n",
      "“Expected 21 pieces. Additional pieces discarded in 66 rows [1, 2, 3, 4, 5, 6, 7, 8, 9, 10, 11, 12, 13, 14, 15, 16, 17, 18, 19, 20, ...].”\n"
     ]
    }
   ],
   "source": [
    "subset_motifs_cntrls_ala <- subset_motifs_cntrls %>%\n",
    "  filter(class == 'endo_stall') %>%\n",
    "  select(motif, nt63, id, gene, type) %>%\n",
    "  mutate(nt63_1 = gsub(\"(.{3})\", \"\\\\1 \", nt63)) %>%\n",
    "  separate(nt63_1, c(as.character(seq(1,21,1))), \" \") %>%\n",
    "  mutate(across(6:26, ~str_replace(., \"TGG|TTT|TTC|TAT|TAC|TTA|TTG|CTT|CTC|CTA|CTG|GTT|GTC|GTA|GTG|ATC|ATA|ATT\", 'GCA'))) %>%\n",
    "  unite(ala_nt63, as.character(seq(1,21,1)), sep='') %>%\n",
    "  mutate(orf_classification = 'ala_control') %>%\n",
    "  mutate(class ='endo_ala_cntrl') %>%\n",
    "  mutate(ala_motif = as.character(translate(DNAStringSet(ala_nt63), no.init.codon = T))) %>%\n",
    "  select(ala_motif, ala_nt63, type, id, gene, orf_classification, class) %>%\n",
    "  dplyr::rename(motif=ala_motif, nt63=ala_nt63) %>%\n",
    "  mutate(positive = str_count(motif, 'K|R')) %>%\n",
    "  mutate(bulky = str_count(motif, 'W|F|Y|L|I|V')) %>%\n",
    "  mutate(p = str_count(motif, 'P'), g = str_count(motif, 'G'), d = str_count(motif, 'D')) %>%\n",
    "  bind_rows(select(subset_motifs_cntrls, -display))"
   ]
  },
  {
   "cell_type": "markdown",
   "metadata": {},
   "source": [
    "### Endogenous motifs summary\n",
    "\n",
    "- Each gene should have up to 2-3 motifs total\n",
    "  - the stall motif of interest\n",
    "  - stall motif with all bulky residues replaced with GCA\n",
    "  - a nostall motif control\n",
    "- Some genes may not have had a nostall control if the motif was too close to the ends, these genes would be have 2 motifs"
   ]
  },
  {
   "cell_type": "code",
   "execution_count": 56,
   "metadata": {
    "vscode": {
     "languageId": "r"
    }
   },
   "outputs": [
    {
     "data": {
      "text/html": [
       "<table class=\"dataframe\">\n",
       "<caption>A tibble: 6 × 2</caption>\n",
       "<thead>\n",
       "\t<tr><th scope=col>id</th><th scope=col>n_motifs</th></tr>\n",
       "\t<tr><th scope=col>&lt;chr&gt;</th><th scope=col>&lt;int&gt;</th></tr>\n",
       "</thead>\n",
       "<tbody>\n",
       "\t<tr><td>YAR047C</td><td>2</td></tr>\n",
       "\t<tr><td>YBL027W</td><td>2</td></tr>\n",
       "\t<tr><td>YBR101C</td><td>2</td></tr>\n",
       "\t<tr><td>YBR129C</td><td>2</td></tr>\n",
       "\t<tr><td>YDL030W</td><td>2</td></tr>\n",
       "\t<tr><td>YDL056W</td><td>2</td></tr>\n",
       "</tbody>\n",
       "</table>\n"
      ],
      "text/latex": [
       "A tibble: 6 × 2\n",
       "\\begin{tabular}{ll}\n",
       " id & n\\_motifs\\\\\n",
       " <chr> & <int>\\\\\n",
       "\\hline\n",
       "\t YAR047C & 2\\\\\n",
       "\t YBL027W & 2\\\\\n",
       "\t YBR101C & 2\\\\\n",
       "\t YBR129C & 2\\\\\n",
       "\t YDL030W & 2\\\\\n",
       "\t YDL056W & 2\\\\\n",
       "\\end{tabular}\n"
      ],
      "text/markdown": [
       "\n",
       "A tibble: 6 × 2\n",
       "\n",
       "| id &lt;chr&gt; | n_motifs &lt;int&gt; |\n",
       "|---|---|\n",
       "| YAR047C | 2 |\n",
       "| YBL027W | 2 |\n",
       "| YBR101C | 2 |\n",
       "| YBR129C | 2 |\n",
       "| YDL030W | 2 |\n",
       "| YDL056W | 2 |\n",
       "\n"
      ],
      "text/plain": [
       "  id      n_motifs\n",
       "1 YAR047C 2       \n",
       "2 YBL027W 2       \n",
       "3 YBR101C 2       \n",
       "4 YBR129C 2       \n",
       "5 YDL030W 2       \n",
       "6 YDL056W 2       "
      ]
     },
     "metadata": {},
     "output_type": "display_data"
    }
   ],
   "source": [
    "subset_motifs_cntrls_ala %>%\n",
    "    group_by(id) %>%\n",
    "    summarize(n_motifs=dplyr::n()) %>%\n",
    "    arrange(n_motifs) %>%\n",
    "    head()\n",
    "    \n",
    "multiple_motifs_per_id <- subset_motifs_cntrls_ala %>%\n",
    "    group_by(id) %>%\n",
    "    summarize(n_motifs=dplyr::n()) %>%\n",
    "    filter(n_motifs>3) %>%\n",
    "    dplyr::pull(id)"
   ]
  },
  {
   "cell_type": "markdown",
   "metadata": {},
   "source": [
    "- 7 motifs are overlapping (all PD/PG type), keep them for now"
   ]
  },
  {
   "cell_type": "code",
   "execution_count": 57,
   "metadata": {
    "vscode": {
     "languageId": "r"
    }
   },
   "outputs": [
    {
     "data": {
      "text/html": [
       "<table class=\"dataframe\">\n",
       "<caption>A tibble: 7 × 14</caption>\n",
       "<thead>\n",
       "\t<tr><th scope=col>motif</th><th scope=col>nt63</th><th scope=col>type</th><th scope=col>id</th><th scope=col>gene</th><th scope=col>orf_classification</th><th scope=col>class</th><th scope=col>positive</th><th scope=col>bulky</th><th scope=col>p</th><th scope=col>g</th><th scope=col>d</th><th scope=col>strength</th><th scope=col>loc</th></tr>\n",
       "\t<tr><th scope=col>&lt;chr&gt;</th><th scope=col>&lt;chr&gt;</th><th scope=col>&lt;chr&gt;</th><th scope=col>&lt;chr&gt;</th><th scope=col>&lt;chr&gt;</th><th scope=col>&lt;chr&gt;</th><th scope=col>&lt;chr&gt;</th><th scope=col>&lt;int&gt;</th><th scope=col>&lt;int&gt;</th><th scope=col>&lt;int&gt;</th><th scope=col>&lt;int&gt;</th><th scope=col>&lt;int&gt;</th><th scope=col>&lt;dbl&gt;</th><th scope=col>&lt;dbl&gt;</th></tr>\n",
       "</thead>\n",
       "<tbody>\n",
       "\t<tr><td>GGSRGGYDGPRGDYGPPRDAY</td><td>GGTGGTTCAAGAGGTGGTTATGATGGTCCAAGAGGCGATTATGGTCCTCCAAGAGATGCATAC</td><td>pd_pg</td><td>YDR432W</td><td>NPL3</td><td>Verified</td><td>endo_stall</td><td>3</td><td>3</td><td>3</td><td> 7</td><td>3</td><td>13</td><td>391</td></tr>\n",
       "\t<tr><td>GYSRGGYGGPRNDYGPPRGSY</td><td>GGTTATTCCAGAGGTGGCTATGGTGGTCCAAGAAATGATTACGGTCCTCCAAGAGGTAGCTAC</td><td>pd_pg</td><td>YDR432W</td><td>NPL3</td><td>Verified</td><td>endo_stall</td><td>3</td><td>4</td><td>3</td><td> 7</td><td>1</td><td>12</td><td>370</td></tr>\n",
       "\t<tr><td>NDYGPPRGSYGGSRGGYDGPR</td><td>AATGATTACGGTCCTCCAAGAGGTAGCTACGGTGGTTCAAGAGGTGGTTATGATGGTCCAAGA</td><td>pd_pg</td><td>YDR432W</td><td>NPL3</td><td>Verified</td><td>endo_stall</td><td>3</td><td>3</td><td>3</td><td> 7</td><td>2</td><td>12</td><td>381</td></tr>\n",
       "\t<tr><td>LLPSPDLPGSDDPIAGDPDVD</td><td>CTTCTACCTTCCCCGGATCTCCCGGGTAGCGATGACCCTATTGCAGGTGATCCTGATGTAGAC</td><td>pd_pg</td><td>YDR456W</td><td>NHX1</td><td>Verified</td><td>endo_stall</td><td>0</td><td>5</td><td>5</td><td> 2</td><td>6</td><td>16</td><td> 40</td></tr>\n",
       "\t<tr><td>RAVDPDDDDELLPSPDLPGSD</td><td>AGAGCAGTTGATCCTGACGATGATGATGAACTTCTACCTTCCCCGGATCTCCCGGGTAGCGAT</td><td>pd_pg</td><td>YDR456W</td><td>NHX1</td><td>Verified</td><td>endo_stall</td><td>1</td><td>4</td><td>4</td><td> 1</td><td>7</td><td>15</td><td> 30</td></tr>\n",
       "\t<tr><td>GGFGGPGGPGGQGFGRQGPQG</td><td>GGTGGATTTGGCGGTCCAGGCGGCCCTGGCGGTCAAGGTTTCGGAAGACAAGGCCCACAAGGA</td><td>pd_pg</td><td>YNL208W</td><td>NA  </td><td>Verified</td><td>endo_stall</td><td>1</td><td>2</td><td>3</td><td>12</td><td>0</td><td>17</td><td>134</td></tr>\n",
       "\t<tr><td>GRQGPQGFGGPGPQEFGGPGG</td><td>GGAAGACAAGGCCCACAAGGATTTGGAGGTCCTGGTCCACAAGAGTTTGGTGGTCCAGGTGGC</td><td>pd_pg</td><td>YNL208W</td><td>NA  </td><td>Verified</td><td>endo_stall</td><td>1</td><td>2</td><td>4</td><td>10</td><td>0</td><td>17</td><td>148</td></tr>\n",
       "</tbody>\n",
       "</table>\n"
      ],
      "text/latex": [
       "A tibble: 7 × 14\n",
       "\\begin{tabular}{llllllllllllll}\n",
       " motif & nt63 & type & id & gene & orf\\_classification & class & positive & bulky & p & g & d & strength & loc\\\\\n",
       " <chr> & <chr> & <chr> & <chr> & <chr> & <chr> & <chr> & <int> & <int> & <int> & <int> & <int> & <dbl> & <dbl>\\\\\n",
       "\\hline\n",
       "\t GGSRGGYDGPRGDYGPPRDAY & GGTGGTTCAAGAGGTGGTTATGATGGTCCAAGAGGCGATTATGGTCCTCCAAGAGATGCATAC & pd\\_pg & YDR432W & NPL3 & Verified & endo\\_stall & 3 & 3 & 3 &  7 & 3 & 13 & 391\\\\\n",
       "\t GYSRGGYGGPRNDYGPPRGSY & GGTTATTCCAGAGGTGGCTATGGTGGTCCAAGAAATGATTACGGTCCTCCAAGAGGTAGCTAC & pd\\_pg & YDR432W & NPL3 & Verified & endo\\_stall & 3 & 4 & 3 &  7 & 1 & 12 & 370\\\\\n",
       "\t NDYGPPRGSYGGSRGGYDGPR & AATGATTACGGTCCTCCAAGAGGTAGCTACGGTGGTTCAAGAGGTGGTTATGATGGTCCAAGA & pd\\_pg & YDR432W & NPL3 & Verified & endo\\_stall & 3 & 3 & 3 &  7 & 2 & 12 & 381\\\\\n",
       "\t LLPSPDLPGSDDPIAGDPDVD & CTTCTACCTTCCCCGGATCTCCCGGGTAGCGATGACCCTATTGCAGGTGATCCTGATGTAGAC & pd\\_pg & YDR456W & NHX1 & Verified & endo\\_stall & 0 & 5 & 5 &  2 & 6 & 16 &  40\\\\\n",
       "\t RAVDPDDDDELLPSPDLPGSD & AGAGCAGTTGATCCTGACGATGATGATGAACTTCTACCTTCCCCGGATCTCCCGGGTAGCGAT & pd\\_pg & YDR456W & NHX1 & Verified & endo\\_stall & 1 & 4 & 4 &  1 & 7 & 15 &  30\\\\\n",
       "\t GGFGGPGGPGGQGFGRQGPQG & GGTGGATTTGGCGGTCCAGGCGGCCCTGGCGGTCAAGGTTTCGGAAGACAAGGCCCACAAGGA & pd\\_pg & YNL208W & NA   & Verified & endo\\_stall & 1 & 2 & 3 & 12 & 0 & 17 & 134\\\\\n",
       "\t GRQGPQGFGGPGPQEFGGPGG & GGAAGACAAGGCCCACAAGGATTTGGAGGTCCTGGTCCACAAGAGTTTGGTGGTCCAGGTGGC & pd\\_pg & YNL208W & NA   & Verified & endo\\_stall & 1 & 2 & 4 & 10 & 0 & 17 & 148\\\\\n",
       "\\end{tabular}\n"
      ],
      "text/markdown": [
       "\n",
       "A tibble: 7 × 14\n",
       "\n",
       "| motif &lt;chr&gt; | nt63 &lt;chr&gt; | type &lt;chr&gt; | id &lt;chr&gt; | gene &lt;chr&gt; | orf_classification &lt;chr&gt; | class &lt;chr&gt; | positive &lt;int&gt; | bulky &lt;int&gt; | p &lt;int&gt; | g &lt;int&gt; | d &lt;int&gt; | strength &lt;dbl&gt; | loc &lt;dbl&gt; |\n",
       "|---|---|---|---|---|---|---|---|---|---|---|---|---|---|\n",
       "| GGSRGGYDGPRGDYGPPRDAY | GGTGGTTCAAGAGGTGGTTATGATGGTCCAAGAGGCGATTATGGTCCTCCAAGAGATGCATAC | pd_pg | YDR432W | NPL3 | Verified | endo_stall | 3 | 3 | 3 |  7 | 3 | 13 | 391 |\n",
       "| GYSRGGYGGPRNDYGPPRGSY | GGTTATTCCAGAGGTGGCTATGGTGGTCCAAGAAATGATTACGGTCCTCCAAGAGGTAGCTAC | pd_pg | YDR432W | NPL3 | Verified | endo_stall | 3 | 4 | 3 |  7 | 1 | 12 | 370 |\n",
       "| NDYGPPRGSYGGSRGGYDGPR | AATGATTACGGTCCTCCAAGAGGTAGCTACGGTGGTTCAAGAGGTGGTTATGATGGTCCAAGA | pd_pg | YDR432W | NPL3 | Verified | endo_stall | 3 | 3 | 3 |  7 | 2 | 12 | 381 |\n",
       "| LLPSPDLPGSDDPIAGDPDVD | CTTCTACCTTCCCCGGATCTCCCGGGTAGCGATGACCCTATTGCAGGTGATCCTGATGTAGAC | pd_pg | YDR456W | NHX1 | Verified | endo_stall | 0 | 5 | 5 |  2 | 6 | 16 |  40 |\n",
       "| RAVDPDDDDELLPSPDLPGSD | AGAGCAGTTGATCCTGACGATGATGATGAACTTCTACCTTCCCCGGATCTCCCGGGTAGCGAT | pd_pg | YDR456W | NHX1 | Verified | endo_stall | 1 | 4 | 4 |  1 | 7 | 15 |  30 |\n",
       "| GGFGGPGGPGGQGFGRQGPQG | GGTGGATTTGGCGGTCCAGGCGGCCCTGGCGGTCAAGGTTTCGGAAGACAAGGCCCACAAGGA | pd_pg | YNL208W | NA   | Verified | endo_stall | 1 | 2 | 3 | 12 | 0 | 17 | 134 |\n",
       "| GRQGPQGFGGPGPQEFGGPGG | GGAAGACAAGGCCCACAAGGATTTGGAGGTCCTGGTCCACAAGAGTTTGGTGGTCCAGGTGGC | pd_pg | YNL208W | NA   | Verified | endo_stall | 1 | 2 | 4 | 10 | 0 | 17 | 148 |\n",
       "\n"
      ],
      "text/plain": [
       "  motif                \n",
       "1 GGSRGGYDGPRGDYGPPRDAY\n",
       "2 GYSRGGYGGPRNDYGPPRGSY\n",
       "3 NDYGPPRGSYGGSRGGYDGPR\n",
       "4 LLPSPDLPGSDDPIAGDPDVD\n",
       "5 RAVDPDDDDELLPSPDLPGSD\n",
       "6 GGFGGPGGPGGQGFGRQGPQG\n",
       "7 GRQGPQGFGGPGPQEFGGPGG\n",
       "  nt63                                                            type  id     \n",
       "1 GGTGGTTCAAGAGGTGGTTATGATGGTCCAAGAGGCGATTATGGTCCTCCAAGAGATGCATAC pd_pg YDR432W\n",
       "2 GGTTATTCCAGAGGTGGCTATGGTGGTCCAAGAAATGATTACGGTCCTCCAAGAGGTAGCTAC pd_pg YDR432W\n",
       "3 AATGATTACGGTCCTCCAAGAGGTAGCTACGGTGGTTCAAGAGGTGGTTATGATGGTCCAAGA pd_pg YDR432W\n",
       "4 CTTCTACCTTCCCCGGATCTCCCGGGTAGCGATGACCCTATTGCAGGTGATCCTGATGTAGAC pd_pg YDR456W\n",
       "5 AGAGCAGTTGATCCTGACGATGATGATGAACTTCTACCTTCCCCGGATCTCCCGGGTAGCGAT pd_pg YDR456W\n",
       "6 GGTGGATTTGGCGGTCCAGGCGGCCCTGGCGGTCAAGGTTTCGGAAGACAAGGCCCACAAGGA pd_pg YNL208W\n",
       "7 GGAAGACAAGGCCCACAAGGATTTGGAGGTCCTGGTCCACAAGAGTTTGGTGGTCCAGGTGGC pd_pg YNL208W\n",
       "  gene orf_classification class      positive bulky p g  d strength loc\n",
       "1 NPL3 Verified           endo_stall 3        3     3  7 3 13       391\n",
       "2 NPL3 Verified           endo_stall 3        4     3  7 1 12       370\n",
       "3 NPL3 Verified           endo_stall 3        3     3  7 2 12       381\n",
       "4 NHX1 Verified           endo_stall 0        5     5  2 6 16        40\n",
       "5 NHX1 Verified           endo_stall 1        4     4  1 7 15        30\n",
       "6 NA   Verified           endo_stall 1        2     3 12 0 17       134\n",
       "7 NA   Verified           endo_stall 1        2     4 10 0 17       148"
      ]
     },
     "metadata": {},
     "output_type": "display_data"
    }
   ],
   "source": [
    "subset_motifs_cntrls_ala %>%\n",
    "    filter(id %in% multiple_motifs_per_id) %>%\n",
    "    filter(class == 'endo_stall') %>%\n",
    "    arrange(id)\n"
   ]
  },
  {
   "cell_type": "markdown",
   "metadata": {},
   "source": [
    "## Include some highly positive endogenous controls\n",
    "- I want to rule out the idea/possibility that it's just the repetitive structure of the dicodon insert that causes stalling. \n",
    "- I suspect that any endogenous motifs with lots of K/R will also stall/get destabilized in a reporter context (even though they don't stall endogenously according to Barros2020)\n",
    "- So these irregular K/R-heavy motifs can be additional K/R positive controls while also showing that the dicodon repeat structure is not what causes stalling"
   ]
  },
  {
   "cell_type": "code",
   "execution_count": 58,
   "metadata": {
    "vscode": {
     "languageId": "r"
    }
   },
   "outputs": [
    {
     "data": {
      "text/html": [
       "<table class=\"dataframe\">\n",
       "<caption>A tibble: 12 × 12</caption>\n",
       "<thead>\n",
       "\t<tr><th scope=col>id</th><th scope=col>strength</th><th scope=col>loc</th><th scope=col>motif</th><th scope=col>nt63</th><th scope=col>type</th><th scope=col>positive</th><th scope=col>bulky</th><th scope=col>p</th><th scope=col>g</th><th scope=col>d</th><th scope=col>class</th></tr>\n",
       "\t<tr><th scope=col>&lt;chr&gt;</th><th scope=col>&lt;dbl&gt;</th><th scope=col>&lt;dbl&gt;</th><th scope=col>&lt;chr&gt;</th><th scope=col>&lt;chr&gt;</th><th scope=col>&lt;chr&gt;</th><th scope=col>&lt;int&gt;</th><th scope=col>&lt;int&gt;</th><th scope=col>&lt;int&gt;</th><th scope=col>&lt;int&gt;</th><th scope=col>&lt;int&gt;</th><th scope=col>&lt;chr&gt;</th></tr>\n",
       "</thead>\n",
       "<tbody>\n",
       "\t<tr><td>YOR309C</td><td>24.0</td><td> 55</td><td>KLRRKRRTRRKRRKRRKRRRR</td><td>AAGCTAAGAAGGAAAAGAAGGACAAGAAGGAAAAGAAGGAAAAGAAGGAAAAGAAGGAGAAGA</td><td>posbulky</td><td>19</td><td>1</td><td>0</td><td>0</td><td>0</td><td>endo_kr_cntrl</td></tr>\n",
       "\t<tr><td>YOR053W</td><td>21.0</td><td> 49</td><td>HRRHHRRHHHHRRRRRRRRRR</td><td>CATCGTCGTCATCATCGTCGTCATCATCATCATCGTCGTCGTCGTCGTCGTCGTCGTCGTCGT</td><td>posbulky</td><td>14</td><td>0</td><td>0</td><td>0</td><td>0</td><td>endo_kr_cntrl</td></tr>\n",
       "\t<tr><td>YBL091C</td><td>19.0</td><td> 40</td><td>AKADESDPVESKKKKNKKKKK</td><td>GCAAAAGCTGACGAGTCAGACCCAGTAGAAAGCAAAAAGAAGAAGAACAAGAAAAAGAAGAAG</td><td>posbulky</td><td>10</td><td>1</td><td>1</td><td>0</td><td>2</td><td>endo_kr_cntrl</td></tr>\n",
       "\t<tr><td>YLR204W</td><td>18.5</td><td> 91</td><td>MRKRKKKMKKHKLRKRRKREK</td><td>ATGAGAAAGAGGAAAAAAAAGATGAAGAAACACAAACTGCGGAAAAGAAGAAAGAGGGAGAAG</td><td>posbulky</td><td>16</td><td>1</td><td>0</td><td>0</td><td>0</td><td>endo_kr_cntrl</td></tr>\n",
       "\t<tr><td>YDR033W</td><td>18.0</td><td>301</td><td>RPAATPNLSKDKKKKSKKSKK</td><td>AGACCTGCTGCTACACCAAACTTGAGTAAGGACAAGAAAAAGAAGTCTAAGAAGAGCAAGAAA</td><td>posbulky</td><td>10</td><td>1</td><td>2</td><td>0</td><td>1</td><td>endo_kr_cntrl</td></tr>\n",
       "\t<tr><td>⋮</td><td>⋮</td><td>⋮</td><td>⋮</td><td>⋮</td><td>⋮</td><td>⋮</td><td>⋮</td><td>⋮</td><td>⋮</td><td>⋮</td><td>⋮</td></tr>\n",
       "\t<tr><td>YLR175W</td><td>18</td><td> 451</td><td>KDKKEKKEKKEKKDKKEKKEK</td><td>AAGGACAAGAAGGAAAAGAAGGAAAAGAAAGAAAAGAAGGACAAGAAGGAAAAGAAAGAGAAA</td><td>posbulky</td><td>14</td><td>0</td><td>0</td><td>0</td><td>2</td><td>endo_kr_cntrl</td></tr>\n",
       "\t<tr><td>YLR197W</td><td>18</td><td> 485</td><td>KEKKEKKEKKDKKEKKDKKEK</td><td>AAGGAAAAGAAAGAAAAGAAGGAAAAGAAGGACAAAAAGGAAAAGAAAGATAAAAAGGAAAAG</td><td>posbulky</td><td>14</td><td>0</td><td>0</td><td>0</td><td>2</td><td>endo_kr_cntrl</td></tr>\n",
       "\t<tr><td>YMR219W</td><td>18</td><td>1609</td><td>ETNREKDKTKAKKKSRKRNYN</td><td>GAAACAAACCGCGAAAAGGACAAAACTAAAGCAAAAAAGAAAAGCCGTAAAAGAAACTACAAC</td><td>posbulky</td><td>10</td><td>1</td><td>0</td><td>0</td><td>1</td><td>endo_kr_cntrl</td></tr>\n",
       "\t<tr><td>YMR269W</td><td>18</td><td> 157</td><td>KDKKTSNDSESKKKKKKKSKK</td><td>AAAGATAAAAAGACTAGTAACGACAGTGAGAGTAAGAAGAAGAAGAAGAAGAAAAGCAAGAAG</td><td>posbulky</td><td>12</td><td>0</td><td>0</td><td>0</td><td>2</td><td>endo_kr_cntrl</td></tr>\n",
       "\t<tr><td>YOR309C</td><td>18</td><td>  76</td><td>KRRKRRRKRSPRKRRKRRNKD</td><td>AAGAGAAGAAAGAGAAGAAGGAAAAGAAGTCCAAGAAAGAGAAGAAAGAGAAGAAATAAGGAT</td><td>posbulky</td><td>17</td><td>0</td><td>1</td><td>0</td><td>1</td><td>endo_kr_cntrl</td></tr>\n",
       "</tbody>\n",
       "</table>\n"
      ],
      "text/latex": [
       "A tibble: 12 × 12\n",
       "\\begin{tabular}{llllllllllll}\n",
       " id & strength & loc & motif & nt63 & type & positive & bulky & p & g & d & class\\\\\n",
       " <chr> & <dbl> & <dbl> & <chr> & <chr> & <chr> & <int> & <int> & <int> & <int> & <int> & <chr>\\\\\n",
       "\\hline\n",
       "\t YOR309C & 24.0 &  55 & KLRRKRRTRRKRRKRRKRRRR & AAGCTAAGAAGGAAAAGAAGGACAAGAAGGAAAAGAAGGAAAAGAAGGAAAAGAAGGAGAAGA & posbulky & 19 & 1 & 0 & 0 & 0 & endo\\_kr\\_cntrl\\\\\n",
       "\t YOR053W & 21.0 &  49 & HRRHHRRHHHHRRRRRRRRRR & CATCGTCGTCATCATCGTCGTCATCATCATCATCGTCGTCGTCGTCGTCGTCGTCGTCGTCGT & posbulky & 14 & 0 & 0 & 0 & 0 & endo\\_kr\\_cntrl\\\\\n",
       "\t YBL091C & 19.0 &  40 & AKADESDPVESKKKKNKKKKK & GCAAAAGCTGACGAGTCAGACCCAGTAGAAAGCAAAAAGAAGAAGAACAAGAAAAAGAAGAAG & posbulky & 10 & 1 & 1 & 0 & 2 & endo\\_kr\\_cntrl\\\\\n",
       "\t YLR204W & 18.5 &  91 & MRKRKKKMKKHKLRKRRKREK & ATGAGAAAGAGGAAAAAAAAGATGAAGAAACACAAACTGCGGAAAAGAAGAAAGAGGGAGAAG & posbulky & 16 & 1 & 0 & 0 & 0 & endo\\_kr\\_cntrl\\\\\n",
       "\t YDR033W & 18.0 & 301 & RPAATPNLSKDKKKKSKKSKK & AGACCTGCTGCTACACCAAACTTGAGTAAGGACAAGAAAAAGAAGTCTAAGAAGAGCAAGAAA & posbulky & 10 & 1 & 2 & 0 & 1 & endo\\_kr\\_cntrl\\\\\n",
       "\t ⋮ & ⋮ & ⋮ & ⋮ & ⋮ & ⋮ & ⋮ & ⋮ & ⋮ & ⋮ & ⋮ & ⋮\\\\\n",
       "\t YLR175W & 18 &  451 & KDKKEKKEKKEKKDKKEKKEK & AAGGACAAGAAGGAAAAGAAGGAAAAGAAAGAAAAGAAGGACAAGAAGGAAAAGAAAGAGAAA & posbulky & 14 & 0 & 0 & 0 & 2 & endo\\_kr\\_cntrl\\\\\n",
       "\t YLR197W & 18 &  485 & KEKKEKKEKKDKKEKKDKKEK & AAGGAAAAGAAAGAAAAGAAGGAAAAGAAGGACAAAAAGGAAAAGAAAGATAAAAAGGAAAAG & posbulky & 14 & 0 & 0 & 0 & 2 & endo\\_kr\\_cntrl\\\\\n",
       "\t YMR219W & 18 & 1609 & ETNREKDKTKAKKKSRKRNYN & GAAACAAACCGCGAAAAGGACAAAACTAAAGCAAAAAAGAAAAGCCGTAAAAGAAACTACAAC & posbulky & 10 & 1 & 0 & 0 & 1 & endo\\_kr\\_cntrl\\\\\n",
       "\t YMR269W & 18 &  157 & KDKKTSNDSESKKKKKKKSKK & AAAGATAAAAAGACTAGTAACGACAGTGAGAGTAAGAAGAAGAAGAAGAAGAAAAGCAAGAAG & posbulky & 12 & 0 & 0 & 0 & 2 & endo\\_kr\\_cntrl\\\\\n",
       "\t YOR309C & 18 &   76 & KRRKRRRKRSPRKRRKRRNKD & AAGAGAAGAAAGAGAAGAAGGAAAAGAAGTCCAAGAAAGAGAAGAAAGAGAAGAAATAAGGAT & posbulky & 17 & 0 & 1 & 0 & 1 & endo\\_kr\\_cntrl\\\\\n",
       "\\end{tabular}\n"
      ],
      "text/markdown": [
       "\n",
       "A tibble: 12 × 12\n",
       "\n",
       "| id &lt;chr&gt; | strength &lt;dbl&gt; | loc &lt;dbl&gt; | motif &lt;chr&gt; | nt63 &lt;chr&gt; | type &lt;chr&gt; | positive &lt;int&gt; | bulky &lt;int&gt; | p &lt;int&gt; | g &lt;int&gt; | d &lt;int&gt; | class &lt;chr&gt; |\n",
       "|---|---|---|---|---|---|---|---|---|---|---|---|\n",
       "| YOR309C | 24.0 |  55 | KLRRKRRTRRKRRKRRKRRRR | AAGCTAAGAAGGAAAAGAAGGACAAGAAGGAAAAGAAGGAAAAGAAGGAAAAGAAGGAGAAGA | posbulky | 19 | 1 | 0 | 0 | 0 | endo_kr_cntrl |\n",
       "| YOR053W | 21.0 |  49 | HRRHHRRHHHHRRRRRRRRRR | CATCGTCGTCATCATCGTCGTCATCATCATCATCGTCGTCGTCGTCGTCGTCGTCGTCGTCGT | posbulky | 14 | 0 | 0 | 0 | 0 | endo_kr_cntrl |\n",
       "| YBL091C | 19.0 |  40 | AKADESDPVESKKKKNKKKKK | GCAAAAGCTGACGAGTCAGACCCAGTAGAAAGCAAAAAGAAGAAGAACAAGAAAAAGAAGAAG | posbulky | 10 | 1 | 1 | 0 | 2 | endo_kr_cntrl |\n",
       "| YLR204W | 18.5 |  91 | MRKRKKKMKKHKLRKRRKREK | ATGAGAAAGAGGAAAAAAAAGATGAAGAAACACAAACTGCGGAAAAGAAGAAAGAGGGAGAAG | posbulky | 16 | 1 | 0 | 0 | 0 | endo_kr_cntrl |\n",
       "| YDR033W | 18.0 | 301 | RPAATPNLSKDKKKKSKKSKK | AGACCTGCTGCTACACCAAACTTGAGTAAGGACAAGAAAAAGAAGTCTAAGAAGAGCAAGAAA | posbulky | 10 | 1 | 2 | 0 | 1 | endo_kr_cntrl |\n",
       "| ⋮ | ⋮ | ⋮ | ⋮ | ⋮ | ⋮ | ⋮ | ⋮ | ⋮ | ⋮ | ⋮ | ⋮ |\n",
       "| YLR175W | 18 |  451 | KDKKEKKEKKEKKDKKEKKEK | AAGGACAAGAAGGAAAAGAAGGAAAAGAAAGAAAAGAAGGACAAGAAGGAAAAGAAAGAGAAA | posbulky | 14 | 0 | 0 | 0 | 2 | endo_kr_cntrl |\n",
       "| YLR197W | 18 |  485 | KEKKEKKEKKDKKEKKDKKEK | AAGGAAAAGAAAGAAAAGAAGGAAAAGAAGGACAAAAAGGAAAAGAAAGATAAAAAGGAAAAG | posbulky | 14 | 0 | 0 | 0 | 2 | endo_kr_cntrl |\n",
       "| YMR219W | 18 | 1609 | ETNREKDKTKAKKKSRKRNYN | GAAACAAACCGCGAAAAGGACAAAACTAAAGCAAAAAAGAAAAGCCGTAAAAGAAACTACAAC | posbulky | 10 | 1 | 0 | 0 | 1 | endo_kr_cntrl |\n",
       "| YMR269W | 18 |  157 | KDKKTSNDSESKKKKKKKSKK | AAAGATAAAAAGACTAGTAACGACAGTGAGAGTAAGAAGAAGAAGAAGAAGAAAAGCAAGAAG | posbulky | 12 | 0 | 0 | 0 | 2 | endo_kr_cntrl |\n",
       "| YOR309C | 18 |   76 | KRRKRRRKRSPRKRRKRRNKD | AAGAGAAGAAAGAGAAGAAGGAAAAGAAGTCCAAGAAAGAGAAGAAAGAGAAGAAATAAGGAT | posbulky | 17 | 0 | 1 | 0 | 1 | endo_kr_cntrl |\n",
       "\n"
      ],
      "text/plain": [
       "   id      strength loc  motif                \n",
       "1  YOR309C 24.0      55  KLRRKRRTRRKRRKRRKRRRR\n",
       "2  YOR053W 21.0      49  HRRHHRRHHHHRRRRRRRRRR\n",
       "3  YBL091C 19.0      40  AKADESDPVESKKKKNKKKKK\n",
       "4  YLR204W 18.5      91  MRKRKKKMKKHKLRKRRKREK\n",
       "5  YDR033W 18.0     301  RPAATPNLSKDKKKKSKKSKK\n",
       "⋮  ⋮       ⋮        ⋮    ⋮                    \n",
       "8  YLR175W 18        451 KDKKEKKEKKEKKDKKEKKEK\n",
       "9  YLR197W 18        485 KEKKEKKEKKDKKEKKDKKEK\n",
       "10 YMR219W 18       1609 ETNREKDKTKAKKKSRKRNYN\n",
       "11 YMR269W 18        157 KDKKTSNDSESKKKKKKKSKK\n",
       "12 YOR309C 18         76 KRRKRRRKRSPRKRRKRRNKD\n",
       "   nt63                                                            type    \n",
       "1  AAGCTAAGAAGGAAAAGAAGGACAAGAAGGAAAAGAAGGAAAAGAAGGAAAAGAAGGAGAAGA posbulky\n",
       "2  CATCGTCGTCATCATCGTCGTCATCATCATCATCGTCGTCGTCGTCGTCGTCGTCGTCGTCGT posbulky\n",
       "3  GCAAAAGCTGACGAGTCAGACCCAGTAGAAAGCAAAAAGAAGAAGAACAAGAAAAAGAAGAAG posbulky\n",
       "4  ATGAGAAAGAGGAAAAAAAAGATGAAGAAACACAAACTGCGGAAAAGAAGAAAGAGGGAGAAG posbulky\n",
       "5  AGACCTGCTGCTACACCAAACTTGAGTAAGGACAAGAAAAAGAAGTCTAAGAAGAGCAAGAAA posbulky\n",
       "⋮  ⋮                                                               ⋮       \n",
       "8  AAGGACAAGAAGGAAAAGAAGGAAAAGAAAGAAAAGAAGGACAAGAAGGAAAAGAAAGAGAAA posbulky\n",
       "9  AAGGAAAAGAAAGAAAAGAAGGAAAAGAAGGACAAAAAGGAAAAGAAAGATAAAAAGGAAAAG posbulky\n",
       "10 GAAACAAACCGCGAAAAGGACAAAACTAAAGCAAAAAAGAAAAGCCGTAAAAGAAACTACAAC posbulky\n",
       "11 AAAGATAAAAAGACTAGTAACGACAGTGAGAGTAAGAAGAAGAAGAAGAAGAAAAGCAAGAAG posbulky\n",
       "12 AAGAGAAGAAAGAGAAGAAGGAAAAGAAGTCCAAGAAAGAGAAGAAAGAGAAGAAATAAGGAT posbulky\n",
       "   positive bulky p g d class        \n",
       "1  19       1     0 0 0 endo_kr_cntrl\n",
       "2  14       0     0 0 0 endo_kr_cntrl\n",
       "3  10       1     1 0 2 endo_kr_cntrl\n",
       "4  16       1     0 0 0 endo_kr_cntrl\n",
       "5  10       1     2 0 1 endo_kr_cntrl\n",
       "⋮  ⋮        ⋮     ⋮ ⋮ ⋮ ⋮            \n",
       "8  14       0     0 0 2 endo_kr_cntrl\n",
       "9  14       0     0 0 2 endo_kr_cntrl\n",
       "10 10       1     0 0 1 endo_kr_cntrl\n",
       "11 12       0     0 0 2 endo_kr_cntrl\n",
       "12 17       0     1 0 1 endo_kr_cntrl"
      ]
     },
     "metadata": {},
     "output_type": "display_data"
    }
   ],
   "source": [
    "endogenous_kr_motfs <- motifs %>%\n",
    "    filter(positive >= 10 & bulky <= 1) %>%\n",
    "    filter(strength >= 18) %>% # arbitrary, just keep ~10\n",
    "    mutate(class = 'endo_kr_cntrl')\n",
    "\n",
    "endogenous_kr_motfs"
   ]
  },
  {
   "cell_type": "markdown",
   "metadata": {},
   "source": [
    "## Merge all into one final dataframe"
   ]
  },
  {
   "cell_type": "code",
   "execution_count": 59,
   "metadata": {
    "vscode": {
     "languageId": "r"
    }
   },
   "outputs": [
    {
     "name": "stdout",
     "output_type": "stream",
     "text": [
      "\u001b[90m# A tibble: 171 × 14\u001b[39m\n",
      "   motif   nt63  type  id    gene  orf_c…¹ class posit…² bulky     p     g     d\n",
      "   \u001b[3m\u001b[90m<chr>\u001b[39m\u001b[23m   \u001b[3m\u001b[90m<chr>\u001b[39m\u001b[23m \u001b[3m\u001b[90m<chr>\u001b[39m\u001b[23m \u001b[3m\u001b[90m<chr>\u001b[39m\u001b[23m \u001b[3m\u001b[90m<chr>\u001b[39m\u001b[23m \u001b[3m\u001b[90m<chr>\u001b[39m\u001b[23m   \u001b[3m\u001b[90m<chr>\u001b[39m\u001b[23m   \u001b[3m\u001b[90m<int>\u001b[39m\u001b[23m \u001b[3m\u001b[90m<int>\u001b[39m\u001b[23m \u001b[3m\u001b[90m<int>\u001b[39m\u001b[23m \u001b[3m\u001b[90m<int>\u001b[39m\u001b[23m \u001b[3m\u001b[90m<int>\u001b[39m\u001b[23m\n",
      "\u001b[90m 1\u001b[39m KRAAAR… AAGC… posb… YAR0… \u001b[31mNA\u001b[39m    ala_co… endo…       7     0     0     0     0\n",
      "\u001b[90m 2\u001b[39m TREARA… ACTA… posb… YBL0… RPL1… ala_co… endo…       7     0     1     0     0\n",
      "\u001b[90m 3\u001b[39m AATKAK… GCAG… FK    YBR1… OPY1  ala_co… endo…       8     0     0     0     0\n",
      "\u001b[90m 4\u001b[39m KAAGKK… AAAG… FK    YCL0… SPB1  ala_co… endo…       8     0     0     1     1\n",
      "\u001b[90m 5\u001b[39m KAPRSS… AAAG… posb… YDL0… PRP9  ala_co… endo…       8     0     1     0     0\n",
      "\u001b[90m 6\u001b[39m AAKACH… GCAG… posb… YDL0… GPR1  ala_co… endo…       6     0     0     3     0\n",
      "\u001b[90m 7\u001b[39m EAASRA… GAAG… posb… YDL0… MBP1  ala_co… endo…       7     0     0     0     0\n",
      "\u001b[90m 8\u001b[39m SRAKAK… AGCC… FK    YDR0… RAD28 ala_co… endo…       8     0     0     0     1\n",
      "\u001b[90m 9\u001b[39m DAAAED… GATG… posb… YEL0… SDD1  ala_co… endo…       7     0     0     0     3\n",
      "\u001b[90m10\u001b[39m KKQAEE… AAAA… posb… YER0… TSC11 ala_co… endo…       6     0     0     0     0\n",
      "\u001b[90m# … with 161 more rows, 2 more variables: strength <dbl>, loc <dbl>, and\u001b[39m\n",
      "\u001b[90m#   abbreviated variable names ¹​orf_classification, ²​positive\u001b[39m\n"
     ]
    }
   ],
   "source": [
    "stall_motifs_controls <- bind_rows(subset_motifs_cntrls_ala, endogenous_kr_motfs) %>%\n",
    "    print()"
   ]
  },
  {
   "cell_type": "code",
   "execution_count": 60,
   "metadata": {
    "vscode": {
     "languageId": "r"
    }
   },
   "outputs": [
    {
     "name": "stderr",
     "output_type": "stream",
     "text": [
      "\u001b[1m\u001b[22m`summarise()` has grouped output by 'class'. You can override using the\n",
      "`.groups` argument.\n"
     ]
    },
    {
     "data": {
      "text/html": [
       "<table class=\"dataframe\">\n",
       "<caption>A grouped_df: 4 × 3</caption>\n",
       "<thead>\n",
       "\t<tr><th scope=col>class</th><th scope=col>len</th><th scope=col>dplyr::n()</th></tr>\n",
       "\t<tr><th scope=col>&lt;chr&gt;</th><th scope=col>&lt;int&gt;</th><th scope=col>&lt;int&gt;</th></tr>\n",
       "</thead>\n",
       "<tbody>\n",
       "\t<tr><td>endo_ala_cntrl</td><td>21</td><td>66</td></tr>\n",
       "\t<tr><td>endo_kr_cntrl </td><td>21</td><td>12</td></tr>\n",
       "\t<tr><td>endo_nostall  </td><td>21</td><td>27</td></tr>\n",
       "\t<tr><td>endo_stall    </td><td>21</td><td>66</td></tr>\n",
       "</tbody>\n",
       "</table>\n"
      ],
      "text/latex": [
       "A grouped\\_df: 4 × 3\n",
       "\\begin{tabular}{lll}\n",
       " class & len & dplyr::n()\\\\\n",
       " <chr> & <int> & <int>\\\\\n",
       "\\hline\n",
       "\t endo\\_ala\\_cntrl & 21 & 66\\\\\n",
       "\t endo\\_kr\\_cntrl  & 21 & 12\\\\\n",
       "\t endo\\_nostall   & 21 & 27\\\\\n",
       "\t endo\\_stall     & 21 & 66\\\\\n",
       "\\end{tabular}\n"
      ],
      "text/markdown": [
       "\n",
       "A grouped_df: 4 × 3\n",
       "\n",
       "| class &lt;chr&gt; | len &lt;int&gt; | dplyr::n() &lt;int&gt; |\n",
       "|---|---|---|\n",
       "| endo_ala_cntrl | 21 | 66 |\n",
       "| endo_kr_cntrl  | 21 | 12 |\n",
       "| endo_nostall   | 21 | 27 |\n",
       "| endo_stall     | 21 | 66 |\n",
       "\n"
      ],
      "text/plain": [
       "  class          len dplyr::n()\n",
       "1 endo_ala_cntrl 21  66        \n",
       "2 endo_kr_cntrl  21  12        \n",
       "3 endo_nostall   21  27        \n",
       "4 endo_stall     21  66        "
      ]
     },
     "metadata": {},
     "output_type": "display_data"
    }
   ],
   "source": [
    "stall_motifs_controls %>%\n",
    "    mutate(len = nchar(motif)) %>%\n",
    "    group_by(class, len) %>%\n",
    "    summarize(dplyr::n())"
   ]
  },
  {
   "cell_type": "code",
   "execution_count": 61,
   "metadata": {
    "vscode": {
     "languageId": "r"
    }
   },
   "outputs": [],
   "source": [
    "stall_motifs_controls %>%\n",
    "    write_tsv(\"../data/motifs/stall_motifs_controls.tsv\")"
   ]
  }
 ],
 "metadata": {
  "kernelspec": {
   "display_name": "R_project_repo_1.13.0",
   "language": "R",
   "name": "ir_project_repo_1.13.0"
  },
  "language_info": {
   "codemirror_mode": "r",
   "file_extension": ".r",
   "mimetype": "text/x-r-source",
   "name": "R",
   "pygments_lexer": "r",
   "version": "4.1.3"
  },
  "orig_nbformat": 4
 },
 "nbformat": 4,
 "nbformat_minor": 2
}
