{
 "cells": [
  {
   "cell_type": "code",
   "execution_count": 1,
   "metadata": {
    "vscode": {
     "languageId": "r"
    }
   },
   "outputs": [],
   "source": [
    "suppressPackageStartupMessages(library(Biostrings))\n",
    "suppressPackageStartupMessages(library(tidyverse))\n",
    "suppressPackageStartupMessages(library(plyranges))\n",
    "suppressPackageStartupMessages(library(rasilabRtemplates))"
   ]
  },
  {
   "cell_type": "code",
   "execution_count": null,
   "metadata": {
    "vscode": {
     "languageId": "r"
    }
   },
   "outputs": [],
   "source": [
    "if (!file.exists('../data')){\n",
    "    dir.create('../data')\n",
    "}\n",
    "\n",
    "if (!file.exists('../data/sgd')){\n",
    "    dir.create('../data/sgd')\n",
    "}"
   ]
  },
  {
   "cell_type": "code",
   "execution_count": 2,
   "metadata": {
    "vscode": {
     "languageId": "r"
    }
   },
   "outputs": [],
   "source": [
    "genome <- BSgenome.Scerevisiae.UCSC.sacCer3::BSgenome.Scerevisiae.UCSC.sacCer3\n",
    "annotations <- read_gff3(\"../db/S288C_reference_genome_R64-3-1_20210421/sgd_gene_annotations.gff3\")"
   ]
  },
  {
   "cell_type": "code",
   "execution_count": 5,
   "metadata": {
    "vscode": {
     "languageId": "r"
    }
   },
   "outputs": [
    {
     "name": "stdout",
     "output_type": "stream",
     "text": [
      "GRangesList object of length 6704:\n",
      "$Q0010\n",
      "GRanges object with 1 range and 18 metadata columns:\n",
      "      seqnames    ranges strand |   source     type     score     phase\n",
      "         <Rle> <IRanges>  <Rle> | <factor> <factor> <numeric> <integer>\n",
      "  [1]     chrM 3952-4338      + |      SGD      CDS        NA         0\n",
      "               ID        Name Ontology_term   Note     display      dbxref\n",
      "      <character> <character>        <list> <list> <character> <character>\n",
      "  [1]        <NA>       Q0010                             <NA>        <NA>\n",
      "      orf_classification       curie     Parent       protein_id        gene\n",
      "             <character> <character>     <list>      <character> <character>\n",
      "  [1]            Dubious        <NA> Q0010_mRNA UniProtKB:Q9ZZX9        <NA>\n",
      "       Alias transcript_id conditions\n",
      "      <list>   <character>     <list>\n",
      "  [1]                 <NA>           \n",
      "  -------\n",
      "  seqinfo: 17 sequences from an unspecified genome; no seqlengths\n",
      "\n",
      "$Q0017\n",
      "GRanges object with 1 range and 18 metadata columns:\n",
      "      seqnames    ranges strand |   source     type     score     phase\n",
      "         <Rle> <IRanges>  <Rle> | <factor> <factor> <numeric> <integer>\n",
      "  [1]     chrM 4254-4415      + |      SGD      CDS        NA         0\n",
      "               ID        Name Ontology_term   Note     display      dbxref\n",
      "      <character> <character>        <list> <list> <character> <character>\n",
      "  [1]        <NA>       Q0017                             <NA>        <NA>\n",
      "      orf_classification       curie     Parent       protein_id        gene\n",
      "             <character> <character>     <list>      <character> <character>\n",
      "  [1]            Dubious        <NA> Q0017_mRNA UniProtKB:Q9ZZX8        <NA>\n",
      "       Alias transcript_id conditions\n",
      "      <list>   <character>     <list>\n",
      "  [1]                 <NA>           \n",
      "  -------\n",
      "  seqinfo: 17 sequences from an unspecified genome; no seqlengths\n",
      "\n",
      "$Q0032\n",
      "GRanges object with 1 range and 18 metadata columns:\n",
      "      seqnames      ranges strand |   source     type     score     phase\n",
      "         <Rle>   <IRanges>  <Rle> | <factor> <factor> <numeric> <integer>\n",
      "  [1]     chrM 11667-11957      + |      SGD      CDS        NA         0\n",
      "               ID        Name Ontology_term   Note     display      dbxref\n",
      "      <character> <character>        <list> <list> <character> <character>\n",
      "  [1]        <NA>       Q0032                             <NA>        <NA>\n",
      "      orf_classification       curie     Parent       protein_id        gene\n",
      "             <character> <character>     <list>      <character> <character>\n",
      "  [1]            Dubious        <NA> Q0032_mRNA UniProtKB:Q9ZZX7        <NA>\n",
      "       Alias transcript_id conditions\n",
      "      <list>   <character>     <list>\n",
      "  [1]                 <NA>           \n",
      "  -------\n",
      "  seqinfo: 17 sequences from an unspecified genome; no seqlengths\n",
      "\n",
      "...\n",
      "<6701 more elements>\n"
     ]
    }
   ],
   "source": [
    "cds <- annotations %>% # note that dubious and uncharacterized orfs are included\n",
    "  as_tibble() %>%\n",
    "  filter(type == \"CDS\") %>%\n",
    "  mutate(Name = str_replace(Name, \"_CDS\", \"\")) %>%\n",
    "  mutate(seqnames = str_replace(seqnames, \"chrmt\", \"chrM\")) %>%\n",
    "  GRanges() %>%\n",
    "  split(.$Name)"
   ]
  },
  {
   "cell_type": "code",
   "execution_count": 6,
   "metadata": {
    "vscode": {
     "languageId": "r"
    }
   },
   "outputs": [],
   "source": [
    "cdsseq <- GenomicFeatures::extractTranscriptSeqs(genome, cds)\n",
    "\n",
    "cdsseq %>%\n",
    "  writeXStringSet(\"../data/sgd/cds_coding.fasta\")"
   ]
  }
 ],
 "metadata": {
  "kernelspec": {
   "display_name": "R_project_repo_1.13.0",
   "language": "R",
   "name": "ir_project_repo_1.13.0"
  },
  "language_info": {
   "codemirror_mode": "r",
   "file_extension": ".r",
   "mimetype": "text/x-r-source",
   "name": "R",
   "pygments_lexer": "r",
   "version": "4.1.3"
  },
  "orig_nbformat": 4,
  "vscode": {
   "interpreter": {
    "hash": "27bcb26b70cc9b89b66fa5d78caf7590339c97b4860fa5e6e791a51c713097ab"
   }
  }
 },
 "nbformat": 4,
 "nbformat_minor": 2
}
