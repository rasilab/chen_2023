{
 "cells": [
  {
   "cell_type": "markdown",
   "metadata": {},
   "source": [
    "# Find destabilizing motifs in yeast CDSs"
   ]
  },
  {
   "cell_type": "code",
   "execution_count": null,
   "metadata": {
    "vscode": {
     "languageId": "shellscript"
    }
   },
   "outputs": [],
   "source": [
    "import os\n",
    "import matplotlib.pyplot as plt\n",
    "import pandas as pd\n",
    "import numpy as np\n",
    "np.random.seed(111)\n",
    "from Bio.Seq import Seq\n",
    "import pyfaidx\n",
    "import regex as re\n",
    "from scipy.signal import find_peaks"
   ]
  },
  {
   "cell_type": "code",
   "execution_count": null,
   "metadata": {
    "vscode": {
     "languageId": "shellscript"
    }
   },
   "outputs": [],
   "source": [
    "if not os.path.exists(\"../data\"):\n",
    "    os.makedirs(\"../data\")\n",
    "\n",
    "if not os.path.exists(\"../data/stallscores\"):\n",
    "    os.makedirs(\"../data/stallscores\")"
   ]
  },
  {
   "cell_type": "markdown",
   "metadata": {},
   "source": [
    "### Annotations\n",
    "- generated in ```get_sgd_orf_annotations.ipynb```\n",
    "  - note that Dubious and Uncharacterized ORFs were included"
   ]
  },
  {
   "cell_type": "code",
   "execution_count": null,
   "metadata": {
    "vscode": {
     "languageId": "shellscript"
    }
   },
   "outputs": [],
   "source": [
    "cdsseqs = pyfaidx.Fasta('../data/sgd/cds_coding.fasta')"
   ]
  },
  {
   "cell_type": "markdown",
   "metadata": {},
   "source": [
    "### Motif type designations"
   ]
  },
  {
   "cell_type": "code",
   "execution_count": null,
   "metadata": {
    "vscode": {
     "languageId": "shellscript"
    }
   },
   "outputs": [],
   "source": [
    "bulky=['L', 'I', 'V']\n",
    "more_bulky = ['W', 'F', 'Y']\n",
    "hydrophobic=['F', 'M', 'W', 'I', 'V', 'L', 'P', 'A']\n",
    "charged=['R', 'D', 'E', 'H', 'K']\n",
    "pos_charge=['R', 'K']\n",
    "not_bulky=['A', 'G']"
   ]
  },
  {
   "cell_type": "markdown",
   "metadata": {},
   "source": [
    "## Score peptides for bulkiness and charge"
   ]
  },
  {
   "cell_type": "markdown",
   "metadata": {},
   "source": [
    "### Score for presence of bulky/pos peptides in a gene\n",
    "- if you encounter either a positively charged or bulky amino acid, give it a +1\n",
    "- if you encounter a posbulky dipeptide, give it a +2\n",
    "- use np.convolve to reduce noise/smooth out the signal, or np.find_peaks to find local maxima"
   ]
  },
  {
   "cell_type": "code",
   "execution_count": null,
   "metadata": {
    "vscode": {
     "languageId": "shellscript"
    }
   },
   "outputs": [],
   "source": [
    "posbulky_scores = dict()\n",
    "for tx in cdsseqs.keys():\n",
    "    posbulky_scores[tx] = np.zeros(int(len(cdsseqs[tx])/3) - 1)\n",
    "    aa_seq = str(Seq(str(cdsseqs[tx])).translate()) # get peptide from DNA sequence\n",
    "    for pos, n in enumerate(range(len(aa_seq) - 1)):\n",
    "        if ((aa_seq[pos] in bulky) | (aa_seq[pos] in pos_charge)): # if you encounter either a poscharge or bulky aa\n",
    "            posbulky_scores[tx][pos] = 1\n",
    "        if ((aa_seq[pos] in more_bulky) | (aa_seq[pos] in pos_charge)):\n",
    "            posbulky_scores[tx][pos] = 1.5"
   ]
  },
  {
   "cell_type": "code",
   "execution_count": null,
   "metadata": {
    "vscode": {
     "languageId": "shellscript"
    }
   },
   "outputs": [],
   "source": [
    "scores = list()\n",
    "\n",
    "window_size = 16\n",
    "motif_size = 20 # actually 21 but keep it even\n",
    "\n",
    "for tx in posbulky_scores:\n",
    "    aa_seq = str(Seq(str(cdsseqs[tx])).translate())\n",
    "    # if len(aa_seq) < 50:\n",
    "    #     continue\n",
    "    convolution = np.convolve(posbulky_scores[tx], np.ones(window_size), mode='valid')\n",
    "    peaks, _ = find_peaks(convolution, height=10, distance=8)\n",
    "    mins = np.argmin(convolution)\n",
    "    pos_2N = np.hstack((peaks, mins))\n",
    "    for (loc, value) in zip(pos_2N, convolution[pos_2N]):\n",
    "        data = {'transcript_id': tx, \n",
    "                    'strength': value, \n",
    "                    'loc': loc,\n",
    "                    'motif': aa_seq[ int(loc - (motif_size/2)) -1: int(loc + (motif_size/2)) ],\n",
    "                    'nt63': str(cdsseqs[tx][ int( (3*loc) - ((3*motif_size)/2) -3) : int( (3*loc) + (((3*motif_size)/2)) ) ]),\n",
    "                }\n",
    "        scores.append(data)\n",
    "\n",
    "posbulky_score_df = pd.DataFrame(scores)\n",
    "posbulky_score_df['type'] = 'posbulky'\n",
    "posbulky_score_df.to_csv(\"../data/stallscores/posbulky_motif_scores_sgd_orfs.tsv\", sep=\"\\t\", index=False)"
   ]
  },
  {
   "cell_type": "markdown",
   "metadata": {},
   "source": [
    "## Scoring other motifs"
   ]
  },
  {
   "cell_type": "code",
   "execution_count": null,
   "metadata": {
    "vscode": {
     "languageId": "shellscript"
    }
   },
   "outputs": [],
   "source": [
    "def get_motifs_from_score(dicodon_scores, cdsseqs):\n",
    "    scores = list()\n",
    "    window_size = 16\n",
    "    motif_size=20\n",
    "\n",
    "    for tx in dicodon_scores:\n",
    "        aa_seq = str(Seq(str(cdsseqs[tx])).translate())\n",
    "        convolution = np.convolve(dicodon_scores[tx], np.ones(window_size), mode='same')\n",
    "        peaks, _ = find_peaks(convolution, height=10, distance=8)\n",
    "        mins = np.argmin(convolution)\n",
    "        pos_2N = np.hstack((peaks, mins))\n",
    "        for (loc, value) in zip(pos_2N, convolution[pos_2N]):\n",
    "            data = {'transcript_id': tx, \n",
    "                        'strength': value, \n",
    "                        'loc': loc,\n",
    "                        'motif': aa_seq[ int(loc - (motif_size/2)) -1: int(loc + (motif_size/2)) ],\n",
    "                        'nt63': str(cdsseqs[tx][ int( (3*loc) - ((3*motif_size)/2) -3) : int( (3*loc) + (((3*motif_size)/2)) ) ]),\n",
    "                    }\n",
    "            scores.append(data)\n",
    "\n",
    "    score_df = pd.DataFrame(scores)\n",
    "\n",
    "    return(score_df)"
   ]
  },
  {
   "cell_type": "markdown",
   "metadata": {},
   "source": [
    "### Score for specific stalling dipeptides"
   ]
  },
  {
   "cell_type": "code",
   "execution_count": null,
   "metadata": {
    "vscode": {
     "languageId": "shellscript"
    }
   },
   "outputs": [],
   "source": [
    "stall_dipeptides = ['FK', 'KF']\n",
    "pep = ['F', 'K', 'Y', 'W', 'R']"
   ]
  },
  {
   "cell_type": "code",
   "execution_count": null,
   "metadata": {
    "vscode": {
     "languageId": "shellscript"
    }
   },
   "outputs": [],
   "source": [
    "cds_dicodon_scores = dict()\n",
    "for tx in cdsseqs.keys():\n",
    "    cds_dicodon_scores[tx] = np.zeros(int(len(cdsseqs[tx])/3) - 1)\n",
    "    aa_seq = str(Seq(str(cdsseqs[tx])).translate())\n",
    "    for pos, n in enumerate(range(len(aa_seq) - 1)):\n",
    "        new_dipeptide = aa_seq[pos:pos+2]\n",
    "        if new_dipeptide in stall_dipeptides:\n",
    "            cds_dicodon_scores [tx][pos] = 2\n",
    "        elif ((aa_seq[pos] in pep) | (aa_seq[pos] in pep)):\n",
    "            cds_dicodon_scores [tx][pos] = 1"
   ]
  },
  {
   "cell_type": "code",
   "execution_count": null,
   "metadata": {
    "vscode": {
     "languageId": "shellscript"
    }
   },
   "outputs": [],
   "source": [
    "dipeptide_scores = get_motifs_from_score(cds_dicodon_scores, cdsseqs)\n",
    "dipeptide_scores['type'] = 'FK'\n",
    "dipeptide_scores.sort_values(by='strength', ascending=False)[:20]"
   ]
  },
  {
   "cell_type": "markdown",
   "metadata": {},
   "source": [
    "## Score for PG and PD"
   ]
  },
  {
   "cell_type": "code",
   "execution_count": null,
   "metadata": {
    "vscode": {
     "languageId": "shellscript"
    }
   },
   "outputs": [],
   "source": [
    "stall_dipeptides = ['PG', 'GP', 'PD', 'DP']\n",
    "pep = ['P', 'D', 'G']"
   ]
  },
  {
   "cell_type": "code",
   "execution_count": null,
   "metadata": {
    "vscode": {
     "languageId": "shellscript"
    }
   },
   "outputs": [],
   "source": [
    "cds_dicodon_scores = dict()\n",
    "for tx in cdsseqs.keys():\n",
    "    cds_dicodon_scores[tx] = np.zeros(int(len(cdsseqs[tx])/3) - 1)\n",
    "    aa_seq = str(Seq(str(cdsseqs[tx])).translate())\n",
    "    for pos, n in enumerate(range(len(aa_seq) - 1)):\n",
    "        new_dipeptide = aa_seq[pos:pos+2]\n",
    "        if new_dipeptide in stall_dipeptides:\n",
    "            cds_dicodon_scores [tx][pos] = 2\n",
    "        elif ((aa_seq[pos] in pep) | (aa_seq[pos] in pep)):\n",
    "            cds_dicodon_scores [tx][pos] = 1"
   ]
  },
  {
   "cell_type": "code",
   "execution_count": null,
   "metadata": {
    "vscode": {
     "languageId": "shellscript"
    }
   },
   "outputs": [],
   "source": [
    "pdg_scores = get_motifs_from_score(cds_dicodon_scores, cdsseqs)\n",
    "pdg_scores['type'] = 'pd_pg'\n",
    "pdg_scores.sort_values(by='strength', ascending=False)[:20]"
   ]
  },
  {
   "cell_type": "code",
   "execution_count": null,
   "metadata": {
    "vscode": {
     "languageId": "shellscript"
    }
   },
   "outputs": [],
   "source": [
    "dipep_scores = pd.concat([dipeptide_scores, pdg_scores]).reset_index().drop('index', axis=1)\n",
    "dipep_scores.to_csv(\"../data/stallscores/dipeptide_scores_sgd_orfs.tsv\", sep='\\t', index=False)"
   ]
  }
 ],
 "metadata": {
  "kernelspec": {
   "display_name": "Python 3.7.11 ('base')",
   "language": "python",
   "name": "python3"
  },
  "language_info": {
   "codemirror_mode": {
    "name": "ipython",
    "version": 3
   },
   "file_extension": ".py",
   "mimetype": "text/x-python",
   "name": "python",
   "nbconvert_exporter": "python",
   "pygments_lexer": "ipython3",
   "version": "3.7.11"
  },
  "orig_nbformat": 4,
  "vscode": {
   "interpreter": {
    "hash": "33ccdda4403b85622dcca6b225ea57e4a6a8ea27d62bd4ef32f6f7605d06a567"
   }
  }
 },
 "nbformat": 4,
 "nbformat_minor": 2
}
